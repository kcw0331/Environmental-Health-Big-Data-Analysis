{
  "nbformat": 4,
  "nbformat_minor": 0,
  "metadata": {
    "kernelspec": {
      "display_name": "Python 3",
      "language": "python",
      "name": "python3"
    },
    "language_info": {
      "codemirror_mode": {
        "name": "ipython",
        "version": 3
      },
      "file_extension": ".py",
      "mimetype": "text/x-python",
      "name": "python",
      "nbconvert_exporter": "python",
      "pygments_lexer": "ipython3",
      "version": "3.7.3"
    },
    "colab": {
      "name": "1-introducing_matplotlib.ipynb",
      "provenance": [],
      "include_colab_link": true
    }
  },
  "cells": [
    {
      "cell_type": "markdown",
      "metadata": {
        "id": "view-in-github",
        "colab_type": "text"
      },
      "source": [
        "<a href=\"https://colab.research.google.com/github/kcw0331/Environmental-Health-Big-Data-Analysis/blob/main/11%EC%A3%BC%EC%B0%A8/1-introducing_matplotlib.ipynb\" target=\"_parent\"><img src=\"https://colab.research.google.com/assets/colab-badge.svg\" alt=\"Open In Colab\"/></a>"
      ]
    },
    {
      "cell_type": "markdown",
      "metadata": {
        "id": "F_7Ktr5597Jx"
      },
      "source": [
        "# Getting Started with Matplotlib\n",
        "\n",
        "Pandas uses `matplotlib` to create visualizations. Therefore, before we learn how to plot with `pandas`, it's important to understand how `matplotlib` works at a high-level, which is the focus of this notebook.\n",
        "\n",
        "\n",
        "## About the Data\n",
        "In this notebook, we will be working with 2 datasets:\n",
        "- Facebook's stock price throughout 2018 (obtained using the [`stock_analysis` package](https://github.com/stefmolin/stock-analysis))\n",
        "- Earthquake data from September 18, 2018 - October 13, 2018 (obtained from the US Geological Survey (USGS) using the [USGS API](https://earthquake.usgs.gov/fdsnws/event/1/))\n",
        "\n",
        "## Setup\n",
        "We need to import `matplotlib.pyplot` for plotting."
      ]
    },
    {
      "cell_type": "code",
      "metadata": {
        "id": "cjrgdA-_-p7M",
        "outputId": "37a39844-4800-48be-ef05-9b842e7aa85a",
        "colab": {
          "base_uri": "https://localhost:8080/"
        }
      },
      "source": [
        "from google.colab import drive\n",
        "drive.mount('/content/drive')"
      ],
      "execution_count": 1,
      "outputs": [
        {
          "output_type": "stream",
          "name": "stdout",
          "text": [
            "Mounted at /content/drive\n"
          ]
        }
      ]
    },
    {
      "cell_type": "code",
      "metadata": {
        "id": "ck2-p9pI-v8c",
        "outputId": "ee3a7f4f-f0d7-4c56-9206-d5dccb83768f",
        "colab": {
          "base_uri": "https://localhost:8080/"
        }
      },
      "source": [
        "cd /content/drive/MyDrive/Hands-On-Data-Analysis-with-Pandas-2nd-edition/ch_05"
      ],
      "execution_count": 2,
      "outputs": [
        {
          "output_type": "stream",
          "name": "stdout",
          "text": [
            "/content/drive/MyDrive/Hands-On-Data-Analysis-with-Pandas-2nd-edition/ch_05\n"
          ]
        }
      ]
    },
    {
      "cell_type": "code",
      "metadata": {
        "id": "bRgHucFN97J0"
      },
      "source": [
        "import matplotlib.pyplot as plt\n",
        "import pandas as pd"
      ],
      "execution_count": 3,
      "outputs": []
    },
    {
      "cell_type": "markdown",
      "metadata": {
        "id": "QA1V_M0q--e0"
      },
      "source": [
        "* matplotlib안에서도 pyplot을 사용한다."
      ]
    },
    {
      "cell_type": "markdown",
      "metadata": {
        "id": "V-W9e8d497J1"
      },
      "source": [
        "## Plotting lines"
      ]
    },
    {
      "cell_type": "code",
      "metadata": {
        "id": "d0yR_PRu97J1",
        "outputId": "87ddb5ef-978b-430e-d90d-aa710b609368",
        "colab": {
          "base_uri": "https://localhost:8080/",
          "height": 269
        }
      },
      "source": [
        "fb = pd.read_csv(\n",
        "    'data/fb_stock_prices_2018.csv', index_col='date', parse_dates=True\n",
        ")\n",
        "\n",
        "plt.plot(fb.index, fb.open)\n",
        "plt.show()"
      ],
      "execution_count": 4,
      "outputs": [
        {
          "output_type": "display_data",
          "data": {
            "image/png": "[encoded data removed]",
            "text/plain": [
              "<Figure size 432x288 with 1 Axes>"
            ]
          },
          "metadata": {
            "needs_background": "light"
          }
        }
      ]
    },
    {
      "cell_type": "markdown",
      "metadata": {
        "id": "kEYHkugh_Hqe"
      },
      "source": [
        "* facebook의 prices의 데이터를 가지고와서 간단하게 시각화 시켜준 것이다. \n",
        "* x축은 fb.index를 사용하고, y축은 fb.open을 사용한다는 것을 알 수 있다. "
      ]
    },
    {
      "cell_type": "markdown",
      "metadata": {
        "id": "bF6xjyJg97J2"
      },
      "source": [
        "Since we are working in a Jupyter notebook, we can use the magic command `%matplotlib inline` once and not have to call `plt.show()` for each plot."
      ]
    },
    {
      "cell_type": "code",
      "metadata": {
        "id": "9pRLw9TH97J2",
        "outputId": "b5350a35-9e33-4ab7-a8fe-0729a4c908d1",
        "colab": {
          "base_uri": "https://localhost:8080/",
          "height": 287
        }
      },
      "source": [
        "%matplotlib inline\n",
        "import matplotlib.pyplot as plt\n",
        "import pandas as pd\n",
        "\n",
        "fb = pd.read_csv(\n",
        "    'data/fb_stock_prices_2018.csv', index_col='date', parse_dates=True\n",
        ")\n",
        "plt.plot(fb.index, fb.open)"
      ],
      "execution_count": 5,
      "outputs": [
        {
          "output_type": "execute_result",
          "data": {
            "text/plain": [
              "[<matplotlib.lines.Line2D at 0x7fc1827437d0>]"
            ]
          },
          "metadata": {},
          "execution_count": 5
        },
        {
          "output_type": "display_data",
          "data": {
            "image/png": "[encoded data removed]",
            "text/plain": [
              "<Figure size 432x288 with 1 Axes>"
            ]
          },
          "metadata": {
            "needs_background": "light"
          }
        }
      ]
    },
    {
      "cell_type": "markdown",
      "metadata": {
        "id": "EBB4ePAE_kko"
      },
      "source": [
        "* 여기서 추가적으로 하는 말은 %matplotlib inline을 해줘야 jupyter notebook에서 plot을 시각적으로 보이게 해준다는 것이다."
      ]
    },
    {
      "cell_type": "markdown",
      "metadata": {
        "id": "4YmYxzRD97J2"
      },
      "source": [
        "## Scatter plots"
      ]
    },
    {
      "cell_type": "markdown",
      "metadata": {
        "id": "MgNp2rmZ97J3"
      },
      "source": [
        "We can pass in a string specifying the style of the plot. This is of the form `[marker][linestyle][color]`. For example, we can make a black dashed line with `'--k'` or a red scatter plot with `'or'`:"
      ]
    },
    {
      "cell_type": "code",
      "metadata": {
        "id": "wJlJW8_K97J3",
        "outputId": "e178d6cc-216b-400d-8b89-0da4b2a490ba",
        "colab": {
          "base_uri": "https://localhost:8080/",
          "height": 283
        }
      },
      "source": [
        "plt.plot('high', 'low', 'or', data=fb.head(20))"
      ],
      "execution_count": 6,
      "outputs": [
        {
          "output_type": "execute_result",
          "data": {
            "text/plain": [
              "[<matplotlib.lines.Line2D at 0x7fc1826860d0>]"
            ]
          },
          "metadata": {},
          "execution_count": 6
        },
        {
          "output_type": "display_data",
          "data": {
            "image/png": "[encoded data removed]",
            "text/plain": [
              "<Figure size 432x288 with 1 Axes>"
            ]
          },
          "metadata": {
            "needs_background": "light"
          }
        }
      ]
    },
    {
      "cell_type": "markdown",
      "metadata": {
        "id": "o6UZESJv_-1S"
      },
      "source": [
        "* 'or'이 linestyle component에 관한 것이다. \n",
        "* 아래 표에 보이듯이 표에 있는 것을 사용하여 다양한 것을 할 수 있다. 자세한 것을 보고 싶으면 [documentation](https://matplotlib.org/api/_as_gen/matplotlib.pyplot.plot.html)에 들어가서 보면된다."
      ]
    },
    {
      "cell_type": "markdown",
      "metadata": {
        "id": "IP-6-boi97J4"
      },
      "source": [
        "Here are some examples of how you make a format string:\n",
        "\n",
        "| Marker | Linestyle | Color | Format String | Result |\n",
        "| :---: | :---: | :---: | :---: | --- |\n",
        "| | `-` | `b` | `-b` | blue solid line|\n",
        "| `.` |  | `k` | `.k` | black points|\n",
        "|  | `--` | `r` | `--r` | red dashed line|\n",
        "| `o` | `-` | `g` | `o-g` | green solid line with circles|\n",
        "| | `:` | `m` | `:m` | magenta dotted line|\n",
        "|`x` | `-.` | `c` | `x-.c` | cyan dot-dashed line with x's|\n",
        " \n",
        "Note that we can also use format strings of the form `[color][marker][linestyle]`, but the parsing by `matplotlib` (in rare cases) might not be what we were aiming for. Consult the *Notes* section in the [documentation](https://matplotlib.org/api/_as_gen/matplotlib.pyplot.plot.html) for the complete list of options.\n",
        "## Histograms"
      ]
    },
    {
      "cell_type": "code",
      "metadata": {
        "id": "bQGnMyjh97J5",
        "outputId": "57a2f5ed-551e-4d18-a07c-25ac0fe6639e",
        "colab": {
          "base_uri": "https://localhost:8080/",
          "height": 357
        }
      },
      "source": [
        "quakes = pd.read_csv('data/earthquakes.csv')\n",
        "plt.hist(quakes.query('magType == \"ml\"').mag)"
      ],
      "execution_count": 7,
      "outputs": [
        {
          "output_type": "execute_result",
          "data": {
            "text/plain": [
              "(array([6.400e+01, 4.450e+02, 1.137e+03, 1.853e+03, 2.114e+03, 8.070e+02,\n",
              "        2.800e+02, 9.200e+01, 9.000e+00, 2.000e+00]),\n",
              " array([-1.26 , -0.624,  0.012,  0.648,  1.284,  1.92 ,  2.556,  3.192,\n",
              "         3.828,  4.464,  5.1  ]),\n",
              " <a list of 10 Patch objects>)"
            ]
          },
          "metadata": {},
          "execution_count": 7
        },
        {
          "output_type": "display_data",
          "data": {
            "image/png": "[encoded data removed]",
            "text/plain": [
              "<Figure size 432x288 with 1 Axes>"
            ]
          },
          "metadata": {
            "needs_background": "light"
          }
        }
      ]
    },
    {
      "cell_type": "markdown",
      "metadata": {
        "id": "oBqtQiM9AylP"
      },
      "source": [
        "* magType이 ml인 것 중에 mag의 값들만 hist로 해서 plot을 그려준 것이다. "
      ]
    },
    {
      "cell_type": "markdown",
      "metadata": {
        "id": "FdfUjgcI97J5"
      },
      "source": [
        "### Bin size matters\n",
        "Notice how our assumptions of the distribution of the data can change based on the number of bins (look at the drop between the two highest peaks on the righthand plot):"
      ]
    },
    {
      "cell_type": "code",
      "metadata": {
        "id": "z8vX_XY-97J5",
        "outputId": "a28e7a2c-cfed-4aae-9347-0fc174997841",
        "colab": {
          "base_uri": "https://localhost:8080/",
          "height": 227
        }
      },
      "source": [
        "x = quakes.query('magType == \"ml\"').mag\n",
        "fig, axes = plt.subplots(1, 2, figsize=(10, 3))\n",
        "for ax, bins in zip(axes, [7, 35]):\n",
        "    ax.hist(x, bins=bins)\n",
        "    ax.set_title(f'bins param: {bins}')"
      ],
      "execution_count": 8,
      "outputs": [
        {
          "output_type": "display_data",
          "data": {
            "image/png": "[encoded data removed]",
            "text/plain": [
              "<Figure size 720x216 with 2 Axes>"
            ]
          },
          "metadata": {
            "needs_background": "light"
          }
        }
      ]
    },
    {
      "cell_type": "markdown",
      "metadata": {
        "id": "6bcEyvrmBIFD"
      },
      "source": [
        "* bin size가 7일 때와 bin size가 35일 때를 나누어서 보여주고 있다. "
      ]
    },
    {
      "cell_type": "markdown",
      "metadata": {
        "id": "j3t0Ie2b97J5"
      },
      "source": [
        "## Plot components\n",
        "### `Figure`\n",
        "Top-level object that holds the other plot components."
      ]
    },
    {
      "cell_type": "code",
      "metadata": {
        "id": "XxkGwQ0X97J6",
        "outputId": "cb277a91-a5fb-410a-ddf9-5105e2a682c4",
        "colab": {
          "base_uri": "https://localhost:8080/",
          "height": 35
        }
      },
      "source": [
        "fig = plt.figure()"
      ],
      "execution_count": 9,
      "outputs": [
        {
          "output_type": "display_data",
          "data": {
            "text/plain": [
              "<Figure size 432x288 with 0 Axes>"
            ]
          },
          "metadata": {}
        }
      ]
    },
    {
      "cell_type": "markdown",
      "metadata": {
        "id": "zXVPzQZZBQpH"
      },
      "source": [
        "* 처음에 figure object를 만들어 줄 때, plt.figure()를 사용해서 만들어 줄 수 있다.\n",
        "\n",
        "\n"
      ]
    },
    {
      "cell_type": "markdown",
      "metadata": {
        "id": "Jz6_1OEZ97J6"
      },
      "source": [
        "### `Axes`\n",
        "Individual plots contained within the `Figure`.\n",
        "\n",
        "## Creating subplots\n",
        "Simply specify the number of rows and columns to create:"
      ]
    },
    {
      "cell_type": "code",
      "metadata": {
        "id": "FlRxTHGu97J6",
        "outputId": "a8209a2a-591a-48d2-a156-74e9785ddc81",
        "colab": {
          "base_uri": "https://localhost:8080/",
          "height": 269
        }
      },
      "source": [
        "fig, axes = plt.subplots(1, 2)"
      ],
      "execution_count": 10,
      "outputs": [
        {
          "output_type": "display_data",
          "data": {
            "image/png": "[encoded data removed]",
            "text/plain": [
              "<Figure size 432x288 with 2 Axes>"
            ]
          },
          "metadata": {
            "needs_background": "light"
          }
        }
      ]
    },
    {
      "cell_type": "markdown",
      "metadata": {
        "id": "dlaArGq9Bft9"
      },
      "source": [
        "* fig를 만들어 준다음에 제일 많이 사용하는 것이 subplots이고 여기에서 크기를 조절해 줄 수 있다. \n",
        "* 그리고 만든 사이즈를 1을 기준으로 해서 소수점으로 나누어주는 것을 볼 수 있다. "
      ]
    },
    {
      "cell_type": "markdown",
      "metadata": {
        "id": "qI8TcL2Z97J6"
      },
      "source": [
        "As an alternative to using `plt.subplots()` we can add `Axes` objects to the `Figure` object on our own. This allows for some more complex layouts, such as picture in picture:"
      ]
    },
    {
      "cell_type": "code",
      "metadata": {
        "id": "7vEMPHZs97J7",
        "outputId": "29744c02-ca09-46b5-82dd-86766e098003",
        "colab": {
          "base_uri": "https://localhost:8080/",
          "height": 246
        }
      },
      "source": [
        "fig = plt.figure(figsize=(3, 3))\n",
        "outside = fig.add_axes([0.1, 0.1, 0.9, 0.9])\n",
        "inside = fig.add_axes([0.7, 0.7, 0.25, 0.25])"
      ],
      "execution_count": 11,
      "outputs": [
        {
          "output_type": "display_data",
          "data": {
            "image/png": "[encoded data removed]",
            "text/plain": [
              "<Figure size 216x216 with 2 Axes>"
            ]
          },
          "metadata": {
            "needs_background": "light"
          }
        }
      ]
    },
    {
      "cell_type": "markdown",
      "metadata": {
        "id": "knWGRYS7BqxP"
      },
      "source": [
        "* 여기에서는 add_axes를 사용해서 추가적으로 plot을 그려주는 방법이 있다. "
      ]
    },
    {
      "cell_type": "markdown",
      "metadata": {
        "id": "QIlslxVd97J7"
      },
      "source": [
        "## Creating Plot Layouts with `gridspec`\n",
        "We can create subplots with varying sizes as well:"
      ]
    },
    {
      "cell_type": "code",
      "metadata": {
        "id": "z14ShSsQ97J7",
        "outputId": "92ea014c-c4e0-4351-f270-a9ded7965458",
        "colab": {
          "base_uri": "https://localhost:8080/",
          "height": 487
        }
      },
      "source": [
        "fig = plt.figure(figsize=(8, 8))\n",
        "gs = fig.add_gridspec(3, 3)\n",
        "top_left = fig.add_subplot(gs[0, 0])\n",
        "mid_left = fig.add_subplot(gs[1, 0])\n",
        "top_right = fig.add_subplot(gs[:2, 1:])\n",
        "bottom = fig.add_subplot(gs[2,:])"
      ],
      "execution_count": 12,
      "outputs": [
        {
          "output_type": "display_data",
          "data": {
            "image/png": "[encoded data removed]",
            "text/plain": [
              "<Figure size 576x576 with 4 Axes>"
            ]
          },
          "metadata": {
            "needs_background": "light"
          }
        }
      ]
    },
    {
      "cell_type": "markdown",
      "metadata": {
        "id": "YMcH7ssqCN0K"
      },
      "source": [
        "* gridspec을 사용해서 plot의 구획을 그려서 구해주는 방법이 있다. "
      ]
    },
    {
      "cell_type": "markdown",
      "metadata": {
        "id": "ippV9wU497J8"
      },
      "source": [
        "## Saving plots\n",
        "Use `plt.savefig()` to save the last created plot. To save a specific `Figure` object, use its `savefig()` method."
      ]
    },
    {
      "cell_type": "code",
      "metadata": {
        "id": "VH6252wT97J8"
      },
      "source": [
        "fig.savefig('empty.png')"
      ],
      "execution_count": 16,
      "outputs": []
    },
    {
      "cell_type": "markdown",
      "metadata": {
        "id": "TisRGdWZCr8g"
      },
      "source": [
        "* 그림을 저장하고 싶을 때 사용해준다. "
      ]
    },
    {
      "cell_type": "markdown",
      "metadata": {
        "id": "Yaqe0r6X97J8"
      },
      "source": [
        "## Cleaning up\n",
        "It's important to close resources when we are done with them. We use `plt.close()` to do so. If we pass in nothing, it will close the last plot, but we can pass in the specific `Figure` object to close or say `'all'` to close all `Figure` objects that are open. Let's close all the `Figure` objects that are open with `plt.close()`:"
      ]
    },
    {
      "cell_type": "code",
      "metadata": {
        "id": "VVJ3Cex197J8"
      },
      "source": [
        "plt.close('all')"
      ],
      "execution_count": 17,
      "outputs": []
    },
    {
      "cell_type": "markdown",
      "metadata": {
        "id": "2YG37qj-97J8"
      },
      "source": [
        "## Additional plotting options\n",
        "### Specifying figure size\n",
        "Just pass the `figsize` argument to `plt.figure()`. It's a tuple of `(width, height)`:"
      ]
    },
    {
      "cell_type": "code",
      "metadata": {
        "id": "bdmI8UYK97J8",
        "outputId": "2eca70c7-98d2-40e5-d5f7-d08a08497b01",
        "colab": {
          "base_uri": "https://localhost:8080/",
          "height": 35
        }
      },
      "source": [
        "fig = plt.figure(figsize=(10, 4))"
      ],
      "execution_count": 18,
      "outputs": [
        {
          "output_type": "display_data",
          "data": {
            "text/plain": [
              "<Figure size 720x288 with 0 Axes>"
            ]
          },
          "metadata": {}
        }
      ]
    },
    {
      "cell_type": "markdown",
      "metadata": {
        "id": "9wgn73da97J8"
      },
      "source": [
        "This can be specified when creating subplots as well:"
      ]
    },
    {
      "cell_type": "code",
      "metadata": {
        "id": "Xryewx1-97J9",
        "outputId": "524f8c24-54bd-456b-e730-e2dd32835735",
        "colab": {
          "base_uri": "https://localhost:8080/",
          "height": 269
        }
      },
      "source": [
        "fig, axes = plt.subplots(1, 2, figsize=(10, 4))"
      ],
      "execution_count": 19,
      "outputs": [
        {
          "output_type": "display_data",
          "data": {
            "image/png": "[encoded data removed]",
            "text/plain": [
              "<Figure size 720x288 with 2 Axes>"
            ]
          },
          "metadata": {
            "needs_background": "light"
          }
        }
      ]
    },
    {
      "cell_type": "markdown",
      "metadata": {
        "id": "5Jan-gpmDH9c"
      },
      "source": [
        "* figsize를 사전에 잡아주고 plot을 만들어 주게 되면, plot이 찌그러지지 않는것을 볼 수 있다. "
      ]
    },
    {
      "cell_type": "markdown",
      "metadata": {
        "id": "fgWUYMp797J9"
      },
      "source": [
        "### `rcParams`\n",
        "A small subset of all the available plot settings (shuffling to get a good variation of options):"
      ]
    },
    {
      "cell_type": "code",
      "metadata": {
        "id": "RT-UKno097J9",
        "outputId": "d39f74b4-39ff-48a6-c145-edbfab266b6e",
        "colab": {
          "base_uri": "https://localhost:8080/"
        }
      },
      "source": [
        "import random\n",
        "import matplotlib as mpl\n",
        "\n",
        "rcparams_list = list(mpl.rcParams.keys())\n",
        "random.seed(20) # make this repeatable #random.seed(20)을 사용하여 랜덤하게 바뀌는 것을 고정해준다. \n",
        "random.shuffle(rcparams_list)\n",
        "sorted(rcparams_list[:20])"
      ],
      "execution_count": 20,
      "outputs": [
        {
          "output_type": "execute_result",
          "data": {
            "text/plain": [
              "['animation.avconv_args',\n",
              " 'axes.axisbelow',\n",
              " 'axes.formatter.limits',\n",
              " 'boxplot.capprops.color',\n",
              " 'boxplot.meanprops.marker',\n",
              " 'boxplot.whiskerprops.color',\n",
              " 'figure.dpi',\n",
              " 'image.interpolation',\n",
              " 'lines.dash_joinstyle',\n",
              " 'lines.markersize',\n",
              " 'lines.solid_capstyle',\n",
              " 'markers.fillstyle',\n",
              " 'mpl_toolkits.legacy_colorbar',\n",
              " 'savefig.transparent',\n",
              " 'scatter.edgecolors',\n",
              " 'text.latex.preview',\n",
              " 'xtick.color',\n",
              " 'xtick.labelbottom',\n",
              " 'xtick.top',\n",
              " 'ytick.major.right']"
            ]
          },
          "metadata": {},
          "execution_count": 20
        }
      ]
    },
    {
      "cell_type": "markdown",
      "metadata": {
        "id": "CtLmRWsiDUjm"
      },
      "source": [
        "* 여기에서는 rcParams에 default parameter가 어떠한 것이 있는지 살펴본 것이다. "
      ]
    },
    {
      "cell_type": "markdown",
      "metadata": {
        "id": "N03V3RGJ97J9"
      },
      "source": [
        "We can check the current default `figsize` using `rcParams`:"
      ]
    },
    {
      "cell_type": "code",
      "metadata": {
        "id": "Ghdp9ao297J9",
        "outputId": "2f26b854-a847-4a35-9936-dc7fc5ebd962",
        "colab": {
          "base_uri": "https://localhost:8080/"
        }
      },
      "source": [
        "mpl.rcParams['figure.figsize']"
      ],
      "execution_count": 21,
      "outputs": [
        {
          "output_type": "execute_result",
          "data": {
            "text/plain": [
              "[6.0, 4.0]"
            ]
          },
          "metadata": {},
          "execution_count": 21
        }
      ]
    },
    {
      "cell_type": "markdown",
      "metadata": {
        "id": "ksEZgnvl97J9"
      },
      "source": [
        "We can also update this value to change the default (until the kernel is restarted):"
      ]
    },
    {
      "cell_type": "code",
      "metadata": {
        "id": "_G8kSGvj97J9",
        "outputId": "1f477f84-5951-40ff-a69e-34e98b53732d",
        "colab": {
          "base_uri": "https://localhost:8080/"
        }
      },
      "source": [
        "mpl.rcParams['figure.figsize'] = (300, 10)\n",
        "mpl.rcParams['figure.figsize']"
      ],
      "execution_count": 22,
      "outputs": [
        {
          "output_type": "execute_result",
          "data": {
            "text/plain": [
              "[300.0, 10.0]"
            ]
          },
          "metadata": {},
          "execution_count": 22
        }
      ]
    },
    {
      "cell_type": "markdown",
      "metadata": {
        "id": "GewzYNmHD6dA"
      },
      "source": [
        "* default값을 (300, 10)으로 바꾸어주게 되면 plot을 그릴 때 계속해서 바꾸어준 값으로 plot을 그려주게 된다."
      ]
    },
    {
      "cell_type": "markdown",
      "metadata": {
        "id": "LD4LvR-_97J-"
      },
      "source": [
        "Use `rcdefaults()` to restore the defaults. Note this is slightly different than before because running `%matplotlib inline` sets a different value for `figsize` ([see more](https://github.com/ipython/ipykernel/blob/master/ipykernel/pylab/config.py#L42-L56)). After we reset, we are going back to the default value of `figsize` before that import:"
      ]
    },
    {
      "cell_type": "code",
      "metadata": {
        "id": "Hrj8uKBP97J-",
        "outputId": "613ba81a-f3bb-41b3-c6fd-f74b469499c2",
        "colab": {
          "base_uri": "https://localhost:8080/"
        }
      },
      "source": [
        "mpl.rcdefaults()\n",
        "mpl.rcParams['figure.figsize']"
      ],
      "execution_count": 24,
      "outputs": [
        {
          "output_type": "execute_result",
          "data": {
            "text/plain": [
              "[6.4, 4.8]"
            ]
          },
          "metadata": {},
          "execution_count": 24
        }
      ]
    },
    {
      "cell_type": "markdown",
      "metadata": {
        "id": "kaSmZpbgEIfU"
      },
      "source": [
        "* 초기의 값인 default값을 사용하고 싶을 때는 rcdefaults를 사용해서 reset을 해줄 수 있다. "
      ]
    },
    {
      "cell_type": "markdown",
      "metadata": {
        "id": "1cfHxC9197J-"
      },
      "source": [
        "This can also be done via `pyplot`:"
      ]
    },
    {
      "cell_type": "code",
      "metadata": {
        "id": "8n448Gez97J-"
      },
      "source": [
        "plt.rc('figure', figsize=(20, 20)) # change `figsize` default to (20, 20)\n",
        "plt.rcdefaults() # reset the default"
      ],
      "execution_count": 25,
      "outputs": []
    },
    {
      "cell_type": "markdown",
      "metadata": {
        "id": "WE22zSl8EUHY"
      },
      "source": [
        "* plt.rc의 default값을 변경해주고 싶을 때, plt.rc('figure', figsize=(20, 20))를 사용해서 default값을 바꾸어 줄 수 있다는 것도 알 수 있다.  "
      ]
    },
    {
      "cell_type": "markdown",
      "metadata": {
        "id": "H0eMeGmC97J-"
      },
      "source": [
        "<hr>\n",
        "<div>\n",
        "    <a href=\"../ch_04/4-time_series.ipynb\">\n",
        "        <button>&#8592; Chapter 4</button>\n",
        "    </a>\n",
        "    <a href=\"./2-plotting_with_pandas.ipynb\">\n",
        "        <button style=\"float: right;\">Next Notebook &#8594;</button>\n",
        "    </a>\n",
        "</div>\n",
        "<hr>"
      ]
    }
  ]
}
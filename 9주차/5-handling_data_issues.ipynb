{
  "nbformat": 4,
  "nbformat_minor": 0,
  "metadata": {
    "kernelspec": {
      "display_name": "Python 3",
      "language": "python",
      "name": "python3"
    },
    "language_info": {
      "codemirror_mode": {
        "name": "ipython",
        "version": 3
      },
      "file_extension": ".py",
      "mimetype": "text/x-python",
      "name": "python",
      "nbconvert_exporter": "python",
      "pygments_lexer": "ipython3",
      "version": "3.7.3"
    },
    "colab": {
      "name": "5-handling_data_issues.ipynb",
      "provenance": [],
      "include_colab_link": true
    }
  },
  "cells": [
    {
      "cell_type": "markdown",
      "metadata": {
        "id": "view-in-github",
        "colab_type": "text"
      },
      "source": [
        "<a href=\"https://colab.research.google.com/github/kcw0331/Environmental-Health-Big-Data-Analysis/blob/main/9%EC%A3%BC%EC%B0%A8/5-handling_data_issues.ipynb\" target=\"_parent\"><img src=\"https://colab.research.google.com/assets/colab-badge.svg\" alt=\"Open In Colab\"/></a>"
      ]
    },
    {
      "cell_type": "markdown",
      "metadata": {
        "id": "ZpgGipohaXqV"
      },
      "source": [
        "# Handling duplicate, missing, or invalid data\n",
        "\n",
        "## About the data\n",
        "In this notebook, we will using daily weather data that was taken from the [National Centers for Environmental Information (NCEI) API](https://www.ncdc.noaa.gov/cdo-web/webservices/v2) and altered to introduce many common problems faced when working with data. \n",
        "\n",
        "*Note: The NCEI is part of the National Oceanic and Atmospheric Administration (NOAA) and, as you can see from the URL for the API, this resource was created when the NCEI was called the NCDC. Should the URL for this resource change in the future, you can search for \"NCEI weather API\" to find the updated one.*\n",
        "\n",
        "## Background on the data\n",
        "\n",
        "Data meanings:\n",
        "- `PRCP`: precipitation in millimeters\n",
        "- `SNOW`: snowfall in millimeters\n",
        "- `SNWD`: snow depth in millimeters\n",
        "- `TMAX`: maximum daily temperature in Celsius\n",
        "- `TMIN`: minimum daily temperature in Celsius\n",
        "- `TOBS`: temperature at time of observation in Celsius\n",
        "- `WESF`: water equivalent of snow in millimeters\n",
        "\n",
        "Some important facts to get our bearings:\n",
        "- According to the National Weather Service, the coldest temperature ever recorded in Central Park was -15°F (-26.1°C) on February 9, 1934: [source](https://www.weather.gov/media/okx/Climate/CentralPark/extremes.pdf) \n",
        "- The temperature of the Sun's photosphere is approximately 5,505°C: [source](https://en.wikipedia.org/wiki/Sun)\n",
        "\n",
        "## Setup\n",
        "We need to import `pandas` and read in the dirty data to get started:"
      ]
    },
    {
      "cell_type": "code",
      "metadata": {
        "id": "V6ZJiaunbH6E",
        "outputId": "5776f488-5b3c-4ae1-b523-a56eff2db62d",
        "colab": {
          "base_uri": "https://localhost:8080/"
        }
      },
      "source": [
        "from google.colab import drive\n",
        "drive.mount('/content/drive')"
      ],
      "execution_count": 2,
      "outputs": [
        {
          "output_type": "stream",
          "name": "stdout",
          "text": [
            "Mounted at /content/drive\n"
          ]
        }
      ]
    },
    {
      "cell_type": "code",
      "metadata": {
        "id": "259a-z1wbUcp",
        "outputId": "8a715af9-f9db-4880-c5d6-242ace57a496",
        "colab": {
          "base_uri": "https://localhost:8080/"
        }
      },
      "source": [
        "cd /content/drive/MyDrive/Hands-On-Data-Analysis-with-Pandas-2nd-edition/ch_03"
      ],
      "execution_count": 3,
      "outputs": [
        {
          "output_type": "stream",
          "name": "stdout",
          "text": [
            "/content/drive/MyDrive/Hands-On-Data-Analysis-with-Pandas-2nd-edition/ch_03\n"
          ]
        }
      ]
    },
    {
      "cell_type": "code",
      "metadata": {
        "id": "xMjQsodbaXqY"
      },
      "source": [
        "import pandas as pd\n",
        "\n",
        "df = pd.read_csv('data/dirty_data.csv')"
      ],
      "execution_count": 4,
      "outputs": []
    },
    {
      "cell_type": "markdown",
      "metadata": {
        "id": "LQCNV7Lobj34"
      },
      "source": [
        "* 처음에는 dirty_data를 불러와 준다."
      ]
    },
    {
      "cell_type": "markdown",
      "metadata": {
        "id": "96lE7Wk_aXqZ"
      },
      "source": [
        "## Finding problematic data\n",
        "A good first step is to look at some rows:"
      ]
    },
    {
      "cell_type": "code",
      "metadata": {
        "id": "OYlPHm1eaXqa",
        "outputId": "68b11b91-bafd-41b4-dd5e-e5401d06ac88",
        "colab": {
          "base_uri": "https://localhost:8080/",
          "height": 204
        }
      },
      "source": [
        "df.head()"
      ],
      "execution_count": 5,
      "outputs": [
        {
          "output_type": "execute_result",
          "data": {
            "text/html": [
              "<div>\n",
              "<style scoped>\n",
              "    .dataframe tbody tr th:only-of-type {\n",
              "        vertical-align: middle;\n",
              "    }\n",
              "\n",
              "    .dataframe tbody tr th {\n",
              "        vertical-align: top;\n",
              "    }\n",
              "\n",
              "    .dataframe thead th {\n",
              "        text-align: right;\n",
              "    }\n",
              "</style>\n",
              "<table border=\"1\" class=\"dataframe\">\n",
              "  <thead>\n",
              "    <tr style=\"text-align: right;\">\n",
              "      <th></th>\n",
              "      <th>date</th>\n",
              "      <th>station</th>\n",
              "      <th>PRCP</th>\n",
              "      <th>SNOW</th>\n",
              "      <th>SNWD</th>\n",
              "      <th>TMAX</th>\n",
              "      <th>TMIN</th>\n",
              "      <th>TOBS</th>\n",
              "      <th>WESF</th>\n",
              "      <th>inclement_weather</th>\n",
              "    </tr>\n",
              "  </thead>\n",
              "  <tbody>\n",
              "    <tr>\n",
              "      <th>0</th>\n",
              "      <td>2018-01-01T00:00:00</td>\n",
              "      <td>?</td>\n",
              "      <td>0.0</td>\n",
              "      <td>0.0</td>\n",
              "      <td>-inf</td>\n",
              "      <td>5505.0</td>\n",
              "      <td>-40.0</td>\n",
              "      <td>NaN</td>\n",
              "      <td>NaN</td>\n",
              "      <td>NaN</td>\n",
              "    </tr>\n",
              "    <tr>\n",
              "      <th>1</th>\n",
              "      <td>2018-01-01T00:00:00</td>\n",
              "      <td>?</td>\n",
              "      <td>0.0</td>\n",
              "      <td>0.0</td>\n",
              "      <td>-inf</td>\n",
              "      <td>5505.0</td>\n",
              "      <td>-40.0</td>\n",
              "      <td>NaN</td>\n",
              "      <td>NaN</td>\n",
              "      <td>NaN</td>\n",
              "    </tr>\n",
              "    <tr>\n",
              "      <th>2</th>\n",
              "      <td>2018-01-01T00:00:00</td>\n",
              "      <td>?</td>\n",
              "      <td>0.0</td>\n",
              "      <td>0.0</td>\n",
              "      <td>-inf</td>\n",
              "      <td>5505.0</td>\n",
              "      <td>-40.0</td>\n",
              "      <td>NaN</td>\n",
              "      <td>NaN</td>\n",
              "      <td>NaN</td>\n",
              "    </tr>\n",
              "    <tr>\n",
              "      <th>3</th>\n",
              "      <td>2018-01-02T00:00:00</td>\n",
              "      <td>GHCND:USC00280907</td>\n",
              "      <td>0.0</td>\n",
              "      <td>0.0</td>\n",
              "      <td>-inf</td>\n",
              "      <td>-8.3</td>\n",
              "      <td>-16.1</td>\n",
              "      <td>-12.2</td>\n",
              "      <td>NaN</td>\n",
              "      <td>False</td>\n",
              "    </tr>\n",
              "    <tr>\n",
              "      <th>4</th>\n",
              "      <td>2018-01-03T00:00:00</td>\n",
              "      <td>GHCND:USC00280907</td>\n",
              "      <td>0.0</td>\n",
              "      <td>0.0</td>\n",
              "      <td>-inf</td>\n",
              "      <td>-4.4</td>\n",
              "      <td>-13.9</td>\n",
              "      <td>-13.3</td>\n",
              "      <td>NaN</td>\n",
              "      <td>False</td>\n",
              "    </tr>\n",
              "  </tbody>\n",
              "</table>\n",
              "</div>"
            ],
            "text/plain": [
              "                  date            station  PRCP  ...  TOBS  WESF  inclement_weather\n",
              "0  2018-01-01T00:00:00                  ?   0.0  ...   NaN   NaN                NaN\n",
              "1  2018-01-01T00:00:00                  ?   0.0  ...   NaN   NaN                NaN\n",
              "2  2018-01-01T00:00:00                  ?   0.0  ...   NaN   NaN                NaN\n",
              "3  2018-01-02T00:00:00  GHCND:USC00280907   0.0  ... -12.2   NaN              False\n",
              "4  2018-01-03T00:00:00  GHCND:USC00280907   0.0  ... -13.3   NaN              False\n",
              "\n",
              "[5 rows x 10 columns]"
            ]
          },
          "metadata": {},
          "execution_count": 5
        }
      ]
    },
    {
      "cell_type": "markdown",
      "metadata": {
        "id": "0Vwe-oDIaXqa"
      },
      "source": [
        "Looking at summary statistics can reveal strange or missing values:"
      ]
    },
    {
      "cell_type": "code",
      "metadata": {
        "id": "j14cqv_paXqb",
        "outputId": "c9a6b904-e917-42ea-cf67-072fb3a7ef6a",
        "colab": {
          "base_uri": "https://localhost:8080/",
          "height": 333
        }
      },
      "source": [
        "df.describe()"
      ],
      "execution_count": 6,
      "outputs": [
        {
          "output_type": "stream",
          "name": "stderr",
          "text": [
            "/usr/local/lib/python3.7/dist-packages/numpy/lib/function_base.py:3968: RuntimeWarning: invalid value encountered in multiply\n",
            "  x2 = take(ap, indices_above, axis=axis) * weights_above\n"
          ]
        },
        {
          "output_type": "execute_result",
          "data": {
            "text/html": [
              "<div>\n",
              "<style scoped>\n",
              "    .dataframe tbody tr th:only-of-type {\n",
              "        vertical-align: middle;\n",
              "    }\n",
              "\n",
              "    .dataframe tbody tr th {\n",
              "        vertical-align: top;\n",
              "    }\n",
              "\n",
              "    .dataframe thead th {\n",
              "        text-align: right;\n",
              "    }\n",
              "</style>\n",
              "<table border=\"1\" class=\"dataframe\">\n",
              "  <thead>\n",
              "    <tr style=\"text-align: right;\">\n",
              "      <th></th>\n",
              "      <th>PRCP</th>\n",
              "      <th>SNOW</th>\n",
              "      <th>SNWD</th>\n",
              "      <th>TMAX</th>\n",
              "      <th>TMIN</th>\n",
              "      <th>TOBS</th>\n",
              "      <th>WESF</th>\n",
              "    </tr>\n",
              "  </thead>\n",
              "  <tbody>\n",
              "    <tr>\n",
              "      <th>count</th>\n",
              "      <td>765.000000</td>\n",
              "      <td>577.000000</td>\n",
              "      <td>577.0</td>\n",
              "      <td>765.000000</td>\n",
              "      <td>765.000000</td>\n",
              "      <td>398.000000</td>\n",
              "      <td>11.000000</td>\n",
              "    </tr>\n",
              "    <tr>\n",
              "      <th>mean</th>\n",
              "      <td>5.360392</td>\n",
              "      <td>4.202773</td>\n",
              "      <td>NaN</td>\n",
              "      <td>2649.175294</td>\n",
              "      <td>-15.914379</td>\n",
              "      <td>8.632161</td>\n",
              "      <td>16.290909</td>\n",
              "    </tr>\n",
              "    <tr>\n",
              "      <th>std</th>\n",
              "      <td>10.002138</td>\n",
              "      <td>25.086077</td>\n",
              "      <td>NaN</td>\n",
              "      <td>2744.156281</td>\n",
              "      <td>24.242849</td>\n",
              "      <td>9.815054</td>\n",
              "      <td>9.489832</td>\n",
              "    </tr>\n",
              "    <tr>\n",
              "      <th>min</th>\n",
              "      <td>0.000000</td>\n",
              "      <td>0.000000</td>\n",
              "      <td>-inf</td>\n",
              "      <td>-11.700000</td>\n",
              "      <td>-40.000000</td>\n",
              "      <td>-16.100000</td>\n",
              "      <td>1.800000</td>\n",
              "    </tr>\n",
              "    <tr>\n",
              "      <th>25%</th>\n",
              "      <td>0.000000</td>\n",
              "      <td>0.000000</td>\n",
              "      <td>NaN</td>\n",
              "      <td>13.300000</td>\n",
              "      <td>-40.000000</td>\n",
              "      <td>0.150000</td>\n",
              "      <td>8.600000</td>\n",
              "    </tr>\n",
              "    <tr>\n",
              "      <th>50%</th>\n",
              "      <td>0.000000</td>\n",
              "      <td>0.000000</td>\n",
              "      <td>NaN</td>\n",
              "      <td>32.800000</td>\n",
              "      <td>-11.100000</td>\n",
              "      <td>8.300000</td>\n",
              "      <td>19.300000</td>\n",
              "    </tr>\n",
              "    <tr>\n",
              "      <th>75%</th>\n",
              "      <td>5.800000</td>\n",
              "      <td>0.000000</td>\n",
              "      <td>NaN</td>\n",
              "      <td>5505.000000</td>\n",
              "      <td>6.700000</td>\n",
              "      <td>18.300000</td>\n",
              "      <td>24.900000</td>\n",
              "    </tr>\n",
              "    <tr>\n",
              "      <th>max</th>\n",
              "      <td>61.700000</td>\n",
              "      <td>229.000000</td>\n",
              "      <td>inf</td>\n",
              "      <td>5505.000000</td>\n",
              "      <td>23.900000</td>\n",
              "      <td>26.100000</td>\n",
              "      <td>28.700000</td>\n",
              "    </tr>\n",
              "  </tbody>\n",
              "</table>\n",
              "</div>"
            ],
            "text/plain": [
              "             PRCP        SNOW   SNWD  ...        TMIN        TOBS       WESF\n",
              "count  765.000000  577.000000  577.0  ...  765.000000  398.000000  11.000000\n",
              "mean     5.360392    4.202773    NaN  ...  -15.914379    8.632161  16.290909\n",
              "std     10.002138   25.086077    NaN  ...   24.242849    9.815054   9.489832\n",
              "min      0.000000    0.000000   -inf  ...  -40.000000  -16.100000   1.800000\n",
              "25%      0.000000    0.000000    NaN  ...  -40.000000    0.150000   8.600000\n",
              "50%      0.000000    0.000000    NaN  ...  -11.100000    8.300000  19.300000\n",
              "75%      5.800000    0.000000    NaN  ...    6.700000   18.300000  24.900000\n",
              "max     61.700000  229.000000    inf  ...   23.900000   26.100000  28.700000\n",
              "\n",
              "[8 rows x 7 columns]"
            ]
          },
          "metadata": {},
          "execution_count": 6
        }
      ]
    },
    {
      "cell_type": "markdown",
      "metadata": {
        "id": "DI0G4vj7bz0U"
      },
      "source": [
        "* head()를 통해 데이터가 어떻게 되는지를 봐줄수도 있지만 describe()를 통해서 기초통계가 어떻게 되는지를 파악해 줄 수 있다."
      ]
    },
    {
      "cell_type": "markdown",
      "metadata": {
        "id": "7c11eU1QaXqb"
      },
      "source": [
        "The `info()` method can pinpoint missing values and wrong data types:"
      ]
    },
    {
      "cell_type": "code",
      "metadata": {
        "id": "Gk69ojN-aXqc",
        "outputId": "f5f5a60f-b3a5-4b61-9194-d7d51c79264a",
        "colab": {
          "base_uri": "https://localhost:8080/"
        }
      },
      "source": [
        "df.info()"
      ],
      "execution_count": 7,
      "outputs": [
        {
          "output_type": "stream",
          "name": "stdout",
          "text": [
            "<class 'pandas.core.frame.DataFrame'>\n",
            "RangeIndex: 765 entries, 0 to 764\n",
            "Data columns (total 10 columns):\n",
            " #   Column             Non-Null Count  Dtype  \n",
            "---  ------             --------------  -----  \n",
            " 0   date               765 non-null    object \n",
            " 1   station            765 non-null    object \n",
            " 2   PRCP               765 non-null    float64\n",
            " 3   SNOW               577 non-null    float64\n",
            " 4   SNWD               577 non-null    float64\n",
            " 5   TMAX               765 non-null    float64\n",
            " 6   TMIN               765 non-null    float64\n",
            " 7   TOBS               398 non-null    float64\n",
            " 8   WESF               11 non-null     float64\n",
            " 9   inclement_weather  408 non-null    object \n",
            "dtypes: float64(7), object(3)\n",
            "memory usage: 59.9+ KB\n"
          ]
        }
      ]
    },
    {
      "cell_type": "markdown",
      "metadata": {
        "id": "CNsnXWUjcTZA"
      },
      "source": [
        "* SNWD와 같은 경우는 NaN이 아닌 값이 577개 있다는 것이고, WESF와 같은 경우는 NaN이 아닌 값이 11개 있다는 말이니깐 WESF와 같은 경우는 NaN의 값이 많이 있다는 것을 info()를 통해서 알 수 있다."
      ]
    },
    {
      "cell_type": "markdown",
      "metadata": {
        "id": "F0xouJW2aXqc"
      },
      "source": [
        "We can use the `isna()`/`isnull()` method of the series to find nulls:"
      ]
    },
    {
      "cell_type": "code",
      "metadata": {
        "id": "khhUf6ooaXqd",
        "outputId": "27168aa6-867b-42cd-fe6a-93917a8ee624",
        "colab": {
          "base_uri": "https://localhost:8080/"
        }
      },
      "source": [
        "contain_nulls = df[\n",
        "    df.SNOW.isna() | df.SNWD.isna() | df.TOBS.isna()\n",
        "    | df.WESF.isna() | df.inclement_weather.isna()\n",
        "]\n",
        "contain_nulls.shape[0]"
      ],
      "execution_count": 8,
      "outputs": [
        {
          "output_type": "execute_result",
          "data": {
            "text/plain": [
              "765"
            ]
          },
          "metadata": {},
          "execution_count": 8
        }
      ]
    },
    {
      "cell_type": "markdown",
      "metadata": {
        "id": "9Wr8qw1Ucu4y"
      },
      "source": [
        "* 여기에서는 null을 포함하는 데이터를 포함해주기 위해 SNOW, SNWD, TOBS, WESF, inclement_weatjer에 na가 있는지 or 조건을 사용해서 파악을 해주었다.\n",
        "* 그래서 모든 데이터에 어딘가 NaN이 있다는 말이다."
      ]
    },
    {
      "cell_type": "code",
      "metadata": {
        "id": "4BGfA0uLaXqd",
        "outputId": "846ae341-fe2a-470e-8ed3-f834a7ab4a2c",
        "colab": {
          "base_uri": "https://localhost:8080/",
          "height": 359
        }
      },
      "source": [
        "contain_nulls.head(10)"
      ],
      "execution_count": 9,
      "outputs": [
        {
          "output_type": "execute_result",
          "data": {
            "text/html": [
              "<div>\n",
              "<style scoped>\n",
              "    .dataframe tbody tr th:only-of-type {\n",
              "        vertical-align: middle;\n",
              "    }\n",
              "\n",
              "    .dataframe tbody tr th {\n",
              "        vertical-align: top;\n",
              "    }\n",
              "\n",
              "    .dataframe thead th {\n",
              "        text-align: right;\n",
              "    }\n",
              "</style>\n",
              "<table border=\"1\" class=\"dataframe\">\n",
              "  <thead>\n",
              "    <tr style=\"text-align: right;\">\n",
              "      <th></th>\n",
              "      <th>date</th>\n",
              "      <th>station</th>\n",
              "      <th>PRCP</th>\n",
              "      <th>SNOW</th>\n",
              "      <th>SNWD</th>\n",
              "      <th>TMAX</th>\n",
              "      <th>TMIN</th>\n",
              "      <th>TOBS</th>\n",
              "      <th>WESF</th>\n",
              "      <th>inclement_weather</th>\n",
              "    </tr>\n",
              "  </thead>\n",
              "  <tbody>\n",
              "    <tr>\n",
              "      <th>0</th>\n",
              "      <td>2018-01-01T00:00:00</td>\n",
              "      <td>?</td>\n",
              "      <td>0.0</td>\n",
              "      <td>0.0</td>\n",
              "      <td>-inf</td>\n",
              "      <td>5505.0</td>\n",
              "      <td>-40.0</td>\n",
              "      <td>NaN</td>\n",
              "      <td>NaN</td>\n",
              "      <td>NaN</td>\n",
              "    </tr>\n",
              "    <tr>\n",
              "      <th>1</th>\n",
              "      <td>2018-01-01T00:00:00</td>\n",
              "      <td>?</td>\n",
              "      <td>0.0</td>\n",
              "      <td>0.0</td>\n",
              "      <td>-inf</td>\n",
              "      <td>5505.0</td>\n",
              "      <td>-40.0</td>\n",
              "      <td>NaN</td>\n",
              "      <td>NaN</td>\n",
              "      <td>NaN</td>\n",
              "    </tr>\n",
              "    <tr>\n",
              "      <th>2</th>\n",
              "      <td>2018-01-01T00:00:00</td>\n",
              "      <td>?</td>\n",
              "      <td>0.0</td>\n",
              "      <td>0.0</td>\n",
              "      <td>-inf</td>\n",
              "      <td>5505.0</td>\n",
              "      <td>-40.0</td>\n",
              "      <td>NaN</td>\n",
              "      <td>NaN</td>\n",
              "      <td>NaN</td>\n",
              "    </tr>\n",
              "    <tr>\n",
              "      <th>3</th>\n",
              "      <td>2018-01-02T00:00:00</td>\n",
              "      <td>GHCND:USC00280907</td>\n",
              "      <td>0.0</td>\n",
              "      <td>0.0</td>\n",
              "      <td>-inf</td>\n",
              "      <td>-8.3</td>\n",
              "      <td>-16.1</td>\n",
              "      <td>-12.2</td>\n",
              "      <td>NaN</td>\n",
              "      <td>False</td>\n",
              "    </tr>\n",
              "    <tr>\n",
              "      <th>4</th>\n",
              "      <td>2018-01-03T00:00:00</td>\n",
              "      <td>GHCND:USC00280907</td>\n",
              "      <td>0.0</td>\n",
              "      <td>0.0</td>\n",
              "      <td>-inf</td>\n",
              "      <td>-4.4</td>\n",
              "      <td>-13.9</td>\n",
              "      <td>-13.3</td>\n",
              "      <td>NaN</td>\n",
              "      <td>False</td>\n",
              "    </tr>\n",
              "    <tr>\n",
              "      <th>5</th>\n",
              "      <td>2018-01-03T00:00:00</td>\n",
              "      <td>GHCND:USC00280907</td>\n",
              "      <td>0.0</td>\n",
              "      <td>0.0</td>\n",
              "      <td>-inf</td>\n",
              "      <td>-4.4</td>\n",
              "      <td>-13.9</td>\n",
              "      <td>-13.3</td>\n",
              "      <td>NaN</td>\n",
              "      <td>False</td>\n",
              "    </tr>\n",
              "    <tr>\n",
              "      <th>6</th>\n",
              "      <td>2018-01-03T00:00:00</td>\n",
              "      <td>GHCND:USC00280907</td>\n",
              "      <td>0.0</td>\n",
              "      <td>0.0</td>\n",
              "      <td>-inf</td>\n",
              "      <td>-4.4</td>\n",
              "      <td>-13.9</td>\n",
              "      <td>-13.3</td>\n",
              "      <td>NaN</td>\n",
              "      <td>False</td>\n",
              "    </tr>\n",
              "    <tr>\n",
              "      <th>7</th>\n",
              "      <td>2018-01-04T00:00:00</td>\n",
              "      <td>?</td>\n",
              "      <td>20.6</td>\n",
              "      <td>229.0</td>\n",
              "      <td>inf</td>\n",
              "      <td>5505.0</td>\n",
              "      <td>-40.0</td>\n",
              "      <td>NaN</td>\n",
              "      <td>19.3</td>\n",
              "      <td>True</td>\n",
              "    </tr>\n",
              "    <tr>\n",
              "      <th>8</th>\n",
              "      <td>2018-01-04T00:00:00</td>\n",
              "      <td>?</td>\n",
              "      <td>20.6</td>\n",
              "      <td>229.0</td>\n",
              "      <td>inf</td>\n",
              "      <td>5505.0</td>\n",
              "      <td>-40.0</td>\n",
              "      <td>NaN</td>\n",
              "      <td>19.3</td>\n",
              "      <td>True</td>\n",
              "    </tr>\n",
              "    <tr>\n",
              "      <th>9</th>\n",
              "      <td>2018-01-05T00:00:00</td>\n",
              "      <td>?</td>\n",
              "      <td>0.3</td>\n",
              "      <td>NaN</td>\n",
              "      <td>NaN</td>\n",
              "      <td>5505.0</td>\n",
              "      <td>-40.0</td>\n",
              "      <td>NaN</td>\n",
              "      <td>NaN</td>\n",
              "      <td>NaN</td>\n",
              "    </tr>\n",
              "  </tbody>\n",
              "</table>\n",
              "</div>"
            ],
            "text/plain": [
              "                  date            station  PRCP  ...  TOBS  WESF  inclement_weather\n",
              "0  2018-01-01T00:00:00                  ?   0.0  ...   NaN   NaN                NaN\n",
              "1  2018-01-01T00:00:00                  ?   0.0  ...   NaN   NaN                NaN\n",
              "2  2018-01-01T00:00:00                  ?   0.0  ...   NaN   NaN                NaN\n",
              "3  2018-01-02T00:00:00  GHCND:USC00280907   0.0  ... -12.2   NaN              False\n",
              "4  2018-01-03T00:00:00  GHCND:USC00280907   0.0  ... -13.3   NaN              False\n",
              "5  2018-01-03T00:00:00  GHCND:USC00280907   0.0  ... -13.3   NaN              False\n",
              "6  2018-01-03T00:00:00  GHCND:USC00280907   0.0  ... -13.3   NaN              False\n",
              "7  2018-01-04T00:00:00                  ?  20.6  ...   NaN  19.3               True\n",
              "8  2018-01-04T00:00:00                  ?  20.6  ...   NaN  19.3               True\n",
              "9  2018-01-05T00:00:00                  ?   0.3  ...   NaN   NaN                NaN\n",
              "\n",
              "[10 rows x 10 columns]"
            ]
          },
          "metadata": {},
          "execution_count": 9
        }
      ]
    },
    {
      "cell_type": "markdown",
      "metadata": {
        "id": "TCXoLeGkaXqd"
      },
      "source": [
        "Note that we can't check if we have `NaN` like this:"
      ]
    },
    {
      "cell_type": "code",
      "metadata": {
        "id": "g1GDFqpeaXqe",
        "outputId": "9db7fb3e-3de2-453a-8786-e579197e7b8a",
        "colab": {
          "base_uri": "https://localhost:8080/"
        }
      },
      "source": [
        "df[df.inclement_weather == 'NaN'].shape[0]"
      ],
      "execution_count": 10,
      "outputs": [
        {
          "output_type": "execute_result",
          "data": {
            "text/plain": [
              "0"
            ]
          },
          "metadata": {},
          "execution_count": 10
        }
      ]
    },
    {
      "cell_type": "markdown",
      "metadata": {
        "id": "r806UBKtaXqe"
      },
      "source": [
        "This is because it is actually `np.nan`. However, notice this also doesn't work:"
      ]
    },
    {
      "cell_type": "code",
      "metadata": {
        "id": "27W10Hp5aXqe",
        "outputId": "7157b9d4-1c00-43b9-cdf8-91baf30194bf",
        "colab": {
          "base_uri": "https://localhost:8080/"
        }
      },
      "source": [
        "import numpy as np\n",
        "df[df.inclement_weather == np.nan].shape[0]"
      ],
      "execution_count": 11,
      "outputs": [
        {
          "output_type": "execute_result",
          "data": {
            "text/plain": [
              "0"
            ]
          },
          "metadata": {},
          "execution_count": 11
        }
      ]
    },
    {
      "cell_type": "markdown",
      "metadata": {
        "id": "p2ElONItdUbG"
      },
      "source": [
        "* NaN이든 np.nan이든 이렇게 코드를 만들게 되면 NaN의 값이 선택이 안되는 것을 알 수 있다."
      ]
    },
    {
      "cell_type": "markdown",
      "metadata": {
        "id": "B-N-WmzBaXqf"
      },
      "source": [
        "We have to use one of the methods discussed earlier for this to work:"
      ]
    },
    {
      "cell_type": "markdown",
      "metadata": {
        "id": "1L5ZwtWadf_z"
      },
      "source": [
        "* na의 값을 선택해주려면 isna를 해줘야 선택이 되는 것을 알 수 있다."
      ]
    },
    {
      "cell_type": "code",
      "metadata": {
        "id": "ELzvorrUaXqf",
        "outputId": "c195e038-d457-4fa4-c113-a5058cf147c7",
        "colab": {
          "base_uri": "https://localhost:8080/"
        }
      },
      "source": [
        "df[df.inclement_weather.isna()].shape[0]"
      ],
      "execution_count": 12,
      "outputs": [
        {
          "output_type": "execute_result",
          "data": {
            "text/plain": [
              "357"
            ]
          },
          "metadata": {},
          "execution_count": 12
        }
      ]
    },
    {
      "cell_type": "code",
      "metadata": {
        "id": "C-lZYOdvdtGX",
        "outputId": "7266279e-f67a-402d-a2cb-191464cbf47d",
        "colab": {
          "base_uri": "https://localhost:8080/",
          "height": 419
        }
      },
      "source": [
        "df[df.inclement_weather.isna()]"
      ],
      "execution_count": 13,
      "outputs": [
        {
          "output_type": "execute_result",
          "data": {
            "text/html": [
              "<div>\n",
              "<style scoped>\n",
              "    .dataframe tbody tr th:only-of-type {\n",
              "        vertical-align: middle;\n",
              "    }\n",
              "\n",
              "    .dataframe tbody tr th {\n",
              "        vertical-align: top;\n",
              "    }\n",
              "\n",
              "    .dataframe thead th {\n",
              "        text-align: right;\n",
              "    }\n",
              "</style>\n",
              "<table border=\"1\" class=\"dataframe\">\n",
              "  <thead>\n",
              "    <tr style=\"text-align: right;\">\n",
              "      <th></th>\n",
              "      <th>date</th>\n",
              "      <th>station</th>\n",
              "      <th>PRCP</th>\n",
              "      <th>SNOW</th>\n",
              "      <th>SNWD</th>\n",
              "      <th>TMAX</th>\n",
              "      <th>TMIN</th>\n",
              "      <th>TOBS</th>\n",
              "      <th>WESF</th>\n",
              "      <th>inclement_weather</th>\n",
              "    </tr>\n",
              "  </thead>\n",
              "  <tbody>\n",
              "    <tr>\n",
              "      <th>0</th>\n",
              "      <td>2018-01-01T00:00:00</td>\n",
              "      <td>?</td>\n",
              "      <td>0.0</td>\n",
              "      <td>0.0</td>\n",
              "      <td>-inf</td>\n",
              "      <td>5505.0</td>\n",
              "      <td>-40.0</td>\n",
              "      <td>NaN</td>\n",
              "      <td>NaN</td>\n",
              "      <td>NaN</td>\n",
              "    </tr>\n",
              "    <tr>\n",
              "      <th>1</th>\n",
              "      <td>2018-01-01T00:00:00</td>\n",
              "      <td>?</td>\n",
              "      <td>0.0</td>\n",
              "      <td>0.0</td>\n",
              "      <td>-inf</td>\n",
              "      <td>5505.0</td>\n",
              "      <td>-40.0</td>\n",
              "      <td>NaN</td>\n",
              "      <td>NaN</td>\n",
              "      <td>NaN</td>\n",
              "    </tr>\n",
              "    <tr>\n",
              "      <th>2</th>\n",
              "      <td>2018-01-01T00:00:00</td>\n",
              "      <td>?</td>\n",
              "      <td>0.0</td>\n",
              "      <td>0.0</td>\n",
              "      <td>-inf</td>\n",
              "      <td>5505.0</td>\n",
              "      <td>-40.0</td>\n",
              "      <td>NaN</td>\n",
              "      <td>NaN</td>\n",
              "      <td>NaN</td>\n",
              "    </tr>\n",
              "    <tr>\n",
              "      <th>9</th>\n",
              "      <td>2018-01-05T00:00:00</td>\n",
              "      <td>?</td>\n",
              "      <td>0.3</td>\n",
              "      <td>NaN</td>\n",
              "      <td>NaN</td>\n",
              "      <td>5505.0</td>\n",
              "      <td>-40.0</td>\n",
              "      <td>NaN</td>\n",
              "      <td>NaN</td>\n",
              "      <td>NaN</td>\n",
              "    </tr>\n",
              "    <tr>\n",
              "      <th>10</th>\n",
              "      <td>2018-01-05T00:00:00</td>\n",
              "      <td>?</td>\n",
              "      <td>0.3</td>\n",
              "      <td>NaN</td>\n",
              "      <td>NaN</td>\n",
              "      <td>5505.0</td>\n",
              "      <td>-40.0</td>\n",
              "      <td>NaN</td>\n",
              "      <td>NaN</td>\n",
              "      <td>NaN</td>\n",
              "    </tr>\n",
              "    <tr>\n",
              "      <th>...</th>\n",
              "      <td>...</td>\n",
              "      <td>...</td>\n",
              "      <td>...</td>\n",
              "      <td>...</td>\n",
              "      <td>...</td>\n",
              "      <td>...</td>\n",
              "      <td>...</td>\n",
              "      <td>...</td>\n",
              "      <td>...</td>\n",
              "      <td>...</td>\n",
              "    </tr>\n",
              "    <tr>\n",
              "      <th>757</th>\n",
              "      <td>2018-12-29T00:00:00</td>\n",
              "      <td>?</td>\n",
              "      <td>21.3</td>\n",
              "      <td>NaN</td>\n",
              "      <td>NaN</td>\n",
              "      <td>5505.0</td>\n",
              "      <td>-40.0</td>\n",
              "      <td>NaN</td>\n",
              "      <td>NaN</td>\n",
              "      <td>NaN</td>\n",
              "    </tr>\n",
              "    <tr>\n",
              "      <th>758</th>\n",
              "      <td>2018-12-29T00:00:00</td>\n",
              "      <td>?</td>\n",
              "      <td>21.3</td>\n",
              "      <td>NaN</td>\n",
              "      <td>NaN</td>\n",
              "      <td>5505.0</td>\n",
              "      <td>-40.0</td>\n",
              "      <td>NaN</td>\n",
              "      <td>NaN</td>\n",
              "      <td>NaN</td>\n",
              "    </tr>\n",
              "    <tr>\n",
              "      <th>759</th>\n",
              "      <td>2018-12-30T00:00:00</td>\n",
              "      <td>?</td>\n",
              "      <td>0.0</td>\n",
              "      <td>NaN</td>\n",
              "      <td>NaN</td>\n",
              "      <td>5505.0</td>\n",
              "      <td>-40.0</td>\n",
              "      <td>NaN</td>\n",
              "      <td>NaN</td>\n",
              "      <td>NaN</td>\n",
              "    </tr>\n",
              "    <tr>\n",
              "      <th>763</th>\n",
              "      <td>2018-12-31T00:00:00</td>\n",
              "      <td>?</td>\n",
              "      <td>0.0</td>\n",
              "      <td>0.0</td>\n",
              "      <td>-inf</td>\n",
              "      <td>5505.0</td>\n",
              "      <td>-40.0</td>\n",
              "      <td>NaN</td>\n",
              "      <td>NaN</td>\n",
              "      <td>NaN</td>\n",
              "    </tr>\n",
              "    <tr>\n",
              "      <th>764</th>\n",
              "      <td>2018-12-31T00:00:00</td>\n",
              "      <td>?</td>\n",
              "      <td>0.0</td>\n",
              "      <td>0.0</td>\n",
              "      <td>-inf</td>\n",
              "      <td>5505.0</td>\n",
              "      <td>-40.0</td>\n",
              "      <td>NaN</td>\n",
              "      <td>NaN</td>\n",
              "      <td>NaN</td>\n",
              "    </tr>\n",
              "  </tbody>\n",
              "</table>\n",
              "<p>357 rows × 10 columns</p>\n",
              "</div>"
            ],
            "text/plain": [
              "                    date station  PRCP  ...  TOBS  WESF  inclement_weather\n",
              "0    2018-01-01T00:00:00       ?   0.0  ...   NaN   NaN                NaN\n",
              "1    2018-01-01T00:00:00       ?   0.0  ...   NaN   NaN                NaN\n",
              "2    2018-01-01T00:00:00       ?   0.0  ...   NaN   NaN                NaN\n",
              "9    2018-01-05T00:00:00       ?   0.3  ...   NaN   NaN                NaN\n",
              "10   2018-01-05T00:00:00       ?   0.3  ...   NaN   NaN                NaN\n",
              "..                   ...     ...   ...  ...   ...   ...                ...\n",
              "757  2018-12-29T00:00:00       ?  21.3  ...   NaN   NaN                NaN\n",
              "758  2018-12-29T00:00:00       ?  21.3  ...   NaN   NaN                NaN\n",
              "759  2018-12-30T00:00:00       ?   0.0  ...   NaN   NaN                NaN\n",
              "763  2018-12-31T00:00:00       ?   0.0  ...   NaN   NaN                NaN\n",
              "764  2018-12-31T00:00:00       ?   0.0  ...   NaN   NaN                NaN\n",
              "\n",
              "[357 rows x 10 columns]"
            ]
          },
          "metadata": {},
          "execution_count": 13
        }
      ]
    },
    {
      "cell_type": "markdown",
      "metadata": {
        "id": "GlCIDowPaXqf"
      },
      "source": [
        "We can find `-inf`/`inf` by comparing to `-np.inf`/`np.inf`:"
      ]
    },
    {
      "cell_type": "code",
      "metadata": {
        "id": "sAfx0BHXaXqf",
        "outputId": "ca0126b8-4305-43d0-cfd0-ce6c52edc4bb",
        "colab": {
          "base_uri": "https://localhost:8080/"
        }
      },
      "source": [
        "df[df.SNWD.isin([-np.inf, np.inf])].shape[0]"
      ],
      "execution_count": 14,
      "outputs": [
        {
          "output_type": "execute_result",
          "data": {
            "text/plain": [
              "577"
            ]
          },
          "metadata": {},
          "execution_count": 14
        }
      ]
    },
    {
      "cell_type": "markdown",
      "metadata": {
        "id": "p_nQBVXgaXqg"
      },
      "source": [
        "Rather than do this for each column, we can write a function that will use a [dictionary comprehension](https://www.python.org/dev/peps/pep-0274/) to check all the columns for us:"
      ]
    },
    {
      "cell_type": "code",
      "metadata": {
        "id": "idGzeexNaXqg",
        "outputId": "c9e86639-a4d2-49fe-bb4c-c5f3709ed3e1",
        "colab": {
          "base_uri": "https://localhost:8080/"
        }
      },
      "source": [
        "def get_inf_count(df):\n",
        "    \"\"\"Find the number of inf/-inf values per column in the dataframe\"\"\"\n",
        "    return {\n",
        "        col: df[df[col].isin([np.inf, -np.inf])].shape[0] for col in df.columns\n",
        "    }\n",
        "\n",
        "get_inf_count(df)"
      ],
      "execution_count": 15,
      "outputs": [
        {
          "output_type": "execute_result",
          "data": {
            "text/plain": [
              "{'PRCP': 0,\n",
              " 'SNOW': 0,\n",
              " 'SNWD': 577,\n",
              " 'TMAX': 0,\n",
              " 'TMIN': 0,\n",
              " 'TOBS': 0,\n",
              " 'WESF': 0,\n",
              " 'date': 0,\n",
              " 'inclement_weather': 0,\n",
              " 'station': 0}"
            ]
          },
          "metadata": {},
          "execution_count": 15
        }
      ]
    },
    {
      "cell_type": "markdown",
      "metadata": {
        "id": "6-P5aiExaXqg"
      },
      "source": [
        "Before we can decide how to handle the infinite values of snow depth, we should look at the summary statistics for snowfall, which forms a big part in determining the snow depth:"
      ]
    },
    {
      "cell_type": "code",
      "metadata": {
        "id": "H6dUAmV2aXqg",
        "outputId": "957e4896-84b9-43a0-8ff4-1f927ad68053",
        "colab": {
          "base_uri": "https://localhost:8080/",
          "height": 111
        }
      },
      "source": [
        "pd.DataFrame({\n",
        "    'np.inf Snow Depth': df[df.SNWD == np.inf].SNOW.describe(),\n",
        "    '-np.inf Snow Depth': df[df.SNWD == -np.inf].SNOW.describe()\n",
        "}).T"
      ],
      "execution_count": 16,
      "outputs": [
        {
          "output_type": "execute_result",
          "data": {
            "text/html": [
              "<div>\n",
              "<style scoped>\n",
              "    .dataframe tbody tr th:only-of-type {\n",
              "        vertical-align: middle;\n",
              "    }\n",
              "\n",
              "    .dataframe tbody tr th {\n",
              "        vertical-align: top;\n",
              "    }\n",
              "\n",
              "    .dataframe thead th {\n",
              "        text-align: right;\n",
              "    }\n",
              "</style>\n",
              "<table border=\"1\" class=\"dataframe\">\n",
              "  <thead>\n",
              "    <tr style=\"text-align: right;\">\n",
              "      <th></th>\n",
              "      <th>count</th>\n",
              "      <th>mean</th>\n",
              "      <th>std</th>\n",
              "      <th>min</th>\n",
              "      <th>25%</th>\n",
              "      <th>50%</th>\n",
              "      <th>75%</th>\n",
              "      <th>max</th>\n",
              "    </tr>\n",
              "  </thead>\n",
              "  <tbody>\n",
              "    <tr>\n",
              "      <th>np.inf Snow Depth</th>\n",
              "      <td>24.0</td>\n",
              "      <td>101.041667</td>\n",
              "      <td>74.498018</td>\n",
              "      <td>13.0</td>\n",
              "      <td>25.0</td>\n",
              "      <td>120.5</td>\n",
              "      <td>152.0</td>\n",
              "      <td>229.0</td>\n",
              "    </tr>\n",
              "    <tr>\n",
              "      <th>-np.inf Snow Depth</th>\n",
              "      <td>553.0</td>\n",
              "      <td>0.000000</td>\n",
              "      <td>0.000000</td>\n",
              "      <td>0.0</td>\n",
              "      <td>0.0</td>\n",
              "      <td>0.0</td>\n",
              "      <td>0.0</td>\n",
              "      <td>0.0</td>\n",
              "    </tr>\n",
              "  </tbody>\n",
              "</table>\n",
              "</div>"
            ],
            "text/plain": [
              "                    count        mean        std  ...    50%    75%    max\n",
              "np.inf Snow Depth    24.0  101.041667  74.498018  ...  120.5  152.0  229.0\n",
              "-np.inf Snow Depth  553.0    0.000000   0.000000  ...    0.0    0.0    0.0\n",
              "\n",
              "[2 rows x 8 columns]"
            ]
          },
          "metadata": {},
          "execution_count": 16
        }
      ]
    },
    {
      "cell_type": "markdown",
      "metadata": {
        "id": "YVHjEb7Up39O"
      },
      "source": [
        "* Snow Depth같은 경우는 눈이 온 경우는 +무한대가 되고, 눈이 오지 않은 경우는 - 무한대가 되는 것을 볼 수 있다."
      ]
    },
    {
      "cell_type": "markdown",
      "metadata": {
        "id": "tW5WiGwYaXqh"
      },
      "source": [
        "Let's now look into the `date` and `station` columns. We saw the `?` for station earlier, so we know that was the other unique value. However, we see that some dates are present 8 times in the data and we only have 324 days meaning we are also missing days:"
      ]
    },
    {
      "cell_type": "code",
      "metadata": {
        "id": "e8gj-O1jaXqh",
        "outputId": "b31f1349-c01b-4f7f-f941-ab74ee41ba6e",
        "colab": {
          "base_uri": "https://localhost:8080/",
          "height": 173
        }
      },
      "source": [
        "df.describe(include='object')"
      ],
      "execution_count": 17,
      "outputs": [
        {
          "output_type": "execute_result",
          "data": {
            "text/html": [
              "<div>\n",
              "<style scoped>\n",
              "    .dataframe tbody tr th:only-of-type {\n",
              "        vertical-align: middle;\n",
              "    }\n",
              "\n",
              "    .dataframe tbody tr th {\n",
              "        vertical-align: top;\n",
              "    }\n",
              "\n",
              "    .dataframe thead th {\n",
              "        text-align: right;\n",
              "    }\n",
              "</style>\n",
              "<table border=\"1\" class=\"dataframe\">\n",
              "  <thead>\n",
              "    <tr style=\"text-align: right;\">\n",
              "      <th></th>\n",
              "      <th>date</th>\n",
              "      <th>station</th>\n",
              "      <th>inclement_weather</th>\n",
              "    </tr>\n",
              "  </thead>\n",
              "  <tbody>\n",
              "    <tr>\n",
              "      <th>count</th>\n",
              "      <td>765</td>\n",
              "      <td>765</td>\n",
              "      <td>408</td>\n",
              "    </tr>\n",
              "    <tr>\n",
              "      <th>unique</th>\n",
              "      <td>324</td>\n",
              "      <td>2</td>\n",
              "      <td>2</td>\n",
              "    </tr>\n",
              "    <tr>\n",
              "      <th>top</th>\n",
              "      <td>2018-07-05T00:00:00</td>\n",
              "      <td>GHCND:USC00280907</td>\n",
              "      <td>False</td>\n",
              "    </tr>\n",
              "    <tr>\n",
              "      <th>freq</th>\n",
              "      <td>8</td>\n",
              "      <td>398</td>\n",
              "      <td>384</td>\n",
              "    </tr>\n",
              "  </tbody>\n",
              "</table>\n",
              "</div>"
            ],
            "text/plain": [
              "                       date            station inclement_weather\n",
              "count                   765                765               408\n",
              "unique                  324                  2                 2\n",
              "top     2018-07-05T00:00:00  GHCND:USC00280907             False\n",
              "freq                      8                398               384"
            ]
          },
          "metadata": {},
          "execution_count": 17
        }
      ]
    },
    {
      "cell_type": "markdown",
      "metadata": {
        "id": "f0rrOW9iqSWy"
      },
      "source": [
        "* 1년에 대한 데이터인데 개수가 765개가 있다는 것은 중복되는 데이터가 잇다는 거라서 중복되지 않는 거는 324개이고 많이 중복이 되는 것은 8개가 있다는 것을 알 수 있다."
      ]
    },
    {
      "cell_type": "markdown",
      "metadata": {
        "id": "GtZ8wVpSaXqh"
      },
      "source": [
        "We can use the `duplicated()` method to find duplicate rows:"
      ]
    },
    {
      "cell_type": "code",
      "metadata": {
        "id": "rD-bFmngaXqh",
        "outputId": "ed07aede-3fd5-4374-adcb-087de210423f",
        "colab": {
          "base_uri": "https://localhost:8080/"
        }
      },
      "source": [
        "df[df.duplicated()].shape[0]"
      ],
      "execution_count": 18,
      "outputs": [
        {
          "output_type": "execute_result",
          "data": {
            "text/plain": [
              "284"
            ]
          },
          "metadata": {},
          "execution_count": 18
        }
      ]
    },
    {
      "cell_type": "markdown",
      "metadata": {
        "id": "jaIJUb5Qqk1s"
      },
      "source": [
        "* 중복되는 것과 같은 경우는 duplicated()를 사용해서 확인해 줄 수 있다."
      ]
    },
    {
      "cell_type": "markdown",
      "metadata": {
        "id": "C-iQcMnpaXqh"
      },
      "source": [
        "The default for `keep` is `'first'` meaning it won't show the first row that the duplicated data was seen in; we can pass in `False` to see it though:"
      ]
    },
    {
      "cell_type": "code",
      "metadata": {
        "id": "nMOOWG8QaXqi",
        "outputId": "229c93e3-3b08-4cc5-e30b-307235d4c4aa",
        "colab": {
          "base_uri": "https://localhost:8080/"
        }
      },
      "source": [
        "df[df.duplicated(keep=False)].shape[0]"
      ],
      "execution_count": 19,
      "outputs": [
        {
          "output_type": "execute_result",
          "data": {
            "text/plain": [
              "482"
            ]
          },
          "metadata": {},
          "execution_count": 19
        }
      ]
    },
    {
      "cell_type": "markdown",
      "metadata": {
        "id": "Mi9AnHvgaXqi"
      },
      "source": [
        "We can also specify the columns to use:"
      ]
    },
    {
      "cell_type": "code",
      "metadata": {
        "id": "dDUf3SIPaXqi",
        "outputId": "7c5b651b-7adc-45b7-d001-1552a3f869af",
        "colab": {
          "base_uri": "https://localhost:8080/"
        }
      },
      "source": [
        "df[df.duplicated(['date', 'station'])].shape[0]"
      ],
      "execution_count": 20,
      "outputs": [
        {
          "output_type": "execute_result",
          "data": {
            "text/plain": [
              "284"
            ]
          },
          "metadata": {},
          "execution_count": 20
        }
      ]
    },
    {
      "cell_type": "markdown",
      "metadata": {
        "id": "ALxJqUIrrJmv"
      },
      "source": [
        "* date나 station에 대해서 중복되는 것들을 확인해 줄 수 있다."
      ]
    },
    {
      "cell_type": "markdown",
      "metadata": {
        "id": "eRop_V2baXqi"
      },
      "source": [
        "Let's look at a few duplicates. Just in the few values we see here, we know that the top 4 are actually in the data 6 times because by default we aren't seeing their first occurrence:"
      ]
    },
    {
      "cell_type": "code",
      "metadata": {
        "id": "LEkCwvNlaXqi",
        "outputId": "fb108c00-6d28-414a-df72-3f74f62a3d4e",
        "colab": {
          "base_uri": "https://localhost:8080/",
          "height": 204
        }
      },
      "source": [
        "df[df.duplicated()].head()"
      ],
      "execution_count": 21,
      "outputs": [
        {
          "output_type": "execute_result",
          "data": {
            "text/html": [
              "<div>\n",
              "<style scoped>\n",
              "    .dataframe tbody tr th:only-of-type {\n",
              "        vertical-align: middle;\n",
              "    }\n",
              "\n",
              "    .dataframe tbody tr th {\n",
              "        vertical-align: top;\n",
              "    }\n",
              "\n",
              "    .dataframe thead th {\n",
              "        text-align: right;\n",
              "    }\n",
              "</style>\n",
              "<table border=\"1\" class=\"dataframe\">\n",
              "  <thead>\n",
              "    <tr style=\"text-align: right;\">\n",
              "      <th></th>\n",
              "      <th>date</th>\n",
              "      <th>station</th>\n",
              "      <th>PRCP</th>\n",
              "      <th>SNOW</th>\n",
              "      <th>SNWD</th>\n",
              "      <th>TMAX</th>\n",
              "      <th>TMIN</th>\n",
              "      <th>TOBS</th>\n",
              "      <th>WESF</th>\n",
              "      <th>inclement_weather</th>\n",
              "    </tr>\n",
              "  </thead>\n",
              "  <tbody>\n",
              "    <tr>\n",
              "      <th>1</th>\n",
              "      <td>2018-01-01T00:00:00</td>\n",
              "      <td>?</td>\n",
              "      <td>0.0</td>\n",
              "      <td>0.0</td>\n",
              "      <td>-inf</td>\n",
              "      <td>5505.0</td>\n",
              "      <td>-40.0</td>\n",
              "      <td>NaN</td>\n",
              "      <td>NaN</td>\n",
              "      <td>NaN</td>\n",
              "    </tr>\n",
              "    <tr>\n",
              "      <th>2</th>\n",
              "      <td>2018-01-01T00:00:00</td>\n",
              "      <td>?</td>\n",
              "      <td>0.0</td>\n",
              "      <td>0.0</td>\n",
              "      <td>-inf</td>\n",
              "      <td>5505.0</td>\n",
              "      <td>-40.0</td>\n",
              "      <td>NaN</td>\n",
              "      <td>NaN</td>\n",
              "      <td>NaN</td>\n",
              "    </tr>\n",
              "    <tr>\n",
              "      <th>5</th>\n",
              "      <td>2018-01-03T00:00:00</td>\n",
              "      <td>GHCND:USC00280907</td>\n",
              "      <td>0.0</td>\n",
              "      <td>0.0</td>\n",
              "      <td>-inf</td>\n",
              "      <td>-4.4</td>\n",
              "      <td>-13.9</td>\n",
              "      <td>-13.3</td>\n",
              "      <td>NaN</td>\n",
              "      <td>False</td>\n",
              "    </tr>\n",
              "    <tr>\n",
              "      <th>6</th>\n",
              "      <td>2018-01-03T00:00:00</td>\n",
              "      <td>GHCND:USC00280907</td>\n",
              "      <td>0.0</td>\n",
              "      <td>0.0</td>\n",
              "      <td>-inf</td>\n",
              "      <td>-4.4</td>\n",
              "      <td>-13.9</td>\n",
              "      <td>-13.3</td>\n",
              "      <td>NaN</td>\n",
              "      <td>False</td>\n",
              "    </tr>\n",
              "    <tr>\n",
              "      <th>8</th>\n",
              "      <td>2018-01-04T00:00:00</td>\n",
              "      <td>?</td>\n",
              "      <td>20.6</td>\n",
              "      <td>229.0</td>\n",
              "      <td>inf</td>\n",
              "      <td>5505.0</td>\n",
              "      <td>-40.0</td>\n",
              "      <td>NaN</td>\n",
              "      <td>19.3</td>\n",
              "      <td>True</td>\n",
              "    </tr>\n",
              "  </tbody>\n",
              "</table>\n",
              "</div>"
            ],
            "text/plain": [
              "                  date            station  PRCP  ...  TOBS  WESF  inclement_weather\n",
              "1  2018-01-01T00:00:00                  ?   0.0  ...   NaN   NaN                NaN\n",
              "2  2018-01-01T00:00:00                  ?   0.0  ...   NaN   NaN                NaN\n",
              "5  2018-01-03T00:00:00  GHCND:USC00280907   0.0  ... -13.3   NaN              False\n",
              "6  2018-01-03T00:00:00  GHCND:USC00280907   0.0  ... -13.3   NaN              False\n",
              "8  2018-01-04T00:00:00                  ?  20.6  ...   NaN  19.3               True\n",
              "\n",
              "[5 rows x 10 columns]"
            ]
          },
          "metadata": {},
          "execution_count": 21
        }
      ]
    },
    {
      "cell_type": "markdown",
      "metadata": {
        "id": "CV8oQ0x9aXqi"
      },
      "source": [
        "## Mitigating Issues\n",
        "\n",
        "### Handling duplicated data\n",
        "Since we know we have NY weather data and noticed we only had two entries for `station`, we may decide to drop the `station` column because we are only interested in the weather data. However, when dealing with duplicate data, we need to think of the ramifications of removing it. Notice we only have data for the `WESF` column when the station is `?`:"
      ]
    },
    {
      "cell_type": "code",
      "metadata": {
        "id": "lm-CBJH0aXqj",
        "outputId": "94d4d9c0-ccc5-4f65-97a5-ea650b731e7c",
        "colab": {
          "base_uri": "https://localhost:8080/"
        }
      },
      "source": [
        "df[df.WESF.notna()].station.unique()"
      ],
      "execution_count": 22,
      "outputs": [
        {
          "output_type": "execute_result",
          "data": {
            "text/plain": [
              "array(['?'], dtype=object)"
            ]
          },
          "metadata": {},
          "execution_count": 22
        }
      ]
    },
    {
      "cell_type": "markdown",
      "metadata": {
        "id": "0dlHsIrGrc1o"
      },
      "source": [
        "* WESF의 na가 아닌 것들의 statioin정보를 보면 station정보가 ?인 경우가 전부라는 내용이다."
      ]
    },
    {
      "cell_type": "markdown",
      "metadata": {
        "id": "iZdfkKQAaXqj"
      },
      "source": [
        "If we determine it won't impact our analysis, we can use `drop_duplicates()` to remove them:"
      ]
    },
    {
      "cell_type": "markdown",
      "metadata": {
        "id": "YEipCd1srsfE"
      },
      "source": [
        "* 여기 아래 정보는 duplicated를 사용할 때 중복되는 데이터를 어떻게 사용했는지 나와있다."
      ]
    },
    {
      "cell_type": "code",
      "metadata": {
        "id": "YSkDkyNuaXqj",
        "outputId": "e49231a0-329c-4385-96bd-9c41f9f11381",
        "colab": {
          "base_uri": "https://localhost:8080/"
        }
      },
      "source": [
        "# 1. make the date a datetime\n",
        "df.date = pd.to_datetime(df.date)  #date가 datatime으로 바뀐것을 볼 수 있다.\n",
        "\n",
        "# 2. save this information for later\n",
        "station_qm_wesf = df[df.station == '?'].drop_duplicates('date').set_index('date').WESF\n",
        "\n",
        "# 3. sort ? to the bottom\n",
        "df.sort_values('station', ascending=False, inplace=True) #?가 나온 애들은 맨 아래로 나오도록 해주는 것이다. 그래서 station이 있는 애들먼저 나오도록 해주는 것 같다.\n",
        "\n",
        "# 4. drop duplicates based on the date column keeping the first occurrence \n",
        "# which will be the valid station if it has data\n",
        "df_deduped = df.drop_duplicates('date')  #date가 duplicated된 애들을 drop한 다음에 \n",
        "\n",
        "# 5. remove the station column because we are done with it\n",
        "df_deduped = df_deduped.drop(columns='station').set_index('date').sort_index() #여기에서는 다시 sort를 해준다.\n",
        "\n",
        "# 6. take valid station's WESF and fall back on station ? if it is null\n",
        "df_deduped = df_deduped.assign(\n",
        "    WESF=lambda x: x.WESF.combine_first(station_qm_wesf)\n",
        ")\n",
        "\n",
        "df_deduped.shape"
      ],
      "execution_count": 23,
      "outputs": [
        {
          "output_type": "execute_result",
          "data": {
            "text/plain": [
              "(324, 8)"
            ]
          },
          "metadata": {},
          "execution_count": 23
        }
      ]
    },
    {
      "cell_type": "markdown",
      "metadata": {
        "id": "WmQgEEa2aXqj"
      },
      "source": [
        "Here we used the `combine_first()` method to coalesce the values to the first non-null entry; this means that if we had data from both stations, we would first take the value provided by the named station and if (and only if) that station was null would we take the value from the station named `?`. The following table contains some examples of how this would play out:\n",
        "\n",
        "| station GHCND:USC00280907 | station ? | result of `combine_first()` |\n",
        "| :---: | :---: | :---: |\n",
        "| 1 | 17 | 1 |\n",
        "| 1 | `NaN` | 1 |\n",
        "| `NaN` | 17 | 17 |\n",
        "| `NaN` | `NaN` | `NaN` |\n",
        "\n",
        "Check out the 4th row&mdash;we have `WESF` in the correct spot thanks to the index:"
      ]
    },
    {
      "cell_type": "code",
      "metadata": {
        "id": "r4EvB9EvaXqk",
        "outputId": "231b14bb-31f7-409b-b55a-adfdbf9326d5",
        "colab": {
          "base_uri": "https://localhost:8080/",
          "height": 235
        }
      },
      "source": [
        "df_deduped.head()"
      ],
      "execution_count": 24,
      "outputs": [
        {
          "output_type": "execute_result",
          "data": {
            "text/html": [
              "<div>\n",
              "<style scoped>\n",
              "    .dataframe tbody tr th:only-of-type {\n",
              "        vertical-align: middle;\n",
              "    }\n",
              "\n",
              "    .dataframe tbody tr th {\n",
              "        vertical-align: top;\n",
              "    }\n",
              "\n",
              "    .dataframe thead th {\n",
              "        text-align: right;\n",
              "    }\n",
              "</style>\n",
              "<table border=\"1\" class=\"dataframe\">\n",
              "  <thead>\n",
              "    <tr style=\"text-align: right;\">\n",
              "      <th></th>\n",
              "      <th>PRCP</th>\n",
              "      <th>SNOW</th>\n",
              "      <th>SNWD</th>\n",
              "      <th>TMAX</th>\n",
              "      <th>TMIN</th>\n",
              "      <th>TOBS</th>\n",
              "      <th>WESF</th>\n",
              "      <th>inclement_weather</th>\n",
              "    </tr>\n",
              "    <tr>\n",
              "      <th>date</th>\n",
              "      <th></th>\n",
              "      <th></th>\n",
              "      <th></th>\n",
              "      <th></th>\n",
              "      <th></th>\n",
              "      <th></th>\n",
              "      <th></th>\n",
              "      <th></th>\n",
              "    </tr>\n",
              "  </thead>\n",
              "  <tbody>\n",
              "    <tr>\n",
              "      <th>2018-01-01</th>\n",
              "      <td>0.0</td>\n",
              "      <td>0.0</td>\n",
              "      <td>-inf</td>\n",
              "      <td>5505.0</td>\n",
              "      <td>-40.0</td>\n",
              "      <td>NaN</td>\n",
              "      <td>NaN</td>\n",
              "      <td>NaN</td>\n",
              "    </tr>\n",
              "    <tr>\n",
              "      <th>2018-01-02</th>\n",
              "      <td>0.0</td>\n",
              "      <td>0.0</td>\n",
              "      <td>-inf</td>\n",
              "      <td>-8.3</td>\n",
              "      <td>-16.1</td>\n",
              "      <td>-12.2</td>\n",
              "      <td>NaN</td>\n",
              "      <td>False</td>\n",
              "    </tr>\n",
              "    <tr>\n",
              "      <th>2018-01-03</th>\n",
              "      <td>0.0</td>\n",
              "      <td>0.0</td>\n",
              "      <td>-inf</td>\n",
              "      <td>-4.4</td>\n",
              "      <td>-13.9</td>\n",
              "      <td>-13.3</td>\n",
              "      <td>NaN</td>\n",
              "      <td>False</td>\n",
              "    </tr>\n",
              "    <tr>\n",
              "      <th>2018-01-04</th>\n",
              "      <td>20.6</td>\n",
              "      <td>229.0</td>\n",
              "      <td>inf</td>\n",
              "      <td>5505.0</td>\n",
              "      <td>-40.0</td>\n",
              "      <td>NaN</td>\n",
              "      <td>19.3</td>\n",
              "      <td>True</td>\n",
              "    </tr>\n",
              "    <tr>\n",
              "      <th>2018-01-05</th>\n",
              "      <td>14.2</td>\n",
              "      <td>127.0</td>\n",
              "      <td>inf</td>\n",
              "      <td>-4.4</td>\n",
              "      <td>-13.9</td>\n",
              "      <td>-13.9</td>\n",
              "      <td>NaN</td>\n",
              "      <td>True</td>\n",
              "    </tr>\n",
              "  </tbody>\n",
              "</table>\n",
              "</div>"
            ],
            "text/plain": [
              "            PRCP   SNOW  SNWD    TMAX  TMIN  TOBS  WESF inclement_weather\n",
              "date                                                                     \n",
              "2018-01-01   0.0    0.0  -inf  5505.0 -40.0   NaN   NaN               NaN\n",
              "2018-01-02   0.0    0.0  -inf    -8.3 -16.1 -12.2   NaN             False\n",
              "2018-01-03   0.0    0.0  -inf    -4.4 -13.9 -13.3   NaN             False\n",
              "2018-01-04  20.6  229.0   inf  5505.0 -40.0   NaN  19.3              True\n",
              "2018-01-05  14.2  127.0   inf    -4.4 -13.9 -13.9   NaN              True"
            ]
          },
          "metadata": {},
          "execution_count": 24
        }
      ]
    },
    {
      "cell_type": "markdown",
      "metadata": {
        "id": "gIjE3jx1aXqk"
      },
      "source": [
        "### Dealing with nulls\n",
        "We could drop nulls, replace them with some arbitrary value, or impute them using the surrounding data. Each of these options may have ramifications, so we must choose wisely.\n",
        "\n",
        "We can use `dropna()` to drop rows where any column has a null value. The default options leave us hardly any data:"
      ]
    },
    {
      "cell_type": "markdown",
      "metadata": {
        "id": "E1iTm3RPtI8_"
      },
      "source": [
        "* 여기에서는 null값들을 어떻게 다루는지에 대해 나와있다."
      ]
    },
    {
      "cell_type": "code",
      "metadata": {
        "id": "KDZ39vBlaXqk",
        "outputId": "91eebe31-2214-42d7-aef2-73513f350984",
        "colab": {
          "base_uri": "https://localhost:8080/"
        }
      },
      "source": [
        "df_deduped.dropna().shape"
      ],
      "execution_count": 25,
      "outputs": [
        {
          "output_type": "execute_result",
          "data": {
            "text/plain": [
              "(4, 8)"
            ]
          },
          "metadata": {},
          "execution_count": 25
        }
      ]
    },
    {
      "cell_type": "markdown",
      "metadata": {
        "id": "mucpcFI1tPTp"
      },
      "source": [
        "* na가 들어 있는 row들을 전부 지우게 되면, (4, 8)이 된다는 것을 알 수 있다."
      ]
    },
    {
      "cell_type": "markdown",
      "metadata": {
        "id": "QdakkmM2aXqk"
      },
      "source": [
        "If we pass `how='all'`, we can choose to only drop rows where everything is null, but this removes nothing:"
      ]
    },
    {
      "cell_type": "code",
      "metadata": {
        "id": "geN9mmA_aXqk",
        "outputId": "d23f4e78-8957-4f91-f0ea-4e4a0a0e0c28",
        "colab": {
          "base_uri": "https://localhost:8080/"
        }
      },
      "source": [
        "df_deduped.dropna(how='all').shape"
      ],
      "execution_count": 26,
      "outputs": [
        {
          "output_type": "execute_result",
          "data": {
            "text/plain": [
              "(324, 8)"
            ]
          },
          "metadata": {},
          "execution_count": 26
        }
      ]
    },
    {
      "cell_type": "markdown",
      "metadata": {
        "id": "2oX6SIUctXl5"
      },
      "source": [
        "* 모든 정보가 na인 것을 지우게 되면 모두 지우지 않는 것을 볼 수 있다."
      ]
    },
    {
      "cell_type": "markdown",
      "metadata": {
        "id": "E2bOG6jgaXqk"
      },
      "source": [
        "We can use just a subset of columns to determine what to drop with the `subset` argument:"
      ]
    },
    {
      "cell_type": "code",
      "metadata": {
        "id": "vefeGZhsaXqk",
        "outputId": "bfb2a655-e913-45c6-ebfb-0d9de9d7ba73",
        "colab": {
          "base_uri": "https://localhost:8080/"
        }
      },
      "source": [
        "df_deduped.dropna(\n",
        "    how='all', subset=['inclement_weather', 'SNOW', 'SNWD']\n",
        ").shape"
      ],
      "execution_count": 27,
      "outputs": [
        {
          "output_type": "execute_result",
          "data": {
            "text/plain": [
              "(293, 8)"
            ]
          },
          "metadata": {},
          "execution_count": 27
        }
      ]
    },
    {
      "cell_type": "markdown",
      "metadata": {
        "id": "ukj9TYw1aXql"
      },
      "source": [
        "This can also be performed along columns, and we can also require a certain number of null values before we drop the data:"
      ]
    },
    {
      "cell_type": "code",
      "metadata": {
        "id": "7D3bN0WkaXql",
        "outputId": "12eb825e-48c4-4b87-8382-9c328293ffa3",
        "colab": {
          "base_uri": "https://localhost:8080/"
        }
      },
      "source": [
        "df_deduped.dropna(axis='columns', thresh=df_deduped.shape[0] * .75).columns"
      ],
      "execution_count": 28,
      "outputs": [
        {
          "output_type": "execute_result",
          "data": {
            "text/plain": [
              "Index(['PRCP', 'SNOW', 'SNWD', 'TMAX', 'TMIN', 'TOBS', 'inclement_weather'], dtype='object')"
            ]
          },
          "metadata": {},
          "execution_count": 28
        }
      ]
    },
    {
      "cell_type": "markdown",
      "metadata": {
        "id": "Ap1Hsqn2te7f"
      },
      "source": [
        "* threshold를 사용해서 75%가 되면 지우는 방법도 있다."
      ]
    },
    {
      "cell_type": "markdown",
      "metadata": {
        "id": "OmX7PQRIaXql"
      },
      "source": [
        "We can choose to fill in the null values instead with `fillna()`:"
      ]
    },
    {
      "cell_type": "code",
      "metadata": {
        "id": "x32Y-V8yaXql",
        "outputId": "e880bc91-e358-4613-e655-6ae60c272c1a",
        "colab": {
          "base_uri": "https://localhost:8080/",
          "height": 235
        }
      },
      "source": [
        "df_deduped.loc[:,'WESF'].fillna(0, inplace=True)\n",
        "df_deduped.head()"
      ],
      "execution_count": 29,
      "outputs": [
        {
          "output_type": "execute_result",
          "data": {
            "text/html": [
              "<div>\n",
              "<style scoped>\n",
              "    .dataframe tbody tr th:only-of-type {\n",
              "        vertical-align: middle;\n",
              "    }\n",
              "\n",
              "    .dataframe tbody tr th {\n",
              "        vertical-align: top;\n",
              "    }\n",
              "\n",
              "    .dataframe thead th {\n",
              "        text-align: right;\n",
              "    }\n",
              "</style>\n",
              "<table border=\"1\" class=\"dataframe\">\n",
              "  <thead>\n",
              "    <tr style=\"text-align: right;\">\n",
              "      <th></th>\n",
              "      <th>PRCP</th>\n",
              "      <th>SNOW</th>\n",
              "      <th>SNWD</th>\n",
              "      <th>TMAX</th>\n",
              "      <th>TMIN</th>\n",
              "      <th>TOBS</th>\n",
              "      <th>WESF</th>\n",
              "      <th>inclement_weather</th>\n",
              "    </tr>\n",
              "    <tr>\n",
              "      <th>date</th>\n",
              "      <th></th>\n",
              "      <th></th>\n",
              "      <th></th>\n",
              "      <th></th>\n",
              "      <th></th>\n",
              "      <th></th>\n",
              "      <th></th>\n",
              "      <th></th>\n",
              "    </tr>\n",
              "  </thead>\n",
              "  <tbody>\n",
              "    <tr>\n",
              "      <th>2018-01-01</th>\n",
              "      <td>0.0</td>\n",
              "      <td>0.0</td>\n",
              "      <td>-inf</td>\n",
              "      <td>5505.0</td>\n",
              "      <td>-40.0</td>\n",
              "      <td>NaN</td>\n",
              "      <td>0.0</td>\n",
              "      <td>NaN</td>\n",
              "    </tr>\n",
              "    <tr>\n",
              "      <th>2018-01-02</th>\n",
              "      <td>0.0</td>\n",
              "      <td>0.0</td>\n",
              "      <td>-inf</td>\n",
              "      <td>-8.3</td>\n",
              "      <td>-16.1</td>\n",
              "      <td>-12.2</td>\n",
              "      <td>0.0</td>\n",
              "      <td>False</td>\n",
              "    </tr>\n",
              "    <tr>\n",
              "      <th>2018-01-03</th>\n",
              "      <td>0.0</td>\n",
              "      <td>0.0</td>\n",
              "      <td>-inf</td>\n",
              "      <td>-4.4</td>\n",
              "      <td>-13.9</td>\n",
              "      <td>-13.3</td>\n",
              "      <td>0.0</td>\n",
              "      <td>False</td>\n",
              "    </tr>\n",
              "    <tr>\n",
              "      <th>2018-01-04</th>\n",
              "      <td>20.6</td>\n",
              "      <td>229.0</td>\n",
              "      <td>inf</td>\n",
              "      <td>5505.0</td>\n",
              "      <td>-40.0</td>\n",
              "      <td>NaN</td>\n",
              "      <td>19.3</td>\n",
              "      <td>True</td>\n",
              "    </tr>\n",
              "    <tr>\n",
              "      <th>2018-01-05</th>\n",
              "      <td>14.2</td>\n",
              "      <td>127.0</td>\n",
              "      <td>inf</td>\n",
              "      <td>-4.4</td>\n",
              "      <td>-13.9</td>\n",
              "      <td>-13.9</td>\n",
              "      <td>0.0</td>\n",
              "      <td>True</td>\n",
              "    </tr>\n",
              "  </tbody>\n",
              "</table>\n",
              "</div>"
            ],
            "text/plain": [
              "            PRCP   SNOW  SNWD    TMAX  TMIN  TOBS  WESF inclement_weather\n",
              "date                                                                     \n",
              "2018-01-01   0.0    0.0  -inf  5505.0 -40.0   NaN   0.0               NaN\n",
              "2018-01-02   0.0    0.0  -inf    -8.3 -16.1 -12.2   0.0             False\n",
              "2018-01-03   0.0    0.0  -inf    -4.4 -13.9 -13.3   0.0             False\n",
              "2018-01-04  20.6  229.0   inf  5505.0 -40.0   NaN  19.3              True\n",
              "2018-01-05  14.2  127.0   inf    -4.4 -13.9 -13.9   0.0              True"
            ]
          },
          "metadata": {},
          "execution_count": 29
        }
      ]
    },
    {
      "cell_type": "markdown",
      "metadata": {
        "id": "CxprPPs7tlrZ"
      },
      "source": [
        "* ffill을 사용해서 0으로 만들어 주는 방법도 있다."
      ]
    },
    {
      "cell_type": "markdown",
      "metadata": {
        "id": "Gft0rgJ3aXql"
      },
      "source": [
        "At this point we have done everything we can without distorting the data. We know that we are missing dates, but if we reindex, we don't know how to fill in the `NaN` data. With the weather data, we can't assume because it snowed one day that it will snow the next or that the temperature will be the same. For this reason, note that the next few examples are just for illustrative purposes only—just because we can do something doesn't mean we should.\n",
        "\n",
        "That being said, let's try to address some of remaining issues with the temperature data. We know that when `TMAX` is the temperature of the Sun, it must be because there was no measured value, so let's replace it with `NaN`. We will also do so for `TMIN` which currently uses -40°C for its placeholder when we know that the coldest temperature ever recorded in NYC was -15°F (-26.1°C) on February 9, 1934:"
      ]
    },
    {
      "cell_type": "code",
      "metadata": {
        "id": "hcnB2FroaXql"
      },
      "source": [
        "df_deduped = df_deduped.assign(\n",
        "    TMAX=lambda x: x.TMAX.replace(5505, np.nan),\n",
        "    TMIN=lambda x: x.TMIN.replace(-40, np.nan),\n",
        ")"
      ],
      "execution_count": 30,
      "outputs": []
    },
    {
      "cell_type": "markdown",
      "metadata": {
        "id": "ECjdA61ctpYL"
      },
      "source": [
        "* assign함수를 사용해서 바꾸어주는 방법도 있다. "
      ]
    },
    {
      "cell_type": "markdown",
      "metadata": {
        "id": "73P55SE6aXql"
      },
      "source": [
        "We will also make an assumption that the temperature won't change drastically day-to-day. Note that this is actually a big assumption, but it will allow us to understand how `fillna()` works when we provide a strategy through the `method` parameter. The `fillna()` method gives us 2 options for the `method` parameter:\n",
        "- `'ffill'` to forward-fill\n",
        "- `'bfill'` to back-fill\n",
        "\n",
        "*Note that `'nearest'` is missing because we are not reindexing.*\n",
        "\n",
        "Here, we will use `'ffill'` to show how this works:"
      ]
    },
    {
      "cell_type": "markdown",
      "metadata": {
        "id": "1YNkF_brtwX1"
      },
      "source": [
        "* nan으로 바뀐 애들을 ffill을 사용해서 바꾸는 방법이다."
      ]
    },
    {
      "cell_type": "code",
      "metadata": {
        "id": "4Z5NTsrgaXql",
        "outputId": "75c0a221-19b3-4899-9284-fcaae7a4577e",
        "colab": {
          "base_uri": "https://localhost:8080/",
          "height": 235
        }
      },
      "source": [
        "df_deduped.assign(\n",
        "    TMAX=lambda x: x.TMAX.fillna(method='ffill'),\n",
        "    TMIN=lambda x: x.TMIN.fillna(method='ffill')\n",
        ").head()"
      ],
      "execution_count": 31,
      "outputs": [
        {
          "output_type": "execute_result",
          "data": {
            "text/html": [
              "<div>\n",
              "<style scoped>\n",
              "    .dataframe tbody tr th:only-of-type {\n",
              "        vertical-align: middle;\n",
              "    }\n",
              "\n",
              "    .dataframe tbody tr th {\n",
              "        vertical-align: top;\n",
              "    }\n",
              "\n",
              "    .dataframe thead th {\n",
              "        text-align: right;\n",
              "    }\n",
              "</style>\n",
              "<table border=\"1\" class=\"dataframe\">\n",
              "  <thead>\n",
              "    <tr style=\"text-align: right;\">\n",
              "      <th></th>\n",
              "      <th>PRCP</th>\n",
              "      <th>SNOW</th>\n",
              "      <th>SNWD</th>\n",
              "      <th>TMAX</th>\n",
              "      <th>TMIN</th>\n",
              "      <th>TOBS</th>\n",
              "      <th>WESF</th>\n",
              "      <th>inclement_weather</th>\n",
              "    </tr>\n",
              "    <tr>\n",
              "      <th>date</th>\n",
              "      <th></th>\n",
              "      <th></th>\n",
              "      <th></th>\n",
              "      <th></th>\n",
              "      <th></th>\n",
              "      <th></th>\n",
              "      <th></th>\n",
              "      <th></th>\n",
              "    </tr>\n",
              "  </thead>\n",
              "  <tbody>\n",
              "    <tr>\n",
              "      <th>2018-01-01</th>\n",
              "      <td>0.0</td>\n",
              "      <td>0.0</td>\n",
              "      <td>-inf</td>\n",
              "      <td>NaN</td>\n",
              "      <td>NaN</td>\n",
              "      <td>NaN</td>\n",
              "      <td>0.0</td>\n",
              "      <td>NaN</td>\n",
              "    </tr>\n",
              "    <tr>\n",
              "      <th>2018-01-02</th>\n",
              "      <td>0.0</td>\n",
              "      <td>0.0</td>\n",
              "      <td>-inf</td>\n",
              "      <td>-8.3</td>\n",
              "      <td>-16.1</td>\n",
              "      <td>-12.2</td>\n",
              "      <td>0.0</td>\n",
              "      <td>False</td>\n",
              "    </tr>\n",
              "    <tr>\n",
              "      <th>2018-01-03</th>\n",
              "      <td>0.0</td>\n",
              "      <td>0.0</td>\n",
              "      <td>-inf</td>\n",
              "      <td>-4.4</td>\n",
              "      <td>-13.9</td>\n",
              "      <td>-13.3</td>\n",
              "      <td>0.0</td>\n",
              "      <td>False</td>\n",
              "    </tr>\n",
              "    <tr>\n",
              "      <th>2018-01-04</th>\n",
              "      <td>20.6</td>\n",
              "      <td>229.0</td>\n",
              "      <td>inf</td>\n",
              "      <td>-4.4</td>\n",
              "      <td>-13.9</td>\n",
              "      <td>NaN</td>\n",
              "      <td>19.3</td>\n",
              "      <td>True</td>\n",
              "    </tr>\n",
              "    <tr>\n",
              "      <th>2018-01-05</th>\n",
              "      <td>14.2</td>\n",
              "      <td>127.0</td>\n",
              "      <td>inf</td>\n",
              "      <td>-4.4</td>\n",
              "      <td>-13.9</td>\n",
              "      <td>-13.9</td>\n",
              "      <td>0.0</td>\n",
              "      <td>True</td>\n",
              "    </tr>\n",
              "  </tbody>\n",
              "</table>\n",
              "</div>"
            ],
            "text/plain": [
              "            PRCP   SNOW  SNWD  TMAX  TMIN  TOBS  WESF inclement_weather\n",
              "date                                                                   \n",
              "2018-01-01   0.0    0.0  -inf   NaN   NaN   NaN   0.0               NaN\n",
              "2018-01-02   0.0    0.0  -inf  -8.3 -16.1 -12.2   0.0             False\n",
              "2018-01-03   0.0    0.0  -inf  -4.4 -13.9 -13.3   0.0             False\n",
              "2018-01-04  20.6  229.0   inf  -4.4 -13.9   NaN  19.3              True\n",
              "2018-01-05  14.2  127.0   inf  -4.4 -13.9 -13.9   0.0              True"
            ]
          },
          "metadata": {},
          "execution_count": 31
        }
      ]
    },
    {
      "cell_type": "markdown",
      "metadata": {
        "id": "85zCdYeLaXqm"
      },
      "source": [
        "We can use `np.nan_to_num()` to turn `np.nan` into 0 and `-np.inf`/`np.inf` into large negative or positive finite numbers:"
      ]
    },
    {
      "cell_type": "code",
      "metadata": {
        "id": "CNvVRcp8aXqm",
        "outputId": "aae9b723-354a-4e11-fcc1-e80364b898fd",
        "colab": {
          "base_uri": "https://localhost:8080/",
          "height": 235
        }
      },
      "source": [
        "df_deduped.assign(\n",
        "    SNWD=lambda x: np.nan_to_num(x.SNWD)\n",
        ").head()"
      ],
      "execution_count": 32,
      "outputs": [
        {
          "output_type": "execute_result",
          "data": {
            "text/html": [
              "<div>\n",
              "<style scoped>\n",
              "    .dataframe tbody tr th:only-of-type {\n",
              "        vertical-align: middle;\n",
              "    }\n",
              "\n",
              "    .dataframe tbody tr th {\n",
              "        vertical-align: top;\n",
              "    }\n",
              "\n",
              "    .dataframe thead th {\n",
              "        text-align: right;\n",
              "    }\n",
              "</style>\n",
              "<table border=\"1\" class=\"dataframe\">\n",
              "  <thead>\n",
              "    <tr style=\"text-align: right;\">\n",
              "      <th></th>\n",
              "      <th>PRCP</th>\n",
              "      <th>SNOW</th>\n",
              "      <th>SNWD</th>\n",
              "      <th>TMAX</th>\n",
              "      <th>TMIN</th>\n",
              "      <th>TOBS</th>\n",
              "      <th>WESF</th>\n",
              "      <th>inclement_weather</th>\n",
              "    </tr>\n",
              "    <tr>\n",
              "      <th>date</th>\n",
              "      <th></th>\n",
              "      <th></th>\n",
              "      <th></th>\n",
              "      <th></th>\n",
              "      <th></th>\n",
              "      <th></th>\n",
              "      <th></th>\n",
              "      <th></th>\n",
              "    </tr>\n",
              "  </thead>\n",
              "  <tbody>\n",
              "    <tr>\n",
              "      <th>2018-01-01</th>\n",
              "      <td>0.0</td>\n",
              "      <td>0.0</td>\n",
              "      <td>-1.797693e+308</td>\n",
              "      <td>NaN</td>\n",
              "      <td>NaN</td>\n",
              "      <td>NaN</td>\n",
              "      <td>0.0</td>\n",
              "      <td>NaN</td>\n",
              "    </tr>\n",
              "    <tr>\n",
              "      <th>2018-01-02</th>\n",
              "      <td>0.0</td>\n",
              "      <td>0.0</td>\n",
              "      <td>-1.797693e+308</td>\n",
              "      <td>-8.3</td>\n",
              "      <td>-16.1</td>\n",
              "      <td>-12.2</td>\n",
              "      <td>0.0</td>\n",
              "      <td>False</td>\n",
              "    </tr>\n",
              "    <tr>\n",
              "      <th>2018-01-03</th>\n",
              "      <td>0.0</td>\n",
              "      <td>0.0</td>\n",
              "      <td>-1.797693e+308</td>\n",
              "      <td>-4.4</td>\n",
              "      <td>-13.9</td>\n",
              "      <td>-13.3</td>\n",
              "      <td>0.0</td>\n",
              "      <td>False</td>\n",
              "    </tr>\n",
              "    <tr>\n",
              "      <th>2018-01-04</th>\n",
              "      <td>20.6</td>\n",
              "      <td>229.0</td>\n",
              "      <td>1.797693e+308</td>\n",
              "      <td>NaN</td>\n",
              "      <td>NaN</td>\n",
              "      <td>NaN</td>\n",
              "      <td>19.3</td>\n",
              "      <td>True</td>\n",
              "    </tr>\n",
              "    <tr>\n",
              "      <th>2018-01-05</th>\n",
              "      <td>14.2</td>\n",
              "      <td>127.0</td>\n",
              "      <td>1.797693e+308</td>\n",
              "      <td>-4.4</td>\n",
              "      <td>-13.9</td>\n",
              "      <td>-13.9</td>\n",
              "      <td>0.0</td>\n",
              "      <td>True</td>\n",
              "    </tr>\n",
              "  </tbody>\n",
              "</table>\n",
              "</div>"
            ],
            "text/plain": [
              "            PRCP   SNOW           SNWD  ...  TOBS  WESF  inclement_weather\n",
              "date                                    ...                               \n",
              "2018-01-01   0.0    0.0 -1.797693e+308  ...   NaN   0.0                NaN\n",
              "2018-01-02   0.0    0.0 -1.797693e+308  ... -12.2   0.0              False\n",
              "2018-01-03   0.0    0.0 -1.797693e+308  ... -13.3   0.0              False\n",
              "2018-01-04  20.6  229.0  1.797693e+308  ...   NaN  19.3               True\n",
              "2018-01-05  14.2  127.0  1.797693e+308  ... -13.9   0.0               True\n",
              "\n",
              "[5 rows x 8 columns]"
            ]
          },
          "metadata": {},
          "execution_count": 32
        }
      ]
    },
    {
      "cell_type": "markdown",
      "metadata": {
        "id": "_VOkFPK4t24f"
      },
      "source": [
        "* SNWD를 -무한대나 +무한대인 것을 numeric한 것으로 만들어 주는 방법이다."
      ]
    },
    {
      "cell_type": "markdown",
      "metadata": {
        "id": "1kM6YhcSaXqm"
      },
      "source": [
        "Depending on the data we are working with, we can use the `clip()` method as an alternative to `np.nan_to_num()`. The `clip()` method makes it possible to cap values at a specific minimum and/or maximum threshold. Since `SNWD` can't be negative, let's use `clip()` to enforce a lower bound of zero. To show how the upper bound works, let's use the value of `SNOW`:"
      ]
    },
    {
      "cell_type": "code",
      "metadata": {
        "id": "24M70w-HaXqm",
        "outputId": "5d5942b8-7b6f-4f9f-f608-c5e62cd16241",
        "colab": {
          "base_uri": "https://localhost:8080/",
          "height": 235
        }
      },
      "source": [
        "df_deduped.assign(\n",
        "    SNWD=lambda x: x.SNWD.clip(0, x.SNOW)\n",
        ").head()"
      ],
      "execution_count": 33,
      "outputs": [
        {
          "output_type": "execute_result",
          "data": {
            "text/html": [
              "<div>\n",
              "<style scoped>\n",
              "    .dataframe tbody tr th:only-of-type {\n",
              "        vertical-align: middle;\n",
              "    }\n",
              "\n",
              "    .dataframe tbody tr th {\n",
              "        vertical-align: top;\n",
              "    }\n",
              "\n",
              "    .dataframe thead th {\n",
              "        text-align: right;\n",
              "    }\n",
              "</style>\n",
              "<table border=\"1\" class=\"dataframe\">\n",
              "  <thead>\n",
              "    <tr style=\"text-align: right;\">\n",
              "      <th></th>\n",
              "      <th>PRCP</th>\n",
              "      <th>SNOW</th>\n",
              "      <th>SNWD</th>\n",
              "      <th>TMAX</th>\n",
              "      <th>TMIN</th>\n",
              "      <th>TOBS</th>\n",
              "      <th>WESF</th>\n",
              "      <th>inclement_weather</th>\n",
              "    </tr>\n",
              "    <tr>\n",
              "      <th>date</th>\n",
              "      <th></th>\n",
              "      <th></th>\n",
              "      <th></th>\n",
              "      <th></th>\n",
              "      <th></th>\n",
              "      <th></th>\n",
              "      <th></th>\n",
              "      <th></th>\n",
              "    </tr>\n",
              "  </thead>\n",
              "  <tbody>\n",
              "    <tr>\n",
              "      <th>2018-01-01</th>\n",
              "      <td>0.0</td>\n",
              "      <td>0.0</td>\n",
              "      <td>0.0</td>\n",
              "      <td>NaN</td>\n",
              "      <td>NaN</td>\n",
              "      <td>NaN</td>\n",
              "      <td>0.0</td>\n",
              "      <td>NaN</td>\n",
              "    </tr>\n",
              "    <tr>\n",
              "      <th>2018-01-02</th>\n",
              "      <td>0.0</td>\n",
              "      <td>0.0</td>\n",
              "      <td>0.0</td>\n",
              "      <td>-8.3</td>\n",
              "      <td>-16.1</td>\n",
              "      <td>-12.2</td>\n",
              "      <td>0.0</td>\n",
              "      <td>False</td>\n",
              "    </tr>\n",
              "    <tr>\n",
              "      <th>2018-01-03</th>\n",
              "      <td>0.0</td>\n",
              "      <td>0.0</td>\n",
              "      <td>0.0</td>\n",
              "      <td>-4.4</td>\n",
              "      <td>-13.9</td>\n",
              "      <td>-13.3</td>\n",
              "      <td>0.0</td>\n",
              "      <td>False</td>\n",
              "    </tr>\n",
              "    <tr>\n",
              "      <th>2018-01-04</th>\n",
              "      <td>20.6</td>\n",
              "      <td>229.0</td>\n",
              "      <td>229.0</td>\n",
              "      <td>NaN</td>\n",
              "      <td>NaN</td>\n",
              "      <td>NaN</td>\n",
              "      <td>19.3</td>\n",
              "      <td>True</td>\n",
              "    </tr>\n",
              "    <tr>\n",
              "      <th>2018-01-05</th>\n",
              "      <td>14.2</td>\n",
              "      <td>127.0</td>\n",
              "      <td>127.0</td>\n",
              "      <td>-4.4</td>\n",
              "      <td>-13.9</td>\n",
              "      <td>-13.9</td>\n",
              "      <td>0.0</td>\n",
              "      <td>True</td>\n",
              "    </tr>\n",
              "  </tbody>\n",
              "</table>\n",
              "</div>"
            ],
            "text/plain": [
              "            PRCP   SNOW   SNWD  TMAX  TMIN  TOBS  WESF inclement_weather\n",
              "date                                                                    \n",
              "2018-01-01   0.0    0.0    0.0   NaN   NaN   NaN   0.0               NaN\n",
              "2018-01-02   0.0    0.0    0.0  -8.3 -16.1 -12.2   0.0             False\n",
              "2018-01-03   0.0    0.0    0.0  -4.4 -13.9 -13.3   0.0             False\n",
              "2018-01-04  20.6  229.0  229.0   NaN   NaN   NaN  19.3              True\n",
              "2018-01-05  14.2  127.0  127.0  -4.4 -13.9 -13.9   0.0              True"
            ]
          },
          "metadata": {},
          "execution_count": 33
        }
      ]
    },
    {
      "cell_type": "markdown",
      "metadata": {
        "id": "myWIN-z4aXqm"
      },
      "source": [
        "We can couple `fillna()` with other types of calculations. Here we replace missing values of `TMAX` with the median of all `TMAX` values, `TMIN` with the median of all `TMIN` values, and `TOBS` to the average of the `TMAX` and `TMIN` values. Since we place `TOBS` last, we have access to the imputed values for `TMIN` and `TMAX` in the calculation:"
      ]
    },
    {
      "cell_type": "code",
      "metadata": {
        "id": "C8KbA_-EaXqm",
        "outputId": "5142087f-b8e3-43ff-97f1-1d75c1739d19",
        "colab": {
          "base_uri": "https://localhost:8080/",
          "height": 235
        }
      },
      "source": [
        "df_deduped.assign(\n",
        "    TMAX=lambda x: x.TMAX.fillna(x.TMAX.median()),\n",
        "    TMIN=lambda x: x.TMIN.fillna(x.TMIN.median()),\n",
        "    # average of TMAX and TMIN\n",
        "    TOBS=lambda x: x.TOBS.fillna((x.TMAX + x.TMIN) / 2)\n",
        ").head()"
      ],
      "execution_count": 34,
      "outputs": [
        {
          "output_type": "execute_result",
          "data": {
            "text/html": [
              "<div>\n",
              "<style scoped>\n",
              "    .dataframe tbody tr th:only-of-type {\n",
              "        vertical-align: middle;\n",
              "    }\n",
              "\n",
              "    .dataframe tbody tr th {\n",
              "        vertical-align: top;\n",
              "    }\n",
              "\n",
              "    .dataframe thead th {\n",
              "        text-align: right;\n",
              "    }\n",
              "</style>\n",
              "<table border=\"1\" class=\"dataframe\">\n",
              "  <thead>\n",
              "    <tr style=\"text-align: right;\">\n",
              "      <th></th>\n",
              "      <th>PRCP</th>\n",
              "      <th>SNOW</th>\n",
              "      <th>SNWD</th>\n",
              "      <th>TMAX</th>\n",
              "      <th>TMIN</th>\n",
              "      <th>TOBS</th>\n",
              "      <th>WESF</th>\n",
              "      <th>inclement_weather</th>\n",
              "    </tr>\n",
              "    <tr>\n",
              "      <th>date</th>\n",
              "      <th></th>\n",
              "      <th></th>\n",
              "      <th></th>\n",
              "      <th></th>\n",
              "      <th></th>\n",
              "      <th></th>\n",
              "      <th></th>\n",
              "      <th></th>\n",
              "    </tr>\n",
              "  </thead>\n",
              "  <tbody>\n",
              "    <tr>\n",
              "      <th>2018-01-01</th>\n",
              "      <td>0.0</td>\n",
              "      <td>0.0</td>\n",
              "      <td>-inf</td>\n",
              "      <td>14.4</td>\n",
              "      <td>5.6</td>\n",
              "      <td>10.0</td>\n",
              "      <td>0.0</td>\n",
              "      <td>NaN</td>\n",
              "    </tr>\n",
              "    <tr>\n",
              "      <th>2018-01-02</th>\n",
              "      <td>0.0</td>\n",
              "      <td>0.0</td>\n",
              "      <td>-inf</td>\n",
              "      <td>-8.3</td>\n",
              "      <td>-16.1</td>\n",
              "      <td>-12.2</td>\n",
              "      <td>0.0</td>\n",
              "      <td>False</td>\n",
              "    </tr>\n",
              "    <tr>\n",
              "      <th>2018-01-03</th>\n",
              "      <td>0.0</td>\n",
              "      <td>0.0</td>\n",
              "      <td>-inf</td>\n",
              "      <td>-4.4</td>\n",
              "      <td>-13.9</td>\n",
              "      <td>-13.3</td>\n",
              "      <td>0.0</td>\n",
              "      <td>False</td>\n",
              "    </tr>\n",
              "    <tr>\n",
              "      <th>2018-01-04</th>\n",
              "      <td>20.6</td>\n",
              "      <td>229.0</td>\n",
              "      <td>inf</td>\n",
              "      <td>14.4</td>\n",
              "      <td>5.6</td>\n",
              "      <td>10.0</td>\n",
              "      <td>19.3</td>\n",
              "      <td>True</td>\n",
              "    </tr>\n",
              "    <tr>\n",
              "      <th>2018-01-05</th>\n",
              "      <td>14.2</td>\n",
              "      <td>127.0</td>\n",
              "      <td>inf</td>\n",
              "      <td>-4.4</td>\n",
              "      <td>-13.9</td>\n",
              "      <td>-13.9</td>\n",
              "      <td>0.0</td>\n",
              "      <td>True</td>\n",
              "    </tr>\n",
              "  </tbody>\n",
              "</table>\n",
              "</div>"
            ],
            "text/plain": [
              "            PRCP   SNOW  SNWD  TMAX  TMIN  TOBS  WESF inclement_weather\n",
              "date                                                                   \n",
              "2018-01-01   0.0    0.0  -inf  14.4   5.6  10.0   0.0               NaN\n",
              "2018-01-02   0.0    0.0  -inf  -8.3 -16.1 -12.2   0.0             False\n",
              "2018-01-03   0.0    0.0  -inf  -4.4 -13.9 -13.3   0.0             False\n",
              "2018-01-04  20.6  229.0   inf  14.4   5.6  10.0  19.3              True\n",
              "2018-01-05  14.2  127.0   inf  -4.4 -13.9 -13.9   0.0              True"
            ]
          },
          "metadata": {},
          "execution_count": 34
        }
      ]
    },
    {
      "cell_type": "markdown",
      "metadata": {
        "id": "ODDORB64t_Yx"
      },
      "source": [
        "* median으로 사용하게 되면 이전 날짜와 비교해보았을 때 값이 이상해지는 것을 볼 수 있다. "
      ]
    },
    {
      "cell_type": "markdown",
      "metadata": {
        "id": "5zzmUY33aXqm"
      },
      "source": [
        "We can also use `apply()` for running the same calculation across columns. For example, let's fill all missing values with their rolling 7-day median of their values, setting the number of periods required for the calculation to 0 to ensure we don't introduce more extra `NaN` values. Rolling calculations will be covered in chapter 4, so this is a preview:"
      ]
    },
    {
      "cell_type": "code",
      "metadata": {
        "id": "8CFLh7wYaXqn",
        "outputId": "036f0264-feb9-4af5-dcd2-91d8bcee38ee",
        "colab": {
          "base_uri": "https://localhost:8080/",
          "height": 390
        }
      },
      "source": [
        "df_deduped.apply(\n",
        "    # rolling calculations will be covered in chapter 4, this is a rolling 7-day median\n",
        "    # we set min_periods (# of periods required for calculation) to 0 so we always get a result \n",
        "    lambda x: x.fillna(x.rolling(7, min_periods=0).median())\n",
        ").head(10)"
      ],
      "execution_count": 35,
      "outputs": [
        {
          "output_type": "execute_result",
          "data": {
            "text/html": [
              "<div>\n",
              "<style scoped>\n",
              "    .dataframe tbody tr th:only-of-type {\n",
              "        vertical-align: middle;\n",
              "    }\n",
              "\n",
              "    .dataframe tbody tr th {\n",
              "        vertical-align: top;\n",
              "    }\n",
              "\n",
              "    .dataframe thead th {\n",
              "        text-align: right;\n",
              "    }\n",
              "</style>\n",
              "<table border=\"1\" class=\"dataframe\">\n",
              "  <thead>\n",
              "    <tr style=\"text-align: right;\">\n",
              "      <th></th>\n",
              "      <th>PRCP</th>\n",
              "      <th>SNOW</th>\n",
              "      <th>SNWD</th>\n",
              "      <th>TMAX</th>\n",
              "      <th>TMIN</th>\n",
              "      <th>TOBS</th>\n",
              "      <th>WESF</th>\n",
              "      <th>inclement_weather</th>\n",
              "    </tr>\n",
              "    <tr>\n",
              "      <th>date</th>\n",
              "      <th></th>\n",
              "      <th></th>\n",
              "      <th></th>\n",
              "      <th></th>\n",
              "      <th></th>\n",
              "      <th></th>\n",
              "      <th></th>\n",
              "      <th></th>\n",
              "    </tr>\n",
              "  </thead>\n",
              "  <tbody>\n",
              "    <tr>\n",
              "      <th>2018-01-01</th>\n",
              "      <td>0.0</td>\n",
              "      <td>0.0</td>\n",
              "      <td>-inf</td>\n",
              "      <td>NaN</td>\n",
              "      <td>NaN</td>\n",
              "      <td>NaN</td>\n",
              "      <td>0.0</td>\n",
              "      <td>NaN</td>\n",
              "    </tr>\n",
              "    <tr>\n",
              "      <th>2018-01-02</th>\n",
              "      <td>0.0</td>\n",
              "      <td>0.0</td>\n",
              "      <td>-inf</td>\n",
              "      <td>-8.30</td>\n",
              "      <td>-16.1</td>\n",
              "      <td>-12.20</td>\n",
              "      <td>0.0</td>\n",
              "      <td>False</td>\n",
              "    </tr>\n",
              "    <tr>\n",
              "      <th>2018-01-03</th>\n",
              "      <td>0.0</td>\n",
              "      <td>0.0</td>\n",
              "      <td>-inf</td>\n",
              "      <td>-4.40</td>\n",
              "      <td>-13.9</td>\n",
              "      <td>-13.30</td>\n",
              "      <td>0.0</td>\n",
              "      <td>False</td>\n",
              "    </tr>\n",
              "    <tr>\n",
              "      <th>2018-01-04</th>\n",
              "      <td>20.6</td>\n",
              "      <td>229.0</td>\n",
              "      <td>inf</td>\n",
              "      <td>-6.35</td>\n",
              "      <td>-15.0</td>\n",
              "      <td>-12.75</td>\n",
              "      <td>19.3</td>\n",
              "      <td>True</td>\n",
              "    </tr>\n",
              "    <tr>\n",
              "      <th>2018-01-05</th>\n",
              "      <td>14.2</td>\n",
              "      <td>127.0</td>\n",
              "      <td>inf</td>\n",
              "      <td>-4.40</td>\n",
              "      <td>-13.9</td>\n",
              "      <td>-13.90</td>\n",
              "      <td>0.0</td>\n",
              "      <td>True</td>\n",
              "    </tr>\n",
              "    <tr>\n",
              "      <th>2018-01-06</th>\n",
              "      <td>0.0</td>\n",
              "      <td>0.0</td>\n",
              "      <td>-inf</td>\n",
              "      <td>-10.00</td>\n",
              "      <td>-15.6</td>\n",
              "      <td>-15.00</td>\n",
              "      <td>0.0</td>\n",
              "      <td>False</td>\n",
              "    </tr>\n",
              "    <tr>\n",
              "      <th>2018-01-07</th>\n",
              "      <td>0.0</td>\n",
              "      <td>0.0</td>\n",
              "      <td>-inf</td>\n",
              "      <td>-11.70</td>\n",
              "      <td>-17.2</td>\n",
              "      <td>-16.10</td>\n",
              "      <td>0.0</td>\n",
              "      <td>False</td>\n",
              "    </tr>\n",
              "    <tr>\n",
              "      <th>2018-01-08</th>\n",
              "      <td>0.0</td>\n",
              "      <td>0.0</td>\n",
              "      <td>-inf</td>\n",
              "      <td>-7.80</td>\n",
              "      <td>-16.7</td>\n",
              "      <td>-8.30</td>\n",
              "      <td>0.0</td>\n",
              "      <td>False</td>\n",
              "    </tr>\n",
              "    <tr>\n",
              "      <th>2018-01-10</th>\n",
              "      <td>0.0</td>\n",
              "      <td>0.0</td>\n",
              "      <td>-inf</td>\n",
              "      <td>5.00</td>\n",
              "      <td>-7.8</td>\n",
              "      <td>-7.80</td>\n",
              "      <td>0.0</td>\n",
              "      <td>False</td>\n",
              "    </tr>\n",
              "    <tr>\n",
              "      <th>2018-01-11</th>\n",
              "      <td>0.0</td>\n",
              "      <td>0.0</td>\n",
              "      <td>-inf</td>\n",
              "      <td>4.40</td>\n",
              "      <td>-7.8</td>\n",
              "      <td>1.10</td>\n",
              "      <td>0.0</td>\n",
              "      <td>False</td>\n",
              "    </tr>\n",
              "  </tbody>\n",
              "</table>\n",
              "</div>"
            ],
            "text/plain": [
              "            PRCP   SNOW  SNWD   TMAX  TMIN   TOBS  WESF inclement_weather\n",
              "date                                                                     \n",
              "2018-01-01   0.0    0.0  -inf    NaN   NaN    NaN   0.0               NaN\n",
              "2018-01-02   0.0    0.0  -inf  -8.30 -16.1 -12.20   0.0             False\n",
              "2018-01-03   0.0    0.0  -inf  -4.40 -13.9 -13.30   0.0             False\n",
              "2018-01-04  20.6  229.0   inf  -6.35 -15.0 -12.75  19.3              True\n",
              "2018-01-05  14.2  127.0   inf  -4.40 -13.9 -13.90   0.0              True\n",
              "2018-01-06   0.0    0.0  -inf -10.00 -15.6 -15.00   0.0             False\n",
              "2018-01-07   0.0    0.0  -inf -11.70 -17.2 -16.10   0.0             False\n",
              "2018-01-08   0.0    0.0  -inf  -7.80 -16.7  -8.30   0.0             False\n",
              "2018-01-10   0.0    0.0  -inf   5.00  -7.8  -7.80   0.0             False\n",
              "2018-01-11   0.0    0.0  -inf   4.40  -7.8   1.10   0.0             False"
            ]
          },
          "metadata": {},
          "execution_count": 35
        }
      ]
    },
    {
      "cell_type": "markdown",
      "metadata": {
        "id": "enWlKQBVaXqn"
      },
      "source": [
        "The last strategy we could try is interpolation with the `interpolate()` method. We specify the `method` parameter with the interpolation strategy to use. There are many options, but we will stick with the default of `'linear'`, which will treat values as evenly spaced and place missing values in the middle of existing ones. We have some missing data, so we will reindex first. Look at January 9th, which we didn't have before—the values for `TMAX`, `TMIN`, and `TOBS` are the average of values the day prior (January 8th) and the day after (January 10th):"
      ]
    },
    {
      "cell_type": "markdown",
      "metadata": {
        "id": "sPJMyKONuGyx"
      },
      "source": [
        "* 전체의 median을 사용하지 않고 여기에서 처럼 7일의 median을 사용해주는 방법이 더 좋을 수도 있다. "
      ]
    },
    {
      "cell_type": "code",
      "metadata": {
        "id": "Irnhg-0EaXqn",
        "outputId": "937c61cd-f191-469a-e9ad-d967cd35b069",
        "colab": {
          "base_uri": "https://localhost:8080/",
          "height": 359
        }
      },
      "source": [
        "df_deduped\\\n",
        "    .reindex(pd.date_range('2018-01-01', '2018-12-31', freq='D'))\\\n",
        "    .apply(lambda x: x.interpolate())\\\n",
        "    .head(10)"
      ],
      "execution_count": 36,
      "outputs": [
        {
          "output_type": "execute_result",
          "data": {
            "text/html": [
              "<div>\n",
              "<style scoped>\n",
              "    .dataframe tbody tr th:only-of-type {\n",
              "        vertical-align: middle;\n",
              "    }\n",
              "\n",
              "    .dataframe tbody tr th {\n",
              "        vertical-align: top;\n",
              "    }\n",
              "\n",
              "    .dataframe thead th {\n",
              "        text-align: right;\n",
              "    }\n",
              "</style>\n",
              "<table border=\"1\" class=\"dataframe\">\n",
              "  <thead>\n",
              "    <tr style=\"text-align: right;\">\n",
              "      <th></th>\n",
              "      <th>PRCP</th>\n",
              "      <th>SNOW</th>\n",
              "      <th>SNWD</th>\n",
              "      <th>TMAX</th>\n",
              "      <th>TMIN</th>\n",
              "      <th>TOBS</th>\n",
              "      <th>WESF</th>\n",
              "      <th>inclement_weather</th>\n",
              "    </tr>\n",
              "  </thead>\n",
              "  <tbody>\n",
              "    <tr>\n",
              "      <th>2018-01-01</th>\n",
              "      <td>0.0</td>\n",
              "      <td>0.0</td>\n",
              "      <td>-inf</td>\n",
              "      <td>NaN</td>\n",
              "      <td>NaN</td>\n",
              "      <td>NaN</td>\n",
              "      <td>0.0</td>\n",
              "      <td>NaN</td>\n",
              "    </tr>\n",
              "    <tr>\n",
              "      <th>2018-01-02</th>\n",
              "      <td>0.0</td>\n",
              "      <td>0.0</td>\n",
              "      <td>-inf</td>\n",
              "      <td>-8.3</td>\n",
              "      <td>-16.10</td>\n",
              "      <td>-12.20</td>\n",
              "      <td>0.0</td>\n",
              "      <td>False</td>\n",
              "    </tr>\n",
              "    <tr>\n",
              "      <th>2018-01-03</th>\n",
              "      <td>0.0</td>\n",
              "      <td>0.0</td>\n",
              "      <td>-inf</td>\n",
              "      <td>-4.4</td>\n",
              "      <td>-13.90</td>\n",
              "      <td>-13.30</td>\n",
              "      <td>0.0</td>\n",
              "      <td>False</td>\n",
              "    </tr>\n",
              "    <tr>\n",
              "      <th>2018-01-04</th>\n",
              "      <td>20.6</td>\n",
              "      <td>229.0</td>\n",
              "      <td>inf</td>\n",
              "      <td>-4.4</td>\n",
              "      <td>-13.90</td>\n",
              "      <td>-13.60</td>\n",
              "      <td>19.3</td>\n",
              "      <td>True</td>\n",
              "    </tr>\n",
              "    <tr>\n",
              "      <th>2018-01-05</th>\n",
              "      <td>14.2</td>\n",
              "      <td>127.0</td>\n",
              "      <td>inf</td>\n",
              "      <td>-4.4</td>\n",
              "      <td>-13.90</td>\n",
              "      <td>-13.90</td>\n",
              "      <td>0.0</td>\n",
              "      <td>True</td>\n",
              "    </tr>\n",
              "    <tr>\n",
              "      <th>2018-01-06</th>\n",
              "      <td>0.0</td>\n",
              "      <td>0.0</td>\n",
              "      <td>-inf</td>\n",
              "      <td>-10.0</td>\n",
              "      <td>-15.60</td>\n",
              "      <td>-15.00</td>\n",
              "      <td>0.0</td>\n",
              "      <td>False</td>\n",
              "    </tr>\n",
              "    <tr>\n",
              "      <th>2018-01-07</th>\n",
              "      <td>0.0</td>\n",
              "      <td>0.0</td>\n",
              "      <td>-inf</td>\n",
              "      <td>-11.7</td>\n",
              "      <td>-17.20</td>\n",
              "      <td>-16.10</td>\n",
              "      <td>0.0</td>\n",
              "      <td>False</td>\n",
              "    </tr>\n",
              "    <tr>\n",
              "      <th>2018-01-08</th>\n",
              "      <td>0.0</td>\n",
              "      <td>0.0</td>\n",
              "      <td>-inf</td>\n",
              "      <td>-7.8</td>\n",
              "      <td>-16.70</td>\n",
              "      <td>-8.30</td>\n",
              "      <td>0.0</td>\n",
              "      <td>False</td>\n",
              "    </tr>\n",
              "    <tr>\n",
              "      <th>2018-01-09</th>\n",
              "      <td>0.0</td>\n",
              "      <td>0.0</td>\n",
              "      <td>-inf</td>\n",
              "      <td>-1.4</td>\n",
              "      <td>-12.25</td>\n",
              "      <td>-8.05</td>\n",
              "      <td>0.0</td>\n",
              "      <td>NaN</td>\n",
              "    </tr>\n",
              "    <tr>\n",
              "      <th>2018-01-10</th>\n",
              "      <td>0.0</td>\n",
              "      <td>0.0</td>\n",
              "      <td>-inf</td>\n",
              "      <td>5.0</td>\n",
              "      <td>-7.80</td>\n",
              "      <td>-7.80</td>\n",
              "      <td>0.0</td>\n",
              "      <td>False</td>\n",
              "    </tr>\n",
              "  </tbody>\n",
              "</table>\n",
              "</div>"
            ],
            "text/plain": [
              "            PRCP   SNOW  SNWD  TMAX   TMIN   TOBS  WESF inclement_weather\n",
              "2018-01-01   0.0    0.0  -inf   NaN    NaN    NaN   0.0               NaN\n",
              "2018-01-02   0.0    0.0  -inf  -8.3 -16.10 -12.20   0.0             False\n",
              "2018-01-03   0.0    0.0  -inf  -4.4 -13.90 -13.30   0.0             False\n",
              "2018-01-04  20.6  229.0   inf  -4.4 -13.90 -13.60  19.3              True\n",
              "2018-01-05  14.2  127.0   inf  -4.4 -13.90 -13.90   0.0              True\n",
              "2018-01-06   0.0    0.0  -inf -10.0 -15.60 -15.00   0.0             False\n",
              "2018-01-07   0.0    0.0  -inf -11.7 -17.20 -16.10   0.0             False\n",
              "2018-01-08   0.0    0.0  -inf  -7.8 -16.70  -8.30   0.0             False\n",
              "2018-01-09   0.0    0.0  -inf  -1.4 -12.25  -8.05   0.0               NaN\n",
              "2018-01-10   0.0    0.0  -inf   5.0  -7.80  -7.80   0.0             False"
            ]
          },
          "metadata": {},
          "execution_count": 36
        }
      ]
    },
    {
      "cell_type": "markdown",
      "metadata": {
        "id": "ctLg1p7_uOgF"
      },
      "source": [
        "* 아니면 interpolate를 사용해서 하는 방법도 좋을 수 있다고 하심."
      ]
    },
    {
      "cell_type": "markdown",
      "metadata": {
        "id": "vnGzFnzpaXqn"
      },
      "source": [
        "<hr>\n",
        "\n",
        "<div style=\"overflow: hidden; margin-bottom: 10px;\">\n",
        "    <div style=\"float: left;\">\n",
        "         <a href=\"./4-reshaping_data.ipynb\">\n",
        "            <button>&#8592; Previous Notebook</button>\n",
        "        </a>\n",
        "    </div>\n",
        "    <div style=\"float: right;\">\n",
        "        <a href=\"../../solutions/ch_03/solutions.ipynb\">\n",
        "            <button>Solutions</button>\n",
        "        </a>\n",
        "        <a href=\"../ch_04/1-querying_and_merging.ipynb\">\n",
        "            <button>Chapter 4 &#8594;</button>\n",
        "        </a>\n",
        "    </div>\n",
        "</div>\n",
        "<hr>"
      ]
    }
  ]
}
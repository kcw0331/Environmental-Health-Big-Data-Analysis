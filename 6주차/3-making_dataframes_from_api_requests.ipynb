{
  "nbformat": 4,
  "nbformat_minor": 0,
  "metadata": {
    "kernelspec": {
      "display_name": "Python 3",
      "language": "python",
      "name": "python3"
    },
    "language_info": {
      "codemirror_mode": {
        "name": "ipython",
        "version": 3
      },
      "file_extension": ".py",
      "mimetype": "text/x-python",
      "name": "python",
      "nbconvert_exporter": "python",
      "pygments_lexer": "ipython3",
      "version": "3.7.3"
    },
    "colab": {
      "name": "3-making_dataframes_from_api_requests.ipynb",
      "provenance": [],
      "include_colab_link": true
    }
  },
  "cells": [
    {
      "cell_type": "markdown",
      "metadata": {
        "id": "view-in-github",
        "colab_type": "text"
      },
      "source": [
        "<a href=\"https://colab.research.google.com/github/kcw0331/Environmental-Health-Big-Data-Analysis/blob/main/6%EC%A3%BC%EC%B0%A8/3-making_dataframes_from_api_requests.ipynb\" target=\"_parent\"><img src=\"https://colab.research.google.com/assets/colab-badge.svg\" alt=\"Open In Colab\"/></a>"
      ]
    },
    {
      "cell_type": "code",
      "metadata": {
        "id": "uiKQOJEJytS_",
        "colab": {
          "base_uri": "https://localhost:8080/"
        },
        "outputId": "852ee1db-5fdd-4211-f64e-29daf9000118"
      },
      "source": [
        "from google.colab import drive\n",
        "drive.mount('/content/drive')"
      ],
      "execution_count": 1,
      "outputs": [
        {
          "output_type": "stream",
          "name": "stdout",
          "text": [
            "Mounted at /content/drive\n"
          ]
        }
      ]
    },
    {
      "cell_type": "code",
      "metadata": {
        "id": "ipuHQqDVy7cM",
        "colab": {
          "base_uri": "https://localhost:8080/"
        },
        "outputId": "2b6f8ca3-14ea-4227-ef59-b0f014c79914"
      },
      "source": [
        "cd /content/drive/MyDrive/Hands-On-Data-Analysis-with-Pandas-2nd-edition/ch_02"
      ],
      "execution_count": 2,
      "outputs": [
        {
          "output_type": "stream",
          "name": "stdout",
          "text": [
            "/content/drive/MyDrive/Hands-On-Data-Analysis-with-Pandas-2nd-edition/ch_02\n"
          ]
        }
      ]
    },
    {
      "cell_type": "markdown",
      "metadata": {
        "id": "jmWAOaJlyqc2"
      },
      "source": [
        "# Making Pandas DataFrames from API Requests\n",
        "In this example, we will use the U.S. Geological Survey's API to grab a JSON object of earthquake data and convert it to a `pandas.DataFrame`.\n",
        "\n",
        "USGS API: https://earthquake.usgs.gov/fdsnws/event/1/"
      ]
    },
    {
      "cell_type": "markdown",
      "metadata": {
        "id": "QhzTMzGYyqc7"
      },
      "source": [
        "### Get Data from API"
      ]
    },
    {
      "cell_type": "code",
      "metadata": {
        "id": "kgk_bLcryqc8",
        "colab": {
          "base_uri": "https://localhost:8080/"
        },
        "outputId": "6cd04a7c-dda9-465f-d788-4451df24b687"
      },
      "source": [
        "import datetime as dt\n",
        "import pandas as pd\n",
        "import requests  #requests를 이용해서 받아 올 거다.\n",
        "\n",
        "yesterday = dt.date.today() - dt.timedelta(days=1)\n",
        "api = 'https://earthquake.usgs.gov/fdsnws/event/1/query' #이 주소로 가지고 온다.\n",
        "payload = {\n",
        "    'format': 'geojson', #format은 geojson으로 한다.\n",
        "    'starttime': yesterday - dt.timedelta(days=30),\n",
        "    'endtime': yesterday\n",
        "}\n",
        "response = requests.get(api, params=payload)\n",
        "\n",
        "# let's make sure the request was OK\n",
        "response.status_code"
      ],
      "execution_count": 3,
      "outputs": [
        {
          "output_type": "execute_result",
          "data": {
            "text/plain": [
              "200"
            ]
          },
          "metadata": {},
          "execution_count": 3
        }
      ]
    },
    {
      "cell_type": "markdown",
      "metadata": {
        "id": "1kSZSrEHSvGI"
      },
      "source": [
        "* starttime과 endtime을 사용해서 requests를 해준다."
      ]
    },
    {
      "cell_type": "markdown",
      "metadata": {
        "id": "KtJyBb5tyqc_"
      },
      "source": [
        "Response of 200 means OK, so we can pull the data out of the result. Since we asked the API for a JSON payload, we can extract it from the response with the `json()` method.\n",
        "\n",
        "### Isolate the Data from the JSON Response\n",
        "We need to check the structures of the response data to know where our data is."
      ]
    },
    {
      "cell_type": "code",
      "metadata": {
        "id": "klLab4Bqyqc_",
        "colab": {
          "base_uri": "https://localhost:8080/"
        },
        "outputId": "d9554c0e-0fbc-4370-8407-9ea65c919b3e"
      },
      "source": [
        "earthquake_json = response.json()\n",
        "earthquake_json.keys()"
      ],
      "execution_count": 4,
      "outputs": [
        {
          "output_type": "execute_result",
          "data": {
            "text/plain": [
              "dict_keys(['type', 'metadata', 'features', 'bbox'])"
            ]
          },
          "metadata": {},
          "execution_count": 4
        }
      ]
    },
    {
      "cell_type": "markdown",
      "metadata": {
        "id": "7KqSGUoQS5iX"
      },
      "source": [
        "* json형식으로 받은 다음에 형식을 살펴본다."
      ]
    },
    {
      "cell_type": "markdown",
      "metadata": {
        "id": "2MoSHlatyqdA"
      },
      "source": [
        "The USGS API provides information about our request in the `metadata` key. Note that your result will be different, regardless of the date range you chose, because the API includes a timestamp for when the data was pulled:"
      ]
    },
    {
      "cell_type": "code",
      "metadata": {
        "id": "mhMXfJGfyqdA",
        "outputId": "d8dae1a1-a318-4426-e2a5-7b193ac02fb3",
        "colab": {
          "base_uri": "https://localhost:8080/"
        }
      },
      "source": [
        "earthquake_json['metadata']"
      ],
      "execution_count": 5,
      "outputs": [
        {
          "output_type": "execute_result",
          "data": {
            "text/plain": [
              "{'api': '1.12.2',\n",
              " 'count': 10793,\n",
              " 'generated': 1634290293000,\n",
              " 'status': 200,\n",
              " 'title': 'USGS Earthquakes',\n",
              " 'url': 'https://earthquake.usgs.gov/fdsnws/event/1/query?format=geojson&starttime=2021-09-14&endtime=2021-10-14'}"
            ]
          },
          "metadata": {},
          "execution_count": 5
        }
      ]
    },
    {
      "cell_type": "markdown",
      "metadata": {
        "id": "CniLNQkiyqdB"
      },
      "source": [
        "Each element in the JSON array `features` is a row of data for our dataframe."
      ]
    },
    {
      "cell_type": "code",
      "metadata": {
        "id": "bfO6UDdGyqdC",
        "colab": {
          "base_uri": "https://localhost:8080/"
        },
        "outputId": "0c06fe41-8f87-4220-a68f-c64eec80b2f9"
      },
      "source": [
        "type(earthquake_json['features'])"
      ],
      "execution_count": 6,
      "outputs": [
        {
          "output_type": "execute_result",
          "data": {
            "text/plain": [
              "list"
            ]
          },
          "metadata": {},
          "execution_count": 6
        }
      ]
    },
    {
      "cell_type": "markdown",
      "metadata": {
        "id": "_K37DxGnTIFp"
      },
      "source": [
        "* features는 list형식으로 되어 있다."
      ]
    },
    {
      "cell_type": "markdown",
      "metadata": {
        "id": "akZdfrwHyqdD"
      },
      "source": [
        "Your data will be different depending on the date you run this."
      ]
    },
    {
      "cell_type": "code",
      "metadata": {
        "id": "8wz5d_K7yqdD",
        "outputId": "bf290871-173e-4098-c42f-580c41e848c0",
        "colab": {
          "base_uri": "https://localhost:8080/"
        }
      },
      "source": [
        "earthquake_json['features'][0]"
      ],
      "execution_count": 7,
      "outputs": [
        {
          "output_type": "execute_result",
          "data": {
            "text/plain": [
              "{'geometry': {'coordinates': [-155.477005004883,\n",
              "   19.1853332519531,\n",
              "   35.0900001525879],\n",
              "  'type': 'Point'},\n",
              " 'id': 'hv72753027',\n",
              " 'properties': {'alert': None,\n",
              "  'cdi': None,\n",
              "  'code': '72753027',\n",
              "  'detail': 'https://earthquake.usgs.gov/fdsnws/event/1/query?eventid=hv72753027&format=geojson',\n",
              "  'dmin': None,\n",
              "  'felt': None,\n",
              "  'gap': 148,\n",
              "  'ids': ',hv72753027,',\n",
              "  'mag': 2.4000001,\n",
              "  'magType': 'md',\n",
              "  'mmi': None,\n",
              "  'net': 'hv',\n",
              "  'nst': 40,\n",
              "  'place': '1 km S of P?hala, Hawaii',\n",
              "  'rms': 0.129999995,\n",
              "  'sig': 89,\n",
              "  'sources': ',hv,',\n",
              "  'status': 'automatic',\n",
              "  'time': 1634169129840,\n",
              "  'title': 'M 2.4 - 1 km S of P?hala, Hawaii',\n",
              "  'tsunami': 0,\n",
              "  'type': 'earthquake',\n",
              "  'types': ',origin,phase-data,',\n",
              "  'tz': None,\n",
              "  'updated': 1634169320660,\n",
              "  'url': 'https://earthquake.usgs.gov/earthquakes/eventpage/hv72753027'},\n",
              " 'type': 'Feature'}"
            ]
          },
          "metadata": {},
          "execution_count": 7
        }
      ]
    },
    {
      "cell_type": "markdown",
      "metadata": {
        "id": "sF1PzpguyqdE"
      },
      "source": [
        "### Convert to DataFrame\n",
        "We need to grab the `properties` section out of every entry in the `features` JSON array to create our dataframe."
      ]
    },
    {
      "cell_type": "markdown",
      "metadata": {
        "id": "CO8vsL4aTT7m"
      },
      "source": [
        "* features의 정보들을 dataframe에 잘 정리를 해준다."
      ]
    },
    {
      "cell_type": "code",
      "metadata": {
        "id": "VhXanNKCz1WH"
      },
      "source": [
        "earthquake_properties_data = [\n",
        "    quake['properties'] for quake in earthquake_json['features']\n",
        "]"
      ],
      "execution_count": 8,
      "outputs": []
    },
    {
      "cell_type": "markdown",
      "metadata": {
        "id": "nWoCUU86TgjC"
      },
      "source": [
        "* earthquake_json['features']여기 안에서 quake로 받아서 quake의 properties를 가져와서 해주게 되면, earthquake_properties_data가 나오게 된다."
      ]
    },
    {
      "cell_type": "code",
      "metadata": {
        "id": "HcEM69NryqdE",
        "colab": {
          "base_uri": "https://localhost:8080/",
          "height": 502
        },
        "outputId": "c4e51dd2-86d4-4b9b-f2ce-62a8b12f9600"
      },
      "source": [
        "earthquake_properties_data = [\n",
        "    quake['properties'] for quake in earthquake_json['features']\n",
        "]\n",
        "df = pd.DataFrame(earthquake_properties_data)\n",
        "df.head()"
      ],
      "execution_count": 9,
      "outputs": [
        {
          "output_type": "execute_result",
          "data": {
            "text/html": [
              "<div>\n",
              "<style scoped>\n",
              "    .dataframe tbody tr th:only-of-type {\n",
              "        vertical-align: middle;\n",
              "    }\n",
              "\n",
              "    .dataframe tbody tr th {\n",
              "        vertical-align: top;\n",
              "    }\n",
              "\n",
              "    .dataframe thead th {\n",
              "        text-align: right;\n",
              "    }\n",
              "</style>\n",
              "<table border=\"1\" class=\"dataframe\">\n",
              "  <thead>\n",
              "    <tr style=\"text-align: right;\">\n",
              "      <th></th>\n",
              "      <th>mag</th>\n",
              "      <th>place</th>\n",
              "      <th>time</th>\n",
              "      <th>updated</th>\n",
              "      <th>tz</th>\n",
              "      <th>url</th>\n",
              "      <th>detail</th>\n",
              "      <th>felt</th>\n",
              "      <th>cdi</th>\n",
              "      <th>mmi</th>\n",
              "      <th>alert</th>\n",
              "      <th>status</th>\n",
              "      <th>tsunami</th>\n",
              "      <th>sig</th>\n",
              "      <th>net</th>\n",
              "      <th>code</th>\n",
              "      <th>ids</th>\n",
              "      <th>sources</th>\n",
              "      <th>types</th>\n",
              "      <th>nst</th>\n",
              "      <th>dmin</th>\n",
              "      <th>rms</th>\n",
              "      <th>gap</th>\n",
              "      <th>magType</th>\n",
              "      <th>type</th>\n",
              "      <th>title</th>\n",
              "    </tr>\n",
              "  </thead>\n",
              "  <tbody>\n",
              "    <tr>\n",
              "      <th>0</th>\n",
              "      <td>2.40</td>\n",
              "      <td>1 km S of P?hala, Hawaii</td>\n",
              "      <td>1634169129840</td>\n",
              "      <td>1634169320660</td>\n",
              "      <td>None</td>\n",
              "      <td>https://earthquake.usgs.gov/earthquakes/eventp...</td>\n",
              "      <td>https://earthquake.usgs.gov/fdsnws/event/1/que...</td>\n",
              "      <td>NaN</td>\n",
              "      <td>NaN</td>\n",
              "      <td>NaN</td>\n",
              "      <td>None</td>\n",
              "      <td>automatic</td>\n",
              "      <td>0</td>\n",
              "      <td>89</td>\n",
              "      <td>hv</td>\n",
              "      <td>72753027</td>\n",
              "      <td>,hv72753027,</td>\n",
              "      <td>,hv,</td>\n",
              "      <td>,origin,phase-data,</td>\n",
              "      <td>40.0</td>\n",
              "      <td>NaN</td>\n",
              "      <td>0.13</td>\n",
              "      <td>148.0</td>\n",
              "      <td>md</td>\n",
              "      <td>earthquake</td>\n",
              "      <td>M 2.4 - 1 km S of P?hala, Hawaii</td>\n",
              "    </tr>\n",
              "    <tr>\n",
              "      <th>1</th>\n",
              "      <td>0.96</td>\n",
              "      <td>6 km WNW of Gorst, Washington</td>\n",
              "      <td>1634168634050</td>\n",
              "      <td>1634241117820</td>\n",
              "      <td>None</td>\n",
              "      <td>https://earthquake.usgs.gov/earthquakes/eventp...</td>\n",
              "      <td>https://earthquake.usgs.gov/fdsnws/event/1/que...</td>\n",
              "      <td>NaN</td>\n",
              "      <td>NaN</td>\n",
              "      <td>NaN</td>\n",
              "      <td>None</td>\n",
              "      <td>reviewed</td>\n",
              "      <td>0</td>\n",
              "      <td>14</td>\n",
              "      <td>uw</td>\n",
              "      <td>61789261</td>\n",
              "      <td>,uw61789261,</td>\n",
              "      <td>,uw,</td>\n",
              "      <td>,origin,phase-data,</td>\n",
              "      <td>5.0</td>\n",
              "      <td>0.003983</td>\n",
              "      <td>0.13</td>\n",
              "      <td>212.0</td>\n",
              "      <td>ml</td>\n",
              "      <td>explosion</td>\n",
              "      <td>M 1.0 Explosion - 6 km WNW of Gorst, Washington</td>\n",
              "    </tr>\n",
              "    <tr>\n",
              "      <th>2</th>\n",
              "      <td>1.30</td>\n",
              "      <td>4km SW of Norco, CA</td>\n",
              "      <td>1634168483040</td>\n",
              "      <td>1634174427736</td>\n",
              "      <td>None</td>\n",
              "      <td>https://earthquake.usgs.gov/earthquakes/eventp...</td>\n",
              "      <td>https://earthquake.usgs.gov/fdsnws/event/1/que...</td>\n",
              "      <td>2.0</td>\n",
              "      <td>2.2</td>\n",
              "      <td>NaN</td>\n",
              "      <td>None</td>\n",
              "      <td>reviewed</td>\n",
              "      <td>0</td>\n",
              "      <td>26</td>\n",
              "      <td>ci</td>\n",
              "      <td>39833223</td>\n",
              "      <td>,ci39833223,</td>\n",
              "      <td>,ci,</td>\n",
              "      <td>,dyfi,nearby-cities,origin,phase-data,scitech-...</td>\n",
              "      <td>39.0</td>\n",
              "      <td>0.034120</td>\n",
              "      <td>0.13</td>\n",
              "      <td>52.0</td>\n",
              "      <td>ml</td>\n",
              "      <td>earthquake</td>\n",
              "      <td>M 1.3 - 4km SW of Norco, CA</td>\n",
              "    </tr>\n",
              "    <tr>\n",
              "      <th>3</th>\n",
              "      <td>1.03</td>\n",
              "      <td>British Columbia, Canada</td>\n",
              "      <td>1634167963960</td>\n",
              "      <td>1634240721100</td>\n",
              "      <td>None</td>\n",
              "      <td>https://earthquake.usgs.gov/earthquakes/eventp...</td>\n",
              "      <td>https://earthquake.usgs.gov/fdsnws/event/1/que...</td>\n",
              "      <td>NaN</td>\n",
              "      <td>NaN</td>\n",
              "      <td>NaN</td>\n",
              "      <td>None</td>\n",
              "      <td>reviewed</td>\n",
              "      <td>0</td>\n",
              "      <td>16</td>\n",
              "      <td>uw</td>\n",
              "      <td>61789256</td>\n",
              "      <td>,uw61789256,</td>\n",
              "      <td>,uw,</td>\n",
              "      <td>,origin,phase-data,</td>\n",
              "      <td>7.0</td>\n",
              "      <td>0.071640</td>\n",
              "      <td>0.13</td>\n",
              "      <td>191.0</td>\n",
              "      <td>md</td>\n",
              "      <td>explosion</td>\n",
              "      <td>M 1.0 Explosion - British Columbia, Canada</td>\n",
              "    </tr>\n",
              "    <tr>\n",
              "      <th>4</th>\n",
              "      <td>1.78</td>\n",
              "      <td>16 km SSE of Sunnyside, Utah</td>\n",
              "      <td>1634167723720</td>\n",
              "      <td>1634241329580</td>\n",
              "      <td>None</td>\n",
              "      <td>https://earthquake.usgs.gov/earthquakes/eventp...</td>\n",
              "      <td>https://earthquake.usgs.gov/fdsnws/event/1/que...</td>\n",
              "      <td>NaN</td>\n",
              "      <td>NaN</td>\n",
              "      <td>NaN</td>\n",
              "      <td>None</td>\n",
              "      <td>reviewed</td>\n",
              "      <td>0</td>\n",
              "      <td>49</td>\n",
              "      <td>uu</td>\n",
              "      <td>60463007</td>\n",
              "      <td>,uu60463007,</td>\n",
              "      <td>,uu,</td>\n",
              "      <td>,origin,phase-data,</td>\n",
              "      <td>6.0</td>\n",
              "      <td>0.021640</td>\n",
              "      <td>0.08</td>\n",
              "      <td>200.0</td>\n",
              "      <td>md</td>\n",
              "      <td>earthquake</td>\n",
              "      <td>M 1.8 - 16 km SSE of Sunnyside, Utah</td>\n",
              "    </tr>\n",
              "  </tbody>\n",
              "</table>\n",
              "</div>"
            ],
            "text/plain": [
              "    mag  ...                                            title\n",
              "0  2.40  ...                 M 2.4 - 1 km S of P?hala, Hawaii\n",
              "1  0.96  ...  M 1.0 Explosion - 6 km WNW of Gorst, Washington\n",
              "2  1.30  ...                      M 1.3 - 4km SW of Norco, CA\n",
              "3  1.03  ...       M 1.0 Explosion - British Columbia, Canada\n",
              "4  1.78  ...             M 1.8 - 16 km SSE of Sunnyside, Utah\n",
              "\n",
              "[5 rows x 26 columns]"
            ]
          },
          "metadata": {},
          "execution_count": 9
        }
      ]
    },
    {
      "cell_type": "markdown",
      "metadata": {
        "id": "TMdk4sJoUBfB"
      },
      "source": [
        "* 이렇게 데이터 프레임으로 받아오고 그리고 마지막에는 to_csv를 사용해서 저장을 해준다."
      ]
    },
    {
      "cell_type": "markdown",
      "metadata": {
        "id": "jvoPN5ymyqdE"
      },
      "source": [
        "### (Optional) Write Data to CSV"
      ]
    },
    {
      "cell_type": "code",
      "metadata": {
        "id": "-poz6NFkyqdF"
      },
      "source": [
        "df.to_csv('earthquakes.csv', index=False)"
      ],
      "execution_count": 10,
      "outputs": []
    },
    {
      "cell_type": "markdown",
      "metadata": {
        "id": "SRaV3X5gyqdF"
      },
      "source": [
        "<hr>\n",
        "<div>\n",
        "    <a href=\"./2-creating_dataframes.ipynb\">\n",
        "        <button style=\"float: left;\">&#8592; Previous Notebook</button>\n",
        "    </a>\n",
        "    <a href=\"./4-inspecting_dataframes.ipynb\">\n",
        "        <button style=\"float: right;\">Next Notebook &#8594;</button>\n",
        "    </a>\n",
        "</div>\n",
        "<br>\n",
        "<hr>"
      ]
    }
  ]
}
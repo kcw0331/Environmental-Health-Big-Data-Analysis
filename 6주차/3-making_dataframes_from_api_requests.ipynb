{
  "nbformat": 4,
  "nbformat_minor": 0,
  "metadata": {
    "kernelspec": {
      "display_name": "Python 3",
      "language": "python",
      "name": "python3"
    },
    "language_info": {
      "codemirror_mode": {
        "name": "ipython",
        "version": 3
      },
      "file_extension": ".py",
      "mimetype": "text/x-python",
      "name": "python",
      "nbconvert_exporter": "python",
      "pygments_lexer": "ipython3",
      "version": "3.7.3"
    },
    "colab": {
      "name": "3-making_dataframes_from_api_requests.ipynb",
      "provenance": [],
      "include_colab_link": true
    }
  },
  "cells": [
    {
      "cell_type": "markdown",
      "metadata": {
        "id": "view-in-github",
        "colab_type": "text"
      },
      "source": [
        "<a href=\"https://colab.research.google.com/github/kcw0331/Environmental-Health-Big-Data-Analysis/blob/main/6%EC%A3%BC%EC%B0%A8/3-making_dataframes_from_api_requests.ipynb\" target=\"_parent\"><img src=\"https://colab.research.google.com/assets/colab-badge.svg\" alt=\"Open In Colab\"/></a>"
      ]
    },
    {
      "cell_type": "code",
      "metadata": {
        "id": "uiKQOJEJytS_",
        "colab": {
          "base_uri": "https://localhost:8080/"
        },
        "outputId": "19d27920-dd3b-41bc-eb24-6ef66c1c182e"
      },
      "source": [
        "from google.colab import drive\n",
        "drive.mount('/content/drive')"
      ],
      "execution_count": null,
      "outputs": [
        {
          "output_type": "stream",
          "name": "stdout",
          "text": [
            "Mounted at /content/drive\n"
          ]
        }
      ]
    },
    {
      "cell_type": "code",
      "metadata": {
        "id": "ipuHQqDVy7cM",
        "colab": {
          "base_uri": "https://localhost:8080/"
        },
        "outputId": "d5f72a9c-b7ae-440d-b6a4-7944a927f0c5"
      },
      "source": [
        "cd /content/drive/MyDrive/Hands-On-Data-Analysis-with-Pandas-2nd-edition/ch_02"
      ],
      "execution_count": null,
      "outputs": [
        {
          "output_type": "stream",
          "name": "stdout",
          "text": [
            "/content/drive/MyDrive/Hands-On-Data-Analysis-with-Pandas-2nd-edition/ch_02\n"
          ]
        }
      ]
    },
    {
      "cell_type": "markdown",
      "metadata": {
        "id": "jmWAOaJlyqc2"
      },
      "source": [
        "# Making Pandas DataFrames from API Requests\n",
        "In this example, we will use the U.S. Geological Survey's API to grab a JSON object of earthquake data and convert it to a `pandas.DataFrame`.\n",
        "\n",
        "USGS API: https://earthquake.usgs.gov/fdsnws/event/1/"
      ]
    },
    {
      "cell_type": "markdown",
      "metadata": {
        "id": "QhzTMzGYyqc7"
      },
      "source": [
        "### Get Data from API"
      ]
    },
    {
      "cell_type": "code",
      "metadata": {
        "id": "kgk_bLcryqc8",
        "colab": {
          "base_uri": "https://localhost:8080/"
        },
        "outputId": "c726d543-0dfd-4058-ab48-f5db5d9510cc"
      },
      "source": [
        "import datetime as dt\n",
        "import pandas as pd\n",
        "import requests\n",
        "\n",
        "yesterday = dt.date.today() - dt.timedelta(days=1)\n",
        "api = 'https://earthquake.usgs.gov/fdsnws/event/1/query'\n",
        "payload = {\n",
        "    'format': 'geojson',\n",
        "    'starttime': yesterday - dt.timedelta(days=30),\n",
        "    'endtime': yesterday\n",
        "}\n",
        "response = requests.get(api, params=payload)\n",
        "\n",
        "# let's make sure the request was OK\n",
        "response.status_code"
      ],
      "execution_count": null,
      "outputs": [
        {
          "output_type": "execute_result",
          "data": {
            "text/plain": [
              "200"
            ]
          },
          "metadata": {},
          "execution_count": 3
        }
      ]
    },
    {
      "cell_type": "markdown",
      "metadata": {
        "id": "KtJyBb5tyqc_"
      },
      "source": [
        "Response of 200 means OK, so we can pull the data out of the result. Since we asked the API for a JSON payload, we can extract it from the response with the `json()` method.\n",
        "\n",
        "### Isolate the Data from the JSON Response\n",
        "We need to check the structures of the response data to know where our data is."
      ]
    },
    {
      "cell_type": "code",
      "metadata": {
        "id": "klLab4Bqyqc_",
        "colab": {
          "base_uri": "https://localhost:8080/"
        },
        "outputId": "eaa30bc3-f3cb-43da-ca1a-b24a9c25cc70"
      },
      "source": [
        "earthquake_json = response.json()\n",
        "earthquake_json.keys()"
      ],
      "execution_count": null,
      "outputs": [
        {
          "output_type": "execute_result",
          "data": {
            "text/plain": [
              "dict_keys(['type', 'metadata', 'features', 'bbox'])"
            ]
          },
          "metadata": {},
          "execution_count": 4
        }
      ]
    },
    {
      "cell_type": "markdown",
      "metadata": {
        "id": "2MoSHlatyqdA"
      },
      "source": [
        "The USGS API provides information about our request in the `metadata` key. Note that your result will be different, regardless of the date range you chose, because the API includes a timestamp for when the data was pulled:"
      ]
    },
    {
      "cell_type": "code",
      "metadata": {
        "id": "mhMXfJGfyqdA",
        "outputId": "42561136-77f4-4cde-ef71-5953f095d5a6"
      },
      "source": [
        "earthquake_json['metadata']"
      ],
      "execution_count": null,
      "outputs": [
        {
          "data": {
            "text/plain": [
              "{'generated': 1604267813000,\n",
              " 'url': 'https://earthquake.usgs.gov/fdsnws/event/1/query?format=geojson&starttime=2020-10-01&endtime=2020-10-31',\n",
              " 'title': 'USGS Earthquakes',\n",
              " 'status': 200,\n",
              " 'api': '1.10.3',\n",
              " 'count': 13706}"
            ]
          },
          "execution_count": 3,
          "metadata": {},
          "output_type": "execute_result"
        }
      ]
    },
    {
      "cell_type": "markdown",
      "metadata": {
        "id": "CniLNQkiyqdB"
      },
      "source": [
        "Each element in the JSON array `features` is a row of data for our dataframe."
      ]
    },
    {
      "cell_type": "code",
      "metadata": {
        "id": "bfO6UDdGyqdC",
        "colab": {
          "base_uri": "https://localhost:8080/"
        },
        "outputId": "84b5bd55-8fd9-42d9-8d46-d3be5b5d726b"
      },
      "source": [
        "type(earthquake_json['features'])"
      ],
      "execution_count": null,
      "outputs": [
        {
          "output_type": "execute_result",
          "data": {
            "text/plain": [
              "list"
            ]
          },
          "metadata": {},
          "execution_count": 5
        }
      ]
    },
    {
      "cell_type": "markdown",
      "metadata": {
        "id": "akZdfrwHyqdD"
      },
      "source": [
        "Your data will be different depending on the date you run this."
      ]
    },
    {
      "cell_type": "code",
      "metadata": {
        "id": "8wz5d_K7yqdD",
        "outputId": "44bd5b23-dab5-4291-bfca-ef2e85f260ac"
      },
      "source": [
        "earthquake_json['features'][0]"
      ],
      "execution_count": null,
      "outputs": [
        {
          "data": {
            "text/plain": [
              "{'type': 'Feature',\n",
              " 'properties': {'mag': 1,\n",
              "  'place': '50 km ENE of Susitna North, Alaska',\n",
              "  'time': 1604102395919,\n",
              "  'updated': 1604103325550,\n",
              "  'tz': None,\n",
              "  'url': 'https://earthquake.usgs.gov/earthquakes/eventpage/ak020dz5f85a',\n",
              "  'detail': 'https://earthquake.usgs.gov/fdsnws/event/1/query?eventid=ak020dz5f85a&format=geojson',\n",
              "  'felt': None,\n",
              "  'cdi': None,\n",
              "  'mmi': None,\n",
              "  'alert': None,\n",
              "  'status': 'reviewed',\n",
              "  'tsunami': 0,\n",
              "  'sig': 15,\n",
              "  'net': 'ak',\n",
              "  'code': '020dz5f85a',\n",
              "  'ids': ',ak020dz5f85a,',\n",
              "  'sources': ',ak,',\n",
              "  'types': ',origin,phase-data,',\n",
              "  'nst': None,\n",
              "  'dmin': None,\n",
              "  'rms': 1.36,\n",
              "  'gap': None,\n",
              "  'magType': 'ml',\n",
              "  'type': 'earthquake',\n",
              "  'title': 'M 1.0 - 50 km ENE of Susitna North, Alaska'},\n",
              " 'geometry': {'type': 'Point', 'coordinates': [-148.9807, 62.3533, 5]},\n",
              " 'id': 'ak020dz5f85a'}"
            ]
          },
          "execution_count": 5,
          "metadata": {},
          "output_type": "execute_result"
        }
      ]
    },
    {
      "cell_type": "markdown",
      "metadata": {
        "id": "sF1PzpguyqdE"
      },
      "source": [
        "### Convert to DataFrame\n",
        "We need to grab the `properties` section out of every entry in the `features` JSON array to create our dataframe."
      ]
    },
    {
      "cell_type": "code",
      "metadata": {
        "id": "VhXanNKCz1WH"
      },
      "source": [
        "earthquake_properties_data = [\n",
        "    quake['properties'] for quake in earthquake_json['features']\n",
        "]"
      ],
      "execution_count": null,
      "outputs": []
    },
    {
      "cell_type": "code",
      "metadata": {
        "id": "HcEM69NryqdE",
        "colab": {
          "base_uri": "https://localhost:8080/",
          "height": 509
        },
        "outputId": "003b142f-3bb1-4b23-ffa8-129f716e28ae"
      },
      "source": [
        "earthquake_properties_data = [\n",
        "    quake['properties'] for quake in earthquake_json['features']\n",
        "]\n",
        "df = pd.DataFrame(earthquake_properties_data)\n",
        "df.head()"
      ],
      "execution_count": null,
      "outputs": [
        {
          "output_type": "execute_result",
          "data": {
            "text/html": [
              "<div>\n",
              "<style scoped>\n",
              "    .dataframe tbody tr th:only-of-type {\n",
              "        vertical-align: middle;\n",
              "    }\n",
              "\n",
              "    .dataframe tbody tr th {\n",
              "        vertical-align: top;\n",
              "    }\n",
              "\n",
              "    .dataframe thead th {\n",
              "        text-align: right;\n",
              "    }\n",
              "</style>\n",
              "<table border=\"1\" class=\"dataframe\">\n",
              "  <thead>\n",
              "    <tr style=\"text-align: right;\">\n",
              "      <th></th>\n",
              "      <th>mag</th>\n",
              "      <th>place</th>\n",
              "      <th>time</th>\n",
              "      <th>updated</th>\n",
              "      <th>tz</th>\n",
              "      <th>url</th>\n",
              "      <th>detail</th>\n",
              "      <th>felt</th>\n",
              "      <th>cdi</th>\n",
              "      <th>mmi</th>\n",
              "      <th>alert</th>\n",
              "      <th>status</th>\n",
              "      <th>tsunami</th>\n",
              "      <th>sig</th>\n",
              "      <th>net</th>\n",
              "      <th>code</th>\n",
              "      <th>ids</th>\n",
              "      <th>sources</th>\n",
              "      <th>types</th>\n",
              "      <th>nst</th>\n",
              "      <th>dmin</th>\n",
              "      <th>rms</th>\n",
              "      <th>gap</th>\n",
              "      <th>magType</th>\n",
              "      <th>type</th>\n",
              "      <th>title</th>\n",
              "    </tr>\n",
              "  </thead>\n",
              "  <tbody>\n",
              "    <tr>\n",
              "      <th>0</th>\n",
              "      <td>1.19</td>\n",
              "      <td>15 km SSE of Sunnyside, Utah</td>\n",
              "      <td>1633651087850</td>\n",
              "      <td>1633706321620</td>\n",
              "      <td>None</td>\n",
              "      <td>https://earthquake.usgs.gov/earthquakes/eventp...</td>\n",
              "      <td>https://earthquake.usgs.gov/fdsnws/event/1/que...</td>\n",
              "      <td>NaN</td>\n",
              "      <td>NaN</td>\n",
              "      <td>NaN</td>\n",
              "      <td>None</td>\n",
              "      <td>reviewed</td>\n",
              "      <td>0</td>\n",
              "      <td>22</td>\n",
              "      <td>uu</td>\n",
              "      <td>60462102</td>\n",
              "      <td>,uu60462102,</td>\n",
              "      <td>,uu,</td>\n",
              "      <td>,origin,phase-data,</td>\n",
              "      <td>7.0</td>\n",
              "      <td>0.01108</td>\n",
              "      <td>0.08</td>\n",
              "      <td>194.0</td>\n",
              "      <td>md</td>\n",
              "      <td>earthquake</td>\n",
              "      <td>M 1.2 - 15 km SSE of Sunnyside, Utah</td>\n",
              "    </tr>\n",
              "    <tr>\n",
              "      <th>1</th>\n",
              "      <td>0.94</td>\n",
              "      <td>9km NNW of Anza, CA</td>\n",
              "      <td>1633650887410</td>\n",
              "      <td>1633709518540</td>\n",
              "      <td>None</td>\n",
              "      <td>https://earthquake.usgs.gov/earthquakes/eventp...</td>\n",
              "      <td>https://earthquake.usgs.gov/fdsnws/event/1/que...</td>\n",
              "      <td>NaN</td>\n",
              "      <td>NaN</td>\n",
              "      <td>NaN</td>\n",
              "      <td>None</td>\n",
              "      <td>reviewed</td>\n",
              "      <td>0</td>\n",
              "      <td>14</td>\n",
              "      <td>ci</td>\n",
              "      <td>40065448</td>\n",
              "      <td>,ci40065448,</td>\n",
              "      <td>,ci,</td>\n",
              "      <td>,focal-mechanism,nearby-cities,origin,phase-da...</td>\n",
              "      <td>26.0</td>\n",
              "      <td>0.05044</td>\n",
              "      <td>0.11</td>\n",
              "      <td>52.0</td>\n",
              "      <td>ml</td>\n",
              "      <td>earthquake</td>\n",
              "      <td>M 0.9 - 9km NNW of Anza, CA</td>\n",
              "    </tr>\n",
              "    <tr>\n",
              "      <th>2</th>\n",
              "      <td>1.76</td>\n",
              "      <td>6 km ESE of P?hala, Hawaii</td>\n",
              "      <td>1633650829380</td>\n",
              "      <td>1633651025860</td>\n",
              "      <td>None</td>\n",
              "      <td>https://earthquake.usgs.gov/earthquakes/eventp...</td>\n",
              "      <td>https://earthquake.usgs.gov/fdsnws/event/1/que...</td>\n",
              "      <td>NaN</td>\n",
              "      <td>NaN</td>\n",
              "      <td>NaN</td>\n",
              "      <td>None</td>\n",
              "      <td>automatic</td>\n",
              "      <td>0</td>\n",
              "      <td>48</td>\n",
              "      <td>hv</td>\n",
              "      <td>72745172</td>\n",
              "      <td>,hv72745172,</td>\n",
              "      <td>,hv,</td>\n",
              "      <td>,origin,phase-data,</td>\n",
              "      <td>20.0</td>\n",
              "      <td>NaN</td>\n",
              "      <td>0.14</td>\n",
              "      <td>179.0</td>\n",
              "      <td>md</td>\n",
              "      <td>earthquake</td>\n",
              "      <td>M 1.8 - 6 km ESE of P?hala, Hawaii</td>\n",
              "    </tr>\n",
              "    <tr>\n",
              "      <th>3</th>\n",
              "      <td>2.00</td>\n",
              "      <td>54 km NNW of Petersville, Alaska</td>\n",
              "      <td>1633650453004</td>\n",
              "      <td>1633651673787</td>\n",
              "      <td>None</td>\n",
              "      <td>https://earthquake.usgs.gov/earthquakes/eventp...</td>\n",
              "      <td>https://earthquake.usgs.gov/fdsnws/event/1/que...</td>\n",
              "      <td>NaN</td>\n",
              "      <td>NaN</td>\n",
              "      <td>NaN</td>\n",
              "      <td>None</td>\n",
              "      <td>automatic</td>\n",
              "      <td>0</td>\n",
              "      <td>62</td>\n",
              "      <td>ak</td>\n",
              "      <td>021cvggad3</td>\n",
              "      <td>,ak021cvggad3,</td>\n",
              "      <td>,ak,</td>\n",
              "      <td>,origin,</td>\n",
              "      <td>NaN</td>\n",
              "      <td>NaN</td>\n",
              "      <td>0.28</td>\n",
              "      <td>NaN</td>\n",
              "      <td>ml</td>\n",
              "      <td>earthquake</td>\n",
              "      <td>M 2.0 - 54 km NNW of Petersville, Alaska</td>\n",
              "    </tr>\n",
              "    <tr>\n",
              "      <th>4</th>\n",
              "      <td>2.42</td>\n",
              "      <td>9 km SSE of Indios, Puerto Rico</td>\n",
              "      <td>1633650253580</td>\n",
              "      <td>1633651941360</td>\n",
              "      <td>None</td>\n",
              "      <td>https://earthquake.usgs.gov/earthquakes/eventp...</td>\n",
              "      <td>https://earthquake.usgs.gov/fdsnws/event/1/que...</td>\n",
              "      <td>NaN</td>\n",
              "      <td>NaN</td>\n",
              "      <td>NaN</td>\n",
              "      <td>None</td>\n",
              "      <td>reviewed</td>\n",
              "      <td>0</td>\n",
              "      <td>90</td>\n",
              "      <td>pr</td>\n",
              "      <td>2021280003</td>\n",
              "      <td>,pr2021280003,</td>\n",
              "      <td>,pr,</td>\n",
              "      <td>,origin,phase-data,</td>\n",
              "      <td>11.0</td>\n",
              "      <td>0.10810</td>\n",
              "      <td>0.10</td>\n",
              "      <td>232.0</td>\n",
              "      <td>md</td>\n",
              "      <td>earthquake</td>\n",
              "      <td>M 2.4 - 9 km SSE of Indios, Puerto Rico</td>\n",
              "    </tr>\n",
              "  </tbody>\n",
              "</table>\n",
              "</div>"
            ],
            "text/plain": [
              "    mag  ...                                     title\n",
              "0  1.19  ...      M 1.2 - 15 km SSE of Sunnyside, Utah\n",
              "1  0.94  ...               M 0.9 - 9km NNW of Anza, CA\n",
              "2  1.76  ...        M 1.8 - 6 km ESE of P?hala, Hawaii\n",
              "3  2.00  ...  M 2.0 - 54 km NNW of Petersville, Alaska\n",
              "4  2.42  ...   M 2.4 - 9 km SSE of Indios, Puerto Rico\n",
              "\n",
              "[5 rows x 26 columns]"
            ]
          },
          "metadata": {},
          "execution_count": 9
        }
      ]
    },
    {
      "cell_type": "markdown",
      "metadata": {
        "id": "jvoPN5ymyqdE"
      },
      "source": [
        "### (Optional) Write Data to CSV"
      ]
    },
    {
      "cell_type": "code",
      "metadata": {
        "id": "-poz6NFkyqdF"
      },
      "source": [
        "df.to_csv('earthquakes.csv', index=False)"
      ],
      "execution_count": null,
      "outputs": []
    },
    {
      "cell_type": "markdown",
      "metadata": {
        "id": "SRaV3X5gyqdF"
      },
      "source": [
        "<hr>\n",
        "<div>\n",
        "    <a href=\"./2-creating_dataframes.ipynb\">\n",
        "        <button style=\"float: left;\">&#8592; Previous Notebook</button>\n",
        "    </a>\n",
        "    <a href=\"./4-inspecting_dataframes.ipynb\">\n",
        "        <button style=\"float: right;\">Next Notebook &#8594;</button>\n",
        "    </a>\n",
        "</div>\n",
        "<br>\n",
        "<hr>"
      ]
    }
  ]
}
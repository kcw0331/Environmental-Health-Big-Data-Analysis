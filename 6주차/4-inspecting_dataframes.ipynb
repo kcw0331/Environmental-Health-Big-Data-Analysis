{
  "nbformat": 4,
  "nbformat_minor": 0,
  "metadata": {
    "kernelspec": {
      "display_name": "Python 3",
      "language": "python",
      "name": "python3"
    },
    "language_info": {
      "codemirror_mode": {
        "name": "ipython",
        "version": 3
      },
      "file_extension": ".py",
      "mimetype": "text/x-python",
      "name": "python",
      "nbconvert_exporter": "python",
      "pygments_lexer": "ipython3",
      "version": "3.7.3"
    },
    "colab": {
      "name": "4-inspecting_dataframes.ipynb",
      "provenance": [],
      "include_colab_link": true
    }
  },
  "cells": [
    {
      "cell_type": "markdown",
      "metadata": {
        "id": "view-in-github",
        "colab_type": "text"
      },
      "source": [
        "<a href=\"https://colab.research.google.com/github/kcw0331/Environmental-Health-Big-Data-Analysis/blob/main/6%EC%A3%BC%EC%B0%A8/4-inspecting_dataframes.ipynb\" target=\"_parent\"><img src=\"https://colab.research.google.com/assets/colab-badge.svg\" alt=\"Open In Colab\"/></a>"
      ]
    },
    {
      "cell_type": "markdown",
      "metadata": {
        "id": "GylTRln71B2z"
      },
      "source": [
        "# Inspecting a DataFrame Object\n",
        "\n",
        "## About the Data\n",
        "In this notebook, we will be working with earthquake data from September 18, 2018 - October 13, 2018 (obtained from the US Geological Survey (USGS) using the [USGS API](https://earthquake.usgs.gov/fdsnws/event/1/))\n",
        "\n",
        "## Setup\n",
        "We will be working with the `data/earthquakes.csv` file again, so we need to handle our imports and read it in."
      ]
    },
    {
      "cell_type": "code",
      "metadata": {
        "id": "MkDnw2px2ffc",
        "colab": {
          "base_uri": "https://localhost:8080/"
        },
        "outputId": "ddaf8f4f-dcfc-4d42-907e-d3cc2eac7e92"
      },
      "source": [
        "from google.colab import drive\n",
        "drive.mount('/content/drive')"
      ],
      "execution_count": 1,
      "outputs": [
        {
          "output_type": "stream",
          "name": "stdout",
          "text": [
            "Mounted at /content/drive\n"
          ]
        }
      ]
    },
    {
      "cell_type": "code",
      "metadata": {
        "id": "H8s4_bby2q5Q",
        "colab": {
          "base_uri": "https://localhost:8080/"
        },
        "outputId": "52d9a3d8-0e53-4f7a-f10e-57532586e600"
      },
      "source": [
        "cd /content/drive/MyDrive/Hands-On-Data-Analysis-with-Pandas-2nd-edition/ch_02"
      ],
      "execution_count": 2,
      "outputs": [
        {
          "output_type": "stream",
          "name": "stdout",
          "text": [
            "/content/drive/MyDrive/Hands-On-Data-Analysis-with-Pandas-2nd-edition/ch_02\n"
          ]
        }
      ]
    },
    {
      "cell_type": "code",
      "metadata": {
        "id": "h4KXD_N_1B21"
      },
      "source": [
        "import numpy as np\n",
        "import pandas as pd\n",
        "\n",
        "df = pd.read_csv('data/earthquakes.csv')  #데이터를 데이터 프레임으로 불러와준다."
      ],
      "execution_count": 3,
      "outputs": []
    },
    {
      "cell_type": "markdown",
      "metadata": {
        "id": "h1h0QghG1B22"
      },
      "source": [
        "## Examining dataframes\n",
        "### Is it empty?"
      ]
    },
    {
      "cell_type": "code",
      "metadata": {
        "id": "zgjvdzPl1B23",
        "colab": {
          "base_uri": "https://localhost:8080/"
        },
        "outputId": "28af804e-1f62-4c1b-ef66-ac67438220c8"
      },
      "source": [
        "df.empty"
      ],
      "execution_count": 4,
      "outputs": [
        {
          "output_type": "execute_result",
          "data": {
            "text/plain": [
              "False"
            ]
          },
          "metadata": {},
          "execution_count": 4
        }
      ]
    },
    {
      "cell_type": "markdown",
      "metadata": {
        "id": "S-JGAo6oZKoU"
      },
      "source": [
        "* 비어있는게 있는지 확인을 해주는 것이다. False로 나오기 때문에 비어있는 것을 없다는 것이다."
      ]
    },
    {
      "cell_type": "markdown",
      "metadata": {
        "id": "IxgjrbG11B24"
      },
      "source": [
        "### What are the dimensions?"
      ]
    },
    {
      "cell_type": "code",
      "metadata": {
        "id": "GRE5tNpR1B24",
        "colab": {
          "base_uri": "https://localhost:8080/"
        },
        "outputId": "68b97501-9ae8-4292-85c9-b098651ba080"
      },
      "source": [
        "df.shape"
      ],
      "execution_count": 5,
      "outputs": [
        {
          "output_type": "execute_result",
          "data": {
            "text/plain": [
              "(9332, 26)"
            ]
          },
          "metadata": {},
          "execution_count": 5
        }
      ]
    },
    {
      "cell_type": "markdown",
      "metadata": {
        "id": "S1--CR_RZS6G"
      },
      "source": [
        "* 데이터 프레임의 차원이 어떻게 되냐는 말이다. 그래서 row는 9332가 있고 feature의 개수는 26개가 있다는 것이다."
      ]
    },
    {
      "cell_type": "markdown",
      "metadata": {
        "id": "AlnZ4uhS1B24"
      },
      "source": [
        "### What columns do we have?\n",
        "We know there are 26 columns, but what are they? Let's use the `columns` attribute to see:"
      ]
    },
    {
      "cell_type": "code",
      "metadata": {
        "id": "q-1uuYoy1B25",
        "colab": {
          "base_uri": "https://localhost:8080/"
        },
        "outputId": "1973bc1e-db1d-4fe8-f12a-7eb57a116fb5"
      },
      "source": [
        "df.columns"
      ],
      "execution_count": 6,
      "outputs": [
        {
          "output_type": "execute_result",
          "data": {
            "text/plain": [
              "Index(['alert', 'cdi', 'code', 'detail', 'dmin', 'felt', 'gap', 'ids', 'mag',\n",
              "       'magType', 'mmi', 'net', 'nst', 'place', 'rms', 'sig', 'sources',\n",
              "       'status', 'time', 'title', 'tsunami', 'type', 'types', 'tz', 'updated',\n",
              "       'url'],\n",
              "      dtype='object')"
            ]
          },
          "metadata": {},
          "execution_count": 6
        }
      ]
    },
    {
      "cell_type": "markdown",
      "metadata": {
        "id": "cdCnuK5HZh0n"
      },
      "source": [
        "* columns들이 어떠한 것들이 있는지 df.columns로 확인을 해준다."
      ]
    },
    {
      "cell_type": "markdown",
      "metadata": {
        "id": "eFgKgkAw1B25"
      },
      "source": [
        "### What does the data look like?\n",
        "View rows from the top with `head()`:"
      ]
    },
    {
      "cell_type": "code",
      "metadata": {
        "id": "T2uN224x1B26",
        "colab": {
          "base_uri": "https://localhost:8080/",
          "height": 270
        },
        "outputId": "894b164d-9b53-475d-f7e9-a662f57881f7"
      },
      "source": [
        "df.head(2)"
      ],
      "execution_count": 7,
      "outputs": [
        {
          "output_type": "execute_result",
          "data": {
            "text/html": [
              "<div>\n",
              "<style scoped>\n",
              "    .dataframe tbody tr th:only-of-type {\n",
              "        vertical-align: middle;\n",
              "    }\n",
              "\n",
              "    .dataframe tbody tr th {\n",
              "        vertical-align: top;\n",
              "    }\n",
              "\n",
              "    .dataframe thead th {\n",
              "        text-align: right;\n",
              "    }\n",
              "</style>\n",
              "<table border=\"1\" class=\"dataframe\">\n",
              "  <thead>\n",
              "    <tr style=\"text-align: right;\">\n",
              "      <th></th>\n",
              "      <th>alert</th>\n",
              "      <th>cdi</th>\n",
              "      <th>code</th>\n",
              "      <th>detail</th>\n",
              "      <th>dmin</th>\n",
              "      <th>felt</th>\n",
              "      <th>gap</th>\n",
              "      <th>ids</th>\n",
              "      <th>mag</th>\n",
              "      <th>magType</th>\n",
              "      <th>mmi</th>\n",
              "      <th>net</th>\n",
              "      <th>nst</th>\n",
              "      <th>place</th>\n",
              "      <th>rms</th>\n",
              "      <th>sig</th>\n",
              "      <th>sources</th>\n",
              "      <th>status</th>\n",
              "      <th>time</th>\n",
              "      <th>title</th>\n",
              "      <th>tsunami</th>\n",
              "      <th>type</th>\n",
              "      <th>types</th>\n",
              "      <th>tz</th>\n",
              "      <th>updated</th>\n",
              "      <th>url</th>\n",
              "    </tr>\n",
              "  </thead>\n",
              "  <tbody>\n",
              "    <tr>\n",
              "      <th>0</th>\n",
              "      <td>NaN</td>\n",
              "      <td>NaN</td>\n",
              "      <td>37389218</td>\n",
              "      <td>https://earthquake.usgs.gov/fdsnws/event/1/que...</td>\n",
              "      <td>0.008693</td>\n",
              "      <td>NaN</td>\n",
              "      <td>85.0</td>\n",
              "      <td>,ci37389218,</td>\n",
              "      <td>1.35</td>\n",
              "      <td>ml</td>\n",
              "      <td>NaN</td>\n",
              "      <td>ci</td>\n",
              "      <td>26.0</td>\n",
              "      <td>9km NE of Aguanga, CA</td>\n",
              "      <td>0.19</td>\n",
              "      <td>28</td>\n",
              "      <td>,ci,</td>\n",
              "      <td>automatic</td>\n",
              "      <td>1539475168010</td>\n",
              "      <td>M 1.4 - 9km NE of Aguanga, CA</td>\n",
              "      <td>0</td>\n",
              "      <td>earthquake</td>\n",
              "      <td>,geoserve,nearby-cities,origin,phase-data,</td>\n",
              "      <td>-480.0</td>\n",
              "      <td>1539475395144</td>\n",
              "      <td>https://earthquake.usgs.gov/earthquakes/eventp...</td>\n",
              "    </tr>\n",
              "    <tr>\n",
              "      <th>1</th>\n",
              "      <td>NaN</td>\n",
              "      <td>NaN</td>\n",
              "      <td>37389202</td>\n",
              "      <td>https://earthquake.usgs.gov/fdsnws/event/1/que...</td>\n",
              "      <td>0.020030</td>\n",
              "      <td>NaN</td>\n",
              "      <td>79.0</td>\n",
              "      <td>,ci37389202,</td>\n",
              "      <td>1.29</td>\n",
              "      <td>ml</td>\n",
              "      <td>NaN</td>\n",
              "      <td>ci</td>\n",
              "      <td>20.0</td>\n",
              "      <td>9km NE of Aguanga, CA</td>\n",
              "      <td>0.29</td>\n",
              "      <td>26</td>\n",
              "      <td>,ci,</td>\n",
              "      <td>automatic</td>\n",
              "      <td>1539475129610</td>\n",
              "      <td>M 1.3 - 9km NE of Aguanga, CA</td>\n",
              "      <td>0</td>\n",
              "      <td>earthquake</td>\n",
              "      <td>,geoserve,nearby-cities,origin,phase-data,</td>\n",
              "      <td>-480.0</td>\n",
              "      <td>1539475253925</td>\n",
              "      <td>https://earthquake.usgs.gov/earthquakes/eventp...</td>\n",
              "    </tr>\n",
              "  </tbody>\n",
              "</table>\n",
              "</div>"
            ],
            "text/plain": [
              "  alert  cdi  ...        updated                                                url\n",
              "0   NaN  NaN  ...  1539475395144  https://earthquake.usgs.gov/earthquakes/eventp...\n",
              "1   NaN  NaN  ...  1539475253925  https://earthquake.usgs.gov/earthquakes/eventp...\n",
              "\n",
              "[2 rows x 26 columns]"
            ]
          },
          "metadata": {},
          "execution_count": 7
        }
      ]
    },
    {
      "cell_type": "markdown",
      "metadata": {
        "id": "StoluxE01B26"
      },
      "source": [
        "View rows from the bottom with `tail()`. Let's view 2 rows:"
      ]
    },
    {
      "cell_type": "code",
      "metadata": {
        "id": "fXSdTBzR1B26",
        "colab": {
          "base_uri": "https://localhost:8080/",
          "height": 270
        },
        "outputId": "0724b2fe-d70c-4632-df38-11bcabd18b9e"
      },
      "source": [
        "df.tail(2)"
      ],
      "execution_count": 8,
      "outputs": [
        {
          "output_type": "execute_result",
          "data": {
            "text/html": [
              "<div>\n",
              "<style scoped>\n",
              "    .dataframe tbody tr th:only-of-type {\n",
              "        vertical-align: middle;\n",
              "    }\n",
              "\n",
              "    .dataframe tbody tr th {\n",
              "        vertical-align: top;\n",
              "    }\n",
              "\n",
              "    .dataframe thead th {\n",
              "        text-align: right;\n",
              "    }\n",
              "</style>\n",
              "<table border=\"1\" class=\"dataframe\">\n",
              "  <thead>\n",
              "    <tr style=\"text-align: right;\">\n",
              "      <th></th>\n",
              "      <th>alert</th>\n",
              "      <th>cdi</th>\n",
              "      <th>code</th>\n",
              "      <th>detail</th>\n",
              "      <th>dmin</th>\n",
              "      <th>felt</th>\n",
              "      <th>gap</th>\n",
              "      <th>ids</th>\n",
              "      <th>mag</th>\n",
              "      <th>magType</th>\n",
              "      <th>mmi</th>\n",
              "      <th>net</th>\n",
              "      <th>nst</th>\n",
              "      <th>place</th>\n",
              "      <th>rms</th>\n",
              "      <th>sig</th>\n",
              "      <th>sources</th>\n",
              "      <th>status</th>\n",
              "      <th>time</th>\n",
              "      <th>title</th>\n",
              "      <th>tsunami</th>\n",
              "      <th>type</th>\n",
              "      <th>types</th>\n",
              "      <th>tz</th>\n",
              "      <th>updated</th>\n",
              "      <th>url</th>\n",
              "    </tr>\n",
              "  </thead>\n",
              "  <tbody>\n",
              "    <tr>\n",
              "      <th>9330</th>\n",
              "      <td>NaN</td>\n",
              "      <td>NaN</td>\n",
              "      <td>38063959</td>\n",
              "      <td>https://earthquake.usgs.gov/fdsnws/event/1/que...</td>\n",
              "      <td>0.01865</td>\n",
              "      <td>NaN</td>\n",
              "      <td>61.0</td>\n",
              "      <td>,ci38063959,</td>\n",
              "      <td>1.10</td>\n",
              "      <td>ml</td>\n",
              "      <td>NaN</td>\n",
              "      <td>ci</td>\n",
              "      <td>27.0</td>\n",
              "      <td>9km NE of Aguanga, CA</td>\n",
              "      <td>0.1</td>\n",
              "      <td>19</td>\n",
              "      <td>,ci,</td>\n",
              "      <td>reviewed</td>\n",
              "      <td>1537229545350</td>\n",
              "      <td>M 1.1 - 9km NE of Aguanga, CA</td>\n",
              "      <td>0</td>\n",
              "      <td>earthquake</td>\n",
              "      <td>,focal-mechanism,geoserve,nearby-cities,origin...</td>\n",
              "      <td>-480.0</td>\n",
              "      <td>1537230211640</td>\n",
              "      <td>https://earthquake.usgs.gov/earthquakes/eventp...</td>\n",
              "    </tr>\n",
              "    <tr>\n",
              "      <th>9331</th>\n",
              "      <td>NaN</td>\n",
              "      <td>NaN</td>\n",
              "      <td>38063935</td>\n",
              "      <td>https://earthquake.usgs.gov/fdsnws/event/1/que...</td>\n",
              "      <td>0.01698</td>\n",
              "      <td>NaN</td>\n",
              "      <td>39.0</td>\n",
              "      <td>,ci38063935,</td>\n",
              "      <td>0.66</td>\n",
              "      <td>ml</td>\n",
              "      <td>NaN</td>\n",
              "      <td>ci</td>\n",
              "      <td>24.0</td>\n",
              "      <td>9km NE of Aguanga, CA</td>\n",
              "      <td>0.1</td>\n",
              "      <td>7</td>\n",
              "      <td>,ci,</td>\n",
              "      <td>reviewed</td>\n",
              "      <td>1537228864470</td>\n",
              "      <td>M 0.7 - 9km NE of Aguanga, CA</td>\n",
              "      <td>0</td>\n",
              "      <td>earthquake</td>\n",
              "      <td>,focal-mechanism,geoserve,nearby-cities,origin...</td>\n",
              "      <td>-480.0</td>\n",
              "      <td>1537305830770</td>\n",
              "      <td>https://earthquake.usgs.gov/earthquakes/eventp...</td>\n",
              "    </tr>\n",
              "  </tbody>\n",
              "</table>\n",
              "</div>"
            ],
            "text/plain": [
              "     alert  ...                                                url\n",
              "9330   NaN  ...  https://earthquake.usgs.gov/earthquakes/eventp...\n",
              "9331   NaN  ...  https://earthquake.usgs.gov/earthquakes/eventp...\n",
              "\n",
              "[2 rows x 26 columns]"
            ]
          },
          "metadata": {},
          "execution_count": 8
        }
      ]
    },
    {
      "cell_type": "markdown",
      "metadata": {
        "id": "h5cJ4NhRZt2D"
      },
      "source": [
        "* tail을 사용해서 밑에 있는 2개를 확인해 줄 수 있다."
      ]
    },
    {
      "cell_type": "markdown",
      "metadata": {
        "id": "PUDyF4VZ1B27"
      },
      "source": [
        "*Tip: we can modify the display options in order to see more columns:*\n",
        "\n",
        "```python\n",
        "# check the max columns setting\n",
        ">>> pd.get_option('display.max_columns')\n",
        "20\n",
        "\n",
        "# set the max columns to show when printing the dataframe to 26\n",
        ">>> pd.set_option('display.max_columns', 26)\n",
        "# OR\n",
        ">>> pd.options.display.max_columns = 26\n",
        "\n",
        "# reset the option\n",
        ">>> pd.reset_option('display.max_columns')\n",
        "\n",
        "# get information on all display settings\n",
        ">>> pd.describe_option('display')\n",
        "```\n",
        "\n",
        "*More information can be found in the documentation [here](https://pandas.pydata.org/pandas-docs/stable/user_guide/options.html).*\n",
        "\n",
        "### What data types do we have?"
      ]
    },
    {
      "cell_type": "code",
      "metadata": {
        "id": "08kfPq2q1B27",
        "colab": {
          "base_uri": "https://localhost:8080/"
        },
        "outputId": "25cb9fea-56b2-4ea5-fe2e-2d307d209251"
      },
      "source": [
        "df.dtypes"
      ],
      "execution_count": 9,
      "outputs": [
        {
          "output_type": "execute_result",
          "data": {
            "text/plain": [
              "alert       object\n",
              "cdi        float64\n",
              "code        object\n",
              "detail      object\n",
              "dmin       float64\n",
              "felt       float64\n",
              "gap        float64\n",
              "ids         object\n",
              "mag        float64\n",
              "magType     object\n",
              "mmi        float64\n",
              "net         object\n",
              "nst        float64\n",
              "place       object\n",
              "rms        float64\n",
              "sig          int64\n",
              "sources     object\n",
              "status      object\n",
              "time         int64\n",
              "title       object\n",
              "tsunami      int64\n",
              "type        object\n",
              "types       object\n",
              "tz         float64\n",
              "updated      int64\n",
              "url         object\n",
              "dtype: object"
            ]
          },
          "metadata": {},
          "execution_count": 9
        }
      ]
    },
    {
      "cell_type": "markdown",
      "metadata": {
        "id": "DGGsxCJF1B27"
      },
      "source": [
        "### Getting extra info and finding nulls"
      ]
    },
    {
      "cell_type": "code",
      "metadata": {
        "id": "Y2VqwnwQ1B28",
        "colab": {
          "base_uri": "https://localhost:8080/"
        },
        "outputId": "80992cfd-5441-43fb-f113-74f1a67dc52e"
      },
      "source": [
        "df.info()"
      ],
      "execution_count": 10,
      "outputs": [
        {
          "output_type": "stream",
          "name": "stdout",
          "text": [
            "<class 'pandas.core.frame.DataFrame'>\n",
            "RangeIndex: 9332 entries, 0 to 9331\n",
            "Data columns (total 26 columns):\n",
            " #   Column   Non-Null Count  Dtype  \n",
            "---  ------   --------------  -----  \n",
            " 0   alert    59 non-null     object \n",
            " 1   cdi      329 non-null    float64\n",
            " 2   code     9332 non-null   object \n",
            " 3   detail   9332 non-null   object \n",
            " 4   dmin     6139 non-null   float64\n",
            " 5   felt     329 non-null    float64\n",
            " 6   gap      6164 non-null   float64\n",
            " 7   ids      9332 non-null   object \n",
            " 8   mag      9331 non-null   float64\n",
            " 9   magType  9331 non-null   object \n",
            " 10  mmi      93 non-null     float64\n",
            " 11  net      9332 non-null   object \n",
            " 12  nst      5364 non-null   float64\n",
            " 13  place    9332 non-null   object \n",
            " 14  rms      9332 non-null   float64\n",
            " 15  sig      9332 non-null   int64  \n",
            " 16  sources  9332 non-null   object \n",
            " 17  status   9332 non-null   object \n",
            " 18  time     9332 non-null   int64  \n",
            " 19  title    9332 non-null   object \n",
            " 20  tsunami  9332 non-null   int64  \n",
            " 21  type     9332 non-null   object \n",
            " 22  types    9332 non-null   object \n",
            " 23  tz       9331 non-null   float64\n",
            " 24  updated  9332 non-null   int64  \n",
            " 25  url      9332 non-null   object \n",
            "dtypes: float64(9), int64(4), object(13)\n",
            "memory usage: 1.9+ MB\n"
          ]
        }
      ]
    },
    {
      "cell_type": "markdown",
      "metadata": {
        "id": "Ys1WmQ0_1B28"
      },
      "source": [
        "## Describing and Summarizing\n",
        "### Get summary statistics"
      ]
    },
    {
      "cell_type": "code",
      "metadata": {
        "id": "YXoANJO_1B28",
        "colab": {
          "base_uri": "https://localhost:8080/",
          "height": 319
        },
        "outputId": "43e0bccc-81a6-4024-d209-d5e55ad02358"
      },
      "source": [
        "df.describe()"
      ],
      "execution_count": 11,
      "outputs": [
        {
          "output_type": "execute_result",
          "data": {
            "text/html": [
              "<div>\n",
              "<style scoped>\n",
              "    .dataframe tbody tr th:only-of-type {\n",
              "        vertical-align: middle;\n",
              "    }\n",
              "\n",
              "    .dataframe tbody tr th {\n",
              "        vertical-align: top;\n",
              "    }\n",
              "\n",
              "    .dataframe thead th {\n",
              "        text-align: right;\n",
              "    }\n",
              "</style>\n",
              "<table border=\"1\" class=\"dataframe\">\n",
              "  <thead>\n",
              "    <tr style=\"text-align: right;\">\n",
              "      <th></th>\n",
              "      <th>cdi</th>\n",
              "      <th>dmin</th>\n",
              "      <th>felt</th>\n",
              "      <th>gap</th>\n",
              "      <th>mag</th>\n",
              "      <th>mmi</th>\n",
              "      <th>nst</th>\n",
              "      <th>rms</th>\n",
              "      <th>sig</th>\n",
              "      <th>time</th>\n",
              "      <th>tsunami</th>\n",
              "      <th>tz</th>\n",
              "      <th>updated</th>\n",
              "    </tr>\n",
              "  </thead>\n",
              "  <tbody>\n",
              "    <tr>\n",
              "      <th>count</th>\n",
              "      <td>329.000000</td>\n",
              "      <td>6139.000000</td>\n",
              "      <td>329.000000</td>\n",
              "      <td>6164.000000</td>\n",
              "      <td>9331.000000</td>\n",
              "      <td>93.000000</td>\n",
              "      <td>5364.000000</td>\n",
              "      <td>9332.000000</td>\n",
              "      <td>9332.000000</td>\n",
              "      <td>9.332000e+03</td>\n",
              "      <td>9332.000000</td>\n",
              "      <td>9331.000000</td>\n",
              "      <td>9.332000e+03</td>\n",
              "    </tr>\n",
              "    <tr>\n",
              "      <th>mean</th>\n",
              "      <td>2.754711</td>\n",
              "      <td>0.544925</td>\n",
              "      <td>12.310030</td>\n",
              "      <td>121.506588</td>\n",
              "      <td>1.497345</td>\n",
              "      <td>3.651398</td>\n",
              "      <td>19.053878</td>\n",
              "      <td>0.362122</td>\n",
              "      <td>56.899914</td>\n",
              "      <td>1.538284e+12</td>\n",
              "      <td>0.006537</td>\n",
              "      <td>-451.990140</td>\n",
              "      <td>1.538537e+12</td>\n",
              "    </tr>\n",
              "    <tr>\n",
              "      <th>std</th>\n",
              "      <td>1.010637</td>\n",
              "      <td>2.214305</td>\n",
              "      <td>48.954944</td>\n",
              "      <td>72.962363</td>\n",
              "      <td>1.203347</td>\n",
              "      <td>1.790523</td>\n",
              "      <td>15.492315</td>\n",
              "      <td>0.317784</td>\n",
              "      <td>91.872163</td>\n",
              "      <td>6.080306e+08</td>\n",
              "      <td>0.080589</td>\n",
              "      <td>231.752571</td>\n",
              "      <td>6.564135e+08</td>\n",
              "    </tr>\n",
              "    <tr>\n",
              "      <th>min</th>\n",
              "      <td>0.000000</td>\n",
              "      <td>0.000648</td>\n",
              "      <td>0.000000</td>\n",
              "      <td>12.000000</td>\n",
              "      <td>-1.260000</td>\n",
              "      <td>0.000000</td>\n",
              "      <td>0.000000</td>\n",
              "      <td>0.000000</td>\n",
              "      <td>0.000000</td>\n",
              "      <td>1.537229e+12</td>\n",
              "      <td>0.000000</td>\n",
              "      <td>-720.000000</td>\n",
              "      <td>1.537230e+12</td>\n",
              "    </tr>\n",
              "    <tr>\n",
              "      <th>25%</th>\n",
              "      <td>2.000000</td>\n",
              "      <td>0.020425</td>\n",
              "      <td>1.000000</td>\n",
              "      <td>66.142500</td>\n",
              "      <td>0.720000</td>\n",
              "      <td>2.680000</td>\n",
              "      <td>8.000000</td>\n",
              "      <td>0.119675</td>\n",
              "      <td>8.000000</td>\n",
              "      <td>1.537793e+12</td>\n",
              "      <td>0.000000</td>\n",
              "      <td>-540.000000</td>\n",
              "      <td>1.537996e+12</td>\n",
              "    </tr>\n",
              "    <tr>\n",
              "      <th>50%</th>\n",
              "      <td>2.700000</td>\n",
              "      <td>0.059050</td>\n",
              "      <td>2.000000</td>\n",
              "      <td>105.000000</td>\n",
              "      <td>1.300000</td>\n",
              "      <td>3.720000</td>\n",
              "      <td>15.000000</td>\n",
              "      <td>0.210000</td>\n",
              "      <td>26.000000</td>\n",
              "      <td>1.538245e+12</td>\n",
              "      <td>0.000000</td>\n",
              "      <td>-480.000000</td>\n",
              "      <td>1.538621e+12</td>\n",
              "    </tr>\n",
              "    <tr>\n",
              "      <th>75%</th>\n",
              "      <td>3.300000</td>\n",
              "      <td>0.177250</td>\n",
              "      <td>5.000000</td>\n",
              "      <td>159.000000</td>\n",
              "      <td>1.900000</td>\n",
              "      <td>4.570000</td>\n",
              "      <td>25.000000</td>\n",
              "      <td>0.590000</td>\n",
              "      <td>56.000000</td>\n",
              "      <td>1.538766e+12</td>\n",
              "      <td>0.000000</td>\n",
              "      <td>-480.000000</td>\n",
              "      <td>1.539110e+12</td>\n",
              "    </tr>\n",
              "    <tr>\n",
              "      <th>max</th>\n",
              "      <td>8.400000</td>\n",
              "      <td>53.737000</td>\n",
              "      <td>580.000000</td>\n",
              "      <td>355.910000</td>\n",
              "      <td>7.500000</td>\n",
              "      <td>9.120000</td>\n",
              "      <td>172.000000</td>\n",
              "      <td>1.910000</td>\n",
              "      <td>2015.000000</td>\n",
              "      <td>1.539475e+12</td>\n",
              "      <td>1.000000</td>\n",
              "      <td>720.000000</td>\n",
              "      <td>1.539537e+12</td>\n",
              "    </tr>\n",
              "  </tbody>\n",
              "</table>\n",
              "</div>"
            ],
            "text/plain": [
              "              cdi         dmin  ...           tz       updated\n",
              "count  329.000000  6139.000000  ...  9331.000000  9.332000e+03\n",
              "mean     2.754711     0.544925  ...  -451.990140  1.538537e+12\n",
              "std      1.010637     2.214305  ...   231.752571  6.564135e+08\n",
              "min      0.000000     0.000648  ...  -720.000000  1.537230e+12\n",
              "25%      2.000000     0.020425  ...  -540.000000  1.537996e+12\n",
              "50%      2.700000     0.059050  ...  -480.000000  1.538621e+12\n",
              "75%      3.300000     0.177250  ...  -480.000000  1.539110e+12\n",
              "max      8.400000    53.737000  ...   720.000000  1.539537e+12\n",
              "\n",
              "[8 rows x 13 columns]"
            ]
          },
          "metadata": {},
          "execution_count": 11
        }
      ]
    },
    {
      "cell_type": "markdown",
      "metadata": {
        "id": "RgDYJ2P8Z8nl"
      },
      "source": [
        "* summary statistic을 얻고 싶을 때 사용을 해준다."
      ]
    },
    {
      "cell_type": "markdown",
      "metadata": {
        "id": "3dBEGZhI1B29"
      },
      "source": [
        "Specifying the 5<sup>th</sup> and 95<sup>th</sup> percentile:"
      ]
    },
    {
      "cell_type": "code",
      "metadata": {
        "id": "wA20cTR51B29",
        "colab": {
          "base_uri": "https://localhost:8080/",
          "height": 319
        },
        "outputId": "c1cdb23f-8c96-43bc-fad9-b73c7f863307"
      },
      "source": [
        "df.describe(percentiles=[0.05, 0.95])"
      ],
      "execution_count": 12,
      "outputs": [
        {
          "output_type": "execute_result",
          "data": {
            "text/html": [
              "<div>\n",
              "<style scoped>\n",
              "    .dataframe tbody tr th:only-of-type {\n",
              "        vertical-align: middle;\n",
              "    }\n",
              "\n",
              "    .dataframe tbody tr th {\n",
              "        vertical-align: top;\n",
              "    }\n",
              "\n",
              "    .dataframe thead th {\n",
              "        text-align: right;\n",
              "    }\n",
              "</style>\n",
              "<table border=\"1\" class=\"dataframe\">\n",
              "  <thead>\n",
              "    <tr style=\"text-align: right;\">\n",
              "      <th></th>\n",
              "      <th>cdi</th>\n",
              "      <th>dmin</th>\n",
              "      <th>felt</th>\n",
              "      <th>gap</th>\n",
              "      <th>mag</th>\n",
              "      <th>mmi</th>\n",
              "      <th>nst</th>\n",
              "      <th>rms</th>\n",
              "      <th>sig</th>\n",
              "      <th>time</th>\n",
              "      <th>tsunami</th>\n",
              "      <th>tz</th>\n",
              "      <th>updated</th>\n",
              "    </tr>\n",
              "  </thead>\n",
              "  <tbody>\n",
              "    <tr>\n",
              "      <th>count</th>\n",
              "      <td>329.000000</td>\n",
              "      <td>6139.000000</td>\n",
              "      <td>329.000000</td>\n",
              "      <td>6164.000000</td>\n",
              "      <td>9331.000000</td>\n",
              "      <td>93.000000</td>\n",
              "      <td>5364.000000</td>\n",
              "      <td>9332.000000</td>\n",
              "      <td>9332.000000</td>\n",
              "      <td>9.332000e+03</td>\n",
              "      <td>9332.000000</td>\n",
              "      <td>9331.000000</td>\n",
              "      <td>9.332000e+03</td>\n",
              "    </tr>\n",
              "    <tr>\n",
              "      <th>mean</th>\n",
              "      <td>2.754711</td>\n",
              "      <td>0.544925</td>\n",
              "      <td>12.310030</td>\n",
              "      <td>121.506588</td>\n",
              "      <td>1.497345</td>\n",
              "      <td>3.651398</td>\n",
              "      <td>19.053878</td>\n",
              "      <td>0.362122</td>\n",
              "      <td>56.899914</td>\n",
              "      <td>1.538284e+12</td>\n",
              "      <td>0.006537</td>\n",
              "      <td>-451.990140</td>\n",
              "      <td>1.538537e+12</td>\n",
              "    </tr>\n",
              "    <tr>\n",
              "      <th>std</th>\n",
              "      <td>1.010637</td>\n",
              "      <td>2.214305</td>\n",
              "      <td>48.954944</td>\n",
              "      <td>72.962363</td>\n",
              "      <td>1.203347</td>\n",
              "      <td>1.790523</td>\n",
              "      <td>15.492315</td>\n",
              "      <td>0.317784</td>\n",
              "      <td>91.872163</td>\n",
              "      <td>6.080306e+08</td>\n",
              "      <td>0.080589</td>\n",
              "      <td>231.752571</td>\n",
              "      <td>6.564135e+08</td>\n",
              "    </tr>\n",
              "    <tr>\n",
              "      <th>min</th>\n",
              "      <td>0.000000</td>\n",
              "      <td>0.000648</td>\n",
              "      <td>0.000000</td>\n",
              "      <td>12.000000</td>\n",
              "      <td>-1.260000</td>\n",
              "      <td>0.000000</td>\n",
              "      <td>0.000000</td>\n",
              "      <td>0.000000</td>\n",
              "      <td>0.000000</td>\n",
              "      <td>1.537229e+12</td>\n",
              "      <td>0.000000</td>\n",
              "      <td>-720.000000</td>\n",
              "      <td>1.537230e+12</td>\n",
              "    </tr>\n",
              "    <tr>\n",
              "      <th>5%</th>\n",
              "      <td>2.000000</td>\n",
              "      <td>0.005491</td>\n",
              "      <td>1.000000</td>\n",
              "      <td>35.000000</td>\n",
              "      <td>-0.040000</td>\n",
              "      <td>0.000000</td>\n",
              "      <td>4.000000</td>\n",
              "      <td>0.030000</td>\n",
              "      <td>0.000000</td>\n",
              "      <td>1.537344e+12</td>\n",
              "      <td>0.000000</td>\n",
              "      <td>-600.000000</td>\n",
              "      <td>1.537387e+12</td>\n",
              "    </tr>\n",
              "    <tr>\n",
              "      <th>50%</th>\n",
              "      <td>2.700000</td>\n",
              "      <td>0.059050</td>\n",
              "      <td>2.000000</td>\n",
              "      <td>105.000000</td>\n",
              "      <td>1.300000</td>\n",
              "      <td>3.720000</td>\n",
              "      <td>15.000000</td>\n",
              "      <td>0.210000</td>\n",
              "      <td>26.000000</td>\n",
              "      <td>1.538245e+12</td>\n",
              "      <td>0.000000</td>\n",
              "      <td>-480.000000</td>\n",
              "      <td>1.538621e+12</td>\n",
              "    </tr>\n",
              "    <tr>\n",
              "      <th>95%</th>\n",
              "      <td>4.300000</td>\n",
              "      <td>2.678900</td>\n",
              "      <td>40.200000</td>\n",
              "      <td>276.000000</td>\n",
              "      <td>4.400000</td>\n",
              "      <td>6.380000</td>\n",
              "      <td>49.000000</td>\n",
              "      <td>0.960000</td>\n",
              "      <td>298.000000</td>\n",
              "      <td>1.539319e+12</td>\n",
              "      <td>0.000000</td>\n",
              "      <td>-60.000000</td>\n",
              "      <td>1.539400e+12</td>\n",
              "    </tr>\n",
              "    <tr>\n",
              "      <th>max</th>\n",
              "      <td>8.400000</td>\n",
              "      <td>53.737000</td>\n",
              "      <td>580.000000</td>\n",
              "      <td>355.910000</td>\n",
              "      <td>7.500000</td>\n",
              "      <td>9.120000</td>\n",
              "      <td>172.000000</td>\n",
              "      <td>1.910000</td>\n",
              "      <td>2015.000000</td>\n",
              "      <td>1.539475e+12</td>\n",
              "      <td>1.000000</td>\n",
              "      <td>720.000000</td>\n",
              "      <td>1.539537e+12</td>\n",
              "    </tr>\n",
              "  </tbody>\n",
              "</table>\n",
              "</div>"
            ],
            "text/plain": [
              "              cdi         dmin  ...           tz       updated\n",
              "count  329.000000  6139.000000  ...  9331.000000  9.332000e+03\n",
              "mean     2.754711     0.544925  ...  -451.990140  1.538537e+12\n",
              "std      1.010637     2.214305  ...   231.752571  6.564135e+08\n",
              "min      0.000000     0.000648  ...  -720.000000  1.537230e+12\n",
              "5%       2.000000     0.005491  ...  -600.000000  1.537387e+12\n",
              "50%      2.700000     0.059050  ...  -480.000000  1.538621e+12\n",
              "95%      4.300000     2.678900  ...   -60.000000  1.539400e+12\n",
              "max      8.400000    53.737000  ...   720.000000  1.539537e+12\n",
              "\n",
              "[8 rows x 13 columns]"
            ]
          },
          "metadata": {},
          "execution_count": 12
        }
      ]
    },
    {
      "cell_type": "markdown",
      "metadata": {
        "id": "OBkrlL5y1B2-"
      },
      "source": [
        "Describe specific data types:"
      ]
    },
    {
      "cell_type": "code",
      "metadata": {
        "id": "eSRe2ATb1B2-",
        "colab": {
          "base_uri": "https://localhost:8080/",
          "height": 264
        },
        "outputId": "c8420abc-e22c-4f66-f81a-c670251b42f5"
      },
      "source": [
        "df.describe(include=np.object)"
      ],
      "execution_count": 13,
      "outputs": [
        {
          "output_type": "execute_result",
          "data": {
            "text/html": [
              "<div>\n",
              "<style scoped>\n",
              "    .dataframe tbody tr th:only-of-type {\n",
              "        vertical-align: middle;\n",
              "    }\n",
              "\n",
              "    .dataframe tbody tr th {\n",
              "        vertical-align: top;\n",
              "    }\n",
              "\n",
              "    .dataframe thead th {\n",
              "        text-align: right;\n",
              "    }\n",
              "</style>\n",
              "<table border=\"1\" class=\"dataframe\">\n",
              "  <thead>\n",
              "    <tr style=\"text-align: right;\">\n",
              "      <th></th>\n",
              "      <th>alert</th>\n",
              "      <th>code</th>\n",
              "      <th>detail</th>\n",
              "      <th>ids</th>\n",
              "      <th>magType</th>\n",
              "      <th>net</th>\n",
              "      <th>place</th>\n",
              "      <th>sources</th>\n",
              "      <th>status</th>\n",
              "      <th>title</th>\n",
              "      <th>type</th>\n",
              "      <th>types</th>\n",
              "      <th>url</th>\n",
              "    </tr>\n",
              "  </thead>\n",
              "  <tbody>\n",
              "    <tr>\n",
              "      <th>count</th>\n",
              "      <td>59</td>\n",
              "      <td>9332</td>\n",
              "      <td>9332</td>\n",
              "      <td>9332</td>\n",
              "      <td>9331</td>\n",
              "      <td>9332</td>\n",
              "      <td>9332</td>\n",
              "      <td>9332</td>\n",
              "      <td>9332</td>\n",
              "      <td>9332</td>\n",
              "      <td>9332</td>\n",
              "      <td>9332</td>\n",
              "      <td>9332</td>\n",
              "    </tr>\n",
              "    <tr>\n",
              "      <th>unique</th>\n",
              "      <td>2</td>\n",
              "      <td>9332</td>\n",
              "      <td>9332</td>\n",
              "      <td>9332</td>\n",
              "      <td>10</td>\n",
              "      <td>14</td>\n",
              "      <td>5433</td>\n",
              "      <td>52</td>\n",
              "      <td>2</td>\n",
              "      <td>7807</td>\n",
              "      <td>5</td>\n",
              "      <td>42</td>\n",
              "      <td>9332</td>\n",
              "    </tr>\n",
              "    <tr>\n",
              "      <th>top</th>\n",
              "      <td>green</td>\n",
              "      <td>1000h5hb</td>\n",
              "      <td>https://earthquake.usgs.gov/fdsnws/event/1/que...</td>\n",
              "      <td>,ci37377450,</td>\n",
              "      <td>ml</td>\n",
              "      <td>ak</td>\n",
              "      <td>10km NE of Aguanga, CA</td>\n",
              "      <td>,ak,</td>\n",
              "      <td>reviewed</td>\n",
              "      <td>M 0.4 - 10km NE of Aguanga, CA</td>\n",
              "      <td>earthquake</td>\n",
              "      <td>,geoserve,origin,phase-data,</td>\n",
              "      <td>https://earthquake.usgs.gov/earthquakes/eventp...</td>\n",
              "    </tr>\n",
              "    <tr>\n",
              "      <th>freq</th>\n",
              "      <td>58</td>\n",
              "      <td>1</td>\n",
              "      <td>1</td>\n",
              "      <td>1</td>\n",
              "      <td>6803</td>\n",
              "      <td>3166</td>\n",
              "      <td>306</td>\n",
              "      <td>2981</td>\n",
              "      <td>7797</td>\n",
              "      <td>55</td>\n",
              "      <td>9081</td>\n",
              "      <td>5301</td>\n",
              "      <td>1</td>\n",
              "    </tr>\n",
              "  </tbody>\n",
              "</table>\n",
              "</div>"
            ],
            "text/plain": [
              "        alert  ...                                                url\n",
              "count      59  ...                                               9332\n",
              "unique      2  ...                                               9332\n",
              "top     green  ...  https://earthquake.usgs.gov/earthquakes/eventp...\n",
              "freq       58  ...                                                  1\n",
              "\n",
              "[4 rows x 13 columns]"
            ]
          },
          "metadata": {},
          "execution_count": 13
        }
      ]
    },
    {
      "cell_type": "markdown",
      "metadata": {
        "id": "a1S3-EImaLTP"
      },
      "source": [
        "* (include=np.object)이렇게 해주게 되면 categorical 데이터에 대해서 살펴볼 수 있다."
      ]
    },
    {
      "cell_type": "markdown",
      "metadata": {
        "id": "s1ZTIOor1B2-"
      },
      "source": [
        "Or describe all of them:"
      ]
    },
    {
      "cell_type": "code",
      "metadata": {
        "id": "gww13kdl1B2-",
        "colab": {
          "base_uri": "https://localhost:8080/",
          "height": 483
        },
        "outputId": "06fa5fcc-08b0-4a90-99a6-86735461fca1"
      },
      "source": [
        "df.describe(include='all')"
      ],
      "execution_count": 14,
      "outputs": [
        {
          "output_type": "execute_result",
          "data": {
            "text/html": [
              "<div>\n",
              "<style scoped>\n",
              "    .dataframe tbody tr th:only-of-type {\n",
              "        vertical-align: middle;\n",
              "    }\n",
              "\n",
              "    .dataframe tbody tr th {\n",
              "        vertical-align: top;\n",
              "    }\n",
              "\n",
              "    .dataframe thead th {\n",
              "        text-align: right;\n",
              "    }\n",
              "</style>\n",
              "<table border=\"1\" class=\"dataframe\">\n",
              "  <thead>\n",
              "    <tr style=\"text-align: right;\">\n",
              "      <th></th>\n",
              "      <th>alert</th>\n",
              "      <th>cdi</th>\n",
              "      <th>code</th>\n",
              "      <th>detail</th>\n",
              "      <th>dmin</th>\n",
              "      <th>felt</th>\n",
              "      <th>gap</th>\n",
              "      <th>ids</th>\n",
              "      <th>mag</th>\n",
              "      <th>magType</th>\n",
              "      <th>mmi</th>\n",
              "      <th>net</th>\n",
              "      <th>nst</th>\n",
              "      <th>place</th>\n",
              "      <th>rms</th>\n",
              "      <th>sig</th>\n",
              "      <th>sources</th>\n",
              "      <th>status</th>\n",
              "      <th>time</th>\n",
              "      <th>title</th>\n",
              "      <th>tsunami</th>\n",
              "      <th>type</th>\n",
              "      <th>types</th>\n",
              "      <th>tz</th>\n",
              "      <th>updated</th>\n",
              "      <th>url</th>\n",
              "    </tr>\n",
              "  </thead>\n",
              "  <tbody>\n",
              "    <tr>\n",
              "      <th>count</th>\n",
              "      <td>59</td>\n",
              "      <td>329.000000</td>\n",
              "      <td>9332</td>\n",
              "      <td>9332</td>\n",
              "      <td>6139.000000</td>\n",
              "      <td>329.000000</td>\n",
              "      <td>6164.000000</td>\n",
              "      <td>9332</td>\n",
              "      <td>9331.000000</td>\n",
              "      <td>9331</td>\n",
              "      <td>93.000000</td>\n",
              "      <td>9332</td>\n",
              "      <td>5364.000000</td>\n",
              "      <td>9332</td>\n",
              "      <td>9332.000000</td>\n",
              "      <td>9332.000000</td>\n",
              "      <td>9332</td>\n",
              "      <td>9332</td>\n",
              "      <td>9.332000e+03</td>\n",
              "      <td>9332</td>\n",
              "      <td>9332.000000</td>\n",
              "      <td>9332</td>\n",
              "      <td>9332</td>\n",
              "      <td>9331.000000</td>\n",
              "      <td>9.332000e+03</td>\n",
              "      <td>9332</td>\n",
              "    </tr>\n",
              "    <tr>\n",
              "      <th>unique</th>\n",
              "      <td>2</td>\n",
              "      <td>NaN</td>\n",
              "      <td>9332</td>\n",
              "      <td>9332</td>\n",
              "      <td>NaN</td>\n",
              "      <td>NaN</td>\n",
              "      <td>NaN</td>\n",
              "      <td>9332</td>\n",
              "      <td>NaN</td>\n",
              "      <td>10</td>\n",
              "      <td>NaN</td>\n",
              "      <td>14</td>\n",
              "      <td>NaN</td>\n",
              "      <td>5433</td>\n",
              "      <td>NaN</td>\n",
              "      <td>NaN</td>\n",
              "      <td>52</td>\n",
              "      <td>2</td>\n",
              "      <td>NaN</td>\n",
              "      <td>7807</td>\n",
              "      <td>NaN</td>\n",
              "      <td>5</td>\n",
              "      <td>42</td>\n",
              "      <td>NaN</td>\n",
              "      <td>NaN</td>\n",
              "      <td>9332</td>\n",
              "    </tr>\n",
              "    <tr>\n",
              "      <th>top</th>\n",
              "      <td>green</td>\n",
              "      <td>NaN</td>\n",
              "      <td>1000h5hb</td>\n",
              "      <td>https://earthquake.usgs.gov/fdsnws/event/1/que...</td>\n",
              "      <td>NaN</td>\n",
              "      <td>NaN</td>\n",
              "      <td>NaN</td>\n",
              "      <td>,ci37377450,</td>\n",
              "      <td>NaN</td>\n",
              "      <td>ml</td>\n",
              "      <td>NaN</td>\n",
              "      <td>ak</td>\n",
              "      <td>NaN</td>\n",
              "      <td>10km NE of Aguanga, CA</td>\n",
              "      <td>NaN</td>\n",
              "      <td>NaN</td>\n",
              "      <td>,ak,</td>\n",
              "      <td>reviewed</td>\n",
              "      <td>NaN</td>\n",
              "      <td>M 0.4 - 10km NE of Aguanga, CA</td>\n",
              "      <td>NaN</td>\n",
              "      <td>earthquake</td>\n",
              "      <td>,geoserve,origin,phase-data,</td>\n",
              "      <td>NaN</td>\n",
              "      <td>NaN</td>\n",
              "      <td>https://earthquake.usgs.gov/earthquakes/eventp...</td>\n",
              "    </tr>\n",
              "    <tr>\n",
              "      <th>freq</th>\n",
              "      <td>58</td>\n",
              "      <td>NaN</td>\n",
              "      <td>1</td>\n",
              "      <td>1</td>\n",
              "      <td>NaN</td>\n",
              "      <td>NaN</td>\n",
              "      <td>NaN</td>\n",
              "      <td>1</td>\n",
              "      <td>NaN</td>\n",
              "      <td>6803</td>\n",
              "      <td>NaN</td>\n",
              "      <td>3166</td>\n",
              "      <td>NaN</td>\n",
              "      <td>306</td>\n",
              "      <td>NaN</td>\n",
              "      <td>NaN</td>\n",
              "      <td>2981</td>\n",
              "      <td>7797</td>\n",
              "      <td>NaN</td>\n",
              "      <td>55</td>\n",
              "      <td>NaN</td>\n",
              "      <td>9081</td>\n",
              "      <td>5301</td>\n",
              "      <td>NaN</td>\n",
              "      <td>NaN</td>\n",
              "      <td>1</td>\n",
              "    </tr>\n",
              "    <tr>\n",
              "      <th>mean</th>\n",
              "      <td>NaN</td>\n",
              "      <td>2.754711</td>\n",
              "      <td>NaN</td>\n",
              "      <td>NaN</td>\n",
              "      <td>0.544925</td>\n",
              "      <td>12.310030</td>\n",
              "      <td>121.506588</td>\n",
              "      <td>NaN</td>\n",
              "      <td>1.497345</td>\n",
              "      <td>NaN</td>\n",
              "      <td>3.651398</td>\n",
              "      <td>NaN</td>\n",
              "      <td>19.053878</td>\n",
              "      <td>NaN</td>\n",
              "      <td>0.362122</td>\n",
              "      <td>56.899914</td>\n",
              "      <td>NaN</td>\n",
              "      <td>NaN</td>\n",
              "      <td>1.538284e+12</td>\n",
              "      <td>NaN</td>\n",
              "      <td>0.006537</td>\n",
              "      <td>NaN</td>\n",
              "      <td>NaN</td>\n",
              "      <td>-451.990140</td>\n",
              "      <td>1.538537e+12</td>\n",
              "      <td>NaN</td>\n",
              "    </tr>\n",
              "    <tr>\n",
              "      <th>std</th>\n",
              "      <td>NaN</td>\n",
              "      <td>1.010637</td>\n",
              "      <td>NaN</td>\n",
              "      <td>NaN</td>\n",
              "      <td>2.214305</td>\n",
              "      <td>48.954944</td>\n",
              "      <td>72.962363</td>\n",
              "      <td>NaN</td>\n",
              "      <td>1.203347</td>\n",
              "      <td>NaN</td>\n",
              "      <td>1.790523</td>\n",
              "      <td>NaN</td>\n",
              "      <td>15.492315</td>\n",
              "      <td>NaN</td>\n",
              "      <td>0.317784</td>\n",
              "      <td>91.872163</td>\n",
              "      <td>NaN</td>\n",
              "      <td>NaN</td>\n",
              "      <td>6.080306e+08</td>\n",
              "      <td>NaN</td>\n",
              "      <td>0.080589</td>\n",
              "      <td>NaN</td>\n",
              "      <td>NaN</td>\n",
              "      <td>231.752571</td>\n",
              "      <td>6.564135e+08</td>\n",
              "      <td>NaN</td>\n",
              "    </tr>\n",
              "    <tr>\n",
              "      <th>min</th>\n",
              "      <td>NaN</td>\n",
              "      <td>0.000000</td>\n",
              "      <td>NaN</td>\n",
              "      <td>NaN</td>\n",
              "      <td>0.000648</td>\n",
              "      <td>0.000000</td>\n",
              "      <td>12.000000</td>\n",
              "      <td>NaN</td>\n",
              "      <td>-1.260000</td>\n",
              "      <td>NaN</td>\n",
              "      <td>0.000000</td>\n",
              "      <td>NaN</td>\n",
              "      <td>0.000000</td>\n",
              "      <td>NaN</td>\n",
              "      <td>0.000000</td>\n",
              "      <td>0.000000</td>\n",
              "      <td>NaN</td>\n",
              "      <td>NaN</td>\n",
              "      <td>1.537229e+12</td>\n",
              "      <td>NaN</td>\n",
              "      <td>0.000000</td>\n",
              "      <td>NaN</td>\n",
              "      <td>NaN</td>\n",
              "      <td>-720.000000</td>\n",
              "      <td>1.537230e+12</td>\n",
              "      <td>NaN</td>\n",
              "    </tr>\n",
              "    <tr>\n",
              "      <th>25%</th>\n",
              "      <td>NaN</td>\n",
              "      <td>2.000000</td>\n",
              "      <td>NaN</td>\n",
              "      <td>NaN</td>\n",
              "      <td>0.020425</td>\n",
              "      <td>1.000000</td>\n",
              "      <td>66.142500</td>\n",
              "      <td>NaN</td>\n",
              "      <td>0.720000</td>\n",
              "      <td>NaN</td>\n",
              "      <td>2.680000</td>\n",
              "      <td>NaN</td>\n",
              "      <td>8.000000</td>\n",
              "      <td>NaN</td>\n",
              "      <td>0.119675</td>\n",
              "      <td>8.000000</td>\n",
              "      <td>NaN</td>\n",
              "      <td>NaN</td>\n",
              "      <td>1.537793e+12</td>\n",
              "      <td>NaN</td>\n",
              "      <td>0.000000</td>\n",
              "      <td>NaN</td>\n",
              "      <td>NaN</td>\n",
              "      <td>-540.000000</td>\n",
              "      <td>1.537996e+12</td>\n",
              "      <td>NaN</td>\n",
              "    </tr>\n",
              "    <tr>\n",
              "      <th>50%</th>\n",
              "      <td>NaN</td>\n",
              "      <td>2.700000</td>\n",
              "      <td>NaN</td>\n",
              "      <td>NaN</td>\n",
              "      <td>0.059050</td>\n",
              "      <td>2.000000</td>\n",
              "      <td>105.000000</td>\n",
              "      <td>NaN</td>\n",
              "      <td>1.300000</td>\n",
              "      <td>NaN</td>\n",
              "      <td>3.720000</td>\n",
              "      <td>NaN</td>\n",
              "      <td>15.000000</td>\n",
              "      <td>NaN</td>\n",
              "      <td>0.210000</td>\n",
              "      <td>26.000000</td>\n",
              "      <td>NaN</td>\n",
              "      <td>NaN</td>\n",
              "      <td>1.538245e+12</td>\n",
              "      <td>NaN</td>\n",
              "      <td>0.000000</td>\n",
              "      <td>NaN</td>\n",
              "      <td>NaN</td>\n",
              "      <td>-480.000000</td>\n",
              "      <td>1.538621e+12</td>\n",
              "      <td>NaN</td>\n",
              "    </tr>\n",
              "    <tr>\n",
              "      <th>75%</th>\n",
              "      <td>NaN</td>\n",
              "      <td>3.300000</td>\n",
              "      <td>NaN</td>\n",
              "      <td>NaN</td>\n",
              "      <td>0.177250</td>\n",
              "      <td>5.000000</td>\n",
              "      <td>159.000000</td>\n",
              "      <td>NaN</td>\n",
              "      <td>1.900000</td>\n",
              "      <td>NaN</td>\n",
              "      <td>4.570000</td>\n",
              "      <td>NaN</td>\n",
              "      <td>25.000000</td>\n",
              "      <td>NaN</td>\n",
              "      <td>0.590000</td>\n",
              "      <td>56.000000</td>\n",
              "      <td>NaN</td>\n",
              "      <td>NaN</td>\n",
              "      <td>1.538766e+12</td>\n",
              "      <td>NaN</td>\n",
              "      <td>0.000000</td>\n",
              "      <td>NaN</td>\n",
              "      <td>NaN</td>\n",
              "      <td>-480.000000</td>\n",
              "      <td>1.539110e+12</td>\n",
              "      <td>NaN</td>\n",
              "    </tr>\n",
              "    <tr>\n",
              "      <th>max</th>\n",
              "      <td>NaN</td>\n",
              "      <td>8.400000</td>\n",
              "      <td>NaN</td>\n",
              "      <td>NaN</td>\n",
              "      <td>53.737000</td>\n",
              "      <td>580.000000</td>\n",
              "      <td>355.910000</td>\n",
              "      <td>NaN</td>\n",
              "      <td>7.500000</td>\n",
              "      <td>NaN</td>\n",
              "      <td>9.120000</td>\n",
              "      <td>NaN</td>\n",
              "      <td>172.000000</td>\n",
              "      <td>NaN</td>\n",
              "      <td>1.910000</td>\n",
              "      <td>2015.000000</td>\n",
              "      <td>NaN</td>\n",
              "      <td>NaN</td>\n",
              "      <td>1.539475e+12</td>\n",
              "      <td>NaN</td>\n",
              "      <td>1.000000</td>\n",
              "      <td>NaN</td>\n",
              "      <td>NaN</td>\n",
              "      <td>720.000000</td>\n",
              "      <td>1.539537e+12</td>\n",
              "      <td>NaN</td>\n",
              "    </tr>\n",
              "  </tbody>\n",
              "</table>\n",
              "</div>"
            ],
            "text/plain": [
              "        alert  ...                                                url\n",
              "count      59  ...                                               9332\n",
              "unique      2  ...                                               9332\n",
              "top     green  ...  https://earthquake.usgs.gov/earthquakes/eventp...\n",
              "freq       58  ...                                                  1\n",
              "mean      NaN  ...                                                NaN\n",
              "std       NaN  ...                                                NaN\n",
              "min       NaN  ...                                                NaN\n",
              "25%       NaN  ...                                                NaN\n",
              "50%       NaN  ...                                                NaN\n",
              "75%       NaN  ...                                                NaN\n",
              "max       NaN  ...                                                NaN\n",
              "\n",
              "[11 rows x 26 columns]"
            ]
          },
          "metadata": {},
          "execution_count": 14
        }
      ]
    },
    {
      "cell_type": "markdown",
      "metadata": {
        "id": "mcv5f9Q81B2_"
      },
      "source": [
        "This works on columns also:"
      ]
    },
    {
      "cell_type": "code",
      "metadata": {
        "id": "JK0jQcHF1B2_",
        "outputId": "16080b4c-ca50-4f63-8730-35c493e3fe95",
        "colab": {
          "base_uri": "https://localhost:8080/"
        }
      },
      "source": [
        "df.felt.describe()"
      ],
      "execution_count": 15,
      "outputs": [
        {
          "output_type": "execute_result",
          "data": {
            "text/plain": [
              "count    329.000000\n",
              "mean      12.310030\n",
              "std       48.954944\n",
              "min        0.000000\n",
              "25%        1.000000\n",
              "50%        2.000000\n",
              "75%        5.000000\n",
              "max      580.000000\n",
              "Name: felt, dtype: float64"
            ]
          },
          "metadata": {},
          "execution_count": 15
        }
      ]
    },
    {
      "cell_type": "markdown",
      "metadata": {
        "id": "UOuHN0N9aZtn"
      },
      "source": [
        "* felt variable에 대한 정보를 얻고 싶을 때 describe를 사용해 준다."
      ]
    },
    {
      "cell_type": "markdown",
      "metadata": {
        "id": "fVz6w7Y21B2_"
      },
      "source": [
        "There are methods for specific statistics as well. Here is a sampling of them:\n",
        "\n",
        "| Method | Description | Data types |\n",
        "| --- | --- | --- |\n",
        "| `count()` | The number of non-null observations | Any |\n",
        "| `nunique()` | The number of unique values | Any |\n",
        "| `sum()` | The total of the values | Numerical or Boolean |\n",
        "| `mean()` | The average of the values | Numerical or Boolean |\n",
        "| `median()` | The median of the values | Numerical |\n",
        "| `min()` | The minimum of the values | Numerical |\n",
        "| `idxmin()` | The index where the minimum values occurs | Numerical |\n",
        "| `max()` | The maximum of the values | Numerical |\n",
        "| `idxmax()` | The index where the maximum value occurs | Numerical |\n",
        "| `abs()` | The absolute values of the data | Numerical |\n",
        "| `std()` | The standard deviation | Numerical |\n",
        "| `var()` | The variance |  Numerical |\n",
        "| `cov()` | The covariance between two `Series`, or a covariance matrix for all column combinations in a `DataFrame` | Numerical |\n",
        "| `corr()` | The correlation between two `Series`, or a correlation matrix for all column combinations in a `DataFrame` | Numerical |\n",
        "| `quantile()` | Calculates a specific quantile | Numerical |\n",
        "| `cumsum()` | The cumulative sum | Numerical or Boolean |\n",
        "| `cummin()` | The cumulative minimum | Numerical |\n",
        "| `cummax()` | The cumulative maximum | Numerical |\n",
        "\n",
        "For example, finding the unique values in the `alert` column:"
      ]
    },
    {
      "cell_type": "markdown",
      "metadata": {
        "id": "Acrl8-PTarHY"
      },
      "source": [
        "* 관심있는 학생들은 위에 있는 거를 한번 해보라고 말씀하심."
      ]
    },
    {
      "cell_type": "code",
      "metadata": {
        "id": "GhiaCWI71B3A",
        "colab": {
          "base_uri": "https://localhost:8080/"
        },
        "outputId": "1852ae84-cbaa-4280-92d4-47b04f7b482b"
      },
      "source": [
        "df.alert.unique()"
      ],
      "execution_count": 16,
      "outputs": [
        {
          "output_type": "execute_result",
          "data": {
            "text/plain": [
              "array([nan, 'green', 'red'], dtype=object)"
            ]
          },
          "metadata": {},
          "execution_count": 16
        }
      ]
    },
    {
      "cell_type": "markdown",
      "metadata": {
        "id": "Qjbj2RnB1B3A"
      },
      "source": [
        "We can then use `value_counts()` to see how many of each unique value we have:"
      ]
    },
    {
      "cell_type": "code",
      "metadata": {
        "id": "ps4PxaGX1B3A",
        "colab": {
          "base_uri": "https://localhost:8080/"
        },
        "outputId": "86d65bb5-dc6b-462e-fe97-1d3a6dbc0764"
      },
      "source": [
        "df.alert.value_counts()"
      ],
      "execution_count": 17,
      "outputs": [
        {
          "output_type": "execute_result",
          "data": {
            "text/plain": [
              "green    58\n",
              "red       1\n",
              "Name: alert, dtype: int64"
            ]
          },
          "metadata": {},
          "execution_count": 17
        }
      ]
    },
    {
      "cell_type": "markdown",
      "metadata": {
        "id": "7fg83NAy1B3A"
      },
      "source": [
        "Note that `Index` objects also have several methods to help describe and summarize our data:\n",
        "\n",
        "| Method | Description |\n",
        "| --- | --- |\n",
        "| `argmax()`/`argmin()` | Find the location of the maximum/minimum value in the index |\n",
        "| `equals()` | Compare the index to another `Index` object for equality |\n",
        "| `isin()` | Check if the index values are in a list of values and return an array of Booleans |\n",
        "| `max()`/`min()` | Find the maximum/minimum value in the index |\n",
        "| `nunique()` | Get the number of unique values in the index |\n",
        "| `to_series()` | Create a `Series` object from the index |\n",
        "| `unique()` | Find the unique values of the index |\n",
        "| `value_counts()`| Create a frequency table for the unique values in the index |"
      ]
    },
    {
      "cell_type": "markdown",
      "metadata": {
        "id": "tkblb9zOa7dX"
      },
      "source": [
        "* index object에 대한게 나와있는데 다음에 자세히 본다고 하심."
      ]
    },
    {
      "cell_type": "markdown",
      "metadata": {
        "id": "2wdDHzOn1B3B"
      },
      "source": [
        "<hr>\n",
        "<div>\n",
        "    <a href=\"./3-making_dataframes_from_api_requests.ipynb\">\n",
        "        <button style=\"float: left;\">&#8592; Previous Notebook</button>\n",
        "    </a>\n",
        "    <a href=\"./5-subsetting_data.ipynb\">\n",
        "        <button style=\"float: right;\">Next Notebook &#8594;</button>\n",
        "    </a>\n",
        "</div>\n",
        "<br>\n",
        "<hr>"
      ]
    }
  ]
}
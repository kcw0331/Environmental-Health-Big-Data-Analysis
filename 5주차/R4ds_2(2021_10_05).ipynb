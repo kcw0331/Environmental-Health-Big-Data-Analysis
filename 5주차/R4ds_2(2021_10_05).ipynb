{
  "nbformat": 4,
  "nbformat_minor": 0,
  "metadata": {
    "colab": {
      "name": "R4ds_2.ipynb",
      "provenance": [],
      "collapsed_sections": [
        "eGSQOXQ4_AU5",
        "mlC9snrxBl8e",
        "wr6khQtVEGU9",
        "lZ7T-DXr-_cq",
        "4ulZKebLQP3G"
      ],
      "include_colab_link": true
    },
    "kernelspec": {
      "name": "ir",
      "display_name": "R"
    }
  },
  "cells": [
    {
      "cell_type": "markdown",
      "metadata": {
        "id": "view-in-github",
        "colab_type": "text"
      },
      "source": [
        "<a href=\"https://colab.research.google.com/github/kcw0331/Environmental-Health-Big-Data-Analysis/blob/main/5%EC%A3%BC%EC%B0%A8/R4ds_2(2021_10_05).ipynb\" target=\"_parent\"><img src=\"https://colab.research.google.com/assets/colab-badge.svg\" alt=\"Open In Colab\"/></a>"
      ]
    },
    {
      "cell_type": "markdown",
      "metadata": {
        "id": "gstrndhz6psu"
      },
      "source": [
        "# R for Data Science 실습 2 - Data wrangling and programing\n",
        "\n",
        "## Data Wrangling (tidyr)"
      ]
    },
    {
      "cell_type": "code",
      "metadata": {
        "id": "76FV1Zt07B11",
        "colab": {
          "base_uri": "https://localhost:8080/"
        },
        "outputId": "b66ad5cd-3d79-40bd-9754-b3733b31de77"
      },
      "source": [
        "library(tidyverse)"
      ],
      "execution_count": 1,
      "outputs": [
        {
          "output_type": "stream",
          "name": "stderr",
          "text": [
            "Warning message in system(\"timedatectl\", intern = TRUE):\n",
            "“running command 'timedatectl' had status 1”\n",
            "── \u001b[1mAttaching packages\u001b[22m ─────────────────────────────────────── tidyverse 1.3.1 ──\n",
            "\n",
            "\u001b[32m✔\u001b[39m \u001b[34mggplot2\u001b[39m 3.3.5     \u001b[32m✔\u001b[39m \u001b[34mpurrr  \u001b[39m 0.3.4\n",
            "\u001b[32m✔\u001b[39m \u001b[34mtibble \u001b[39m 3.1.4     \u001b[32m✔\u001b[39m \u001b[34mdplyr  \u001b[39m 1.0.7\n",
            "\u001b[32m✔\u001b[39m \u001b[34mtidyr  \u001b[39m 1.1.3     \u001b[32m✔\u001b[39m \u001b[34mstringr\u001b[39m 1.4.0\n",
            "\u001b[32m✔\u001b[39m \u001b[34mreadr  \u001b[39m 2.0.1     \u001b[32m✔\u001b[39m \u001b[34mforcats\u001b[39m 0.5.1\n",
            "\n",
            "── \u001b[1mConflicts\u001b[22m ────────────────────────────────────────── tidyverse_conflicts() ──\n",
            "\u001b[31m✖\u001b[39m \u001b[34mdplyr\u001b[39m::\u001b[32mfilter()\u001b[39m masks \u001b[34mstats\u001b[39m::filter()\n",
            "\u001b[31m✖\u001b[39m \u001b[34mdplyr\u001b[39m::\u001b[32mlag()\u001b[39m    masks \u001b[34mstats\u001b[39m::lag()\n",
            "\n"
          ]
        }
      ]
    },
    {
      "cell_type": "markdown",
      "metadata": {
        "id": "RNJOq6-gLQik"
      },
      "source": [
        "## Example datasets"
      ]
    },
    {
      "cell_type": "code",
      "metadata": {
        "colab": {
          "base_uri": "https://localhost:8080/",
          "height": 282
        },
        "id": "NVHja2rs6-sx",
        "outputId": "f884d30f-5d5f-4b5b-a2a3-4cd756a75147"
      },
      "source": [
        "table1"
      ],
      "execution_count": 2,
      "outputs": [
        {
          "output_type": "display_data",
          "data": {
            "text/plain": [
              "  country     year cases  population\n",
              "1 Afghanistan 1999    745   19987071\n",
              "2 Afghanistan 2000   2666   20595360\n",
              "3 Brazil      1999  37737  172006362\n",
              "4 Brazil      2000  80488  174504898\n",
              "5 China       1999 212258 1272915272\n",
              "6 China       2000 213766 1280428583"
            ],
            "text/latex": "A tibble: 6 × 4\n\\begin{tabular}{llll}\n country & year & cases & population\\\\\n <chr> & <int> & <int> & <int>\\\\\n\\hline\n\t Afghanistan & 1999 &    745 &   19987071\\\\\n\t Afghanistan & 2000 &   2666 &   20595360\\\\\n\t Brazil      & 1999 &  37737 &  172006362\\\\\n\t Brazil      & 2000 &  80488 &  174504898\\\\\n\t China       & 1999 & 212258 & 1272915272\\\\\n\t China       & 2000 & 213766 & 1280428583\\\\\n\\end{tabular}\n",
            "text/markdown": "\nA tibble: 6 × 4\n\n| country &lt;chr&gt; | year &lt;int&gt; | cases &lt;int&gt; | population &lt;int&gt; |\n|---|---|---|---|\n| Afghanistan | 1999 |    745 |   19987071 |\n| Afghanistan | 2000 |   2666 |   20595360 |\n| Brazil      | 1999 |  37737 |  172006362 |\n| Brazil      | 2000 |  80488 |  174504898 |\n| China       | 1999 | 212258 | 1272915272 |\n| China       | 2000 | 213766 | 1280428583 |\n\n",
            "text/html": [
              "<table class=\"dataframe\">\n",
              "<caption>A tibble: 6 × 4</caption>\n",
              "<thead>\n",
              "\t<tr><th scope=col>country</th><th scope=col>year</th><th scope=col>cases</th><th scope=col>population</th></tr>\n",
              "\t<tr><th scope=col>&lt;chr&gt;</th><th scope=col>&lt;int&gt;</th><th scope=col>&lt;int&gt;</th><th scope=col>&lt;int&gt;</th></tr>\n",
              "</thead>\n",
              "<tbody>\n",
              "\t<tr><td>Afghanistan</td><td>1999</td><td>   745</td><td>  19987071</td></tr>\n",
              "\t<tr><td>Afghanistan</td><td>2000</td><td>  2666</td><td>  20595360</td></tr>\n",
              "\t<tr><td>Brazil     </td><td>1999</td><td> 37737</td><td> 172006362</td></tr>\n",
              "\t<tr><td>Brazil     </td><td>2000</td><td> 80488</td><td> 174504898</td></tr>\n",
              "\t<tr><td>China      </td><td>1999</td><td>212258</td><td>1272915272</td></tr>\n",
              "\t<tr><td>China      </td><td>2000</td><td>213766</td><td>1280428583</td></tr>\n",
              "</tbody>\n",
              "</table>\n"
            ]
          },
          "metadata": {}
        }
      ]
    },
    {
      "cell_type": "code",
      "metadata": {
        "colab": {
          "base_uri": "https://localhost:8080/",
          "height": 466
        },
        "id": "Yc0K2hUT62I0",
        "outputId": "c9fabe1a-7114-4110-db3c-8aca3fb312c2"
      },
      "source": [
        "table2"
      ],
      "execution_count": 3,
      "outputs": [
        {
          "output_type": "display_data",
          "data": {
            "text/plain": [
              "   country     year type       count     \n",
              "1  Afghanistan 1999 cases             745\n",
              "2  Afghanistan 1999 population   19987071\n",
              "3  Afghanistan 2000 cases            2666\n",
              "4  Afghanistan 2000 population   20595360\n",
              "5  Brazil      1999 cases           37737\n",
              "6  Brazil      1999 population  172006362\n",
              "7  Brazil      2000 cases           80488\n",
              "8  Brazil      2000 population  174504898\n",
              "9  China       1999 cases          212258\n",
              "10 China       1999 population 1272915272\n",
              "11 China       2000 cases          213766\n",
              "12 China       2000 population 1280428583"
            ],
            "text/latex": "A tibble: 12 × 4\n\\begin{tabular}{llll}\n country & year & type & count\\\\\n <chr> & <int> & <chr> & <int>\\\\\n\\hline\n\t Afghanistan & 1999 & cases      &        745\\\\\n\t Afghanistan & 1999 & population &   19987071\\\\\n\t Afghanistan & 2000 & cases      &       2666\\\\\n\t Afghanistan & 2000 & population &   20595360\\\\\n\t Brazil      & 1999 & cases      &      37737\\\\\n\t Brazil      & 1999 & population &  172006362\\\\\n\t Brazil      & 2000 & cases      &      80488\\\\\n\t Brazil      & 2000 & population &  174504898\\\\\n\t China       & 1999 & cases      &     212258\\\\\n\t China       & 1999 & population & 1272915272\\\\\n\t China       & 2000 & cases      &     213766\\\\\n\t China       & 2000 & population & 1280428583\\\\\n\\end{tabular}\n",
            "text/markdown": "\nA tibble: 12 × 4\n\n| country &lt;chr&gt; | year &lt;int&gt; | type &lt;chr&gt; | count &lt;int&gt; |\n|---|---|---|---|\n| Afghanistan | 1999 | cases      |        745 |\n| Afghanistan | 1999 | population |   19987071 |\n| Afghanistan | 2000 | cases      |       2666 |\n| Afghanistan | 2000 | population |   20595360 |\n| Brazil      | 1999 | cases      |      37737 |\n| Brazil      | 1999 | population |  172006362 |\n| Brazil      | 2000 | cases      |      80488 |\n| Brazil      | 2000 | population |  174504898 |\n| China       | 1999 | cases      |     212258 |\n| China       | 1999 | population | 1272915272 |\n| China       | 2000 | cases      |     213766 |\n| China       | 2000 | population | 1280428583 |\n\n",
            "text/html": [
              "<table class=\"dataframe\">\n",
              "<caption>A tibble: 12 × 4</caption>\n",
              "<thead>\n",
              "\t<tr><th scope=col>country</th><th scope=col>year</th><th scope=col>type</th><th scope=col>count</th></tr>\n",
              "\t<tr><th scope=col>&lt;chr&gt;</th><th scope=col>&lt;int&gt;</th><th scope=col>&lt;chr&gt;</th><th scope=col>&lt;int&gt;</th></tr>\n",
              "</thead>\n",
              "<tbody>\n",
              "\t<tr><td>Afghanistan</td><td>1999</td><td>cases     </td><td>       745</td></tr>\n",
              "\t<tr><td>Afghanistan</td><td>1999</td><td>population</td><td>  19987071</td></tr>\n",
              "\t<tr><td>Afghanistan</td><td>2000</td><td>cases     </td><td>      2666</td></tr>\n",
              "\t<tr><td>Afghanistan</td><td>2000</td><td>population</td><td>  20595360</td></tr>\n",
              "\t<tr><td>Brazil     </td><td>1999</td><td>cases     </td><td>     37737</td></tr>\n",
              "\t<tr><td>Brazil     </td><td>1999</td><td>population</td><td> 172006362</td></tr>\n",
              "\t<tr><td>Brazil     </td><td>2000</td><td>cases     </td><td>     80488</td></tr>\n",
              "\t<tr><td>Brazil     </td><td>2000</td><td>population</td><td> 174504898</td></tr>\n",
              "\t<tr><td>China      </td><td>1999</td><td>cases     </td><td>    212258</td></tr>\n",
              "\t<tr><td>China      </td><td>1999</td><td>population</td><td>1272915272</td></tr>\n",
              "\t<tr><td>China      </td><td>2000</td><td>cases     </td><td>    213766</td></tr>\n",
              "\t<tr><td>China      </td><td>2000</td><td>population</td><td>1280428583</td></tr>\n",
              "</tbody>\n",
              "</table>\n"
            ]
          },
          "metadata": {}
        }
      ]
    },
    {
      "cell_type": "code",
      "metadata": {
        "colab": {
          "base_uri": "https://localhost:8080/",
          "height": 282
        },
        "id": "ruUuOM3Z6uHz",
        "outputId": "580796a0-0b93-4b47-bb9e-da1268c38711"
      },
      "source": [
        "table3"
      ],
      "execution_count": 4,
      "outputs": [
        {
          "output_type": "display_data",
          "data": {
            "text/plain": [
              "  country     year rate             \n",
              "1 Afghanistan 1999 745/19987071     \n",
              "2 Afghanistan 2000 2666/20595360    \n",
              "3 Brazil      1999 37737/172006362  \n",
              "4 Brazil      2000 80488/174504898  \n",
              "5 China       1999 212258/1272915272\n",
              "6 China       2000 213766/1280428583"
            ],
            "text/latex": "A tibble: 6 × 3\n\\begin{tabular}{r|lll}\n  & country & year & rate\\\\\n  & <chr> & <int> & <chr>\\\\\n\\hline\n\t1 & Afghanistan & 1999 & 745/19987071     \\\\\n\t2 & Afghanistan & 2000 & 2666/20595360    \\\\\n\t3 & Brazil      & 1999 & 37737/172006362  \\\\\n\t4 & Brazil      & 2000 & 80488/174504898  \\\\\n\t5 & China       & 1999 & 212258/1272915272\\\\\n\t6 & China       & 2000 & 213766/1280428583\\\\\n\\end{tabular}\n",
            "text/markdown": "\nA tibble: 6 × 3\n\n| <!--/--> | country &lt;chr&gt; | year &lt;int&gt; | rate &lt;chr&gt; |\n|---|---|---|---|\n| 1 | Afghanistan | 1999 | 745/19987071      |\n| 2 | Afghanistan | 2000 | 2666/20595360     |\n| 3 | Brazil      | 1999 | 37737/172006362   |\n| 4 | Brazil      | 2000 | 80488/174504898   |\n| 5 | China       | 1999 | 212258/1272915272 |\n| 6 | China       | 2000 | 213766/1280428583 |\n\n",
            "text/html": [
              "<table class=\"dataframe\">\n",
              "<caption>A tibble: 6 × 3</caption>\n",
              "<thead>\n",
              "\t<tr><th></th><th scope=col>country</th><th scope=col>year</th><th scope=col>rate</th></tr>\n",
              "\t<tr><th></th><th scope=col>&lt;chr&gt;</th><th scope=col>&lt;int&gt;</th><th scope=col>&lt;chr&gt;</th></tr>\n",
              "</thead>\n",
              "<tbody>\n",
              "\t<tr><th scope=row>1</th><td>Afghanistan</td><td>1999</td><td>745/19987071     </td></tr>\n",
              "\t<tr><th scope=row>2</th><td>Afghanistan</td><td>2000</td><td>2666/20595360    </td></tr>\n",
              "\t<tr><th scope=row>3</th><td>Brazil     </td><td>1999</td><td>37737/172006362  </td></tr>\n",
              "\t<tr><th scope=row>4</th><td>Brazil     </td><td>2000</td><td>80488/174504898  </td></tr>\n",
              "\t<tr><th scope=row>5</th><td>China      </td><td>1999</td><td>212258/1272915272</td></tr>\n",
              "\t<tr><th scope=row>6</th><td>China      </td><td>2000</td><td>213766/1280428583</td></tr>\n",
              "</tbody>\n",
              "</table>\n"
            ]
          },
          "metadata": {}
        }
      ]
    },
    {
      "cell_type": "code",
      "metadata": {
        "id": "g7pkx0_iKcLw",
        "colab": {
          "base_uri": "https://localhost:8080/",
          "height": 189
        },
        "outputId": "cbf8a9be-12fe-470b-e42f-e0dec115e9bf"
      },
      "source": [
        "table4a # N. cases #하나의 variable이 2개로 나뉘어져 있다."
      ],
      "execution_count": 5,
      "outputs": [
        {
          "output_type": "display_data",
          "data": {
            "text/plain": [
              "  country     1999   2000  \n",
              "1 Afghanistan    745   2666\n",
              "2 Brazil       37737  80488\n",
              "3 China       212258 213766"
            ],
            "text/latex": "A tibble: 3 × 3\n\\begin{tabular}{r|lll}\n  & country & 1999 & 2000\\\\\n  & <chr> & <int> & <int>\\\\\n\\hline\n\t1 & Afghanistan &    745 &   2666\\\\\n\t2 & Brazil      &  37737 &  80488\\\\\n\t3 & China       & 212258 & 213766\\\\\n\\end{tabular}\n",
            "text/markdown": "\nA tibble: 3 × 3\n\n| <!--/--> | country &lt;chr&gt; | 1999 &lt;int&gt; | 2000 &lt;int&gt; |\n|---|---|---|---|\n| 1 | Afghanistan |    745 |   2666 |\n| 2 | Brazil      |  37737 |  80488 |\n| 3 | China       | 212258 | 213766 |\n\n",
            "text/html": [
              "<table class=\"dataframe\">\n",
              "<caption>A tibble: 3 × 3</caption>\n",
              "<thead>\n",
              "\t<tr><th></th><th scope=col>country</th><th scope=col>1999</th><th scope=col>2000</th></tr>\n",
              "\t<tr><th></th><th scope=col>&lt;chr&gt;</th><th scope=col>&lt;int&gt;</th><th scope=col>&lt;int&gt;</th></tr>\n",
              "</thead>\n",
              "<tbody>\n",
              "\t<tr><th scope=row>1</th><td>Afghanistan</td><td>   745</td><td>  2666</td></tr>\n",
              "\t<tr><th scope=row>2</th><td>Brazil     </td><td> 37737</td><td> 80488</td></tr>\n",
              "\t<tr><th scope=row>3</th><td>China      </td><td>212258</td><td>213766</td></tr>\n",
              "</tbody>\n",
              "</table>\n"
            ]
          },
          "metadata": {}
        }
      ]
    },
    {
      "cell_type": "code",
      "metadata": {
        "id": "49S9TIboKeCV",
        "colab": {
          "base_uri": "https://localhost:8080/",
          "height": 189
        },
        "outputId": "8def772b-a971-47fa-b5b9-a1b003c5513a"
      },
      "source": [
        "table4b # N. population"
      ],
      "execution_count": 6,
      "outputs": [
        {
          "output_type": "display_data",
          "data": {
            "text/plain": [
              "  country     1999       2000      \n",
              "1 Afghanistan   19987071   20595360\n",
              "2 Brazil       172006362  174504898\n",
              "3 China       1272915272 1280428583"
            ],
            "text/latex": "A tibble: 3 × 3\n\\begin{tabular}{r|lll}\n  & country & 1999 & 2000\\\\\n  & <chr> & <int> & <int>\\\\\n\\hline\n\t1 & Afghanistan &   19987071 &   20595360\\\\\n\t2 & Brazil      &  172006362 &  174504898\\\\\n\t3 & China       & 1272915272 & 1280428583\\\\\n\\end{tabular}\n",
            "text/markdown": "\nA tibble: 3 × 3\n\n| <!--/--> | country &lt;chr&gt; | 1999 &lt;int&gt; | 2000 &lt;int&gt; |\n|---|---|---|---|\n| 1 | Afghanistan |   19987071 |   20595360 |\n| 2 | Brazil      |  172006362 |  174504898 |\n| 3 | China       | 1272915272 | 1280428583 |\n\n",
            "text/html": [
              "<table class=\"dataframe\">\n",
              "<caption>A tibble: 3 × 3</caption>\n",
              "<thead>\n",
              "\t<tr><th></th><th scope=col>country</th><th scope=col>1999</th><th scope=col>2000</th></tr>\n",
              "\t<tr><th></th><th scope=col>&lt;chr&gt;</th><th scope=col>&lt;int&gt;</th><th scope=col>&lt;int&gt;</th></tr>\n",
              "</thead>\n",
              "<tbody>\n",
              "\t<tr><th scope=row>1</th><td>Afghanistan</td><td>  19987071</td><td>  20595360</td></tr>\n",
              "\t<tr><th scope=row>2</th><td>Brazil     </td><td> 172006362</td><td> 174504898</td></tr>\n",
              "\t<tr><th scope=row>3</th><td>China      </td><td>1272915272</td><td>1280428583</td></tr>\n",
              "</tbody>\n",
              "</table>\n"
            ]
          },
          "metadata": {}
        }
      ]
    },
    {
      "cell_type": "markdown",
      "metadata": {
        "id": "bQduduIN0eiX"
      },
      "source": [
        "* table들을 실행시켜준다."
      ]
    },
    {
      "cell_type": "markdown",
      "metadata": {
        "id": "Ja7B9v_QLXDw"
      },
      "source": [
        "## pivot_longer() "
      ]
    },
    {
      "cell_type": "markdown",
      "metadata": {
        "id": "_HaJOk7fMnEM"
      },
      "source": [
        "One variable might be spread across multiple columns"
      ]
    },
    {
      "cell_type": "markdown",
      "metadata": {
        "id": "CM7i75ShLcRx"
      },
      "source": [
        "Apply pivot_longer() to table4a"
      ]
    },
    {
      "cell_type": "code",
      "metadata": {
        "id": "BefFvDSOKo6I",
        "colab": {
          "base_uri": "https://localhost:8080/",
          "height": 282
        },
        "outputId": "d755d6ac-0b6f-4d56-a2c7-54752402135f"
      },
      "source": [
        "table4a %>% \n",
        "  pivot_longer(c('1999', '2000'), names_to = \"year\", values_to = \"cases\")\n",
        "#두개를 합쳐주고 싶으면 c('1999', '2000')이렇게 적어주고, names_to 해서 이름을 적어주고 values_to해서 값을 적어준다."
      ],
      "execution_count": 7,
      "outputs": [
        {
          "output_type": "display_data",
          "data": {
            "text/plain": [
              "  country     year cases \n",
              "1 Afghanistan 1999    745\n",
              "2 Afghanistan 2000   2666\n",
              "3 Brazil      1999  37737\n",
              "4 Brazil      2000  80488\n",
              "5 China       1999 212258\n",
              "6 China       2000 213766"
            ],
            "text/latex": "A tibble: 6 × 3\n\\begin{tabular}{lll}\n country & year & cases\\\\\n <chr> & <chr> & <int>\\\\\n\\hline\n\t Afghanistan & 1999 &    745\\\\\n\t Afghanistan & 2000 &   2666\\\\\n\t Brazil      & 1999 &  37737\\\\\n\t Brazil      & 2000 &  80488\\\\\n\t China       & 1999 & 212258\\\\\n\t China       & 2000 & 213766\\\\\n\\end{tabular}\n",
            "text/markdown": "\nA tibble: 6 × 3\n\n| country &lt;chr&gt; | year &lt;chr&gt; | cases &lt;int&gt; |\n|---|---|---|\n| Afghanistan | 1999 |    745 |\n| Afghanistan | 2000 |   2666 |\n| Brazil      | 1999 |  37737 |\n| Brazil      | 2000 |  80488 |\n| China       | 1999 | 212258 |\n| China       | 2000 | 213766 |\n\n",
            "text/html": [
              "<table class=\"dataframe\">\n",
              "<caption>A tibble: 6 × 3</caption>\n",
              "<thead>\n",
              "\t<tr><th scope=col>country</th><th scope=col>year</th><th scope=col>cases</th></tr>\n",
              "\t<tr><th scope=col>&lt;chr&gt;</th><th scope=col>&lt;chr&gt;</th><th scope=col>&lt;int&gt;</th></tr>\n",
              "</thead>\n",
              "<tbody>\n",
              "\t<tr><td>Afghanistan</td><td>1999</td><td>   745</td></tr>\n",
              "\t<tr><td>Afghanistan</td><td>2000</td><td>  2666</td></tr>\n",
              "\t<tr><td>Brazil     </td><td>1999</td><td> 37737</td></tr>\n",
              "\t<tr><td>Brazil     </td><td>2000</td><td> 80488</td></tr>\n",
              "\t<tr><td>China      </td><td>1999</td><td>212258</td></tr>\n",
              "\t<tr><td>China      </td><td>2000</td><td>213766</td></tr>\n",
              "</tbody>\n",
              "</table>\n"
            ]
          },
          "metadata": {}
        }
      ]
    },
    {
      "cell_type": "markdown",
      "metadata": {
        "id": "536HG8rsLgSu"
      },
      "source": [
        "apply it to table4b"
      ]
    },
    {
      "cell_type": "code",
      "metadata": {
        "id": "NcFsYuOTKf3b",
        "colab": {
          "base_uri": "https://localhost:8080/",
          "height": 282
        },
        "outputId": "7e5dfd21-f02b-4b15-d0ca-e395bf155322"
      },
      "source": [
        "table4b %>% \n",
        "  pivot_longer(c('1999', '2000'), names_to = \"year\", values_to = \"population\")\n",
        "#table4b와 같은 경우도 values_to를 만들어주면 table이 정리 된것을 볼 수 있다."
      ],
      "execution_count": 8,
      "outputs": [
        {
          "output_type": "display_data",
          "data": {
            "text/plain": [
              "  country     year population\n",
              "1 Afghanistan 1999   19987071\n",
              "2 Afghanistan 2000   20595360\n",
              "3 Brazil      1999  172006362\n",
              "4 Brazil      2000  174504898\n",
              "5 China       1999 1272915272\n",
              "6 China       2000 1280428583"
            ],
            "text/latex": "A tibble: 6 × 3\n\\begin{tabular}{lll}\n country & year & population\\\\\n <chr> & <chr> & <int>\\\\\n\\hline\n\t Afghanistan & 1999 &   19987071\\\\\n\t Afghanistan & 2000 &   20595360\\\\\n\t Brazil      & 1999 &  172006362\\\\\n\t Brazil      & 2000 &  174504898\\\\\n\t China       & 1999 & 1272915272\\\\\n\t China       & 2000 & 1280428583\\\\\n\\end{tabular}\n",
            "text/markdown": "\nA tibble: 6 × 3\n\n| country &lt;chr&gt; | year &lt;chr&gt; | population &lt;int&gt; |\n|---|---|---|\n| Afghanistan | 1999 |   19987071 |\n| Afghanistan | 2000 |   20595360 |\n| Brazil      | 1999 |  172006362 |\n| Brazil      | 2000 |  174504898 |\n| China       | 1999 | 1272915272 |\n| China       | 2000 | 1280428583 |\n\n",
            "text/html": [
              "<table class=\"dataframe\">\n",
              "<caption>A tibble: 6 × 3</caption>\n",
              "<thead>\n",
              "\t<tr><th scope=col>country</th><th scope=col>year</th><th scope=col>population</th></tr>\n",
              "\t<tr><th scope=col>&lt;chr&gt;</th><th scope=col>&lt;chr&gt;</th><th scope=col>&lt;int&gt;</th></tr>\n",
              "</thead>\n",
              "<tbody>\n",
              "\t<tr><td>Afghanistan</td><td>1999</td><td>  19987071</td></tr>\n",
              "\t<tr><td>Afghanistan</td><td>2000</td><td>  20595360</td></tr>\n",
              "\t<tr><td>Brazil     </td><td>1999</td><td> 172006362</td></tr>\n",
              "\t<tr><td>Brazil     </td><td>2000</td><td> 174504898</td></tr>\n",
              "\t<tr><td>China      </td><td>1999</td><td>1272915272</td></tr>\n",
              "\t<tr><td>China      </td><td>2000</td><td>1280428583</td></tr>\n",
              "</tbody>\n",
              "</table>\n"
            ]
          },
          "metadata": {}
        }
      ]
    },
    {
      "cell_type": "markdown",
      "metadata": {
        "id": "Y8lndFAeLk6S"
      },
      "source": [
        "Join two tables"
      ]
    },
    {
      "cell_type": "code",
      "metadata": {
        "id": "y3-IqtQCKfsR",
        "colab": {
          "base_uri": "https://localhost:8080/",
          "height": 317
        },
        "outputId": "6a0ffc40-71e7-4444-eea2-8452bb1bdce6"
      },
      "source": [
        "tidy4a <- table4a %>% \n",
        "  pivot_longer(c('1999', '2000'), names_to = \"year\", values_to = \"cases\")\n",
        "tidy4b <- table4b %>% \n",
        "  pivot_longer(c('1999', '2000'), names_to = \"year\", values_to = \"population\")\n",
        "left_join(tidy4a, tidy4b)\n",
        "#tidy4a와 tidy4b를 위와 똑같이 해준다음에 left_join을 사용해서 합쳐준다.\n",
        "#left_join을 사용해서 tidy4b를 tidy4a에 붙여준다."
      ],
      "execution_count": 9,
      "outputs": [
        {
          "output_type": "stream",
          "name": "stderr",
          "text": [
            "Joining, by = c(\"country\", \"year\")\n",
            "\n"
          ]
        },
        {
          "output_type": "display_data",
          "data": {
            "text/plain": [
              "  country     year cases  population\n",
              "1 Afghanistan 1999    745   19987071\n",
              "2 Afghanistan 2000   2666   20595360\n",
              "3 Brazil      1999  37737  172006362\n",
              "4 Brazil      2000  80488  174504898\n",
              "5 China       1999 212258 1272915272\n",
              "6 China       2000 213766 1280428583"
            ],
            "text/latex": "A tibble: 6 × 4\n\\begin{tabular}{llll}\n country & year & cases & population\\\\\n <chr> & <chr> & <int> & <int>\\\\\n\\hline\n\t Afghanistan & 1999 &    745 &   19987071\\\\\n\t Afghanistan & 2000 &   2666 &   20595360\\\\\n\t Brazil      & 1999 &  37737 &  172006362\\\\\n\t Brazil      & 2000 &  80488 &  174504898\\\\\n\t China       & 1999 & 212258 & 1272915272\\\\\n\t China       & 2000 & 213766 & 1280428583\\\\\n\\end{tabular}\n",
            "text/markdown": "\nA tibble: 6 × 4\n\n| country &lt;chr&gt; | year &lt;chr&gt; | cases &lt;int&gt; | population &lt;int&gt; |\n|---|---|---|---|\n| Afghanistan | 1999 |    745 |   19987071 |\n| Afghanistan | 2000 |   2666 |   20595360 |\n| Brazil      | 1999 |  37737 |  172006362 |\n| Brazil      | 2000 |  80488 |  174504898 |\n| China       | 1999 | 212258 | 1272915272 |\n| China       | 2000 | 213766 | 1280428583 |\n\n",
            "text/html": [
              "<table class=\"dataframe\">\n",
              "<caption>A tibble: 6 × 4</caption>\n",
              "<thead>\n",
              "\t<tr><th scope=col>country</th><th scope=col>year</th><th scope=col>cases</th><th scope=col>population</th></tr>\n",
              "\t<tr><th scope=col>&lt;chr&gt;</th><th scope=col>&lt;chr&gt;</th><th scope=col>&lt;int&gt;</th><th scope=col>&lt;int&gt;</th></tr>\n",
              "</thead>\n",
              "<tbody>\n",
              "\t<tr><td>Afghanistan</td><td>1999</td><td>   745</td><td>  19987071</td></tr>\n",
              "\t<tr><td>Afghanistan</td><td>2000</td><td>  2666</td><td>  20595360</td></tr>\n",
              "\t<tr><td>Brazil     </td><td>1999</td><td> 37737</td><td> 172006362</td></tr>\n",
              "\t<tr><td>Brazil     </td><td>2000</td><td> 80488</td><td> 174504898</td></tr>\n",
              "\t<tr><td>China      </td><td>1999</td><td>212258</td><td>1272915272</td></tr>\n",
              "\t<tr><td>China      </td><td>2000</td><td>213766</td><td>1280428583</td></tr>\n",
              "</tbody>\n",
              "</table>\n"
            ]
          },
          "metadata": {}
        }
      ]
    },
    {
      "cell_type": "markdown",
      "metadata": {
        "id": "pFJXg7AAMIQR"
      },
      "source": [
        "### Q: What is right_join? try ?right_join and study join methods"
      ]
    },
    {
      "cell_type": "code",
      "metadata": {
        "id": "IRBvgbqP-Naq",
        "outputId": "ceff6c97-5868-4482-8c22-3e05aaea4030",
        "colab": {
          "base_uri": "https://localhost:8080/",
          "height": 317
        }
      },
      "source": [
        "# inner_join() 함수는 두 데이터간 공통적으로 속하는 사례만 출력한다.\n",
        "inner_join(tidy4a, tidy4b)"
      ],
      "execution_count": 10,
      "outputs": [
        {
          "output_type": "stream",
          "name": "stderr",
          "text": [
            "Joining, by = c(\"country\", \"year\")\n",
            "\n"
          ]
        },
        {
          "output_type": "display_data",
          "data": {
            "text/plain": [
              "  country     year cases  population\n",
              "1 Afghanistan 1999    745   19987071\n",
              "2 Afghanistan 2000   2666   20595360\n",
              "3 Brazil      1999  37737  172006362\n",
              "4 Brazil      2000  80488  174504898\n",
              "5 China       1999 212258 1272915272\n",
              "6 China       2000 213766 1280428583"
            ],
            "text/latex": "A tibble: 6 × 4\n\\begin{tabular}{llll}\n country & year & cases & population\\\\\n <chr> & <chr> & <int> & <int>\\\\\n\\hline\n\t Afghanistan & 1999 &    745 &   19987071\\\\\n\t Afghanistan & 2000 &   2666 &   20595360\\\\\n\t Brazil      & 1999 &  37737 &  172006362\\\\\n\t Brazil      & 2000 &  80488 &  174504898\\\\\n\t China       & 1999 & 212258 & 1272915272\\\\\n\t China       & 2000 & 213766 & 1280428583\\\\\n\\end{tabular}\n",
            "text/markdown": "\nA tibble: 6 × 4\n\n| country &lt;chr&gt; | year &lt;chr&gt; | cases &lt;int&gt; | population &lt;int&gt; |\n|---|---|---|---|\n| Afghanistan | 1999 |    745 |   19987071 |\n| Afghanistan | 2000 |   2666 |   20595360 |\n| Brazil      | 1999 |  37737 |  172006362 |\n| Brazil      | 2000 |  80488 |  174504898 |\n| China       | 1999 | 212258 | 1272915272 |\n| China       | 2000 | 213766 | 1280428583 |\n\n",
            "text/html": [
              "<table class=\"dataframe\">\n",
              "<caption>A tibble: 6 × 4</caption>\n",
              "<thead>\n",
              "\t<tr><th scope=col>country</th><th scope=col>year</th><th scope=col>cases</th><th scope=col>population</th></tr>\n",
              "\t<tr><th scope=col>&lt;chr&gt;</th><th scope=col>&lt;chr&gt;</th><th scope=col>&lt;int&gt;</th><th scope=col>&lt;int&gt;</th></tr>\n",
              "</thead>\n",
              "<tbody>\n",
              "\t<tr><td>Afghanistan</td><td>1999</td><td>   745</td><td>  19987071</td></tr>\n",
              "\t<tr><td>Afghanistan</td><td>2000</td><td>  2666</td><td>  20595360</td></tr>\n",
              "\t<tr><td>Brazil     </td><td>1999</td><td> 37737</td><td> 172006362</td></tr>\n",
              "\t<tr><td>Brazil     </td><td>2000</td><td> 80488</td><td> 174504898</td></tr>\n",
              "\t<tr><td>China      </td><td>1999</td><td>212258</td><td>1272915272</td></tr>\n",
              "\t<tr><td>China      </td><td>2000</td><td>213766</td><td>1280428583</td></tr>\n",
              "</tbody>\n",
              "</table>\n"
            ]
          },
          "metadata": {}
        }
      ]
    },
    {
      "cell_type": "code",
      "metadata": {
        "id": "XPyCux1i-qPA",
        "outputId": "89d6154f-08a1-4651-cd3c-85c9c7c211a0",
        "colab": {
          "base_uri": "https://localhost:8080/",
          "height": 317
        }
      },
      "source": [
        "# right_join()함수는 두번째 input되는 데이터 사례와 공통적으로 속하는 사례들이 미포함되어 출력이 된다.\n",
        "right_join(tidy4a, tidy4b)"
      ],
      "execution_count": 11,
      "outputs": [
        {
          "output_type": "stream",
          "name": "stderr",
          "text": [
            "Joining, by = c(\"country\", \"year\")\n",
            "\n"
          ]
        },
        {
          "output_type": "display_data",
          "data": {
            "text/plain": [
              "  country     year cases  population\n",
              "1 Afghanistan 1999    745   19987071\n",
              "2 Afghanistan 2000   2666   20595360\n",
              "3 Brazil      1999  37737  172006362\n",
              "4 Brazil      2000  80488  174504898\n",
              "5 China       1999 212258 1272915272\n",
              "6 China       2000 213766 1280428583"
            ],
            "text/latex": "A tibble: 6 × 4\n\\begin{tabular}{llll}\n country & year & cases & population\\\\\n <chr> & <chr> & <int> & <int>\\\\\n\\hline\n\t Afghanistan & 1999 &    745 &   19987071\\\\\n\t Afghanistan & 2000 &   2666 &   20595360\\\\\n\t Brazil      & 1999 &  37737 &  172006362\\\\\n\t Brazil      & 2000 &  80488 &  174504898\\\\\n\t China       & 1999 & 212258 & 1272915272\\\\\n\t China       & 2000 & 213766 & 1280428583\\\\\n\\end{tabular}\n",
            "text/markdown": "\nA tibble: 6 × 4\n\n| country &lt;chr&gt; | year &lt;chr&gt; | cases &lt;int&gt; | population &lt;int&gt; |\n|---|---|---|---|\n| Afghanistan | 1999 |    745 |   19987071 |\n| Afghanistan | 2000 |   2666 |   20595360 |\n| Brazil      | 1999 |  37737 |  172006362 |\n| Brazil      | 2000 |  80488 |  174504898 |\n| China       | 1999 | 212258 | 1272915272 |\n| China       | 2000 | 213766 | 1280428583 |\n\n",
            "text/html": [
              "<table class=\"dataframe\">\n",
              "<caption>A tibble: 6 × 4</caption>\n",
              "<thead>\n",
              "\t<tr><th scope=col>country</th><th scope=col>year</th><th scope=col>cases</th><th scope=col>population</th></tr>\n",
              "\t<tr><th scope=col>&lt;chr&gt;</th><th scope=col>&lt;chr&gt;</th><th scope=col>&lt;int&gt;</th><th scope=col>&lt;int&gt;</th></tr>\n",
              "</thead>\n",
              "<tbody>\n",
              "\t<tr><td>Afghanistan</td><td>1999</td><td>   745</td><td>  19987071</td></tr>\n",
              "\t<tr><td>Afghanistan</td><td>2000</td><td>  2666</td><td>  20595360</td></tr>\n",
              "\t<tr><td>Brazil     </td><td>1999</td><td> 37737</td><td> 172006362</td></tr>\n",
              "\t<tr><td>Brazil     </td><td>2000</td><td> 80488</td><td> 174504898</td></tr>\n",
              "\t<tr><td>China      </td><td>1999</td><td>212258</td><td>1272915272</td></tr>\n",
              "\t<tr><td>China      </td><td>2000</td><td>213766</td><td>1280428583</td></tr>\n",
              "</tbody>\n",
              "</table>\n"
            ]
          },
          "metadata": {}
        }
      ]
    },
    {
      "cell_type": "code",
      "metadata": {
        "id": "fTQvnVeG_Sd2",
        "outputId": "cbf62d58-c76b-4720-d3c8-b7fca30f1d53",
        "colab": {
          "base_uri": "https://localhost:8080/",
          "height": 317
        }
      },
      "source": [
        "# full_join() 함수는 두데이터에서 최소 한 번 이상 등장하는 사례(합집합 개념이다.)\n",
        "full_join(tidy4a, tidy4b)"
      ],
      "execution_count": 12,
      "outputs": [
        {
          "output_type": "stream",
          "name": "stderr",
          "text": [
            "Joining, by = c(\"country\", \"year\")\n",
            "\n"
          ]
        },
        {
          "output_type": "display_data",
          "data": {
            "text/plain": [
              "  country     year cases  population\n",
              "1 Afghanistan 1999    745   19987071\n",
              "2 Afghanistan 2000   2666   20595360\n",
              "3 Brazil      1999  37737  172006362\n",
              "4 Brazil      2000  80488  174504898\n",
              "5 China       1999 212258 1272915272\n",
              "6 China       2000 213766 1280428583"
            ],
            "text/latex": "A tibble: 6 × 4\n\\begin{tabular}{llll}\n country & year & cases & population\\\\\n <chr> & <chr> & <int> & <int>\\\\\n\\hline\n\t Afghanistan & 1999 &    745 &   19987071\\\\\n\t Afghanistan & 2000 &   2666 &   20595360\\\\\n\t Brazil      & 1999 &  37737 &  172006362\\\\\n\t Brazil      & 2000 &  80488 &  174504898\\\\\n\t China       & 1999 & 212258 & 1272915272\\\\\n\t China       & 2000 & 213766 & 1280428583\\\\\n\\end{tabular}\n",
            "text/markdown": "\nA tibble: 6 × 4\n\n| country &lt;chr&gt; | year &lt;chr&gt; | cases &lt;int&gt; | population &lt;int&gt; |\n|---|---|---|---|\n| Afghanistan | 1999 |    745 |   19987071 |\n| Afghanistan | 2000 |   2666 |   20595360 |\n| Brazil      | 1999 |  37737 |  172006362 |\n| Brazil      | 2000 |  80488 |  174504898 |\n| China       | 1999 | 212258 | 1272915272 |\n| China       | 2000 | 213766 | 1280428583 |\n\n",
            "text/html": [
              "<table class=\"dataframe\">\n",
              "<caption>A tibble: 6 × 4</caption>\n",
              "<thead>\n",
              "\t<tr><th scope=col>country</th><th scope=col>year</th><th scope=col>cases</th><th scope=col>population</th></tr>\n",
              "\t<tr><th scope=col>&lt;chr&gt;</th><th scope=col>&lt;chr&gt;</th><th scope=col>&lt;int&gt;</th><th scope=col>&lt;int&gt;</th></tr>\n",
              "</thead>\n",
              "<tbody>\n",
              "\t<tr><td>Afghanistan</td><td>1999</td><td>   745</td><td>  19987071</td></tr>\n",
              "\t<tr><td>Afghanistan</td><td>2000</td><td>  2666</td><td>  20595360</td></tr>\n",
              "\t<tr><td>Brazil     </td><td>1999</td><td> 37737</td><td> 172006362</td></tr>\n",
              "\t<tr><td>Brazil     </td><td>2000</td><td> 80488</td><td> 174504898</td></tr>\n",
              "\t<tr><td>China      </td><td>1999</td><td>212258</td><td>1272915272</td></tr>\n",
              "\t<tr><td>China      </td><td>2000</td><td>213766</td><td>1280428583</td></tr>\n",
              "</tbody>\n",
              "</table>\n"
            ]
          },
          "metadata": {}
        }
      ]
    },
    {
      "cell_type": "markdown",
      "metadata": {
        "id": "Pcfs3f_61bL2"
      },
      "source": [
        "# 교수님이 join method는 **꼭** 공부해보라고 하심.\n",
        "* 'inner_join()' : includes all rows in 'x' and 'y'.\n",
        "* 'left_join()' : includes all rows in 'x'.\n",
        "* 'right_join()' : includes all rows in 'y'.\n",
        "* 'full_join()' : includes all rows in 'x' or 'y'."
      ]
    },
    {
      "cell_type": "markdown",
      "metadata": {
        "id": "6tJiqPzUMZXe"
      },
      "source": [
        "## Pivot_wider()"
      ]
    },
    {
      "cell_type": "markdown",
      "metadata": {
        "id": "agZwBpgJMe3T"
      },
      "source": [
        "One observation might be scattered across multiple rows"
      ]
    },
    {
      "cell_type": "markdown",
      "metadata": {
        "id": "8Yr7C_B36WUI"
      },
      "source": [
        "* 우리가 사용할 데이터는 table2의 데이터이다.\n",
        "* Afghanistan을 보았을 때, cases와 population이 두개로 나뉘어 져서 저장이되어 있는 것을 볼 수 있다."
      ]
    },
    {
      "cell_type": "code",
      "metadata": {
        "id": "ef7xVxDvKfU6",
        "colab": {
          "base_uri": "https://localhost:8080/",
          "height": 466
        },
        "outputId": "a7e27f76-c569-41ef-a707-5186a8e18d33"
      },
      "source": [
        "table2"
      ],
      "execution_count": 13,
      "outputs": [
        {
          "output_type": "display_data",
          "data": {
            "text/plain": [
              "   country     year type       count     \n",
              "1  Afghanistan 1999 cases             745\n",
              "2  Afghanistan 1999 population   19987071\n",
              "3  Afghanistan 2000 cases            2666\n",
              "4  Afghanistan 2000 population   20595360\n",
              "5  Brazil      1999 cases           37737\n",
              "6  Brazil      1999 population  172006362\n",
              "7  Brazil      2000 cases           80488\n",
              "8  Brazil      2000 population  174504898\n",
              "9  China       1999 cases          212258\n",
              "10 China       1999 population 1272915272\n",
              "11 China       2000 cases          213766\n",
              "12 China       2000 population 1280428583"
            ],
            "text/latex": "A tibble: 12 × 4\n\\begin{tabular}{llll}\n country & year & type & count\\\\\n <chr> & <int> & <chr> & <int>\\\\\n\\hline\n\t Afghanistan & 1999 & cases      &        745\\\\\n\t Afghanistan & 1999 & population &   19987071\\\\\n\t Afghanistan & 2000 & cases      &       2666\\\\\n\t Afghanistan & 2000 & population &   20595360\\\\\n\t Brazil      & 1999 & cases      &      37737\\\\\n\t Brazil      & 1999 & population &  172006362\\\\\n\t Brazil      & 2000 & cases      &      80488\\\\\n\t Brazil      & 2000 & population &  174504898\\\\\n\t China       & 1999 & cases      &     212258\\\\\n\t China       & 1999 & population & 1272915272\\\\\n\t China       & 2000 & cases      &     213766\\\\\n\t China       & 2000 & population & 1280428583\\\\\n\\end{tabular}\n",
            "text/markdown": "\nA tibble: 12 × 4\n\n| country &lt;chr&gt; | year &lt;int&gt; | type &lt;chr&gt; | count &lt;int&gt; |\n|---|---|---|---|\n| Afghanistan | 1999 | cases      |        745 |\n| Afghanistan | 1999 | population |   19987071 |\n| Afghanistan | 2000 | cases      |       2666 |\n| Afghanistan | 2000 | population |   20595360 |\n| Brazil      | 1999 | cases      |      37737 |\n| Brazil      | 1999 | population |  172006362 |\n| Brazil      | 2000 | cases      |      80488 |\n| Brazil      | 2000 | population |  174504898 |\n| China       | 1999 | cases      |     212258 |\n| China       | 1999 | population | 1272915272 |\n| China       | 2000 | cases      |     213766 |\n| China       | 2000 | population | 1280428583 |\n\n",
            "text/html": [
              "<table class=\"dataframe\">\n",
              "<caption>A tibble: 12 × 4</caption>\n",
              "<thead>\n",
              "\t<tr><th scope=col>country</th><th scope=col>year</th><th scope=col>type</th><th scope=col>count</th></tr>\n",
              "\t<tr><th scope=col>&lt;chr&gt;</th><th scope=col>&lt;int&gt;</th><th scope=col>&lt;chr&gt;</th><th scope=col>&lt;int&gt;</th></tr>\n",
              "</thead>\n",
              "<tbody>\n",
              "\t<tr><td>Afghanistan</td><td>1999</td><td>cases     </td><td>       745</td></tr>\n",
              "\t<tr><td>Afghanistan</td><td>1999</td><td>population</td><td>  19987071</td></tr>\n",
              "\t<tr><td>Afghanistan</td><td>2000</td><td>cases     </td><td>      2666</td></tr>\n",
              "\t<tr><td>Afghanistan</td><td>2000</td><td>population</td><td>  20595360</td></tr>\n",
              "\t<tr><td>Brazil     </td><td>1999</td><td>cases     </td><td>     37737</td></tr>\n",
              "\t<tr><td>Brazil     </td><td>1999</td><td>population</td><td> 172006362</td></tr>\n",
              "\t<tr><td>Brazil     </td><td>2000</td><td>cases     </td><td>     80488</td></tr>\n",
              "\t<tr><td>Brazil     </td><td>2000</td><td>population</td><td> 174504898</td></tr>\n",
              "\t<tr><td>China      </td><td>1999</td><td>cases     </td><td>    212258</td></tr>\n",
              "\t<tr><td>China      </td><td>1999</td><td>population</td><td>1272915272</td></tr>\n",
              "\t<tr><td>China      </td><td>2000</td><td>cases     </td><td>    213766</td></tr>\n",
              "\t<tr><td>China      </td><td>2000</td><td>population</td><td>1280428583</td></tr>\n",
              "</tbody>\n",
              "</table>\n"
            ]
          },
          "metadata": {}
        }
      ]
    },
    {
      "cell_type": "code",
      "metadata": {
        "id": "dxI9LeITM3j3",
        "colab": {
          "base_uri": "https://localhost:8080/",
          "height": 282
        },
        "outputId": "367759d9-a6ae-42e8-ea8e-7db2cef2aeb8"
      },
      "source": [
        "table2 %>% pivot_wider(names_from = type, values_from = count)\n",
        "#새로만들어지는 names_from을 type에서 가지고 온다라는 것이고, values_from을 count에서 가지고 온다는 것이다."
      ],
      "execution_count": 14,
      "outputs": [
        {
          "output_type": "display_data",
          "data": {
            "text/plain": [
              "  country     year cases  population\n",
              "1 Afghanistan 1999    745   19987071\n",
              "2 Afghanistan 2000   2666   20595360\n",
              "3 Brazil      1999  37737  172006362\n",
              "4 Brazil      2000  80488  174504898\n",
              "5 China       1999 212258 1272915272\n",
              "6 China       2000 213766 1280428583"
            ],
            "text/latex": "A tibble: 6 × 4\n\\begin{tabular}{llll}\n country & year & cases & population\\\\\n <chr> & <int> & <int> & <int>\\\\\n\\hline\n\t Afghanistan & 1999 &    745 &   19987071\\\\\n\t Afghanistan & 2000 &   2666 &   20595360\\\\\n\t Brazil      & 1999 &  37737 &  172006362\\\\\n\t Brazil      & 2000 &  80488 &  174504898\\\\\n\t China       & 1999 & 212258 & 1272915272\\\\\n\t China       & 2000 & 213766 & 1280428583\\\\\n\\end{tabular}\n",
            "text/markdown": "\nA tibble: 6 × 4\n\n| country &lt;chr&gt; | year &lt;int&gt; | cases &lt;int&gt; | population &lt;int&gt; |\n|---|---|---|---|\n| Afghanistan | 1999 |    745 |   19987071 |\n| Afghanistan | 2000 |   2666 |   20595360 |\n| Brazil      | 1999 |  37737 |  172006362 |\n| Brazil      | 2000 |  80488 |  174504898 |\n| China       | 1999 | 212258 | 1272915272 |\n| China       | 2000 | 213766 | 1280428583 |\n\n",
            "text/html": [
              "<table class=\"dataframe\">\n",
              "<caption>A tibble: 6 × 4</caption>\n",
              "<thead>\n",
              "\t<tr><th scope=col>country</th><th scope=col>year</th><th scope=col>cases</th><th scope=col>population</th></tr>\n",
              "\t<tr><th scope=col>&lt;chr&gt;</th><th scope=col>&lt;int&gt;</th><th scope=col>&lt;int&gt;</th><th scope=col>&lt;int&gt;</th></tr>\n",
              "</thead>\n",
              "<tbody>\n",
              "\t<tr><td>Afghanistan</td><td>1999</td><td>   745</td><td>  19987071</td></tr>\n",
              "\t<tr><td>Afghanistan</td><td>2000</td><td>  2666</td><td>  20595360</td></tr>\n",
              "\t<tr><td>Brazil     </td><td>1999</td><td> 37737</td><td> 172006362</td></tr>\n",
              "\t<tr><td>Brazil     </td><td>2000</td><td> 80488</td><td> 174504898</td></tr>\n",
              "\t<tr><td>China      </td><td>1999</td><td>212258</td><td>1272915272</td></tr>\n",
              "\t<tr><td>China      </td><td>2000</td><td>213766</td><td>1280428583</td></tr>\n",
              "</tbody>\n",
              "</table>\n"
            ]
          },
          "metadata": {}
        }
      ]
    },
    {
      "cell_type": "markdown",
      "metadata": {
        "id": "gyxo4AYZNEAs"
      },
      "source": [
        "## Separating and Uniting "
      ]
    },
    {
      "cell_type": "markdown",
      "metadata": {
        "id": "ry9qAKWNNznX"
      },
      "source": [
        "## separate()"
      ]
    },
    {
      "cell_type": "markdown",
      "metadata": {
        "id": "I783ke7ANPUh"
      },
      "source": [
        "One column contains two variables "
      ]
    },
    {
      "cell_type": "markdown",
      "metadata": {
        "id": "OnR_x2VRBvj0"
      },
      "source": [
        "* 하나의 열에 두개의 변수가 있는 경우이다."
      ]
    },
    {
      "cell_type": "code",
      "metadata": {
        "id": "v6XtM3tBM3RB",
        "colab": {
          "base_uri": "https://localhost:8080/",
          "height": 282
        },
        "outputId": "52dea8aa-78ba-44ca-b3de-a7d428824a0e"
      },
      "source": [
        "table3 "
      ],
      "execution_count": 15,
      "outputs": [
        {
          "output_type": "display_data",
          "data": {
            "text/plain": [
              "  country     year rate             \n",
              "1 Afghanistan 1999 745/19987071     \n",
              "2 Afghanistan 2000 2666/20595360    \n",
              "3 Brazil      1999 37737/172006362  \n",
              "4 Brazil      2000 80488/174504898  \n",
              "5 China       1999 212258/1272915272\n",
              "6 China       2000 213766/1280428583"
            ],
            "text/latex": "A tibble: 6 × 3\n\\begin{tabular}{r|lll}\n  & country & year & rate\\\\\n  & <chr> & <int> & <chr>\\\\\n\\hline\n\t1 & Afghanistan & 1999 & 745/19987071     \\\\\n\t2 & Afghanistan & 2000 & 2666/20595360    \\\\\n\t3 & Brazil      & 1999 & 37737/172006362  \\\\\n\t4 & Brazil      & 2000 & 80488/174504898  \\\\\n\t5 & China       & 1999 & 212258/1272915272\\\\\n\t6 & China       & 2000 & 213766/1280428583\\\\\n\\end{tabular}\n",
            "text/markdown": "\nA tibble: 6 × 3\n\n| <!--/--> | country &lt;chr&gt; | year &lt;int&gt; | rate &lt;chr&gt; |\n|---|---|---|---|\n| 1 | Afghanistan | 1999 | 745/19987071      |\n| 2 | Afghanistan | 2000 | 2666/20595360     |\n| 3 | Brazil      | 1999 | 37737/172006362   |\n| 4 | Brazil      | 2000 | 80488/174504898   |\n| 5 | China       | 1999 | 212258/1272915272 |\n| 6 | China       | 2000 | 213766/1280428583 |\n\n",
            "text/html": [
              "<table class=\"dataframe\">\n",
              "<caption>A tibble: 6 × 3</caption>\n",
              "<thead>\n",
              "\t<tr><th></th><th scope=col>country</th><th scope=col>year</th><th scope=col>rate</th></tr>\n",
              "\t<tr><th></th><th scope=col>&lt;chr&gt;</th><th scope=col>&lt;int&gt;</th><th scope=col>&lt;chr&gt;</th></tr>\n",
              "</thead>\n",
              "<tbody>\n",
              "\t<tr><th scope=row>1</th><td>Afghanistan</td><td>1999</td><td>745/19987071     </td></tr>\n",
              "\t<tr><th scope=row>2</th><td>Afghanistan</td><td>2000</td><td>2666/20595360    </td></tr>\n",
              "\t<tr><th scope=row>3</th><td>Brazil     </td><td>1999</td><td>37737/172006362  </td></tr>\n",
              "\t<tr><th scope=row>4</th><td>Brazil     </td><td>2000</td><td>80488/174504898  </td></tr>\n",
              "\t<tr><th scope=row>5</th><td>China      </td><td>1999</td><td>212258/1272915272</td></tr>\n",
              "\t<tr><th scope=row>6</th><td>China      </td><td>2000</td><td>213766/1280428583</td></tr>\n",
              "</tbody>\n",
              "</table>\n"
            ]
          },
          "metadata": {}
        }
      ]
    },
    {
      "cell_type": "code",
      "metadata": {
        "id": "l14bCe7tNOXC",
        "colab": {
          "base_uri": "https://localhost:8080/",
          "height": 282
        },
        "outputId": "61b74157-1824-4b1d-db27-29eb207514cf"
      },
      "source": [
        "table3 %>% separate(rate, into = c(\"cases\", \"population\"))"
      ],
      "execution_count": 16,
      "outputs": [
        {
          "output_type": "display_data",
          "data": {
            "text/plain": [
              "  country     year cases  population\n",
              "1 Afghanistan 1999 745    19987071  \n",
              "2 Afghanistan 2000 2666   20595360  \n",
              "3 Brazil      1999 37737  172006362 \n",
              "4 Brazil      2000 80488  174504898 \n",
              "5 China       1999 212258 1272915272\n",
              "6 China       2000 213766 1280428583"
            ],
            "text/latex": "A tibble: 6 × 4\n\\begin{tabular}{llll}\n country & year & cases & population\\\\\n <chr> & <int> & <chr> & <chr>\\\\\n\\hline\n\t Afghanistan & 1999 & 745    & 19987071  \\\\\n\t Afghanistan & 2000 & 2666   & 20595360  \\\\\n\t Brazil      & 1999 & 37737  & 172006362 \\\\\n\t Brazil      & 2000 & 80488  & 174504898 \\\\\n\t China       & 1999 & 212258 & 1272915272\\\\\n\t China       & 2000 & 213766 & 1280428583\\\\\n\\end{tabular}\n",
            "text/markdown": "\nA tibble: 6 × 4\n\n| country &lt;chr&gt; | year &lt;int&gt; | cases &lt;chr&gt; | population &lt;chr&gt; |\n|---|---|---|---|\n| Afghanistan | 1999 | 745    | 19987071   |\n| Afghanistan | 2000 | 2666   | 20595360   |\n| Brazil      | 1999 | 37737  | 172006362  |\n| Brazil      | 2000 | 80488  | 174504898  |\n| China       | 1999 | 212258 | 1272915272 |\n| China       | 2000 | 213766 | 1280428583 |\n\n",
            "text/html": [
              "<table class=\"dataframe\">\n",
              "<caption>A tibble: 6 × 4</caption>\n",
              "<thead>\n",
              "\t<tr><th scope=col>country</th><th scope=col>year</th><th scope=col>cases</th><th scope=col>population</th></tr>\n",
              "\t<tr><th scope=col>&lt;chr&gt;</th><th scope=col>&lt;int&gt;</th><th scope=col>&lt;chr&gt;</th><th scope=col>&lt;chr&gt;</th></tr>\n",
              "</thead>\n",
              "<tbody>\n",
              "\t<tr><td>Afghanistan</td><td>1999</td><td>745   </td><td>19987071  </td></tr>\n",
              "\t<tr><td>Afghanistan</td><td>2000</td><td>2666  </td><td>20595360  </td></tr>\n",
              "\t<tr><td>Brazil     </td><td>1999</td><td>37737 </td><td>172006362 </td></tr>\n",
              "\t<tr><td>Brazil     </td><td>2000</td><td>80488 </td><td>174504898 </td></tr>\n",
              "\t<tr><td>China      </td><td>1999</td><td>212258</td><td>1272915272</td></tr>\n",
              "\t<tr><td>China      </td><td>2000</td><td>213766</td><td>1280428583</td></tr>\n",
              "</tbody>\n",
              "</table>\n"
            ]
          },
          "metadata": {}
        }
      ]
    },
    {
      "cell_type": "markdown",
      "metadata": {
        "id": "Q1tEA35zCBxv"
      },
      "source": [
        "* 위에서의 문제점은 cases와 population을 나눠주게 되면, chr이 되기 때문에 분석을 할때는 이 부분을 바꾸어 주어야 한다."
      ]
    },
    {
      "cell_type": "code",
      "metadata": {
        "id": "G0XHFNVkNrug",
        "colab": {
          "base_uri": "https://localhost:8080/",
          "height": 282
        },
        "outputId": "5d781535-d59f-48c9-8ebd-5db7eb82a1e1"
      },
      "source": [
        "table3 %>% separate(rate, into = c(\"cases\", \"population\")) %>% mutate(cases = as.numeric(cases), population = as.numeric(population))"
      ],
      "execution_count": 17,
      "outputs": [
        {
          "output_type": "display_data",
          "data": {
            "text/plain": [
              "  country     year cases  population\n",
              "1 Afghanistan 1999    745   19987071\n",
              "2 Afghanistan 2000   2666   20595360\n",
              "3 Brazil      1999  37737  172006362\n",
              "4 Brazil      2000  80488  174504898\n",
              "5 China       1999 212258 1272915272\n",
              "6 China       2000 213766 1280428583"
            ],
            "text/latex": "A tibble: 6 × 4\n\\begin{tabular}{llll}\n country & year & cases & population\\\\\n <chr> & <int> & <dbl> & <dbl>\\\\\n\\hline\n\t Afghanistan & 1999 &    745 &   19987071\\\\\n\t Afghanistan & 2000 &   2666 &   20595360\\\\\n\t Brazil      & 1999 &  37737 &  172006362\\\\\n\t Brazil      & 2000 &  80488 &  174504898\\\\\n\t China       & 1999 & 212258 & 1272915272\\\\\n\t China       & 2000 & 213766 & 1280428583\\\\\n\\end{tabular}\n",
            "text/markdown": "\nA tibble: 6 × 4\n\n| country &lt;chr&gt; | year &lt;int&gt; | cases &lt;dbl&gt; | population &lt;dbl&gt; |\n|---|---|---|---|\n| Afghanistan | 1999 |    745 |   19987071 |\n| Afghanistan | 2000 |   2666 |   20595360 |\n| Brazil      | 1999 |  37737 |  172006362 |\n| Brazil      | 2000 |  80488 |  174504898 |\n| China       | 1999 | 212258 | 1272915272 |\n| China       | 2000 | 213766 | 1280428583 |\n\n",
            "text/html": [
              "<table class=\"dataframe\">\n",
              "<caption>A tibble: 6 × 4</caption>\n",
              "<thead>\n",
              "\t<tr><th scope=col>country</th><th scope=col>year</th><th scope=col>cases</th><th scope=col>population</th></tr>\n",
              "\t<tr><th scope=col>&lt;chr&gt;</th><th scope=col>&lt;int&gt;</th><th scope=col>&lt;dbl&gt;</th><th scope=col>&lt;dbl&gt;</th></tr>\n",
              "</thead>\n",
              "<tbody>\n",
              "\t<tr><td>Afghanistan</td><td>1999</td><td>   745</td><td>  19987071</td></tr>\n",
              "\t<tr><td>Afghanistan</td><td>2000</td><td>  2666</td><td>  20595360</td></tr>\n",
              "\t<tr><td>Brazil     </td><td>1999</td><td> 37737</td><td> 172006362</td></tr>\n",
              "\t<tr><td>Brazil     </td><td>2000</td><td> 80488</td><td> 174504898</td></tr>\n",
              "\t<tr><td>China      </td><td>1999</td><td>212258</td><td>1272915272</td></tr>\n",
              "\t<tr><td>China      </td><td>2000</td><td>213766</td><td>1280428583</td></tr>\n",
              "</tbody>\n",
              "</table>\n"
            ]
          },
          "metadata": {}
        }
      ]
    },
    {
      "cell_type": "markdown",
      "metadata": {
        "id": "IYC7KilxCcCt"
      },
      "source": [
        "* 그래서 mutate와 as.numeric을 사용해서 chr를 dbl로 바꾸어 주었다."
      ]
    },
    {
      "cell_type": "code",
      "metadata": {
        "id": "WgIYyPrp1hET",
        "colab": {
          "base_uri": "https://localhost:8080/",
          "height": 282
        },
        "outputId": "a1a37572-a457-4eea-e7ba-8ac6a55a2925"
      },
      "source": [
        "table3 %>% separate(rate, into = c(\"cases\", \"population\"), sep=\"[^[:alnum:]]+\")\n",
        "#이게 regular expression이다.->[^[:alnum:]]+ 이게 all numeric이 아닌거를 말한다.\n",
        "#즉, 이 말은 알파벳과 숫자가 아닌 것을 찾는다는 말이다."
      ],
      "execution_count": 18,
      "outputs": [
        {
          "output_type": "display_data",
          "data": {
            "text/plain": [
              "  country     year cases  population\n",
              "1 Afghanistan 1999 745    19987071  \n",
              "2 Afghanistan 2000 2666   20595360  \n",
              "3 Brazil      1999 37737  172006362 \n",
              "4 Brazil      2000 80488  174504898 \n",
              "5 China       1999 212258 1272915272\n",
              "6 China       2000 213766 1280428583"
            ],
            "text/latex": "A tibble: 6 × 4\n\\begin{tabular}{llll}\n country & year & cases & population\\\\\n <chr> & <int> & <chr> & <chr>\\\\\n\\hline\n\t Afghanistan & 1999 & 745    & 19987071  \\\\\n\t Afghanistan & 2000 & 2666   & 20595360  \\\\\n\t Brazil      & 1999 & 37737  & 172006362 \\\\\n\t Brazil      & 2000 & 80488  & 174504898 \\\\\n\t China       & 1999 & 212258 & 1272915272\\\\\n\t China       & 2000 & 213766 & 1280428583\\\\\n\\end{tabular}\n",
            "text/markdown": "\nA tibble: 6 × 4\n\n| country &lt;chr&gt; | year &lt;int&gt; | cases &lt;chr&gt; | population &lt;chr&gt; |\n|---|---|---|---|\n| Afghanistan | 1999 | 745    | 19987071   |\n| Afghanistan | 2000 | 2666   | 20595360   |\n| Brazil      | 1999 | 37737  | 172006362  |\n| Brazil      | 2000 | 80488  | 174504898  |\n| China       | 1999 | 212258 | 1272915272 |\n| China       | 2000 | 213766 | 1280428583 |\n\n",
            "text/html": [
              "<table class=\"dataframe\">\n",
              "<caption>A tibble: 6 × 4</caption>\n",
              "<thead>\n",
              "\t<tr><th scope=col>country</th><th scope=col>year</th><th scope=col>cases</th><th scope=col>population</th></tr>\n",
              "\t<tr><th scope=col>&lt;chr&gt;</th><th scope=col>&lt;int&gt;</th><th scope=col>&lt;chr&gt;</th><th scope=col>&lt;chr&gt;</th></tr>\n",
              "</thead>\n",
              "<tbody>\n",
              "\t<tr><td>Afghanistan</td><td>1999</td><td>745   </td><td>19987071  </td></tr>\n",
              "\t<tr><td>Afghanistan</td><td>2000</td><td>2666  </td><td>20595360  </td></tr>\n",
              "\t<tr><td>Brazil     </td><td>1999</td><td>37737 </td><td>172006362 </td></tr>\n",
              "\t<tr><td>Brazil     </td><td>2000</td><td>80488 </td><td>174504898 </td></tr>\n",
              "\t<tr><td>China      </td><td>1999</td><td>212258</td><td>1272915272</td></tr>\n",
              "\t<tr><td>China      </td><td>2000</td><td>213766</td><td>1280428583</td></tr>\n",
              "</tbody>\n",
              "</table>\n"
            ]
          },
          "metadata": {}
        }
      ]
    },
    {
      "cell_type": "markdown",
      "metadata": {
        "id": "45Ju8-iMC0Xe"
      },
      "source": [
        "# 관심있는 학생들은 regular expression을 공부해보는 것도 좋다고 하심."
      ]
    },
    {
      "cell_type": "markdown",
      "metadata": {
        "id": "rcwEYGt7NwG_"
      },
      "source": [
        "## unite()\n",
        "\n",
        "Single variable is spread across multiple columns"
      ]
    },
    {
      "cell_type": "markdown",
      "metadata": {
        "id": "HQbbe35BEEou"
      },
      "source": [
        "* century와 year이 두개로 나누어져 있다."
      ]
    },
    {
      "cell_type": "code",
      "metadata": {
        "id": "YUwleQUMN8sm",
        "colab": {
          "base_uri": "https://localhost:8080/",
          "height": 282
        },
        "outputId": "a1b47b0a-cee5-445f-f03d-fd15826a58fc"
      },
      "source": [
        "table5"
      ],
      "execution_count": 19,
      "outputs": [
        {
          "output_type": "display_data",
          "data": {
            "text/plain": [
              "  country     century year rate             \n",
              "1 Afghanistan 19      99   745/19987071     \n",
              "2 Afghanistan 20      00   2666/20595360    \n",
              "3 Brazil      19      99   37737/172006362  \n",
              "4 Brazil      20      00   80488/174504898  \n",
              "5 China       19      99   212258/1272915272\n",
              "6 China       20      00   213766/1280428583"
            ],
            "text/latex": "A tibble: 6 × 4\n\\begin{tabular}{r|llll}\n  & country & century & year & rate\\\\\n  & <chr> & <chr> & <chr> & <chr>\\\\\n\\hline\n\t1 & Afghanistan & 19 & 99 & 745/19987071     \\\\\n\t2 & Afghanistan & 20 & 00 & 2666/20595360    \\\\\n\t3 & Brazil      & 19 & 99 & 37737/172006362  \\\\\n\t4 & Brazil      & 20 & 00 & 80488/174504898  \\\\\n\t5 & China       & 19 & 99 & 212258/1272915272\\\\\n\t6 & China       & 20 & 00 & 213766/1280428583\\\\\n\\end{tabular}\n",
            "text/markdown": "\nA tibble: 6 × 4\n\n| <!--/--> | country &lt;chr&gt; | century &lt;chr&gt; | year &lt;chr&gt; | rate &lt;chr&gt; |\n|---|---|---|---|---|\n| 1 | Afghanistan | 19 | 99 | 745/19987071      |\n| 2 | Afghanistan | 20 | 00 | 2666/20595360     |\n| 3 | Brazil      | 19 | 99 | 37737/172006362   |\n| 4 | Brazil      | 20 | 00 | 80488/174504898   |\n| 5 | China       | 19 | 99 | 212258/1272915272 |\n| 6 | China       | 20 | 00 | 213766/1280428583 |\n\n",
            "text/html": [
              "<table class=\"dataframe\">\n",
              "<caption>A tibble: 6 × 4</caption>\n",
              "<thead>\n",
              "\t<tr><th></th><th scope=col>country</th><th scope=col>century</th><th scope=col>year</th><th scope=col>rate</th></tr>\n",
              "\t<tr><th></th><th scope=col>&lt;chr&gt;</th><th scope=col>&lt;chr&gt;</th><th scope=col>&lt;chr&gt;</th><th scope=col>&lt;chr&gt;</th></tr>\n",
              "</thead>\n",
              "<tbody>\n",
              "\t<tr><th scope=row>1</th><td>Afghanistan</td><td>19</td><td>99</td><td>745/19987071     </td></tr>\n",
              "\t<tr><th scope=row>2</th><td>Afghanistan</td><td>20</td><td>00</td><td>2666/20595360    </td></tr>\n",
              "\t<tr><th scope=row>3</th><td>Brazil     </td><td>19</td><td>99</td><td>37737/172006362  </td></tr>\n",
              "\t<tr><th scope=row>4</th><td>Brazil     </td><td>20</td><td>00</td><td>80488/174504898  </td></tr>\n",
              "\t<tr><th scope=row>5</th><td>China      </td><td>19</td><td>99</td><td>212258/1272915272</td></tr>\n",
              "\t<tr><th scope=row>6</th><td>China      </td><td>20</td><td>00</td><td>213766/1280428583</td></tr>\n",
              "</tbody>\n",
              "</table>\n"
            ]
          },
          "metadata": {}
        }
      ]
    },
    {
      "cell_type": "code",
      "metadata": {
        "id": "wn5qgG30N8gs",
        "colab": {
          "base_uri": "https://localhost:8080/",
          "height": 282
        },
        "outputId": "2e645036-6f15-4b58-e31e-f5cae6355efa"
      },
      "source": [
        "table5 %>% \n",
        "  unite(new, century, year, sep = \"\")\n",
        "# new라는 변수를 하나 만들어서 century와 year를 합쳐준다.\n",
        "#그리고 합칠 때, 그 사이의 간격이 없이 합쳐라 하는게 sep = \"\"이다."
      ],
      "execution_count": 20,
      "outputs": [
        {
          "output_type": "display_data",
          "data": {
            "text/plain": [
              "  country     new  rate             \n",
              "1 Afghanistan 1999 745/19987071     \n",
              "2 Afghanistan 2000 2666/20595360    \n",
              "3 Brazil      1999 37737/172006362  \n",
              "4 Brazil      2000 80488/174504898  \n",
              "5 China       1999 212258/1272915272\n",
              "6 China       2000 213766/1280428583"
            ],
            "text/latex": "A tibble: 6 × 3\n\\begin{tabular}{lll}\n country & new & rate\\\\\n <chr> & <chr> & <chr>\\\\\n\\hline\n\t Afghanistan & 1999 & 745/19987071     \\\\\n\t Afghanistan & 2000 & 2666/20595360    \\\\\n\t Brazil      & 1999 & 37737/172006362  \\\\\n\t Brazil      & 2000 & 80488/174504898  \\\\\n\t China       & 1999 & 212258/1272915272\\\\\n\t China       & 2000 & 213766/1280428583\\\\\n\\end{tabular}\n",
            "text/markdown": "\nA tibble: 6 × 3\n\n| country &lt;chr&gt; | new &lt;chr&gt; | rate &lt;chr&gt; |\n|---|---|---|\n| Afghanistan | 1999 | 745/19987071      |\n| Afghanistan | 2000 | 2666/20595360     |\n| Brazil      | 1999 | 37737/172006362   |\n| Brazil      | 2000 | 80488/174504898   |\n| China       | 1999 | 212258/1272915272 |\n| China       | 2000 | 213766/1280428583 |\n\n",
            "text/html": [
              "<table class=\"dataframe\">\n",
              "<caption>A tibble: 6 × 3</caption>\n",
              "<thead>\n",
              "\t<tr><th scope=col>country</th><th scope=col>new</th><th scope=col>rate</th></tr>\n",
              "\t<tr><th scope=col>&lt;chr&gt;</th><th scope=col>&lt;chr&gt;</th><th scope=col>&lt;chr&gt;</th></tr>\n",
              "</thead>\n",
              "<tbody>\n",
              "\t<tr><td>Afghanistan</td><td>1999</td><td>745/19987071     </td></tr>\n",
              "\t<tr><td>Afghanistan</td><td>2000</td><td>2666/20595360    </td></tr>\n",
              "\t<tr><td>Brazil     </td><td>1999</td><td>37737/172006362  </td></tr>\n",
              "\t<tr><td>Brazil     </td><td>2000</td><td>80488/174504898  </td></tr>\n",
              "\t<tr><td>China      </td><td>1999</td><td>212258/1272915272</td></tr>\n",
              "\t<tr><td>China      </td><td>2000</td><td>213766/1280428583</td></tr>\n",
              "</tbody>\n",
              "</table>\n"
            ]
          },
          "metadata": {}
        }
      ]
    },
    {
      "cell_type": "markdown",
      "metadata": {
        "id": "-nwDA6IOOHp9"
      },
      "source": [
        "# Functional Programming"
      ]
    },
    {
      "cell_type": "markdown",
      "metadata": {
        "id": "gW_SghJ4Mk7d"
      },
      "source": [
        "* 먼저 dataframe으로 a,b,c,d를 만들어 준다."
      ]
    },
    {
      "cell_type": "code",
      "metadata": {
        "id": "Iav7G1uXODrT"
      },
      "source": [
        "df <- tibble(\n",
        "  a = rnorm(10),\n",
        "  b = rnorm(10),\n",
        "  c = rnorm(10),\n",
        "  d = rnorm(10)\n",
        ")"
      ],
      "execution_count": 21,
      "outputs": []
    },
    {
      "cell_type": "code",
      "metadata": {
        "id": "_s-sppIH5_yd",
        "colab": {
          "base_uri": "https://localhost:8080/",
          "height": 405
        },
        "outputId": "74dc17d6-61b9-4110-86b0-106836c3f306"
      },
      "source": [
        "df"
      ],
      "execution_count": 22,
      "outputs": [
        {
          "output_type": "display_data",
          "data": {
            "text/plain": [
              "   a           b          c          d          \n",
              "1  -0.66965206  2.2539076 -0.4590117  2.22017909\n",
              "2   0.85799028  0.8660978  0.5213642  0.82856794\n",
              "3  -0.73851727 -0.5414870 -1.3615227  2.00355265\n",
              "4  -0.76377123 -1.8550256  0.8904737 -0.39878288\n",
              "5  -0.02655807 -0.4366914  0.7921534 -0.09769141\n",
              "6   0.50761604  0.1957154  1.9454137 -0.48990103\n",
              "7  -0.88094193  0.1536855 -0.5268303  0.50902105\n",
              "8   0.67308545 -0.6280134 -0.6431293  0.12259397\n",
              "9  -1.73959272  1.8048720 -0.7709960  0.56501637\n",
              "10 -0.82781115  0.7395650 -1.5989323 -0.67560166"
            ],
            "text/latex": "A tibble: 10 × 4\n\\begin{tabular}{llll}\n a & b & c & d\\\\\n <dbl> & <dbl> & <dbl> & <dbl>\\\\\n\\hline\n\t -0.66965206 &  2.2539076 & -0.4590117 &  2.22017909\\\\\n\t  0.85799028 &  0.8660978 &  0.5213642 &  0.82856794\\\\\n\t -0.73851727 & -0.5414870 & -1.3615227 &  2.00355265\\\\\n\t -0.76377123 & -1.8550256 &  0.8904737 & -0.39878288\\\\\n\t -0.02655807 & -0.4366914 &  0.7921534 & -0.09769141\\\\\n\t  0.50761604 &  0.1957154 &  1.9454137 & -0.48990103\\\\\n\t -0.88094193 &  0.1536855 & -0.5268303 &  0.50902105\\\\\n\t  0.67308545 & -0.6280134 & -0.6431293 &  0.12259397\\\\\n\t -1.73959272 &  1.8048720 & -0.7709960 &  0.56501637\\\\\n\t -0.82781115 &  0.7395650 & -1.5989323 & -0.67560166\\\\\n\\end{tabular}\n",
            "text/markdown": "\nA tibble: 10 × 4\n\n| a &lt;dbl&gt; | b &lt;dbl&gt; | c &lt;dbl&gt; | d &lt;dbl&gt; |\n|---|---|---|---|\n| -0.66965206 |  2.2539076 | -0.4590117 |  2.22017909 |\n|  0.85799028 |  0.8660978 |  0.5213642 |  0.82856794 |\n| -0.73851727 | -0.5414870 | -1.3615227 |  2.00355265 |\n| -0.76377123 | -1.8550256 |  0.8904737 | -0.39878288 |\n| -0.02655807 | -0.4366914 |  0.7921534 | -0.09769141 |\n|  0.50761604 |  0.1957154 |  1.9454137 | -0.48990103 |\n| -0.88094193 |  0.1536855 | -0.5268303 |  0.50902105 |\n|  0.67308545 | -0.6280134 | -0.6431293 |  0.12259397 |\n| -1.73959272 |  1.8048720 | -0.7709960 |  0.56501637 |\n| -0.82781115 |  0.7395650 | -1.5989323 | -0.67560166 |\n\n",
            "text/html": [
              "<table class=\"dataframe\">\n",
              "<caption>A tibble: 10 × 4</caption>\n",
              "<thead>\n",
              "\t<tr><th scope=col>a</th><th scope=col>b</th><th scope=col>c</th><th scope=col>d</th></tr>\n",
              "\t<tr><th scope=col>&lt;dbl&gt;</th><th scope=col>&lt;dbl&gt;</th><th scope=col>&lt;dbl&gt;</th><th scope=col>&lt;dbl&gt;</th></tr>\n",
              "</thead>\n",
              "<tbody>\n",
              "\t<tr><td>-0.66965206</td><td> 2.2539076</td><td>-0.4590117</td><td> 2.22017909</td></tr>\n",
              "\t<tr><td> 0.85799028</td><td> 0.8660978</td><td> 0.5213642</td><td> 0.82856794</td></tr>\n",
              "\t<tr><td>-0.73851727</td><td>-0.5414870</td><td>-1.3615227</td><td> 2.00355265</td></tr>\n",
              "\t<tr><td>-0.76377123</td><td>-1.8550256</td><td> 0.8904737</td><td>-0.39878288</td></tr>\n",
              "\t<tr><td>-0.02655807</td><td>-0.4366914</td><td> 0.7921534</td><td>-0.09769141</td></tr>\n",
              "\t<tr><td> 0.50761604</td><td> 0.1957154</td><td> 1.9454137</td><td>-0.48990103</td></tr>\n",
              "\t<tr><td>-0.88094193</td><td> 0.1536855</td><td>-0.5268303</td><td> 0.50902105</td></tr>\n",
              "\t<tr><td> 0.67308545</td><td>-0.6280134</td><td>-0.6431293</td><td> 0.12259397</td></tr>\n",
              "\t<tr><td>-1.73959272</td><td> 1.8048720</td><td>-0.7709960</td><td> 0.56501637</td></tr>\n",
              "\t<tr><td>-0.82781115</td><td> 0.7395650</td><td>-1.5989323</td><td>-0.67560166</td></tr>\n",
              "</tbody>\n",
              "</table>\n"
            ]
          },
          "metadata": {}
        }
      ]
    },
    {
      "cell_type": "markdown",
      "metadata": {
        "id": "dFUP4YukMtnp"
      },
      "source": [
        "* a,b,c,d로 정규분포에서 생성된 난수들로 생성된것을 볼 수 있다."
      ]
    },
    {
      "cell_type": "code",
      "metadata": {
        "id": "7VSOl_mgODcd",
        "colab": {
          "base_uri": "https://localhost:8080/",
          "height": 84
        },
        "outputId": "369505b6-4669-4bca-8caf-55f66a2845a6"
      },
      "source": [
        "median(df$a)\n",
        "#> [1] -0.2457625\n",
        "median(df$b)\n",
        "#> [1] -0.2873072\n",
        "median(df$c)\n",
        "#> [1] -0.05669771\n",
        "median(df$d)\n",
        "#> [1] 0.1442633"
      ],
      "execution_count": 23,
      "outputs": [
        {
          "output_type": "display_data",
          "data": {
            "text/plain": [
              "[1] -0.7040847"
            ],
            "text/latex": "-0.704084664441743",
            "text/markdown": "-0.704084664441743",
            "text/html": [
              "-0.704084664441743"
            ]
          },
          "metadata": {}
        },
        {
          "output_type": "display_data",
          "data": {
            "text/plain": [
              "[1] 0.1747004"
            ],
            "text/latex": "0.174700419935571",
            "text/markdown": "0.174700419935571",
            "text/html": [
              "0.174700419935571"
            ]
          },
          "metadata": {}
        },
        {
          "output_type": "display_data",
          "data": {
            "text/plain": [
              "[1] -0.492921"
            ],
            "text/latex": "-0.492921009830651",
            "text/markdown": "-0.492921009830651",
            "text/html": [
              "-0.492921009830651"
            ]
          },
          "metadata": {}
        },
        {
          "output_type": "display_data",
          "data": {
            "text/plain": [
              "[1] 0.3158075"
            ],
            "text/latex": "0.315807508435058",
            "text/markdown": "0.315807508435058",
            "text/html": [
              "0.315807508435058"
            ]
          },
          "metadata": {}
        }
      ]
    },
    {
      "cell_type": "markdown",
      "metadata": {
        "id": "h6sbfW2BOYtb"
      },
      "source": [
        "Don't copy and paste multiple times  \n",
        "You can iterate using for loops\n"
      ]
    },
    {
      "cell_type": "markdown",
      "metadata": {
        "id": "fSlJMJaxM66h"
      },
      "source": [
        "* 그래서 For loops으로 코딩을 하는게 좀 더 효율적이다."
      ]
    },
    {
      "cell_type": "code",
      "metadata": {
        "id": "8GlTKYa0ODPD",
        "colab": {
          "base_uri": "https://localhost:8080/",
          "height": 34
        },
        "outputId": "7ea54b02-1a99-48ce-a0f4-1ad983eae71d"
      },
      "source": [
        "output <- vector(\"double\", ncol(df))  # 1. output  처음에는 공간을 먼저 만들어 준다.\n",
        "for (i in seq_along(df)) {            # 2. sequence\n",
        "  output[[i]] <- median(df[[i]])      # 3. body\n",
        "}\n",
        "output\n"
      ],
      "execution_count": 28,
      "outputs": [
        {
          "output_type": "display_data",
          "data": {
            "text/plain": [
              "[1] -0.7040847  0.1747004 -0.4929210  0.3158075"
            ],
            "text/latex": "\\begin{enumerate*}\n\\item -0.704084664441743\n\\item 0.174700419935571\n\\item -0.492921009830651\n\\item 0.315807508435058\n\\end{enumerate*}\n",
            "text/markdown": "1. -0.704084664441743\n2. 0.174700419935571\n3. -0.492921009830651\n4. 0.315807508435058\n\n\n",
            "text/html": [
              "<style>\n",
              ".list-inline {list-style: none; margin:0; padding: 0}\n",
              ".list-inline>li {display: inline-block}\n",
              ".list-inline>li:not(:last-child)::after {content: \"\\00b7\"; padding: 0 .5ex}\n",
              "</style>\n",
              "<ol class=list-inline><li>-0.704084664441743</li><li>0.174700419935571</li><li>-0.492921009830651</li><li>0.315807508435058</li></ol>\n"
            ]
          },
          "metadata": {}
        }
      ]
    },
    {
      "cell_type": "code",
      "metadata": {
        "id": "BETCL9Cn6PXw",
        "colab": {
          "base_uri": "https://localhost:8080/",
          "height": 34
        },
        "outputId": "8de149e6-fa8a-40b5-d14c-0c6a23020a64"
      },
      "source": [
        "output <- c()  #이렇게 공간을 잡아 놓지 않고 For loops를 돌려주게 되면 비효율적이라고 말씀하심.\n",
        "output\n"
      ],
      "execution_count": 29,
      "outputs": [
        {
          "output_type": "display_data",
          "data": {
            "text/plain": [
              "NULL"
            ]
          },
          "metadata": {}
        }
      ]
    },
    {
      "cell_type": "code",
      "metadata": {
        "id": "AGLJM4dTOnxI",
        "colab": {
          "base_uri": "https://localhost:8080/",
          "height": 34
        },
        "outputId": "24c071e2-032d-4398-928a-13f540781489"
      },
      "source": [
        "output <- c()   #여기 이부분에서는 공간을 잡아 두지 않고 들어오는 것마다 더해주는 형식으로 만들어 둔 것이다.\n",
        "for (i in seq_along(df)) {            # 2. sequence\n",
        "  output <- c( output, median(df[[i]]) )      # 3. body\n",
        "}\n",
        "output\n"
      ],
      "execution_count": 33,
      "outputs": [
        {
          "output_type": "display_data",
          "data": {
            "text/plain": [
              "[1] -0.7040847  0.1747004 -0.4929210  0.3158075"
            ],
            "text/latex": "\\begin{enumerate*}\n\\item -0.704084664441743\n\\item 0.174700419935571\n\\item -0.492921009830651\n\\item 0.315807508435058\n\\end{enumerate*}\n",
            "text/markdown": "1. -0.704084664441743\n2. 0.174700419935571\n3. -0.492921009830651\n4. 0.315807508435058\n\n\n",
            "text/html": [
              "<style>\n",
              ".list-inline {list-style: none; margin:0; padding: 0}\n",
              ".list-inline>li {display: inline-block}\n",
              ".list-inline>li:not(:last-child)::after {content: \"\\00b7\"; padding: 0 .5ex}\n",
              "</style>\n",
              "<ol class=list-inline><li>-0.704084664441743</li><li>0.174700419935571</li><li>-0.492921009830651</li><li>0.315807508435058</li></ol>\n"
            ]
          },
          "metadata": {}
        }
      ]
    },
    {
      "cell_type": "code",
      "metadata": {
        "id": "Pg0qclI4Onkm",
        "colab": {
          "base_uri": "https://localhost:8080/"
        },
        "outputId": "dcbbbba7-e8e7-43b8-898a-1e763895b9f3"
      },
      "source": [
        "install.packages(\"rbenchmark\")  #속도가 빠른지 아닌지 benchmark를 돌려보기 위해서 rbenchmark를 사용한 것이다.\n",
        "library(rbenchmark)"
      ],
      "execution_count": 34,
      "outputs": [
        {
          "output_type": "stream",
          "name": "stderr",
          "text": [
            "Installing package into ‘/usr/local/lib/R/site-library’\n",
            "(as ‘lib’ is unspecified)\n",
            "\n"
          ]
        }
      ]
    },
    {
      "cell_type": "code",
      "metadata": {
        "id": "V7yYUKwmOnYF"
      },
      "source": [
        "\n",
        "simple1 <- function(n) {\n",
        "  output <- vector(\"double\", n)  #공간을 잡아놓은 경우.\n",
        "  for(i in 1:n) \n",
        "    output[i] = i\n",
        "  return(output)\n",
        "} \n",
        "\n",
        "simple2 <- function(n) {\n",
        "  output <- c()  #공간을 잡아 놓지 않은 경우.\n",
        "  for(i in 1:n) \n",
        "    output = c(output, i)\n",
        "  return(output)\n",
        "} \n"
      ],
      "execution_count": 35,
      "outputs": []
    },
    {
      "cell_type": "code",
      "metadata": {
        "id": "XlX9cKoiOnLT",
        "colab": {
          "base_uri": "https://localhost:8080/",
          "height": 34
        },
        "outputId": "75f1ce58-ee2c-47d7-b59b-7d9471773fc5"
      },
      "source": [
        "simple1(10)"
      ],
      "execution_count": 36,
      "outputs": [
        {
          "output_type": "display_data",
          "data": {
            "text/plain": [
              " [1]  1  2  3  4  5  6  7  8  9 10"
            ],
            "text/latex": "\\begin{enumerate*}\n\\item 1\n\\item 2\n\\item 3\n\\item 4\n\\item 5\n\\item 6\n\\item 7\n\\item 8\n\\item 9\n\\item 10\n\\end{enumerate*}\n",
            "text/markdown": "1. 1\n2. 2\n3. 3\n4. 4\n5. 5\n6. 6\n7. 7\n8. 8\n9. 9\n10. 10\n\n\n",
            "text/html": [
              "<style>\n",
              ".list-inline {list-style: none; margin:0; padding: 0}\n",
              ".list-inline>li {display: inline-block}\n",
              ".list-inline>li:not(:last-child)::after {content: \"\\00b7\"; padding: 0 .5ex}\n",
              "</style>\n",
              "<ol class=list-inline><li>1</li><li>2</li><li>3</li><li>4</li><li>5</li><li>6</li><li>7</li><li>8</li><li>9</li><li>10</li></ol>\n"
            ]
          },
          "metadata": {}
        }
      ]
    },
    {
      "cell_type": "code",
      "metadata": {
        "id": "zqTIyo1ZPuMH",
        "colab": {
          "base_uri": "https://localhost:8080/",
          "height": 34
        },
        "outputId": "3594981e-d96d-4339-b069-b5c88bd9b1a5"
      },
      "source": [
        "simple2(10)"
      ],
      "execution_count": 37,
      "outputs": [
        {
          "output_type": "display_data",
          "data": {
            "text/plain": [
              " [1]  1  2  3  4  5  6  7  8  9 10"
            ],
            "text/latex": "\\begin{enumerate*}\n\\item 1\n\\item 2\n\\item 3\n\\item 4\n\\item 5\n\\item 6\n\\item 7\n\\item 8\n\\item 9\n\\item 10\n\\end{enumerate*}\n",
            "text/markdown": "1. 1\n2. 2\n3. 3\n4. 4\n5. 5\n6. 6\n7. 7\n8. 8\n9. 9\n10. 10\n\n\n",
            "text/html": [
              "<style>\n",
              ".list-inline {list-style: none; margin:0; padding: 0}\n",
              ".list-inline>li {display: inline-block}\n",
              ".list-inline>li:not(:last-child)::after {content: \"\\00b7\"; padding: 0 .5ex}\n",
              "</style>\n",
              "<ol class=list-inline><li>1</li><li>2</li><li>3</li><li>4</li><li>5</li><li>6</li><li>7</li><li>8</li><li>9</li><li>10</li></ol>\n"
            ]
          },
          "metadata": {}
        }
      ]
    },
    {
      "cell_type": "markdown",
      "metadata": {
        "id": "eUtEFEBsN7Fe"
      },
      "source": [
        "* 숫자가 적을 때는 공간을 잡아놓은 것과 안 잡아 놓은게 차이가 없지만 숫자가 커지게 되면 benchmark로 보았을 때, 차이가 나는 것을 볼 수 있다."
      ]
    },
    {
      "cell_type": "code",
      "metadata": {
        "id": "MVBXWP7vPuHh",
        "colab": {
          "base_uri": "https://localhost:8080/",
          "height": 158
        },
        "outputId": "1e7a7f9e-aec9-491b-ef7c-0a69efb505ec"
      },
      "source": [
        "benchmark(\"fc1\"=simple1(1000),\n",
        "          \"fc2\"=simple2(1000),\n",
        "          replications=100,   #100번씩 replications을 해주게 된다.\n",
        "          columns=c('test', 'elapsed', 'replications'))"
      ],
      "execution_count": 38,
      "outputs": [
        {
          "output_type": "display_data",
          "data": {
            "text/plain": [
              "  test elapsed replications\n",
              "1 fc1  0.006   100         \n",
              "2 fc2  0.222   100         "
            ],
            "text/latex": "A data.frame: 2 × 3\n\\begin{tabular}{r|lll}\n  & test & elapsed & replications\\\\\n  & <chr> & <dbl> & <int>\\\\\n\\hline\n\t1 & fc1 & 0.006 & 100\\\\\n\t2 & fc2 & 0.222 & 100\\\\\n\\end{tabular}\n",
            "text/markdown": "\nA data.frame: 2 × 3\n\n| <!--/--> | test &lt;chr&gt; | elapsed &lt;dbl&gt; | replications &lt;int&gt; |\n|---|---|---|---|\n| 1 | fc1 | 0.006 | 100 |\n| 2 | fc2 | 0.222 | 100 |\n\n",
            "text/html": [
              "<table class=\"dataframe\">\n",
              "<caption>A data.frame: 2 × 3</caption>\n",
              "<thead>\n",
              "\t<tr><th></th><th scope=col>test</th><th scope=col>elapsed</th><th scope=col>replications</th></tr>\n",
              "\t<tr><th></th><th scope=col>&lt;chr&gt;</th><th scope=col>&lt;dbl&gt;</th><th scope=col>&lt;int&gt;</th></tr>\n",
              "</thead>\n",
              "<tbody>\n",
              "\t<tr><th scope=row>1</th><td>fc1</td><td>0.006</td><td>100</td></tr>\n",
              "\t<tr><th scope=row>2</th><td>fc2</td><td>0.222</td><td>100</td></tr>\n",
              "</tbody>\n",
              "</table>\n"
            ]
          },
          "metadata": {}
        }
      ]
    },
    {
      "cell_type": "markdown",
      "metadata": {
        "id": "9Ou8b7qJONru"
      },
      "source": [
        "* fc1은 시간이 소모되는게 0.006이라면, fc2는 시간이 소모되는게 0.201이라는 것을 알 수 있다.\n",
        "\n",
        "* 그래서 공간을 미리 할당 해 놓는게 동적으로 잡는 것 보다는 보다 더 빠르다는 것을 알 수 있다."
      ]
    },
    {
      "cell_type": "code",
      "metadata": {
        "id": "qtnRjjEl632U",
        "colab": {
          "base_uri": "https://localhost:8080/",
          "height": 34
        },
        "outputId": "5a7f4716-9e4f-4b96-f60e-dd3640484344"
      },
      "source": [
        "226/6\n"
      ],
      "execution_count": 39,
      "outputs": [
        {
          "output_type": "display_data",
          "data": {
            "text/plain": [
              "[1] 37.66667"
            ],
            "text/latex": "37.6666666666667",
            "text/markdown": "37.6666666666667",
            "text/html": [
              "37.6666666666667"
            ]
          },
          "metadata": {}
        }
      ]
    },
    {
      "cell_type": "markdown",
      "metadata": {
        "id": "WrlRNlaqRY9_"
      },
      "source": [
        "## for_loops vs functional\n",
        "\n",
        "Possible to wrap up for loops in a function\n"
      ]
    },
    {
      "cell_type": "markdown",
      "metadata": {
        "id": "tYWWNH-sO18s"
      },
      "source": [
        "* 함수 안에서 For loops을 담는 방법이다."
      ]
    },
    {
      "cell_type": "code",
      "metadata": {
        "id": "X5Tgr73_ROJ9",
        "colab": {
          "base_uri": "https://localhost:8080/",
          "height": 34
        },
        "outputId": "fc5adf44-3aae-4eb2-ef22-cfed80fbdc41"
      },
      "source": [
        "col_mean <- function(df) {\n",
        "  output <- vector(\"double\", ncol(df)) \n",
        "  for (i in seq_along(df)) {\n",
        "    output[[i]] <- mean(df[[i]])\n",
        "  }\n",
        "  output\n",
        "}\n",
        "\n",
        "col_median <- function(df) {\n",
        "  output <- vector(\"double\", ncol(df)) \n",
        "  for (i in seq_along(df)) {\n",
        "    output[[i]] <- median(df[[i]])\n",
        "  }\n",
        "  output\n",
        "}\n",
        "\n",
        "col_sd <- function(df) {\n",
        "  output <- vector(\"double\", ncol(df)) \n",
        "  for (i in seq_along(df)) {\n",
        "    output[[i]] <- sd(df[[i]])\n",
        "  }\n",
        "  output\n",
        "}\n",
        "\n",
        "col_mean(df)"
      ],
      "execution_count": 40,
      "outputs": [
        {
          "output_type": "display_data",
          "data": {
            "text/plain": [
              "[1] -0.3608153  0.2552626 -0.1211017  0.4586954"
            ],
            "text/latex": "\\begin{enumerate*}\n\\item -0.360815265834441\n\\item 0.255262582862792\n\\item -0.121101743868287\n\\item 0.458695408208068\n\\end{enumerate*}\n",
            "text/markdown": "1. -0.360815265834441\n2. 0.255262582862792\n3. -0.121101743868287\n4. 0.458695408208068\n\n\n",
            "text/html": [
              "<style>\n",
              ".list-inline {list-style: none; margin:0; padding: 0}\n",
              ".list-inline>li {display: inline-block}\n",
              ".list-inline>li:not(:last-child)::after {content: \"\\00b7\"; padding: 0 .5ex}\n",
              "</style>\n",
              "<ol class=list-inline><li>-0.360815265834441</li><li>0.255262582862792</li><li>-0.121101743868287</li><li>0.458695408208068</li></ol>\n"
            ]
          },
          "metadata": {}
        }
      ]
    },
    {
      "cell_type": "markdown",
      "metadata": {
        "id": "l74rc-m5Rx1G"
      },
      "source": [
        "You can make function as a variable"
      ]
    },
    {
      "cell_type": "markdown",
      "metadata": {
        "id": "JA7zpAmdPA_2"
      },
      "source": [
        "* function을 variable로 잡아서 하는 방법이 있다."
      ]
    },
    {
      "cell_type": "code",
      "metadata": {
        "id": "2Q7gR6NZRN8g",
        "colab": {
          "base_uri": "https://localhost:8080/",
          "height": 34
        },
        "outputId": "21ffef48-9cd0-4367-88bc-4d9cacd44d71"
      },
      "source": [
        "col_summary <- function(df, fun) {\n",
        "  out <- vector(\"double\", length(df))\n",
        "  for (i in seq_along(df)) {\n",
        "    out[i] <- fun(df[[i]])\n",
        "  }\n",
        "  out\n",
        "}\n",
        "col_summary(df, median)\n"
      ],
      "execution_count": 42,
      "outputs": [
        {
          "output_type": "display_data",
          "data": {
            "text/plain": [
              "[1] -0.7040847  0.1747004 -0.4929210  0.3158075"
            ],
            "text/latex": "\\begin{enumerate*}\n\\item -0.704084664441743\n\\item 0.174700419935571\n\\item -0.492921009830651\n\\item 0.315807508435058\n\\end{enumerate*}\n",
            "text/markdown": "1. -0.704084664441743\n2. 0.174700419935571\n3. -0.492921009830651\n4. 0.315807508435058\n\n\n",
            "text/html": [
              "<style>\n",
              ".list-inline {list-style: none; margin:0; padding: 0}\n",
              ".list-inline>li {display: inline-block}\n",
              ".list-inline>li:not(:last-child)::after {content: \"\\00b7\"; padding: 0 .5ex}\n",
              "</style>\n",
              "<ol class=list-inline><li>-0.704084664441743</li><li>0.174700419935571</li><li>-0.492921009830651</li><li>0.315807508435058</li></ol>\n"
            ]
          },
          "metadata": {}
        }
      ]
    },
    {
      "cell_type": "markdown",
      "metadata": {
        "id": "LrExb-kvR4LJ"
      },
      "source": [
        "## The map function (purrr)\n",
        "\n",
        "the purrr package provides a family of functions for looping patterns over a vector\n",
        "\n",
        "remind apply()"
      ]
    },
    {
      "cell_type": "code",
      "metadata": {
        "id": "Xn_9vUMJSRLU",
        "colab": {
          "base_uri": "https://localhost:8080/"
        },
        "outputId": "46cbc7a5-b149-4a59-8e9d-2e9fe7469657"
      },
      "source": [
        "str(df)"
      ],
      "execution_count": 43,
      "outputs": [
        {
          "output_type": "stream",
          "name": "stdout",
          "text": [
            "tibble [10 × 4] (S3: tbl_df/tbl/data.frame)\n",
            " $ a: num [1:10] -0.6697 0.858 -0.7385 -0.7638 -0.0266 ...\n",
            " $ b: num [1:10] 2.254 0.866 -0.541 -1.855 -0.437 ...\n",
            " $ c: num [1:10] -0.459 0.521 -1.362 0.89 0.792 ...\n",
            " $ d: num [1:10] 2.2202 0.8286 2.0036 -0.3988 -0.0977 ...\n"
          ]
        }
      ]
    },
    {
      "cell_type": "code",
      "metadata": {
        "id": "MK_EC5iFAjBy",
        "colab": {
          "base_uri": "https://localhost:8080/",
          "height": 405
        },
        "outputId": "e8b4a1af-de66-466a-e401-c69b8f4edbfe"
      },
      "source": [
        "df"
      ],
      "execution_count": 44,
      "outputs": [
        {
          "output_type": "display_data",
          "data": {
            "text/plain": [
              "   a           b          c          d          \n",
              "1  -0.66965206  2.2539076 -0.4590117  2.22017909\n",
              "2   0.85799028  0.8660978  0.5213642  0.82856794\n",
              "3  -0.73851727 -0.5414870 -1.3615227  2.00355265\n",
              "4  -0.76377123 -1.8550256  0.8904737 -0.39878288\n",
              "5  -0.02655807 -0.4366914  0.7921534 -0.09769141\n",
              "6   0.50761604  0.1957154  1.9454137 -0.48990103\n",
              "7  -0.88094193  0.1536855 -0.5268303  0.50902105\n",
              "8   0.67308545 -0.6280134 -0.6431293  0.12259397\n",
              "9  -1.73959272  1.8048720 -0.7709960  0.56501637\n",
              "10 -0.82781115  0.7395650 -1.5989323 -0.67560166"
            ],
            "text/latex": "A tibble: 10 × 4\n\\begin{tabular}{llll}\n a & b & c & d\\\\\n <dbl> & <dbl> & <dbl> & <dbl>\\\\\n\\hline\n\t -0.66965206 &  2.2539076 & -0.4590117 &  2.22017909\\\\\n\t  0.85799028 &  0.8660978 &  0.5213642 &  0.82856794\\\\\n\t -0.73851727 & -0.5414870 & -1.3615227 &  2.00355265\\\\\n\t -0.76377123 & -1.8550256 &  0.8904737 & -0.39878288\\\\\n\t -0.02655807 & -0.4366914 &  0.7921534 & -0.09769141\\\\\n\t  0.50761604 &  0.1957154 &  1.9454137 & -0.48990103\\\\\n\t -0.88094193 &  0.1536855 & -0.5268303 &  0.50902105\\\\\n\t  0.67308545 & -0.6280134 & -0.6431293 &  0.12259397\\\\\n\t -1.73959272 &  1.8048720 & -0.7709960 &  0.56501637\\\\\n\t -0.82781115 &  0.7395650 & -1.5989323 & -0.67560166\\\\\n\\end{tabular}\n",
            "text/markdown": "\nA tibble: 10 × 4\n\n| a &lt;dbl&gt; | b &lt;dbl&gt; | c &lt;dbl&gt; | d &lt;dbl&gt; |\n|---|---|---|---|\n| -0.66965206 |  2.2539076 | -0.4590117 |  2.22017909 |\n|  0.85799028 |  0.8660978 |  0.5213642 |  0.82856794 |\n| -0.73851727 | -0.5414870 | -1.3615227 |  2.00355265 |\n| -0.76377123 | -1.8550256 |  0.8904737 | -0.39878288 |\n| -0.02655807 | -0.4366914 |  0.7921534 | -0.09769141 |\n|  0.50761604 |  0.1957154 |  1.9454137 | -0.48990103 |\n| -0.88094193 |  0.1536855 | -0.5268303 |  0.50902105 |\n|  0.67308545 | -0.6280134 | -0.6431293 |  0.12259397 |\n| -1.73959272 |  1.8048720 | -0.7709960 |  0.56501637 |\n| -0.82781115 |  0.7395650 | -1.5989323 | -0.67560166 |\n\n",
            "text/html": [
              "<table class=\"dataframe\">\n",
              "<caption>A tibble: 10 × 4</caption>\n",
              "<thead>\n",
              "\t<tr><th scope=col>a</th><th scope=col>b</th><th scope=col>c</th><th scope=col>d</th></tr>\n",
              "\t<tr><th scope=col>&lt;dbl&gt;</th><th scope=col>&lt;dbl&gt;</th><th scope=col>&lt;dbl&gt;</th><th scope=col>&lt;dbl&gt;</th></tr>\n",
              "</thead>\n",
              "<tbody>\n",
              "\t<tr><td>-0.66965206</td><td> 2.2539076</td><td>-0.4590117</td><td> 2.22017909</td></tr>\n",
              "\t<tr><td> 0.85799028</td><td> 0.8660978</td><td> 0.5213642</td><td> 0.82856794</td></tr>\n",
              "\t<tr><td>-0.73851727</td><td>-0.5414870</td><td>-1.3615227</td><td> 2.00355265</td></tr>\n",
              "\t<tr><td>-0.76377123</td><td>-1.8550256</td><td> 0.8904737</td><td>-0.39878288</td></tr>\n",
              "\t<tr><td>-0.02655807</td><td>-0.4366914</td><td> 0.7921534</td><td>-0.09769141</td></tr>\n",
              "\t<tr><td> 0.50761604</td><td> 0.1957154</td><td> 1.9454137</td><td>-0.48990103</td></tr>\n",
              "\t<tr><td>-0.88094193</td><td> 0.1536855</td><td>-0.5268303</td><td> 0.50902105</td></tr>\n",
              "\t<tr><td> 0.67308545</td><td>-0.6280134</td><td>-0.6431293</td><td> 0.12259397</td></tr>\n",
              "\t<tr><td>-1.73959272</td><td> 1.8048720</td><td>-0.7709960</td><td> 0.56501637</td></tr>\n",
              "\t<tr><td>-0.82781115</td><td> 0.7395650</td><td>-1.5989323</td><td>-0.67560166</td></tr>\n",
              "</tbody>\n",
              "</table>\n"
            ]
          },
          "metadata": {}
        }
      ]
    },
    {
      "cell_type": "code",
      "metadata": {
        "id": "fH1NXXsZPuD8",
        "colab": {
          "base_uri": "https://localhost:8080/",
          "height": 34
        },
        "outputId": "8c577723-6bdc-4cb5-8508-5d62cab2d590"
      },
      "source": [
        "df %>% map_dbl(mean)  #map안에는 함수가 들어가서 각각의 vector에 함수가 적용된다."
      ],
      "execution_count": 45,
      "outputs": [
        {
          "output_type": "display_data",
          "data": {
            "text/plain": [
              "         a          b          c          d \n",
              "-0.3608153  0.2552626 -0.1211017  0.4586954 "
            ],
            "text/latex": "\\begin{description*}\n\\item[a] -0.360815265834441\n\\item[b] 0.255262582862792\n\\item[c] -0.121101743868287\n\\item[d] 0.458695408208068\n\\end{description*}\n",
            "text/markdown": "a\n:   -0.360815265834441b\n:   0.255262582862792c\n:   -0.121101743868287d\n:   0.458695408208068\n\n",
            "text/html": [
              "<style>\n",
              ".dl-inline {width: auto; margin:0; padding: 0}\n",
              ".dl-inline>dt, .dl-inline>dd {float: none; width: auto; display: inline-block}\n",
              ".dl-inline>dt::after {content: \":\\0020\"; padding-right: .5ex}\n",
              ".dl-inline>dt:not(:first-of-type) {padding-left: .5ex}\n",
              "</style><dl class=dl-inline><dt>a</dt><dd>-0.360815265834441</dd><dt>b</dt><dd>0.255262582862792</dd><dt>c</dt><dd>-0.121101743868287</dd><dt>d</dt><dd>0.458695408208068</dd></dl>\n"
            ]
          },
          "metadata": {}
        }
      ]
    },
    {
      "cell_type": "markdown",
      "metadata": {
        "id": "ZQNJyhHT9iqy"
      },
      "source": [
        "* 결과들이 numeric vector들로 나열이 되어 있는 것을 볼 수 있다."
      ]
    },
    {
      "cell_type": "code",
      "metadata": {
        "id": "i3Bg0fjZArec",
        "colab": {
          "base_uri": "https://localhost:8080/",
          "height": 179
        },
        "outputId": "da4c9dba-9037-4705-8afa-0142186b755f"
      },
      "source": [
        "df %>% map(mean)"
      ],
      "execution_count": 46,
      "outputs": [
        {
          "output_type": "display_data",
          "data": {
            "text/plain": [
              "$a\n",
              "[1] -0.3608153\n",
              "\n",
              "$b\n",
              "[1] 0.2552626\n",
              "\n",
              "$c\n",
              "[1] -0.1211017\n",
              "\n",
              "$d\n",
              "[1] 0.4586954\n"
            ],
            "text/latex": "\\begin{description}\n\\item[\\$a] -0.360815265834441\n\\item[\\$b] 0.255262582862792\n\\item[\\$c] -0.121101743868287\n\\item[\\$d] 0.458695408208068\n\\end{description}\n",
            "text/markdown": "$a\n:   -0.360815265834441\n$b\n:   0.255262582862792\n$c\n:   -0.121101743868287\n$d\n:   0.458695408208068\n\n\n",
            "text/html": [
              "<dl>\n",
              "\t<dt>$a</dt>\n",
              "\t\t<dd>-0.360815265834441</dd>\n",
              "\t<dt>$b</dt>\n",
              "\t\t<dd>0.255262582862792</dd>\n",
              "\t<dt>$c</dt>\n",
              "\t\t<dd>-0.121101743868287</dd>\n",
              "\t<dt>$d</dt>\n",
              "\t\t<dd>0.458695408208068</dd>\n",
              "</dl>\n"
            ]
          },
          "metadata": {}
        }
      ]
    },
    {
      "cell_type": "markdown",
      "metadata": {
        "id": "LJoIBaDN9q1v"
      },
      "source": [
        "* 일반적으로 map(mean)을 사용하게 되면, list형태로 나열이 되는 것을 알 수 있다."
      ]
    },
    {
      "cell_type": "code",
      "metadata": {
        "id": "elT_8EcUSi3R",
        "colab": {
          "base_uri": "https://localhost:8080/",
          "height": 34
        },
        "outputId": "fe5bb834-0084-4d99-dd3c-8c47837b3f6a"
      },
      "source": [
        "df %>% map_dbl(median)"
      ],
      "execution_count": 47,
      "outputs": [
        {
          "output_type": "display_data",
          "data": {
            "text/plain": [
              "         a          b          c          d \n",
              "-0.7040847  0.1747004 -0.4929210  0.3158075 "
            ],
            "text/latex": "\\begin{description*}\n\\item[a] -0.704084664441743\n\\item[b] 0.174700419935571\n\\item[c] -0.492921009830651\n\\item[d] 0.315807508435058\n\\end{description*}\n",
            "text/markdown": "a\n:   -0.704084664441743b\n:   0.174700419935571c\n:   -0.492921009830651d\n:   0.315807508435058\n\n",
            "text/html": [
              "<style>\n",
              ".dl-inline {width: auto; margin:0; padding: 0}\n",
              ".dl-inline>dt, .dl-inline>dd {float: none; width: auto; display: inline-block}\n",
              ".dl-inline>dt::after {content: \":\\0020\"; padding-right: .5ex}\n",
              ".dl-inline>dt:not(:first-of-type) {padding-left: .5ex}\n",
              "</style><dl class=dl-inline><dt>a</dt><dd>-0.704084664441743</dd><dt>b</dt><dd>0.174700419935571</dd><dt>c</dt><dd>-0.492921009830651</dd><dt>d</dt><dd>0.315807508435058</dd></dl>\n"
            ]
          },
          "metadata": {}
        }
      ]
    },
    {
      "cell_type": "code",
      "metadata": {
        "id": "7DuyJMFHZjwm",
        "outputId": "fc1da0eb-5a4d-4363-87b0-ebfe0c0cfab0",
        "colab": {
          "base_uri": "https://localhost:8080/",
          "height": 34
        }
      },
      "source": [
        "df %>% map_dbl(sd)"
      ],
      "execution_count": 49,
      "outputs": [
        {
          "output_type": "display_data",
          "data": {
            "text/plain": [
              "        a         b         c         d \n",
              "0.8306888 1.2185833 1.1173814 0.9991283 "
            ],
            "text/latex": "\\begin{description*}\n\\item[a] 0.830688811163656\n\\item[b] 1.21858325944483\n\\item[c] 1.11738136690405\n\\item[d] 0.9991282696358\n\\end{description*}\n",
            "text/markdown": "a\n:   0.830688811163656b\n:   1.21858325944483c\n:   1.11738136690405d\n:   0.9991282696358\n\n",
            "text/html": [
              "<style>\n",
              ".dl-inline {width: auto; margin:0; padding: 0}\n",
              ".dl-inline>dt, .dl-inline>dd {float: none; width: auto; display: inline-block}\n",
              ".dl-inline>dt::after {content: \":\\0020\"; padding-right: .5ex}\n",
              ".dl-inline>dt:not(:first-of-type) {padding-left: .5ex}\n",
              "</style><dl class=dl-inline><dt>a</dt><dd>0.830688811163656</dd><dt>b</dt><dd>1.21858325944483</dd><dt>c</dt><dd>1.11738136690405</dd><dt>d</dt><dd>0.9991282696358</dd></dl>\n"
            ]
          },
          "metadata": {}
        }
      ]
    },
    {
      "cell_type": "code",
      "metadata": {
        "id": "sYkN8Kq5A9zi",
        "colab": {
          "base_uri": "https://localhost:8080/",
          "height": 1000
        },
        "outputId": "1f032a1b-877b-4aa5-935c-23341410bcbe"
      },
      "source": [
        "mtcars \n",
        "#mtcars는 자동차에 대한 데이터가 있는 것으 볼 수 있다."
      ],
      "execution_count": 48,
      "outputs": [
        {
          "output_type": "display_data",
          "data": {
            "text/plain": [
              "                    mpg  cyl disp  hp  drat wt    qsec  vs am gear carb\n",
              "Mazda RX4           21.0 6   160.0 110 3.90 2.620 16.46 0  1  4    4   \n",
              "Mazda RX4 Wag       21.0 6   160.0 110 3.90 2.875 17.02 0  1  4    4   \n",
              "Datsun 710          22.8 4   108.0  93 3.85 2.320 18.61 1  1  4    1   \n",
              "Hornet 4 Drive      21.4 6   258.0 110 3.08 3.215 19.44 1  0  3    1   \n",
              "Hornet Sportabout   18.7 8   360.0 175 3.15 3.440 17.02 0  0  3    2   \n",
              "Valiant             18.1 6   225.0 105 2.76 3.460 20.22 1  0  3    1   \n",
              "Duster 360          14.3 8   360.0 245 3.21 3.570 15.84 0  0  3    4   \n",
              "Merc 240D           24.4 4   146.7  62 3.69 3.190 20.00 1  0  4    2   \n",
              "Merc 230            22.8 4   140.8  95 3.92 3.150 22.90 1  0  4    2   \n",
              "Merc 280            19.2 6   167.6 123 3.92 3.440 18.30 1  0  4    4   \n",
              "Merc 280C           17.8 6   167.6 123 3.92 3.440 18.90 1  0  4    4   \n",
              "Merc 450SE          16.4 8   275.8 180 3.07 4.070 17.40 0  0  3    3   \n",
              "Merc 450SL          17.3 8   275.8 180 3.07 3.730 17.60 0  0  3    3   \n",
              "Merc 450SLC         15.2 8   275.8 180 3.07 3.780 18.00 0  0  3    3   \n",
              "Cadillac Fleetwood  10.4 8   472.0 205 2.93 5.250 17.98 0  0  3    4   \n",
              "Lincoln Continental 10.4 8   460.0 215 3.00 5.424 17.82 0  0  3    4   \n",
              "Chrysler Imperial   14.7 8   440.0 230 3.23 5.345 17.42 0  0  3    4   \n",
              "Fiat 128            32.4 4    78.7  66 4.08 2.200 19.47 1  1  4    1   \n",
              "Honda Civic         30.4 4    75.7  52 4.93 1.615 18.52 1  1  4    2   \n",
              "Toyota Corolla      33.9 4    71.1  65 4.22 1.835 19.90 1  1  4    1   \n",
              "Toyota Corona       21.5 4   120.1  97 3.70 2.465 20.01 1  0  3    1   \n",
              "Dodge Challenger    15.5 8   318.0 150 2.76 3.520 16.87 0  0  3    2   \n",
              "AMC Javelin         15.2 8   304.0 150 3.15 3.435 17.30 0  0  3    2   \n",
              "Camaro Z28          13.3 8   350.0 245 3.73 3.840 15.41 0  0  3    4   \n",
              "Pontiac Firebird    19.2 8   400.0 175 3.08 3.845 17.05 0  0  3    2   \n",
              "Fiat X1-9           27.3 4    79.0  66 4.08 1.935 18.90 1  1  4    1   \n",
              "Porsche 914-2       26.0 4   120.3  91 4.43 2.140 16.70 0  1  5    2   \n",
              "Lotus Europa        30.4 4    95.1 113 3.77 1.513 16.90 1  1  5    2   \n",
              "Ford Pantera L      15.8 8   351.0 264 4.22 3.170 14.50 0  1  5    4   \n",
              "Ferrari Dino        19.7 6   145.0 175 3.62 2.770 15.50 0  1  5    6   \n",
              "Maserati Bora       15.0 8   301.0 335 3.54 3.570 14.60 0  1  5    8   \n",
              "Volvo 142E          21.4 4   121.0 109 4.11 2.780 18.60 1  1  4    2   "
            ],
            "text/latex": "A data.frame: 32 × 11\n\\begin{tabular}{r|lllllllllll}\n  & mpg & cyl & disp & hp & drat & wt & qsec & vs & am & gear & carb\\\\\n  & <dbl> & <dbl> & <dbl> & <dbl> & <dbl> & <dbl> & <dbl> & <dbl> & <dbl> & <dbl> & <dbl>\\\\\n\\hline\n\tMazda RX4 & 21.0 & 6 & 160.0 & 110 & 3.90 & 2.620 & 16.46 & 0 & 1 & 4 & 4\\\\\n\tMazda RX4 Wag & 21.0 & 6 & 160.0 & 110 & 3.90 & 2.875 & 17.02 & 0 & 1 & 4 & 4\\\\\n\tDatsun 710 & 22.8 & 4 & 108.0 &  93 & 3.85 & 2.320 & 18.61 & 1 & 1 & 4 & 1\\\\\n\tHornet 4 Drive & 21.4 & 6 & 258.0 & 110 & 3.08 & 3.215 & 19.44 & 1 & 0 & 3 & 1\\\\\n\tHornet Sportabout & 18.7 & 8 & 360.0 & 175 & 3.15 & 3.440 & 17.02 & 0 & 0 & 3 & 2\\\\\n\tValiant & 18.1 & 6 & 225.0 & 105 & 2.76 & 3.460 & 20.22 & 1 & 0 & 3 & 1\\\\\n\tDuster 360 & 14.3 & 8 & 360.0 & 245 & 3.21 & 3.570 & 15.84 & 0 & 0 & 3 & 4\\\\\n\tMerc 240D & 24.4 & 4 & 146.7 &  62 & 3.69 & 3.190 & 20.00 & 1 & 0 & 4 & 2\\\\\n\tMerc 230 & 22.8 & 4 & 140.8 &  95 & 3.92 & 3.150 & 22.90 & 1 & 0 & 4 & 2\\\\\n\tMerc 280 & 19.2 & 6 & 167.6 & 123 & 3.92 & 3.440 & 18.30 & 1 & 0 & 4 & 4\\\\\n\tMerc 280C & 17.8 & 6 & 167.6 & 123 & 3.92 & 3.440 & 18.90 & 1 & 0 & 4 & 4\\\\\n\tMerc 450SE & 16.4 & 8 & 275.8 & 180 & 3.07 & 4.070 & 17.40 & 0 & 0 & 3 & 3\\\\\n\tMerc 450SL & 17.3 & 8 & 275.8 & 180 & 3.07 & 3.730 & 17.60 & 0 & 0 & 3 & 3\\\\\n\tMerc 450SLC & 15.2 & 8 & 275.8 & 180 & 3.07 & 3.780 & 18.00 & 0 & 0 & 3 & 3\\\\\n\tCadillac Fleetwood & 10.4 & 8 & 472.0 & 205 & 2.93 & 5.250 & 17.98 & 0 & 0 & 3 & 4\\\\\n\tLincoln Continental & 10.4 & 8 & 460.0 & 215 & 3.00 & 5.424 & 17.82 & 0 & 0 & 3 & 4\\\\\n\tChrysler Imperial & 14.7 & 8 & 440.0 & 230 & 3.23 & 5.345 & 17.42 & 0 & 0 & 3 & 4\\\\\n\tFiat 128 & 32.4 & 4 &  78.7 &  66 & 4.08 & 2.200 & 19.47 & 1 & 1 & 4 & 1\\\\\n\tHonda Civic & 30.4 & 4 &  75.7 &  52 & 4.93 & 1.615 & 18.52 & 1 & 1 & 4 & 2\\\\\n\tToyota Corolla & 33.9 & 4 &  71.1 &  65 & 4.22 & 1.835 & 19.90 & 1 & 1 & 4 & 1\\\\\n\tToyota Corona & 21.5 & 4 & 120.1 &  97 & 3.70 & 2.465 & 20.01 & 1 & 0 & 3 & 1\\\\\n\tDodge Challenger & 15.5 & 8 & 318.0 & 150 & 2.76 & 3.520 & 16.87 & 0 & 0 & 3 & 2\\\\\n\tAMC Javelin & 15.2 & 8 & 304.0 & 150 & 3.15 & 3.435 & 17.30 & 0 & 0 & 3 & 2\\\\\n\tCamaro Z28 & 13.3 & 8 & 350.0 & 245 & 3.73 & 3.840 & 15.41 & 0 & 0 & 3 & 4\\\\\n\tPontiac Firebird & 19.2 & 8 & 400.0 & 175 & 3.08 & 3.845 & 17.05 & 0 & 0 & 3 & 2\\\\\n\tFiat X1-9 & 27.3 & 4 &  79.0 &  66 & 4.08 & 1.935 & 18.90 & 1 & 1 & 4 & 1\\\\\n\tPorsche 914-2 & 26.0 & 4 & 120.3 &  91 & 4.43 & 2.140 & 16.70 & 0 & 1 & 5 & 2\\\\\n\tLotus Europa & 30.4 & 4 &  95.1 & 113 & 3.77 & 1.513 & 16.90 & 1 & 1 & 5 & 2\\\\\n\tFord Pantera L & 15.8 & 8 & 351.0 & 264 & 4.22 & 3.170 & 14.50 & 0 & 1 & 5 & 4\\\\\n\tFerrari Dino & 19.7 & 6 & 145.0 & 175 & 3.62 & 2.770 & 15.50 & 0 & 1 & 5 & 6\\\\\n\tMaserati Bora & 15.0 & 8 & 301.0 & 335 & 3.54 & 3.570 & 14.60 & 0 & 1 & 5 & 8\\\\\n\tVolvo 142E & 21.4 & 4 & 121.0 & 109 & 4.11 & 2.780 & 18.60 & 1 & 1 & 4 & 2\\\\\n\\end{tabular}\n",
            "text/markdown": "\nA data.frame: 32 × 11\n\n| <!--/--> | mpg &lt;dbl&gt; | cyl &lt;dbl&gt; | disp &lt;dbl&gt; | hp &lt;dbl&gt; | drat &lt;dbl&gt; | wt &lt;dbl&gt; | qsec &lt;dbl&gt; | vs &lt;dbl&gt; | am &lt;dbl&gt; | gear &lt;dbl&gt; | carb &lt;dbl&gt; |\n|---|---|---|---|---|---|---|---|---|---|---|---|\n| Mazda RX4 | 21.0 | 6 | 160.0 | 110 | 3.90 | 2.620 | 16.46 | 0 | 1 | 4 | 4 |\n| Mazda RX4 Wag | 21.0 | 6 | 160.0 | 110 | 3.90 | 2.875 | 17.02 | 0 | 1 | 4 | 4 |\n| Datsun 710 | 22.8 | 4 | 108.0 |  93 | 3.85 | 2.320 | 18.61 | 1 | 1 | 4 | 1 |\n| Hornet 4 Drive | 21.4 | 6 | 258.0 | 110 | 3.08 | 3.215 | 19.44 | 1 | 0 | 3 | 1 |\n| Hornet Sportabout | 18.7 | 8 | 360.0 | 175 | 3.15 | 3.440 | 17.02 | 0 | 0 | 3 | 2 |\n| Valiant | 18.1 | 6 | 225.0 | 105 | 2.76 | 3.460 | 20.22 | 1 | 0 | 3 | 1 |\n| Duster 360 | 14.3 | 8 | 360.0 | 245 | 3.21 | 3.570 | 15.84 | 0 | 0 | 3 | 4 |\n| Merc 240D | 24.4 | 4 | 146.7 |  62 | 3.69 | 3.190 | 20.00 | 1 | 0 | 4 | 2 |\n| Merc 230 | 22.8 | 4 | 140.8 |  95 | 3.92 | 3.150 | 22.90 | 1 | 0 | 4 | 2 |\n| Merc 280 | 19.2 | 6 | 167.6 | 123 | 3.92 | 3.440 | 18.30 | 1 | 0 | 4 | 4 |\n| Merc 280C | 17.8 | 6 | 167.6 | 123 | 3.92 | 3.440 | 18.90 | 1 | 0 | 4 | 4 |\n| Merc 450SE | 16.4 | 8 | 275.8 | 180 | 3.07 | 4.070 | 17.40 | 0 | 0 | 3 | 3 |\n| Merc 450SL | 17.3 | 8 | 275.8 | 180 | 3.07 | 3.730 | 17.60 | 0 | 0 | 3 | 3 |\n| Merc 450SLC | 15.2 | 8 | 275.8 | 180 | 3.07 | 3.780 | 18.00 | 0 | 0 | 3 | 3 |\n| Cadillac Fleetwood | 10.4 | 8 | 472.0 | 205 | 2.93 | 5.250 | 17.98 | 0 | 0 | 3 | 4 |\n| Lincoln Continental | 10.4 | 8 | 460.0 | 215 | 3.00 | 5.424 | 17.82 | 0 | 0 | 3 | 4 |\n| Chrysler Imperial | 14.7 | 8 | 440.0 | 230 | 3.23 | 5.345 | 17.42 | 0 | 0 | 3 | 4 |\n| Fiat 128 | 32.4 | 4 |  78.7 |  66 | 4.08 | 2.200 | 19.47 | 1 | 1 | 4 | 1 |\n| Honda Civic | 30.4 | 4 |  75.7 |  52 | 4.93 | 1.615 | 18.52 | 1 | 1 | 4 | 2 |\n| Toyota Corolla | 33.9 | 4 |  71.1 |  65 | 4.22 | 1.835 | 19.90 | 1 | 1 | 4 | 1 |\n| Toyota Corona | 21.5 | 4 | 120.1 |  97 | 3.70 | 2.465 | 20.01 | 1 | 0 | 3 | 1 |\n| Dodge Challenger | 15.5 | 8 | 318.0 | 150 | 2.76 | 3.520 | 16.87 | 0 | 0 | 3 | 2 |\n| AMC Javelin | 15.2 | 8 | 304.0 | 150 | 3.15 | 3.435 | 17.30 | 0 | 0 | 3 | 2 |\n| Camaro Z28 | 13.3 | 8 | 350.0 | 245 | 3.73 | 3.840 | 15.41 | 0 | 0 | 3 | 4 |\n| Pontiac Firebird | 19.2 | 8 | 400.0 | 175 | 3.08 | 3.845 | 17.05 | 0 | 0 | 3 | 2 |\n| Fiat X1-9 | 27.3 | 4 |  79.0 |  66 | 4.08 | 1.935 | 18.90 | 1 | 1 | 4 | 1 |\n| Porsche 914-2 | 26.0 | 4 | 120.3 |  91 | 4.43 | 2.140 | 16.70 | 0 | 1 | 5 | 2 |\n| Lotus Europa | 30.4 | 4 |  95.1 | 113 | 3.77 | 1.513 | 16.90 | 1 | 1 | 5 | 2 |\n| Ford Pantera L | 15.8 | 8 | 351.0 | 264 | 4.22 | 3.170 | 14.50 | 0 | 1 | 5 | 4 |\n| Ferrari Dino | 19.7 | 6 | 145.0 | 175 | 3.62 | 2.770 | 15.50 | 0 | 1 | 5 | 6 |\n| Maserati Bora | 15.0 | 8 | 301.0 | 335 | 3.54 | 3.570 | 14.60 | 0 | 1 | 5 | 8 |\n| Volvo 142E | 21.4 | 4 | 121.0 | 109 | 4.11 | 2.780 | 18.60 | 1 | 1 | 4 | 2 |\n\n",
            "text/html": [
              "<table class=\"dataframe\">\n",
              "<caption>A data.frame: 32 × 11</caption>\n",
              "<thead>\n",
              "\t<tr><th></th><th scope=col>mpg</th><th scope=col>cyl</th><th scope=col>disp</th><th scope=col>hp</th><th scope=col>drat</th><th scope=col>wt</th><th scope=col>qsec</th><th scope=col>vs</th><th scope=col>am</th><th scope=col>gear</th><th scope=col>carb</th></tr>\n",
              "\t<tr><th></th><th scope=col>&lt;dbl&gt;</th><th scope=col>&lt;dbl&gt;</th><th scope=col>&lt;dbl&gt;</th><th scope=col>&lt;dbl&gt;</th><th scope=col>&lt;dbl&gt;</th><th scope=col>&lt;dbl&gt;</th><th scope=col>&lt;dbl&gt;</th><th scope=col>&lt;dbl&gt;</th><th scope=col>&lt;dbl&gt;</th><th scope=col>&lt;dbl&gt;</th><th scope=col>&lt;dbl&gt;</th></tr>\n",
              "</thead>\n",
              "<tbody>\n",
              "\t<tr><th scope=row>Mazda RX4</th><td>21.0</td><td>6</td><td>160.0</td><td>110</td><td>3.90</td><td>2.620</td><td>16.46</td><td>0</td><td>1</td><td>4</td><td>4</td></tr>\n",
              "\t<tr><th scope=row>Mazda RX4 Wag</th><td>21.0</td><td>6</td><td>160.0</td><td>110</td><td>3.90</td><td>2.875</td><td>17.02</td><td>0</td><td>1</td><td>4</td><td>4</td></tr>\n",
              "\t<tr><th scope=row>Datsun 710</th><td>22.8</td><td>4</td><td>108.0</td><td> 93</td><td>3.85</td><td>2.320</td><td>18.61</td><td>1</td><td>1</td><td>4</td><td>1</td></tr>\n",
              "\t<tr><th scope=row>Hornet 4 Drive</th><td>21.4</td><td>6</td><td>258.0</td><td>110</td><td>3.08</td><td>3.215</td><td>19.44</td><td>1</td><td>0</td><td>3</td><td>1</td></tr>\n",
              "\t<tr><th scope=row>Hornet Sportabout</th><td>18.7</td><td>8</td><td>360.0</td><td>175</td><td>3.15</td><td>3.440</td><td>17.02</td><td>0</td><td>0</td><td>3</td><td>2</td></tr>\n",
              "\t<tr><th scope=row>Valiant</th><td>18.1</td><td>6</td><td>225.0</td><td>105</td><td>2.76</td><td>3.460</td><td>20.22</td><td>1</td><td>0</td><td>3</td><td>1</td></tr>\n",
              "\t<tr><th scope=row>Duster 360</th><td>14.3</td><td>8</td><td>360.0</td><td>245</td><td>3.21</td><td>3.570</td><td>15.84</td><td>0</td><td>0</td><td>3</td><td>4</td></tr>\n",
              "\t<tr><th scope=row>Merc 240D</th><td>24.4</td><td>4</td><td>146.7</td><td> 62</td><td>3.69</td><td>3.190</td><td>20.00</td><td>1</td><td>0</td><td>4</td><td>2</td></tr>\n",
              "\t<tr><th scope=row>Merc 230</th><td>22.8</td><td>4</td><td>140.8</td><td> 95</td><td>3.92</td><td>3.150</td><td>22.90</td><td>1</td><td>0</td><td>4</td><td>2</td></tr>\n",
              "\t<tr><th scope=row>Merc 280</th><td>19.2</td><td>6</td><td>167.6</td><td>123</td><td>3.92</td><td>3.440</td><td>18.30</td><td>1</td><td>0</td><td>4</td><td>4</td></tr>\n",
              "\t<tr><th scope=row>Merc 280C</th><td>17.8</td><td>6</td><td>167.6</td><td>123</td><td>3.92</td><td>3.440</td><td>18.90</td><td>1</td><td>0</td><td>4</td><td>4</td></tr>\n",
              "\t<tr><th scope=row>Merc 450SE</th><td>16.4</td><td>8</td><td>275.8</td><td>180</td><td>3.07</td><td>4.070</td><td>17.40</td><td>0</td><td>0</td><td>3</td><td>3</td></tr>\n",
              "\t<tr><th scope=row>Merc 450SL</th><td>17.3</td><td>8</td><td>275.8</td><td>180</td><td>3.07</td><td>3.730</td><td>17.60</td><td>0</td><td>0</td><td>3</td><td>3</td></tr>\n",
              "\t<tr><th scope=row>Merc 450SLC</th><td>15.2</td><td>8</td><td>275.8</td><td>180</td><td>3.07</td><td>3.780</td><td>18.00</td><td>0</td><td>0</td><td>3</td><td>3</td></tr>\n",
              "\t<tr><th scope=row>Cadillac Fleetwood</th><td>10.4</td><td>8</td><td>472.0</td><td>205</td><td>2.93</td><td>5.250</td><td>17.98</td><td>0</td><td>0</td><td>3</td><td>4</td></tr>\n",
              "\t<tr><th scope=row>Lincoln Continental</th><td>10.4</td><td>8</td><td>460.0</td><td>215</td><td>3.00</td><td>5.424</td><td>17.82</td><td>0</td><td>0</td><td>3</td><td>4</td></tr>\n",
              "\t<tr><th scope=row>Chrysler Imperial</th><td>14.7</td><td>8</td><td>440.0</td><td>230</td><td>3.23</td><td>5.345</td><td>17.42</td><td>0</td><td>0</td><td>3</td><td>4</td></tr>\n",
              "\t<tr><th scope=row>Fiat 128</th><td>32.4</td><td>4</td><td> 78.7</td><td> 66</td><td>4.08</td><td>2.200</td><td>19.47</td><td>1</td><td>1</td><td>4</td><td>1</td></tr>\n",
              "\t<tr><th scope=row>Honda Civic</th><td>30.4</td><td>4</td><td> 75.7</td><td> 52</td><td>4.93</td><td>1.615</td><td>18.52</td><td>1</td><td>1</td><td>4</td><td>2</td></tr>\n",
              "\t<tr><th scope=row>Toyota Corolla</th><td>33.9</td><td>4</td><td> 71.1</td><td> 65</td><td>4.22</td><td>1.835</td><td>19.90</td><td>1</td><td>1</td><td>4</td><td>1</td></tr>\n",
              "\t<tr><th scope=row>Toyota Corona</th><td>21.5</td><td>4</td><td>120.1</td><td> 97</td><td>3.70</td><td>2.465</td><td>20.01</td><td>1</td><td>0</td><td>3</td><td>1</td></tr>\n",
              "\t<tr><th scope=row>Dodge Challenger</th><td>15.5</td><td>8</td><td>318.0</td><td>150</td><td>2.76</td><td>3.520</td><td>16.87</td><td>0</td><td>0</td><td>3</td><td>2</td></tr>\n",
              "\t<tr><th scope=row>AMC Javelin</th><td>15.2</td><td>8</td><td>304.0</td><td>150</td><td>3.15</td><td>3.435</td><td>17.30</td><td>0</td><td>0</td><td>3</td><td>2</td></tr>\n",
              "\t<tr><th scope=row>Camaro Z28</th><td>13.3</td><td>8</td><td>350.0</td><td>245</td><td>3.73</td><td>3.840</td><td>15.41</td><td>0</td><td>0</td><td>3</td><td>4</td></tr>\n",
              "\t<tr><th scope=row>Pontiac Firebird</th><td>19.2</td><td>8</td><td>400.0</td><td>175</td><td>3.08</td><td>3.845</td><td>17.05</td><td>0</td><td>0</td><td>3</td><td>2</td></tr>\n",
              "\t<tr><th scope=row>Fiat X1-9</th><td>27.3</td><td>4</td><td> 79.0</td><td> 66</td><td>4.08</td><td>1.935</td><td>18.90</td><td>1</td><td>1</td><td>4</td><td>1</td></tr>\n",
              "\t<tr><th scope=row>Porsche 914-2</th><td>26.0</td><td>4</td><td>120.3</td><td> 91</td><td>4.43</td><td>2.140</td><td>16.70</td><td>0</td><td>1</td><td>5</td><td>2</td></tr>\n",
              "\t<tr><th scope=row>Lotus Europa</th><td>30.4</td><td>4</td><td> 95.1</td><td>113</td><td>3.77</td><td>1.513</td><td>16.90</td><td>1</td><td>1</td><td>5</td><td>2</td></tr>\n",
              "\t<tr><th scope=row>Ford Pantera L</th><td>15.8</td><td>8</td><td>351.0</td><td>264</td><td>4.22</td><td>3.170</td><td>14.50</td><td>0</td><td>1</td><td>5</td><td>4</td></tr>\n",
              "\t<tr><th scope=row>Ferrari Dino</th><td>19.7</td><td>6</td><td>145.0</td><td>175</td><td>3.62</td><td>2.770</td><td>15.50</td><td>0</td><td>1</td><td>5</td><td>6</td></tr>\n",
              "\t<tr><th scope=row>Maserati Bora</th><td>15.0</td><td>8</td><td>301.0</td><td>335</td><td>3.54</td><td>3.570</td><td>14.60</td><td>0</td><td>1</td><td>5</td><td>8</td></tr>\n",
              "\t<tr><th scope=row>Volvo 142E</th><td>21.4</td><td>4</td><td>121.0</td><td>109</td><td>4.11</td><td>2.780</td><td>18.60</td><td>1</td><td>1</td><td>4</td><td>2</td></tr>\n",
              "</tbody>\n",
              "</table>\n"
            ]
          },
          "metadata": {}
        }
      ]
    },
    {
      "cell_type": "code",
      "metadata": {
        "id": "cFaUZ4KpUi-v",
        "colab": {
          "base_uri": "https://localhost:8080/",
          "height": 1000
        },
        "outputId": "c63556c8-1c30-4776-c7ae-e1a5c7c8b165"
      },
      "source": [
        "mtcars %>% \n",
        "  split(.$cyl)\n",
        "#mtcars에서 cyl로 split을 해주게 되면, cyl로 나뉘어 지는 것을 알 수 있다."
      ],
      "execution_count": 50,
      "outputs": [
        {
          "output_type": "display_data",
          "data": {
            "text/plain": [
              "$`4`\n",
              "                mpg cyl  disp  hp drat    wt  qsec vs am gear carb\n",
              "Datsun 710     22.8   4 108.0  93 3.85 2.320 18.61  1  1    4    1\n",
              "Merc 240D      24.4   4 146.7  62 3.69 3.190 20.00  1  0    4    2\n",
              "Merc 230       22.8   4 140.8  95 3.92 3.150 22.90  1  0    4    2\n",
              "Fiat 128       32.4   4  78.7  66 4.08 2.200 19.47  1  1    4    1\n",
              "Honda Civic    30.4   4  75.7  52 4.93 1.615 18.52  1  1    4    2\n",
              "Toyota Corolla 33.9   4  71.1  65 4.22 1.835 19.90  1  1    4    1\n",
              "Toyota Corona  21.5   4 120.1  97 3.70 2.465 20.01  1  0    3    1\n",
              "Fiat X1-9      27.3   4  79.0  66 4.08 1.935 18.90  1  1    4    1\n",
              "Porsche 914-2  26.0   4 120.3  91 4.43 2.140 16.70  0  1    5    2\n",
              "Lotus Europa   30.4   4  95.1 113 3.77 1.513 16.90  1  1    5    2\n",
              "Volvo 142E     21.4   4 121.0 109 4.11 2.780 18.60  1  1    4    2\n",
              "\n",
              "$`6`\n",
              "                mpg cyl  disp  hp drat    wt  qsec vs am gear carb\n",
              "Mazda RX4      21.0   6 160.0 110 3.90 2.620 16.46  0  1    4    4\n",
              "Mazda RX4 Wag  21.0   6 160.0 110 3.90 2.875 17.02  0  1    4    4\n",
              "Hornet 4 Drive 21.4   6 258.0 110 3.08 3.215 19.44  1  0    3    1\n",
              "Valiant        18.1   6 225.0 105 2.76 3.460 20.22  1  0    3    1\n",
              "Merc 280       19.2   6 167.6 123 3.92 3.440 18.30  1  0    4    4\n",
              "Merc 280C      17.8   6 167.6 123 3.92 3.440 18.90  1  0    4    4\n",
              "Ferrari Dino   19.7   6 145.0 175 3.62 2.770 15.50  0  1    5    6\n",
              "\n",
              "$`8`\n",
              "                     mpg cyl  disp  hp drat    wt  qsec vs am gear carb\n",
              "Hornet Sportabout   18.7   8 360.0 175 3.15 3.440 17.02  0  0    3    2\n",
              "Duster 360          14.3   8 360.0 245 3.21 3.570 15.84  0  0    3    4\n",
              "Merc 450SE          16.4   8 275.8 180 3.07 4.070 17.40  0  0    3    3\n",
              "Merc 450SL          17.3   8 275.8 180 3.07 3.730 17.60  0  0    3    3\n",
              "Merc 450SLC         15.2   8 275.8 180 3.07 3.780 18.00  0  0    3    3\n",
              "Cadillac Fleetwood  10.4   8 472.0 205 2.93 5.250 17.98  0  0    3    4\n",
              "Lincoln Continental 10.4   8 460.0 215 3.00 5.424 17.82  0  0    3    4\n",
              "Chrysler Imperial   14.7   8 440.0 230 3.23 5.345 17.42  0  0    3    4\n",
              "Dodge Challenger    15.5   8 318.0 150 2.76 3.520 16.87  0  0    3    2\n",
              "AMC Javelin         15.2   8 304.0 150 3.15 3.435 17.30  0  0    3    2\n",
              "Camaro Z28          13.3   8 350.0 245 3.73 3.840 15.41  0  0    3    4\n",
              "Pontiac Firebird    19.2   8 400.0 175 3.08 3.845 17.05  0  0    3    2\n",
              "Ford Pantera L      15.8   8 351.0 264 4.22 3.170 14.50  0  1    5    4\n",
              "Maserati Bora       15.0   8 301.0 335 3.54 3.570 14.60  0  1    5    8\n"
            ],
            "text/latex": "\\begin{description}\n\\item[\\$`4`] A data.frame: 11 × 11\n\\begin{tabular}{r|lllllllllll}\n  & mpg & cyl & disp & hp & drat & wt & qsec & vs & am & gear & carb\\\\\n  & <dbl> & <dbl> & <dbl> & <dbl> & <dbl> & <dbl> & <dbl> & <dbl> & <dbl> & <dbl> & <dbl>\\\\\n\\hline\n\tDatsun 710 & 22.8 & 4 & 108.0 &  93 & 3.85 & 2.320 & 18.61 & 1 & 1 & 4 & 1\\\\\n\tMerc 240D & 24.4 & 4 & 146.7 &  62 & 3.69 & 3.190 & 20.00 & 1 & 0 & 4 & 2\\\\\n\tMerc 230 & 22.8 & 4 & 140.8 &  95 & 3.92 & 3.150 & 22.90 & 1 & 0 & 4 & 2\\\\\n\tFiat 128 & 32.4 & 4 &  78.7 &  66 & 4.08 & 2.200 & 19.47 & 1 & 1 & 4 & 1\\\\\n\tHonda Civic & 30.4 & 4 &  75.7 &  52 & 4.93 & 1.615 & 18.52 & 1 & 1 & 4 & 2\\\\\n\tToyota Corolla & 33.9 & 4 &  71.1 &  65 & 4.22 & 1.835 & 19.90 & 1 & 1 & 4 & 1\\\\\n\tToyota Corona & 21.5 & 4 & 120.1 &  97 & 3.70 & 2.465 & 20.01 & 1 & 0 & 3 & 1\\\\\n\tFiat X1-9 & 27.3 & 4 &  79.0 &  66 & 4.08 & 1.935 & 18.90 & 1 & 1 & 4 & 1\\\\\n\tPorsche 914-2 & 26.0 & 4 & 120.3 &  91 & 4.43 & 2.140 & 16.70 & 0 & 1 & 5 & 2\\\\\n\tLotus Europa & 30.4 & 4 &  95.1 & 113 & 3.77 & 1.513 & 16.90 & 1 & 1 & 5 & 2\\\\\n\tVolvo 142E & 21.4 & 4 & 121.0 & 109 & 4.11 & 2.780 & 18.60 & 1 & 1 & 4 & 2\\\\\n\\end{tabular}\n\n\\item[\\$`6`] A data.frame: 7 × 11\n\\begin{tabular}{r|lllllllllll}\n  & mpg & cyl & disp & hp & drat & wt & qsec & vs & am & gear & carb\\\\\n  & <dbl> & <dbl> & <dbl> & <dbl> & <dbl> & <dbl> & <dbl> & <dbl> & <dbl> & <dbl> & <dbl>\\\\\n\\hline\n\tMazda RX4 & 21.0 & 6 & 160.0 & 110 & 3.90 & 2.620 & 16.46 & 0 & 1 & 4 & 4\\\\\n\tMazda RX4 Wag & 21.0 & 6 & 160.0 & 110 & 3.90 & 2.875 & 17.02 & 0 & 1 & 4 & 4\\\\\n\tHornet 4 Drive & 21.4 & 6 & 258.0 & 110 & 3.08 & 3.215 & 19.44 & 1 & 0 & 3 & 1\\\\\n\tValiant & 18.1 & 6 & 225.0 & 105 & 2.76 & 3.460 & 20.22 & 1 & 0 & 3 & 1\\\\\n\tMerc 280 & 19.2 & 6 & 167.6 & 123 & 3.92 & 3.440 & 18.30 & 1 & 0 & 4 & 4\\\\\n\tMerc 280C & 17.8 & 6 & 167.6 & 123 & 3.92 & 3.440 & 18.90 & 1 & 0 & 4 & 4\\\\\n\tFerrari Dino & 19.7 & 6 & 145.0 & 175 & 3.62 & 2.770 & 15.50 & 0 & 1 & 5 & 6\\\\\n\\end{tabular}\n\n\\item[\\$`8`] A data.frame: 14 × 11\n\\begin{tabular}{r|lllllllllll}\n  & mpg & cyl & disp & hp & drat & wt & qsec & vs & am & gear & carb\\\\\n  & <dbl> & <dbl> & <dbl> & <dbl> & <dbl> & <dbl> & <dbl> & <dbl> & <dbl> & <dbl> & <dbl>\\\\\n\\hline\n\tHornet Sportabout & 18.7 & 8 & 360.0 & 175 & 3.15 & 3.440 & 17.02 & 0 & 0 & 3 & 2\\\\\n\tDuster 360 & 14.3 & 8 & 360.0 & 245 & 3.21 & 3.570 & 15.84 & 0 & 0 & 3 & 4\\\\\n\tMerc 450SE & 16.4 & 8 & 275.8 & 180 & 3.07 & 4.070 & 17.40 & 0 & 0 & 3 & 3\\\\\n\tMerc 450SL & 17.3 & 8 & 275.8 & 180 & 3.07 & 3.730 & 17.60 & 0 & 0 & 3 & 3\\\\\n\tMerc 450SLC & 15.2 & 8 & 275.8 & 180 & 3.07 & 3.780 & 18.00 & 0 & 0 & 3 & 3\\\\\n\tCadillac Fleetwood & 10.4 & 8 & 472.0 & 205 & 2.93 & 5.250 & 17.98 & 0 & 0 & 3 & 4\\\\\n\tLincoln Continental & 10.4 & 8 & 460.0 & 215 & 3.00 & 5.424 & 17.82 & 0 & 0 & 3 & 4\\\\\n\tChrysler Imperial & 14.7 & 8 & 440.0 & 230 & 3.23 & 5.345 & 17.42 & 0 & 0 & 3 & 4\\\\\n\tDodge Challenger & 15.5 & 8 & 318.0 & 150 & 2.76 & 3.520 & 16.87 & 0 & 0 & 3 & 2\\\\\n\tAMC Javelin & 15.2 & 8 & 304.0 & 150 & 3.15 & 3.435 & 17.30 & 0 & 0 & 3 & 2\\\\\n\tCamaro Z28 & 13.3 & 8 & 350.0 & 245 & 3.73 & 3.840 & 15.41 & 0 & 0 & 3 & 4\\\\\n\tPontiac Firebird & 19.2 & 8 & 400.0 & 175 & 3.08 & 3.845 & 17.05 & 0 & 0 & 3 & 2\\\\\n\tFord Pantera L & 15.8 & 8 & 351.0 & 264 & 4.22 & 3.170 & 14.50 & 0 & 1 & 5 & 4\\\\\n\tMaserati Bora & 15.0 & 8 & 301.0 & 335 & 3.54 & 3.570 & 14.60 & 0 & 1 & 5 & 8\\\\\n\\end{tabular}\n\n\\end{description}\n",
            "text/markdown": "$`4`\n:   \nA data.frame: 11 × 11\n\n| <!--/--> | mpg &lt;dbl&gt; | cyl &lt;dbl&gt; | disp &lt;dbl&gt; | hp &lt;dbl&gt; | drat &lt;dbl&gt; | wt &lt;dbl&gt; | qsec &lt;dbl&gt; | vs &lt;dbl&gt; | am &lt;dbl&gt; | gear &lt;dbl&gt; | carb &lt;dbl&gt; |\n|---|---|---|---|---|---|---|---|---|---|---|---|\n| Datsun 710 | 22.8 | 4 | 108.0 |  93 | 3.85 | 2.320 | 18.61 | 1 | 1 | 4 | 1 |\n| Merc 240D | 24.4 | 4 | 146.7 |  62 | 3.69 | 3.190 | 20.00 | 1 | 0 | 4 | 2 |\n| Merc 230 | 22.8 | 4 | 140.8 |  95 | 3.92 | 3.150 | 22.90 | 1 | 0 | 4 | 2 |\n| Fiat 128 | 32.4 | 4 |  78.7 |  66 | 4.08 | 2.200 | 19.47 | 1 | 1 | 4 | 1 |\n| Honda Civic | 30.4 | 4 |  75.7 |  52 | 4.93 | 1.615 | 18.52 | 1 | 1 | 4 | 2 |\n| Toyota Corolla | 33.9 | 4 |  71.1 |  65 | 4.22 | 1.835 | 19.90 | 1 | 1 | 4 | 1 |\n| Toyota Corona | 21.5 | 4 | 120.1 |  97 | 3.70 | 2.465 | 20.01 | 1 | 0 | 3 | 1 |\n| Fiat X1-9 | 27.3 | 4 |  79.0 |  66 | 4.08 | 1.935 | 18.90 | 1 | 1 | 4 | 1 |\n| Porsche 914-2 | 26.0 | 4 | 120.3 |  91 | 4.43 | 2.140 | 16.70 | 0 | 1 | 5 | 2 |\n| Lotus Europa | 30.4 | 4 |  95.1 | 113 | 3.77 | 1.513 | 16.90 | 1 | 1 | 5 | 2 |\n| Volvo 142E | 21.4 | 4 | 121.0 | 109 | 4.11 | 2.780 | 18.60 | 1 | 1 | 4 | 2 |\n\n\n$`6`\n:   \nA data.frame: 7 × 11\n\n| <!--/--> | mpg &lt;dbl&gt; | cyl &lt;dbl&gt; | disp &lt;dbl&gt; | hp &lt;dbl&gt; | drat &lt;dbl&gt; | wt &lt;dbl&gt; | qsec &lt;dbl&gt; | vs &lt;dbl&gt; | am &lt;dbl&gt; | gear &lt;dbl&gt; | carb &lt;dbl&gt; |\n|---|---|---|---|---|---|---|---|---|---|---|---|\n| Mazda RX4 | 21.0 | 6 | 160.0 | 110 | 3.90 | 2.620 | 16.46 | 0 | 1 | 4 | 4 |\n| Mazda RX4 Wag | 21.0 | 6 | 160.0 | 110 | 3.90 | 2.875 | 17.02 | 0 | 1 | 4 | 4 |\n| Hornet 4 Drive | 21.4 | 6 | 258.0 | 110 | 3.08 | 3.215 | 19.44 | 1 | 0 | 3 | 1 |\n| Valiant | 18.1 | 6 | 225.0 | 105 | 2.76 | 3.460 | 20.22 | 1 | 0 | 3 | 1 |\n| Merc 280 | 19.2 | 6 | 167.6 | 123 | 3.92 | 3.440 | 18.30 | 1 | 0 | 4 | 4 |\n| Merc 280C | 17.8 | 6 | 167.6 | 123 | 3.92 | 3.440 | 18.90 | 1 | 0 | 4 | 4 |\n| Ferrari Dino | 19.7 | 6 | 145.0 | 175 | 3.62 | 2.770 | 15.50 | 0 | 1 | 5 | 6 |\n\n\n$`8`\n:   \nA data.frame: 14 × 11\n\n| <!--/--> | mpg &lt;dbl&gt; | cyl &lt;dbl&gt; | disp &lt;dbl&gt; | hp &lt;dbl&gt; | drat &lt;dbl&gt; | wt &lt;dbl&gt; | qsec &lt;dbl&gt; | vs &lt;dbl&gt; | am &lt;dbl&gt; | gear &lt;dbl&gt; | carb &lt;dbl&gt; |\n|---|---|---|---|---|---|---|---|---|---|---|---|\n| Hornet Sportabout | 18.7 | 8 | 360.0 | 175 | 3.15 | 3.440 | 17.02 | 0 | 0 | 3 | 2 |\n| Duster 360 | 14.3 | 8 | 360.0 | 245 | 3.21 | 3.570 | 15.84 | 0 | 0 | 3 | 4 |\n| Merc 450SE | 16.4 | 8 | 275.8 | 180 | 3.07 | 4.070 | 17.40 | 0 | 0 | 3 | 3 |\n| Merc 450SL | 17.3 | 8 | 275.8 | 180 | 3.07 | 3.730 | 17.60 | 0 | 0 | 3 | 3 |\n| Merc 450SLC | 15.2 | 8 | 275.8 | 180 | 3.07 | 3.780 | 18.00 | 0 | 0 | 3 | 3 |\n| Cadillac Fleetwood | 10.4 | 8 | 472.0 | 205 | 2.93 | 5.250 | 17.98 | 0 | 0 | 3 | 4 |\n| Lincoln Continental | 10.4 | 8 | 460.0 | 215 | 3.00 | 5.424 | 17.82 | 0 | 0 | 3 | 4 |\n| Chrysler Imperial | 14.7 | 8 | 440.0 | 230 | 3.23 | 5.345 | 17.42 | 0 | 0 | 3 | 4 |\n| Dodge Challenger | 15.5 | 8 | 318.0 | 150 | 2.76 | 3.520 | 16.87 | 0 | 0 | 3 | 2 |\n| AMC Javelin | 15.2 | 8 | 304.0 | 150 | 3.15 | 3.435 | 17.30 | 0 | 0 | 3 | 2 |\n| Camaro Z28 | 13.3 | 8 | 350.0 | 245 | 3.73 | 3.840 | 15.41 | 0 | 0 | 3 | 4 |\n| Pontiac Firebird | 19.2 | 8 | 400.0 | 175 | 3.08 | 3.845 | 17.05 | 0 | 0 | 3 | 2 |\n| Ford Pantera L | 15.8 | 8 | 351.0 | 264 | 4.22 | 3.170 | 14.50 | 0 | 1 | 5 | 4 |\n| Maserati Bora | 15.0 | 8 | 301.0 | 335 | 3.54 | 3.570 | 14.60 | 0 | 1 | 5 | 8 |\n\n\n\n\n",
            "text/html": [
              "<dl>\n",
              "\t<dt>$`4`</dt>\n",
              "\t\t<dd><table class=\"dataframe\">\n",
              "<caption>A data.frame: 11 × 11</caption>\n",
              "<thead>\n",
              "\t<tr><th></th><th scope=col>mpg</th><th scope=col>cyl</th><th scope=col>disp</th><th scope=col>hp</th><th scope=col>drat</th><th scope=col>wt</th><th scope=col>qsec</th><th scope=col>vs</th><th scope=col>am</th><th scope=col>gear</th><th scope=col>carb</th></tr>\n",
              "\t<tr><th></th><th scope=col>&lt;dbl&gt;</th><th scope=col>&lt;dbl&gt;</th><th scope=col>&lt;dbl&gt;</th><th scope=col>&lt;dbl&gt;</th><th scope=col>&lt;dbl&gt;</th><th scope=col>&lt;dbl&gt;</th><th scope=col>&lt;dbl&gt;</th><th scope=col>&lt;dbl&gt;</th><th scope=col>&lt;dbl&gt;</th><th scope=col>&lt;dbl&gt;</th><th scope=col>&lt;dbl&gt;</th></tr>\n",
              "</thead>\n",
              "<tbody>\n",
              "\t<tr><th scope=row>Datsun 710</th><td>22.8</td><td>4</td><td>108.0</td><td> 93</td><td>3.85</td><td>2.320</td><td>18.61</td><td>1</td><td>1</td><td>4</td><td>1</td></tr>\n",
              "\t<tr><th scope=row>Merc 240D</th><td>24.4</td><td>4</td><td>146.7</td><td> 62</td><td>3.69</td><td>3.190</td><td>20.00</td><td>1</td><td>0</td><td>4</td><td>2</td></tr>\n",
              "\t<tr><th scope=row>Merc 230</th><td>22.8</td><td>4</td><td>140.8</td><td> 95</td><td>3.92</td><td>3.150</td><td>22.90</td><td>1</td><td>0</td><td>4</td><td>2</td></tr>\n",
              "\t<tr><th scope=row>Fiat 128</th><td>32.4</td><td>4</td><td> 78.7</td><td> 66</td><td>4.08</td><td>2.200</td><td>19.47</td><td>1</td><td>1</td><td>4</td><td>1</td></tr>\n",
              "\t<tr><th scope=row>Honda Civic</th><td>30.4</td><td>4</td><td> 75.7</td><td> 52</td><td>4.93</td><td>1.615</td><td>18.52</td><td>1</td><td>1</td><td>4</td><td>2</td></tr>\n",
              "\t<tr><th scope=row>Toyota Corolla</th><td>33.9</td><td>4</td><td> 71.1</td><td> 65</td><td>4.22</td><td>1.835</td><td>19.90</td><td>1</td><td>1</td><td>4</td><td>1</td></tr>\n",
              "\t<tr><th scope=row>Toyota Corona</th><td>21.5</td><td>4</td><td>120.1</td><td> 97</td><td>3.70</td><td>2.465</td><td>20.01</td><td>1</td><td>0</td><td>3</td><td>1</td></tr>\n",
              "\t<tr><th scope=row>Fiat X1-9</th><td>27.3</td><td>4</td><td> 79.0</td><td> 66</td><td>4.08</td><td>1.935</td><td>18.90</td><td>1</td><td>1</td><td>4</td><td>1</td></tr>\n",
              "\t<tr><th scope=row>Porsche 914-2</th><td>26.0</td><td>4</td><td>120.3</td><td> 91</td><td>4.43</td><td>2.140</td><td>16.70</td><td>0</td><td>1</td><td>5</td><td>2</td></tr>\n",
              "\t<tr><th scope=row>Lotus Europa</th><td>30.4</td><td>4</td><td> 95.1</td><td>113</td><td>3.77</td><td>1.513</td><td>16.90</td><td>1</td><td>1</td><td>5</td><td>2</td></tr>\n",
              "\t<tr><th scope=row>Volvo 142E</th><td>21.4</td><td>4</td><td>121.0</td><td>109</td><td>4.11</td><td>2.780</td><td>18.60</td><td>1</td><td>1</td><td>4</td><td>2</td></tr>\n",
              "</tbody>\n",
              "</table>\n",
              "</dd>\n",
              "\t<dt>$`6`</dt>\n",
              "\t\t<dd><table class=\"dataframe\">\n",
              "<caption>A data.frame: 7 × 11</caption>\n",
              "<thead>\n",
              "\t<tr><th></th><th scope=col>mpg</th><th scope=col>cyl</th><th scope=col>disp</th><th scope=col>hp</th><th scope=col>drat</th><th scope=col>wt</th><th scope=col>qsec</th><th scope=col>vs</th><th scope=col>am</th><th scope=col>gear</th><th scope=col>carb</th></tr>\n",
              "\t<tr><th></th><th scope=col>&lt;dbl&gt;</th><th scope=col>&lt;dbl&gt;</th><th scope=col>&lt;dbl&gt;</th><th scope=col>&lt;dbl&gt;</th><th scope=col>&lt;dbl&gt;</th><th scope=col>&lt;dbl&gt;</th><th scope=col>&lt;dbl&gt;</th><th scope=col>&lt;dbl&gt;</th><th scope=col>&lt;dbl&gt;</th><th scope=col>&lt;dbl&gt;</th><th scope=col>&lt;dbl&gt;</th></tr>\n",
              "</thead>\n",
              "<tbody>\n",
              "\t<tr><th scope=row>Mazda RX4</th><td>21.0</td><td>6</td><td>160.0</td><td>110</td><td>3.90</td><td>2.620</td><td>16.46</td><td>0</td><td>1</td><td>4</td><td>4</td></tr>\n",
              "\t<tr><th scope=row>Mazda RX4 Wag</th><td>21.0</td><td>6</td><td>160.0</td><td>110</td><td>3.90</td><td>2.875</td><td>17.02</td><td>0</td><td>1</td><td>4</td><td>4</td></tr>\n",
              "\t<tr><th scope=row>Hornet 4 Drive</th><td>21.4</td><td>6</td><td>258.0</td><td>110</td><td>3.08</td><td>3.215</td><td>19.44</td><td>1</td><td>0</td><td>3</td><td>1</td></tr>\n",
              "\t<tr><th scope=row>Valiant</th><td>18.1</td><td>6</td><td>225.0</td><td>105</td><td>2.76</td><td>3.460</td><td>20.22</td><td>1</td><td>0</td><td>3</td><td>1</td></tr>\n",
              "\t<tr><th scope=row>Merc 280</th><td>19.2</td><td>6</td><td>167.6</td><td>123</td><td>3.92</td><td>3.440</td><td>18.30</td><td>1</td><td>0</td><td>4</td><td>4</td></tr>\n",
              "\t<tr><th scope=row>Merc 280C</th><td>17.8</td><td>6</td><td>167.6</td><td>123</td><td>3.92</td><td>3.440</td><td>18.90</td><td>1</td><td>0</td><td>4</td><td>4</td></tr>\n",
              "\t<tr><th scope=row>Ferrari Dino</th><td>19.7</td><td>6</td><td>145.0</td><td>175</td><td>3.62</td><td>2.770</td><td>15.50</td><td>0</td><td>1</td><td>5</td><td>6</td></tr>\n",
              "</tbody>\n",
              "</table>\n",
              "</dd>\n",
              "\t<dt>$`8`</dt>\n",
              "\t\t<dd><table class=\"dataframe\">\n",
              "<caption>A data.frame: 14 × 11</caption>\n",
              "<thead>\n",
              "\t<tr><th></th><th scope=col>mpg</th><th scope=col>cyl</th><th scope=col>disp</th><th scope=col>hp</th><th scope=col>drat</th><th scope=col>wt</th><th scope=col>qsec</th><th scope=col>vs</th><th scope=col>am</th><th scope=col>gear</th><th scope=col>carb</th></tr>\n",
              "\t<tr><th></th><th scope=col>&lt;dbl&gt;</th><th scope=col>&lt;dbl&gt;</th><th scope=col>&lt;dbl&gt;</th><th scope=col>&lt;dbl&gt;</th><th scope=col>&lt;dbl&gt;</th><th scope=col>&lt;dbl&gt;</th><th scope=col>&lt;dbl&gt;</th><th scope=col>&lt;dbl&gt;</th><th scope=col>&lt;dbl&gt;</th><th scope=col>&lt;dbl&gt;</th><th scope=col>&lt;dbl&gt;</th></tr>\n",
              "</thead>\n",
              "<tbody>\n",
              "\t<tr><th scope=row>Hornet Sportabout</th><td>18.7</td><td>8</td><td>360.0</td><td>175</td><td>3.15</td><td>3.440</td><td>17.02</td><td>0</td><td>0</td><td>3</td><td>2</td></tr>\n",
              "\t<tr><th scope=row>Duster 360</th><td>14.3</td><td>8</td><td>360.0</td><td>245</td><td>3.21</td><td>3.570</td><td>15.84</td><td>0</td><td>0</td><td>3</td><td>4</td></tr>\n",
              "\t<tr><th scope=row>Merc 450SE</th><td>16.4</td><td>8</td><td>275.8</td><td>180</td><td>3.07</td><td>4.070</td><td>17.40</td><td>0</td><td>0</td><td>3</td><td>3</td></tr>\n",
              "\t<tr><th scope=row>Merc 450SL</th><td>17.3</td><td>8</td><td>275.8</td><td>180</td><td>3.07</td><td>3.730</td><td>17.60</td><td>0</td><td>0</td><td>3</td><td>3</td></tr>\n",
              "\t<tr><th scope=row>Merc 450SLC</th><td>15.2</td><td>8</td><td>275.8</td><td>180</td><td>3.07</td><td>3.780</td><td>18.00</td><td>0</td><td>0</td><td>3</td><td>3</td></tr>\n",
              "\t<tr><th scope=row>Cadillac Fleetwood</th><td>10.4</td><td>8</td><td>472.0</td><td>205</td><td>2.93</td><td>5.250</td><td>17.98</td><td>0</td><td>0</td><td>3</td><td>4</td></tr>\n",
              "\t<tr><th scope=row>Lincoln Continental</th><td>10.4</td><td>8</td><td>460.0</td><td>215</td><td>3.00</td><td>5.424</td><td>17.82</td><td>0</td><td>0</td><td>3</td><td>4</td></tr>\n",
              "\t<tr><th scope=row>Chrysler Imperial</th><td>14.7</td><td>8</td><td>440.0</td><td>230</td><td>3.23</td><td>5.345</td><td>17.42</td><td>0</td><td>0</td><td>3</td><td>4</td></tr>\n",
              "\t<tr><th scope=row>Dodge Challenger</th><td>15.5</td><td>8</td><td>318.0</td><td>150</td><td>2.76</td><td>3.520</td><td>16.87</td><td>0</td><td>0</td><td>3</td><td>2</td></tr>\n",
              "\t<tr><th scope=row>AMC Javelin</th><td>15.2</td><td>8</td><td>304.0</td><td>150</td><td>3.15</td><td>3.435</td><td>17.30</td><td>0</td><td>0</td><td>3</td><td>2</td></tr>\n",
              "\t<tr><th scope=row>Camaro Z28</th><td>13.3</td><td>8</td><td>350.0</td><td>245</td><td>3.73</td><td>3.840</td><td>15.41</td><td>0</td><td>0</td><td>3</td><td>4</td></tr>\n",
              "\t<tr><th scope=row>Pontiac Firebird</th><td>19.2</td><td>8</td><td>400.0</td><td>175</td><td>3.08</td><td>3.845</td><td>17.05</td><td>0</td><td>0</td><td>3</td><td>2</td></tr>\n",
              "\t<tr><th scope=row>Ford Pantera L</th><td>15.8</td><td>8</td><td>351.0</td><td>264</td><td>4.22</td><td>3.170</td><td>14.50</td><td>0</td><td>1</td><td>5</td><td>4</td></tr>\n",
              "\t<tr><th scope=row>Maserati Bora</th><td>15.0</td><td>8</td><td>301.0</td><td>335</td><td>3.54</td><td>3.570</td><td>14.60</td><td>0</td><td>1</td><td>5</td><td>8</td></tr>\n",
              "</tbody>\n",
              "</table>\n",
              "</dd>\n",
              "</dl>\n"
            ]
          },
          "metadata": {}
        }
      ]
    },
    {
      "cell_type": "markdown",
      "metadata": {
        "id": "n6Srx5BFUraC"
      },
      "source": [
        "You can define a function in map"
      ]
    },
    {
      "cell_type": "code",
      "metadata": {
        "id": "JSni07SbBH4R",
        "colab": {
          "base_uri": "https://localhost:8080/",
          "height": 527
        },
        "outputId": "a295a16a-2a7a-4a43-a2bb-0bd97dfe4f39"
      },
      "source": [
        "#먼저 함수function을 정의해주고\n",
        "f1 <- function(df) {\n",
        "  lm(mpg ~ wt, data = df)\n",
        "}\n",
        "\n",
        "#split한 것을 f1에 집어넣어 주는 방식이다.\n",
        "mtcars %>% \n",
        "  split(.$cyl) %>% \n",
        "  map(f1) #map을 해주게 되면 list형식으로 만들어 준다."
      ],
      "execution_count": 51,
      "outputs": [
        {
          "output_type": "display_data",
          "data": {
            "text/plain": [
              "$`4`\n",
              "\n",
              "Call:\n",
              "lm(formula = mpg ~ wt, data = df)\n",
              "\n",
              "Coefficients:\n",
              "(Intercept)           wt  \n",
              "     39.571       -5.647  \n",
              "\n",
              "\n",
              "$`6`\n",
              "\n",
              "Call:\n",
              "lm(formula = mpg ~ wt, data = df)\n",
              "\n",
              "Coefficients:\n",
              "(Intercept)           wt  \n",
              "      28.41        -2.78  \n",
              "\n",
              "\n",
              "$`8`\n",
              "\n",
              "Call:\n",
              "lm(formula = mpg ~ wt, data = df)\n",
              "\n",
              "Coefficients:\n",
              "(Intercept)           wt  \n",
              "     23.868       -2.192  \n",
              "\n"
            ]
          },
          "metadata": {}
        }
      ]
    },
    {
      "cell_type": "code",
      "metadata": {
        "id": "7VjH2IZTUcbG",
        "colab": {
          "base_uri": "https://localhost:8080/",
          "height": 527
        },
        "outputId": "1d2c1bf3-08b4-400b-e9fc-3e0a2ccad23a"
      },
      "source": [
        "#근데 위에서 처럼 함수 function을 다른 곳에서 정의해서 써주는 방식이 아니라\n",
        "#map안에서 function을 정해서 사용해주는 방법도 있다.\n",
        "mtcars %>% \n",
        "  split(.$cyl) %>% \n",
        "  map(function(df) lm(mpg ~ wt, data = df)) #function을 map안에다가 써줄 수 있다.\n"
      ],
      "execution_count": 52,
      "outputs": [
        {
          "output_type": "display_data",
          "data": {
            "text/plain": [
              "$`4`\n",
              "\n",
              "Call:\n",
              "lm(formula = mpg ~ wt, data = df)\n",
              "\n",
              "Coefficients:\n",
              "(Intercept)           wt  \n",
              "     39.571       -5.647  \n",
              "\n",
              "\n",
              "$`6`\n",
              "\n",
              "Call:\n",
              "lm(formula = mpg ~ wt, data = df)\n",
              "\n",
              "Coefficients:\n",
              "(Intercept)           wt  \n",
              "      28.41        -2.78  \n",
              "\n",
              "\n",
              "$`8`\n",
              "\n",
              "Call:\n",
              "lm(formula = mpg ~ wt, data = df)\n",
              "\n",
              "Coefficients:\n",
              "(Intercept)           wt  \n",
              "     23.868       -2.192  \n",
              "\n"
            ]
          },
          "metadata": {}
        }
      ]
    },
    {
      "cell_type": "code",
      "metadata": {
        "id": "mVtUbq1_UcPv",
        "colab": {
          "base_uri": "https://localhost:8080/",
          "height": 527
        },
        "outputId": "4c83cf90-4b7b-43f9-82e5-f3fcae55ed32"
      },
      "source": [
        "f1 <- function(df) {\n",
        "  lm(mpg ~ wt, data = df)\n",
        "}\n",
        "mtcars %>% \n",
        "  split(.$cyl) %>% \n",
        "  map(f1)"
      ],
      "execution_count": 53,
      "outputs": [
        {
          "output_type": "display_data",
          "data": {
            "text/plain": [
              "$`4`\n",
              "\n",
              "Call:\n",
              "lm(formula = mpg ~ wt, data = df)\n",
              "\n",
              "Coefficients:\n",
              "(Intercept)           wt  \n",
              "     39.571       -5.647  \n",
              "\n",
              "\n",
              "$`6`\n",
              "\n",
              "Call:\n",
              "lm(formula = mpg ~ wt, data = df)\n",
              "\n",
              "Coefficients:\n",
              "(Intercept)           wt  \n",
              "      28.41        -2.78  \n",
              "\n",
              "\n",
              "$`8`\n",
              "\n",
              "Call:\n",
              "lm(formula = mpg ~ wt, data = df)\n",
              "\n",
              "Coefficients:\n",
              "(Intercept)           wt  \n",
              "     23.868       -2.192  \n",
              "\n"
            ]
          },
          "metadata": {}
        }
      ]
    },
    {
      "cell_type": "code",
      "metadata": {
        "id": "i7gSsRAbUcEf",
        "colab": {
          "base_uri": "https://localhost:8080/",
          "height": 527
        },
        "outputId": "0f27ecfd-519a-46c3-b4b9-6374766fcf70"
      },
      "source": [
        "mtcars %>% \n",
        "  split(.$cyl) %>% \n",
        "  map(~lm(mpg ~ wt, data = .))\n",
        "#이 방법 처럼 ~를 해준 다음에 데이터가 들어갈 장소에는 .을 해주는 방법도 있다."
      ],
      "execution_count": 54,
      "outputs": [
        {
          "output_type": "display_data",
          "data": {
            "text/plain": [
              "$`4`\n",
              "\n",
              "Call:\n",
              "lm(formula = mpg ~ wt, data = .)\n",
              "\n",
              "Coefficients:\n",
              "(Intercept)           wt  \n",
              "     39.571       -5.647  \n",
              "\n",
              "\n",
              "$`6`\n",
              "\n",
              "Call:\n",
              "lm(formula = mpg ~ wt, data = .)\n",
              "\n",
              "Coefficients:\n",
              "(Intercept)           wt  \n",
              "      28.41        -2.78  \n",
              "\n",
              "\n",
              "$`8`\n",
              "\n",
              "Call:\n",
              "lm(formula = mpg ~ wt, data = .)\n",
              "\n",
              "Coefficients:\n",
              "(Intercept)           wt  \n",
              "     23.868       -2.192  \n",
              "\n"
            ]
          },
          "metadata": {}
        }
      ]
    },
    {
      "cell_type": "code",
      "metadata": {
        "id": "5f8uZitZBn7m",
        "colab": {
          "base_uri": "https://localhost:8080/",
          "height": 34
        },
        "outputId": "6185f993-298b-4e08-d363-b79fc87b66a9"
      },
      "source": [
        "df %>% map_dbl(mean)"
      ],
      "execution_count": 55,
      "outputs": [
        {
          "output_type": "display_data",
          "data": {
            "text/plain": [
              "         a          b          c          d \n",
              "-0.3608153  0.2552626 -0.1211017  0.4586954 "
            ],
            "text/latex": "\\begin{description*}\n\\item[a] -0.360815265834441\n\\item[b] 0.255262582862792\n\\item[c] -0.121101743868287\n\\item[d] 0.458695408208068\n\\end{description*}\n",
            "text/markdown": "a\n:   -0.360815265834441b\n:   0.255262582862792c\n:   -0.121101743868287d\n:   0.458695408208068\n\n",
            "text/html": [
              "<style>\n",
              ".dl-inline {width: auto; margin:0; padding: 0}\n",
              ".dl-inline>dt, .dl-inline>dd {float: none; width: auto; display: inline-block}\n",
              ".dl-inline>dt::after {content: \":\\0020\"; padding-right: .5ex}\n",
              ".dl-inline>dt:not(:first-of-type) {padding-left: .5ex}\n",
              "</style><dl class=dl-inline><dt>a</dt><dd>-0.360815265834441</dd><dt>b</dt><dd>0.255262582862792</dd><dt>c</dt><dd>-0.121101743868287</dd><dt>d</dt><dd>0.458695408208068</dd></dl>\n"
            ]
          },
          "metadata": {}
        }
      ]
    },
    {
      "cell_type": "code",
      "metadata": {
        "id": "eOn2mGY2BjHh",
        "colab": {
          "base_uri": "https://localhost:8080/",
          "height": 34
        },
        "outputId": "18a59166-b1d1-499d-f670-87ab7b923575"
      },
      "source": [
        "df %>% map_dbl(~mean(.))\n",
        "#mean이란 함수에 .안의 데이터를 사용해라 하는 것이다.\n",
        "# ~표시하고 .을 한 방법이 위에 적어 놓은 코드랑 비슷하다는 것을 알 수 있다."
      ],
      "execution_count": 56,
      "outputs": [
        {
          "output_type": "display_data",
          "data": {
            "text/plain": [
              "         a          b          c          d \n",
              "-0.3608153  0.2552626 -0.1211017  0.4586954 "
            ],
            "text/latex": "\\begin{description*}\n\\item[a] -0.360815265834441\n\\item[b] 0.255262582862792\n\\item[c] -0.121101743868287\n\\item[d] 0.458695408208068\n\\end{description*}\n",
            "text/markdown": "a\n:   -0.360815265834441b\n:   0.255262582862792c\n:   -0.121101743868287d\n:   0.458695408208068\n\n",
            "text/html": [
              "<style>\n",
              ".dl-inline {width: auto; margin:0; padding: 0}\n",
              ".dl-inline>dt, .dl-inline>dd {float: none; width: auto; display: inline-block}\n",
              ".dl-inline>dt::after {content: \":\\0020\"; padding-right: .5ex}\n",
              ".dl-inline>dt:not(:first-of-type) {padding-left: .5ex}\n",
              "</style><dl class=dl-inline><dt>a</dt><dd>-0.360815265834441</dd><dt>b</dt><dd>0.255262582862792</dd><dt>c</dt><dd>-0.121101743868287</dd><dt>d</dt><dd>0.458695408208068</dd></dl>\n"
            ]
          },
          "metadata": {}
        }
      ]
    },
    {
      "cell_type": "markdown",
      "metadata": {
        "id": "6QObZEBrVPyB"
      },
      "source": [
        "## Extract Component"
      ]
    },
    {
      "cell_type": "code",
      "metadata": {
        "id": "ckMPCo4CByzS",
        "colab": {
          "base_uri": "https://localhost:8080/",
          "height": 1000
        },
        "outputId": "afecf571-0185-481f-a67f-8d55c7f83dae"
      },
      "source": [
        "mtcars %>% \n",
        "  split(.$cyl) %>% \n",
        "  map(~lm(mpg ~ wt, data = .)) %>% \n",
        "  map(summary) \n",
        "#이렇게 하면 cyl더 별로 lm돌린거의 summary가 정리 된 것을 볼 수 있다."
      ],
      "execution_count": 57,
      "outputs": [
        {
          "output_type": "display_data",
          "data": {
            "text/plain": [
              "$`4`\n",
              "\n",
              "Call:\n",
              "lm(formula = mpg ~ wt, data = .)\n",
              "\n",
              "Residuals:\n",
              "    Min      1Q  Median      3Q     Max \n",
              "-4.1513 -1.9795 -0.6272  1.9299  5.2523 \n",
              "\n",
              "Coefficients:\n",
              "            Estimate Std. Error t value Pr(>|t|)    \n",
              "(Intercept)   39.571      4.347   9.104 7.77e-06 ***\n",
              "wt            -5.647      1.850  -3.052   0.0137 *  \n",
              "---\n",
              "Signif. codes:  0 ‘***’ 0.001 ‘**’ 0.01 ‘*’ 0.05 ‘.’ 0.1 ‘ ’ 1\n",
              "\n",
              "Residual standard error: 3.332 on 9 degrees of freedom\n",
              "Multiple R-squared:  0.5086,\tAdjusted R-squared:  0.454 \n",
              "F-statistic: 9.316 on 1 and 9 DF,  p-value: 0.01374\n",
              "\n",
              "\n",
              "$`6`\n",
              "\n",
              "Call:\n",
              "lm(formula = mpg ~ wt, data = .)\n",
              "\n",
              "Residuals:\n",
              "     Mazda RX4  Mazda RX4 Wag Hornet 4 Drive        Valiant       Merc 280 \n",
              "       -0.1250         0.5840         1.9292        -0.6897         0.3547 \n",
              "     Merc 280C   Ferrari Dino \n",
              "       -1.0453        -1.0080 \n",
              "\n",
              "Coefficients:\n",
              "            Estimate Std. Error t value Pr(>|t|)   \n",
              "(Intercept)   28.409      4.184   6.789  0.00105 **\n",
              "wt            -2.780      1.335  -2.083  0.09176 . \n",
              "---\n",
              "Signif. codes:  0 ‘***’ 0.001 ‘**’ 0.01 ‘*’ 0.05 ‘.’ 0.1 ‘ ’ 1\n",
              "\n",
              "Residual standard error: 1.165 on 5 degrees of freedom\n",
              "Multiple R-squared:  0.4645,\tAdjusted R-squared:  0.3574 \n",
              "F-statistic: 4.337 on 1 and 5 DF,  p-value: 0.09176\n",
              "\n",
              "\n",
              "$`8`\n",
              "\n",
              "Call:\n",
              "lm(formula = mpg ~ wt, data = .)\n",
              "\n",
              "Residuals:\n",
              "    Min      1Q  Median      3Q     Max \n",
              "-2.1491 -1.4664 -0.8458  1.5711  3.7619 \n",
              "\n",
              "Coefficients:\n",
              "            Estimate Std. Error t value Pr(>|t|)    \n",
              "(Intercept)  23.8680     3.0055   7.942 4.05e-06 ***\n",
              "wt           -2.1924     0.7392  -2.966   0.0118 *  \n",
              "---\n",
              "Signif. codes:  0 ‘***’ 0.001 ‘**’ 0.01 ‘*’ 0.05 ‘.’ 0.1 ‘ ’ 1\n",
              "\n",
              "Residual standard error: 2.024 on 12 degrees of freedom\n",
              "Multiple R-squared:  0.423,\tAdjusted R-squared:  0.3749 \n",
              "F-statistic: 8.796 on 1 and 12 DF,  p-value: 0.01179\n",
              "\n"
            ]
          },
          "metadata": {}
        }
      ]
    },
    {
      "cell_type": "code",
      "metadata": {
        "id": "RjhdIZugUb4h",
        "colab": {
          "base_uri": "https://localhost:8080/",
          "height": 34
        },
        "outputId": "356a3767-c9d4-45eb-9af1-79d80fe658b1"
      },
      "source": [
        "mtcars %>% \n",
        "  split(.$cyl) %>% \n",
        "  map(~lm(mpg ~ wt, data = .)) %>% \n",
        "  map(summary) %>% \n",
        "  map_dbl(~.$r.squared)\n",
        "#summary에서 r.squared를 추출하고 싶은 것이다."
      ],
      "execution_count": 58,
      "outputs": [
        {
          "output_type": "display_data",
          "data": {
            "text/plain": [
              "        4         6         8 \n",
              "0.5086326 0.4645102 0.4229655 "
            ],
            "text/latex": "\\begin{description*}\n\\item[4] 0.50863259632314\n\\item[6] 0.464510150550548\n\\item[8] 0.422965536496111\n\\end{description*}\n",
            "text/markdown": "4\n:   0.508632596323146\n:   0.4645101505505488\n:   0.422965536496111\n\n",
            "text/html": [
              "<style>\n",
              ".dl-inline {width: auto; margin:0; padding: 0}\n",
              ".dl-inline>dt, .dl-inline>dd {float: none; width: auto; display: inline-block}\n",
              ".dl-inline>dt::after {content: \":\\0020\"; padding-right: .5ex}\n",
              ".dl-inline>dt:not(:first-of-type) {padding-left: .5ex}\n",
              "</style><dl class=dl-inline><dt>4</dt><dd>0.50863259632314</dd><dt>6</dt><dd>0.464510150550548</dd><dt>8</dt><dd>0.422965536496111</dd></dl>\n"
            ]
          },
          "metadata": {}
        }
      ]
    },
    {
      "cell_type": "code",
      "metadata": {
        "id": "2o5geQ5RVUVt",
        "colab": {
          "base_uri": "https://localhost:8080/",
          "height": 34
        },
        "outputId": "e6991acd-2eee-4317-ca90-8b586334906b"
      },
      "source": [
        "mtcars %>% \n",
        "  split(.$cyl) %>% \n",
        "  map(~lm(mpg ~ wt, data = .)) %>% \n",
        "  map(summary) %>% \n",
        "  map_dbl('r.squared') #이렇게 변수명을 호출해줘서 뽑아내주는 방법도 있다.\n"
      ],
      "execution_count": 59,
      "outputs": [
        {
          "output_type": "display_data",
          "data": {
            "text/plain": [
              "        4         6         8 \n",
              "0.5086326 0.4645102 0.4229655 "
            ],
            "text/latex": "\\begin{description*}\n\\item[4] 0.50863259632314\n\\item[6] 0.464510150550548\n\\item[8] 0.422965536496111\n\\end{description*}\n",
            "text/markdown": "4\n:   0.508632596323146\n:   0.4645101505505488\n:   0.422965536496111\n\n",
            "text/html": [
              "<style>\n",
              ".dl-inline {width: auto; margin:0; padding: 0}\n",
              ".dl-inline>dt, .dl-inline>dd {float: none; width: auto; display: inline-block}\n",
              ".dl-inline>dt::after {content: \":\\0020\"; padding-right: .5ex}\n",
              ".dl-inline>dt:not(:first-of-type) {padding-left: .5ex}\n",
              "</style><dl class=dl-inline><dt>4</dt><dd>0.50863259632314</dd><dt>6</dt><dd>0.464510150550548</dd><dt>8</dt><dd>0.422965536496111</dd></dl>\n"
            ]
          },
          "metadata": {}
        }
      ]
    },
    {
      "cell_type": "markdown",
      "metadata": {
        "id": "FAOULT0-Vy_k"
      },
      "source": [
        "You can also use an integer to select elements by position"
      ]
    },
    {
      "cell_type": "markdown",
      "metadata": {
        "id": "ZB9sQsNSAPIQ"
      },
      "source": [
        "* 위치 정보를 쳤을 때도 위치의 값을 뽑아 내 준다는 것을 알 수 있다."
      ]
    },
    {
      "cell_type": "code",
      "metadata": {
        "id": "JDOtIgsyVjju",
        "colab": {
          "base_uri": "https://localhost:8080/",
          "height": 34
        },
        "outputId": "7ac24bc3-025d-4e09-bb96-59e5724af16b"
      },
      "source": [
        "x <- list(list(1, 2, 3), list(4, 5, 6), list(7, 8, 9))\n",
        "x %>% map_dbl(2)\n",
        "#> [1] 2 5 8\n"
      ],
      "execution_count": 61,
      "outputs": [
        {
          "output_type": "display_data",
          "data": {
            "text/plain": [
              "[1] 2 5 8"
            ],
            "text/latex": "\\begin{enumerate*}\n\\item 2\n\\item 5\n\\item 8\n\\end{enumerate*}\n",
            "text/markdown": "1. 2\n2. 5\n3. 8\n\n\n",
            "text/html": [
              "<style>\n",
              ".list-inline {list-style: none; margin:0; padding: 0}\n",
              ".list-inline>li {display: inline-block}\n",
              ".list-inline>li:not(:last-child)::after {content: \"\\00b7\"; padding: 0 .5ex}\n",
              "</style>\n",
              "<ol class=list-inline><li>2</li><li>5</li><li>8</li></ol>\n"
            ]
          },
          "metadata": {}
        }
      ]
    },
    {
      "cell_type": "markdown",
      "metadata": {
        "id": "yuA-g_SibwXC"
      },
      "source": [
        "* map_dbl(2)를 하게 되면, list에 두번째꺼만 뽑아내 주는 것을 알 수 있다."
      ]
    },
    {
      "cell_type": "code",
      "metadata": {
        "id": "HX2eRbamVjZI",
        "colab": {
          "base_uri": "https://localhost:8080/",
          "height": 196
        },
        "outputId": "5be103d9-9ca3-4537-c6fa-9f75eb6c8202"
      },
      "source": [
        "x"
      ],
      "execution_count": 62,
      "outputs": [
        {
          "output_type": "display_data",
          "data": {
            "text/plain": [
              "[[1]]\n",
              "[[1]][[1]]\n",
              "[1] 1\n",
              "\n",
              "[[1]][[2]]\n",
              "[1] 2\n",
              "\n",
              "[[1]][[3]]\n",
              "[1] 3\n",
              "\n",
              "\n",
              "[[2]]\n",
              "[[2]][[1]]\n",
              "[1] 4\n",
              "\n",
              "[[2]][[2]]\n",
              "[1] 5\n",
              "\n",
              "[[2]][[3]]\n",
              "[1] 6\n",
              "\n",
              "\n",
              "[[3]]\n",
              "[[3]][[1]]\n",
              "[1] 7\n",
              "\n",
              "[[3]][[2]]\n",
              "[1] 8\n",
              "\n",
              "[[3]][[3]]\n",
              "[1] 9\n",
              "\n"
            ],
            "text/latex": "\\begin{enumerate}\n\\item \\begin{enumerate}\n\\item 1\n\\item 2\n\\item 3\n\\end{enumerate}\n\n\\item \\begin{enumerate}\n\\item 4\n\\item 5\n\\item 6\n\\end{enumerate}\n\n\\item \\begin{enumerate}\n\\item 7\n\\item 8\n\\item 9\n\\end{enumerate}\n\n\\end{enumerate}\n",
            "text/markdown": "1. 1. 1\n2. 2\n3. 3\n\n\n\n2. 1. 4\n2. 5\n3. 6\n\n\n\n3. 1. 7\n2. 8\n3. 9\n\n\n\n\n\n",
            "text/html": [
              "<ol>\n",
              "\t<li><ol>\n",
              "\t<li>1</li>\n",
              "\t<li>2</li>\n",
              "\t<li>3</li>\n",
              "</ol>\n",
              "</li>\n",
              "\t<li><ol>\n",
              "\t<li>4</li>\n",
              "\t<li>5</li>\n",
              "\t<li>6</li>\n",
              "</ol>\n",
              "</li>\n",
              "\t<li><ol>\n",
              "\t<li>7</li>\n",
              "\t<li>8</li>\n",
              "\t<li>9</li>\n",
              "</ol>\n",
              "</li>\n",
              "</ol>\n"
            ]
          },
          "metadata": {}
        }
      ]
    },
    {
      "cell_type": "code",
      "metadata": {
        "id": "1IdJCeWrVjQp"
      },
      "source": [
        ""
      ],
      "execution_count": null,
      "outputs": []
    },
    {
      "cell_type": "markdown",
      "metadata": {
        "id": "2Lk6MKBCV2ru"
      },
      "source": [
        "Functional Programming is memory efficient by not saving internal calculations. Easier to understand if you get used to it. \n",
        "\n",
        "Is it fater as well? "
      ]
    },
    {
      "cell_type": "markdown",
      "metadata": {
        "id": "Jz2r35kHAoeg"
      },
      "source": [
        "* 교수님이 For loops한게 것보다 Functional Programming을 한게 더 빠를지 한 번 해본 것이다."
      ]
    },
    {
      "cell_type": "code",
      "metadata": {
        "id": "WrOi6XEJTl3G"
      },
      "source": [
        "n_len = 10"
      ],
      "execution_count": 63,
      "outputs": []
    },
    {
      "cell_type": "code",
      "metadata": {
        "id": "45LMBjgdChBA",
        "colab": {
          "base_uri": "https://localhost:8080/",
          "height": 34
        },
        "outputId": "6e3075cb-1b5e-412a-abd6-23aa20cb358f"
      },
      "source": [
        "rep(10,n_len)  #10개의 10으로 구성된 벡터를 만들었다."
      ],
      "execution_count": 64,
      "outputs": [
        {
          "output_type": "display_data",
          "data": {
            "text/plain": [
              " [1] 10 10 10 10 10 10 10 10 10 10"
            ],
            "text/latex": "\\begin{enumerate*}\n\\item 10\n\\item 10\n\\item 10\n\\item 10\n\\item 10\n\\item 10\n\\item 10\n\\item 10\n\\item 10\n\\item 10\n\\end{enumerate*}\n",
            "text/markdown": "1. 10\n2. 10\n3. 10\n4. 10\n5. 10\n6. 10\n7. 10\n8. 10\n9. 10\n10. 10\n\n\n",
            "text/html": [
              "<style>\n",
              ".list-inline {list-style: none; margin:0; padding: 0}\n",
              ".list-inline>li {display: inline-block}\n",
              ".list-inline>li:not(:last-child)::after {content: \"\\00b7\"; padding: 0 .5ex}\n",
              "</style>\n",
              "<ol class=list-inline><li>10</li><li>10</li><li>10</li><li>10</li><li>10</li><li>10</li><li>10</li><li>10</li><li>10</li><li>10</li></ol>\n"
            ]
          },
          "metadata": {}
        }
      ]
    },
    {
      "cell_type": "markdown",
      "metadata": {
        "id": "oJjX3ZCSc7ad"
      },
      "source": [
        "* map과 같은게 tidy에서 사용하는 map function함수이다."
      ]
    },
    {
      "cell_type": "code",
      "metadata": {
        "id": "g-KTb1qwSzvP",
        "colab": {
          "base_uri": "https://localhost:8080/",
          "height": 230
        },
        "outputId": "e77c8959-fdfb-4502-a898-d250af8043c1"
      },
      "source": [
        "rep(10,n_len) %>% map(rnorm) #그럼 각각의 component들이 rnorm안에 들어가게 끔해준다."
      ],
      "execution_count": 65,
      "outputs": [
        {
          "output_type": "display_data",
          "data": {
            "text/plain": [
              "[[1]]\n",
              " [1] -0.5379695  0.2179766 -0.7158670 -0.6953687 -1.1348121  0.5599007\n",
              " [7] -1.6815741  1.5977406  0.2320241 -0.2403005\n",
              "\n",
              "[[2]]\n",
              " [1] -1.0856519 -0.3222989 -0.3422397  0.4256958 -1.0316564 -0.5708526\n",
              " [7] -0.2393295  0.2403320  1.0301419  1.3492682\n",
              "\n",
              "[[3]]\n",
              " [1]  1.3296650 -1.2943837  1.4889971 -1.1102600 -0.9745706  1.3692284\n",
              " [7]  0.9917543  0.4815053  1.2100055  1.2333910\n",
              "\n",
              "[[4]]\n",
              " [1] -0.4208991  1.3816134 -0.9125707  0.8353234  2.1207026  0.6322801\n",
              " [7] -0.4984814 -1.0050580 -0.7853079  0.2383634\n",
              "\n",
              "[[5]]\n",
              " [1]  0.7193020  0.9016706 -0.2411966  1.2869804  0.5969977  0.7224255\n",
              " [7]  1.9973396  0.2549785 -0.5114970  0.5868531\n",
              "\n",
              "[[6]]\n",
              " [1]  0.4538627 -1.5640717  0.9186204  0.8559113 -0.7912917 -0.2153125\n",
              " [7]  0.3975411  1.1731968  2.1818624 -0.8386720\n",
              "\n",
              "[[7]]\n",
              " [1] -0.06692267 -0.34060224 -0.01975590  1.73575339  0.17623605  0.50086182\n",
              " [7] -1.22085827  1.06954355 -0.85606973 -1.11645875\n",
              "\n",
              "[[8]]\n",
              " [1] -1.58200804  0.82985631 -0.04846428  0.14876852  2.48710238  0.30067378\n",
              " [7]  0.72966625 -1.22209713 -0.28715287 -1.62875714\n",
              "\n",
              "[[9]]\n",
              " [1] -0.8780552 -1.8642387 -0.1248344 -0.2813899 -0.2156018  0.4371840\n",
              " [7]  0.3252019  0.5703771  1.3556495  0.5239170\n",
              "\n",
              "[[10]]\n",
              " [1] -1.07812005 -0.90868028 -0.28271517 -1.45966470 -0.00337333 -0.41757865\n",
              " [7]  0.08448391 -0.69724039  0.96205229  0.58956404\n"
            ],
            "text/latex": "\\begin{enumerate}\n\\item \\begin{enumerate*}\n\\item -0.537969457075442\n\\item 0.217976566229956\n\\item -0.715867001314094\n\\item -0.695368679248995\n\\item -1.13481206615717\n\\item 0.559900687682794\n\\item -1.68157409933966\n\\item 1.597740646508\n\\item 0.232024100509359\n\\item -0.240300472946717\n\\end{enumerate*}\n\n\\item \\begin{enumerate*}\n\\item -1.08565187743188\n\\item -0.322298850589778\n\\item -0.342239704193437\n\\item 0.425695842720922\n\\item -1.03165640627959\n\\item -0.570852636486343\n\\item -0.239329547389604\n\\item 0.240332020232409\n\\item 1.03014188699567\n\\item 1.34926824803509\n\\end{enumerate*}\n\n\\item \\begin{enumerate*}\n\\item 1.32966500701991\n\\item -1.29438372267729\n\\item 1.48899709903585\n\\item -1.11026003949869\n\\item -0.974570566352634\n\\item 1.36922839446705\n\\item 0.991754267900258\n\\item 0.481505313019007\n\\item 1.21000552884699\n\\item 1.2333909696514\n\\end{enumerate*}\n\n\\item \\begin{enumerate*}\n\\item -0.420899053110917\n\\item 1.38161335645434\n\\item -0.912570706361256\n\\item 0.835323358674297\n\\item 2.12070261929593\n\\item 0.63228011483851\n\\item -0.498481410686251\n\\item -1.00505795521993\n\\item -0.785307864295697\n\\item 0.238363392889842\n\\end{enumerate*}\n\n\\item \\begin{enumerate*}\n\\item 0.719302010518926\n\\item 0.901670579065576\n\\item -0.241196573550155\n\\item 1.28698035714197\n\\item 0.596997744030161\n\\item 0.722425548272421\n\\item 1.99733956767092\n\\item 0.254978535332773\n\\item -0.511496977906038\n\\item 0.58685310580888\n\\end{enumerate*}\n\n\\item \\begin{enumerate*}\n\\item 0.453862675233444\n\\item -1.56407173091743\n\\item 0.918620382665841\n\\item 0.855911273847826\n\\item -0.791291729250482\n\\item -0.215312475013201\n\\item 0.397541132766599\n\\item 1.17319682750487\n\\item 2.18186243782708\n\\item -0.838672028458905\n\\end{enumerate*}\n\n\\item \\begin{enumerate*}\n\\item -0.0669226728015591\n\\item -0.340602242694753\n\\item -0.0197559004395134\n\\item 1.73575338965094\n\\item 0.176236052231146\n\\item 0.500861822295433\n\\item -1.22085826535973\n\\item 1.06954355178774\n\\item -0.85606972969232\n\\item -1.11645875435395\n\\end{enumerate*}\n\n\\item \\begin{enumerate*}\n\\item -1.58200803716797\n\\item 0.829856311781491\n\\item -0.0484642843170195\n\\item 0.148768522863354\n\\item 2.48710238428627\n\\item 0.300673782918869\n\\item 0.729666245184611\n\\item -1.22209713286986\n\\item -0.287152865942717\n\\item -1.62875713583412\n\\end{enumerate*}\n\n\\item \\begin{enumerate*}\n\\item -0.878055245972133\n\\item -1.86423874533221\n\\item -0.124834365247612\n\\item -0.281389869858178\n\\item -0.215601840615952\n\\item 0.437184045606105\n\\item 0.32520191558245\n\\item 0.570377087888444\n\\item 1.35564948298835\n\\item 0.523917019979373\n\\end{enumerate*}\n\n\\item \\begin{enumerate*}\n\\item -1.07812005122945\n\\item -0.908680284082838\n\\item -0.282715170392901\n\\item -1.45966469635831\n\\item -0.00337333000568534\n\\item -0.417578651815834\n\\item 0.0844839098747537\n\\item -0.697240386397629\n\\item 0.962052291367472\n\\item 0.589564037119624\n\\end{enumerate*}\n\n\\end{enumerate}\n",
            "text/markdown": "1. 1. -0.537969457075442\n2. 0.217976566229956\n3. -0.715867001314094\n4. -0.695368679248995\n5. -1.13481206615717\n6. 0.559900687682794\n7. -1.68157409933966\n8. 1.597740646508\n9. 0.232024100509359\n10. -0.240300472946717\n\n\n\n2. 1. -1.08565187743188\n2. -0.322298850589778\n3. -0.342239704193437\n4. 0.425695842720922\n5. -1.03165640627959\n6. -0.570852636486343\n7. -0.239329547389604\n8. 0.240332020232409\n9. 1.03014188699567\n10. 1.34926824803509\n\n\n\n3. 1. 1.32966500701991\n2. -1.29438372267729\n3. 1.48899709903585\n4. -1.11026003949869\n5. -0.974570566352634\n6. 1.36922839446705\n7. 0.991754267900258\n8. 0.481505313019007\n9. 1.21000552884699\n10. 1.2333909696514\n\n\n\n4. 1. -0.420899053110917\n2. 1.38161335645434\n3. -0.912570706361256\n4. 0.835323358674297\n5. 2.12070261929593\n6. 0.63228011483851\n7. -0.498481410686251\n8. -1.00505795521993\n9. -0.785307864295697\n10. 0.238363392889842\n\n\n\n5. 1. 0.719302010518926\n2. 0.901670579065576\n3. -0.241196573550155\n4. 1.28698035714197\n5. 0.596997744030161\n6. 0.722425548272421\n7. 1.99733956767092\n8. 0.254978535332773\n9. -0.511496977906038\n10. 0.58685310580888\n\n\n\n6. 1. 0.453862675233444\n2. -1.56407173091743\n3. 0.918620382665841\n4. 0.855911273847826\n5. -0.791291729250482\n6. -0.215312475013201\n7. 0.397541132766599\n8. 1.17319682750487\n9. 2.18186243782708\n10. -0.838672028458905\n\n\n\n7. 1. -0.0669226728015591\n2. -0.340602242694753\n3. -0.0197559004395134\n4. 1.73575338965094\n5. 0.176236052231146\n6. 0.500861822295433\n7. -1.22085826535973\n8. 1.06954355178774\n9. -0.85606972969232\n10. -1.11645875435395\n\n\n\n8. 1. -1.58200803716797\n2. 0.829856311781491\n3. -0.0484642843170195\n4. 0.148768522863354\n5. 2.48710238428627\n6. 0.300673782918869\n7. 0.729666245184611\n8. -1.22209713286986\n9. -0.287152865942717\n10. -1.62875713583412\n\n\n\n9. 1. -0.878055245972133\n2. -1.86423874533221\n3. -0.124834365247612\n4. -0.281389869858178\n5. -0.215601840615952\n6. 0.437184045606105\n7. 0.32520191558245\n8. 0.570377087888444\n9. 1.35564948298835\n10. 0.523917019979373\n\n\n\n10. 1. -1.07812005122945\n2. -0.908680284082838\n3. -0.282715170392901\n4. -1.45966469635831\n5. -0.00337333000568534\n6. -0.417578651815834\n7. 0.0844839098747537\n8. -0.697240386397629\n9. 0.962052291367472\n10. 0.589564037119624\n\n\n\n\n\n",
            "text/html": [
              "<ol>\n",
              "\t<li><style>\n",
              ".list-inline {list-style: none; margin:0; padding: 0}\n",
              ".list-inline>li {display: inline-block}\n",
              ".list-inline>li:not(:last-child)::after {content: \"\\00b7\"; padding: 0 .5ex}\n",
              "</style>\n",
              "<ol class=list-inline><li>-0.537969457075442</li><li>0.217976566229956</li><li>-0.715867001314094</li><li>-0.695368679248995</li><li>-1.13481206615717</li><li>0.559900687682794</li><li>-1.68157409933966</li><li>1.597740646508</li><li>0.232024100509359</li><li>-0.240300472946717</li></ol>\n",
              "</li>\n",
              "\t<li><style>\n",
              ".list-inline {list-style: none; margin:0; padding: 0}\n",
              ".list-inline>li {display: inline-block}\n",
              ".list-inline>li:not(:last-child)::after {content: \"\\00b7\"; padding: 0 .5ex}\n",
              "</style>\n",
              "<ol class=list-inline><li>-1.08565187743188</li><li>-0.322298850589778</li><li>-0.342239704193437</li><li>0.425695842720922</li><li>-1.03165640627959</li><li>-0.570852636486343</li><li>-0.239329547389604</li><li>0.240332020232409</li><li>1.03014188699567</li><li>1.34926824803509</li></ol>\n",
              "</li>\n",
              "\t<li><style>\n",
              ".list-inline {list-style: none; margin:0; padding: 0}\n",
              ".list-inline>li {display: inline-block}\n",
              ".list-inline>li:not(:last-child)::after {content: \"\\00b7\"; padding: 0 .5ex}\n",
              "</style>\n",
              "<ol class=list-inline><li>1.32966500701991</li><li>-1.29438372267729</li><li>1.48899709903585</li><li>-1.11026003949869</li><li>-0.974570566352634</li><li>1.36922839446705</li><li>0.991754267900258</li><li>0.481505313019007</li><li>1.21000552884699</li><li>1.2333909696514</li></ol>\n",
              "</li>\n",
              "\t<li><style>\n",
              ".list-inline {list-style: none; margin:0; padding: 0}\n",
              ".list-inline>li {display: inline-block}\n",
              ".list-inline>li:not(:last-child)::after {content: \"\\00b7\"; padding: 0 .5ex}\n",
              "</style>\n",
              "<ol class=list-inline><li>-0.420899053110917</li><li>1.38161335645434</li><li>-0.912570706361256</li><li>0.835323358674297</li><li>2.12070261929593</li><li>0.63228011483851</li><li>-0.498481410686251</li><li>-1.00505795521993</li><li>-0.785307864295697</li><li>0.238363392889842</li></ol>\n",
              "</li>\n",
              "\t<li><style>\n",
              ".list-inline {list-style: none; margin:0; padding: 0}\n",
              ".list-inline>li {display: inline-block}\n",
              ".list-inline>li:not(:last-child)::after {content: \"\\00b7\"; padding: 0 .5ex}\n",
              "</style>\n",
              "<ol class=list-inline><li>0.719302010518926</li><li>0.901670579065576</li><li>-0.241196573550155</li><li>1.28698035714197</li><li>0.596997744030161</li><li>0.722425548272421</li><li>1.99733956767092</li><li>0.254978535332773</li><li>-0.511496977906038</li><li>0.58685310580888</li></ol>\n",
              "</li>\n",
              "\t<li><style>\n",
              ".list-inline {list-style: none; margin:0; padding: 0}\n",
              ".list-inline>li {display: inline-block}\n",
              ".list-inline>li:not(:last-child)::after {content: \"\\00b7\"; padding: 0 .5ex}\n",
              "</style>\n",
              "<ol class=list-inline><li>0.453862675233444</li><li>-1.56407173091743</li><li>0.918620382665841</li><li>0.855911273847826</li><li>-0.791291729250482</li><li>-0.215312475013201</li><li>0.397541132766599</li><li>1.17319682750487</li><li>2.18186243782708</li><li>-0.838672028458905</li></ol>\n",
              "</li>\n",
              "\t<li><style>\n",
              ".list-inline {list-style: none; margin:0; padding: 0}\n",
              ".list-inline>li {display: inline-block}\n",
              ".list-inline>li:not(:last-child)::after {content: \"\\00b7\"; padding: 0 .5ex}\n",
              "</style>\n",
              "<ol class=list-inline><li>-0.0669226728015591</li><li>-0.340602242694753</li><li>-0.0197559004395134</li><li>1.73575338965094</li><li>0.176236052231146</li><li>0.500861822295433</li><li>-1.22085826535973</li><li>1.06954355178774</li><li>-0.85606972969232</li><li>-1.11645875435395</li></ol>\n",
              "</li>\n",
              "\t<li><style>\n",
              ".list-inline {list-style: none; margin:0; padding: 0}\n",
              ".list-inline>li {display: inline-block}\n",
              ".list-inline>li:not(:last-child)::after {content: \"\\00b7\"; padding: 0 .5ex}\n",
              "</style>\n",
              "<ol class=list-inline><li>-1.58200803716797</li><li>0.829856311781491</li><li>-0.0484642843170195</li><li>0.148768522863354</li><li>2.48710238428627</li><li>0.300673782918869</li><li>0.729666245184611</li><li>-1.22209713286986</li><li>-0.287152865942717</li><li>-1.62875713583412</li></ol>\n",
              "</li>\n",
              "\t<li><style>\n",
              ".list-inline {list-style: none; margin:0; padding: 0}\n",
              ".list-inline>li {display: inline-block}\n",
              ".list-inline>li:not(:last-child)::after {content: \"\\00b7\"; padding: 0 .5ex}\n",
              "</style>\n",
              "<ol class=list-inline><li>-0.878055245972133</li><li>-1.86423874533221</li><li>-0.124834365247612</li><li>-0.281389869858178</li><li>-0.215601840615952</li><li>0.437184045606105</li><li>0.32520191558245</li><li>0.570377087888444</li><li>1.35564948298835</li><li>0.523917019979373</li></ol>\n",
              "</li>\n",
              "\t<li><style>\n",
              ".list-inline {list-style: none; margin:0; padding: 0}\n",
              ".list-inline>li {display: inline-block}\n",
              ".list-inline>li:not(:last-child)::after {content: \"\\00b7\"; padding: 0 .5ex}\n",
              "</style>\n",
              "<ol class=list-inline><li>-1.07812005122945</li><li>-0.908680284082838</li><li>-0.282715170392901</li><li>-1.45966469635831</li><li>-0.00337333000568534</li><li>-0.417578651815834</li><li>0.0844839098747537</li><li>-0.697240386397629</li><li>0.962052291367472</li><li>0.589564037119624</li></ol>\n",
              "</li>\n",
              "</ol>\n"
            ]
          },
          "metadata": {}
        }
      ]
    },
    {
      "cell_type": "code",
      "metadata": {
        "id": "RcPq9l-jTfUA",
        "colab": {
          "base_uri": "https://localhost:8080/",
          "height": 246
        },
        "outputId": "a1a24bc1-e35a-4794-9fa6-72d6bcfe2d31"
      },
      "source": [
        "df2 <- vector(mode = \"list\", length = n_len)\n",
        "for (i in 1:n_len)\n",
        "  df2[[i]] <- rnorm(10)\n",
        "df2"
      ],
      "execution_count": 67,
      "outputs": [
        {
          "output_type": "display_data",
          "data": {
            "text/plain": [
              "[[1]]\n",
              " [1]  0.03762591 -1.45641907  0.48320804 -0.71985835  1.27908210  0.54578825\n",
              " [7] -0.80507408  0.25190695 -0.58861716  0.34956523\n",
              "\n",
              "[[2]]\n",
              " [1]  0.8902504  0.6173491 -0.3981226 -0.6094695  0.7670591  0.8462346\n",
              " [7]  0.5775212  0.7350345  0.5384220 -0.6110352\n",
              "\n",
              "[[3]]\n",
              " [1]  0.3184579  0.7726675  1.1398558 -1.5570850  0.3668499 -2.1022352\n",
              " [7] -1.2419723 -0.1539095  1.1553951 -0.7581311\n",
              "\n",
              "[[4]]\n",
              " [1] -1.3556350 -0.4142594 -0.2264697  1.5470264  1.3522256  0.3624575\n",
              " [7] -1.2942098 -1.2077249  0.6613326 -0.5446584\n",
              "\n",
              "[[5]]\n",
              " [1]  0.723766642 -1.235304538  0.009151907 -2.537743492  0.176520951\n",
              " [6]  0.664913260 -0.020134925  0.315071571  0.879372417 -0.561128421\n",
              "\n",
              "[[6]]\n",
              " [1] -0.16193713 -0.49835271  2.10968094 -1.41552089  0.10540889 -0.02277739\n",
              " [7] -0.47956235 -0.10644125 -0.04577037 -0.16559126\n",
              "\n",
              "[[7]]\n",
              " [1] -1.0218421  0.6557548 -0.7234024 -0.8841588 -1.0805433  0.5024495\n",
              " [7] -1.1149948 -0.4232931 -0.7699422  0.3747811\n",
              "\n",
              "[[8]]\n",
              " [1] -1.6445323  0.5948948  0.5819029  0.3812846 -1.4114449  0.7398728\n",
              " [7]  0.2522330 -0.4450606  1.0376832 -0.7217622\n",
              "\n",
              "[[9]]\n",
              " [1] -0.1357635 -1.2601148 -0.7385406 -0.6971970  0.9165830 -0.2454797\n",
              " [7]  0.1992524  1.3503189 -0.5808397  1.7633986\n",
              "\n",
              "[[10]]\n",
              " [1] -0.1097023  2.6672147 -0.3790138  2.2594046  0.6738796 -1.0713258\n",
              " [7] -0.4916779  1.3856719  0.5534345  0.5655879\n"
            ],
            "text/latex": "\\begin{enumerate}\n\\item \\begin{enumerate*}\n\\item 0.0376259083860956\n\\item -1.4564190746596\n\\item 0.483208035749717\n\\item -0.719858345825249\n\\item 1.27908209787159\n\\item 0.545788253077115\n\\item -0.805074081533642\n\\item 0.251906951277103\n\\item -0.588617155220807\n\\item 0.34956522746994\n\\end{enumerate*}\n\n\\item \\begin{enumerate*}\n\\item 0.890250436213774\n\\item 0.617349073422121\n\\item -0.398122581631241\n\\item -0.609469506344379\n\\item 0.767059144068827\n\\item 0.846234609269764\n\\item 0.577521242798871\n\\item 0.735034538124826\n\\item 0.538422037757051\n\\item -0.611035219098039\n\\end{enumerate*}\n\n\\item \\begin{enumerate*}\n\\item 0.318457926944915\n\\item 0.772667469191294\n\\item 1.13985583826408\n\\item -1.55708495692788\n\\item 0.366849898380825\n\\item -2.10223518571881\n\\item -1.24197228050888\n\\item -0.153909456122893\n\\item 1.1553950720847\n\\item -0.758131117407395\n\\end{enumerate*}\n\n\\item \\begin{enumerate*}\n\\item -1.35563501107389\n\\item -0.414259361244998\n\\item -0.226469742121971\n\\item 1.5470264012861\n\\item 1.35222556314922\n\\item 0.362457535898824\n\\item -1.294209757898\n\\item -1.20772492474764\n\\item 0.66133255151138\n\\item -0.544658436064256\n\\end{enumerate*}\n\n\\item \\begin{enumerate*}\n\\item 0.723766642132914\n\\item -1.23530453752555\n\\item 0.00915190658540482\n\\item -2.53774349246276\n\\item 0.176520950795581\n\\item 0.664913260164356\n\\item -0.0201349253349575\n\\item 0.315071571486792\n\\item 0.879372417490353\n\\item -0.561128420603308\n\\end{enumerate*}\n\n\\item \\begin{enumerate*}\n\\item -0.161937134528551\n\\item -0.498352713165993\n\\item 2.1096809392402\n\\item -1.41552089226711\n\\item 0.105408885517801\n\\item -0.0227773937584697\n\\item -0.47956234938362\n\\item -0.106441254967436\n\\item -0.0457703653845223\n\\item -0.165591262752808\n\\end{enumerate*}\n\n\\item \\begin{enumerate*}\n\\item -1.02184209033543\n\\item 0.655754812158416\n\\item -0.723402353195192\n\\item -0.884158763866489\n\\item -1.08054330603428\n\\item 0.502449545557652\n\\item -1.11499480433278\n\\item -0.423293122910476\n\\item -0.769942229317716\n\\item 0.374781084576576\n\\end{enumerate*}\n\n\\item \\begin{enumerate*}\n\\item -1.64453234264092\n\\item 0.594894838421669\n\\item 0.581902874031541\n\\item 0.381284556957153\n\\item -1.41144492151035\n\\item 0.739872775325695\n\\item 0.252232970655917\n\\item -0.445060594281273\n\\item 1.03768318885555\n\\item -0.721762218576608\n\\end{enumerate*}\n\n\\item \\begin{enumerate*}\n\\item -0.135763462547866\n\\item -1.26011480030066\n\\item -0.738540626657552\n\\item -0.697197039721205\n\\item 0.916583000735041\n\\item -0.245479722920211\n\\item 0.199252384731259\n\\item 1.35031886276737\n\\item -0.580839727065397\n\\item 1.76339858397616\n\\end{enumerate*}\n\n\\item \\begin{enumerate*}\n\\item -0.109702309074615\n\\item 2.66721473310557\n\\item -0.379013842314089\n\\item 2.25940460063605\n\\item 0.673879633853943\n\\item -1.0713257946987\n\\item -0.491677876273341\n\\item 1.38567189680455\n\\item 0.553434457843931\n\\item 0.565587883342525\n\\end{enumerate*}\n\n\\end{enumerate}\n",
            "text/markdown": "1. 1. 0.0376259083860956\n2. -1.4564190746596\n3. 0.483208035749717\n4. -0.719858345825249\n5. 1.27908209787159\n6. 0.545788253077115\n7. -0.805074081533642\n8. 0.251906951277103\n9. -0.588617155220807\n10. 0.34956522746994\n\n\n\n2. 1. 0.890250436213774\n2. 0.617349073422121\n3. -0.398122581631241\n4. -0.609469506344379\n5. 0.767059144068827\n6. 0.846234609269764\n7. 0.577521242798871\n8. 0.735034538124826\n9. 0.538422037757051\n10. -0.611035219098039\n\n\n\n3. 1. 0.318457926944915\n2. 0.772667469191294\n3. 1.13985583826408\n4. -1.55708495692788\n5. 0.366849898380825\n6. -2.10223518571881\n7. -1.24197228050888\n8. -0.153909456122893\n9. 1.1553950720847\n10. -0.758131117407395\n\n\n\n4. 1. -1.35563501107389\n2. -0.414259361244998\n3. -0.226469742121971\n4. 1.5470264012861\n5. 1.35222556314922\n6. 0.362457535898824\n7. -1.294209757898\n8. -1.20772492474764\n9. 0.66133255151138\n10. -0.544658436064256\n\n\n\n5. 1. 0.723766642132914\n2. -1.23530453752555\n3. 0.00915190658540482\n4. -2.53774349246276\n5. 0.176520950795581\n6. 0.664913260164356\n7. -0.0201349253349575\n8. 0.315071571486792\n9. 0.879372417490353\n10. -0.561128420603308\n\n\n\n6. 1. -0.161937134528551\n2. -0.498352713165993\n3. 2.1096809392402\n4. -1.41552089226711\n5. 0.105408885517801\n6. -0.0227773937584697\n7. -0.47956234938362\n8. -0.106441254967436\n9. -0.0457703653845223\n10. -0.165591262752808\n\n\n\n7. 1. -1.02184209033543\n2. 0.655754812158416\n3. -0.723402353195192\n4. -0.884158763866489\n5. -1.08054330603428\n6. 0.502449545557652\n7. -1.11499480433278\n8. -0.423293122910476\n9. -0.769942229317716\n10. 0.374781084576576\n\n\n\n8. 1. -1.64453234264092\n2. 0.594894838421669\n3. 0.581902874031541\n4. 0.381284556957153\n5. -1.41144492151035\n6. 0.739872775325695\n7. 0.252232970655917\n8. -0.445060594281273\n9. 1.03768318885555\n10. -0.721762218576608\n\n\n\n9. 1. -0.135763462547866\n2. -1.26011480030066\n3. -0.738540626657552\n4. -0.697197039721205\n5. 0.916583000735041\n6. -0.245479722920211\n7. 0.199252384731259\n8. 1.35031886276737\n9. -0.580839727065397\n10. 1.76339858397616\n\n\n\n10. 1. -0.109702309074615\n2. 2.66721473310557\n3. -0.379013842314089\n4. 2.25940460063605\n5. 0.673879633853943\n6. -1.0713257946987\n7. -0.491677876273341\n8. 1.38567189680455\n9. 0.553434457843931\n10. 0.565587883342525\n\n\n\n\n\n",
            "text/html": [
              "<ol>\n",
              "\t<li><style>\n",
              ".list-inline {list-style: none; margin:0; padding: 0}\n",
              ".list-inline>li {display: inline-block}\n",
              ".list-inline>li:not(:last-child)::after {content: \"\\00b7\"; padding: 0 .5ex}\n",
              "</style>\n",
              "<ol class=list-inline><li>0.0376259083860956</li><li>-1.4564190746596</li><li>0.483208035749717</li><li>-0.719858345825249</li><li>1.27908209787159</li><li>0.545788253077115</li><li>-0.805074081533642</li><li>0.251906951277103</li><li>-0.588617155220807</li><li>0.34956522746994</li></ol>\n",
              "</li>\n",
              "\t<li><style>\n",
              ".list-inline {list-style: none; margin:0; padding: 0}\n",
              ".list-inline>li {display: inline-block}\n",
              ".list-inline>li:not(:last-child)::after {content: \"\\00b7\"; padding: 0 .5ex}\n",
              "</style>\n",
              "<ol class=list-inline><li>0.890250436213774</li><li>0.617349073422121</li><li>-0.398122581631241</li><li>-0.609469506344379</li><li>0.767059144068827</li><li>0.846234609269764</li><li>0.577521242798871</li><li>0.735034538124826</li><li>0.538422037757051</li><li>-0.611035219098039</li></ol>\n",
              "</li>\n",
              "\t<li><style>\n",
              ".list-inline {list-style: none; margin:0; padding: 0}\n",
              ".list-inline>li {display: inline-block}\n",
              ".list-inline>li:not(:last-child)::after {content: \"\\00b7\"; padding: 0 .5ex}\n",
              "</style>\n",
              "<ol class=list-inline><li>0.318457926944915</li><li>0.772667469191294</li><li>1.13985583826408</li><li>-1.55708495692788</li><li>0.366849898380825</li><li>-2.10223518571881</li><li>-1.24197228050888</li><li>-0.153909456122893</li><li>1.1553950720847</li><li>-0.758131117407395</li></ol>\n",
              "</li>\n",
              "\t<li><style>\n",
              ".list-inline {list-style: none; margin:0; padding: 0}\n",
              ".list-inline>li {display: inline-block}\n",
              ".list-inline>li:not(:last-child)::after {content: \"\\00b7\"; padding: 0 .5ex}\n",
              "</style>\n",
              "<ol class=list-inline><li>-1.35563501107389</li><li>-0.414259361244998</li><li>-0.226469742121971</li><li>1.5470264012861</li><li>1.35222556314922</li><li>0.362457535898824</li><li>-1.294209757898</li><li>-1.20772492474764</li><li>0.66133255151138</li><li>-0.544658436064256</li></ol>\n",
              "</li>\n",
              "\t<li><style>\n",
              ".list-inline {list-style: none; margin:0; padding: 0}\n",
              ".list-inline>li {display: inline-block}\n",
              ".list-inline>li:not(:last-child)::after {content: \"\\00b7\"; padding: 0 .5ex}\n",
              "</style>\n",
              "<ol class=list-inline><li>0.723766642132914</li><li>-1.23530453752555</li><li>0.00915190658540482</li><li>-2.53774349246276</li><li>0.176520950795581</li><li>0.664913260164356</li><li>-0.0201349253349575</li><li>0.315071571486792</li><li>0.879372417490353</li><li>-0.561128420603308</li></ol>\n",
              "</li>\n",
              "\t<li><style>\n",
              ".list-inline {list-style: none; margin:0; padding: 0}\n",
              ".list-inline>li {display: inline-block}\n",
              ".list-inline>li:not(:last-child)::after {content: \"\\00b7\"; padding: 0 .5ex}\n",
              "</style>\n",
              "<ol class=list-inline><li>-0.161937134528551</li><li>-0.498352713165993</li><li>2.1096809392402</li><li>-1.41552089226711</li><li>0.105408885517801</li><li>-0.0227773937584697</li><li>-0.47956234938362</li><li>-0.106441254967436</li><li>-0.0457703653845223</li><li>-0.165591262752808</li></ol>\n",
              "</li>\n",
              "\t<li><style>\n",
              ".list-inline {list-style: none; margin:0; padding: 0}\n",
              ".list-inline>li {display: inline-block}\n",
              ".list-inline>li:not(:last-child)::after {content: \"\\00b7\"; padding: 0 .5ex}\n",
              "</style>\n",
              "<ol class=list-inline><li>-1.02184209033543</li><li>0.655754812158416</li><li>-0.723402353195192</li><li>-0.884158763866489</li><li>-1.08054330603428</li><li>0.502449545557652</li><li>-1.11499480433278</li><li>-0.423293122910476</li><li>-0.769942229317716</li><li>0.374781084576576</li></ol>\n",
              "</li>\n",
              "\t<li><style>\n",
              ".list-inline {list-style: none; margin:0; padding: 0}\n",
              ".list-inline>li {display: inline-block}\n",
              ".list-inline>li:not(:last-child)::after {content: \"\\00b7\"; padding: 0 .5ex}\n",
              "</style>\n",
              "<ol class=list-inline><li>-1.64453234264092</li><li>0.594894838421669</li><li>0.581902874031541</li><li>0.381284556957153</li><li>-1.41144492151035</li><li>0.739872775325695</li><li>0.252232970655917</li><li>-0.445060594281273</li><li>1.03768318885555</li><li>-0.721762218576608</li></ol>\n",
              "</li>\n",
              "\t<li><style>\n",
              ".list-inline {list-style: none; margin:0; padding: 0}\n",
              ".list-inline>li {display: inline-block}\n",
              ".list-inline>li:not(:last-child)::after {content: \"\\00b7\"; padding: 0 .5ex}\n",
              "</style>\n",
              "<ol class=list-inline><li>-0.135763462547866</li><li>-1.26011480030066</li><li>-0.738540626657552</li><li>-0.697197039721205</li><li>0.916583000735041</li><li>-0.245479722920211</li><li>0.199252384731259</li><li>1.35031886276737</li><li>-0.580839727065397</li><li>1.76339858397616</li></ol>\n",
              "</li>\n",
              "\t<li><style>\n",
              ".list-inline {list-style: none; margin:0; padding: 0}\n",
              ".list-inline>li {display: inline-block}\n",
              ".list-inline>li:not(:last-child)::after {content: \"\\00b7\"; padding: 0 .5ex}\n",
              "</style>\n",
              "<ol class=list-inline><li>-0.109702309074615</li><li>2.66721473310557</li><li>-0.379013842314089</li><li>2.25940460063605</li><li>0.673879633853943</li><li>-1.0713257946987</li><li>-0.491677876273341</li><li>1.38567189680455</li><li>0.553434457843931</li><li>0.565587883342525</li></ol>\n",
              "</li>\n",
              "</ol>\n"
            ]
          },
          "metadata": {}
        }
      ]
    },
    {
      "cell_type": "code",
      "metadata": {
        "id": "N-UuCL4sACUc",
        "colab": {
          "base_uri": "https://localhost:8080/",
          "height": 246
        },
        "outputId": "8f84321b-fb04-4c7b-ac00-e762681e9df8"
      },
      "source": [
        "lapply(rep(10,n_len), rnorm )\n",
        "\n",
        "#R에서 사용되는 방식인 lapply를 사용할 수 도 있다."
      ],
      "execution_count": 68,
      "outputs": [
        {
          "output_type": "display_data",
          "data": {
            "text/plain": [
              "[[1]]\n",
              " [1] -0.2338871 -0.6266295  1.6047522  1.9338574 -1.1479080  0.2856769\n",
              " [7] -0.8801385 -0.1917225 -1.4093874 -0.6624300\n",
              "\n",
              "[[2]]\n",
              " [1]  0.2098612  0.1317570  0.4174949 -0.8497830  0.4372654 -0.6209892\n",
              " [7]  0.4419658 -1.2069900 -1.1224608  1.6125197\n",
              "\n",
              "[[3]]\n",
              " [1] -0.2693493 -0.8583192  1.7682842 -0.2189911 -0.3828420  0.9731765\n",
              " [7]  0.2612885  0.5653325 -0.3332962  0.8000331\n",
              "\n",
              "[[4]]\n",
              " [1]  0.1627741 -0.3320655  0.1678926  1.6321286 -0.1791075 -1.2575679\n",
              " [7] -0.3062099  0.9054420 -0.9729912  0.7647384\n",
              "\n",
              "[[5]]\n",
              " [1]  0.40432791 -0.36128686  1.02504552 -1.98230523  0.48484341 -0.07460451\n",
              " [7] -0.72968323  0.74635730 -1.08388680 -0.05176666\n",
              "\n",
              "[[6]]\n",
              " [1] -1.62208883 -1.39521175  1.82922814  0.67979579 -0.59628562 -0.60891163\n",
              " [7] -1.61982062  0.06003691  0.75961915 -2.10050053\n",
              "\n",
              "[[7]]\n",
              " [1]  0.02885699  0.54221650  0.50042638 -0.24430703  0.17588801 -1.06021364\n",
              " [7]  0.77068878 -1.19070247 -0.01895209  0.35679871\n",
              "\n",
              "[[8]]\n",
              " [1] -0.99779146 -1.44275401  0.55724556  0.36259371  0.99954278 -1.21859511\n",
              " [7]  0.10976892  0.02135961 -0.95530529 -0.68491380\n",
              "\n",
              "[[9]]\n",
              " [1] -0.7345966 -1.3112886 -0.7954818 -0.7645249  0.6426392 -1.5739847\n",
              " [7]  0.3671779 -0.4483209  0.2239915 -0.3854401\n",
              "\n",
              "[[10]]\n",
              " [1] -0.84622108 -0.45749019  0.84021935 -1.27209053  0.89755673 -0.24442763\n",
              " [7] -2.31399341  0.79730311  0.01000203  0.64759626\n"
            ],
            "text/latex": "\\begin{enumerate}\n\\item \\begin{enumerate*}\n\\item -0.233887096670453\n\\item -0.626629549676207\n\\item 1.60475217050742\n\\item 1.9338574163538\n\\item -1.14790797902696\n\\item 0.285676929627006\n\\item -0.880138538922326\n\\item -0.191722515841752\n\\item -1.40938744479491\n\\item -0.662429978633881\n\\end{enumerate*}\n\n\\item \\begin{enumerate*}\n\\item 0.209861217521847\n\\item 0.131756972914974\n\\item 0.417494908879774\n\\item -0.849783005838426\n\\item 0.437265425189846\n\\item -0.620989201985691\n\\item 0.441965753399361\n\\item -1.20699002100797\n\\item -1.12246079185384\n\\item 1.61251973758839\n\\end{enumerate*}\n\n\\item \\begin{enumerate*}\n\\item -0.269349299451493\n\\item -0.858319245731371\n\\item 1.76828417714304\n\\item -0.218991105301359\n\\item -0.382841974788169\n\\item 0.973176487941777\n\\item 0.261288493320599\n\\item 0.565332474478112\n\\item -0.333296245846793\n\\item 0.800033079669541\n\\end{enumerate*}\n\n\\item \\begin{enumerate*}\n\\item 0.162774144761317\n\\item -0.332065527100476\n\\item 0.167892555822543\n\\item 1.63212860252363\n\\item -0.179107467722974\n\\item -1.2575679132182\n\\item -0.306209936154526\n\\item 0.905441963056613\n\\item -0.972991242248431\n\\item 0.76473840499359\n\\end{enumerate*}\n\n\\item \\begin{enumerate*}\n\\item 0.404327913653745\n\\item -0.361286858315573\n\\item 1.02504552473787\n\\item -1.98230522751795\n\\item 0.484843405140452\n\\item -0.0746045147510499\n\\item -0.729683227697192\n\\item 0.74635729884757\n\\item -1.08388680276047\n\\item -0.0517666563532991\n\\end{enumerate*}\n\n\\item \\begin{enumerate*}\n\\item -1.62208883297649\n\\item -1.39521174801035\n\\item 1.82922814466818\n\\item 0.679795791350523\n\\item -0.596285615540881\n\\item -0.608911627010271\n\\item -1.61982061988722\n\\item 0.060036909861845\n\\item 0.759619149491221\n\\item -2.10050053194953\n\\end{enumerate*}\n\n\\item \\begin{enumerate*}\n\\item 0.0288569874842587\n\\item 0.542216503166949\n\\item 0.500426381275191\n\\item -0.244307030062832\n\\item 0.175888007307866\n\\item -1.0602136413073\n\\item 0.770688781491465\n\\item -1.19070246932937\n\\item -0.0189520946999694\n\\item 0.35679871110535\n\\end{enumerate*}\n\n\\item \\begin{enumerate*}\n\\item -0.997791461673684\n\\item -1.4427540115069\n\\item 0.55724555863708\n\\item 0.362593708154921\n\\item 0.999542776842007\n\\item -1.21859511426098\n\\item 0.109768918335251\n\\item 0.02135961062595\n\\item -0.955305289860745\n\\item -0.684913801137031\n\\end{enumerate*}\n\n\\item \\begin{enumerate*}\n\\item -0.734596573333518\n\\item -1.31128859833828\n\\item -0.7954818159371\n\\item -0.764524916682039\n\\item 0.642639211763869\n\\item -1.57398466108454\n\\item 0.367177875455905\n\\item -0.448320900149067\n\\item 0.223991514662774\n\\item -0.385440122934254\n\\end{enumerate*}\n\n\\item \\begin{enumerate*}\n\\item -0.846221082657098\n\\item -0.457490192850123\n\\item 0.840219351123498\n\\item -1.27209053185507\n\\item 0.897556734104852\n\\item -0.24442762914324\n\\item -2.31399341372027\n\\item 0.797303111518265\n\\item 0.0100020330667248\n\\item 0.647596261274281\n\\end{enumerate*}\n\n\\end{enumerate}\n",
            "text/markdown": "1. 1. -0.233887096670453\n2. -0.626629549676207\n3. 1.60475217050742\n4. 1.9338574163538\n5. -1.14790797902696\n6. 0.285676929627006\n7. -0.880138538922326\n8. -0.191722515841752\n9. -1.40938744479491\n10. -0.662429978633881\n\n\n\n2. 1. 0.209861217521847\n2. 0.131756972914974\n3. 0.417494908879774\n4. -0.849783005838426\n5. 0.437265425189846\n6. -0.620989201985691\n7. 0.441965753399361\n8. -1.20699002100797\n9. -1.12246079185384\n10. 1.61251973758839\n\n\n\n3. 1. -0.269349299451493\n2. -0.858319245731371\n3. 1.76828417714304\n4. -0.218991105301359\n5. -0.382841974788169\n6. 0.973176487941777\n7. 0.261288493320599\n8. 0.565332474478112\n9. -0.333296245846793\n10. 0.800033079669541\n\n\n\n4. 1. 0.162774144761317\n2. -0.332065527100476\n3. 0.167892555822543\n4. 1.63212860252363\n5. -0.179107467722974\n6. -1.2575679132182\n7. -0.306209936154526\n8. 0.905441963056613\n9. -0.972991242248431\n10. 0.76473840499359\n\n\n\n5. 1. 0.404327913653745\n2. -0.361286858315573\n3. 1.02504552473787\n4. -1.98230522751795\n5. 0.484843405140452\n6. -0.0746045147510499\n7. -0.729683227697192\n8. 0.74635729884757\n9. -1.08388680276047\n10. -0.0517666563532991\n\n\n\n6. 1. -1.62208883297649\n2. -1.39521174801035\n3. 1.82922814466818\n4. 0.679795791350523\n5. -0.596285615540881\n6. -0.608911627010271\n7. -1.61982061988722\n8. 0.060036909861845\n9. 0.759619149491221\n10. -2.10050053194953\n\n\n\n7. 1. 0.0288569874842587\n2. 0.542216503166949\n3. 0.500426381275191\n4. -0.244307030062832\n5. 0.175888007307866\n6. -1.0602136413073\n7. 0.770688781491465\n8. -1.19070246932937\n9. -0.0189520946999694\n10. 0.35679871110535\n\n\n\n8. 1. -0.997791461673684\n2. -1.4427540115069\n3. 0.55724555863708\n4. 0.362593708154921\n5. 0.999542776842007\n6. -1.21859511426098\n7. 0.109768918335251\n8. 0.02135961062595\n9. -0.955305289860745\n10. -0.684913801137031\n\n\n\n9. 1. -0.734596573333518\n2. -1.31128859833828\n3. -0.7954818159371\n4. -0.764524916682039\n5. 0.642639211763869\n6. -1.57398466108454\n7. 0.367177875455905\n8. -0.448320900149067\n9. 0.223991514662774\n10. -0.385440122934254\n\n\n\n10. 1. -0.846221082657098\n2. -0.457490192850123\n3. 0.840219351123498\n4. -1.27209053185507\n5. 0.897556734104852\n6. -0.24442762914324\n7. -2.31399341372027\n8. 0.797303111518265\n9. 0.0100020330667248\n10. 0.647596261274281\n\n\n\n\n\n",
            "text/html": [
              "<ol>\n",
              "\t<li><style>\n",
              ".list-inline {list-style: none; margin:0; padding: 0}\n",
              ".list-inline>li {display: inline-block}\n",
              ".list-inline>li:not(:last-child)::after {content: \"\\00b7\"; padding: 0 .5ex}\n",
              "</style>\n",
              "<ol class=list-inline><li>-0.233887096670453</li><li>-0.626629549676207</li><li>1.60475217050742</li><li>1.9338574163538</li><li>-1.14790797902696</li><li>0.285676929627006</li><li>-0.880138538922326</li><li>-0.191722515841752</li><li>-1.40938744479491</li><li>-0.662429978633881</li></ol>\n",
              "</li>\n",
              "\t<li><style>\n",
              ".list-inline {list-style: none; margin:0; padding: 0}\n",
              ".list-inline>li {display: inline-block}\n",
              ".list-inline>li:not(:last-child)::after {content: \"\\00b7\"; padding: 0 .5ex}\n",
              "</style>\n",
              "<ol class=list-inline><li>0.209861217521847</li><li>0.131756972914974</li><li>0.417494908879774</li><li>-0.849783005838426</li><li>0.437265425189846</li><li>-0.620989201985691</li><li>0.441965753399361</li><li>-1.20699002100797</li><li>-1.12246079185384</li><li>1.61251973758839</li></ol>\n",
              "</li>\n",
              "\t<li><style>\n",
              ".list-inline {list-style: none; margin:0; padding: 0}\n",
              ".list-inline>li {display: inline-block}\n",
              ".list-inline>li:not(:last-child)::after {content: \"\\00b7\"; padding: 0 .5ex}\n",
              "</style>\n",
              "<ol class=list-inline><li>-0.269349299451493</li><li>-0.858319245731371</li><li>1.76828417714304</li><li>-0.218991105301359</li><li>-0.382841974788169</li><li>0.973176487941777</li><li>0.261288493320599</li><li>0.565332474478112</li><li>-0.333296245846793</li><li>0.800033079669541</li></ol>\n",
              "</li>\n",
              "\t<li><style>\n",
              ".list-inline {list-style: none; margin:0; padding: 0}\n",
              ".list-inline>li {display: inline-block}\n",
              ".list-inline>li:not(:last-child)::after {content: \"\\00b7\"; padding: 0 .5ex}\n",
              "</style>\n",
              "<ol class=list-inline><li>0.162774144761317</li><li>-0.332065527100476</li><li>0.167892555822543</li><li>1.63212860252363</li><li>-0.179107467722974</li><li>-1.2575679132182</li><li>-0.306209936154526</li><li>0.905441963056613</li><li>-0.972991242248431</li><li>0.76473840499359</li></ol>\n",
              "</li>\n",
              "\t<li><style>\n",
              ".list-inline {list-style: none; margin:0; padding: 0}\n",
              ".list-inline>li {display: inline-block}\n",
              ".list-inline>li:not(:last-child)::after {content: \"\\00b7\"; padding: 0 .5ex}\n",
              "</style>\n",
              "<ol class=list-inline><li>0.404327913653745</li><li>-0.361286858315573</li><li>1.02504552473787</li><li>-1.98230522751795</li><li>0.484843405140452</li><li>-0.0746045147510499</li><li>-0.729683227697192</li><li>0.74635729884757</li><li>-1.08388680276047</li><li>-0.0517666563532991</li></ol>\n",
              "</li>\n",
              "\t<li><style>\n",
              ".list-inline {list-style: none; margin:0; padding: 0}\n",
              ".list-inline>li {display: inline-block}\n",
              ".list-inline>li:not(:last-child)::after {content: \"\\00b7\"; padding: 0 .5ex}\n",
              "</style>\n",
              "<ol class=list-inline><li>-1.62208883297649</li><li>-1.39521174801035</li><li>1.82922814466818</li><li>0.679795791350523</li><li>-0.596285615540881</li><li>-0.608911627010271</li><li>-1.61982061988722</li><li>0.060036909861845</li><li>0.759619149491221</li><li>-2.10050053194953</li></ol>\n",
              "</li>\n",
              "\t<li><style>\n",
              ".list-inline {list-style: none; margin:0; padding: 0}\n",
              ".list-inline>li {display: inline-block}\n",
              ".list-inline>li:not(:last-child)::after {content: \"\\00b7\"; padding: 0 .5ex}\n",
              "</style>\n",
              "<ol class=list-inline><li>0.0288569874842587</li><li>0.542216503166949</li><li>0.500426381275191</li><li>-0.244307030062832</li><li>0.175888007307866</li><li>-1.0602136413073</li><li>0.770688781491465</li><li>-1.19070246932937</li><li>-0.0189520946999694</li><li>0.35679871110535</li></ol>\n",
              "</li>\n",
              "\t<li><style>\n",
              ".list-inline {list-style: none; margin:0; padding: 0}\n",
              ".list-inline>li {display: inline-block}\n",
              ".list-inline>li:not(:last-child)::after {content: \"\\00b7\"; padding: 0 .5ex}\n",
              "</style>\n",
              "<ol class=list-inline><li>-0.997791461673684</li><li>-1.4427540115069</li><li>0.55724555863708</li><li>0.362593708154921</li><li>0.999542776842007</li><li>-1.21859511426098</li><li>0.109768918335251</li><li>0.02135961062595</li><li>-0.955305289860745</li><li>-0.684913801137031</li></ol>\n",
              "</li>\n",
              "\t<li><style>\n",
              ".list-inline {list-style: none; margin:0; padding: 0}\n",
              ".list-inline>li {display: inline-block}\n",
              ".list-inline>li:not(:last-child)::after {content: \"\\00b7\"; padding: 0 .5ex}\n",
              "</style>\n",
              "<ol class=list-inline><li>-0.734596573333518</li><li>-1.31128859833828</li><li>-0.7954818159371</li><li>-0.764524916682039</li><li>0.642639211763869</li><li>-1.57398466108454</li><li>0.367177875455905</li><li>-0.448320900149067</li><li>0.223991514662774</li><li>-0.385440122934254</li></ol>\n",
              "</li>\n",
              "\t<li><style>\n",
              ".list-inline {list-style: none; margin:0; padding: 0}\n",
              ".list-inline>li {display: inline-block}\n",
              ".list-inline>li:not(:last-child)::after {content: \"\\00b7\"; padding: 0 .5ex}\n",
              "</style>\n",
              "<ol class=list-inline><li>-0.846221082657098</li><li>-0.457490192850123</li><li>0.840219351123498</li><li>-1.27209053185507</li><li>0.897556734104852</li><li>-0.24442762914324</li><li>-2.31399341372027</li><li>0.797303111518265</li><li>0.0100020330667248</li><li>0.647596261274281</li></ol>\n",
              "</li>\n",
              "</ol>\n"
            ]
          },
          "metadata": {}
        }
      ]
    },
    {
      "cell_type": "code",
      "metadata": {
        "id": "y-y-UswHT3HE"
      },
      "source": [
        "gen1 <- function(n_len) {\n",
        "  rep(10,n_len) %>% map(rnorm)\n",
        "}"
      ],
      "execution_count": 69,
      "outputs": []
    },
    {
      "cell_type": "code",
      "metadata": {
        "id": "UWQUYdJBT28N"
      },
      "source": [
        "gen2 <- function(n_len) {\n",
        "  df2 <- vector(mode = \"list\", length = n_len)\n",
        "  for (i in 1:n_len)\n",
        "    df2[[i]] <- rnorm(10)\n",
        "  df2\n",
        "}"
      ],
      "execution_count": 70,
      "outputs": []
    },
    {
      "cell_type": "code",
      "metadata": {
        "id": "8rTxkSrwWzIt"
      },
      "source": [
        "gen3 <- function(n_len) {\n",
        "  lapply(rep(10,n_len), rnorm )\n",
        "}"
      ],
      "execution_count": 71,
      "outputs": []
    },
    {
      "cell_type": "code",
      "metadata": {
        "id": "yg90aScAUEAV",
        "colab": {
          "base_uri": "https://localhost:8080/",
          "height": 230
        },
        "outputId": "387fee01-cf37-41a5-cbde-2d5a3d3960d5"
      },
      "source": [
        "gen2(10)"
      ],
      "execution_count": 72,
      "outputs": [
        {
          "output_type": "display_data",
          "data": {
            "text/plain": [
              "[[1]]\n",
              " [1] -0.3254902 -0.8583542 -0.5748439  0.5387072  0.1306721 -1.8697687\n",
              " [7] -1.2794124  0.5191905  0.9300118  0.2074486\n",
              "\n",
              "[[2]]\n",
              " [1] -2.6480371 -0.8925457 -0.5949227 -0.6893264  0.3068516 -0.6777407\n",
              " [7] -0.7383081  0.8676232  0.5451284  1.3089208\n",
              "\n",
              "[[3]]\n",
              " [1] -0.98899343  1.18526696  0.68126507 -0.25214986 -1.39752001 -0.28508506\n",
              " [7] -0.14383327 -0.07902179  0.55940009  1.49104002\n",
              "\n",
              "[[4]]\n",
              " [1]  0.1920145 -0.4856054 -1.5880658 -1.2385222 -1.6431450  0.7576614\n",
              " [7] -0.6125991  0.3936418  1.4146476 -1.7601807\n",
              "\n",
              "[[5]]\n",
              " [1] -0.88309330 -0.30290025  1.70950510  0.47358956 -0.79868008  0.07027113\n",
              " [7] -1.07597898  0.63361831  1.14555992  0.16146953\n",
              "\n",
              "[[6]]\n",
              " [1] -0.02601171  1.93898661  1.24646488  0.22213255  0.74357439 -0.66502061\n",
              " [7] -0.31897175 -0.21405409  1.07179391 -0.75439074\n",
              "\n",
              "[[7]]\n",
              " [1]  0.3852673  1.3961771  0.9322527 -0.3161087  0.7068668  0.7422381\n",
              " [7]  1.1617516 -1.0595034  1.2257563  1.0799481\n",
              "\n",
              "[[8]]\n",
              " [1]  1.88038076 -0.79872784 -0.24092645 -0.09638959 -0.69995442  0.37929635\n",
              " [7]  1.51822896 -0.72300231 -0.47660296  2.10052180\n",
              "\n",
              "[[9]]\n",
              " [1] -1.166586212  0.331095336  0.001961166  0.938449023 -0.269258720\n",
              " [6] -0.253681417  0.180998462 -2.961602066 -1.086993811 -0.602920515\n",
              "\n",
              "[[10]]\n",
              " [1] -2.10743315  1.20958385  1.92663166 -0.20005044 -0.19214901  0.79245421\n",
              " [7]  1.06433819  0.97435352  0.02034439 -1.00457654\n"
            ],
            "text/latex": "\\begin{enumerate}\n\\item \\begin{enumerate*}\n\\item -0.325490243384533\n\\item -0.85835420144\n\\item -0.574843945064957\n\\item 0.538707153593277\n\\item 0.130672107273342\n\\item -1.86976873970508\n\\item -1.27941240382779\n\\item 0.51919050737391\n\\item 0.930011835906653\n\\item 0.207448632583101\n\\end{enumerate*}\n\n\\item \\begin{enumerate*}\n\\item -2.64803707419775\n\\item -0.892545677099953\n\\item -0.594922691304866\n\\item -0.689326370856741\n\\item 0.306851585255964\n\\item -0.677740708137779\n\\item -0.738308120934535\n\\item 0.867623220551025\n\\item 0.545128449995528\n\\item 1.3089208025685\n\\end{enumerate*}\n\n\\item \\begin{enumerate*}\n\\item -0.988993430962101\n\\item 1.18526696131449\n\\item 0.681265072616403\n\\item -0.252149856270566\n\\item -1.39752001329036\n\\item -0.285085056975854\n\\item -0.14383327385344\n\\item -0.0790217899840779\n\\item 0.559400092581472\n\\item 1.49104001935547\n\\end{enumerate*}\n\n\\item \\begin{enumerate*}\n\\item 0.192014480944266\n\\item -0.485605398333627\n\\item -1.58806577245172\n\\item -1.23852216494755\n\\item -1.64314503287417\n\\item 0.757661432302702\n\\item -0.612599054138278\n\\item 0.393641784456034\n\\item 1.4146476018815\n\\item -1.76018068620541\n\\end{enumerate*}\n\n\\item \\begin{enumerate*}\n\\item -0.883093303703488\n\\item -0.30290024582766\n\\item 1.70950509922899\n\\item 0.473589559833787\n\\item -0.798680076065946\n\\item 0.0702711293363074\n\\item -1.07597897957551\n\\item 0.633618306245761\n\\item 1.14555992174306\n\\item 0.161469530387951\n\\end{enumerate*}\n\n\\item \\begin{enumerate*}\n\\item -0.0260117083497817\n\\item 1.93898661478768\n\\item 1.2464648785537\n\\item 0.222132549031556\n\\item 0.743574392432503\n\\item -0.665020611001058\n\\item -0.318971748167468\n\\item -0.214054087964405\n\\item 1.07179391058511\n\\item -0.754390744895214\n\\end{enumerate*}\n\n\\item \\begin{enumerate*}\n\\item 0.38526729194166\n\\item 1.39617711745213\n\\item 0.932252730115737\n\\item -0.316108715480976\n\\item 0.706866824027599\n\\item 0.742238145817002\n\\item 1.16175163186197\n\\item -1.05950335938141\n\\item 1.22575629319347\n\\item 1.07994808590041\n\\end{enumerate*}\n\n\\item \\begin{enumerate*}\n\\item 1.88038075916483\n\\item -0.7987278364674\n\\item -0.240926451508892\n\\item -0.0963895890246205\n\\item -0.69995441731954\n\\item 0.379296347268878\n\\item 1.51822895834954\n\\item -0.723002305003266\n\\item -0.476602960427341\n\\item 2.10052179908216\n\\end{enumerate*}\n\n\\item \\begin{enumerate*}\n\\item -1.16658621232091\n\\item 0.331095335641454\n\\item 0.00196116626975399\n\\item 0.93844902349727\n\\item -0.269258719727109\n\\item -0.253681416816142\n\\item 0.180998462479659\n\\item -2.96160206588682\n\\item -1.08699381120343\n\\item -0.602920515150131\n\\end{enumerate*}\n\n\\item \\begin{enumerate*}\n\\item -2.10743315458837\n\\item 1.20958385194881\n\\item 1.92663165959891\n\\item -0.200050443291099\n\\item -0.192149012194412\n\\item 0.792454206278031\n\\item 1.06433819014475\n\\item 0.974353522037748\n\\item 0.0203443918959738\n\\item -1.00457653930502\n\\end{enumerate*}\n\n\\end{enumerate}\n",
            "text/markdown": "1. 1. -0.325490243384533\n2. -0.85835420144\n3. -0.574843945064957\n4. 0.538707153593277\n5. 0.130672107273342\n6. -1.86976873970508\n7. -1.27941240382779\n8. 0.51919050737391\n9. 0.930011835906653\n10. 0.207448632583101\n\n\n\n2. 1. -2.64803707419775\n2. -0.892545677099953\n3. -0.594922691304866\n4. -0.689326370856741\n5. 0.306851585255964\n6. -0.677740708137779\n7. -0.738308120934535\n8. 0.867623220551025\n9. 0.545128449995528\n10. 1.3089208025685\n\n\n\n3. 1. -0.988993430962101\n2. 1.18526696131449\n3. 0.681265072616403\n4. -0.252149856270566\n5. -1.39752001329036\n6. -0.285085056975854\n7. -0.14383327385344\n8. -0.0790217899840779\n9. 0.559400092581472\n10. 1.49104001935547\n\n\n\n4. 1. 0.192014480944266\n2. -0.485605398333627\n3. -1.58806577245172\n4. -1.23852216494755\n5. -1.64314503287417\n6. 0.757661432302702\n7. -0.612599054138278\n8. 0.393641784456034\n9. 1.4146476018815\n10. -1.76018068620541\n\n\n\n5. 1. -0.883093303703488\n2. -0.30290024582766\n3. 1.70950509922899\n4. 0.473589559833787\n5. -0.798680076065946\n6. 0.0702711293363074\n7. -1.07597897957551\n8. 0.633618306245761\n9. 1.14555992174306\n10. 0.161469530387951\n\n\n\n6. 1. -0.0260117083497817\n2. 1.93898661478768\n3. 1.2464648785537\n4. 0.222132549031556\n5. 0.743574392432503\n6. -0.665020611001058\n7. -0.318971748167468\n8. -0.214054087964405\n9. 1.07179391058511\n10. -0.754390744895214\n\n\n\n7. 1. 0.38526729194166\n2. 1.39617711745213\n3. 0.932252730115737\n4. -0.316108715480976\n5. 0.706866824027599\n6. 0.742238145817002\n7. 1.16175163186197\n8. -1.05950335938141\n9. 1.22575629319347\n10. 1.07994808590041\n\n\n\n8. 1. 1.88038075916483\n2. -0.7987278364674\n3. -0.240926451508892\n4. -0.0963895890246205\n5. -0.69995441731954\n6. 0.379296347268878\n7. 1.51822895834954\n8. -0.723002305003266\n9. -0.476602960427341\n10. 2.10052179908216\n\n\n\n9. 1. -1.16658621232091\n2. 0.331095335641454\n3. 0.00196116626975399\n4. 0.93844902349727\n5. -0.269258719727109\n6. -0.253681416816142\n7. 0.180998462479659\n8. -2.96160206588682\n9. -1.08699381120343\n10. -0.602920515150131\n\n\n\n10. 1. -2.10743315458837\n2. 1.20958385194881\n3. 1.92663165959891\n4. -0.200050443291099\n5. -0.192149012194412\n6. 0.792454206278031\n7. 1.06433819014475\n8. 0.974353522037748\n9. 0.0203443918959738\n10. -1.00457653930502\n\n\n\n\n\n",
            "text/html": [
              "<ol>\n",
              "\t<li><style>\n",
              ".list-inline {list-style: none; margin:0; padding: 0}\n",
              ".list-inline>li {display: inline-block}\n",
              ".list-inline>li:not(:last-child)::after {content: \"\\00b7\"; padding: 0 .5ex}\n",
              "</style>\n",
              "<ol class=list-inline><li>-0.325490243384533</li><li>-0.85835420144</li><li>-0.574843945064957</li><li>0.538707153593277</li><li>0.130672107273342</li><li>-1.86976873970508</li><li>-1.27941240382779</li><li>0.51919050737391</li><li>0.930011835906653</li><li>0.207448632583101</li></ol>\n",
              "</li>\n",
              "\t<li><style>\n",
              ".list-inline {list-style: none; margin:0; padding: 0}\n",
              ".list-inline>li {display: inline-block}\n",
              ".list-inline>li:not(:last-child)::after {content: \"\\00b7\"; padding: 0 .5ex}\n",
              "</style>\n",
              "<ol class=list-inline><li>-2.64803707419775</li><li>-0.892545677099953</li><li>-0.594922691304866</li><li>-0.689326370856741</li><li>0.306851585255964</li><li>-0.677740708137779</li><li>-0.738308120934535</li><li>0.867623220551025</li><li>0.545128449995528</li><li>1.3089208025685</li></ol>\n",
              "</li>\n",
              "\t<li><style>\n",
              ".list-inline {list-style: none; margin:0; padding: 0}\n",
              ".list-inline>li {display: inline-block}\n",
              ".list-inline>li:not(:last-child)::after {content: \"\\00b7\"; padding: 0 .5ex}\n",
              "</style>\n",
              "<ol class=list-inline><li>-0.988993430962101</li><li>1.18526696131449</li><li>0.681265072616403</li><li>-0.252149856270566</li><li>-1.39752001329036</li><li>-0.285085056975854</li><li>-0.14383327385344</li><li>-0.0790217899840779</li><li>0.559400092581472</li><li>1.49104001935547</li></ol>\n",
              "</li>\n",
              "\t<li><style>\n",
              ".list-inline {list-style: none; margin:0; padding: 0}\n",
              ".list-inline>li {display: inline-block}\n",
              ".list-inline>li:not(:last-child)::after {content: \"\\00b7\"; padding: 0 .5ex}\n",
              "</style>\n",
              "<ol class=list-inline><li>0.192014480944266</li><li>-0.485605398333627</li><li>-1.58806577245172</li><li>-1.23852216494755</li><li>-1.64314503287417</li><li>0.757661432302702</li><li>-0.612599054138278</li><li>0.393641784456034</li><li>1.4146476018815</li><li>-1.76018068620541</li></ol>\n",
              "</li>\n",
              "\t<li><style>\n",
              ".list-inline {list-style: none; margin:0; padding: 0}\n",
              ".list-inline>li {display: inline-block}\n",
              ".list-inline>li:not(:last-child)::after {content: \"\\00b7\"; padding: 0 .5ex}\n",
              "</style>\n",
              "<ol class=list-inline><li>-0.883093303703488</li><li>-0.30290024582766</li><li>1.70950509922899</li><li>0.473589559833787</li><li>-0.798680076065946</li><li>0.0702711293363074</li><li>-1.07597897957551</li><li>0.633618306245761</li><li>1.14555992174306</li><li>0.161469530387951</li></ol>\n",
              "</li>\n",
              "\t<li><style>\n",
              ".list-inline {list-style: none; margin:0; padding: 0}\n",
              ".list-inline>li {display: inline-block}\n",
              ".list-inline>li:not(:last-child)::after {content: \"\\00b7\"; padding: 0 .5ex}\n",
              "</style>\n",
              "<ol class=list-inline><li>-0.0260117083497817</li><li>1.93898661478768</li><li>1.2464648785537</li><li>0.222132549031556</li><li>0.743574392432503</li><li>-0.665020611001058</li><li>-0.318971748167468</li><li>-0.214054087964405</li><li>1.07179391058511</li><li>-0.754390744895214</li></ol>\n",
              "</li>\n",
              "\t<li><style>\n",
              ".list-inline {list-style: none; margin:0; padding: 0}\n",
              ".list-inline>li {display: inline-block}\n",
              ".list-inline>li:not(:last-child)::after {content: \"\\00b7\"; padding: 0 .5ex}\n",
              "</style>\n",
              "<ol class=list-inline><li>0.38526729194166</li><li>1.39617711745213</li><li>0.932252730115737</li><li>-0.316108715480976</li><li>0.706866824027599</li><li>0.742238145817002</li><li>1.16175163186197</li><li>-1.05950335938141</li><li>1.22575629319347</li><li>1.07994808590041</li></ol>\n",
              "</li>\n",
              "\t<li><style>\n",
              ".list-inline {list-style: none; margin:0; padding: 0}\n",
              ".list-inline>li {display: inline-block}\n",
              ".list-inline>li:not(:last-child)::after {content: \"\\00b7\"; padding: 0 .5ex}\n",
              "</style>\n",
              "<ol class=list-inline><li>1.88038075916483</li><li>-0.7987278364674</li><li>-0.240926451508892</li><li>-0.0963895890246205</li><li>-0.69995441731954</li><li>0.379296347268878</li><li>1.51822895834954</li><li>-0.723002305003266</li><li>-0.476602960427341</li><li>2.10052179908216</li></ol>\n",
              "</li>\n",
              "\t<li><style>\n",
              ".list-inline {list-style: none; margin:0; padding: 0}\n",
              ".list-inline>li {display: inline-block}\n",
              ".list-inline>li:not(:last-child)::after {content: \"\\00b7\"; padding: 0 .5ex}\n",
              "</style>\n",
              "<ol class=list-inline><li>-1.16658621232091</li><li>0.331095335641454</li><li>0.00196116626975399</li><li>0.93844902349727</li><li>-0.269258719727109</li><li>-0.253681416816142</li><li>0.180998462479659</li><li>-2.96160206588682</li><li>-1.08699381120343</li><li>-0.602920515150131</li></ol>\n",
              "</li>\n",
              "\t<li><style>\n",
              ".list-inline {list-style: none; margin:0; padding: 0}\n",
              ".list-inline>li {display: inline-block}\n",
              ".list-inline>li:not(:last-child)::after {content: \"\\00b7\"; padding: 0 .5ex}\n",
              "</style>\n",
              "<ol class=list-inline><li>-2.10743315458837</li><li>1.20958385194881</li><li>1.92663165959891</li><li>-0.200050443291099</li><li>-0.192149012194412</li><li>0.792454206278031</li><li>1.06433819014475</li><li>0.974353522037748</li><li>0.0203443918959738</li><li>-1.00457653930502</li></ol>\n",
              "</li>\n",
              "</ol>\n"
            ]
          },
          "metadata": {}
        }
      ]
    },
    {
      "cell_type": "code",
      "metadata": {
        "id": "iVM7W9qZUD2i",
        "colab": {
          "base_uri": "https://localhost:8080/",
          "height": 189
        },
        "outputId": "5485b829-2e5b-4689-f8b5-21fee5cc1084"
      },
      "source": [
        "benchmark(\"fc1\"=gen1(1000),\n",
        "          \"fc2\"=gen2(1000),\n",
        "          \"fc3\"=gen3(1000),\n",
        "          replications=100,\n",
        "          columns=c('test', 'elapsed', 'replications'))"
      ],
      "execution_count": 73,
      "outputs": [
        {
          "output_type": "display_data",
          "data": {
            "text/plain": [
              "  test elapsed replications\n",
              "1 fc1  0.502   100         \n",
              "2 fc2  0.436   100         \n",
              "3 fc3  0.479   100         "
            ],
            "text/latex": "A data.frame: 3 × 3\n\\begin{tabular}{r|lll}\n  & test & elapsed & replications\\\\\n  & <chr> & <dbl> & <int>\\\\\n\\hline\n\t1 & fc1 & 0.502 & 100\\\\\n\t2 & fc2 & 0.436 & 100\\\\\n\t3 & fc3 & 0.479 & 100\\\\\n\\end{tabular}\n",
            "text/markdown": "\nA data.frame: 3 × 3\n\n| <!--/--> | test &lt;chr&gt; | elapsed &lt;dbl&gt; | replications &lt;int&gt; |\n|---|---|---|---|\n| 1 | fc1 | 0.502 | 100 |\n| 2 | fc2 | 0.436 | 100 |\n| 3 | fc3 | 0.479 | 100 |\n\n",
            "text/html": [
              "<table class=\"dataframe\">\n",
              "<caption>A data.frame: 3 × 3</caption>\n",
              "<thead>\n",
              "\t<tr><th></th><th scope=col>test</th><th scope=col>elapsed</th><th scope=col>replications</th></tr>\n",
              "\t<tr><th></th><th scope=col>&lt;chr&gt;</th><th scope=col>&lt;dbl&gt;</th><th scope=col>&lt;int&gt;</th></tr>\n",
              "</thead>\n",
              "<tbody>\n",
              "\t<tr><th scope=row>1</th><td>fc1</td><td>0.502</td><td>100</td></tr>\n",
              "\t<tr><th scope=row>2</th><td>fc2</td><td>0.436</td><td>100</td></tr>\n",
              "\t<tr><th scope=row>3</th><td>fc3</td><td>0.479</td><td>100</td></tr>\n",
              "</tbody>\n",
              "</table>\n"
            ]
          },
          "metadata": {}
        }
      ]
    },
    {
      "cell_type": "markdown",
      "metadata": {
        "id": "lSNRVGOjBxEc"
      },
      "source": [
        "* functional같은 경우는 속도 면에서는 차이가 없지만 사용하기는 간단하게 되어 있다."
      ]
    },
    {
      "cell_type": "code",
      "metadata": {
        "id": "eLXStW40Sp_r"
      },
      "source": [
        ""
      ],
      "execution_count": null,
      "outputs": []
    },
    {
      "cell_type": "markdown",
      "metadata": {
        "id": "4c-cFefpX1mz"
      },
      "source": [
        "# Something useful"
      ]
    },
    {
      "cell_type": "code",
      "metadata": {
        "id": "CjmJpt_QSpyd",
        "colab": {
          "base_uri": "https://localhost:8080/",
          "height": 1000
        },
        "outputId": "5b7c0d81-3fbb-4bfa-f23f-b7ad34f747b2"
      },
      "source": [
        "diamonds"
      ],
      "execution_count": 74,
      "outputs": [
        {
          "output_type": "display_data",
          "data": {
            "text/plain": [
              "      carat cut       color clarity depth table price x    y    z   \n",
              "1     0.23  Ideal     E     SI2     61.5  55    326   3.95 3.98 2.43\n",
              "2     0.21  Premium   E     SI1     59.8  61    326   3.89 3.84 2.31\n",
              "3     0.23  Good      E     VS1     56.9  65    327   4.05 4.07 2.31\n",
              "4     0.29  Premium   I     VS2     62.4  58    334   4.20 4.23 2.63\n",
              "5     0.31  Good      J     SI2     63.3  58    335   4.34 4.35 2.75\n",
              "6     0.24  Very Good J     VVS2    62.8  57    336   3.94 3.96 2.48\n",
              "7     0.24  Very Good I     VVS1    62.3  57    336   3.95 3.98 2.47\n",
              "8     0.26  Very Good H     SI1     61.9  55    337   4.07 4.11 2.53\n",
              "9     0.22  Fair      E     VS2     65.1  61    337   3.87 3.78 2.49\n",
              "10    0.23  Very Good H     VS1     59.4  61    338   4.00 4.05 2.39\n",
              "11    0.30  Good      J     SI1     64.0  55    339   4.25 4.28 2.73\n",
              "12    0.23  Ideal     J     VS1     62.8  56    340   3.93 3.90 2.46\n",
              "13    0.22  Premium   F     SI1     60.4  61    342   3.88 3.84 2.33\n",
              "14    0.31  Ideal     J     SI2     62.2  54    344   4.35 4.37 2.71\n",
              "15    0.20  Premium   E     SI2     60.2  62    345   3.79 3.75 2.27\n",
              "16    0.32  Premium   E     I1      60.9  58    345   4.38 4.42 2.68\n",
              "17    0.30  Ideal     I     SI2     62.0  54    348   4.31 4.34 2.68\n",
              "18    0.30  Good      J     SI1     63.4  54    351   4.23 4.29 2.70\n",
              "19    0.30  Good      J     SI1     63.8  56    351   4.23 4.26 2.71\n",
              "20    0.30  Very Good J     SI1     62.7  59    351   4.21 4.27 2.66\n",
              "21    0.30  Good      I     SI2     63.3  56    351   4.26 4.30 2.71\n",
              "22    0.23  Very Good E     VS2     63.8  55    352   3.85 3.92 2.48\n",
              "23    0.23  Very Good H     VS1     61.0  57    353   3.94 3.96 2.41\n",
              "24    0.31  Very Good J     SI1     59.4  62    353   4.39 4.43 2.62\n",
              "25    0.31  Very Good J     SI1     58.1  62    353   4.44 4.47 2.59\n",
              "26    0.23  Very Good G     VVS2    60.4  58    354   3.97 4.01 2.41\n",
              "27    0.24  Premium   I     VS1     62.5  57    355   3.97 3.94 2.47\n",
              "28    0.30  Very Good J     VS2     62.2  57    357   4.28 4.30 2.67\n",
              "29    0.23  Very Good D     VS2     60.5  61    357   3.96 3.97 2.40\n",
              "30    0.23  Very Good F     VS1     60.9  57    357   3.96 3.99 2.42\n",
              "⋮     ⋮     ⋮         ⋮     ⋮       ⋮     ⋮     ⋮     ⋮    ⋮    ⋮   \n",
              "53911 0.70  Premium   E     SI1     60.5  58    2753  5.74 5.77 3.48\n",
              "53912 0.57  Premium   E     IF      59.8  60    2753  5.43 5.38 3.23\n",
              "53913 0.61  Premium   F     VVS1    61.8  59    2753  5.48 5.40 3.36\n",
              "53914 0.80  Good      G     VS2     64.2  58    2753  5.84 5.81 3.74\n",
              "53915 0.84  Good      I     VS1     63.7  59    2753  5.94 5.90 3.77\n",
              "53916 0.77  Ideal     E     SI2     62.1  56    2753  5.84 5.86 3.63\n",
              "53917 0.74  Good      D     SI1     63.1  59    2753  5.71 5.74 3.61\n",
              "53918 0.90  Very Good J     SI1     63.2  60    2753  6.12 6.09 3.86\n",
              "53919 0.76  Premium   I     VS1     59.3  62    2753  5.93 5.85 3.49\n",
              "53920 0.76  Ideal     I     VVS1    62.2  55    2753  5.89 5.87 3.66\n",
              "53921 0.70  Very Good E     VS2     62.4  60    2755  5.57 5.61 3.49\n",
              "53922 0.70  Very Good E     VS2     62.8  60    2755  5.59 5.65 3.53\n",
              "53923 0.70  Very Good D     VS1     63.1  59    2755  5.67 5.58 3.55\n",
              "53924 0.73  Ideal     I     VS2     61.3  56    2756  5.80 5.84 3.57\n",
              "53925 0.73  Ideal     I     VS2     61.6  55    2756  5.82 5.84 3.59\n",
              "53926 0.79  Ideal     I     SI1     61.6  56    2756  5.95 5.97 3.67\n",
              "53927 0.71  Ideal     E     SI1     61.9  56    2756  5.71 5.73 3.54\n",
              "53928 0.79  Good      F     SI1     58.1  59    2756  6.06 6.13 3.54\n",
              "53929 0.79  Premium   E     SI2     61.4  58    2756  6.03 5.96 3.68\n",
              "53930 0.71  Ideal     G     VS1     61.4  56    2756  5.76 5.73 3.53\n",
              "53931 0.71  Premium   E     SI1     60.5  55    2756  5.79 5.74 3.49\n",
              "53932 0.71  Premium   F     SI1     59.8  62    2756  5.74 5.73 3.43\n",
              "53933 0.70  Very Good E     VS2     60.5  59    2757  5.71 5.76 3.47\n",
              "53934 0.70  Very Good E     VS2     61.2  59    2757  5.69 5.72 3.49\n",
              "53935 0.72  Premium   D     SI1     62.7  59    2757  5.69 5.73 3.58\n",
              "53936 0.72  Ideal     D     SI1     60.8  57    2757  5.75 5.76 3.50\n",
              "53937 0.72  Good      D     SI1     63.1  55    2757  5.69 5.75 3.61\n",
              "53938 0.70  Very Good D     SI1     62.8  60    2757  5.66 5.68 3.56\n",
              "53939 0.86  Premium   H     SI2     61.0  58    2757  6.15 6.12 3.74\n",
              "53940 0.75  Ideal     D     SI2     62.2  55    2757  5.83 5.87 3.64"
            ],
            "text/latex": "A tibble: 53940 × 10\n\\begin{tabular}{llllllllll}\n carat & cut & color & clarity & depth & table & price & x & y & z\\\\\n <dbl> & <ord> & <ord> & <ord> & <dbl> & <dbl> & <int> & <dbl> & <dbl> & <dbl>\\\\\n\\hline\n\t 0.23 & Ideal     & E & SI2  & 61.5 & 55 & 326 & 3.95 & 3.98 & 2.43\\\\\n\t 0.21 & Premium   & E & SI1  & 59.8 & 61 & 326 & 3.89 & 3.84 & 2.31\\\\\n\t 0.23 & Good      & E & VS1  & 56.9 & 65 & 327 & 4.05 & 4.07 & 2.31\\\\\n\t 0.29 & Premium   & I & VS2  & 62.4 & 58 & 334 & 4.20 & 4.23 & 2.63\\\\\n\t 0.31 & Good      & J & SI2  & 63.3 & 58 & 335 & 4.34 & 4.35 & 2.75\\\\\n\t 0.24 & Very Good & J & VVS2 & 62.8 & 57 & 336 & 3.94 & 3.96 & 2.48\\\\\n\t 0.24 & Very Good & I & VVS1 & 62.3 & 57 & 336 & 3.95 & 3.98 & 2.47\\\\\n\t 0.26 & Very Good & H & SI1  & 61.9 & 55 & 337 & 4.07 & 4.11 & 2.53\\\\\n\t 0.22 & Fair      & E & VS2  & 65.1 & 61 & 337 & 3.87 & 3.78 & 2.49\\\\\n\t 0.23 & Very Good & H & VS1  & 59.4 & 61 & 338 & 4.00 & 4.05 & 2.39\\\\\n\t 0.30 & Good      & J & SI1  & 64.0 & 55 & 339 & 4.25 & 4.28 & 2.73\\\\\n\t 0.23 & Ideal     & J & VS1  & 62.8 & 56 & 340 & 3.93 & 3.90 & 2.46\\\\\n\t 0.22 & Premium   & F & SI1  & 60.4 & 61 & 342 & 3.88 & 3.84 & 2.33\\\\\n\t 0.31 & Ideal     & J & SI2  & 62.2 & 54 & 344 & 4.35 & 4.37 & 2.71\\\\\n\t 0.20 & Premium   & E & SI2  & 60.2 & 62 & 345 & 3.79 & 3.75 & 2.27\\\\\n\t 0.32 & Premium   & E & I1   & 60.9 & 58 & 345 & 4.38 & 4.42 & 2.68\\\\\n\t 0.30 & Ideal     & I & SI2  & 62.0 & 54 & 348 & 4.31 & 4.34 & 2.68\\\\\n\t 0.30 & Good      & J & SI1  & 63.4 & 54 & 351 & 4.23 & 4.29 & 2.70\\\\\n\t 0.30 & Good      & J & SI1  & 63.8 & 56 & 351 & 4.23 & 4.26 & 2.71\\\\\n\t 0.30 & Very Good & J & SI1  & 62.7 & 59 & 351 & 4.21 & 4.27 & 2.66\\\\\n\t 0.30 & Good      & I & SI2  & 63.3 & 56 & 351 & 4.26 & 4.30 & 2.71\\\\\n\t 0.23 & Very Good & E & VS2  & 63.8 & 55 & 352 & 3.85 & 3.92 & 2.48\\\\\n\t 0.23 & Very Good & H & VS1  & 61.0 & 57 & 353 & 3.94 & 3.96 & 2.41\\\\\n\t 0.31 & Very Good & J & SI1  & 59.4 & 62 & 353 & 4.39 & 4.43 & 2.62\\\\\n\t 0.31 & Very Good & J & SI1  & 58.1 & 62 & 353 & 4.44 & 4.47 & 2.59\\\\\n\t 0.23 & Very Good & G & VVS2 & 60.4 & 58 & 354 & 3.97 & 4.01 & 2.41\\\\\n\t 0.24 & Premium   & I & VS1  & 62.5 & 57 & 355 & 3.97 & 3.94 & 2.47\\\\\n\t 0.30 & Very Good & J & VS2  & 62.2 & 57 & 357 & 4.28 & 4.30 & 2.67\\\\\n\t 0.23 & Very Good & D & VS2  & 60.5 & 61 & 357 & 3.96 & 3.97 & 2.40\\\\\n\t 0.23 & Very Good & F & VS1  & 60.9 & 57 & 357 & 3.96 & 3.99 & 2.42\\\\\n\t ⋮ & ⋮ & ⋮ & ⋮ & ⋮ & ⋮ & ⋮ & ⋮ & ⋮ & ⋮\\\\\n\t 0.70 & Premium   & E & SI1  & 60.5 & 58 & 2753 & 5.74 & 5.77 & 3.48\\\\\n\t 0.57 & Premium   & E & IF   & 59.8 & 60 & 2753 & 5.43 & 5.38 & 3.23\\\\\n\t 0.61 & Premium   & F & VVS1 & 61.8 & 59 & 2753 & 5.48 & 5.40 & 3.36\\\\\n\t 0.80 & Good      & G & VS2  & 64.2 & 58 & 2753 & 5.84 & 5.81 & 3.74\\\\\n\t 0.84 & Good      & I & VS1  & 63.7 & 59 & 2753 & 5.94 & 5.90 & 3.77\\\\\n\t 0.77 & Ideal     & E & SI2  & 62.1 & 56 & 2753 & 5.84 & 5.86 & 3.63\\\\\n\t 0.74 & Good      & D & SI1  & 63.1 & 59 & 2753 & 5.71 & 5.74 & 3.61\\\\\n\t 0.90 & Very Good & J & SI1  & 63.2 & 60 & 2753 & 6.12 & 6.09 & 3.86\\\\\n\t 0.76 & Premium   & I & VS1  & 59.3 & 62 & 2753 & 5.93 & 5.85 & 3.49\\\\\n\t 0.76 & Ideal     & I & VVS1 & 62.2 & 55 & 2753 & 5.89 & 5.87 & 3.66\\\\\n\t 0.70 & Very Good & E & VS2  & 62.4 & 60 & 2755 & 5.57 & 5.61 & 3.49\\\\\n\t 0.70 & Very Good & E & VS2  & 62.8 & 60 & 2755 & 5.59 & 5.65 & 3.53\\\\\n\t 0.70 & Very Good & D & VS1  & 63.1 & 59 & 2755 & 5.67 & 5.58 & 3.55\\\\\n\t 0.73 & Ideal     & I & VS2  & 61.3 & 56 & 2756 & 5.80 & 5.84 & 3.57\\\\\n\t 0.73 & Ideal     & I & VS2  & 61.6 & 55 & 2756 & 5.82 & 5.84 & 3.59\\\\\n\t 0.79 & Ideal     & I & SI1  & 61.6 & 56 & 2756 & 5.95 & 5.97 & 3.67\\\\\n\t 0.71 & Ideal     & E & SI1  & 61.9 & 56 & 2756 & 5.71 & 5.73 & 3.54\\\\\n\t 0.79 & Good      & F & SI1  & 58.1 & 59 & 2756 & 6.06 & 6.13 & 3.54\\\\\n\t 0.79 & Premium   & E & SI2  & 61.4 & 58 & 2756 & 6.03 & 5.96 & 3.68\\\\\n\t 0.71 & Ideal     & G & VS1  & 61.4 & 56 & 2756 & 5.76 & 5.73 & 3.53\\\\\n\t 0.71 & Premium   & E & SI1  & 60.5 & 55 & 2756 & 5.79 & 5.74 & 3.49\\\\\n\t 0.71 & Premium   & F & SI1  & 59.8 & 62 & 2756 & 5.74 & 5.73 & 3.43\\\\\n\t 0.70 & Very Good & E & VS2  & 60.5 & 59 & 2757 & 5.71 & 5.76 & 3.47\\\\\n\t 0.70 & Very Good & E & VS2  & 61.2 & 59 & 2757 & 5.69 & 5.72 & 3.49\\\\\n\t 0.72 & Premium   & D & SI1  & 62.7 & 59 & 2757 & 5.69 & 5.73 & 3.58\\\\\n\t 0.72 & Ideal     & D & SI1  & 60.8 & 57 & 2757 & 5.75 & 5.76 & 3.50\\\\\n\t 0.72 & Good      & D & SI1  & 63.1 & 55 & 2757 & 5.69 & 5.75 & 3.61\\\\\n\t 0.70 & Very Good & D & SI1  & 62.8 & 60 & 2757 & 5.66 & 5.68 & 3.56\\\\\n\t 0.86 & Premium   & H & SI2  & 61.0 & 58 & 2757 & 6.15 & 6.12 & 3.74\\\\\n\t 0.75 & Ideal     & D & SI2  & 62.2 & 55 & 2757 & 5.83 & 5.87 & 3.64\\\\\n\\end{tabular}\n",
            "text/markdown": "\nA tibble: 53940 × 10\n\n| carat &lt;dbl&gt; | cut &lt;ord&gt; | color &lt;ord&gt; | clarity &lt;ord&gt; | depth &lt;dbl&gt; | table &lt;dbl&gt; | price &lt;int&gt; | x &lt;dbl&gt; | y &lt;dbl&gt; | z &lt;dbl&gt; |\n|---|---|---|---|---|---|---|---|---|---|\n| 0.23 | Ideal     | E | SI2  | 61.5 | 55 | 326 | 3.95 | 3.98 | 2.43 |\n| 0.21 | Premium   | E | SI1  | 59.8 | 61 | 326 | 3.89 | 3.84 | 2.31 |\n| 0.23 | Good      | E | VS1  | 56.9 | 65 | 327 | 4.05 | 4.07 | 2.31 |\n| 0.29 | Premium   | I | VS2  | 62.4 | 58 | 334 | 4.20 | 4.23 | 2.63 |\n| 0.31 | Good      | J | SI2  | 63.3 | 58 | 335 | 4.34 | 4.35 | 2.75 |\n| 0.24 | Very Good | J | VVS2 | 62.8 | 57 | 336 | 3.94 | 3.96 | 2.48 |\n| 0.24 | Very Good | I | VVS1 | 62.3 | 57 | 336 | 3.95 | 3.98 | 2.47 |\n| 0.26 | Very Good | H | SI1  | 61.9 | 55 | 337 | 4.07 | 4.11 | 2.53 |\n| 0.22 | Fair      | E | VS2  | 65.1 | 61 | 337 | 3.87 | 3.78 | 2.49 |\n| 0.23 | Very Good | H | VS1  | 59.4 | 61 | 338 | 4.00 | 4.05 | 2.39 |\n| 0.30 | Good      | J | SI1  | 64.0 | 55 | 339 | 4.25 | 4.28 | 2.73 |\n| 0.23 | Ideal     | J | VS1  | 62.8 | 56 | 340 | 3.93 | 3.90 | 2.46 |\n| 0.22 | Premium   | F | SI1  | 60.4 | 61 | 342 | 3.88 | 3.84 | 2.33 |\n| 0.31 | Ideal     | J | SI2  | 62.2 | 54 | 344 | 4.35 | 4.37 | 2.71 |\n| 0.20 | Premium   | E | SI2  | 60.2 | 62 | 345 | 3.79 | 3.75 | 2.27 |\n| 0.32 | Premium   | E | I1   | 60.9 | 58 | 345 | 4.38 | 4.42 | 2.68 |\n| 0.30 | Ideal     | I | SI2  | 62.0 | 54 | 348 | 4.31 | 4.34 | 2.68 |\n| 0.30 | Good      | J | SI1  | 63.4 | 54 | 351 | 4.23 | 4.29 | 2.70 |\n| 0.30 | Good      | J | SI1  | 63.8 | 56 | 351 | 4.23 | 4.26 | 2.71 |\n| 0.30 | Very Good | J | SI1  | 62.7 | 59 | 351 | 4.21 | 4.27 | 2.66 |\n| 0.30 | Good      | I | SI2  | 63.3 | 56 | 351 | 4.26 | 4.30 | 2.71 |\n| 0.23 | Very Good | E | VS2  | 63.8 | 55 | 352 | 3.85 | 3.92 | 2.48 |\n| 0.23 | Very Good | H | VS1  | 61.0 | 57 | 353 | 3.94 | 3.96 | 2.41 |\n| 0.31 | Very Good | J | SI1  | 59.4 | 62 | 353 | 4.39 | 4.43 | 2.62 |\n| 0.31 | Very Good | J | SI1  | 58.1 | 62 | 353 | 4.44 | 4.47 | 2.59 |\n| 0.23 | Very Good | G | VVS2 | 60.4 | 58 | 354 | 3.97 | 4.01 | 2.41 |\n| 0.24 | Premium   | I | VS1  | 62.5 | 57 | 355 | 3.97 | 3.94 | 2.47 |\n| 0.30 | Very Good | J | VS2  | 62.2 | 57 | 357 | 4.28 | 4.30 | 2.67 |\n| 0.23 | Very Good | D | VS2  | 60.5 | 61 | 357 | 3.96 | 3.97 | 2.40 |\n| 0.23 | Very Good | F | VS1  | 60.9 | 57 | 357 | 3.96 | 3.99 | 2.42 |\n| ⋮ | ⋮ | ⋮ | ⋮ | ⋮ | ⋮ | ⋮ | ⋮ | ⋮ | ⋮ |\n| 0.70 | Premium   | E | SI1  | 60.5 | 58 | 2753 | 5.74 | 5.77 | 3.48 |\n| 0.57 | Premium   | E | IF   | 59.8 | 60 | 2753 | 5.43 | 5.38 | 3.23 |\n| 0.61 | Premium   | F | VVS1 | 61.8 | 59 | 2753 | 5.48 | 5.40 | 3.36 |\n| 0.80 | Good      | G | VS2  | 64.2 | 58 | 2753 | 5.84 | 5.81 | 3.74 |\n| 0.84 | Good      | I | VS1  | 63.7 | 59 | 2753 | 5.94 | 5.90 | 3.77 |\n| 0.77 | Ideal     | E | SI2  | 62.1 | 56 | 2753 | 5.84 | 5.86 | 3.63 |\n| 0.74 | Good      | D | SI1  | 63.1 | 59 | 2753 | 5.71 | 5.74 | 3.61 |\n| 0.90 | Very Good | J | SI1  | 63.2 | 60 | 2753 | 6.12 | 6.09 | 3.86 |\n| 0.76 | Premium   | I | VS1  | 59.3 | 62 | 2753 | 5.93 | 5.85 | 3.49 |\n| 0.76 | Ideal     | I | VVS1 | 62.2 | 55 | 2753 | 5.89 | 5.87 | 3.66 |\n| 0.70 | Very Good | E | VS2  | 62.4 | 60 | 2755 | 5.57 | 5.61 | 3.49 |\n| 0.70 | Very Good | E | VS2  | 62.8 | 60 | 2755 | 5.59 | 5.65 | 3.53 |\n| 0.70 | Very Good | D | VS1  | 63.1 | 59 | 2755 | 5.67 | 5.58 | 3.55 |\n| 0.73 | Ideal     | I | VS2  | 61.3 | 56 | 2756 | 5.80 | 5.84 | 3.57 |\n| 0.73 | Ideal     | I | VS2  | 61.6 | 55 | 2756 | 5.82 | 5.84 | 3.59 |\n| 0.79 | Ideal     | I | SI1  | 61.6 | 56 | 2756 | 5.95 | 5.97 | 3.67 |\n| 0.71 | Ideal     | E | SI1  | 61.9 | 56 | 2756 | 5.71 | 5.73 | 3.54 |\n| 0.79 | Good      | F | SI1  | 58.1 | 59 | 2756 | 6.06 | 6.13 | 3.54 |\n| 0.79 | Premium   | E | SI2  | 61.4 | 58 | 2756 | 6.03 | 5.96 | 3.68 |\n| 0.71 | Ideal     | G | VS1  | 61.4 | 56 | 2756 | 5.76 | 5.73 | 3.53 |\n| 0.71 | Premium   | E | SI1  | 60.5 | 55 | 2756 | 5.79 | 5.74 | 3.49 |\n| 0.71 | Premium   | F | SI1  | 59.8 | 62 | 2756 | 5.74 | 5.73 | 3.43 |\n| 0.70 | Very Good | E | VS2  | 60.5 | 59 | 2757 | 5.71 | 5.76 | 3.47 |\n| 0.70 | Very Good | E | VS2  | 61.2 | 59 | 2757 | 5.69 | 5.72 | 3.49 |\n| 0.72 | Premium   | D | SI1  | 62.7 | 59 | 2757 | 5.69 | 5.73 | 3.58 |\n| 0.72 | Ideal     | D | SI1  | 60.8 | 57 | 2757 | 5.75 | 5.76 | 3.50 |\n| 0.72 | Good      | D | SI1  | 63.1 | 55 | 2757 | 5.69 | 5.75 | 3.61 |\n| 0.70 | Very Good | D | SI1  | 62.8 | 60 | 2757 | 5.66 | 5.68 | 3.56 |\n| 0.86 | Premium   | H | SI2  | 61.0 | 58 | 2757 | 6.15 | 6.12 | 3.74 |\n| 0.75 | Ideal     | D | SI2  | 62.2 | 55 | 2757 | 5.83 | 5.87 | 3.64 |\n\n",
            "text/html": [
              "<table class=\"dataframe\">\n",
              "<caption>A tibble: 53940 × 10</caption>\n",
              "<thead>\n",
              "\t<tr><th scope=col>carat</th><th scope=col>cut</th><th scope=col>color</th><th scope=col>clarity</th><th scope=col>depth</th><th scope=col>table</th><th scope=col>price</th><th scope=col>x</th><th scope=col>y</th><th scope=col>z</th></tr>\n",
              "\t<tr><th scope=col>&lt;dbl&gt;</th><th scope=col>&lt;ord&gt;</th><th scope=col>&lt;ord&gt;</th><th scope=col>&lt;ord&gt;</th><th scope=col>&lt;dbl&gt;</th><th scope=col>&lt;dbl&gt;</th><th scope=col>&lt;int&gt;</th><th scope=col>&lt;dbl&gt;</th><th scope=col>&lt;dbl&gt;</th><th scope=col>&lt;dbl&gt;</th></tr>\n",
              "</thead>\n",
              "<tbody>\n",
              "\t<tr><td>0.23</td><td>Ideal    </td><td>E</td><td>SI2 </td><td>61.5</td><td>55</td><td>326</td><td>3.95</td><td>3.98</td><td>2.43</td></tr>\n",
              "\t<tr><td>0.21</td><td>Premium  </td><td>E</td><td>SI1 </td><td>59.8</td><td>61</td><td>326</td><td>3.89</td><td>3.84</td><td>2.31</td></tr>\n",
              "\t<tr><td>0.23</td><td>Good     </td><td>E</td><td>VS1 </td><td>56.9</td><td>65</td><td>327</td><td>4.05</td><td>4.07</td><td>2.31</td></tr>\n",
              "\t<tr><td>0.29</td><td>Premium  </td><td>I</td><td>VS2 </td><td>62.4</td><td>58</td><td>334</td><td>4.20</td><td>4.23</td><td>2.63</td></tr>\n",
              "\t<tr><td>0.31</td><td>Good     </td><td>J</td><td>SI2 </td><td>63.3</td><td>58</td><td>335</td><td>4.34</td><td>4.35</td><td>2.75</td></tr>\n",
              "\t<tr><td>0.24</td><td>Very Good</td><td>J</td><td>VVS2</td><td>62.8</td><td>57</td><td>336</td><td>3.94</td><td>3.96</td><td>2.48</td></tr>\n",
              "\t<tr><td>0.24</td><td>Very Good</td><td>I</td><td>VVS1</td><td>62.3</td><td>57</td><td>336</td><td>3.95</td><td>3.98</td><td>2.47</td></tr>\n",
              "\t<tr><td>0.26</td><td>Very Good</td><td>H</td><td>SI1 </td><td>61.9</td><td>55</td><td>337</td><td>4.07</td><td>4.11</td><td>2.53</td></tr>\n",
              "\t<tr><td>0.22</td><td>Fair     </td><td>E</td><td>VS2 </td><td>65.1</td><td>61</td><td>337</td><td>3.87</td><td>3.78</td><td>2.49</td></tr>\n",
              "\t<tr><td>0.23</td><td>Very Good</td><td>H</td><td>VS1 </td><td>59.4</td><td>61</td><td>338</td><td>4.00</td><td>4.05</td><td>2.39</td></tr>\n",
              "\t<tr><td>0.30</td><td>Good     </td><td>J</td><td>SI1 </td><td>64.0</td><td>55</td><td>339</td><td>4.25</td><td>4.28</td><td>2.73</td></tr>\n",
              "\t<tr><td>0.23</td><td>Ideal    </td><td>J</td><td>VS1 </td><td>62.8</td><td>56</td><td>340</td><td>3.93</td><td>3.90</td><td>2.46</td></tr>\n",
              "\t<tr><td>0.22</td><td>Premium  </td><td>F</td><td>SI1 </td><td>60.4</td><td>61</td><td>342</td><td>3.88</td><td>3.84</td><td>2.33</td></tr>\n",
              "\t<tr><td>0.31</td><td>Ideal    </td><td>J</td><td>SI2 </td><td>62.2</td><td>54</td><td>344</td><td>4.35</td><td>4.37</td><td>2.71</td></tr>\n",
              "\t<tr><td>0.20</td><td>Premium  </td><td>E</td><td>SI2 </td><td>60.2</td><td>62</td><td>345</td><td>3.79</td><td>3.75</td><td>2.27</td></tr>\n",
              "\t<tr><td>0.32</td><td>Premium  </td><td>E</td><td>I1  </td><td>60.9</td><td>58</td><td>345</td><td>4.38</td><td>4.42</td><td>2.68</td></tr>\n",
              "\t<tr><td>0.30</td><td>Ideal    </td><td>I</td><td>SI2 </td><td>62.0</td><td>54</td><td>348</td><td>4.31</td><td>4.34</td><td>2.68</td></tr>\n",
              "\t<tr><td>0.30</td><td>Good     </td><td>J</td><td>SI1 </td><td>63.4</td><td>54</td><td>351</td><td>4.23</td><td>4.29</td><td>2.70</td></tr>\n",
              "\t<tr><td>0.30</td><td>Good     </td><td>J</td><td>SI1 </td><td>63.8</td><td>56</td><td>351</td><td>4.23</td><td>4.26</td><td>2.71</td></tr>\n",
              "\t<tr><td>0.30</td><td>Very Good</td><td>J</td><td>SI1 </td><td>62.7</td><td>59</td><td>351</td><td>4.21</td><td>4.27</td><td>2.66</td></tr>\n",
              "\t<tr><td>0.30</td><td>Good     </td><td>I</td><td>SI2 </td><td>63.3</td><td>56</td><td>351</td><td>4.26</td><td>4.30</td><td>2.71</td></tr>\n",
              "\t<tr><td>0.23</td><td>Very Good</td><td>E</td><td>VS2 </td><td>63.8</td><td>55</td><td>352</td><td>3.85</td><td>3.92</td><td>2.48</td></tr>\n",
              "\t<tr><td>0.23</td><td>Very Good</td><td>H</td><td>VS1 </td><td>61.0</td><td>57</td><td>353</td><td>3.94</td><td>3.96</td><td>2.41</td></tr>\n",
              "\t<tr><td>0.31</td><td>Very Good</td><td>J</td><td>SI1 </td><td>59.4</td><td>62</td><td>353</td><td>4.39</td><td>4.43</td><td>2.62</td></tr>\n",
              "\t<tr><td>0.31</td><td>Very Good</td><td>J</td><td>SI1 </td><td>58.1</td><td>62</td><td>353</td><td>4.44</td><td>4.47</td><td>2.59</td></tr>\n",
              "\t<tr><td>0.23</td><td>Very Good</td><td>G</td><td>VVS2</td><td>60.4</td><td>58</td><td>354</td><td>3.97</td><td>4.01</td><td>2.41</td></tr>\n",
              "\t<tr><td>0.24</td><td>Premium  </td><td>I</td><td>VS1 </td><td>62.5</td><td>57</td><td>355</td><td>3.97</td><td>3.94</td><td>2.47</td></tr>\n",
              "\t<tr><td>0.30</td><td>Very Good</td><td>J</td><td>VS2 </td><td>62.2</td><td>57</td><td>357</td><td>4.28</td><td>4.30</td><td>2.67</td></tr>\n",
              "\t<tr><td>0.23</td><td>Very Good</td><td>D</td><td>VS2 </td><td>60.5</td><td>61</td><td>357</td><td>3.96</td><td>3.97</td><td>2.40</td></tr>\n",
              "\t<tr><td>0.23</td><td>Very Good</td><td>F</td><td>VS1 </td><td>60.9</td><td>57</td><td>357</td><td>3.96</td><td>3.99</td><td>2.42</td></tr>\n",
              "\t<tr><td>⋮</td><td>⋮</td><td>⋮</td><td>⋮</td><td>⋮</td><td>⋮</td><td>⋮</td><td>⋮</td><td>⋮</td><td>⋮</td></tr>\n",
              "\t<tr><td>0.70</td><td>Premium  </td><td>E</td><td>SI1 </td><td>60.5</td><td>58</td><td>2753</td><td>5.74</td><td>5.77</td><td>3.48</td></tr>\n",
              "\t<tr><td>0.57</td><td>Premium  </td><td>E</td><td>IF  </td><td>59.8</td><td>60</td><td>2753</td><td>5.43</td><td>5.38</td><td>3.23</td></tr>\n",
              "\t<tr><td>0.61</td><td>Premium  </td><td>F</td><td>VVS1</td><td>61.8</td><td>59</td><td>2753</td><td>5.48</td><td>5.40</td><td>3.36</td></tr>\n",
              "\t<tr><td>0.80</td><td>Good     </td><td>G</td><td>VS2 </td><td>64.2</td><td>58</td><td>2753</td><td>5.84</td><td>5.81</td><td>3.74</td></tr>\n",
              "\t<tr><td>0.84</td><td>Good     </td><td>I</td><td>VS1 </td><td>63.7</td><td>59</td><td>2753</td><td>5.94</td><td>5.90</td><td>3.77</td></tr>\n",
              "\t<tr><td>0.77</td><td>Ideal    </td><td>E</td><td>SI2 </td><td>62.1</td><td>56</td><td>2753</td><td>5.84</td><td>5.86</td><td>3.63</td></tr>\n",
              "\t<tr><td>0.74</td><td>Good     </td><td>D</td><td>SI1 </td><td>63.1</td><td>59</td><td>2753</td><td>5.71</td><td>5.74</td><td>3.61</td></tr>\n",
              "\t<tr><td>0.90</td><td>Very Good</td><td>J</td><td>SI1 </td><td>63.2</td><td>60</td><td>2753</td><td>6.12</td><td>6.09</td><td>3.86</td></tr>\n",
              "\t<tr><td>0.76</td><td>Premium  </td><td>I</td><td>VS1 </td><td>59.3</td><td>62</td><td>2753</td><td>5.93</td><td>5.85</td><td>3.49</td></tr>\n",
              "\t<tr><td>0.76</td><td>Ideal    </td><td>I</td><td>VVS1</td><td>62.2</td><td>55</td><td>2753</td><td>5.89</td><td>5.87</td><td>3.66</td></tr>\n",
              "\t<tr><td>0.70</td><td>Very Good</td><td>E</td><td>VS2 </td><td>62.4</td><td>60</td><td>2755</td><td>5.57</td><td>5.61</td><td>3.49</td></tr>\n",
              "\t<tr><td>0.70</td><td>Very Good</td><td>E</td><td>VS2 </td><td>62.8</td><td>60</td><td>2755</td><td>5.59</td><td>5.65</td><td>3.53</td></tr>\n",
              "\t<tr><td>0.70</td><td>Very Good</td><td>D</td><td>VS1 </td><td>63.1</td><td>59</td><td>2755</td><td>5.67</td><td>5.58</td><td>3.55</td></tr>\n",
              "\t<tr><td>0.73</td><td>Ideal    </td><td>I</td><td>VS2 </td><td>61.3</td><td>56</td><td>2756</td><td>5.80</td><td>5.84</td><td>3.57</td></tr>\n",
              "\t<tr><td>0.73</td><td>Ideal    </td><td>I</td><td>VS2 </td><td>61.6</td><td>55</td><td>2756</td><td>5.82</td><td>5.84</td><td>3.59</td></tr>\n",
              "\t<tr><td>0.79</td><td>Ideal    </td><td>I</td><td>SI1 </td><td>61.6</td><td>56</td><td>2756</td><td>5.95</td><td>5.97</td><td>3.67</td></tr>\n",
              "\t<tr><td>0.71</td><td>Ideal    </td><td>E</td><td>SI1 </td><td>61.9</td><td>56</td><td>2756</td><td>5.71</td><td>5.73</td><td>3.54</td></tr>\n",
              "\t<tr><td>0.79</td><td>Good     </td><td>F</td><td>SI1 </td><td>58.1</td><td>59</td><td>2756</td><td>6.06</td><td>6.13</td><td>3.54</td></tr>\n",
              "\t<tr><td>0.79</td><td>Premium  </td><td>E</td><td>SI2 </td><td>61.4</td><td>58</td><td>2756</td><td>6.03</td><td>5.96</td><td>3.68</td></tr>\n",
              "\t<tr><td>0.71</td><td>Ideal    </td><td>G</td><td>VS1 </td><td>61.4</td><td>56</td><td>2756</td><td>5.76</td><td>5.73</td><td>3.53</td></tr>\n",
              "\t<tr><td>0.71</td><td>Premium  </td><td>E</td><td>SI1 </td><td>60.5</td><td>55</td><td>2756</td><td>5.79</td><td>5.74</td><td>3.49</td></tr>\n",
              "\t<tr><td>0.71</td><td>Premium  </td><td>F</td><td>SI1 </td><td>59.8</td><td>62</td><td>2756</td><td>5.74</td><td>5.73</td><td>3.43</td></tr>\n",
              "\t<tr><td>0.70</td><td>Very Good</td><td>E</td><td>VS2 </td><td>60.5</td><td>59</td><td>2757</td><td>5.71</td><td>5.76</td><td>3.47</td></tr>\n",
              "\t<tr><td>0.70</td><td>Very Good</td><td>E</td><td>VS2 </td><td>61.2</td><td>59</td><td>2757</td><td>5.69</td><td>5.72</td><td>3.49</td></tr>\n",
              "\t<tr><td>0.72</td><td>Premium  </td><td>D</td><td>SI1 </td><td>62.7</td><td>59</td><td>2757</td><td>5.69</td><td>5.73</td><td>3.58</td></tr>\n",
              "\t<tr><td>0.72</td><td>Ideal    </td><td>D</td><td>SI1 </td><td>60.8</td><td>57</td><td>2757</td><td>5.75</td><td>5.76</td><td>3.50</td></tr>\n",
              "\t<tr><td>0.72</td><td>Good     </td><td>D</td><td>SI1 </td><td>63.1</td><td>55</td><td>2757</td><td>5.69</td><td>5.75</td><td>3.61</td></tr>\n",
              "\t<tr><td>0.70</td><td>Very Good</td><td>D</td><td>SI1 </td><td>62.8</td><td>60</td><td>2757</td><td>5.66</td><td>5.68</td><td>3.56</td></tr>\n",
              "\t<tr><td>0.86</td><td>Premium  </td><td>H</td><td>SI2 </td><td>61.0</td><td>58</td><td>2757</td><td>6.15</td><td>6.12</td><td>3.74</td></tr>\n",
              "\t<tr><td>0.75</td><td>Ideal    </td><td>D</td><td>SI2 </td><td>62.2</td><td>55</td><td>2757</td><td>5.83</td><td>5.87</td><td>3.64</td></tr>\n",
              "</tbody>\n",
              "</table>\n"
            ]
          },
          "metadata": {}
        }
      ]
    },
    {
      "cell_type": "code",
      "metadata": {
        "id": "XmxSvXSzPsTr",
        "colab": {
          "base_uri": "https://localhost:8080/",
          "height": 437
        },
        "outputId": "31d6fc06-4b39-482b-885d-61a2df590b24"
      },
      "source": [
        "diamonds %>% ggplot(aes(cut, price)) + geom_boxplot()"
      ],
      "execution_count": 75,
      "outputs": [
        {
          "output_type": "display_data",
          "data": {
            "image/png": "[encoded data removed]",
            "text/plain": [
              "plot without title"
            ]
          },
          "metadata": {
            "image/png": {
              "width": 420,
              "height": 420
            }
          }
        }
      ]
    },
    {
      "cell_type": "markdown",
      "metadata": {
        "id": "thoNDudLFKMW"
      },
      "source": [
        "* 가격과 같은 경우는 치우쳐져 있는 경우가 많아서 그럴 경우는 box-plot보다는 violin-plot을 사용하는게 더 효과적이다."
      ]
    },
    {
      "cell_type": "code",
      "metadata": {
        "id": "_TsUN1MrYS3b",
        "colab": {
          "base_uri": "https://localhost:8080/",
          "height": 437
        },
        "outputId": "1b75cd1b-4ee5-457c-fd9c-c65b36e4326a"
      },
      "source": [
        "diamonds %>% ggplot(aes(cut, price)) + geom_violin() "
      ],
      "execution_count": 76,
      "outputs": [
        {
          "output_type": "display_data",
          "data": {
            "image/png": "[encoded data removed]",
            "text/plain": [
              "plot without title"
            ]
          },
          "metadata": {
            "image/png": {
              "width": 420,
              "height": 420
            }
          }
        }
      ]
    },
    {
      "cell_type": "markdown",
      "metadata": {
        "id": "Y0LCVcx3FXM8"
      },
      "source": [
        "* violin-plot만 그러주기 좀 그럴 때는 violin-plot안에 box-plot을 넣어 주는 경우도 있다."
      ]
    },
    {
      "cell_type": "code",
      "metadata": {
        "id": "QEbFu0PeaEKx",
        "colab": {
          "base_uri": "https://localhost:8080/",
          "height": 437
        },
        "outputId": "594e5ef2-e5f8-49a4-8389-492cc04b3595"
      },
      "source": [
        "diamonds %>% ggplot(aes(cut, price)) + geom_violin() + geom_boxplot(width=0.1, color=\"grey\", alpha=0.2)  "
      ],
      "execution_count": 77,
      "outputs": [
        {
          "output_type": "display_data",
          "data": {
            "image/png": "[encoded data removed]",
            "text/plain": [
              "plot without title"
            ]
          },
          "metadata": {
            "image/png": {
              "width": 420,
              "height": 420
            }
          }
        }
      ]
    },
    {
      "cell_type": "code",
      "metadata": {
        "id": "Aovvb2AeG5Ew"
      },
      "source": [
        ""
      ],
      "execution_count": null,
      "outputs": []
    }
  ]
}
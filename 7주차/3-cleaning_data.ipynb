{
  "nbformat": 4,
  "nbformat_minor": 0,
  "metadata": {
    "kernelspec": {
      "display_name": "Python 3",
      "language": "python",
      "name": "python3"
    },
    "language_info": {
      "codemirror_mode": {
        "name": "ipython",
        "version": 3
      },
      "file_extension": ".py",
      "mimetype": "text/x-python",
      "name": "python",
      "nbconvert_exporter": "python",
      "pygments_lexer": "ipython3",
      "version": "3.7.3"
    },
    "colab": {
      "name": "3-cleaning_data.ipynb",
      "provenance": [],
      "include_colab_link": true
    }
  },
  "cells": [
    {
      "cell_type": "markdown",
      "metadata": {
        "id": "view-in-github",
        "colab_type": "text"
      },
      "source": [
        "<a href=\"https://colab.research.google.com/github/kcw0331/Environmental-Health-Big-Data-Analysis/blob/main/7%EC%A3%BC%EC%B0%A8/3-cleaning_data.ipynb\" target=\"_parent\"><img src=\"https://colab.research.google.com/assets/colab-badge.svg\" alt=\"Open In Colab\"/></a>"
      ]
    },
    {
      "cell_type": "markdown",
      "metadata": {
        "id": "6Z-nqCrBjI6f"
      },
      "source": [
        "# Cleaning Data\n",
        "\n",
        "## About the data\n",
        "In this notebook, we will using daily temperature data from the [National Centers for Environmental Information (NCEI) API](https://www.ncdc.noaa.gov/cdo-web/webservices/v2). We will use the Global Historical Climatology Network - Daily (GHCND) dataset; see the documentation [here](https://www1.ncdc.noaa.gov/pub/data/cdo/documentation/GHCND_documentation.pdf).\n",
        "\n",
        "This data was collected from the LaGuardia Airport station in New York City for October 2018. It contains:\n",
        "- the daily minimum temperature (`TMIN`)\n",
        "- the daily maximum temperature (`TMAX`)\n",
        "- the daily average temperature (`TAVG`)\n",
        "\n",
        "*Note: The NCEI is part of the National Oceanic and Atmospheric Administration (NOAA) and, as you can see from the URL for the API, this resource was created when the NCEI was called the NCDC. Should the URL for this resource change in the future, you can search for \"NCEI weather API\" to find the updated one.*\n",
        "\n",
        "In addition, we will be using S&P 500 stock market data (obtained using the [`stock_analysis`](https://github.com/stefmolin/stock-analysis) package we will build in chapter 7) and data for bitcoin for 2017 through 2018. For the first edition, the bitcoin data was collected from CoinMarketCap using the `stock_analysis` package; however, changes in the website led to the necessity of changing the data source to Yahoo! Finance. The bitcoin data that was collected before the CoinMarketCap website change should be equivalent to the historical data that can be viewed on [this](https://coinmarketcap.com/currencies/bitcoin/historical-data/) page.\n",
        "\n",
        "## Setup\n",
        "We need to import `pandas` and read in the temperature data to get started:"
      ]
    },
    {
      "cell_type": "code",
      "metadata": {
        "id": "D7FJNXGKqUiO",
        "colab": {
          "base_uri": "https://localhost:8080/"
        },
        "outputId": "cff880ee-d3be-4175-c34f-41fb720856b0"
      },
      "source": [
        "from google.colab import drive\n",
        "drive.mount('/content/drive')"
      ],
      "execution_count": 1,
      "outputs": [
        {
          "output_type": "stream",
          "name": "stdout",
          "text": [
            "Mounted at /content/drive\n"
          ]
        }
      ]
    },
    {
      "cell_type": "code",
      "metadata": {
        "id": "BmL9N-3lqbUx",
        "colab": {
          "base_uri": "https://localhost:8080/"
        },
        "outputId": "24e3e13f-0d59-4d1e-eade-5aa40966a8ee"
      },
      "source": [
        "cd /content/drive/MyDrive/Hands-On-Data-Analysis-with-Pandas-2nd-edition/ch_03"
      ],
      "execution_count": 3,
      "outputs": [
        {
          "output_type": "stream",
          "name": "stdout",
          "text": [
            "/content/drive/MyDrive/Hands-On-Data-Analysis-with-Pandas-2nd-edition/ch_03\n"
          ]
        }
      ]
    },
    {
      "cell_type": "code",
      "metadata": {
        "id": "-AWOpFO7jI6h",
        "colab": {
          "base_uri": "https://localhost:8080/",
          "height": 203
        },
        "outputId": "2d725ebe-193a-4d66-ee3d-32346cace01e"
      },
      "source": [
        "import pandas as pd\n",
        "\n",
        "df = pd.read_csv('data/nyc_temperatures.csv')\n",
        "df.head()"
      ],
      "execution_count": 4,
      "outputs": [
        {
          "output_type": "execute_result",
          "data": {
            "text/html": [
              "<div>\n",
              "<style scoped>\n",
              "    .dataframe tbody tr th:only-of-type {\n",
              "        vertical-align: middle;\n",
              "    }\n",
              "\n",
              "    .dataframe tbody tr th {\n",
              "        vertical-align: top;\n",
              "    }\n",
              "\n",
              "    .dataframe thead th {\n",
              "        text-align: right;\n",
              "    }\n",
              "</style>\n",
              "<table border=\"1\" class=\"dataframe\">\n",
              "  <thead>\n",
              "    <tr style=\"text-align: right;\">\n",
              "      <th></th>\n",
              "      <th>date</th>\n",
              "      <th>datatype</th>\n",
              "      <th>station</th>\n",
              "      <th>attributes</th>\n",
              "      <th>value</th>\n",
              "    </tr>\n",
              "  </thead>\n",
              "  <tbody>\n",
              "    <tr>\n",
              "      <th>0</th>\n",
              "      <td>2018-10-01T00:00:00</td>\n",
              "      <td>TAVG</td>\n",
              "      <td>GHCND:USW00014732</td>\n",
              "      <td>H,,S,</td>\n",
              "      <td>21.2</td>\n",
              "    </tr>\n",
              "    <tr>\n",
              "      <th>1</th>\n",
              "      <td>2018-10-01T00:00:00</td>\n",
              "      <td>TMAX</td>\n",
              "      <td>GHCND:USW00014732</td>\n",
              "      <td>,,W,2400</td>\n",
              "      <td>25.6</td>\n",
              "    </tr>\n",
              "    <tr>\n",
              "      <th>2</th>\n",
              "      <td>2018-10-01T00:00:00</td>\n",
              "      <td>TMIN</td>\n",
              "      <td>GHCND:USW00014732</td>\n",
              "      <td>,,W,2400</td>\n",
              "      <td>18.3</td>\n",
              "    </tr>\n",
              "    <tr>\n",
              "      <th>3</th>\n",
              "      <td>2018-10-02T00:00:00</td>\n",
              "      <td>TAVG</td>\n",
              "      <td>GHCND:USW00014732</td>\n",
              "      <td>H,,S,</td>\n",
              "      <td>22.7</td>\n",
              "    </tr>\n",
              "    <tr>\n",
              "      <th>4</th>\n",
              "      <td>2018-10-02T00:00:00</td>\n",
              "      <td>TMAX</td>\n",
              "      <td>GHCND:USW00014732</td>\n",
              "      <td>,,W,2400</td>\n",
              "      <td>26.1</td>\n",
              "    </tr>\n",
              "  </tbody>\n",
              "</table>\n",
              "</div>"
            ],
            "text/plain": [
              "                  date datatype            station attributes  value\n",
              "0  2018-10-01T00:00:00     TAVG  GHCND:USW00014732      H,,S,   21.2\n",
              "1  2018-10-01T00:00:00     TMAX  GHCND:USW00014732   ,,W,2400   25.6\n",
              "2  2018-10-01T00:00:00     TMIN  GHCND:USW00014732   ,,W,2400   18.3\n",
              "3  2018-10-02T00:00:00     TAVG  GHCND:USW00014732      H,,S,   22.7\n",
              "4  2018-10-02T00:00:00     TMAX  GHCND:USW00014732   ,,W,2400   26.1"
            ]
          },
          "metadata": {},
          "execution_count": 4
        }
      ]
    },
    {
      "cell_type": "markdown",
      "metadata": {
        "id": "wyKQazaMrcbb"
      },
      "source": [
        "* value가 temperatures in 도시이다.\n",
        "* attributes는 어디에서 수집했는지에 대한 정보이다."
      ]
    },
    {
      "cell_type": "markdown",
      "metadata": {
        "id": "A5qxjE4FjI6i"
      },
      "source": [
        "## Renaming Columns\n",
        "We start out with the following columns:"
      ]
    },
    {
      "cell_type": "code",
      "metadata": {
        "id": "mW-M2VRijI6j",
        "colab": {
          "base_uri": "https://localhost:8080/"
        },
        "outputId": "d762c693-79d5-44a0-e240-1f7d09a5930f"
      },
      "source": [
        "df.columns"
      ],
      "execution_count": 5,
      "outputs": [
        {
          "output_type": "execute_result",
          "data": {
            "text/plain": [
              "Index(['date', 'datatype', 'station', 'attributes', 'value'], dtype='object')"
            ]
          },
          "metadata": {},
          "execution_count": 5
        }
      ]
    },
    {
      "cell_type": "markdown",
      "metadata": {
        "id": "8AVsx5rWjI6j"
      },
      "source": [
        "We want to rename the `value` column to indicate it contains the temperature in Celsius and the `attributes` column to say `flags` since each value in the comma-delimited string is a different flag about the data collection. For this task, we use the `rename()` method and pass in a dictionary mapping the column names to their new names. We pass `inplace=True` to change our original dataframe instead of getting a new one back:"
      ]
    },
    {
      "cell_type": "code",
      "metadata": {
        "id": "fMLQDVZJjI6j"
      },
      "source": [
        "df.rename(\n",
        "    columns={\n",
        "        'value': 'temp_C',\n",
        "        'attributes': 'flags'\n",
        "    }, inplace=True\n",
        ")"
      ],
      "execution_count": 6,
      "outputs": []
    },
    {
      "cell_type": "markdown",
      "metadata": {
        "id": "OYcTuFNGrodm"
      },
      "source": [
        "* value를 temp_C로 바꾸어 주었고, attributes는 flags로 바꾸어 주었다.\n",
        "* inplace는 True로 해서 바뀐 정보가 df에 저장이 되도록 해준다."
      ]
    },
    {
      "cell_type": "markdown",
      "metadata": {
        "id": "-Yxd05EEjI6j"
      },
      "source": [
        "Those columns have been successfully renamed:"
      ]
    },
    {
      "cell_type": "code",
      "metadata": {
        "id": "BjKa3iHRjI6k",
        "colab": {
          "base_uri": "https://localhost:8080/"
        },
        "outputId": "3849530e-591f-4db3-9086-61adb0dcc55c"
      },
      "source": [
        "df.columns"
      ],
      "execution_count": 7,
      "outputs": [
        {
          "output_type": "execute_result",
          "data": {
            "text/plain": [
              "Index(['date', 'datatype', 'station', 'flags', 'temp_C'], dtype='object')"
            ]
          },
          "metadata": {},
          "execution_count": 7
        }
      ]
    },
    {
      "cell_type": "markdown",
      "metadata": {
        "id": "seLJYwp_r5fQ"
      },
      "source": [
        "* 다시 df.colums을 쳐보면 바뀌 정보가 나오는 것을 확인할 수 있다."
      ]
    },
    {
      "cell_type": "markdown",
      "metadata": {
        "id": "VvF5J__ijI6k"
      },
      "source": [
        "We can also perform string operations on the column names with `rename()`:"
      ]
    },
    {
      "cell_type": "code",
      "metadata": {
        "id": "c2Op23xsjI6k",
        "colab": {
          "base_uri": "https://localhost:8080/"
        },
        "outputId": "e18bd020-639a-464e-9b16-9b87e4e64a32"
      },
      "source": [
        "df.rename(str.upper, axis='columns').columns"
      ],
      "execution_count": 8,
      "outputs": [
        {
          "output_type": "execute_result",
          "data": {
            "text/plain": [
              "Index(['DATE', 'DATATYPE', 'STATION', 'FLAGS', 'TEMP_C'], dtype='object')"
            ]
          },
          "metadata": {},
          "execution_count": 8
        }
      ]
    },
    {
      "cell_type": "markdown",
      "metadata": {
        "id": "X2GY9PMOsCSz"
      },
      "source": [
        "* 변수를 대문자로 바꾸고 싶으면 str.upper를 사용하면 된다."
      ]
    },
    {
      "cell_type": "markdown",
      "metadata": {
        "id": "pMxOWYzzjI6l"
      },
      "source": [
        "## Type Conversion\n",
        "The `date` column is not currently being stored as a `datetime`:"
      ]
    },
    {
      "cell_type": "code",
      "metadata": {
        "id": "cuixDLowjI6l",
        "colab": {
          "base_uri": "https://localhost:8080/"
        },
        "outputId": "5f8b9ad9-aaac-4950-d577-278b4fdae4cf"
      },
      "source": [
        "df.dtypes"
      ],
      "execution_count": 9,
      "outputs": [
        {
          "output_type": "execute_result",
          "data": {
            "text/plain": [
              "date         object\n",
              "datatype     object\n",
              "station      object\n",
              "flags        object\n",
              "temp_C      float64\n",
              "dtype: object"
            ]
          },
          "metadata": {},
          "execution_count": 9
        }
      ]
    },
    {
      "cell_type": "markdown",
      "metadata": {
        "id": "dD1nE6ZUsMFq"
      },
      "source": [
        "* date가 일반 object형식으로 되어 있는데 이걸 datetime64형식으로 바꾸어준다."
      ]
    },
    {
      "cell_type": "markdown",
      "metadata": {
        "id": "Yi55MC-njI6l"
      },
      "source": [
        "Let's perform the conversion with `pd.to_datetime()`:"
      ]
    },
    {
      "cell_type": "code",
      "metadata": {
        "id": "d5OOnAFxjI6l",
        "colab": {
          "base_uri": "https://localhost:8080/"
        },
        "outputId": "5a5212d6-f4af-4583-efac-64235051cc2d"
      },
      "source": [
        "df.loc[:,'date'] = pd.to_datetime(df.date)\n",
        "df.dtypes"
      ],
      "execution_count": 10,
      "outputs": [
        {
          "output_type": "execute_result",
          "data": {
            "text/plain": [
              "date        datetime64[ns]\n",
              "datatype            object\n",
              "station             object\n",
              "flags               object\n",
              "temp_C             float64\n",
              "dtype: object"
            ]
          },
          "metadata": {},
          "execution_count": 10
        }
      ]
    },
    {
      "cell_type": "markdown",
      "metadata": {
        "id": "svzQ6u_GjI6l"
      },
      "source": [
        "Now we get useful information when we use `describe()` on this column:"
      ]
    },
    {
      "cell_type": "code",
      "metadata": {
        "id": "O__EATyOjI6m",
        "colab": {
          "base_uri": "https://localhost:8080/"
        },
        "outputId": "46815bb2-a57b-4f4e-afba-719e826483cb"
      },
      "source": [
        "df.date.describe(datetime_is_numeric=True)"
      ],
      "execution_count": 11,
      "outputs": [
        {
          "output_type": "execute_result",
          "data": {
            "text/plain": [
              "count                     93\n",
              "mean     2018-10-16 00:00:00\n",
              "min      2018-10-01 00:00:00\n",
              "25%      2018-10-08 00:00:00\n",
              "50%      2018-10-16 00:00:00\n",
              "75%      2018-10-24 00:00:00\n",
              "max      2018-10-31 00:00:00\n",
              "Name: date, dtype: object"
            ]
          },
          "metadata": {},
          "execution_count": 11
        }
      ]
    },
    {
      "cell_type": "markdown",
      "metadata": {
        "id": "vLTCOX5_seNM"
      },
      "source": [
        "* datetime으로 바꾸어 주고 describe를 하게 되면 그 datetime에 대한 정보들이 나오는 것을 볼 수 있다."
      ]
    },
    {
      "cell_type": "markdown",
      "metadata": {
        "id": "Q_ULdrnVjI6m"
      },
      "source": [
        "We can use `tz_localize()` on a `DatetimeIndex` object to convert to a desired timezone:"
      ]
    },
    {
      "cell_type": "code",
      "metadata": {
        "id": "zQtWtFkUjI6m",
        "colab": {
          "base_uri": "https://localhost:8080/"
        },
        "outputId": "bf9cfbf6-4715-4803-a716-78c1c3431e7b"
      },
      "source": [
        "pd.date_range(start='2018-10-25', periods=2, freq='D').tz_localize('EST')"
      ],
      "execution_count": 12,
      "outputs": [
        {
          "output_type": "execute_result",
          "data": {
            "text/plain": [
              "DatetimeIndex(['2018-10-25 00:00:00-05:00', '2018-10-26 00:00:00-05:00'], dtype='datetime64[ns, EST]', freq=None)"
            ]
          },
          "metadata": {},
          "execution_count": 12
        }
      ]
    },
    {
      "cell_type": "markdown",
      "metadata": {
        "id": "BE71XBA0sq1y"
      },
      "source": [
        "* tz_localize를 이용해서 timezone을 명시해 줄 수 있다.\n",
        "* 다른 나라들과 timezone을 일치 시킬 때 유용하게 사용된다.\n",
        "* datetime을 사용할 때 timezone을 공부해보는게 좋다고 하심."
      ]
    },
    {
      "cell_type": "markdown",
      "metadata": {
        "id": "wnusqbsOjI6m"
      },
      "source": [
        "This also works with `Series`/`DataFrame` objects that have an index of type `DatetimeIndex`. Let's read in the CSV again for this example and set the `date` column to be the index and stored as a datetime:"
      ]
    },
    {
      "cell_type": "code",
      "metadata": {
        "id": "R_fTqYefjI6n",
        "colab": {
          "base_uri": "https://localhost:8080/",
          "height": 234
        },
        "outputId": "857c313a-308c-4fbc-c43e-c11abf62e63e"
      },
      "source": [
        "eastern = pd.read_csv(\n",
        "    'data/nyc_temperatures.csv', index_col='date', parse_dates=True\n",
        ").tz_localize('EST')\n",
        "eastern.head()"
      ],
      "execution_count": 13,
      "outputs": [
        {
          "output_type": "execute_result",
          "data": {
            "text/html": [
              "<div>\n",
              "<style scoped>\n",
              "    .dataframe tbody tr th:only-of-type {\n",
              "        vertical-align: middle;\n",
              "    }\n",
              "\n",
              "    .dataframe tbody tr th {\n",
              "        vertical-align: top;\n",
              "    }\n",
              "\n",
              "    .dataframe thead th {\n",
              "        text-align: right;\n",
              "    }\n",
              "</style>\n",
              "<table border=\"1\" class=\"dataframe\">\n",
              "  <thead>\n",
              "    <tr style=\"text-align: right;\">\n",
              "      <th></th>\n",
              "      <th>datatype</th>\n",
              "      <th>station</th>\n",
              "      <th>attributes</th>\n",
              "      <th>value</th>\n",
              "    </tr>\n",
              "    <tr>\n",
              "      <th>date</th>\n",
              "      <th></th>\n",
              "      <th></th>\n",
              "      <th></th>\n",
              "      <th></th>\n",
              "    </tr>\n",
              "  </thead>\n",
              "  <tbody>\n",
              "    <tr>\n",
              "      <th>2018-10-01 00:00:00-05:00</th>\n",
              "      <td>TAVG</td>\n",
              "      <td>GHCND:USW00014732</td>\n",
              "      <td>H,,S,</td>\n",
              "      <td>21.2</td>\n",
              "    </tr>\n",
              "    <tr>\n",
              "      <th>2018-10-01 00:00:00-05:00</th>\n",
              "      <td>TMAX</td>\n",
              "      <td>GHCND:USW00014732</td>\n",
              "      <td>,,W,2400</td>\n",
              "      <td>25.6</td>\n",
              "    </tr>\n",
              "    <tr>\n",
              "      <th>2018-10-01 00:00:00-05:00</th>\n",
              "      <td>TMIN</td>\n",
              "      <td>GHCND:USW00014732</td>\n",
              "      <td>,,W,2400</td>\n",
              "      <td>18.3</td>\n",
              "    </tr>\n",
              "    <tr>\n",
              "      <th>2018-10-02 00:00:00-05:00</th>\n",
              "      <td>TAVG</td>\n",
              "      <td>GHCND:USW00014732</td>\n",
              "      <td>H,,S,</td>\n",
              "      <td>22.7</td>\n",
              "    </tr>\n",
              "    <tr>\n",
              "      <th>2018-10-02 00:00:00-05:00</th>\n",
              "      <td>TMAX</td>\n",
              "      <td>GHCND:USW00014732</td>\n",
              "      <td>,,W,2400</td>\n",
              "      <td>26.1</td>\n",
              "    </tr>\n",
              "  </tbody>\n",
              "</table>\n",
              "</div>"
            ],
            "text/plain": [
              "                          datatype            station attributes  value\n",
              "date                                                                   \n",
              "2018-10-01 00:00:00-05:00     TAVG  GHCND:USW00014732      H,,S,   21.2\n",
              "2018-10-01 00:00:00-05:00     TMAX  GHCND:USW00014732   ,,W,2400   25.6\n",
              "2018-10-01 00:00:00-05:00     TMIN  GHCND:USW00014732   ,,W,2400   18.3\n",
              "2018-10-02 00:00:00-05:00     TAVG  GHCND:USW00014732      H,,S,   22.7\n",
              "2018-10-02 00:00:00-05:00     TMAX  GHCND:USW00014732   ,,W,2400   26.1"
            ]
          },
          "metadata": {},
          "execution_count": 13
        }
      ]
    },
    {
      "cell_type": "markdown",
      "metadata": {
        "id": "2r864_kptKyu"
      },
      "source": [
        "* 이거와 같은 경우는 데이터를 읽어 올 때, timzone을 사용해서 읽어오는 방법이다."
      ]
    },
    {
      "cell_type": "markdown",
      "metadata": {
        "id": "6iI5QJ1PjI6n"
      },
      "source": [
        "We can use `tz_convert()` to convert to another timezone from there. If we convert the Eastern datetimes to UTC, they will now be at 5 AM, since `pandas` will use the offsets to convert:"
      ]
    },
    {
      "cell_type": "code",
      "metadata": {
        "id": "nfNTSOtDjI6n",
        "colab": {
          "base_uri": "https://localhost:8080/",
          "height": 234
        },
        "outputId": "4185683f-f98b-4ab3-a452-86dfa41549b3"
      },
      "source": [
        "eastern.tz_convert('UTC').head()"
      ],
      "execution_count": 14,
      "outputs": [
        {
          "output_type": "execute_result",
          "data": {
            "text/html": [
              "<div>\n",
              "<style scoped>\n",
              "    .dataframe tbody tr th:only-of-type {\n",
              "        vertical-align: middle;\n",
              "    }\n",
              "\n",
              "    .dataframe tbody tr th {\n",
              "        vertical-align: top;\n",
              "    }\n",
              "\n",
              "    .dataframe thead th {\n",
              "        text-align: right;\n",
              "    }\n",
              "</style>\n",
              "<table border=\"1\" class=\"dataframe\">\n",
              "  <thead>\n",
              "    <tr style=\"text-align: right;\">\n",
              "      <th></th>\n",
              "      <th>datatype</th>\n",
              "      <th>station</th>\n",
              "      <th>attributes</th>\n",
              "      <th>value</th>\n",
              "    </tr>\n",
              "    <tr>\n",
              "      <th>date</th>\n",
              "      <th></th>\n",
              "      <th></th>\n",
              "      <th></th>\n",
              "      <th></th>\n",
              "    </tr>\n",
              "  </thead>\n",
              "  <tbody>\n",
              "    <tr>\n",
              "      <th>2018-10-01 05:00:00+00:00</th>\n",
              "      <td>TAVG</td>\n",
              "      <td>GHCND:USW00014732</td>\n",
              "      <td>H,,S,</td>\n",
              "      <td>21.2</td>\n",
              "    </tr>\n",
              "    <tr>\n",
              "      <th>2018-10-01 05:00:00+00:00</th>\n",
              "      <td>TMAX</td>\n",
              "      <td>GHCND:USW00014732</td>\n",
              "      <td>,,W,2400</td>\n",
              "      <td>25.6</td>\n",
              "    </tr>\n",
              "    <tr>\n",
              "      <th>2018-10-01 05:00:00+00:00</th>\n",
              "      <td>TMIN</td>\n",
              "      <td>GHCND:USW00014732</td>\n",
              "      <td>,,W,2400</td>\n",
              "      <td>18.3</td>\n",
              "    </tr>\n",
              "    <tr>\n",
              "      <th>2018-10-02 05:00:00+00:00</th>\n",
              "      <td>TAVG</td>\n",
              "      <td>GHCND:USW00014732</td>\n",
              "      <td>H,,S,</td>\n",
              "      <td>22.7</td>\n",
              "    </tr>\n",
              "    <tr>\n",
              "      <th>2018-10-02 05:00:00+00:00</th>\n",
              "      <td>TMAX</td>\n",
              "      <td>GHCND:USW00014732</td>\n",
              "      <td>,,W,2400</td>\n",
              "      <td>26.1</td>\n",
              "    </tr>\n",
              "  </tbody>\n",
              "</table>\n",
              "</div>"
            ],
            "text/plain": [
              "                          datatype            station attributes  value\n",
              "date                                                                   \n",
              "2018-10-01 05:00:00+00:00     TAVG  GHCND:USW00014732      H,,S,   21.2\n",
              "2018-10-01 05:00:00+00:00     TMAX  GHCND:USW00014732   ,,W,2400   25.6\n",
              "2018-10-01 05:00:00+00:00     TMIN  GHCND:USW00014732   ,,W,2400   18.3\n",
              "2018-10-02 05:00:00+00:00     TAVG  GHCND:USW00014732      H,,S,   22.7\n",
              "2018-10-02 05:00:00+00:00     TMAX  GHCND:USW00014732   ,,W,2400   26.1"
            ]
          },
          "metadata": {},
          "execution_count": 14
        }
      ]
    },
    {
      "cell_type": "markdown",
      "metadata": {
        "id": "m4QVk8hqtVsa"
      },
      "source": [
        "* timezone을 바꾸고 싶을 때는 tz_convert를 사용해서 timezone을 바꾸어 줄 수 있다."
      ]
    },
    {
      "cell_type": "markdown",
      "metadata": {
        "id": "aHaZnVUfjI6o"
      },
      "source": [
        "We can change the period of the index as well. We could change the period to be monthly to make it easier to aggregate later. (Aggregation will be discussed in chapter 4.)"
      ]
    },
    {
      "cell_type": "code",
      "metadata": {
        "id": "Jf7FZwSOjI6o",
        "colab": {
          "base_uri": "https://localhost:8080/"
        },
        "outputId": "3c77ba11-47e7-4d35-b81c-7d4ea952798f"
      },
      "source": [
        "eastern.tz_localize(None).to_period('M').index"
      ],
      "execution_count": 15,
      "outputs": [
        {
          "output_type": "execute_result",
          "data": {
            "text/plain": [
              "PeriodIndex(['2018-10', '2018-10', '2018-10', '2018-10', '2018-10', '2018-10',\n",
              "             '2018-10', '2018-10', '2018-10', '2018-10', '2018-10', '2018-10',\n",
              "             '2018-10', '2018-10', '2018-10', '2018-10', '2018-10', '2018-10',\n",
              "             '2018-10', '2018-10', '2018-10', '2018-10', '2018-10', '2018-10',\n",
              "             '2018-10', '2018-10', '2018-10', '2018-10', '2018-10', '2018-10',\n",
              "             '2018-10', '2018-10', '2018-10', '2018-10', '2018-10', '2018-10',\n",
              "             '2018-10', '2018-10', '2018-10', '2018-10', '2018-10', '2018-10',\n",
              "             '2018-10', '2018-10', '2018-10', '2018-10', '2018-10', '2018-10',\n",
              "             '2018-10', '2018-10', '2018-10', '2018-10', '2018-10', '2018-10',\n",
              "             '2018-10', '2018-10', '2018-10', '2018-10', '2018-10', '2018-10',\n",
              "             '2018-10', '2018-10', '2018-10', '2018-10', '2018-10', '2018-10',\n",
              "             '2018-10', '2018-10', '2018-10', '2018-10', '2018-10', '2018-10',\n",
              "             '2018-10', '2018-10', '2018-10', '2018-10', '2018-10', '2018-10',\n",
              "             '2018-10', '2018-10', '2018-10', '2018-10', '2018-10', '2018-10',\n",
              "             '2018-10', '2018-10', '2018-10', '2018-10', '2018-10', '2018-10',\n",
              "             '2018-10', '2018-10', '2018-10'],\n",
              "            dtype='period[M]', name='date', freq='M')"
            ]
          },
          "metadata": {},
          "execution_count": 15
        }
      ]
    },
    {
      "cell_type": "markdown",
      "metadata": {
        "id": "kwJ93QR5thyu"
      },
      "source": [
        "* timezone에서 Moth까지의 정보만 가지고 올 때 사용해준다."
      ]
    },
    {
      "cell_type": "markdown",
      "metadata": {
        "id": "atLFyUeejI6o"
      },
      "source": [
        "We now get a `PeriodIndex` object, which we can change back into a `DatetimeIndex` object with `to_timestamp()`:"
      ]
    },
    {
      "cell_type": "code",
      "metadata": {
        "id": "KGOqBQEWjI6o",
        "outputId": "1e74ade6-82b1-4dc8-9364-7f7fdb01635f",
        "colab": {
          "base_uri": "https://localhost:8080/"
        }
      },
      "source": [
        "eastern.tz_localize(None).to_period('M').to_timestamp().index"
      ],
      "execution_count": 16,
      "outputs": [
        {
          "output_type": "execute_result",
          "data": {
            "text/plain": [
              "DatetimeIndex(['2018-10-01', '2018-10-01', '2018-10-01', '2018-10-01',\n",
              "               '2018-10-01', '2018-10-01', '2018-10-01', '2018-10-01',\n",
              "               '2018-10-01', '2018-10-01', '2018-10-01', '2018-10-01',\n",
              "               '2018-10-01', '2018-10-01', '2018-10-01', '2018-10-01',\n",
              "               '2018-10-01', '2018-10-01', '2018-10-01', '2018-10-01',\n",
              "               '2018-10-01', '2018-10-01', '2018-10-01', '2018-10-01',\n",
              "               '2018-10-01', '2018-10-01', '2018-10-01', '2018-10-01',\n",
              "               '2018-10-01', '2018-10-01', '2018-10-01', '2018-10-01',\n",
              "               '2018-10-01', '2018-10-01', '2018-10-01', '2018-10-01',\n",
              "               '2018-10-01', '2018-10-01', '2018-10-01', '2018-10-01',\n",
              "               '2018-10-01', '2018-10-01', '2018-10-01', '2018-10-01',\n",
              "               '2018-10-01', '2018-10-01', '2018-10-01', '2018-10-01',\n",
              "               '2018-10-01', '2018-10-01', '2018-10-01', '2018-10-01',\n",
              "               '2018-10-01', '2018-10-01', '2018-10-01', '2018-10-01',\n",
              "               '2018-10-01', '2018-10-01', '2018-10-01', '2018-10-01',\n",
              "               '2018-10-01', '2018-10-01', '2018-10-01', '2018-10-01',\n",
              "               '2018-10-01', '2018-10-01', '2018-10-01', '2018-10-01',\n",
              "               '2018-10-01', '2018-10-01', '2018-10-01', '2018-10-01',\n",
              "               '2018-10-01', '2018-10-01', '2018-10-01', '2018-10-01',\n",
              "               '2018-10-01', '2018-10-01', '2018-10-01', '2018-10-01',\n",
              "               '2018-10-01', '2018-10-01', '2018-10-01', '2018-10-01',\n",
              "               '2018-10-01', '2018-10-01', '2018-10-01', '2018-10-01',\n",
              "               '2018-10-01', '2018-10-01', '2018-10-01', '2018-10-01',\n",
              "               '2018-10-01'],\n",
              "              dtype='datetime64[ns]', name='date', freq=None)"
            ]
          },
          "metadata": {},
          "execution_count": 16
        }
      ]
    },
    {
      "cell_type": "markdown",
      "metadata": {
        "id": "Pwk9RUJytpKQ"
      },
      "source": [
        "* 그리고 to_timestap으로 바꾸어 주게 되면 년 월 일에 대한 정보가 나오게 된다."
      ]
    },
    {
      "cell_type": "markdown",
      "metadata": {
        "id": "48_tNAqpjI6p"
      },
      "source": [
        "We can use the `assign()` method for working with multiple columns at once (or creating new ones). Since our `date` column has already been converted, we need to read in the data again:"
      ]
    },
    {
      "cell_type": "code",
      "metadata": {
        "id": "n4hCYzfPjI6p",
        "colab": {
          "base_uri": "https://localhost:8080/"
        },
        "outputId": "40f2a11d-48af-47b5-e17c-1c3c74833bb5"
      },
      "source": [
        "df = pd.read_csv('data/nyc_temperatures.csv').rename(\n",
        "    columns={\n",
        "        'value': 'temp_C',\n",
        "        'attributes': 'flags'\n",
        "    }\n",
        ")\n",
        "\n",
        "new_df = df.assign(\n",
        "    date=pd.to_datetime(df.date),\n",
        "    temp_F=(df.temp_C * 9/5) + 32\n",
        ")\n",
        "new_df.dtypes"
      ],
      "execution_count": 17,
      "outputs": [
        {
          "output_type": "execute_result",
          "data": {
            "text/plain": [
              "date        datetime64[ns]\n",
              "datatype            object\n",
              "station             object\n",
              "flags               object\n",
              "temp_C             float64\n",
              "temp_F             float64\n",
              "dtype: object"
            ]
          },
          "metadata": {},
          "execution_count": 17
        }
      ]
    },
    {
      "cell_type": "markdown",
      "metadata": {
        "id": "A_RZg0zCtz-U"
      },
      "source": [
        "* 이 부분과 같은 경우는 assing을 활용해서 date와 temp_F의 새로운 변수를 만들어 주는 것이다."
      ]
    },
    {
      "cell_type": "markdown",
      "metadata": {
        "id": "xW66tMDZjI6p"
      },
      "source": [
        "The `date` column now has datetimes and the `temp_F` column was added:"
      ]
    },
    {
      "cell_type": "code",
      "metadata": {
        "id": "nZECYj0wjI6p",
        "colab": {
          "base_uri": "https://localhost:8080/",
          "height": 203
        },
        "outputId": "986c2fc2-f7f5-4676-f09e-3da13c8f1a89"
      },
      "source": [
        "new_df.head()"
      ],
      "execution_count": 18,
      "outputs": [
        {
          "output_type": "execute_result",
          "data": {
            "text/html": [
              "<div>\n",
              "<style scoped>\n",
              "    .dataframe tbody tr th:only-of-type {\n",
              "        vertical-align: middle;\n",
              "    }\n",
              "\n",
              "    .dataframe tbody tr th {\n",
              "        vertical-align: top;\n",
              "    }\n",
              "\n",
              "    .dataframe thead th {\n",
              "        text-align: right;\n",
              "    }\n",
              "</style>\n",
              "<table border=\"1\" class=\"dataframe\">\n",
              "  <thead>\n",
              "    <tr style=\"text-align: right;\">\n",
              "      <th></th>\n",
              "      <th>date</th>\n",
              "      <th>datatype</th>\n",
              "      <th>station</th>\n",
              "      <th>flags</th>\n",
              "      <th>temp_C</th>\n",
              "      <th>temp_F</th>\n",
              "    </tr>\n",
              "  </thead>\n",
              "  <tbody>\n",
              "    <tr>\n",
              "      <th>0</th>\n",
              "      <td>2018-10-01</td>\n",
              "      <td>TAVG</td>\n",
              "      <td>GHCND:USW00014732</td>\n",
              "      <td>H,,S,</td>\n",
              "      <td>21.2</td>\n",
              "      <td>70.16</td>\n",
              "    </tr>\n",
              "    <tr>\n",
              "      <th>1</th>\n",
              "      <td>2018-10-01</td>\n",
              "      <td>TMAX</td>\n",
              "      <td>GHCND:USW00014732</td>\n",
              "      <td>,,W,2400</td>\n",
              "      <td>25.6</td>\n",
              "      <td>78.08</td>\n",
              "    </tr>\n",
              "    <tr>\n",
              "      <th>2</th>\n",
              "      <td>2018-10-01</td>\n",
              "      <td>TMIN</td>\n",
              "      <td>GHCND:USW00014732</td>\n",
              "      <td>,,W,2400</td>\n",
              "      <td>18.3</td>\n",
              "      <td>64.94</td>\n",
              "    </tr>\n",
              "    <tr>\n",
              "      <th>3</th>\n",
              "      <td>2018-10-02</td>\n",
              "      <td>TAVG</td>\n",
              "      <td>GHCND:USW00014732</td>\n",
              "      <td>H,,S,</td>\n",
              "      <td>22.7</td>\n",
              "      <td>72.86</td>\n",
              "    </tr>\n",
              "    <tr>\n",
              "      <th>4</th>\n",
              "      <td>2018-10-02</td>\n",
              "      <td>TMAX</td>\n",
              "      <td>GHCND:USW00014732</td>\n",
              "      <td>,,W,2400</td>\n",
              "      <td>26.1</td>\n",
              "      <td>78.98</td>\n",
              "    </tr>\n",
              "  </tbody>\n",
              "</table>\n",
              "</div>"
            ],
            "text/plain": [
              "        date datatype            station     flags  temp_C  temp_F\n",
              "0 2018-10-01     TAVG  GHCND:USW00014732     H,,S,    21.2   70.16\n",
              "1 2018-10-01     TMAX  GHCND:USW00014732  ,,W,2400    25.6   78.08\n",
              "2 2018-10-01     TMIN  GHCND:USW00014732  ,,W,2400    18.3   64.94\n",
              "3 2018-10-02     TAVG  GHCND:USW00014732     H,,S,    22.7   72.86\n",
              "4 2018-10-02     TMAX  GHCND:USW00014732  ,,W,2400    26.1   78.98"
            ]
          },
          "metadata": {},
          "execution_count": 18
        }
      ]
    },
    {
      "cell_type": "markdown",
      "metadata": {
        "id": "Ku_OK_SxjI6q"
      },
      "source": [
        "We can also use `astype()` to perform conversions. Let's create columns of the integer portion of the temperatures in Celsius and Fahrenheit. We will use **lambda functions** (first introduced in *Chapter 2, Working with Pandas DataFrames*), so that we can use the values being created in the `temp_F` column to calculate the `temp_F_whole` column. It is very common (and useful) to use lambda functions with `assign()`:"
      ]
    },
    {
      "cell_type": "code",
      "metadata": {
        "id": "Y_pmTQmhjI6q",
        "colab": {
          "base_uri": "https://localhost:8080/",
          "height": 203
        },
        "outputId": "063a791c-5fcd-4b4d-e194-8a110fbb8dc5"
      },
      "source": [
        "df = df.assign(\n",
        "    date=lambda x: pd.to_datetime(x.date),\n",
        "    temp_C_whole=lambda x: x.temp_C.astype('int'),\n",
        "    temp_F=lambda x: (x.temp_C * 9/5) + 32,\n",
        "    temp_F_whole=lambda x: x.temp_F.astype('int')\n",
        ")\n",
        "\n",
        "df.head()"
      ],
      "execution_count": 19,
      "outputs": [
        {
          "output_type": "execute_result",
          "data": {
            "text/html": [
              "<div>\n",
              "<style scoped>\n",
              "    .dataframe tbody tr th:only-of-type {\n",
              "        vertical-align: middle;\n",
              "    }\n",
              "\n",
              "    .dataframe tbody tr th {\n",
              "        vertical-align: top;\n",
              "    }\n",
              "\n",
              "    .dataframe thead th {\n",
              "        text-align: right;\n",
              "    }\n",
              "</style>\n",
              "<table border=\"1\" class=\"dataframe\">\n",
              "  <thead>\n",
              "    <tr style=\"text-align: right;\">\n",
              "      <th></th>\n",
              "      <th>date</th>\n",
              "      <th>datatype</th>\n",
              "      <th>station</th>\n",
              "      <th>flags</th>\n",
              "      <th>temp_C</th>\n",
              "      <th>temp_C_whole</th>\n",
              "      <th>temp_F</th>\n",
              "      <th>temp_F_whole</th>\n",
              "    </tr>\n",
              "  </thead>\n",
              "  <tbody>\n",
              "    <tr>\n",
              "      <th>0</th>\n",
              "      <td>2018-10-01</td>\n",
              "      <td>TAVG</td>\n",
              "      <td>GHCND:USW00014732</td>\n",
              "      <td>H,,S,</td>\n",
              "      <td>21.2</td>\n",
              "      <td>21</td>\n",
              "      <td>70.16</td>\n",
              "      <td>70</td>\n",
              "    </tr>\n",
              "    <tr>\n",
              "      <th>1</th>\n",
              "      <td>2018-10-01</td>\n",
              "      <td>TMAX</td>\n",
              "      <td>GHCND:USW00014732</td>\n",
              "      <td>,,W,2400</td>\n",
              "      <td>25.6</td>\n",
              "      <td>25</td>\n",
              "      <td>78.08</td>\n",
              "      <td>78</td>\n",
              "    </tr>\n",
              "    <tr>\n",
              "      <th>2</th>\n",
              "      <td>2018-10-01</td>\n",
              "      <td>TMIN</td>\n",
              "      <td>GHCND:USW00014732</td>\n",
              "      <td>,,W,2400</td>\n",
              "      <td>18.3</td>\n",
              "      <td>18</td>\n",
              "      <td>64.94</td>\n",
              "      <td>64</td>\n",
              "    </tr>\n",
              "    <tr>\n",
              "      <th>3</th>\n",
              "      <td>2018-10-02</td>\n",
              "      <td>TAVG</td>\n",
              "      <td>GHCND:USW00014732</td>\n",
              "      <td>H,,S,</td>\n",
              "      <td>22.7</td>\n",
              "      <td>22</td>\n",
              "      <td>72.86</td>\n",
              "      <td>72</td>\n",
              "    </tr>\n",
              "    <tr>\n",
              "      <th>4</th>\n",
              "      <td>2018-10-02</td>\n",
              "      <td>TMAX</td>\n",
              "      <td>GHCND:USW00014732</td>\n",
              "      <td>,,W,2400</td>\n",
              "      <td>26.1</td>\n",
              "      <td>26</td>\n",
              "      <td>78.98</td>\n",
              "      <td>78</td>\n",
              "    </tr>\n",
              "  </tbody>\n",
              "</table>\n",
              "</div>"
            ],
            "text/plain": [
              "        date datatype            station  ... temp_C_whole  temp_F  temp_F_whole\n",
              "0 2018-10-01     TAVG  GHCND:USW00014732  ...           21   70.16            70\n",
              "1 2018-10-01     TMAX  GHCND:USW00014732  ...           25   78.08            78\n",
              "2 2018-10-01     TMIN  GHCND:USW00014732  ...           18   64.94            64\n",
              "3 2018-10-02     TAVG  GHCND:USW00014732  ...           22   72.86            72\n",
              "4 2018-10-02     TMAX  GHCND:USW00014732  ...           26   78.98            78\n",
              "\n",
              "[5 rows x 8 columns]"
            ]
          },
          "metadata": {},
          "execution_count": 19
        }
      ]
    },
    {
      "cell_type": "markdown",
      "metadata": {
        "id": "O92WrhM7uI3N"
      },
      "source": [
        "* 여기에서는 x 타입으로 해서 integer 형식으로 바꾸어 준다."
      ]
    },
    {
      "cell_type": "markdown",
      "metadata": {
        "id": "GkmLV24qjI6q"
      },
      "source": [
        "Creating categories:"
      ]
    },
    {
      "cell_type": "code",
      "metadata": {
        "id": "btHKTODnjI6q",
        "colab": {
          "base_uri": "https://localhost:8080/"
        },
        "outputId": "56716167-f01e-474b-ef37-e57ed7b63870"
      },
      "source": [
        "df_with_categories = df.assign(\n",
        "    station=df.station.astype('category'),\n",
        "    datatype=df.datatype.astype('category')\n",
        ")\n",
        "df_with_categories.dtypes"
      ],
      "execution_count": 20,
      "outputs": [
        {
          "output_type": "execute_result",
          "data": {
            "text/plain": [
              "date            datetime64[ns]\n",
              "datatype              category\n",
              "station               category\n",
              "flags                   object\n",
              "temp_C                 float64\n",
              "temp_C_whole             int64\n",
              "temp_F                 float64\n",
              "temp_F_whole             int64\n",
              "dtype: object"
            ]
          },
          "metadata": {},
          "execution_count": 20
        }
      ]
    },
    {
      "cell_type": "markdown",
      "metadata": {
        "id": "MH-B-KoouVn3"
      },
      "source": [
        "* datatype과 station을 category형식으로 바꾸어 줄 때 astype을 사용해서 바꾸어 줄 수 있다."
      ]
    },
    {
      "cell_type": "code",
      "metadata": {
        "id": "kzyazxOpjI6r",
        "colab": {
          "base_uri": "https://localhost:8080/",
          "height": 172
        },
        "outputId": "d5f0116c-c2a1-415f-f369-21589327e7da"
      },
      "source": [
        "df_with_categories.describe(include='category')"
      ],
      "execution_count": 21,
      "outputs": [
        {
          "output_type": "execute_result",
          "data": {
            "text/html": [
              "<div>\n",
              "<style scoped>\n",
              "    .dataframe tbody tr th:only-of-type {\n",
              "        vertical-align: middle;\n",
              "    }\n",
              "\n",
              "    .dataframe tbody tr th {\n",
              "        vertical-align: top;\n",
              "    }\n",
              "\n",
              "    .dataframe thead th {\n",
              "        text-align: right;\n",
              "    }\n",
              "</style>\n",
              "<table border=\"1\" class=\"dataframe\">\n",
              "  <thead>\n",
              "    <tr style=\"text-align: right;\">\n",
              "      <th></th>\n",
              "      <th>datatype</th>\n",
              "      <th>station</th>\n",
              "    </tr>\n",
              "  </thead>\n",
              "  <tbody>\n",
              "    <tr>\n",
              "      <th>count</th>\n",
              "      <td>93</td>\n",
              "      <td>93</td>\n",
              "    </tr>\n",
              "    <tr>\n",
              "      <th>unique</th>\n",
              "      <td>3</td>\n",
              "      <td>1</td>\n",
              "    </tr>\n",
              "    <tr>\n",
              "      <th>top</th>\n",
              "      <td>TMIN</td>\n",
              "      <td>GHCND:USW00014732</td>\n",
              "    </tr>\n",
              "    <tr>\n",
              "      <th>freq</th>\n",
              "      <td>31</td>\n",
              "      <td>93</td>\n",
              "    </tr>\n",
              "  </tbody>\n",
              "</table>\n",
              "</div>"
            ],
            "text/plain": [
              "       datatype            station\n",
              "count        93                 93\n",
              "unique        3                  1\n",
              "top        TMIN  GHCND:USW00014732\n",
              "freq         31                 93"
            ]
          },
          "metadata": {},
          "execution_count": 21
        }
      ]
    },
    {
      "cell_type": "markdown",
      "metadata": {
        "id": "yk9uJR41uhmP"
      },
      "source": [
        "* catefory를 만든 것을 describe를 하게 되면 그거에 대한 정보를 확인해 줄 수 있다."
      ]
    },
    {
      "cell_type": "markdown",
      "metadata": {
        "id": "xO4txUzXjI6r"
      },
      "source": [
        "Our categories have no order, but this is something that `pandas` supports:"
      ]
    },
    {
      "cell_type": "code",
      "metadata": {
        "id": "d5OD7i6njI6r",
        "colab": {
          "base_uri": "https://localhost:8080/"
        },
        "outputId": "38f5c77f-df06-4429-ec0b-4816af87a12e"
      },
      "source": [
        "pd.Categorical(\n",
        "    ['med', 'med', 'low', 'high'], \n",
        "    categories=['low', 'med', 'high'],\n",
        "    ordered=True\n",
        ")"
      ],
      "execution_count": 22,
      "outputs": [
        {
          "output_type": "execute_result",
          "data": {
            "text/plain": [
              "['med', 'med', 'low', 'high']\n",
              "Categories (3, object): ['low' < 'med' < 'high']"
            ]
          },
          "metadata": {},
          "execution_count": 22
        }
      ]
    },
    {
      "cell_type": "markdown",
      "metadata": {
        "id": "g-tQ_Ja77sHi"
      },
      "source": [
        "* categorical variable과 같은 경우는 pandas에서 oredering이 support가 된다."
      ]
    },
    {
      "cell_type": "markdown",
      "metadata": {
        "id": "zMOUlqbqjI6r"
      },
      "source": [
        "## Reordering, reindexing, and sorting\n",
        "Say we want to find the days that reached the hottest temperatures in the weather data; we can sort our values by the `temp_C` column with the largest on top to find this: "
      ]
    },
    {
      "cell_type": "code",
      "metadata": {
        "id": "_poPoUwpjI6r",
        "colab": {
          "base_uri": "https://localhost:8080/",
          "height": 357
        },
        "outputId": "13bf23c7-b2aa-4050-c831-e9f10bb4d639"
      },
      "source": [
        "df[df.datatype == 'TMAX'].sort_values(by='temp_C', ascending=False).head(10)"
      ],
      "execution_count": 23,
      "outputs": [
        {
          "output_type": "execute_result",
          "data": {
            "text/html": [
              "<div>\n",
              "<style scoped>\n",
              "    .dataframe tbody tr th:only-of-type {\n",
              "        vertical-align: middle;\n",
              "    }\n",
              "\n",
              "    .dataframe tbody tr th {\n",
              "        vertical-align: top;\n",
              "    }\n",
              "\n",
              "    .dataframe thead th {\n",
              "        text-align: right;\n",
              "    }\n",
              "</style>\n",
              "<table border=\"1\" class=\"dataframe\">\n",
              "  <thead>\n",
              "    <tr style=\"text-align: right;\">\n",
              "      <th></th>\n",
              "      <th>date</th>\n",
              "      <th>datatype</th>\n",
              "      <th>station</th>\n",
              "      <th>flags</th>\n",
              "      <th>temp_C</th>\n",
              "      <th>temp_C_whole</th>\n",
              "      <th>temp_F</th>\n",
              "      <th>temp_F_whole</th>\n",
              "    </tr>\n",
              "  </thead>\n",
              "  <tbody>\n",
              "    <tr>\n",
              "      <th>19</th>\n",
              "      <td>2018-10-07</td>\n",
              "      <td>TMAX</td>\n",
              "      <td>GHCND:USW00014732</td>\n",
              "      <td>,,W,2400</td>\n",
              "      <td>27.8</td>\n",
              "      <td>27</td>\n",
              "      <td>82.04</td>\n",
              "      <td>82</td>\n",
              "    </tr>\n",
              "    <tr>\n",
              "      <th>28</th>\n",
              "      <td>2018-10-10</td>\n",
              "      <td>TMAX</td>\n",
              "      <td>GHCND:USW00014732</td>\n",
              "      <td>,,W,2400</td>\n",
              "      <td>27.8</td>\n",
              "      <td>27</td>\n",
              "      <td>82.04</td>\n",
              "      <td>82</td>\n",
              "    </tr>\n",
              "    <tr>\n",
              "      <th>31</th>\n",
              "      <td>2018-10-11</td>\n",
              "      <td>TMAX</td>\n",
              "      <td>GHCND:USW00014732</td>\n",
              "      <td>,,W,2400</td>\n",
              "      <td>26.7</td>\n",
              "      <td>26</td>\n",
              "      <td>80.06</td>\n",
              "      <td>80</td>\n",
              "    </tr>\n",
              "    <tr>\n",
              "      <th>10</th>\n",
              "      <td>2018-10-04</td>\n",
              "      <td>TMAX</td>\n",
              "      <td>GHCND:USW00014732</td>\n",
              "      <td>,,W,2400</td>\n",
              "      <td>26.1</td>\n",
              "      <td>26</td>\n",
              "      <td>78.98</td>\n",
              "      <td>78</td>\n",
              "    </tr>\n",
              "    <tr>\n",
              "      <th>4</th>\n",
              "      <td>2018-10-02</td>\n",
              "      <td>TMAX</td>\n",
              "      <td>GHCND:USW00014732</td>\n",
              "      <td>,,W,2400</td>\n",
              "      <td>26.1</td>\n",
              "      <td>26</td>\n",
              "      <td>78.98</td>\n",
              "      <td>78</td>\n",
              "    </tr>\n",
              "    <tr>\n",
              "      <th>1</th>\n",
              "      <td>2018-10-01</td>\n",
              "      <td>TMAX</td>\n",
              "      <td>GHCND:USW00014732</td>\n",
              "      <td>,,W,2400</td>\n",
              "      <td>25.6</td>\n",
              "      <td>25</td>\n",
              "      <td>78.08</td>\n",
              "      <td>78</td>\n",
              "    </tr>\n",
              "    <tr>\n",
              "      <th>25</th>\n",
              "      <td>2018-10-09</td>\n",
              "      <td>TMAX</td>\n",
              "      <td>GHCND:USW00014732</td>\n",
              "      <td>,,W,2400</td>\n",
              "      <td>25.6</td>\n",
              "      <td>25</td>\n",
              "      <td>78.08</td>\n",
              "      <td>78</td>\n",
              "    </tr>\n",
              "    <tr>\n",
              "      <th>7</th>\n",
              "      <td>2018-10-03</td>\n",
              "      <td>TMAX</td>\n",
              "      <td>GHCND:USW00014732</td>\n",
              "      <td>,,W,2400</td>\n",
              "      <td>25.0</td>\n",
              "      <td>25</td>\n",
              "      <td>77.00</td>\n",
              "      <td>77</td>\n",
              "    </tr>\n",
              "    <tr>\n",
              "      <th>13</th>\n",
              "      <td>2018-10-05</td>\n",
              "      <td>TMAX</td>\n",
              "      <td>GHCND:USW00014732</td>\n",
              "      <td>,,W,2400</td>\n",
              "      <td>22.8</td>\n",
              "      <td>22</td>\n",
              "      <td>73.04</td>\n",
              "      <td>73</td>\n",
              "    </tr>\n",
              "    <tr>\n",
              "      <th>22</th>\n",
              "      <td>2018-10-08</td>\n",
              "      <td>TMAX</td>\n",
              "      <td>GHCND:USW00014732</td>\n",
              "      <td>,,W,2400</td>\n",
              "      <td>22.8</td>\n",
              "      <td>22</td>\n",
              "      <td>73.04</td>\n",
              "      <td>73</td>\n",
              "    </tr>\n",
              "  </tbody>\n",
              "</table>\n",
              "</div>"
            ],
            "text/plain": [
              "         date datatype            station  ... temp_C_whole  temp_F  temp_F_whole\n",
              "19 2018-10-07     TMAX  GHCND:USW00014732  ...           27   82.04            82\n",
              "28 2018-10-10     TMAX  GHCND:USW00014732  ...           27   82.04            82\n",
              "31 2018-10-11     TMAX  GHCND:USW00014732  ...           26   80.06            80\n",
              "10 2018-10-04     TMAX  GHCND:USW00014732  ...           26   78.98            78\n",
              "4  2018-10-02     TMAX  GHCND:USW00014732  ...           26   78.98            78\n",
              "1  2018-10-01     TMAX  GHCND:USW00014732  ...           25   78.08            78\n",
              "25 2018-10-09     TMAX  GHCND:USW00014732  ...           25   78.08            78\n",
              "7  2018-10-03     TMAX  GHCND:USW00014732  ...           25   77.00            77\n",
              "13 2018-10-05     TMAX  GHCND:USW00014732  ...           22   73.04            73\n",
              "22 2018-10-08     TMAX  GHCND:USW00014732  ...           22   73.04            73\n",
              "\n",
              "[10 rows x 8 columns]"
            ]
          },
          "metadata": {},
          "execution_count": 23
        }
      ]
    },
    {
      "cell_type": "markdown",
      "metadata": {
        "id": "evJfmKO18Ayg"
      },
      "source": [
        "* 무엇을 사용할지와 오름차순 내림차순으로해서 지정 해 줄 수 있다."
      ]
    },
    {
      "cell_type": "markdown",
      "metadata": {
        "id": "xK_x9m1YjI6r"
      },
      "source": [
        "However, this isn't perfect because we have some ties, and they aren't sorted consistently. In the first tie between the 7th and the 10th, the earlier date comes first, but the opposite is true with the tie between the 4th and the 2nd. We can use other columns to break ties and specify how to sort each with `ascending`. Let's break ties with the date column and show earlier dates before later ones:"
      ]
    },
    {
      "cell_type": "code",
      "metadata": {
        "id": "dd9UBq3hjI6s",
        "colab": {
          "base_uri": "https://localhost:8080/",
          "height": 357
        },
        "outputId": "ce39014b-d9ca-42e5-8439-f2b023cb25f2"
      },
      "source": [
        "df[df.datatype == 'TMAX'].sort_values(by=['temp_C', 'date'], ascending=[False, True]).head(10)"
      ],
      "execution_count": 24,
      "outputs": [
        {
          "output_type": "execute_result",
          "data": {
            "text/html": [
              "<div>\n",
              "<style scoped>\n",
              "    .dataframe tbody tr th:only-of-type {\n",
              "        vertical-align: middle;\n",
              "    }\n",
              "\n",
              "    .dataframe tbody tr th {\n",
              "        vertical-align: top;\n",
              "    }\n",
              "\n",
              "    .dataframe thead th {\n",
              "        text-align: right;\n",
              "    }\n",
              "</style>\n",
              "<table border=\"1\" class=\"dataframe\">\n",
              "  <thead>\n",
              "    <tr style=\"text-align: right;\">\n",
              "      <th></th>\n",
              "      <th>date</th>\n",
              "      <th>datatype</th>\n",
              "      <th>station</th>\n",
              "      <th>flags</th>\n",
              "      <th>temp_C</th>\n",
              "      <th>temp_C_whole</th>\n",
              "      <th>temp_F</th>\n",
              "      <th>temp_F_whole</th>\n",
              "    </tr>\n",
              "  </thead>\n",
              "  <tbody>\n",
              "    <tr>\n",
              "      <th>19</th>\n",
              "      <td>2018-10-07</td>\n",
              "      <td>TMAX</td>\n",
              "      <td>GHCND:USW00014732</td>\n",
              "      <td>,,W,2400</td>\n",
              "      <td>27.8</td>\n",
              "      <td>27</td>\n",
              "      <td>82.04</td>\n",
              "      <td>82</td>\n",
              "    </tr>\n",
              "    <tr>\n",
              "      <th>28</th>\n",
              "      <td>2018-10-10</td>\n",
              "      <td>TMAX</td>\n",
              "      <td>GHCND:USW00014732</td>\n",
              "      <td>,,W,2400</td>\n",
              "      <td>27.8</td>\n",
              "      <td>27</td>\n",
              "      <td>82.04</td>\n",
              "      <td>82</td>\n",
              "    </tr>\n",
              "    <tr>\n",
              "      <th>31</th>\n",
              "      <td>2018-10-11</td>\n",
              "      <td>TMAX</td>\n",
              "      <td>GHCND:USW00014732</td>\n",
              "      <td>,,W,2400</td>\n",
              "      <td>26.7</td>\n",
              "      <td>26</td>\n",
              "      <td>80.06</td>\n",
              "      <td>80</td>\n",
              "    </tr>\n",
              "    <tr>\n",
              "      <th>4</th>\n",
              "      <td>2018-10-02</td>\n",
              "      <td>TMAX</td>\n",
              "      <td>GHCND:USW00014732</td>\n",
              "      <td>,,W,2400</td>\n",
              "      <td>26.1</td>\n",
              "      <td>26</td>\n",
              "      <td>78.98</td>\n",
              "      <td>78</td>\n",
              "    </tr>\n",
              "    <tr>\n",
              "      <th>10</th>\n",
              "      <td>2018-10-04</td>\n",
              "      <td>TMAX</td>\n",
              "      <td>GHCND:USW00014732</td>\n",
              "      <td>,,W,2400</td>\n",
              "      <td>26.1</td>\n",
              "      <td>26</td>\n",
              "      <td>78.98</td>\n",
              "      <td>78</td>\n",
              "    </tr>\n",
              "    <tr>\n",
              "      <th>1</th>\n",
              "      <td>2018-10-01</td>\n",
              "      <td>TMAX</td>\n",
              "      <td>GHCND:USW00014732</td>\n",
              "      <td>,,W,2400</td>\n",
              "      <td>25.6</td>\n",
              "      <td>25</td>\n",
              "      <td>78.08</td>\n",
              "      <td>78</td>\n",
              "    </tr>\n",
              "    <tr>\n",
              "      <th>25</th>\n",
              "      <td>2018-10-09</td>\n",
              "      <td>TMAX</td>\n",
              "      <td>GHCND:USW00014732</td>\n",
              "      <td>,,W,2400</td>\n",
              "      <td>25.6</td>\n",
              "      <td>25</td>\n",
              "      <td>78.08</td>\n",
              "      <td>78</td>\n",
              "    </tr>\n",
              "    <tr>\n",
              "      <th>7</th>\n",
              "      <td>2018-10-03</td>\n",
              "      <td>TMAX</td>\n",
              "      <td>GHCND:USW00014732</td>\n",
              "      <td>,,W,2400</td>\n",
              "      <td>25.0</td>\n",
              "      <td>25</td>\n",
              "      <td>77.00</td>\n",
              "      <td>77</td>\n",
              "    </tr>\n",
              "    <tr>\n",
              "      <th>13</th>\n",
              "      <td>2018-10-05</td>\n",
              "      <td>TMAX</td>\n",
              "      <td>GHCND:USW00014732</td>\n",
              "      <td>,,W,2400</td>\n",
              "      <td>22.8</td>\n",
              "      <td>22</td>\n",
              "      <td>73.04</td>\n",
              "      <td>73</td>\n",
              "    </tr>\n",
              "    <tr>\n",
              "      <th>22</th>\n",
              "      <td>2018-10-08</td>\n",
              "      <td>TMAX</td>\n",
              "      <td>GHCND:USW00014732</td>\n",
              "      <td>,,W,2400</td>\n",
              "      <td>22.8</td>\n",
              "      <td>22</td>\n",
              "      <td>73.04</td>\n",
              "      <td>73</td>\n",
              "    </tr>\n",
              "  </tbody>\n",
              "</table>\n",
              "</div>"
            ],
            "text/plain": [
              "         date datatype            station  ... temp_C_whole  temp_F  temp_F_whole\n",
              "19 2018-10-07     TMAX  GHCND:USW00014732  ...           27   82.04            82\n",
              "28 2018-10-10     TMAX  GHCND:USW00014732  ...           27   82.04            82\n",
              "31 2018-10-11     TMAX  GHCND:USW00014732  ...           26   80.06            80\n",
              "4  2018-10-02     TMAX  GHCND:USW00014732  ...           26   78.98            78\n",
              "10 2018-10-04     TMAX  GHCND:USW00014732  ...           26   78.98            78\n",
              "1  2018-10-01     TMAX  GHCND:USW00014732  ...           25   78.08            78\n",
              "25 2018-10-09     TMAX  GHCND:USW00014732  ...           25   78.08            78\n",
              "7  2018-10-03     TMAX  GHCND:USW00014732  ...           25   77.00            77\n",
              "13 2018-10-05     TMAX  GHCND:USW00014732  ...           22   73.04            73\n",
              "22 2018-10-08     TMAX  GHCND:USW00014732  ...           22   73.04            73\n",
              "\n",
              "[10 rows x 8 columns]"
            ]
          },
          "metadata": {},
          "execution_count": 24
        }
      ]
    },
    {
      "cell_type": "markdown",
      "metadata": {
        "id": "EoxpAPLb8JDP"
      },
      "source": [
        "* by에 두개를 하게 되면 sequencial하게 지정해 줄 수 있다."
      ]
    },
    {
      "cell_type": "markdown",
      "metadata": {
        "id": "F36GqflAjI6s"
      },
      "source": [
        "Notice that the index was jumbled in the past 2 results. Here, our index only stores the row number in the original data, but we may not need to keep track of that information. In this case, we can pass in `ignore_index=True` to get a new index after sorting:"
      ]
    },
    {
      "cell_type": "code",
      "metadata": {
        "id": "JcaTgbj2jI6s",
        "outputId": "aab3f59c-b5a1-4b4a-f87f-35af72bf9520",
        "colab": {
          "base_uri": "https://localhost:8080/",
          "height": 357
        }
      },
      "source": [
        "df[df.datatype == 'TMAX'].sort_values(by=['temp_C', 'date'], ascending=[False, True], ignore_index=True).head(10)"
      ],
      "execution_count": 25,
      "outputs": [
        {
          "output_type": "execute_result",
          "data": {
            "text/html": [
              "<div>\n",
              "<style scoped>\n",
              "    .dataframe tbody tr th:only-of-type {\n",
              "        vertical-align: middle;\n",
              "    }\n",
              "\n",
              "    .dataframe tbody tr th {\n",
              "        vertical-align: top;\n",
              "    }\n",
              "\n",
              "    .dataframe thead th {\n",
              "        text-align: right;\n",
              "    }\n",
              "</style>\n",
              "<table border=\"1\" class=\"dataframe\">\n",
              "  <thead>\n",
              "    <tr style=\"text-align: right;\">\n",
              "      <th></th>\n",
              "      <th>date</th>\n",
              "      <th>datatype</th>\n",
              "      <th>station</th>\n",
              "      <th>flags</th>\n",
              "      <th>temp_C</th>\n",
              "      <th>temp_C_whole</th>\n",
              "      <th>temp_F</th>\n",
              "      <th>temp_F_whole</th>\n",
              "    </tr>\n",
              "  </thead>\n",
              "  <tbody>\n",
              "    <tr>\n",
              "      <th>0</th>\n",
              "      <td>2018-10-07</td>\n",
              "      <td>TMAX</td>\n",
              "      <td>GHCND:USW00014732</td>\n",
              "      <td>,,W,2400</td>\n",
              "      <td>27.8</td>\n",
              "      <td>27</td>\n",
              "      <td>82.04</td>\n",
              "      <td>82</td>\n",
              "    </tr>\n",
              "    <tr>\n",
              "      <th>1</th>\n",
              "      <td>2018-10-10</td>\n",
              "      <td>TMAX</td>\n",
              "      <td>GHCND:USW00014732</td>\n",
              "      <td>,,W,2400</td>\n",
              "      <td>27.8</td>\n",
              "      <td>27</td>\n",
              "      <td>82.04</td>\n",
              "      <td>82</td>\n",
              "    </tr>\n",
              "    <tr>\n",
              "      <th>2</th>\n",
              "      <td>2018-10-11</td>\n",
              "      <td>TMAX</td>\n",
              "      <td>GHCND:USW00014732</td>\n",
              "      <td>,,W,2400</td>\n",
              "      <td>26.7</td>\n",
              "      <td>26</td>\n",
              "      <td>80.06</td>\n",
              "      <td>80</td>\n",
              "    </tr>\n",
              "    <tr>\n",
              "      <th>3</th>\n",
              "      <td>2018-10-02</td>\n",
              "      <td>TMAX</td>\n",
              "      <td>GHCND:USW00014732</td>\n",
              "      <td>,,W,2400</td>\n",
              "      <td>26.1</td>\n",
              "      <td>26</td>\n",
              "      <td>78.98</td>\n",
              "      <td>78</td>\n",
              "    </tr>\n",
              "    <tr>\n",
              "      <th>4</th>\n",
              "      <td>2018-10-04</td>\n",
              "      <td>TMAX</td>\n",
              "      <td>GHCND:USW00014732</td>\n",
              "      <td>,,W,2400</td>\n",
              "      <td>26.1</td>\n",
              "      <td>26</td>\n",
              "      <td>78.98</td>\n",
              "      <td>78</td>\n",
              "    </tr>\n",
              "    <tr>\n",
              "      <th>5</th>\n",
              "      <td>2018-10-01</td>\n",
              "      <td>TMAX</td>\n",
              "      <td>GHCND:USW00014732</td>\n",
              "      <td>,,W,2400</td>\n",
              "      <td>25.6</td>\n",
              "      <td>25</td>\n",
              "      <td>78.08</td>\n",
              "      <td>78</td>\n",
              "    </tr>\n",
              "    <tr>\n",
              "      <th>6</th>\n",
              "      <td>2018-10-09</td>\n",
              "      <td>TMAX</td>\n",
              "      <td>GHCND:USW00014732</td>\n",
              "      <td>,,W,2400</td>\n",
              "      <td>25.6</td>\n",
              "      <td>25</td>\n",
              "      <td>78.08</td>\n",
              "      <td>78</td>\n",
              "    </tr>\n",
              "    <tr>\n",
              "      <th>7</th>\n",
              "      <td>2018-10-03</td>\n",
              "      <td>TMAX</td>\n",
              "      <td>GHCND:USW00014732</td>\n",
              "      <td>,,W,2400</td>\n",
              "      <td>25.0</td>\n",
              "      <td>25</td>\n",
              "      <td>77.00</td>\n",
              "      <td>77</td>\n",
              "    </tr>\n",
              "    <tr>\n",
              "      <th>8</th>\n",
              "      <td>2018-10-05</td>\n",
              "      <td>TMAX</td>\n",
              "      <td>GHCND:USW00014732</td>\n",
              "      <td>,,W,2400</td>\n",
              "      <td>22.8</td>\n",
              "      <td>22</td>\n",
              "      <td>73.04</td>\n",
              "      <td>73</td>\n",
              "    </tr>\n",
              "    <tr>\n",
              "      <th>9</th>\n",
              "      <td>2018-10-08</td>\n",
              "      <td>TMAX</td>\n",
              "      <td>GHCND:USW00014732</td>\n",
              "      <td>,,W,2400</td>\n",
              "      <td>22.8</td>\n",
              "      <td>22</td>\n",
              "      <td>73.04</td>\n",
              "      <td>73</td>\n",
              "    </tr>\n",
              "  </tbody>\n",
              "</table>\n",
              "</div>"
            ],
            "text/plain": [
              "        date datatype            station  ... temp_C_whole  temp_F  temp_F_whole\n",
              "0 2018-10-07     TMAX  GHCND:USW00014732  ...           27   82.04            82\n",
              "1 2018-10-10     TMAX  GHCND:USW00014732  ...           27   82.04            82\n",
              "2 2018-10-11     TMAX  GHCND:USW00014732  ...           26   80.06            80\n",
              "3 2018-10-02     TMAX  GHCND:USW00014732  ...           26   78.98            78\n",
              "4 2018-10-04     TMAX  GHCND:USW00014732  ...           26   78.98            78\n",
              "5 2018-10-01     TMAX  GHCND:USW00014732  ...           25   78.08            78\n",
              "6 2018-10-09     TMAX  GHCND:USW00014732  ...           25   78.08            78\n",
              "7 2018-10-03     TMAX  GHCND:USW00014732  ...           25   77.00            77\n",
              "8 2018-10-05     TMAX  GHCND:USW00014732  ...           22   73.04            73\n",
              "9 2018-10-08     TMAX  GHCND:USW00014732  ...           22   73.04            73\n",
              "\n",
              "[10 rows x 8 columns]"
            ]
          },
          "metadata": {},
          "execution_count": 25
        }
      ]
    },
    {
      "cell_type": "markdown",
      "metadata": {
        "id": "M64Y-WqCjI6s"
      },
      "source": [
        "When just looking for the n-largest values, rather than wanting to sort all the data, we can use `nlargest()`:"
      ]
    },
    {
      "cell_type": "code",
      "metadata": {
        "id": "AKF63s4EjI6s",
        "colab": {
          "base_uri": "https://localhost:8080/",
          "height": 357
        },
        "outputId": "6a702614-5760-4c4a-bb6d-de89a873e2be"
      },
      "source": [
        "df[df.datatype == 'TAVG'].nlargest(n=10, columns='temp_C')"
      ],
      "execution_count": 26,
      "outputs": [
        {
          "output_type": "execute_result",
          "data": {
            "text/html": [
              "<div>\n",
              "<style scoped>\n",
              "    .dataframe tbody tr th:only-of-type {\n",
              "        vertical-align: middle;\n",
              "    }\n",
              "\n",
              "    .dataframe tbody tr th {\n",
              "        vertical-align: top;\n",
              "    }\n",
              "\n",
              "    .dataframe thead th {\n",
              "        text-align: right;\n",
              "    }\n",
              "</style>\n",
              "<table border=\"1\" class=\"dataframe\">\n",
              "  <thead>\n",
              "    <tr style=\"text-align: right;\">\n",
              "      <th></th>\n",
              "      <th>date</th>\n",
              "      <th>datatype</th>\n",
              "      <th>station</th>\n",
              "      <th>flags</th>\n",
              "      <th>temp_C</th>\n",
              "      <th>temp_C_whole</th>\n",
              "      <th>temp_F</th>\n",
              "      <th>temp_F_whole</th>\n",
              "    </tr>\n",
              "  </thead>\n",
              "  <tbody>\n",
              "    <tr>\n",
              "      <th>27</th>\n",
              "      <td>2018-10-10</td>\n",
              "      <td>TAVG</td>\n",
              "      <td>GHCND:USW00014732</td>\n",
              "      <td>H,,S,</td>\n",
              "      <td>23.8</td>\n",
              "      <td>23</td>\n",
              "      <td>74.84</td>\n",
              "      <td>74</td>\n",
              "    </tr>\n",
              "    <tr>\n",
              "      <th>30</th>\n",
              "      <td>2018-10-11</td>\n",
              "      <td>TAVG</td>\n",
              "      <td>GHCND:USW00014732</td>\n",
              "      <td>H,,S,</td>\n",
              "      <td>23.4</td>\n",
              "      <td>23</td>\n",
              "      <td>74.12</td>\n",
              "      <td>74</td>\n",
              "    </tr>\n",
              "    <tr>\n",
              "      <th>18</th>\n",
              "      <td>2018-10-07</td>\n",
              "      <td>TAVG</td>\n",
              "      <td>GHCND:USW00014732</td>\n",
              "      <td>H,,S,</td>\n",
              "      <td>22.8</td>\n",
              "      <td>22</td>\n",
              "      <td>73.04</td>\n",
              "      <td>73</td>\n",
              "    </tr>\n",
              "    <tr>\n",
              "      <th>3</th>\n",
              "      <td>2018-10-02</td>\n",
              "      <td>TAVG</td>\n",
              "      <td>GHCND:USW00014732</td>\n",
              "      <td>H,,S,</td>\n",
              "      <td>22.7</td>\n",
              "      <td>22</td>\n",
              "      <td>72.86</td>\n",
              "      <td>72</td>\n",
              "    </tr>\n",
              "    <tr>\n",
              "      <th>6</th>\n",
              "      <td>2018-10-03</td>\n",
              "      <td>TAVG</td>\n",
              "      <td>GHCND:USW00014732</td>\n",
              "      <td>H,,S,</td>\n",
              "      <td>21.8</td>\n",
              "      <td>21</td>\n",
              "      <td>71.24</td>\n",
              "      <td>71</td>\n",
              "    </tr>\n",
              "    <tr>\n",
              "      <th>24</th>\n",
              "      <td>2018-10-09</td>\n",
              "      <td>TAVG</td>\n",
              "      <td>GHCND:USW00014732</td>\n",
              "      <td>H,,S,</td>\n",
              "      <td>21.8</td>\n",
              "      <td>21</td>\n",
              "      <td>71.24</td>\n",
              "      <td>71</td>\n",
              "    </tr>\n",
              "    <tr>\n",
              "      <th>9</th>\n",
              "      <td>2018-10-04</td>\n",
              "      <td>TAVG</td>\n",
              "      <td>GHCND:USW00014732</td>\n",
              "      <td>H,,S,</td>\n",
              "      <td>21.3</td>\n",
              "      <td>21</td>\n",
              "      <td>70.34</td>\n",
              "      <td>70</td>\n",
              "    </tr>\n",
              "    <tr>\n",
              "      <th>0</th>\n",
              "      <td>2018-10-01</td>\n",
              "      <td>TAVG</td>\n",
              "      <td>GHCND:USW00014732</td>\n",
              "      <td>H,,S,</td>\n",
              "      <td>21.2</td>\n",
              "      <td>21</td>\n",
              "      <td>70.16</td>\n",
              "      <td>70</td>\n",
              "    </tr>\n",
              "    <tr>\n",
              "      <th>21</th>\n",
              "      <td>2018-10-08</td>\n",
              "      <td>TAVG</td>\n",
              "      <td>GHCND:USW00014732</td>\n",
              "      <td>H,,S,</td>\n",
              "      <td>20.9</td>\n",
              "      <td>20</td>\n",
              "      <td>69.62</td>\n",
              "      <td>69</td>\n",
              "    </tr>\n",
              "    <tr>\n",
              "      <th>12</th>\n",
              "      <td>2018-10-05</td>\n",
              "      <td>TAVG</td>\n",
              "      <td>GHCND:USW00014732</td>\n",
              "      <td>H,,S,</td>\n",
              "      <td>20.3</td>\n",
              "      <td>20</td>\n",
              "      <td>68.54</td>\n",
              "      <td>68</td>\n",
              "    </tr>\n",
              "  </tbody>\n",
              "</table>\n",
              "</div>"
            ],
            "text/plain": [
              "         date datatype            station  ... temp_C_whole  temp_F  temp_F_whole\n",
              "27 2018-10-10     TAVG  GHCND:USW00014732  ...           23   74.84            74\n",
              "30 2018-10-11     TAVG  GHCND:USW00014732  ...           23   74.12            74\n",
              "18 2018-10-07     TAVG  GHCND:USW00014732  ...           22   73.04            73\n",
              "3  2018-10-02     TAVG  GHCND:USW00014732  ...           22   72.86            72\n",
              "6  2018-10-03     TAVG  GHCND:USW00014732  ...           21   71.24            71\n",
              "24 2018-10-09     TAVG  GHCND:USW00014732  ...           21   71.24            71\n",
              "9  2018-10-04     TAVG  GHCND:USW00014732  ...           21   70.34            70\n",
              "0  2018-10-01     TAVG  GHCND:USW00014732  ...           21   70.16            70\n",
              "21 2018-10-08     TAVG  GHCND:USW00014732  ...           20   69.62            69\n",
              "12 2018-10-05     TAVG  GHCND:USW00014732  ...           20   68.54            68\n",
              "\n",
              "[10 rows x 8 columns]"
            ]
          },
          "metadata": {},
          "execution_count": 26
        }
      ]
    },
    {
      "cell_type": "markdown",
      "metadata": {
        "id": "9OnlnB7G8U1c"
      },
      "source": [
        "* lagest value를 하게 되면 temp_C기준으로 10개의 것을 볼 수 있다."
      ]
    },
    {
      "cell_type": "markdown",
      "metadata": {
        "id": "QDA3UE2ejI6s"
      },
      "source": [
        "We use `nsmallest()` for the n-smallest values."
      ]
    },
    {
      "cell_type": "code",
      "metadata": {
        "id": "FEigjbnfjI6s",
        "colab": {
          "base_uri": "https://localhost:8080/",
          "height": 203
        },
        "outputId": "cc737d44-def5-4d67-910c-aa2cd239c441"
      },
      "source": [
        "df.nsmallest(n=5, columns=['temp_C', 'date'])"
      ],
      "execution_count": 27,
      "outputs": [
        {
          "output_type": "execute_result",
          "data": {
            "text/html": [
              "<div>\n",
              "<style scoped>\n",
              "    .dataframe tbody tr th:only-of-type {\n",
              "        vertical-align: middle;\n",
              "    }\n",
              "\n",
              "    .dataframe tbody tr th {\n",
              "        vertical-align: top;\n",
              "    }\n",
              "\n",
              "    .dataframe thead th {\n",
              "        text-align: right;\n",
              "    }\n",
              "</style>\n",
              "<table border=\"1\" class=\"dataframe\">\n",
              "  <thead>\n",
              "    <tr style=\"text-align: right;\">\n",
              "      <th></th>\n",
              "      <th>date</th>\n",
              "      <th>datatype</th>\n",
              "      <th>station</th>\n",
              "      <th>flags</th>\n",
              "      <th>temp_C</th>\n",
              "      <th>temp_C_whole</th>\n",
              "      <th>temp_F</th>\n",
              "      <th>temp_F_whole</th>\n",
              "    </tr>\n",
              "  </thead>\n",
              "  <tbody>\n",
              "    <tr>\n",
              "      <th>65</th>\n",
              "      <td>2018-10-22</td>\n",
              "      <td>TMIN</td>\n",
              "      <td>GHCND:USW00014732</td>\n",
              "      <td>,,W,2400</td>\n",
              "      <td>5.6</td>\n",
              "      <td>5</td>\n",
              "      <td>42.08</td>\n",
              "      <td>42</td>\n",
              "    </tr>\n",
              "    <tr>\n",
              "      <th>77</th>\n",
              "      <td>2018-10-26</td>\n",
              "      <td>TMIN</td>\n",
              "      <td>GHCND:USW00014732</td>\n",
              "      <td>,,W,2400</td>\n",
              "      <td>5.6</td>\n",
              "      <td>5</td>\n",
              "      <td>42.08</td>\n",
              "      <td>42</td>\n",
              "    </tr>\n",
              "    <tr>\n",
              "      <th>62</th>\n",
              "      <td>2018-10-21</td>\n",
              "      <td>TMIN</td>\n",
              "      <td>GHCND:USW00014732</td>\n",
              "      <td>,,W,2400</td>\n",
              "      <td>6.1</td>\n",
              "      <td>6</td>\n",
              "      <td>42.98</td>\n",
              "      <td>42</td>\n",
              "    </tr>\n",
              "    <tr>\n",
              "      <th>74</th>\n",
              "      <td>2018-10-25</td>\n",
              "      <td>TMIN</td>\n",
              "      <td>GHCND:USW00014732</td>\n",
              "      <td>,,W,2400</td>\n",
              "      <td>6.1</td>\n",
              "      <td>6</td>\n",
              "      <td>42.98</td>\n",
              "      <td>42</td>\n",
              "    </tr>\n",
              "    <tr>\n",
              "      <th>53</th>\n",
              "      <td>2018-10-18</td>\n",
              "      <td>TMIN</td>\n",
              "      <td>GHCND:USW00014732</td>\n",
              "      <td>,,W,2400</td>\n",
              "      <td>6.7</td>\n",
              "      <td>6</td>\n",
              "      <td>44.06</td>\n",
              "      <td>44</td>\n",
              "    </tr>\n",
              "  </tbody>\n",
              "</table>\n",
              "</div>"
            ],
            "text/plain": [
              "         date datatype            station  ... temp_C_whole  temp_F  temp_F_whole\n",
              "65 2018-10-22     TMIN  GHCND:USW00014732  ...            5   42.08            42\n",
              "77 2018-10-26     TMIN  GHCND:USW00014732  ...            5   42.08            42\n",
              "62 2018-10-21     TMIN  GHCND:USW00014732  ...            6   42.98            42\n",
              "74 2018-10-25     TMIN  GHCND:USW00014732  ...            6   42.98            42\n",
              "53 2018-10-18     TMIN  GHCND:USW00014732  ...            6   44.06            44\n",
              "\n",
              "[5 rows x 8 columns]"
            ]
          },
          "metadata": {},
          "execution_count": 27
        }
      ]
    },
    {
      "cell_type": "markdown",
      "metadata": {
        "id": "soJQWYVX8gS9"
      },
      "source": [
        "* 작은거 기준으로 나열하는 기준도 있다."
      ]
    },
    {
      "cell_type": "markdown",
      "metadata": {
        "id": "C5IQE_xwjI6t"
      },
      "source": [
        "The `sample()` method will give us rows (or columns with `axis=1`) at random. We can provide a seed (`random_state`) to make this reproducible. The index after we do this is jumbled:"
      ]
    },
    {
      "cell_type": "code",
      "metadata": {
        "id": "IWXFEAfmjI6t",
        "colab": {
          "base_uri": "https://localhost:8080/"
        },
        "outputId": "ff40c97b-02c1-4050-e3b7-51442c14af28"
      },
      "source": [
        "df.sample(5, random_state=0).index"
      ],
      "execution_count": 28,
      "outputs": [
        {
          "output_type": "execute_result",
          "data": {
            "text/plain": [
              "Int64Index([2, 30, 55, 16, 13], dtype='int64')"
            ]
          },
          "metadata": {},
          "execution_count": 28
        }
      ]
    },
    {
      "cell_type": "markdown",
      "metadata": {
        "id": "ejRbGfN4jI6t"
      },
      "source": [
        "We can use `sort_index()` to order it again:"
      ]
    },
    {
      "cell_type": "code",
      "metadata": {
        "id": "LDV-fyS3jI6t",
        "colab": {
          "base_uri": "https://localhost:8080/"
        },
        "outputId": "cba6a571-b238-4224-e682-56ffe3bdd738"
      },
      "source": [
        "df.sample(5, random_state=0).sort_index().index"
      ],
      "execution_count": 29,
      "outputs": [
        {
          "output_type": "execute_result",
          "data": {
            "text/plain": [
              "Int64Index([2, 13, 16, 30, 55], dtype='int64')"
            ]
          },
          "metadata": {},
          "execution_count": 29
        }
      ]
    },
    {
      "cell_type": "markdown",
      "metadata": {
        "id": "EVbUjlfk8nQ5"
      },
      "source": [
        "* index를 sort하고 싶을 때는 sort_index를 해줘서 index를 sort해 줄 수 있다."
      ]
    },
    {
      "cell_type": "markdown",
      "metadata": {
        "id": "E0wOUGqvjI6t"
      },
      "source": [
        "The `sort_index()` method can also sort columns alphabetically:"
      ]
    },
    {
      "cell_type": "code",
      "metadata": {
        "id": "E9umj-BvjI6t",
        "colab": {
          "base_uri": "https://localhost:8080/",
          "height": 203
        },
        "outputId": "76ef5504-35b8-40dc-a06e-451698af1906"
      },
      "source": [
        "df.sort_index(axis=1).head()"
      ],
      "execution_count": 30,
      "outputs": [
        {
          "output_type": "execute_result",
          "data": {
            "text/html": [
              "<div>\n",
              "<style scoped>\n",
              "    .dataframe tbody tr th:only-of-type {\n",
              "        vertical-align: middle;\n",
              "    }\n",
              "\n",
              "    .dataframe tbody tr th {\n",
              "        vertical-align: top;\n",
              "    }\n",
              "\n",
              "    .dataframe thead th {\n",
              "        text-align: right;\n",
              "    }\n",
              "</style>\n",
              "<table border=\"1\" class=\"dataframe\">\n",
              "  <thead>\n",
              "    <tr style=\"text-align: right;\">\n",
              "      <th></th>\n",
              "      <th>datatype</th>\n",
              "      <th>date</th>\n",
              "      <th>flags</th>\n",
              "      <th>station</th>\n",
              "      <th>temp_C</th>\n",
              "      <th>temp_C_whole</th>\n",
              "      <th>temp_F</th>\n",
              "      <th>temp_F_whole</th>\n",
              "    </tr>\n",
              "  </thead>\n",
              "  <tbody>\n",
              "    <tr>\n",
              "      <th>0</th>\n",
              "      <td>TAVG</td>\n",
              "      <td>2018-10-01</td>\n",
              "      <td>H,,S,</td>\n",
              "      <td>GHCND:USW00014732</td>\n",
              "      <td>21.2</td>\n",
              "      <td>21</td>\n",
              "      <td>70.16</td>\n",
              "      <td>70</td>\n",
              "    </tr>\n",
              "    <tr>\n",
              "      <th>1</th>\n",
              "      <td>TMAX</td>\n",
              "      <td>2018-10-01</td>\n",
              "      <td>,,W,2400</td>\n",
              "      <td>GHCND:USW00014732</td>\n",
              "      <td>25.6</td>\n",
              "      <td>25</td>\n",
              "      <td>78.08</td>\n",
              "      <td>78</td>\n",
              "    </tr>\n",
              "    <tr>\n",
              "      <th>2</th>\n",
              "      <td>TMIN</td>\n",
              "      <td>2018-10-01</td>\n",
              "      <td>,,W,2400</td>\n",
              "      <td>GHCND:USW00014732</td>\n",
              "      <td>18.3</td>\n",
              "      <td>18</td>\n",
              "      <td>64.94</td>\n",
              "      <td>64</td>\n",
              "    </tr>\n",
              "    <tr>\n",
              "      <th>3</th>\n",
              "      <td>TAVG</td>\n",
              "      <td>2018-10-02</td>\n",
              "      <td>H,,S,</td>\n",
              "      <td>GHCND:USW00014732</td>\n",
              "      <td>22.7</td>\n",
              "      <td>22</td>\n",
              "      <td>72.86</td>\n",
              "      <td>72</td>\n",
              "    </tr>\n",
              "    <tr>\n",
              "      <th>4</th>\n",
              "      <td>TMAX</td>\n",
              "      <td>2018-10-02</td>\n",
              "      <td>,,W,2400</td>\n",
              "      <td>GHCND:USW00014732</td>\n",
              "      <td>26.1</td>\n",
              "      <td>26</td>\n",
              "      <td>78.98</td>\n",
              "      <td>78</td>\n",
              "    </tr>\n",
              "  </tbody>\n",
              "</table>\n",
              "</div>"
            ],
            "text/plain": [
              "  datatype       date     flags  ... temp_C_whole  temp_F  temp_F_whole\n",
              "0     TAVG 2018-10-01     H,,S,  ...           21   70.16            70\n",
              "1     TMAX 2018-10-01  ,,W,2400  ...           25   78.08            78\n",
              "2     TMIN 2018-10-01  ,,W,2400  ...           18   64.94            64\n",
              "3     TAVG 2018-10-02     H,,S,  ...           22   72.86            72\n",
              "4     TMAX 2018-10-02  ,,W,2400  ...           26   78.98            78\n",
              "\n",
              "[5 rows x 8 columns]"
            ]
          },
          "metadata": {},
          "execution_count": 30
        }
      ]
    },
    {
      "cell_type": "markdown",
      "metadata": {
        "id": "_EyFeDO48xCZ"
      },
      "source": [
        "* columns 이름으로 sort를 해줄 수 있는데 이럴 때는 axis를 1로 해줘야 된다."
      ]
    },
    {
      "cell_type": "markdown",
      "metadata": {
        "id": "Vao87tgrjI6t"
      },
      "source": [
        "This can make selection with `loc` easier for many columns:"
      ]
    },
    {
      "cell_type": "markdown",
      "metadata": {
        "id": "uE9ogvjj9ART"
      },
      "source": [
        "* sort를 해줌으로써 여러개의 column을 선택할 때 더 유용할 수 있다는 것이다."
      ]
    },
    {
      "cell_type": "code",
      "metadata": {
        "id": "z0dMT0mtjI6u",
        "colab": {
          "base_uri": "https://localhost:8080/",
          "height": 203
        },
        "outputId": "696204e3-88b9-4bf4-f2f1-3d3c7f6d705a"
      },
      "source": [
        "df.sort_index(axis=1).head().loc[:,'temp_C':'temp_F_whole']"
      ],
      "execution_count": 31,
      "outputs": [
        {
          "output_type": "execute_result",
          "data": {
            "text/html": [
              "<div>\n",
              "<style scoped>\n",
              "    .dataframe tbody tr th:only-of-type {\n",
              "        vertical-align: middle;\n",
              "    }\n",
              "\n",
              "    .dataframe tbody tr th {\n",
              "        vertical-align: top;\n",
              "    }\n",
              "\n",
              "    .dataframe thead th {\n",
              "        text-align: right;\n",
              "    }\n",
              "</style>\n",
              "<table border=\"1\" class=\"dataframe\">\n",
              "  <thead>\n",
              "    <tr style=\"text-align: right;\">\n",
              "      <th></th>\n",
              "      <th>temp_C</th>\n",
              "      <th>temp_C_whole</th>\n",
              "      <th>temp_F</th>\n",
              "      <th>temp_F_whole</th>\n",
              "    </tr>\n",
              "  </thead>\n",
              "  <tbody>\n",
              "    <tr>\n",
              "      <th>0</th>\n",
              "      <td>21.2</td>\n",
              "      <td>21</td>\n",
              "      <td>70.16</td>\n",
              "      <td>70</td>\n",
              "    </tr>\n",
              "    <tr>\n",
              "      <th>1</th>\n",
              "      <td>25.6</td>\n",
              "      <td>25</td>\n",
              "      <td>78.08</td>\n",
              "      <td>78</td>\n",
              "    </tr>\n",
              "    <tr>\n",
              "      <th>2</th>\n",
              "      <td>18.3</td>\n",
              "      <td>18</td>\n",
              "      <td>64.94</td>\n",
              "      <td>64</td>\n",
              "    </tr>\n",
              "    <tr>\n",
              "      <th>3</th>\n",
              "      <td>22.7</td>\n",
              "      <td>22</td>\n",
              "      <td>72.86</td>\n",
              "      <td>72</td>\n",
              "    </tr>\n",
              "    <tr>\n",
              "      <th>4</th>\n",
              "      <td>26.1</td>\n",
              "      <td>26</td>\n",
              "      <td>78.98</td>\n",
              "      <td>78</td>\n",
              "    </tr>\n",
              "  </tbody>\n",
              "</table>\n",
              "</div>"
            ],
            "text/plain": [
              "   temp_C  temp_C_whole  temp_F  temp_F_whole\n",
              "0    21.2            21   70.16            70\n",
              "1    25.6            25   78.08            78\n",
              "2    18.3            18   64.94            64\n",
              "3    22.7            22   72.86            72\n",
              "4    26.1            26   78.98            78"
            ]
          },
          "metadata": {},
          "execution_count": 31
        }
      ]
    },
    {
      "cell_type": "markdown",
      "metadata": {
        "id": "KBIk1fKcjI6u"
      },
      "source": [
        "We must sort the index to compare two dataframes. If the index is different, but the data is the same, they will be marked not-equal:"
      ]
    },
    {
      "cell_type": "code",
      "metadata": {
        "id": "CQUhN1lrjI6u",
        "outputId": "2ff650d5-0240-49f3-dbf2-981b965b1615",
        "colab": {
          "base_uri": "https://localhost:8080/"
        }
      },
      "source": [
        "df.equals(df.sort_values(by='temp_C'))"
      ],
      "execution_count": 32,
      "outputs": [
        {
          "output_type": "execute_result",
          "data": {
            "text/plain": [
              "False"
            ]
          },
          "metadata": {},
          "execution_count": 32
        }
      ]
    },
    {
      "cell_type": "markdown",
      "metadata": {
        "id": "yIW2hszmjI6u"
      },
      "source": [
        "Sorting the index solves this issue:"
      ]
    },
    {
      "cell_type": "code",
      "metadata": {
        "id": "rXY83qUrjI6u",
        "outputId": "7344b4d6-f3c2-4f89-9c50-57664cf1eb2b",
        "colab": {
          "base_uri": "https://localhost:8080/"
        }
      },
      "source": [
        "df.equals(df.sort_values(by='temp_C').sort_index())"
      ],
      "execution_count": 33,
      "outputs": [
        {
          "output_type": "execute_result",
          "data": {
            "text/plain": [
              "True"
            ]
          },
          "metadata": {},
          "execution_count": 33
        }
      ]
    },
    {
      "cell_type": "markdown",
      "metadata": {
        "id": "LPJe4RY_jI6u"
      },
      "source": [
        "Let's set the `date` column as our index:"
      ]
    },
    {
      "cell_type": "code",
      "metadata": {
        "id": "28_C_x6AjI6u",
        "colab": {
          "base_uri": "https://localhost:8080/",
          "height": 234
        },
        "outputId": "5b130cd0-d58c-476c-9ef3-2e3bc8860341"
      },
      "source": [
        "df.set_index('date', inplace=True)\n",
        "df.head()"
      ],
      "execution_count": 34,
      "outputs": [
        {
          "output_type": "execute_result",
          "data": {
            "text/html": [
              "<div>\n",
              "<style scoped>\n",
              "    .dataframe tbody tr th:only-of-type {\n",
              "        vertical-align: middle;\n",
              "    }\n",
              "\n",
              "    .dataframe tbody tr th {\n",
              "        vertical-align: top;\n",
              "    }\n",
              "\n",
              "    .dataframe thead th {\n",
              "        text-align: right;\n",
              "    }\n",
              "</style>\n",
              "<table border=\"1\" class=\"dataframe\">\n",
              "  <thead>\n",
              "    <tr style=\"text-align: right;\">\n",
              "      <th></th>\n",
              "      <th>datatype</th>\n",
              "      <th>station</th>\n",
              "      <th>flags</th>\n",
              "      <th>temp_C</th>\n",
              "      <th>temp_C_whole</th>\n",
              "      <th>temp_F</th>\n",
              "      <th>temp_F_whole</th>\n",
              "    </tr>\n",
              "    <tr>\n",
              "      <th>date</th>\n",
              "      <th></th>\n",
              "      <th></th>\n",
              "      <th></th>\n",
              "      <th></th>\n",
              "      <th></th>\n",
              "      <th></th>\n",
              "      <th></th>\n",
              "    </tr>\n",
              "  </thead>\n",
              "  <tbody>\n",
              "    <tr>\n",
              "      <th>2018-10-01</th>\n",
              "      <td>TAVG</td>\n",
              "      <td>GHCND:USW00014732</td>\n",
              "      <td>H,,S,</td>\n",
              "      <td>21.2</td>\n",
              "      <td>21</td>\n",
              "      <td>70.16</td>\n",
              "      <td>70</td>\n",
              "    </tr>\n",
              "    <tr>\n",
              "      <th>2018-10-01</th>\n",
              "      <td>TMAX</td>\n",
              "      <td>GHCND:USW00014732</td>\n",
              "      <td>,,W,2400</td>\n",
              "      <td>25.6</td>\n",
              "      <td>25</td>\n",
              "      <td>78.08</td>\n",
              "      <td>78</td>\n",
              "    </tr>\n",
              "    <tr>\n",
              "      <th>2018-10-01</th>\n",
              "      <td>TMIN</td>\n",
              "      <td>GHCND:USW00014732</td>\n",
              "      <td>,,W,2400</td>\n",
              "      <td>18.3</td>\n",
              "      <td>18</td>\n",
              "      <td>64.94</td>\n",
              "      <td>64</td>\n",
              "    </tr>\n",
              "    <tr>\n",
              "      <th>2018-10-02</th>\n",
              "      <td>TAVG</td>\n",
              "      <td>GHCND:USW00014732</td>\n",
              "      <td>H,,S,</td>\n",
              "      <td>22.7</td>\n",
              "      <td>22</td>\n",
              "      <td>72.86</td>\n",
              "      <td>72</td>\n",
              "    </tr>\n",
              "    <tr>\n",
              "      <th>2018-10-02</th>\n",
              "      <td>TMAX</td>\n",
              "      <td>GHCND:USW00014732</td>\n",
              "      <td>,,W,2400</td>\n",
              "      <td>26.1</td>\n",
              "      <td>26</td>\n",
              "      <td>78.98</td>\n",
              "      <td>78</td>\n",
              "    </tr>\n",
              "  </tbody>\n",
              "</table>\n",
              "</div>"
            ],
            "text/plain": [
              "           datatype            station  ... temp_F  temp_F_whole\n",
              "date                                    ...                     \n",
              "2018-10-01     TAVG  GHCND:USW00014732  ...  70.16            70\n",
              "2018-10-01     TMAX  GHCND:USW00014732  ...  78.08            78\n",
              "2018-10-01     TMIN  GHCND:USW00014732  ...  64.94            64\n",
              "2018-10-02     TAVG  GHCND:USW00014732  ...  72.86            72\n",
              "2018-10-02     TMAX  GHCND:USW00014732  ...  78.98            78\n",
              "\n",
              "[5 rows x 7 columns]"
            ]
          },
          "metadata": {},
          "execution_count": 34
        }
      ]
    },
    {
      "cell_type": "markdown",
      "metadata": {
        "id": "I5cxzn429LJf"
      },
      "source": [
        "* 날짜를 index로 하고 싶을 때는 set_index로 해서 inplace는 True로 해주면 날짜 관련해서 index로 바꾸어 줄 수 있다."
      ]
    },
    {
      "cell_type": "markdown",
      "metadata": {
        "id": "KS8FRJWzjI6v"
      },
      "source": [
        "Now that we have an index of type `DatetimeIndex`, we can do datetime slicing and indexing. As long as we provide a date format that pandas understands, we can grab the data. To select all of 2018, we simply use `df.loc['2018']`, for the fourth quarter of 2018 we can use `df.loc['2018-Q4']`, grabbing October is as simple as using `df.loc['2018-10']`; these can also be combined to build ranges. Let's grab October 11, 2018 through October 12, 2018 (inclusive of both endpoints)&mdash;note that using `loc[]` is optional for ranges:"
      ]
    },
    {
      "cell_type": "code",
      "metadata": {
        "id": "KPj9mXDsjI6v",
        "outputId": "ab40d28a-bf02-451c-e219-109d170cf14a",
        "colab": {
          "base_uri": "https://localhost:8080/",
          "height": 265
        }
      },
      "source": [
        "df['2018-10-11':'2018-10-12']"
      ],
      "execution_count": 35,
      "outputs": [
        {
          "output_type": "execute_result",
          "data": {
            "text/html": [
              "<div>\n",
              "<style scoped>\n",
              "    .dataframe tbody tr th:only-of-type {\n",
              "        vertical-align: middle;\n",
              "    }\n",
              "\n",
              "    .dataframe tbody tr th {\n",
              "        vertical-align: top;\n",
              "    }\n",
              "\n",
              "    .dataframe thead th {\n",
              "        text-align: right;\n",
              "    }\n",
              "</style>\n",
              "<table border=\"1\" class=\"dataframe\">\n",
              "  <thead>\n",
              "    <tr style=\"text-align: right;\">\n",
              "      <th></th>\n",
              "      <th>datatype</th>\n",
              "      <th>station</th>\n",
              "      <th>flags</th>\n",
              "      <th>temp_C</th>\n",
              "      <th>temp_C_whole</th>\n",
              "      <th>temp_F</th>\n",
              "      <th>temp_F_whole</th>\n",
              "    </tr>\n",
              "    <tr>\n",
              "      <th>date</th>\n",
              "      <th></th>\n",
              "      <th></th>\n",
              "      <th></th>\n",
              "      <th></th>\n",
              "      <th></th>\n",
              "      <th></th>\n",
              "      <th></th>\n",
              "    </tr>\n",
              "  </thead>\n",
              "  <tbody>\n",
              "    <tr>\n",
              "      <th>2018-10-11</th>\n",
              "      <td>TAVG</td>\n",
              "      <td>GHCND:USW00014732</td>\n",
              "      <td>H,,S,</td>\n",
              "      <td>23.4</td>\n",
              "      <td>23</td>\n",
              "      <td>74.12</td>\n",
              "      <td>74</td>\n",
              "    </tr>\n",
              "    <tr>\n",
              "      <th>2018-10-11</th>\n",
              "      <td>TMAX</td>\n",
              "      <td>GHCND:USW00014732</td>\n",
              "      <td>,,W,2400</td>\n",
              "      <td>26.7</td>\n",
              "      <td>26</td>\n",
              "      <td>80.06</td>\n",
              "      <td>80</td>\n",
              "    </tr>\n",
              "    <tr>\n",
              "      <th>2018-10-11</th>\n",
              "      <td>TMIN</td>\n",
              "      <td>GHCND:USW00014732</td>\n",
              "      <td>,,W,2400</td>\n",
              "      <td>21.7</td>\n",
              "      <td>21</td>\n",
              "      <td>71.06</td>\n",
              "      <td>71</td>\n",
              "    </tr>\n",
              "    <tr>\n",
              "      <th>2018-10-12</th>\n",
              "      <td>TAVG</td>\n",
              "      <td>GHCND:USW00014732</td>\n",
              "      <td>H,,S,</td>\n",
              "      <td>18.3</td>\n",
              "      <td>18</td>\n",
              "      <td>64.94</td>\n",
              "      <td>64</td>\n",
              "    </tr>\n",
              "    <tr>\n",
              "      <th>2018-10-12</th>\n",
              "      <td>TMAX</td>\n",
              "      <td>GHCND:USW00014732</td>\n",
              "      <td>,,W,2400</td>\n",
              "      <td>22.2</td>\n",
              "      <td>22</td>\n",
              "      <td>71.96</td>\n",
              "      <td>71</td>\n",
              "    </tr>\n",
              "    <tr>\n",
              "      <th>2018-10-12</th>\n",
              "      <td>TMIN</td>\n",
              "      <td>GHCND:USW00014732</td>\n",
              "      <td>,,W,2400</td>\n",
              "      <td>12.2</td>\n",
              "      <td>12</td>\n",
              "      <td>53.96</td>\n",
              "      <td>53</td>\n",
              "    </tr>\n",
              "  </tbody>\n",
              "</table>\n",
              "</div>"
            ],
            "text/plain": [
              "           datatype            station  ... temp_F  temp_F_whole\n",
              "date                                    ...                     \n",
              "2018-10-11     TAVG  GHCND:USW00014732  ...  74.12            74\n",
              "2018-10-11     TMAX  GHCND:USW00014732  ...  80.06            80\n",
              "2018-10-11     TMIN  GHCND:USW00014732  ...  71.06            71\n",
              "2018-10-12     TAVG  GHCND:USW00014732  ...  64.94            64\n",
              "2018-10-12     TMAX  GHCND:USW00014732  ...  71.96            71\n",
              "2018-10-12     TMIN  GHCND:USW00014732  ...  53.96            53\n",
              "\n",
              "[6 rows x 7 columns]"
            ]
          },
          "metadata": {},
          "execution_count": 35
        }
      ]
    },
    {
      "cell_type": "markdown",
      "metadata": {
        "id": "XRPXNEX-9dYv"
      },
      "source": [
        "* 이렇게 날짜를 몇일 부터 몇일까지 지정해서 그거에 대한 것을 볼 수 있다."
      ]
    },
    {
      "cell_type": "markdown",
      "metadata": {
        "id": "Ykq8lanwjI6v"
      },
      "source": [
        "We can also use `reset_index()` to get a fresh index and move our current index into a column for safe keeping. This is especially useful if we had data, such as the date, in the index that we don't want to lose:"
      ]
    },
    {
      "cell_type": "code",
      "metadata": {
        "id": "K7g0eF6ZjI6v",
        "outputId": "8966684a-41a8-4132-b7cd-8a51a2868fe6",
        "colab": {
          "base_uri": "https://localhost:8080/",
          "height": 234
        }
      },
      "source": [
        "df['2018-10-11':'2018-10-12'].reset_index()"
      ],
      "execution_count": 36,
      "outputs": [
        {
          "output_type": "execute_result",
          "data": {
            "text/html": [
              "<div>\n",
              "<style scoped>\n",
              "    .dataframe tbody tr th:only-of-type {\n",
              "        vertical-align: middle;\n",
              "    }\n",
              "\n",
              "    .dataframe tbody tr th {\n",
              "        vertical-align: top;\n",
              "    }\n",
              "\n",
              "    .dataframe thead th {\n",
              "        text-align: right;\n",
              "    }\n",
              "</style>\n",
              "<table border=\"1\" class=\"dataframe\">\n",
              "  <thead>\n",
              "    <tr style=\"text-align: right;\">\n",
              "      <th></th>\n",
              "      <th>date</th>\n",
              "      <th>datatype</th>\n",
              "      <th>station</th>\n",
              "      <th>flags</th>\n",
              "      <th>temp_C</th>\n",
              "      <th>temp_C_whole</th>\n",
              "      <th>temp_F</th>\n",
              "      <th>temp_F_whole</th>\n",
              "    </tr>\n",
              "  </thead>\n",
              "  <tbody>\n",
              "    <tr>\n",
              "      <th>0</th>\n",
              "      <td>2018-10-11</td>\n",
              "      <td>TAVG</td>\n",
              "      <td>GHCND:USW00014732</td>\n",
              "      <td>H,,S,</td>\n",
              "      <td>23.4</td>\n",
              "      <td>23</td>\n",
              "      <td>74.12</td>\n",
              "      <td>74</td>\n",
              "    </tr>\n",
              "    <tr>\n",
              "      <th>1</th>\n",
              "      <td>2018-10-11</td>\n",
              "      <td>TMAX</td>\n",
              "      <td>GHCND:USW00014732</td>\n",
              "      <td>,,W,2400</td>\n",
              "      <td>26.7</td>\n",
              "      <td>26</td>\n",
              "      <td>80.06</td>\n",
              "      <td>80</td>\n",
              "    </tr>\n",
              "    <tr>\n",
              "      <th>2</th>\n",
              "      <td>2018-10-11</td>\n",
              "      <td>TMIN</td>\n",
              "      <td>GHCND:USW00014732</td>\n",
              "      <td>,,W,2400</td>\n",
              "      <td>21.7</td>\n",
              "      <td>21</td>\n",
              "      <td>71.06</td>\n",
              "      <td>71</td>\n",
              "    </tr>\n",
              "    <tr>\n",
              "      <th>3</th>\n",
              "      <td>2018-10-12</td>\n",
              "      <td>TAVG</td>\n",
              "      <td>GHCND:USW00014732</td>\n",
              "      <td>H,,S,</td>\n",
              "      <td>18.3</td>\n",
              "      <td>18</td>\n",
              "      <td>64.94</td>\n",
              "      <td>64</td>\n",
              "    </tr>\n",
              "    <tr>\n",
              "      <th>4</th>\n",
              "      <td>2018-10-12</td>\n",
              "      <td>TMAX</td>\n",
              "      <td>GHCND:USW00014732</td>\n",
              "      <td>,,W,2400</td>\n",
              "      <td>22.2</td>\n",
              "      <td>22</td>\n",
              "      <td>71.96</td>\n",
              "      <td>71</td>\n",
              "    </tr>\n",
              "    <tr>\n",
              "      <th>5</th>\n",
              "      <td>2018-10-12</td>\n",
              "      <td>TMIN</td>\n",
              "      <td>GHCND:USW00014732</td>\n",
              "      <td>,,W,2400</td>\n",
              "      <td>12.2</td>\n",
              "      <td>12</td>\n",
              "      <td>53.96</td>\n",
              "      <td>53</td>\n",
              "    </tr>\n",
              "  </tbody>\n",
              "</table>\n",
              "</div>"
            ],
            "text/plain": [
              "        date datatype            station  ... temp_C_whole  temp_F  temp_F_whole\n",
              "0 2018-10-11     TAVG  GHCND:USW00014732  ...           23   74.12            74\n",
              "1 2018-10-11     TMAX  GHCND:USW00014732  ...           26   80.06            80\n",
              "2 2018-10-11     TMIN  GHCND:USW00014732  ...           21   71.06            71\n",
              "3 2018-10-12     TAVG  GHCND:USW00014732  ...           18   64.94            64\n",
              "4 2018-10-12     TMAX  GHCND:USW00014732  ...           22   71.96            71\n",
              "5 2018-10-12     TMIN  GHCND:USW00014732  ...           12   53.96            53\n",
              "\n",
              "[6 rows x 8 columns]"
            ]
          },
          "metadata": {},
          "execution_count": 36
        }
      ]
    },
    {
      "cell_type": "markdown",
      "metadata": {
        "id": "mjP9VgaR9jfS"
      },
      "source": [
        "* rest_index를 이용해서 나온거를 다시 순서대로 정리할 수 있다."
      ]
    },
    {
      "cell_type": "markdown",
      "metadata": {
        "id": "z8WSghZ-jI6v"
      },
      "source": [
        "Reindexing allows us to conform our axis to contain a given set of labels. Let's turn to the S&P 500 stock data in the `sp500.csv` file to see an example of this. Notice we only have data for trading days (weekdays, excluding holidays):"
      ]
    },
    {
      "cell_type": "markdown",
      "metadata": {
        "id": "z_P68qD09tu_"
      },
      "source": [
        "* 여기에서는 지금까지 배웠던 것을 예제로 확인을 해본다.\n",
        "* 주가 데이터랑 비트코인 데이터를 사용해준다."
      ]
    },
    {
      "cell_type": "code",
      "metadata": {
        "id": "wABvjMitjI6v",
        "colab": {
          "base_uri": "https://localhost:8080/",
          "height": 388
        },
        "outputId": "bc76ca31-43eb-49f8-f1ab-1328e9272876"
      },
      "source": [
        "sp = pd.read_csv(\n",
        "    'data/sp500.csv', index_col='date', parse_dates=True\n",
        ").drop(columns=['adj_close'])\n",
        "\n",
        "sp.head(10).assign(\n",
        "    day_of_week=lambda x: x.index.day_name()\n",
        ")"
      ],
      "execution_count": 37,
      "outputs": [
        {
          "output_type": "execute_result",
          "data": {
            "text/html": [
              "<div>\n",
              "<style scoped>\n",
              "    .dataframe tbody tr th:only-of-type {\n",
              "        vertical-align: middle;\n",
              "    }\n",
              "\n",
              "    .dataframe tbody tr th {\n",
              "        vertical-align: top;\n",
              "    }\n",
              "\n",
              "    .dataframe thead th {\n",
              "        text-align: right;\n",
              "    }\n",
              "</style>\n",
              "<table border=\"1\" class=\"dataframe\">\n",
              "  <thead>\n",
              "    <tr style=\"text-align: right;\">\n",
              "      <th></th>\n",
              "      <th>high</th>\n",
              "      <th>low</th>\n",
              "      <th>open</th>\n",
              "      <th>close</th>\n",
              "      <th>volume</th>\n",
              "      <th>day_of_week</th>\n",
              "    </tr>\n",
              "    <tr>\n",
              "      <th>date</th>\n",
              "      <th></th>\n",
              "      <th></th>\n",
              "      <th></th>\n",
              "      <th></th>\n",
              "      <th></th>\n",
              "      <th></th>\n",
              "    </tr>\n",
              "  </thead>\n",
              "  <tbody>\n",
              "    <tr>\n",
              "      <th>2017-01-03</th>\n",
              "      <td>2263.879883</td>\n",
              "      <td>2245.129883</td>\n",
              "      <td>2251.570068</td>\n",
              "      <td>2257.830078</td>\n",
              "      <td>3770530000</td>\n",
              "      <td>Tuesday</td>\n",
              "    </tr>\n",
              "    <tr>\n",
              "      <th>2017-01-04</th>\n",
              "      <td>2272.820068</td>\n",
              "      <td>2261.600098</td>\n",
              "      <td>2261.600098</td>\n",
              "      <td>2270.750000</td>\n",
              "      <td>3764890000</td>\n",
              "      <td>Wednesday</td>\n",
              "    </tr>\n",
              "    <tr>\n",
              "      <th>2017-01-05</th>\n",
              "      <td>2271.500000</td>\n",
              "      <td>2260.449951</td>\n",
              "      <td>2268.179932</td>\n",
              "      <td>2269.000000</td>\n",
              "      <td>3761820000</td>\n",
              "      <td>Thursday</td>\n",
              "    </tr>\n",
              "    <tr>\n",
              "      <th>2017-01-06</th>\n",
              "      <td>2282.100098</td>\n",
              "      <td>2264.060059</td>\n",
              "      <td>2271.139893</td>\n",
              "      <td>2276.979980</td>\n",
              "      <td>3339890000</td>\n",
              "      <td>Friday</td>\n",
              "    </tr>\n",
              "    <tr>\n",
              "      <th>2017-01-09</th>\n",
              "      <td>2275.489990</td>\n",
              "      <td>2268.899902</td>\n",
              "      <td>2273.590088</td>\n",
              "      <td>2268.899902</td>\n",
              "      <td>3217610000</td>\n",
              "      <td>Monday</td>\n",
              "    </tr>\n",
              "    <tr>\n",
              "      <th>2017-01-10</th>\n",
              "      <td>2279.270020</td>\n",
              "      <td>2265.270020</td>\n",
              "      <td>2269.719971</td>\n",
              "      <td>2268.899902</td>\n",
              "      <td>3638790000</td>\n",
              "      <td>Tuesday</td>\n",
              "    </tr>\n",
              "    <tr>\n",
              "      <th>2017-01-11</th>\n",
              "      <td>2275.320068</td>\n",
              "      <td>2260.830078</td>\n",
              "      <td>2268.600098</td>\n",
              "      <td>2275.320068</td>\n",
              "      <td>3620410000</td>\n",
              "      <td>Wednesday</td>\n",
              "    </tr>\n",
              "    <tr>\n",
              "      <th>2017-01-12</th>\n",
              "      <td>2271.780029</td>\n",
              "      <td>2254.250000</td>\n",
              "      <td>2271.139893</td>\n",
              "      <td>2270.439941</td>\n",
              "      <td>3462130000</td>\n",
              "      <td>Thursday</td>\n",
              "    </tr>\n",
              "    <tr>\n",
              "      <th>2017-01-13</th>\n",
              "      <td>2278.679932</td>\n",
              "      <td>2271.510010</td>\n",
              "      <td>2272.739990</td>\n",
              "      <td>2274.639893</td>\n",
              "      <td>3081270000</td>\n",
              "      <td>Friday</td>\n",
              "    </tr>\n",
              "    <tr>\n",
              "      <th>2017-01-17</th>\n",
              "      <td>2272.080078</td>\n",
              "      <td>2262.810059</td>\n",
              "      <td>2269.139893</td>\n",
              "      <td>2267.889893</td>\n",
              "      <td>3584990000</td>\n",
              "      <td>Tuesday</td>\n",
              "    </tr>\n",
              "  </tbody>\n",
              "</table>\n",
              "</div>"
            ],
            "text/plain": [
              "                   high          low  ...      volume  day_of_week\n",
              "date                                  ...                         \n",
              "2017-01-03  2263.879883  2245.129883  ...  3770530000      Tuesday\n",
              "2017-01-04  2272.820068  2261.600098  ...  3764890000    Wednesday\n",
              "2017-01-05  2271.500000  2260.449951  ...  3761820000     Thursday\n",
              "2017-01-06  2282.100098  2264.060059  ...  3339890000       Friday\n",
              "2017-01-09  2275.489990  2268.899902  ...  3217610000       Monday\n",
              "2017-01-10  2279.270020  2265.270020  ...  3638790000      Tuesday\n",
              "2017-01-11  2275.320068  2260.830078  ...  3620410000    Wednesday\n",
              "2017-01-12  2271.780029  2254.250000  ...  3462130000     Thursday\n",
              "2017-01-13  2278.679932  2271.510010  ...  3081270000       Friday\n",
              "2017-01-17  2272.080078  2262.810059  ...  3584990000      Tuesday\n",
              "\n",
              "[10 rows x 6 columns]"
            ]
          },
          "metadata": {},
          "execution_count": 37
        }
      ]
    },
    {
      "cell_type": "markdown",
      "metadata": {
        "id": "nZHdCFYrjI6v"
      },
      "source": [
        "If we want to look at the value of a portfolio (group of assets) that trade on different days, we need to handle the mismatch in the index. Bitcoin, for example, trades daily. If we sum up all the data we have for each day (aggregations will be covered in chapter 4, so don't fixate on this part), we get the following:"
      ]
    },
    {
      "cell_type": "code",
      "metadata": {
        "id": "OIMvZslAjI6w",
        "colab": {
          "base_uri": "https://localhost:8080/",
          "height": 388
        },
        "outputId": "c023c96d-56f0-4f57-f44f-84cfc4f2e25f"
      },
      "source": [
        "bitcoin = pd.read_csv(\n",
        "    'data/bitcoin.csv', index_col='date', parse_dates=True\n",
        ").drop(columns=['market_cap'])\n",
        "\n",
        "# every day's closing price = S&P 500 close + Bitcoin close (same for other metrics)\n",
        "portfolio = pd.concat([sp, bitcoin], sort=False).groupby(level='date').sum()\n",
        "\n",
        "portfolio.head(10).assign(\n",
        "    day_of_week=lambda x: x.index.day_name()\n",
        ")"
      ],
      "execution_count": 38,
      "outputs": [
        {
          "output_type": "execute_result",
          "data": {
            "text/html": [
              "<div>\n",
              "<style scoped>\n",
              "    .dataframe tbody tr th:only-of-type {\n",
              "        vertical-align: middle;\n",
              "    }\n",
              "\n",
              "    .dataframe tbody tr th {\n",
              "        vertical-align: top;\n",
              "    }\n",
              "\n",
              "    .dataframe thead th {\n",
              "        text-align: right;\n",
              "    }\n",
              "</style>\n",
              "<table border=\"1\" class=\"dataframe\">\n",
              "  <thead>\n",
              "    <tr style=\"text-align: right;\">\n",
              "      <th></th>\n",
              "      <th>high</th>\n",
              "      <th>low</th>\n",
              "      <th>open</th>\n",
              "      <th>close</th>\n",
              "      <th>volume</th>\n",
              "      <th>day_of_week</th>\n",
              "    </tr>\n",
              "    <tr>\n",
              "      <th>date</th>\n",
              "      <th></th>\n",
              "      <th></th>\n",
              "      <th></th>\n",
              "      <th></th>\n",
              "      <th></th>\n",
              "      <th></th>\n",
              "    </tr>\n",
              "  </thead>\n",
              "  <tbody>\n",
              "    <tr>\n",
              "      <th>2017-01-01</th>\n",
              "      <td>1003.080000</td>\n",
              "      <td>958.700000</td>\n",
              "      <td>963.660000</td>\n",
              "      <td>998.330000</td>\n",
              "      <td>147775008</td>\n",
              "      <td>Sunday</td>\n",
              "    </tr>\n",
              "    <tr>\n",
              "      <th>2017-01-02</th>\n",
              "      <td>1031.390000</td>\n",
              "      <td>996.700000</td>\n",
              "      <td>998.620000</td>\n",
              "      <td>1021.750000</td>\n",
              "      <td>222184992</td>\n",
              "      <td>Monday</td>\n",
              "    </tr>\n",
              "    <tr>\n",
              "      <th>2017-01-03</th>\n",
              "      <td>3307.959883</td>\n",
              "      <td>3266.729883</td>\n",
              "      <td>3273.170068</td>\n",
              "      <td>3301.670078</td>\n",
              "      <td>3955698000</td>\n",
              "      <td>Tuesday</td>\n",
              "    </tr>\n",
              "    <tr>\n",
              "      <th>2017-01-04</th>\n",
              "      <td>3432.240068</td>\n",
              "      <td>3306.000098</td>\n",
              "      <td>3306.000098</td>\n",
              "      <td>3425.480000</td>\n",
              "      <td>4109835984</td>\n",
              "      <td>Wednesday</td>\n",
              "    </tr>\n",
              "    <tr>\n",
              "      <th>2017-01-05</th>\n",
              "      <td>3462.600000</td>\n",
              "      <td>3170.869951</td>\n",
              "      <td>3424.909932</td>\n",
              "      <td>3282.380000</td>\n",
              "      <td>4272019008</td>\n",
              "      <td>Thursday</td>\n",
              "    </tr>\n",
              "    <tr>\n",
              "      <th>2017-01-06</th>\n",
              "      <td>3328.910098</td>\n",
              "      <td>3148.000059</td>\n",
              "      <td>3285.379893</td>\n",
              "      <td>3179.179980</td>\n",
              "      <td>3691766000</td>\n",
              "      <td>Friday</td>\n",
              "    </tr>\n",
              "    <tr>\n",
              "      <th>2017-01-07</th>\n",
              "      <td>908.590000</td>\n",
              "      <td>823.560000</td>\n",
              "      <td>903.490000</td>\n",
              "      <td>908.590000</td>\n",
              "      <td>279550016</td>\n",
              "      <td>Saturday</td>\n",
              "    </tr>\n",
              "    <tr>\n",
              "      <th>2017-01-08</th>\n",
              "      <td>942.720000</td>\n",
              "      <td>887.250000</td>\n",
              "      <td>908.170000</td>\n",
              "      <td>911.200000</td>\n",
              "      <td>158715008</td>\n",
              "      <td>Sunday</td>\n",
              "    </tr>\n",
              "    <tr>\n",
              "      <th>2017-01-09</th>\n",
              "      <td>3189.179990</td>\n",
              "      <td>3148.709902</td>\n",
              "      <td>3186.830088</td>\n",
              "      <td>3171.729902</td>\n",
              "      <td>3359486992</td>\n",
              "      <td>Monday</td>\n",
              "    </tr>\n",
              "    <tr>\n",
              "      <th>2017-01-10</th>\n",
              "      <td>3194.140020</td>\n",
              "      <td>3166.330020</td>\n",
              "      <td>3172.159971</td>\n",
              "      <td>3176.579902</td>\n",
              "      <td>3754598000</td>\n",
              "      <td>Tuesday</td>\n",
              "    </tr>\n",
              "  </tbody>\n",
              "</table>\n",
              "</div>"
            ],
            "text/plain": [
              "                   high          low  ...      volume  day_of_week\n",
              "date                                  ...                         \n",
              "2017-01-01  1003.080000   958.700000  ...   147775008       Sunday\n",
              "2017-01-02  1031.390000   996.700000  ...   222184992       Monday\n",
              "2017-01-03  3307.959883  3266.729883  ...  3955698000      Tuesday\n",
              "2017-01-04  3432.240068  3306.000098  ...  4109835984    Wednesday\n",
              "2017-01-05  3462.600000  3170.869951  ...  4272019008     Thursday\n",
              "2017-01-06  3328.910098  3148.000059  ...  3691766000       Friday\n",
              "2017-01-07   908.590000   823.560000  ...   279550016     Saturday\n",
              "2017-01-08   942.720000   887.250000  ...   158715008       Sunday\n",
              "2017-01-09  3189.179990  3148.709902  ...  3359486992       Monday\n",
              "2017-01-10  3194.140020  3166.330020  ...  3754598000      Tuesday\n",
              "\n",
              "[10 rows x 6 columns]"
            ]
          },
          "metadata": {},
          "execution_count": 38
        }
      ]
    },
    {
      "cell_type": "markdown",
      "metadata": {
        "id": "xu1HJJLk97kr"
      },
      "source": [
        "* prtfolio를 사용해서 두 데이터를 row쪽으로 concat해준 다음에 각 날짜별로 해서 거래량을 합해 주었다."
      ]
    },
    {
      "cell_type": "markdown",
      "metadata": {
        "id": "WdE9bgx4jI6w"
      },
      "source": [
        "It may not be immediately obvious what is wrong with the previous data, but with a visualization we can easily see the cyclical pattern of drops on the days the stock market is closed. (Don't worry about the plotting code too much, we will cover it in depth in chapters 5 and 6).\n",
        "\n",
        "We will need to import `matplotlib` now:"
      ]
    },
    {
      "cell_type": "markdown",
      "metadata": {
        "id": "M9rHyZ6k-M6R"
      },
      "source": [
        "* 근데 위에와 같이 단순하게 합쳐줘서 하게 되면 문제가 생기게 된다.\n",
        "* 문제는 주기적으로 down이 일어나는 현상이 발생하게 된다."
      ]
    },
    {
      "cell_type": "code",
      "metadata": {
        "id": "Ly-dWN73jI6w"
      },
      "source": [
        "import matplotlib.pyplot as plt # we use this module for plotting\n",
        "from matplotlib.ticker import StrMethodFormatter # for formatting the axis"
      ],
      "execution_count": 39,
      "outputs": []
    },
    {
      "cell_type": "markdown",
      "metadata": {
        "id": "LXldwi0YjI6w"
      },
      "source": [
        "Now we can see why we need to reindex:"
      ]
    },
    {
      "cell_type": "code",
      "metadata": {
        "id": "9IZv6C6OjI6x",
        "colab": {
          "base_uri": "https://localhost:8080/",
          "height": 333
        },
        "outputId": "86fe558d-c1be-4c73-f3ec-ab459b8e58b2"
      },
      "source": [
        "# plot the closing price from Q4 2017 through Q2 2018\n",
        "ax = portfolio['2017-Q4':'2018-Q2'].plot(\n",
        "    y='close', figsize=(15, 5), legend=False,\n",
        "    title='Bitcoin + S&P 500 value without accounting for different indices'\n",
        ")\n",
        "\n",
        "# formatting\n",
        "ax.set_ylabel('price')\n",
        "ax.yaxis.set_major_formatter(StrMethodFormatter('${x:,.0f}'))\n",
        "for spine in ['top', 'right']:\n",
        "    ax.spines[spine].set_visible(False)\n",
        "\n",
        "# show the plot\n",
        "plt.show()"
      ],
      "execution_count": 40,
      "outputs": [
        {
          "output_type": "display_data",
          "data": {
            "image/png": "[encoded data removed]",
            "text/plain": [
              "<Figure size 1080x360 with 1 Axes>"
            ]
          },
          "metadata": {
            "needs_background": "light"
          }
        }
      ]
    },
    {
      "cell_type": "markdown",
      "metadata": {
        "id": "LPF-YMBijI6x"
      },
      "source": [
        "We need to align the index of the S&P 500 to match bitcoin in order to fix this. We will use the `reindex()` method, but by default we get `NaN` for the values that we don't have data for:"
      ]
    },
    {
      "cell_type": "markdown",
      "metadata": {
        "id": "8ITyRTub-YOt"
      },
      "source": [
        "* 위에와 같이 plot이 주기적으로 down되는 현상을 아래 table과 같이 살펴보았다."
      ]
    },
    {
      "cell_type": "code",
      "metadata": {
        "id": "Il0Rz-4zjI6x",
        "outputId": "dad83803-3316-4716-8a6d-d81c97bb298a",
        "colab": {
          "base_uri": "https://localhost:8080/",
          "height": 388
        }
      },
      "source": [
        "sp.reindex(bitcoin.index).head(10).assign(\n",
        "    day_of_week=lambda x: x.index.day_name()\n",
        ")"
      ],
      "execution_count": 41,
      "outputs": [
        {
          "output_type": "execute_result",
          "data": {
            "text/html": [
              "<div>\n",
              "<style scoped>\n",
              "    .dataframe tbody tr th:only-of-type {\n",
              "        vertical-align: middle;\n",
              "    }\n",
              "\n",
              "    .dataframe tbody tr th {\n",
              "        vertical-align: top;\n",
              "    }\n",
              "\n",
              "    .dataframe thead th {\n",
              "        text-align: right;\n",
              "    }\n",
              "</style>\n",
              "<table border=\"1\" class=\"dataframe\">\n",
              "  <thead>\n",
              "    <tr style=\"text-align: right;\">\n",
              "      <th></th>\n",
              "      <th>high</th>\n",
              "      <th>low</th>\n",
              "      <th>open</th>\n",
              "      <th>close</th>\n",
              "      <th>volume</th>\n",
              "      <th>day_of_week</th>\n",
              "    </tr>\n",
              "    <tr>\n",
              "      <th>date</th>\n",
              "      <th></th>\n",
              "      <th></th>\n",
              "      <th></th>\n",
              "      <th></th>\n",
              "      <th></th>\n",
              "      <th></th>\n",
              "    </tr>\n",
              "  </thead>\n",
              "  <tbody>\n",
              "    <tr>\n",
              "      <th>2017-01-01</th>\n",
              "      <td>NaN</td>\n",
              "      <td>NaN</td>\n",
              "      <td>NaN</td>\n",
              "      <td>NaN</td>\n",
              "      <td>NaN</td>\n",
              "      <td>Sunday</td>\n",
              "    </tr>\n",
              "    <tr>\n",
              "      <th>2017-01-02</th>\n",
              "      <td>NaN</td>\n",
              "      <td>NaN</td>\n",
              "      <td>NaN</td>\n",
              "      <td>NaN</td>\n",
              "      <td>NaN</td>\n",
              "      <td>Monday</td>\n",
              "    </tr>\n",
              "    <tr>\n",
              "      <th>2017-01-03</th>\n",
              "      <td>2263.879883</td>\n",
              "      <td>2245.129883</td>\n",
              "      <td>2251.570068</td>\n",
              "      <td>2257.830078</td>\n",
              "      <td>3.770530e+09</td>\n",
              "      <td>Tuesday</td>\n",
              "    </tr>\n",
              "    <tr>\n",
              "      <th>2017-01-04</th>\n",
              "      <td>2272.820068</td>\n",
              "      <td>2261.600098</td>\n",
              "      <td>2261.600098</td>\n",
              "      <td>2270.750000</td>\n",
              "      <td>3.764890e+09</td>\n",
              "      <td>Wednesday</td>\n",
              "    </tr>\n",
              "    <tr>\n",
              "      <th>2017-01-05</th>\n",
              "      <td>2271.500000</td>\n",
              "      <td>2260.449951</td>\n",
              "      <td>2268.179932</td>\n",
              "      <td>2269.000000</td>\n",
              "      <td>3.761820e+09</td>\n",
              "      <td>Thursday</td>\n",
              "    </tr>\n",
              "    <tr>\n",
              "      <th>2017-01-06</th>\n",
              "      <td>2282.100098</td>\n",
              "      <td>2264.060059</td>\n",
              "      <td>2271.139893</td>\n",
              "      <td>2276.979980</td>\n",
              "      <td>3.339890e+09</td>\n",
              "      <td>Friday</td>\n",
              "    </tr>\n",
              "    <tr>\n",
              "      <th>2017-01-07</th>\n",
              "      <td>NaN</td>\n",
              "      <td>NaN</td>\n",
              "      <td>NaN</td>\n",
              "      <td>NaN</td>\n",
              "      <td>NaN</td>\n",
              "      <td>Saturday</td>\n",
              "    </tr>\n",
              "    <tr>\n",
              "      <th>2017-01-08</th>\n",
              "      <td>NaN</td>\n",
              "      <td>NaN</td>\n",
              "      <td>NaN</td>\n",
              "      <td>NaN</td>\n",
              "      <td>NaN</td>\n",
              "      <td>Sunday</td>\n",
              "    </tr>\n",
              "    <tr>\n",
              "      <th>2017-01-09</th>\n",
              "      <td>2275.489990</td>\n",
              "      <td>2268.899902</td>\n",
              "      <td>2273.590088</td>\n",
              "      <td>2268.899902</td>\n",
              "      <td>3.217610e+09</td>\n",
              "      <td>Monday</td>\n",
              "    </tr>\n",
              "    <tr>\n",
              "      <th>2017-01-10</th>\n",
              "      <td>2279.270020</td>\n",
              "      <td>2265.270020</td>\n",
              "      <td>2269.719971</td>\n",
              "      <td>2268.899902</td>\n",
              "      <td>3.638790e+09</td>\n",
              "      <td>Tuesday</td>\n",
              "    </tr>\n",
              "  </tbody>\n",
              "</table>\n",
              "</div>"
            ],
            "text/plain": [
              "                   high          low  ...        volume  day_of_week\n",
              "date                                  ...                           \n",
              "2017-01-01          NaN          NaN  ...           NaN       Sunday\n",
              "2017-01-02          NaN          NaN  ...           NaN       Monday\n",
              "2017-01-03  2263.879883  2245.129883  ...  3.770530e+09      Tuesday\n",
              "2017-01-04  2272.820068  2261.600098  ...  3.764890e+09    Wednesday\n",
              "2017-01-05  2271.500000  2260.449951  ...  3.761820e+09     Thursday\n",
              "2017-01-06  2282.100098  2264.060059  ...  3.339890e+09       Friday\n",
              "2017-01-07          NaN          NaN  ...           NaN     Saturday\n",
              "2017-01-08          NaN          NaN  ...           NaN       Sunday\n",
              "2017-01-09  2275.489990  2268.899902  ...  3.217610e+09       Monday\n",
              "2017-01-10  2279.270020  2265.270020  ...  3.638790e+09      Tuesday\n",
              "\n",
              "[10 rows x 6 columns]"
            ]
          },
          "metadata": {},
          "execution_count": 41
        }
      ]
    },
    {
      "cell_type": "markdown",
      "metadata": {
        "id": "bHJRWU9a-f3v"
      },
      "source": [
        "* table을 보았을 때, sunday와 saturday 즉. 거래가 없는 날 비트코인은 거래가 없는 날에도 거래량에 변동이 있지만 주식과 같은 경우에는 거래소가 문을 열어야 되기 때문에 거래가 없는 날에 줄어드는 현상이 나오게 된다."
      ]
    },
    {
      "cell_type": "markdown",
      "metadata": {
        "id": "0kkmxdTojI6x"
      },
      "source": [
        "So now we have rows for every day of the year, but all the weekends and holidays have `NaN` values. To address this, we can specify how to handle missing values with the `method` argument. In this case, we want to forward-fill, which will put the weekend and holiday values as the value they had for the Friday (or end of trading week) before:"
      ]
    },
    {
      "cell_type": "markdown",
      "metadata": {
        "id": "JWrKoVxq-0xS"
      },
      "source": [
        "* sp데이터를 bitcoin을 index로 다시 reindex를 해주고, method를 ffill로 해줘서 row word에 있는 걸로 missing을 채워 넣는 방법을 사용해준다. \n",
        "근데 아래 table에서 2017-01-01과 2017-01-02는 앞에 데이터가 없기 때문에 ffill을 사용했을 때, 데이터의 값이 채워지지 않는 것을 볼 수 있다."
      ]
    },
    {
      "cell_type": "code",
      "metadata": {
        "id": "53XeY3apjI6x",
        "outputId": "272c61b3-6971-489a-f1ef-df9b57ecc4d0",
        "colab": {
          "base_uri": "https://localhost:8080/",
          "height": 388
        }
      },
      "source": [
        "sp.reindex(bitcoin.index, method='ffill').head(10)\\\n",
        "    .assign(day_of_week=lambda x: x.index.day_name())"
      ],
      "execution_count": 42,
      "outputs": [
        {
          "output_type": "execute_result",
          "data": {
            "text/html": [
              "<div>\n",
              "<style scoped>\n",
              "    .dataframe tbody tr th:only-of-type {\n",
              "        vertical-align: middle;\n",
              "    }\n",
              "\n",
              "    .dataframe tbody tr th {\n",
              "        vertical-align: top;\n",
              "    }\n",
              "\n",
              "    .dataframe thead th {\n",
              "        text-align: right;\n",
              "    }\n",
              "</style>\n",
              "<table border=\"1\" class=\"dataframe\">\n",
              "  <thead>\n",
              "    <tr style=\"text-align: right;\">\n",
              "      <th></th>\n",
              "      <th>high</th>\n",
              "      <th>low</th>\n",
              "      <th>open</th>\n",
              "      <th>close</th>\n",
              "      <th>volume</th>\n",
              "      <th>day_of_week</th>\n",
              "    </tr>\n",
              "    <tr>\n",
              "      <th>date</th>\n",
              "      <th></th>\n",
              "      <th></th>\n",
              "      <th></th>\n",
              "      <th></th>\n",
              "      <th></th>\n",
              "      <th></th>\n",
              "    </tr>\n",
              "  </thead>\n",
              "  <tbody>\n",
              "    <tr>\n",
              "      <th>2017-01-01</th>\n",
              "      <td>NaN</td>\n",
              "      <td>NaN</td>\n",
              "      <td>NaN</td>\n",
              "      <td>NaN</td>\n",
              "      <td>NaN</td>\n",
              "      <td>Sunday</td>\n",
              "    </tr>\n",
              "    <tr>\n",
              "      <th>2017-01-02</th>\n",
              "      <td>NaN</td>\n",
              "      <td>NaN</td>\n",
              "      <td>NaN</td>\n",
              "      <td>NaN</td>\n",
              "      <td>NaN</td>\n",
              "      <td>Monday</td>\n",
              "    </tr>\n",
              "    <tr>\n",
              "      <th>2017-01-03</th>\n",
              "      <td>2263.879883</td>\n",
              "      <td>2245.129883</td>\n",
              "      <td>2251.570068</td>\n",
              "      <td>2257.830078</td>\n",
              "      <td>3.770530e+09</td>\n",
              "      <td>Tuesday</td>\n",
              "    </tr>\n",
              "    <tr>\n",
              "      <th>2017-01-04</th>\n",
              "      <td>2272.820068</td>\n",
              "      <td>2261.600098</td>\n",
              "      <td>2261.600098</td>\n",
              "      <td>2270.750000</td>\n",
              "      <td>3.764890e+09</td>\n",
              "      <td>Wednesday</td>\n",
              "    </tr>\n",
              "    <tr>\n",
              "      <th>2017-01-05</th>\n",
              "      <td>2271.500000</td>\n",
              "      <td>2260.449951</td>\n",
              "      <td>2268.179932</td>\n",
              "      <td>2269.000000</td>\n",
              "      <td>3.761820e+09</td>\n",
              "      <td>Thursday</td>\n",
              "    </tr>\n",
              "    <tr>\n",
              "      <th>2017-01-06</th>\n",
              "      <td>2282.100098</td>\n",
              "      <td>2264.060059</td>\n",
              "      <td>2271.139893</td>\n",
              "      <td>2276.979980</td>\n",
              "      <td>3.339890e+09</td>\n",
              "      <td>Friday</td>\n",
              "    </tr>\n",
              "    <tr>\n",
              "      <th>2017-01-07</th>\n",
              "      <td>2282.100098</td>\n",
              "      <td>2264.060059</td>\n",
              "      <td>2271.139893</td>\n",
              "      <td>2276.979980</td>\n",
              "      <td>3.339890e+09</td>\n",
              "      <td>Saturday</td>\n",
              "    </tr>\n",
              "    <tr>\n",
              "      <th>2017-01-08</th>\n",
              "      <td>2282.100098</td>\n",
              "      <td>2264.060059</td>\n",
              "      <td>2271.139893</td>\n",
              "      <td>2276.979980</td>\n",
              "      <td>3.339890e+09</td>\n",
              "      <td>Sunday</td>\n",
              "    </tr>\n",
              "    <tr>\n",
              "      <th>2017-01-09</th>\n",
              "      <td>2275.489990</td>\n",
              "      <td>2268.899902</td>\n",
              "      <td>2273.590088</td>\n",
              "      <td>2268.899902</td>\n",
              "      <td>3.217610e+09</td>\n",
              "      <td>Monday</td>\n",
              "    </tr>\n",
              "    <tr>\n",
              "      <th>2017-01-10</th>\n",
              "      <td>2279.270020</td>\n",
              "      <td>2265.270020</td>\n",
              "      <td>2269.719971</td>\n",
              "      <td>2268.899902</td>\n",
              "      <td>3.638790e+09</td>\n",
              "      <td>Tuesday</td>\n",
              "    </tr>\n",
              "  </tbody>\n",
              "</table>\n",
              "</div>"
            ],
            "text/plain": [
              "                   high          low  ...        volume  day_of_week\n",
              "date                                  ...                           \n",
              "2017-01-01          NaN          NaN  ...           NaN       Sunday\n",
              "2017-01-02          NaN          NaN  ...           NaN       Monday\n",
              "2017-01-03  2263.879883  2245.129883  ...  3.770530e+09      Tuesday\n",
              "2017-01-04  2272.820068  2261.600098  ...  3.764890e+09    Wednesday\n",
              "2017-01-05  2271.500000  2260.449951  ...  3.761820e+09     Thursday\n",
              "2017-01-06  2282.100098  2264.060059  ...  3.339890e+09       Friday\n",
              "2017-01-07  2282.100098  2264.060059  ...  3.339890e+09     Saturday\n",
              "2017-01-08  2282.100098  2264.060059  ...  3.339890e+09       Sunday\n",
              "2017-01-09  2275.489990  2268.899902  ...  3.217610e+09       Monday\n",
              "2017-01-10  2279.270020  2265.270020  ...  3.638790e+09      Tuesday\n",
              "\n",
              "[10 rows x 6 columns]"
            ]
          },
          "metadata": {},
          "execution_count": 42
        }
      ]
    },
    {
      "cell_type": "markdown",
      "metadata": {
        "id": "7MxQHEBmjI6x"
      },
      "source": [
        "To isolate the changes happening with the forward-filling, we can use the `compare()` method. It shows us the values that differ across identically-labeled dataframes (same names and same columns). Here, we can see that only weekends and holidays (Monday, January 16, 2017 was MLK day) have values forward-filled. Notice that consecutive days have the same values."
      ]
    },
    {
      "cell_type": "markdown",
      "metadata": {
        "id": "aEPK7v0Q_ejC"
      },
      "source": [
        "* saturday와 같은 경우는 데이터가 이전의 데이터로 채워 졌는데, volume과 같은 경우는 0이 되는게 말이 되고 나머지 값과 같은 것들은 이전의 데이터를 그대로 가지고 오는게 아니라 최종가를 가지고 오는 방법을 사요해주는게 말이 된다고 하심. "
      ]
    },
    {
      "cell_type": "code",
      "metadata": {
        "id": "c0BrY_B1jI6x",
        "colab": {
          "base_uri": "https://localhost:8080/",
          "height": 606
        },
        "outputId": "7d9936af-03df-452e-e11e-869d4bc74679"
      },
      "source": [
        "sp.reindex(bitcoin.index)\\\n",
        "    .compare(sp.reindex(bitcoin.index, method='ffill'))\\\n",
        "    .head(10).assign(day_of_week=lambda x: x.index.day_name())"
      ],
      "execution_count": 43,
      "outputs": [
        {
          "output_type": "execute_result",
          "data": {
            "text/html": [
              "<div>\n",
              "<style scoped>\n",
              "    .dataframe tbody tr th:only-of-type {\n",
              "        vertical-align: middle;\n",
              "    }\n",
              "\n",
              "    .dataframe tbody tr th {\n",
              "        vertical-align: top;\n",
              "    }\n",
              "\n",
              "    .dataframe thead tr th {\n",
              "        text-align: left;\n",
              "    }\n",
              "\n",
              "    .dataframe thead tr:last-of-type th {\n",
              "        text-align: right;\n",
              "    }\n",
              "</style>\n",
              "<table border=\"1\" class=\"dataframe\">\n",
              "  <thead>\n",
              "    <tr>\n",
              "      <th></th>\n",
              "      <th colspan=\"2\" halign=\"left\">high</th>\n",
              "      <th colspan=\"2\" halign=\"left\">low</th>\n",
              "      <th colspan=\"2\" halign=\"left\">open</th>\n",
              "      <th colspan=\"2\" halign=\"left\">close</th>\n",
              "      <th colspan=\"2\" halign=\"left\">volume</th>\n",
              "      <th>day_of_week</th>\n",
              "    </tr>\n",
              "    <tr>\n",
              "      <th></th>\n",
              "      <th>self</th>\n",
              "      <th>other</th>\n",
              "      <th>self</th>\n",
              "      <th>other</th>\n",
              "      <th>self</th>\n",
              "      <th>other</th>\n",
              "      <th>self</th>\n",
              "      <th>other</th>\n",
              "      <th>self</th>\n",
              "      <th>other</th>\n",
              "      <th></th>\n",
              "    </tr>\n",
              "    <tr>\n",
              "      <th>date</th>\n",
              "      <th></th>\n",
              "      <th></th>\n",
              "      <th></th>\n",
              "      <th></th>\n",
              "      <th></th>\n",
              "      <th></th>\n",
              "      <th></th>\n",
              "      <th></th>\n",
              "      <th></th>\n",
              "      <th></th>\n",
              "      <th></th>\n",
              "    </tr>\n",
              "  </thead>\n",
              "  <tbody>\n",
              "    <tr>\n",
              "      <th>2017-01-07</th>\n",
              "      <td>NaN</td>\n",
              "      <td>2282.100098</td>\n",
              "      <td>NaN</td>\n",
              "      <td>2264.060059</td>\n",
              "      <td>NaN</td>\n",
              "      <td>2271.139893</td>\n",
              "      <td>NaN</td>\n",
              "      <td>2276.979980</td>\n",
              "      <td>NaN</td>\n",
              "      <td>3.339890e+09</td>\n",
              "      <td>Saturday</td>\n",
              "    </tr>\n",
              "    <tr>\n",
              "      <th>2017-01-08</th>\n",
              "      <td>NaN</td>\n",
              "      <td>2282.100098</td>\n",
              "      <td>NaN</td>\n",
              "      <td>2264.060059</td>\n",
              "      <td>NaN</td>\n",
              "      <td>2271.139893</td>\n",
              "      <td>NaN</td>\n",
              "      <td>2276.979980</td>\n",
              "      <td>NaN</td>\n",
              "      <td>3.339890e+09</td>\n",
              "      <td>Sunday</td>\n",
              "    </tr>\n",
              "    <tr>\n",
              "      <th>2017-01-14</th>\n",
              "      <td>NaN</td>\n",
              "      <td>2278.679932</td>\n",
              "      <td>NaN</td>\n",
              "      <td>2271.510010</td>\n",
              "      <td>NaN</td>\n",
              "      <td>2272.739990</td>\n",
              "      <td>NaN</td>\n",
              "      <td>2274.639893</td>\n",
              "      <td>NaN</td>\n",
              "      <td>3.081270e+09</td>\n",
              "      <td>Saturday</td>\n",
              "    </tr>\n",
              "    <tr>\n",
              "      <th>2017-01-15</th>\n",
              "      <td>NaN</td>\n",
              "      <td>2278.679932</td>\n",
              "      <td>NaN</td>\n",
              "      <td>2271.510010</td>\n",
              "      <td>NaN</td>\n",
              "      <td>2272.739990</td>\n",
              "      <td>NaN</td>\n",
              "      <td>2274.639893</td>\n",
              "      <td>NaN</td>\n",
              "      <td>3.081270e+09</td>\n",
              "      <td>Sunday</td>\n",
              "    </tr>\n",
              "    <tr>\n",
              "      <th>2017-01-16</th>\n",
              "      <td>NaN</td>\n",
              "      <td>2278.679932</td>\n",
              "      <td>NaN</td>\n",
              "      <td>2271.510010</td>\n",
              "      <td>NaN</td>\n",
              "      <td>2272.739990</td>\n",
              "      <td>NaN</td>\n",
              "      <td>2274.639893</td>\n",
              "      <td>NaN</td>\n",
              "      <td>3.081270e+09</td>\n",
              "      <td>Monday</td>\n",
              "    </tr>\n",
              "    <tr>\n",
              "      <th>2017-01-21</th>\n",
              "      <td>NaN</td>\n",
              "      <td>2276.959961</td>\n",
              "      <td>NaN</td>\n",
              "      <td>2265.010010</td>\n",
              "      <td>NaN</td>\n",
              "      <td>2269.959961</td>\n",
              "      <td>NaN</td>\n",
              "      <td>2271.310059</td>\n",
              "      <td>NaN</td>\n",
              "      <td>3.524970e+09</td>\n",
              "      <td>Saturday</td>\n",
              "    </tr>\n",
              "    <tr>\n",
              "      <th>2017-01-22</th>\n",
              "      <td>NaN</td>\n",
              "      <td>2276.959961</td>\n",
              "      <td>NaN</td>\n",
              "      <td>2265.010010</td>\n",
              "      <td>NaN</td>\n",
              "      <td>2269.959961</td>\n",
              "      <td>NaN</td>\n",
              "      <td>2271.310059</td>\n",
              "      <td>NaN</td>\n",
              "      <td>3.524970e+09</td>\n",
              "      <td>Sunday</td>\n",
              "    </tr>\n",
              "    <tr>\n",
              "      <th>2017-01-28</th>\n",
              "      <td>NaN</td>\n",
              "      <td>2299.020020</td>\n",
              "      <td>NaN</td>\n",
              "      <td>2291.620117</td>\n",
              "      <td>NaN</td>\n",
              "      <td>2299.020020</td>\n",
              "      <td>NaN</td>\n",
              "      <td>2294.689941</td>\n",
              "      <td>NaN</td>\n",
              "      <td>3.135890e+09</td>\n",
              "      <td>Saturday</td>\n",
              "    </tr>\n",
              "    <tr>\n",
              "      <th>2017-01-29</th>\n",
              "      <td>NaN</td>\n",
              "      <td>2299.020020</td>\n",
              "      <td>NaN</td>\n",
              "      <td>2291.620117</td>\n",
              "      <td>NaN</td>\n",
              "      <td>2299.020020</td>\n",
              "      <td>NaN</td>\n",
              "      <td>2294.689941</td>\n",
              "      <td>NaN</td>\n",
              "      <td>3.135890e+09</td>\n",
              "      <td>Sunday</td>\n",
              "    </tr>\n",
              "    <tr>\n",
              "      <th>2017-02-04</th>\n",
              "      <td>NaN</td>\n",
              "      <td>2298.310059</td>\n",
              "      <td>NaN</td>\n",
              "      <td>2287.879883</td>\n",
              "      <td>NaN</td>\n",
              "      <td>2288.540039</td>\n",
              "      <td>NaN</td>\n",
              "      <td>2297.419922</td>\n",
              "      <td>NaN</td>\n",
              "      <td>3.597970e+09</td>\n",
              "      <td>Saturday</td>\n",
              "    </tr>\n",
              "  </tbody>\n",
              "</table>\n",
              "</div>"
            ],
            "text/plain": [
              "           high               low  ... volume               day_of_week\n",
              "           self        other self  ...   self         other            \n",
              "date                               ...                                 \n",
              "2017-01-07  NaN  2282.100098  NaN  ...    NaN  3.339890e+09    Saturday\n",
              "2017-01-08  NaN  2282.100098  NaN  ...    NaN  3.339890e+09      Sunday\n",
              "2017-01-14  NaN  2278.679932  NaN  ...    NaN  3.081270e+09    Saturday\n",
              "2017-01-15  NaN  2278.679932  NaN  ...    NaN  3.081270e+09      Sunday\n",
              "2017-01-16  NaN  2278.679932  NaN  ...    NaN  3.081270e+09      Monday\n",
              "2017-01-21  NaN  2276.959961  NaN  ...    NaN  3.524970e+09    Saturday\n",
              "2017-01-22  NaN  2276.959961  NaN  ...    NaN  3.524970e+09      Sunday\n",
              "2017-01-28  NaN  2299.020020  NaN  ...    NaN  3.135890e+09    Saturday\n",
              "2017-01-29  NaN  2299.020020  NaN  ...    NaN  3.135890e+09      Sunday\n",
              "2017-02-04  NaN  2298.310059  NaN  ...    NaN  3.597970e+09    Saturday\n",
              "\n",
              "[10 rows x 11 columns]"
            ]
          },
          "metadata": {},
          "execution_count": 43
        }
      ]
    },
    {
      "cell_type": "markdown",
      "metadata": {
        "id": "nVRRWvS7jI6y"
      },
      "source": [
        "This isn't perfect though. We probably want 0 for the volume traded and to put the closing price for the open, high, low, and close on the days the market is closed:"
      ]
    },
    {
      "cell_type": "markdown",
      "metadata": {
        "id": "dUgkPA7__wJ6"
      },
      "source": [
        "* 그래서 아래의 코드에서 최종가로 값을 채워 넣는것을 볼 수 있다."
      ]
    },
    {
      "cell_type": "code",
      "metadata": {
        "id": "1-xqwJpgjI6y",
        "colab": {
          "base_uri": "https://localhost:8080/",
          "height": 388
        },
        "outputId": "a3bf4103-022d-4402-e97e-940f6470a23c"
      },
      "source": [
        "import numpy as np\n",
        "\n",
        "sp_reindexed = sp.reindex(bitcoin.index).assign(\n",
        "    volume=lambda x: x.volume.fillna(0), # put 0 when market is closed\n",
        "    close=lambda x: x.close.fillna(method='ffill'), # carry this forward\n",
        "    # take the closing price if these aren't available\n",
        "    open=lambda x: np.where(x.open.isnull(), x.close, x.open),\n",
        "    high=lambda x: np.where(x.high.isnull(), x.close, x.high),\n",
        "    low=lambda x: np.where(x.low.isnull(), x.close, x.low)\n",
        ")\n",
        "sp_reindexed.head(10).assign(\n",
        "    day_of_week=lambda x: x.index.day_name()\n",
        ")"
      ],
      "execution_count": 44,
      "outputs": [
        {
          "output_type": "execute_result",
          "data": {
            "text/html": [
              "<div>\n",
              "<style scoped>\n",
              "    .dataframe tbody tr th:only-of-type {\n",
              "        vertical-align: middle;\n",
              "    }\n",
              "\n",
              "    .dataframe tbody tr th {\n",
              "        vertical-align: top;\n",
              "    }\n",
              "\n",
              "    .dataframe thead th {\n",
              "        text-align: right;\n",
              "    }\n",
              "</style>\n",
              "<table border=\"1\" class=\"dataframe\">\n",
              "  <thead>\n",
              "    <tr style=\"text-align: right;\">\n",
              "      <th></th>\n",
              "      <th>high</th>\n",
              "      <th>low</th>\n",
              "      <th>open</th>\n",
              "      <th>close</th>\n",
              "      <th>volume</th>\n",
              "      <th>day_of_week</th>\n",
              "    </tr>\n",
              "    <tr>\n",
              "      <th>date</th>\n",
              "      <th></th>\n",
              "      <th></th>\n",
              "      <th></th>\n",
              "      <th></th>\n",
              "      <th></th>\n",
              "      <th></th>\n",
              "    </tr>\n",
              "  </thead>\n",
              "  <tbody>\n",
              "    <tr>\n",
              "      <th>2017-01-01</th>\n",
              "      <td>NaN</td>\n",
              "      <td>NaN</td>\n",
              "      <td>NaN</td>\n",
              "      <td>NaN</td>\n",
              "      <td>0.000000e+00</td>\n",
              "      <td>Sunday</td>\n",
              "    </tr>\n",
              "    <tr>\n",
              "      <th>2017-01-02</th>\n",
              "      <td>NaN</td>\n",
              "      <td>NaN</td>\n",
              "      <td>NaN</td>\n",
              "      <td>NaN</td>\n",
              "      <td>0.000000e+00</td>\n",
              "      <td>Monday</td>\n",
              "    </tr>\n",
              "    <tr>\n",
              "      <th>2017-01-03</th>\n",
              "      <td>2263.879883</td>\n",
              "      <td>2245.129883</td>\n",
              "      <td>2251.570068</td>\n",
              "      <td>2257.830078</td>\n",
              "      <td>3.770530e+09</td>\n",
              "      <td>Tuesday</td>\n",
              "    </tr>\n",
              "    <tr>\n",
              "      <th>2017-01-04</th>\n",
              "      <td>2272.820068</td>\n",
              "      <td>2261.600098</td>\n",
              "      <td>2261.600098</td>\n",
              "      <td>2270.750000</td>\n",
              "      <td>3.764890e+09</td>\n",
              "      <td>Wednesday</td>\n",
              "    </tr>\n",
              "    <tr>\n",
              "      <th>2017-01-05</th>\n",
              "      <td>2271.500000</td>\n",
              "      <td>2260.449951</td>\n",
              "      <td>2268.179932</td>\n",
              "      <td>2269.000000</td>\n",
              "      <td>3.761820e+09</td>\n",
              "      <td>Thursday</td>\n",
              "    </tr>\n",
              "    <tr>\n",
              "      <th>2017-01-06</th>\n",
              "      <td>2282.100098</td>\n",
              "      <td>2264.060059</td>\n",
              "      <td>2271.139893</td>\n",
              "      <td>2276.979980</td>\n",
              "      <td>3.339890e+09</td>\n",
              "      <td>Friday</td>\n",
              "    </tr>\n",
              "    <tr>\n",
              "      <th>2017-01-07</th>\n",
              "      <td>2276.979980</td>\n",
              "      <td>2276.979980</td>\n",
              "      <td>2276.979980</td>\n",
              "      <td>2276.979980</td>\n",
              "      <td>0.000000e+00</td>\n",
              "      <td>Saturday</td>\n",
              "    </tr>\n",
              "    <tr>\n",
              "      <th>2017-01-08</th>\n",
              "      <td>2276.979980</td>\n",
              "      <td>2276.979980</td>\n",
              "      <td>2276.979980</td>\n",
              "      <td>2276.979980</td>\n",
              "      <td>0.000000e+00</td>\n",
              "      <td>Sunday</td>\n",
              "    </tr>\n",
              "    <tr>\n",
              "      <th>2017-01-09</th>\n",
              "      <td>2275.489990</td>\n",
              "      <td>2268.899902</td>\n",
              "      <td>2273.590088</td>\n",
              "      <td>2268.899902</td>\n",
              "      <td>3.217610e+09</td>\n",
              "      <td>Monday</td>\n",
              "    </tr>\n",
              "    <tr>\n",
              "      <th>2017-01-10</th>\n",
              "      <td>2279.270020</td>\n",
              "      <td>2265.270020</td>\n",
              "      <td>2269.719971</td>\n",
              "      <td>2268.899902</td>\n",
              "      <td>3.638790e+09</td>\n",
              "      <td>Tuesday</td>\n",
              "    </tr>\n",
              "  </tbody>\n",
              "</table>\n",
              "</div>"
            ],
            "text/plain": [
              "                   high          low  ...        volume  day_of_week\n",
              "date                                  ...                           \n",
              "2017-01-01          NaN          NaN  ...  0.000000e+00       Sunday\n",
              "2017-01-02          NaN          NaN  ...  0.000000e+00       Monday\n",
              "2017-01-03  2263.879883  2245.129883  ...  3.770530e+09      Tuesday\n",
              "2017-01-04  2272.820068  2261.600098  ...  3.764890e+09    Wednesday\n",
              "2017-01-05  2271.500000  2260.449951  ...  3.761820e+09     Thursday\n",
              "2017-01-06  2282.100098  2264.060059  ...  3.339890e+09       Friday\n",
              "2017-01-07  2276.979980  2276.979980  ...  0.000000e+00     Saturday\n",
              "2017-01-08  2276.979980  2276.979980  ...  0.000000e+00       Sunday\n",
              "2017-01-09  2275.489990  2268.899902  ...  3.217610e+09       Monday\n",
              "2017-01-10  2279.270020  2265.270020  ...  3.638790e+09      Tuesday\n",
              "\n",
              "[10 rows x 6 columns]"
            ]
          },
          "metadata": {},
          "execution_count": 44
        }
      ]
    },
    {
      "cell_type": "markdown",
      "metadata": {
        "id": "-TFXfZLu_7j0"
      },
      "source": [
        "* 그래서 sunday와 saturday의 값이 채워진 것을 볼 수 있다."
      ]
    },
    {
      "cell_type": "markdown",
      "metadata": {
        "id": "Ly9h5YCUjI6y"
      },
      "source": [
        "If we create a visualization comparing the reindexed data to the first attempt, we see how reindexing helped maintain the asset value when the market was closed:"
      ]
    },
    {
      "cell_type": "markdown",
      "metadata": {
        "id": "4iNMhhqj__xO"
      },
      "source": [
        "* 수정을 한다음에 그림을 다시한번 살펴본다."
      ]
    },
    {
      "cell_type": "code",
      "metadata": {
        "id": "ntq7FcirjI6y",
        "colab": {
          "base_uri": "https://localhost:8080/",
          "height": 333
        },
        "outputId": "9f1993b9-92cb-42ae-a237-34bc53f54b0a"
      },
      "source": [
        "# every day's closing price = S&P 500 close adjusted for market closure + Bitcoin close (same for other metrics)\n",
        "fixed_portfolio = sp_reindexed + bitcoin\n",
        "\n",
        "# plot the reindexed portfolio's closing price from Q4 2017 through Q2 2018\n",
        "ax = fixed_portfolio['2017-Q4':'2018-Q2'].plot(\n",
        "    y='close', label='reindexed portfolio of S&P 500 + Bitcoin', figsize=(15, 5), linewidth=2, \n",
        "    title='Reindexed portfolio vs. portfolio with mismatched indices'\n",
        ")\n",
        "\n",
        "# add line for original portfolio for comparison\n",
        "portfolio['2017-Q4':'2018-Q2'].plot(\n",
        "    y='close', ax=ax, linestyle='--', label='portfolio of S&P 500 + Bitcoin w/o reindexing'\n",
        ")\n",
        "\n",
        "# formatting\n",
        "ax.set_ylabel('price')\n",
        "ax.yaxis.set_major_formatter(StrMethodFormatter('${x:,.0f}'))\n",
        "for spine in ['top', 'right']:\n",
        "    ax.spines[spine].set_visible(False)\n",
        "\n",
        "# show the plot\n",
        "plt.show()"
      ],
      "execution_count": 45,
      "outputs": [
        {
          "output_type": "display_data",
          "data": {
            "image/png": "[encoded data removed]",
            "text/plain": [
              "<Figure size 1080x360 with 1 Axes>"
            ]
          },
          "metadata": {
            "needs_background": "light"
          }
        }
      ]
    },
    {
      "cell_type": "markdown",
      "metadata": {
        "id": "xkwM2EuiAE7s"
      },
      "source": [
        "* 처리를 해주지 않는 것은 주황색으로 해서 down이 되는 것을 볼 수 있었는데, 수정한 것을 down이 일어나지 않는 것을 볼 수 있다. "
      ]
    },
    {
      "cell_type": "markdown",
      "metadata": {
        "id": "zlnNHM6IjI6y"
      },
      "source": [
        "<hr>\n",
        "<div>\n",
        "    <a href=\"./2-using_the_weather_api.ipynb\">\n",
        "        <button>&#8592; Previous Notebook</button>\n",
        "    </a>\n",
        "    <a href=\"./4-reshaping_data.ipynb\">\n",
        "        <button style=\"float: right;\">Next Notebook &#8594;</button>\n",
        "    </a>\n",
        "</div>\n",
        "<hr>"
      ]
    }
  ]
}
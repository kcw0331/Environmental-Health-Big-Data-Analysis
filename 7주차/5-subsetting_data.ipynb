{
  "nbformat": 4,
  "nbformat_minor": 0,
  "metadata": {
    "kernelspec": {
      "display_name": "Python 3",
      "language": "python",
      "name": "python3"
    },
    "language_info": {
      "codemirror_mode": {
        "name": "ipython",
        "version": 3
      },
      "file_extension": ".py",
      "mimetype": "text/x-python",
      "name": "python",
      "nbconvert_exporter": "python",
      "pygments_lexer": "ipython3",
      "version": "3.7.3"
    },
    "colab": {
      "name": "5-subsetting_data.ipynb",
      "provenance": [],
      "include_colab_link": true
    }
  },
  "cells": [
    {
      "cell_type": "markdown",
      "metadata": {
        "id": "view-in-github",
        "colab_type": "text"
      },
      "source": [
        "<a href=\"https://colab.research.google.com/github/kcw0331/Environmental-Health-Big-Data-Analysis/blob/main/7%EC%A3%BC%EC%B0%A8/5-subsetting_data.ipynb\" target=\"_parent\"><img src=\"https://colab.research.google.com/assets/colab-badge.svg\" alt=\"Open In Colab\"/></a>"
      ]
    },
    {
      "cell_type": "markdown",
      "metadata": {
        "id": "0rsIT8Lf5TPJ"
      },
      "source": [
        "# Subsetting the data\n",
        "\n",
        "## About the Data\n",
        "In this notebook, we will be working with earthquake data from September 18, 2018 - October 13, 2018 (obtained from the US Geological Survey (USGS) using the [USGS API](https://earthquake.usgs.gov/fdsnws/event/1/))\n",
        "\n",
        "## Setup\n",
        "We will be working with the `data/earthquakes.csv` file again, so we need to handle our imports and read it in."
      ]
    },
    {
      "cell_type": "code",
      "metadata": {
        "id": "sPOU5Jux5Xwh",
        "colab": {
          "base_uri": "https://localhost:8080/"
        },
        "outputId": "4e988ac7-b94e-433e-fc71-7771a0c0a766"
      },
      "source": [
        "from google.colab import drive\n",
        "drive.mount('/content/drive')"
      ],
      "execution_count": 1,
      "outputs": [
        {
          "output_type": "stream",
          "name": "stdout",
          "text": [
            "Mounted at /content/drive\n"
          ]
        }
      ]
    },
    {
      "cell_type": "code",
      "metadata": {
        "id": "G-MfsYzA5hHy",
        "colab": {
          "base_uri": "https://localhost:8080/"
        },
        "outputId": "addaf010-9dcb-41d6-bf28-ffabc256659f"
      },
      "source": [
        "cd /content/drive/MyDrive/Hands-On-Data-Analysis-with-Pandas-2nd-edition/ch_02/"
      ],
      "execution_count": 2,
      "outputs": [
        {
          "output_type": "stream",
          "name": "stdout",
          "text": [
            "/content/drive/MyDrive/Hands-On-Data-Analysis-with-Pandas-2nd-edition/ch_02\n"
          ]
        }
      ]
    },
    {
      "cell_type": "code",
      "metadata": {
        "id": "PZfad9yh5TPS"
      },
      "source": [
        "import pandas as pd\n",
        "\n",
        "df = pd.read_csv('data/earthquakes.csv')"
      ],
      "execution_count": 3,
      "outputs": []
    },
    {
      "cell_type": "markdown",
      "metadata": {
        "id": "kZRoKzBc506y"
      },
      "source": [
        "* earthquakes 데이터를 불러와 준다."
      ]
    },
    {
      "cell_type": "markdown",
      "metadata": {
        "id": "vg1kM8ik5TPV"
      },
      "source": [
        "## Selecting columns\n",
        "Grab an entire column using attribute notation:"
      ]
    },
    {
      "cell_type": "markdown",
      "metadata": {
        "id": "7076rN3o5-KA"
      },
      "source": [
        "* column을 선택해 줄 때, 아래와 같이 두가지 방법으로 column을 선택해줄 수 있다.\n",
        "* 그래서 선택된 결과는 series형식으로 되는 것을 볼 수 있다."
      ]
    },
    {
      "cell_type": "code",
      "metadata": {
        "id": "GTdDHJyx5TPW",
        "colab": {
          "base_uri": "https://localhost:8080/"
        },
        "outputId": "cdb82935-8981-4e43-ebf3-42f7758b88a5"
      },
      "source": [
        "df.mag"
      ],
      "execution_count": 4,
      "outputs": [
        {
          "output_type": "execute_result",
          "data": {
            "text/plain": [
              "0       1.35\n",
              "1       1.29\n",
              "2       3.42\n",
              "3       0.44\n",
              "4       2.16\n",
              "        ... \n",
              "9327    0.62\n",
              "9328    1.00\n",
              "9329    2.40\n",
              "9330    1.10\n",
              "9331    0.66\n",
              "Name: mag, Length: 9332, dtype: float64"
            ]
          },
          "metadata": {},
          "execution_count": 4
        }
      ]
    },
    {
      "cell_type": "markdown",
      "metadata": {
        "id": "reG9hMW05TPY"
      },
      "source": [
        "Grab an entire column using dictionary syntax:"
      ]
    },
    {
      "cell_type": "code",
      "metadata": {
        "id": "AMghcwtk5TPZ",
        "colab": {
          "base_uri": "https://localhost:8080/"
        },
        "outputId": "77ff117a-7533-4636-f55b-7f307945dac8"
      },
      "source": [
        "df['mag']"
      ],
      "execution_count": 5,
      "outputs": [
        {
          "output_type": "execute_result",
          "data": {
            "text/plain": [
              "0       1.35\n",
              "1       1.29\n",
              "2       3.42\n",
              "3       0.44\n",
              "4       2.16\n",
              "        ... \n",
              "9327    0.62\n",
              "9328    1.00\n",
              "9329    2.40\n",
              "9330    1.10\n",
              "9331    0.66\n",
              "Name: mag, Length: 9332, dtype: float64"
            ]
          },
          "metadata": {},
          "execution_count": 5
        }
      ]
    },
    {
      "cell_type": "markdown",
      "metadata": {
        "id": "sI6MxiZ25TPb"
      },
      "source": [
        "Selecting multiple columns:"
      ]
    },
    {
      "cell_type": "markdown",
      "metadata": {
        "id": "X9dI4Cy66X9m"
      },
      "source": [
        "* multiple columns로 하게 되면, data frame형식으로 되는 것을 볼 수 있다."
      ]
    },
    {
      "cell_type": "code",
      "metadata": {
        "id": "TbDwwrNQ5TPc",
        "colab": {
          "base_uri": "https://localhost:8080/",
          "height": 414
        },
        "outputId": "854e1cd4-875e-411a-fe02-6e6041a0c6f9"
      },
      "source": [
        "df[['mag', 'title']]"
      ],
      "execution_count": 6,
      "outputs": [
        {
          "output_type": "execute_result",
          "data": {
            "text/html": [
              "<div>\n",
              "<style scoped>\n",
              "    .dataframe tbody tr th:only-of-type {\n",
              "        vertical-align: middle;\n",
              "    }\n",
              "\n",
              "    .dataframe tbody tr th {\n",
              "        vertical-align: top;\n",
              "    }\n",
              "\n",
              "    .dataframe thead th {\n",
              "        text-align: right;\n",
              "    }\n",
              "</style>\n",
              "<table border=\"1\" class=\"dataframe\">\n",
              "  <thead>\n",
              "    <tr style=\"text-align: right;\">\n",
              "      <th></th>\n",
              "      <th>mag</th>\n",
              "      <th>title</th>\n",
              "    </tr>\n",
              "  </thead>\n",
              "  <tbody>\n",
              "    <tr>\n",
              "      <th>0</th>\n",
              "      <td>1.35</td>\n",
              "      <td>M 1.4 - 9km NE of Aguanga, CA</td>\n",
              "    </tr>\n",
              "    <tr>\n",
              "      <th>1</th>\n",
              "      <td>1.29</td>\n",
              "      <td>M 1.3 - 9km NE of Aguanga, CA</td>\n",
              "    </tr>\n",
              "    <tr>\n",
              "      <th>2</th>\n",
              "      <td>3.42</td>\n",
              "      <td>M 3.4 - 8km NE of Aguanga, CA</td>\n",
              "    </tr>\n",
              "    <tr>\n",
              "      <th>3</th>\n",
              "      <td>0.44</td>\n",
              "      <td>M 0.4 - 9km NE of Aguanga, CA</td>\n",
              "    </tr>\n",
              "    <tr>\n",
              "      <th>4</th>\n",
              "      <td>2.16</td>\n",
              "      <td>M 2.2 - 10km NW of Avenal, CA</td>\n",
              "    </tr>\n",
              "    <tr>\n",
              "      <th>...</th>\n",
              "      <td>...</td>\n",
              "      <td>...</td>\n",
              "    </tr>\n",
              "    <tr>\n",
              "      <th>9327</th>\n",
              "      <td>0.62</td>\n",
              "      <td>M 0.6 - 9km ENE of Mammoth Lakes, CA</td>\n",
              "    </tr>\n",
              "    <tr>\n",
              "      <th>9328</th>\n",
              "      <td>1.00</td>\n",
              "      <td>M 1.0 - 3km W of Julian, CA</td>\n",
              "    </tr>\n",
              "    <tr>\n",
              "      <th>9329</th>\n",
              "      <td>2.40</td>\n",
              "      <td>M 2.4 - 35km NNE of Hatillo, Puerto Rico</td>\n",
              "    </tr>\n",
              "    <tr>\n",
              "      <th>9330</th>\n",
              "      <td>1.10</td>\n",
              "      <td>M 1.1 - 9km NE of Aguanga, CA</td>\n",
              "    </tr>\n",
              "    <tr>\n",
              "      <th>9331</th>\n",
              "      <td>0.66</td>\n",
              "      <td>M 0.7 - 9km NE of Aguanga, CA</td>\n",
              "    </tr>\n",
              "  </tbody>\n",
              "</table>\n",
              "<p>9332 rows × 2 columns</p>\n",
              "</div>"
            ],
            "text/plain": [
              "       mag                                     title\n",
              "0     1.35             M 1.4 - 9km NE of Aguanga, CA\n",
              "1     1.29             M 1.3 - 9km NE of Aguanga, CA\n",
              "2     3.42             M 3.4 - 8km NE of Aguanga, CA\n",
              "3     0.44             M 0.4 - 9km NE of Aguanga, CA\n",
              "4     2.16             M 2.2 - 10km NW of Avenal, CA\n",
              "...    ...                                       ...\n",
              "9327  0.62      M 0.6 - 9km ENE of Mammoth Lakes, CA\n",
              "9328  1.00               M 1.0 - 3km W of Julian, CA\n",
              "9329  2.40  M 2.4 - 35km NNE of Hatillo, Puerto Rico\n",
              "9330  1.10             M 1.1 - 9km NE of Aguanga, CA\n",
              "9331  0.66             M 0.7 - 9km NE of Aguanga, CA\n",
              "\n",
              "[9332 rows x 2 columns]"
            ]
          },
          "metadata": {},
          "execution_count": 6
        }
      ]
    },
    {
      "cell_type": "markdown",
      "metadata": {
        "id": "r7IY_nrw5TPe"
      },
      "source": [
        "Selecting columns using list comprehensions and string operations:"
      ]
    },
    {
      "cell_type": "code",
      "metadata": {
        "id": "2_NvISV56kNO",
        "outputId": "a8599ee1-9b3c-46e9-b50a-b0722aac6847",
        "colab": {
          "base_uri": "https://localhost:8080/"
        }
      },
      "source": [
        "df.columns"
      ],
      "execution_count": 7,
      "outputs": [
        {
          "output_type": "execute_result",
          "data": {
            "text/plain": [
              "Index(['alert', 'cdi', 'code', 'detail', 'dmin', 'felt', 'gap', 'ids', 'mag',\n",
              "       'magType', 'mmi', 'net', 'nst', 'place', 'rms', 'sig', 'sources',\n",
              "       'status', 'time', 'title', 'tsunami', 'type', 'types', 'tz', 'updated',\n",
              "       'url'],\n",
              "      dtype='object')"
            ]
          },
          "metadata": {},
          "execution_count": 7
        }
      ]
    },
    {
      "cell_type": "code",
      "metadata": {
        "id": "BVIFL1t26ui0",
        "outputId": "7a8d3399-f6a3-4e1f-bf50-f51e99de0cee",
        "colab": {
          "base_uri": "https://localhost:8080/"
        }
      },
      "source": [
        "[col for col in df.columns if col.startswith('mag')]"
      ],
      "execution_count": 8,
      "outputs": [
        {
          "output_type": "execute_result",
          "data": {
            "text/plain": [
              "['mag', 'magType']"
            ]
          },
          "metadata": {},
          "execution_count": 8
        }
      ]
    },
    {
      "cell_type": "markdown",
      "metadata": {
        "id": "1ZoPYvNo6vt_"
      },
      "source": [
        "* columns의 mag로 시작된는 것들만 뽑아 준 것이다."
      ]
    },
    {
      "cell_type": "code",
      "metadata": {
        "id": "8Vco37OP6-8m",
        "outputId": "6ef30154-4d34-49ab-e8b2-5cf8573792d4",
        "colab": {
          "base_uri": "https://localhost:8080/"
        }
      },
      "source": [
        "['title', 'time'] + [col for col in df.columns if col.startswith('mag')]"
      ],
      "execution_count": 10,
      "outputs": [
        {
          "output_type": "execute_result",
          "data": {
            "text/plain": [
              "['title', 'time', 'mag', 'magType']"
            ]
          },
          "metadata": {},
          "execution_count": 10
        }
      ]
    },
    {
      "cell_type": "markdown",
      "metadata": {
        "id": "Wh6QGp8A7A26"
      },
      "source": [
        "* 이렇게 이어서 출력을 해주는 것을 볼 수 있다."
      ]
    },
    {
      "cell_type": "code",
      "metadata": {
        "id": "tiqbG4dS5TPg",
        "colab": {
          "base_uri": "https://localhost:8080/",
          "height": 414
        },
        "outputId": "239e3b96-fa19-4698-b7ee-a1d1dc7677d3"
      },
      "source": [
        "df[\n",
        "    ['title', 'time']\n",
        "    + [col for col in df.columns if col.startswith('mag')]\n",
        "]"
      ],
      "execution_count": 9,
      "outputs": [
        {
          "output_type": "execute_result",
          "data": {
            "text/html": [
              "<div>\n",
              "<style scoped>\n",
              "    .dataframe tbody tr th:only-of-type {\n",
              "        vertical-align: middle;\n",
              "    }\n",
              "\n",
              "    .dataframe tbody tr th {\n",
              "        vertical-align: top;\n",
              "    }\n",
              "\n",
              "    .dataframe thead th {\n",
              "        text-align: right;\n",
              "    }\n",
              "</style>\n",
              "<table border=\"1\" class=\"dataframe\">\n",
              "  <thead>\n",
              "    <tr style=\"text-align: right;\">\n",
              "      <th></th>\n",
              "      <th>title</th>\n",
              "      <th>time</th>\n",
              "      <th>mag</th>\n",
              "      <th>magType</th>\n",
              "    </tr>\n",
              "  </thead>\n",
              "  <tbody>\n",
              "    <tr>\n",
              "      <th>0</th>\n",
              "      <td>M 1.4 - 9km NE of Aguanga, CA</td>\n",
              "      <td>1539475168010</td>\n",
              "      <td>1.35</td>\n",
              "      <td>ml</td>\n",
              "    </tr>\n",
              "    <tr>\n",
              "      <th>1</th>\n",
              "      <td>M 1.3 - 9km NE of Aguanga, CA</td>\n",
              "      <td>1539475129610</td>\n",
              "      <td>1.29</td>\n",
              "      <td>ml</td>\n",
              "    </tr>\n",
              "    <tr>\n",
              "      <th>2</th>\n",
              "      <td>M 3.4 - 8km NE of Aguanga, CA</td>\n",
              "      <td>1539475062610</td>\n",
              "      <td>3.42</td>\n",
              "      <td>ml</td>\n",
              "    </tr>\n",
              "    <tr>\n",
              "      <th>3</th>\n",
              "      <td>M 0.4 - 9km NE of Aguanga, CA</td>\n",
              "      <td>1539474978070</td>\n",
              "      <td>0.44</td>\n",
              "      <td>ml</td>\n",
              "    </tr>\n",
              "    <tr>\n",
              "      <th>4</th>\n",
              "      <td>M 2.2 - 10km NW of Avenal, CA</td>\n",
              "      <td>1539474716050</td>\n",
              "      <td>2.16</td>\n",
              "      <td>md</td>\n",
              "    </tr>\n",
              "    <tr>\n",
              "      <th>...</th>\n",
              "      <td>...</td>\n",
              "      <td>...</td>\n",
              "      <td>...</td>\n",
              "      <td>...</td>\n",
              "    </tr>\n",
              "    <tr>\n",
              "      <th>9327</th>\n",
              "      <td>M 0.6 - 9km ENE of Mammoth Lakes, CA</td>\n",
              "      <td>1537230228060</td>\n",
              "      <td>0.62</td>\n",
              "      <td>md</td>\n",
              "    </tr>\n",
              "    <tr>\n",
              "      <th>9328</th>\n",
              "      <td>M 1.0 - 3km W of Julian, CA</td>\n",
              "      <td>1537230135130</td>\n",
              "      <td>1.00</td>\n",
              "      <td>ml</td>\n",
              "    </tr>\n",
              "    <tr>\n",
              "      <th>9329</th>\n",
              "      <td>M 2.4 - 35km NNE of Hatillo, Puerto Rico</td>\n",
              "      <td>1537229908180</td>\n",
              "      <td>2.40</td>\n",
              "      <td>md</td>\n",
              "    </tr>\n",
              "    <tr>\n",
              "      <th>9330</th>\n",
              "      <td>M 1.1 - 9km NE of Aguanga, CA</td>\n",
              "      <td>1537229545350</td>\n",
              "      <td>1.10</td>\n",
              "      <td>ml</td>\n",
              "    </tr>\n",
              "    <tr>\n",
              "      <th>9331</th>\n",
              "      <td>M 0.7 - 9km NE of Aguanga, CA</td>\n",
              "      <td>1537228864470</td>\n",
              "      <td>0.66</td>\n",
              "      <td>ml</td>\n",
              "    </tr>\n",
              "  </tbody>\n",
              "</table>\n",
              "<p>9332 rows × 4 columns</p>\n",
              "</div>"
            ],
            "text/plain": [
              "                                         title           time   mag magType\n",
              "0                M 1.4 - 9km NE of Aguanga, CA  1539475168010  1.35      ml\n",
              "1                M 1.3 - 9km NE of Aguanga, CA  1539475129610  1.29      ml\n",
              "2                M 3.4 - 8km NE of Aguanga, CA  1539475062610  3.42      ml\n",
              "3                M 0.4 - 9km NE of Aguanga, CA  1539474978070  0.44      ml\n",
              "4                M 2.2 - 10km NW of Avenal, CA  1539474716050  2.16      md\n",
              "...                                        ...            ...   ...     ...\n",
              "9327      M 0.6 - 9km ENE of Mammoth Lakes, CA  1537230228060  0.62      md\n",
              "9328               M 1.0 - 3km W of Julian, CA  1537230135130  1.00      ml\n",
              "9329  M 2.4 - 35km NNE of Hatillo, Puerto Rico  1537229908180  2.40      md\n",
              "9330             M 1.1 - 9km NE of Aguanga, CA  1537229545350  1.10      ml\n",
              "9331             M 0.7 - 9km NE of Aguanga, CA  1537228864470  0.66      ml\n",
              "\n",
              "[9332 rows x 4 columns]"
            ]
          },
          "metadata": {},
          "execution_count": 9
        }
      ]
    },
    {
      "cell_type": "markdown",
      "metadata": {
        "id": "sqfL-aj27EXk"
      },
      "source": [
        "* 이어준 것을 data frame형태로 만들어 준다."
      ]
    },
    {
      "cell_type": "markdown",
      "metadata": {
        "id": "fXUOi_D-5TPh"
      },
      "source": [
        "Breaking down this example:\n",
        "1. the list comprehension"
      ]
    },
    {
      "cell_type": "code",
      "metadata": {
        "id": "i1f4SU4e5TPi",
        "colab": {
          "base_uri": "https://localhost:8080/"
        },
        "outputId": "13b217e4-b09e-474e-b800-342a21d565b2"
      },
      "source": [
        "[col for col in df.columns if col.startswith('mag')]"
      ],
      "execution_count": 11,
      "outputs": [
        {
          "output_type": "execute_result",
          "data": {
            "text/plain": [
              "['mag', 'magType']"
            ]
          },
          "metadata": {},
          "execution_count": 11
        }
      ]
    },
    {
      "cell_type": "markdown",
      "metadata": {
        "id": "gjvngO6_5TPj"
      },
      "source": [
        "2. assembling the list"
      ]
    },
    {
      "cell_type": "code",
      "metadata": {
        "id": "SyqdutTy5TPj",
        "colab": {
          "base_uri": "https://localhost:8080/"
        },
        "outputId": "ff443d9d-24ff-4ae4-a5c5-474d8312b155"
      },
      "source": [
        "['title', 'time'] \\\n",
        "+ [col for col in df.columns if col.startswith('mag')]"
      ],
      "execution_count": 12,
      "outputs": [
        {
          "output_type": "execute_result",
          "data": {
            "text/plain": [
              "['title', 'time', 'mag', 'magType']"
            ]
          },
          "metadata": {},
          "execution_count": 12
        }
      ]
    },
    {
      "cell_type": "markdown",
      "metadata": {
        "id": "HWbcHnP65TPl"
      },
      "source": [
        "3. using this list as the list of columns"
      ]
    },
    {
      "cell_type": "code",
      "metadata": {
        "id": "Z5LaVpLu5TPl",
        "outputId": "d43d802a-7e3d-46d5-c00d-bd067c29f7ee",
        "colab": {
          "base_uri": "https://localhost:8080/",
          "height": 414
        }
      },
      "source": [
        "df[\n",
        "    ['title', 'time']\n",
        "    + [col for col in df.columns if col.startswith('mag')]\n",
        "]"
      ],
      "execution_count": 13,
      "outputs": [
        {
          "output_type": "execute_result",
          "data": {
            "text/html": [
              "<div>\n",
              "<style scoped>\n",
              "    .dataframe tbody tr th:only-of-type {\n",
              "        vertical-align: middle;\n",
              "    }\n",
              "\n",
              "    .dataframe tbody tr th {\n",
              "        vertical-align: top;\n",
              "    }\n",
              "\n",
              "    .dataframe thead th {\n",
              "        text-align: right;\n",
              "    }\n",
              "</style>\n",
              "<table border=\"1\" class=\"dataframe\">\n",
              "  <thead>\n",
              "    <tr style=\"text-align: right;\">\n",
              "      <th></th>\n",
              "      <th>title</th>\n",
              "      <th>time</th>\n",
              "      <th>mag</th>\n",
              "      <th>magType</th>\n",
              "    </tr>\n",
              "  </thead>\n",
              "  <tbody>\n",
              "    <tr>\n",
              "      <th>0</th>\n",
              "      <td>M 1.4 - 9km NE of Aguanga, CA</td>\n",
              "      <td>1539475168010</td>\n",
              "      <td>1.35</td>\n",
              "      <td>ml</td>\n",
              "    </tr>\n",
              "    <tr>\n",
              "      <th>1</th>\n",
              "      <td>M 1.3 - 9km NE of Aguanga, CA</td>\n",
              "      <td>1539475129610</td>\n",
              "      <td>1.29</td>\n",
              "      <td>ml</td>\n",
              "    </tr>\n",
              "    <tr>\n",
              "      <th>2</th>\n",
              "      <td>M 3.4 - 8km NE of Aguanga, CA</td>\n",
              "      <td>1539475062610</td>\n",
              "      <td>3.42</td>\n",
              "      <td>ml</td>\n",
              "    </tr>\n",
              "    <tr>\n",
              "      <th>3</th>\n",
              "      <td>M 0.4 - 9km NE of Aguanga, CA</td>\n",
              "      <td>1539474978070</td>\n",
              "      <td>0.44</td>\n",
              "      <td>ml</td>\n",
              "    </tr>\n",
              "    <tr>\n",
              "      <th>4</th>\n",
              "      <td>M 2.2 - 10km NW of Avenal, CA</td>\n",
              "      <td>1539474716050</td>\n",
              "      <td>2.16</td>\n",
              "      <td>md</td>\n",
              "    </tr>\n",
              "    <tr>\n",
              "      <th>...</th>\n",
              "      <td>...</td>\n",
              "      <td>...</td>\n",
              "      <td>...</td>\n",
              "      <td>...</td>\n",
              "    </tr>\n",
              "    <tr>\n",
              "      <th>9327</th>\n",
              "      <td>M 0.6 - 9km ENE of Mammoth Lakes, CA</td>\n",
              "      <td>1537230228060</td>\n",
              "      <td>0.62</td>\n",
              "      <td>md</td>\n",
              "    </tr>\n",
              "    <tr>\n",
              "      <th>9328</th>\n",
              "      <td>M 1.0 - 3km W of Julian, CA</td>\n",
              "      <td>1537230135130</td>\n",
              "      <td>1.00</td>\n",
              "      <td>ml</td>\n",
              "    </tr>\n",
              "    <tr>\n",
              "      <th>9329</th>\n",
              "      <td>M 2.4 - 35km NNE of Hatillo, Puerto Rico</td>\n",
              "      <td>1537229908180</td>\n",
              "      <td>2.40</td>\n",
              "      <td>md</td>\n",
              "    </tr>\n",
              "    <tr>\n",
              "      <th>9330</th>\n",
              "      <td>M 1.1 - 9km NE of Aguanga, CA</td>\n",
              "      <td>1537229545350</td>\n",
              "      <td>1.10</td>\n",
              "      <td>ml</td>\n",
              "    </tr>\n",
              "    <tr>\n",
              "      <th>9331</th>\n",
              "      <td>M 0.7 - 9km NE of Aguanga, CA</td>\n",
              "      <td>1537228864470</td>\n",
              "      <td>0.66</td>\n",
              "      <td>ml</td>\n",
              "    </tr>\n",
              "  </tbody>\n",
              "</table>\n",
              "<p>9332 rows × 4 columns</p>\n",
              "</div>"
            ],
            "text/plain": [
              "                                         title           time   mag magType\n",
              "0                M 1.4 - 9km NE of Aguanga, CA  1539475168010  1.35      ml\n",
              "1                M 1.3 - 9km NE of Aguanga, CA  1539475129610  1.29      ml\n",
              "2                M 3.4 - 8km NE of Aguanga, CA  1539475062610  3.42      ml\n",
              "3                M 0.4 - 9km NE of Aguanga, CA  1539474978070  0.44      ml\n",
              "4                M 2.2 - 10km NW of Avenal, CA  1539474716050  2.16      md\n",
              "...                                        ...            ...   ...     ...\n",
              "9327      M 0.6 - 9km ENE of Mammoth Lakes, CA  1537230228060  0.62      md\n",
              "9328               M 1.0 - 3km W of Julian, CA  1537230135130  1.00      ml\n",
              "9329  M 2.4 - 35km NNE of Hatillo, Puerto Rico  1537229908180  2.40      md\n",
              "9330             M 1.1 - 9km NE of Aguanga, CA  1537229545350  1.10      ml\n",
              "9331             M 0.7 - 9km NE of Aguanga, CA  1537228864470  0.66      ml\n",
              "\n",
              "[9332 rows x 4 columns]"
            ]
          },
          "metadata": {},
          "execution_count": 13
        }
      ]
    },
    {
      "cell_type": "markdown",
      "metadata": {
        "id": "-M9W5SgE5TPm"
      },
      "source": [
        "## Slicing\n",
        "### Selecting rows\n",
        "Using row numbers (inclusive of first index, exclusive of last):"
      ]
    },
    {
      "cell_type": "markdown",
      "metadata": {
        "id": "vCBAfYjw7SZ4"
      },
      "source": [
        "* row number를 slicing을 해서 출력을 해준다."
      ]
    },
    {
      "cell_type": "code",
      "metadata": {
        "id": "Gyu2IRau5TPn",
        "colab": {
          "base_uri": "https://localhost:8080/",
          "height": 344
        },
        "outputId": "2e07674c-0a57-40d2-cee4-b8192b04c47b"
      },
      "source": [
        "df[100:103]"
      ],
      "execution_count": 14,
      "outputs": [
        {
          "output_type": "execute_result",
          "data": {
            "text/html": [
              "<div>\n",
              "<style scoped>\n",
              "    .dataframe tbody tr th:only-of-type {\n",
              "        vertical-align: middle;\n",
              "    }\n",
              "\n",
              "    .dataframe tbody tr th {\n",
              "        vertical-align: top;\n",
              "    }\n",
              "\n",
              "    .dataframe thead th {\n",
              "        text-align: right;\n",
              "    }\n",
              "</style>\n",
              "<table border=\"1\" class=\"dataframe\">\n",
              "  <thead>\n",
              "    <tr style=\"text-align: right;\">\n",
              "      <th></th>\n",
              "      <th>alert</th>\n",
              "      <th>cdi</th>\n",
              "      <th>code</th>\n",
              "      <th>detail</th>\n",
              "      <th>dmin</th>\n",
              "      <th>felt</th>\n",
              "      <th>gap</th>\n",
              "      <th>ids</th>\n",
              "      <th>mag</th>\n",
              "      <th>magType</th>\n",
              "      <th>mmi</th>\n",
              "      <th>net</th>\n",
              "      <th>nst</th>\n",
              "      <th>place</th>\n",
              "      <th>rms</th>\n",
              "      <th>sig</th>\n",
              "      <th>sources</th>\n",
              "      <th>status</th>\n",
              "      <th>time</th>\n",
              "      <th>title</th>\n",
              "      <th>tsunami</th>\n",
              "      <th>type</th>\n",
              "      <th>types</th>\n",
              "      <th>tz</th>\n",
              "      <th>updated</th>\n",
              "      <th>url</th>\n",
              "    </tr>\n",
              "  </thead>\n",
              "  <tbody>\n",
              "    <tr>\n",
              "      <th>100</th>\n",
              "      <td>NaN</td>\n",
              "      <td>NaN</td>\n",
              "      <td>20280310</td>\n",
              "      <td>https://earthquake.usgs.gov/fdsnws/event/1/que...</td>\n",
              "      <td>NaN</td>\n",
              "      <td>NaN</td>\n",
              "      <td>NaN</td>\n",
              "      <td>,ak20280310,</td>\n",
              "      <td>1.20</td>\n",
              "      <td>ml</td>\n",
              "      <td>NaN</td>\n",
              "      <td>ak</td>\n",
              "      <td>NaN</td>\n",
              "      <td>25km NW of Ester, Alaska</td>\n",
              "      <td>0.76</td>\n",
              "      <td>22</td>\n",
              "      <td>,ak,</td>\n",
              "      <td>automatic</td>\n",
              "      <td>1539435449480</td>\n",
              "      <td>M 1.2 - 25km NW of Ester, Alaska</td>\n",
              "      <td>0</td>\n",
              "      <td>earthquake</td>\n",
              "      <td>,geoserve,origin,</td>\n",
              "      <td>-540.0</td>\n",
              "      <td>1539443551010</td>\n",
              "      <td>https://earthquake.usgs.gov/earthquakes/eventp...</td>\n",
              "    </tr>\n",
              "    <tr>\n",
              "      <th>101</th>\n",
              "      <td>NaN</td>\n",
              "      <td>NaN</td>\n",
              "      <td>73096756</td>\n",
              "      <td>https://earthquake.usgs.gov/fdsnws/event/1/que...</td>\n",
              "      <td>0.01355</td>\n",
              "      <td>NaN</td>\n",
              "      <td>185.0</td>\n",
              "      <td>,nc73096756,</td>\n",
              "      <td>0.59</td>\n",
              "      <td>md</td>\n",
              "      <td>NaN</td>\n",
              "      <td>nc</td>\n",
              "      <td>7.0</td>\n",
              "      <td>8km ESE of Mammoth Lakes, CA</td>\n",
              "      <td>0.03</td>\n",
              "      <td>5</td>\n",
              "      <td>,nc,</td>\n",
              "      <td>automatic</td>\n",
              "      <td>1539435391320</td>\n",
              "      <td>M 0.6 - 8km ESE of Mammoth Lakes, CA</td>\n",
              "      <td>0</td>\n",
              "      <td>earthquake</td>\n",
              "      <td>,geoserve,nearby-cities,origin,phase-data,scit...</td>\n",
              "      <td>-480.0</td>\n",
              "      <td>1539439802162</td>\n",
              "      <td>https://earthquake.usgs.gov/earthquakes/eventp...</td>\n",
              "    </tr>\n",
              "    <tr>\n",
              "      <th>102</th>\n",
              "      <td>NaN</td>\n",
              "      <td>NaN</td>\n",
              "      <td>37388730</td>\n",
              "      <td>https://earthquake.usgs.gov/fdsnws/event/1/que...</td>\n",
              "      <td>0.02987</td>\n",
              "      <td>NaN</td>\n",
              "      <td>39.0</td>\n",
              "      <td>,ci37388730,</td>\n",
              "      <td>1.33</td>\n",
              "      <td>ml</td>\n",
              "      <td>NaN</td>\n",
              "      <td>ci</td>\n",
              "      <td>55.0</td>\n",
              "      <td>8km ENE of Aguanga, CA</td>\n",
              "      <td>0.17</td>\n",
              "      <td>27</td>\n",
              "      <td>,ci,</td>\n",
              "      <td>automatic</td>\n",
              "      <td>1539435293090</td>\n",
              "      <td>M 1.3 - 8km ENE of Aguanga, CA</td>\n",
              "      <td>0</td>\n",
              "      <td>earthquake</td>\n",
              "      <td>,focal-mechanism,geoserve,nearby-cities,origin...</td>\n",
              "      <td>-480.0</td>\n",
              "      <td>1539435940470</td>\n",
              "      <td>https://earthquake.usgs.gov/earthquakes/eventp...</td>\n",
              "    </tr>\n",
              "  </tbody>\n",
              "</table>\n",
              "</div>"
            ],
            "text/plain": [
              "    alert  ...                                                url\n",
              "100   NaN  ...  https://earthquake.usgs.gov/earthquakes/eventp...\n",
              "101   NaN  ...  https://earthquake.usgs.gov/earthquakes/eventp...\n",
              "102   NaN  ...  https://earthquake.usgs.gov/earthquakes/eventp...\n",
              "\n",
              "[3 rows x 26 columns]"
            ]
          },
          "metadata": {},
          "execution_count": 14
        }
      ]
    },
    {
      "cell_type": "markdown",
      "metadata": {
        "id": "gE6Q7XYy7cZa"
      },
      "source": [
        "* 파이썬에서는 첫번째인 100은 출력이 되지만, 마지막에 있는 103은 출력이 안되는 것을 볼 수 있다."
      ]
    },
    {
      "cell_type": "markdown",
      "metadata": {
        "id": "zAk4b0k75TPn"
      },
      "source": [
        "### Selecting rows and columns with chaining"
      ]
    },
    {
      "cell_type": "markdown",
      "metadata": {
        "id": "GefK4RwC7nRj"
      },
      "source": [
        "* chaining을 통해서 column을 먼저 선택하고 row를 선택해서 할 수 있다."
      ]
    },
    {
      "cell_type": "code",
      "metadata": {
        "id": "tWYwMI4r5TPo",
        "outputId": "175ce5b2-5fd2-4fda-9f44-66fd1f35e007",
        "colab": {
          "base_uri": "https://localhost:8080/",
          "height": 141
        }
      },
      "source": [
        "df[['title', 'time']][100:103]"
      ],
      "execution_count": 15,
      "outputs": [
        {
          "output_type": "execute_result",
          "data": {
            "text/html": [
              "<div>\n",
              "<style scoped>\n",
              "    .dataframe tbody tr th:only-of-type {\n",
              "        vertical-align: middle;\n",
              "    }\n",
              "\n",
              "    .dataframe tbody tr th {\n",
              "        vertical-align: top;\n",
              "    }\n",
              "\n",
              "    .dataframe thead th {\n",
              "        text-align: right;\n",
              "    }\n",
              "</style>\n",
              "<table border=\"1\" class=\"dataframe\">\n",
              "  <thead>\n",
              "    <tr style=\"text-align: right;\">\n",
              "      <th></th>\n",
              "      <th>title</th>\n",
              "      <th>time</th>\n",
              "    </tr>\n",
              "  </thead>\n",
              "  <tbody>\n",
              "    <tr>\n",
              "      <th>100</th>\n",
              "      <td>M 1.2 - 25km NW of Ester, Alaska</td>\n",
              "      <td>1539435449480</td>\n",
              "    </tr>\n",
              "    <tr>\n",
              "      <th>101</th>\n",
              "      <td>M 0.6 - 8km ESE of Mammoth Lakes, CA</td>\n",
              "      <td>1539435391320</td>\n",
              "    </tr>\n",
              "    <tr>\n",
              "      <th>102</th>\n",
              "      <td>M 1.3 - 8km ENE of Aguanga, CA</td>\n",
              "      <td>1539435293090</td>\n",
              "    </tr>\n",
              "  </tbody>\n",
              "</table>\n",
              "</div>"
            ],
            "text/plain": [
              "                                    title           time\n",
              "100      M 1.2 - 25km NW of Ester, Alaska  1539435449480\n",
              "101  M 0.6 - 8km ESE of Mammoth Lakes, CA  1539435391320\n",
              "102        M 1.3 - 8km ENE of Aguanga, CA  1539435293090"
            ]
          },
          "metadata": {},
          "execution_count": 15
        }
      ]
    },
    {
      "cell_type": "markdown",
      "metadata": {
        "id": "DnmZRC935TPp"
      },
      "source": [
        "Order doesn't matter here:"
      ]
    },
    {
      "cell_type": "code",
      "metadata": {
        "id": "nrcNTUgY5TPp",
        "colab": {
          "base_uri": "https://localhost:8080/"
        },
        "outputId": "d15b2fae-e884-47f7-c373-58bac1fe7070"
      },
      "source": [
        "df[100:103][['title', 'time']].equals(\n",
        "    df[['title', 'time']][100:103]\n",
        ")"
      ],
      "execution_count": 16,
      "outputs": [
        {
          "output_type": "execute_result",
          "data": {
            "text/plain": [
              "True"
            ]
          },
          "metadata": {},
          "execution_count": 16
        }
      ]
    },
    {
      "cell_type": "markdown",
      "metadata": {
        "id": "Sjf3sAne7x3Z"
      },
      "source": [
        "* 두개의 코드 결과가 똑같은지 equals로 해서 확인을 해보았을 때, True라는 값이 나오는 것을 보아서 두개의 코드 결과가 똑같다는 것을 알 수 있다."
      ]
    },
    {
      "cell_type": "markdown",
      "metadata": {
        "id": "ls8AMEZW5TPq"
      },
      "source": [
        "So we know how to select rows and columns, but can we update values? Well, if we try using what we have learned so far, we will see the following warning:"
      ]
    },
    {
      "cell_type": "code",
      "metadata": {
        "id": "8utGV46j6psE",
        "colab": {
          "base_uri": "https://localhost:8080/"
        },
        "outputId": "597055ea-e907-4076-e905-7e5a14ff39d4"
      },
      "source": [
        "df[110:113]['title']"
      ],
      "execution_count": 17,
      "outputs": [
        {
          "output_type": "execute_result",
          "data": {
            "text/plain": [
              "110               M 1.1 - 35km S of Ester, Alaska\n",
              "111    M 1.9 - 93km WNW of Arctic Village, Alaska\n",
              "112      M 0.9 - 20km WSW of Smith Valley, Nevada\n",
              "Name: title, dtype: object"
            ]
          },
          "metadata": {},
          "execution_count": 17
        }
      ]
    },
    {
      "cell_type": "code",
      "metadata": {
        "id": "Nfnq82Bu5TPq",
        "colab": {
          "base_uri": "https://localhost:8080/"
        },
        "outputId": "2a46fc76-d840-4ba6-f132-b7a68736341c"
      },
      "source": [
        "df[110:113]['title'] = df[110:113]['title'].str.lower()"
      ],
      "execution_count": 18,
      "outputs": [
        {
          "output_type": "stream",
          "name": "stderr",
          "text": [
            "/usr/local/lib/python3.7/dist-packages/ipykernel_launcher.py:1: SettingWithCopyWarning: \n",
            "A value is trying to be set on a copy of a slice from a DataFrame.\n",
            "Try using .loc[row_indexer,col_indexer] = value instead\n",
            "\n",
            "See the caveats in the documentation: https://pandas.pydata.org/pandas-docs/stable/user_guide/indexing.html#returning-a-view-versus-a-copy\n",
            "  \"\"\"Entry point for launching an IPython kernel.\n"
          ]
        }
      ]
    },
    {
      "cell_type": "markdown",
      "metadata": {
        "id": "oQRuBLfF8Fst"
      },
      "source": [
        "* 위에 있는 코드는 출려되는 문자 가운데 대문자가 있는데, lower()를 사용해서 대문자를 소문자로 바꾸어 준다는 것을 말한다."
      ]
    },
    {
      "cell_type": "markdown",
      "metadata": {
        "id": "iZJuHfNx8h0z"
      },
      "source": [
        "* 그런데 위와 같은 코드를 사용하게 되면, 오류가 나기 때문에 좋은 방법이 아니라서 loc을 사용해서 바꾸어 주는 방법을 추천하고 있다."
      ]
    },
    {
      "cell_type": "markdown",
      "metadata": {
        "id": "k7oazt_C5TPr"
      },
      "source": [
        "Note that it worked here, but `pandas` says we were setting a value on a copy of a slice and that we should use `loc` instead (topic of the following section):"
      ]
    },
    {
      "cell_type": "code",
      "metadata": {
        "id": "A_3UiWGM5TPr",
        "colab": {
          "base_uri": "https://localhost:8080/"
        },
        "outputId": "d1b0bc2b-8a85-4933-d7f3-7a8c64306cb7"
      },
      "source": [
        "df[110:113]['title']"
      ],
      "execution_count": 19,
      "outputs": [
        {
          "output_type": "execute_result",
          "data": {
            "text/plain": [
              "110               m 1.1 - 35km s of ester, alaska\n",
              "111    m 1.9 - 93km wnw of arctic village, alaska\n",
              "112      m 0.9 - 20km wsw of smith valley, nevada\n",
              "Name: title, dtype: object"
            ]
          },
          "metadata": {},
          "execution_count": 19
        }
      ]
    },
    {
      "cell_type": "markdown",
      "metadata": {
        "id": "4Wq8mEnJ5TPs"
      },
      "source": [
        "## Indexing\n",
        "\n",
        "Now if we do this with `loc` as the warning suggests, everything goes smoothly. Note we have to lower the end index by one since `loc` is inclusive of endpoints:"
      ]
    },
    {
      "cell_type": "code",
      "metadata": {
        "id": "45aO7bql5TPs",
        "colab": {
          "base_uri": "https://localhost:8080/"
        },
        "outputId": "5969cce5-4aa8-495a-db4e-200de0e04135"
      },
      "source": [
        "df.loc[110:112, 'title'] = df.loc[110:112, 'title'].str.lower()\n",
        "df.loc[110:112, 'title']"
      ],
      "execution_count": 20,
      "outputs": [
        {
          "output_type": "execute_result",
          "data": {
            "text/plain": [
              "110               m 1.1 - 35km s of ester, alaska\n",
              "111    m 1.9 - 93km wnw of arctic village, alaska\n",
              "112      m 0.9 - 20km wsw of smith valley, nevada\n",
              "Name: title, dtype: object"
            ]
          },
          "metadata": {},
          "execution_count": 20
        }
      ]
    },
    {
      "cell_type": "markdown",
      "metadata": {
        "id": "jtptj1Fr8vqb"
      },
      "source": [
        "* 위에서 lower()를 사용해서 소문자로 만드는 것을 했을 때, 오류가 났는데, 여기에서는 loc를 사용해서 lower()를 했기 때문에 오류가 나지 않는다는 것을 알 수 있다.\n",
        "* 110부터 112까지 해서 출력해주는 것을 볼 수 있다."
      ]
    },
    {
      "cell_type": "markdown",
      "metadata": {
        "id": "qt0_Pu_T9PvJ"
      },
      "source": [
        "## **교수님이 데이터 프레임 인덱싱 할때, 별도의 loc같은게 없지만 pandas에는 indexing할 때 loc이나 iloc을 한다는 것을 꼭 기억해주면 좋을 것 같다고 말씀하심.**"
      ]
    },
    {
      "cell_type": "markdown",
      "metadata": {
        "id": "94zzym_e5TPs"
      },
      "source": [
        "### Indexing with `loc`\n",
        "Selection of the format `loc[row_indexer, column_indexer]` where `:` can be used to select all:"
      ]
    },
    {
      "cell_type": "code",
      "metadata": {
        "id": "YyAzIrs45TPt",
        "colab": {
          "base_uri": "https://localhost:8080/"
        },
        "outputId": "df4d5704-6c31-4af2-bc59-94d6e4e4b3c9"
      },
      "source": [
        "df.loc[:,'title']"
      ],
      "execution_count": 21,
      "outputs": [
        {
          "output_type": "execute_result",
          "data": {
            "text/plain": [
              "0                  M 1.4 - 9km NE of Aguanga, CA\n",
              "1                  M 1.3 - 9km NE of Aguanga, CA\n",
              "2                  M 3.4 - 8km NE of Aguanga, CA\n",
              "3                  M 0.4 - 9km NE of Aguanga, CA\n",
              "4                  M 2.2 - 10km NW of Avenal, CA\n",
              "                          ...                   \n",
              "9327        M 0.6 - 9km ENE of Mammoth Lakes, CA\n",
              "9328                 M 1.0 - 3km W of Julian, CA\n",
              "9329    M 2.4 - 35km NNE of Hatillo, Puerto Rico\n",
              "9330               M 1.1 - 9km NE of Aguanga, CA\n",
              "9331               M 0.7 - 9km NE of Aguanga, CA\n",
              "Name: title, Length: 9332, dtype: object"
            ]
          },
          "metadata": {},
          "execution_count": 21
        }
      ]
    },
    {
      "cell_type": "markdown",
      "metadata": {
        "id": "slg0wN519nYX"
      },
      "source": [
        "* : 을 쳐주게 되면 모든 것을 의미한다. 그래서 row는 전부다를 선택해주고 colum은 title을 선택해준다."
      ]
    },
    {
      "cell_type": "markdown",
      "metadata": {
        "id": "PBoeJXmP5TPt"
      },
      "source": [
        "We can use `loc` to select specific rows and columns without chaining. If we use row numbers with `loc`, they are now **inclusive** of the end index:"
      ]
    },
    {
      "cell_type": "code",
      "metadata": {
        "id": "ROZVH67d5TPt",
        "colab": {
          "base_uri": "https://localhost:8080/",
          "height": 232
        },
        "outputId": "b2139a21-23c5-430f-8e8a-9b8a422018ad"
      },
      "source": [
        "df.loc[10:15, ['title', 'mag']]"
      ],
      "execution_count": 22,
      "outputs": [
        {
          "output_type": "execute_result",
          "data": {
            "text/html": [
              "<div>\n",
              "<style scoped>\n",
              "    .dataframe tbody tr th:only-of-type {\n",
              "        vertical-align: middle;\n",
              "    }\n",
              "\n",
              "    .dataframe tbody tr th {\n",
              "        vertical-align: top;\n",
              "    }\n",
              "\n",
              "    .dataframe thead th {\n",
              "        text-align: right;\n",
              "    }\n",
              "</style>\n",
              "<table border=\"1\" class=\"dataframe\">\n",
              "  <thead>\n",
              "    <tr style=\"text-align: right;\">\n",
              "      <th></th>\n",
              "      <th>title</th>\n",
              "      <th>mag</th>\n",
              "    </tr>\n",
              "  </thead>\n",
              "  <tbody>\n",
              "    <tr>\n",
              "      <th>10</th>\n",
              "      <td>M 0.5 - 10km NE of Aguanga, CA</td>\n",
              "      <td>0.50</td>\n",
              "    </tr>\n",
              "    <tr>\n",
              "      <th>11</th>\n",
              "      <td>M 2.8 - 53km SE of Punta Cana, Dominican Republic</td>\n",
              "      <td>2.77</td>\n",
              "    </tr>\n",
              "    <tr>\n",
              "      <th>12</th>\n",
              "      <td>M 0.5 - 9km NE of Aguanga, CA</td>\n",
              "      <td>0.50</td>\n",
              "    </tr>\n",
              "    <tr>\n",
              "      <th>13</th>\n",
              "      <td>M 4.5 - 120km SSW of Banda Aceh, Indonesia</td>\n",
              "      <td>4.50</td>\n",
              "    </tr>\n",
              "    <tr>\n",
              "      <th>14</th>\n",
              "      <td>M 2.1 - 14km NW of Parkfield, CA</td>\n",
              "      <td>2.13</td>\n",
              "    </tr>\n",
              "    <tr>\n",
              "      <th>15</th>\n",
              "      <td>M 2.0 - 156km WNW of Haines Junction, Canada</td>\n",
              "      <td>2.00</td>\n",
              "    </tr>\n",
              "  </tbody>\n",
              "</table>\n",
              "</div>"
            ],
            "text/plain": [
              "                                                title   mag\n",
              "10                     M 0.5 - 10km NE of Aguanga, CA  0.50\n",
              "11  M 2.8 - 53km SE of Punta Cana, Dominican Republic  2.77\n",
              "12                      M 0.5 - 9km NE of Aguanga, CA  0.50\n",
              "13         M 4.5 - 120km SSW of Banda Aceh, Indonesia  4.50\n",
              "14                   M 2.1 - 14km NW of Parkfield, CA  2.13\n",
              "15       M 2.0 - 156km WNW of Haines Junction, Canada  2.00"
            ]
          },
          "metadata": {},
          "execution_count": 22
        }
      ]
    },
    {
      "cell_type": "markdown",
      "metadata": {
        "id": "RnR67cyN-ACJ"
      },
      "source": [
        "# **보통은 10:15를 하게 되면 마지막 15는 나오지 않았는데. 여기에서는 loc을 사용해서 출력을 해주었기 때문에 10부터 15까지 마지막에가 없어지지 않고 다 포함해서 나온다는 것을 알 수 있다. 교수님이 기억해두라고 하심.**"
      ]
    },
    {
      "cell_type": "markdown",
      "metadata": {
        "id": "xWFG483S5TPt"
      },
      "source": [
        "#### Indexing with `iloc`\n",
        "Exclusive of the endpoint just as Python slicing:"
      ]
    },
    {
      "cell_type": "markdown",
      "metadata": {
        "id": "wEteuDb9-9-l"
      },
      "source": [
        "* iloc과 같은 경우는 숫자를 idex로 해서 출력을 해주게 된다."
      ]
    },
    {
      "cell_type": "markdown",
      "metadata": {
        "id": "Y9-rdAEt_ILN"
      },
      "source": [
        "##  **loc과 iloc이 다른 점은 loc은 10부터 15까지 하게 되면, 10부터 15까지 전부 나오게 되는데, iloc과 같은 경우는 10부터 15까지 하게 되면, 10부터 14까지 나오게 된다. 두개의 차이점이다.** "
      ]
    },
    {
      "cell_type": "code",
      "metadata": {
        "id": "xXl424N-5TPu",
        "colab": {
          "base_uri": "https://localhost:8080/",
          "height": 202
        },
        "outputId": "19d2f7f4-d921-44b2-f5b7-5c220d250ce5"
      },
      "source": [
        "df.iloc[10:15, [19, 8]]"
      ],
      "execution_count": 23,
      "outputs": [
        {
          "output_type": "execute_result",
          "data": {
            "text/html": [
              "<div>\n",
              "<style scoped>\n",
              "    .dataframe tbody tr th:only-of-type {\n",
              "        vertical-align: middle;\n",
              "    }\n",
              "\n",
              "    .dataframe tbody tr th {\n",
              "        vertical-align: top;\n",
              "    }\n",
              "\n",
              "    .dataframe thead th {\n",
              "        text-align: right;\n",
              "    }\n",
              "</style>\n",
              "<table border=\"1\" class=\"dataframe\">\n",
              "  <thead>\n",
              "    <tr style=\"text-align: right;\">\n",
              "      <th></th>\n",
              "      <th>title</th>\n",
              "      <th>mag</th>\n",
              "    </tr>\n",
              "  </thead>\n",
              "  <tbody>\n",
              "    <tr>\n",
              "      <th>10</th>\n",
              "      <td>M 0.5 - 10km NE of Aguanga, CA</td>\n",
              "      <td>0.50</td>\n",
              "    </tr>\n",
              "    <tr>\n",
              "      <th>11</th>\n",
              "      <td>M 2.8 - 53km SE of Punta Cana, Dominican Republic</td>\n",
              "      <td>2.77</td>\n",
              "    </tr>\n",
              "    <tr>\n",
              "      <th>12</th>\n",
              "      <td>M 0.5 - 9km NE of Aguanga, CA</td>\n",
              "      <td>0.50</td>\n",
              "    </tr>\n",
              "    <tr>\n",
              "      <th>13</th>\n",
              "      <td>M 4.5 - 120km SSW of Banda Aceh, Indonesia</td>\n",
              "      <td>4.50</td>\n",
              "    </tr>\n",
              "    <tr>\n",
              "      <th>14</th>\n",
              "      <td>M 2.1 - 14km NW of Parkfield, CA</td>\n",
              "      <td>2.13</td>\n",
              "    </tr>\n",
              "  </tbody>\n",
              "</table>\n",
              "</div>"
            ],
            "text/plain": [
              "                                                title   mag\n",
              "10                     M 0.5 - 10km NE of Aguanga, CA  0.50\n",
              "11  M 2.8 - 53km SE of Punta Cana, Dominican Republic  2.77\n",
              "12                      M 0.5 - 9km NE of Aguanga, CA  0.50\n",
              "13         M 4.5 - 120km SSW of Banda Aceh, Indonesia  4.50\n",
              "14                   M 2.1 - 14km NW of Parkfield, CA  2.13"
            ]
          },
          "metadata": {},
          "execution_count": 23
        }
      ]
    },
    {
      "cell_type": "markdown",
      "metadata": {
        "id": "zhrbSMnA5TPu"
      },
      "source": [
        "We can use slicing syntax with `iloc` for both rows and columns:"
      ]
    },
    {
      "cell_type": "code",
      "metadata": {
        "id": "24dcM4205TPv",
        "colab": {
          "base_uri": "https://localhost:8080/",
          "height": 202
        },
        "outputId": "1e200c4d-8d13-44d9-b5c9-08f471e903b7"
      },
      "source": [
        "df.iloc[10:15, 6:10]"
      ],
      "execution_count": 24,
      "outputs": [
        {
          "output_type": "execute_result",
          "data": {
            "text/html": [
              "<div>\n",
              "<style scoped>\n",
              "    .dataframe tbody tr th:only-of-type {\n",
              "        vertical-align: middle;\n",
              "    }\n",
              "\n",
              "    .dataframe tbody tr th {\n",
              "        vertical-align: top;\n",
              "    }\n",
              "\n",
              "    .dataframe thead th {\n",
              "        text-align: right;\n",
              "    }\n",
              "</style>\n",
              "<table border=\"1\" class=\"dataframe\">\n",
              "  <thead>\n",
              "    <tr style=\"text-align: right;\">\n",
              "      <th></th>\n",
              "      <th>gap</th>\n",
              "      <th>ids</th>\n",
              "      <th>mag</th>\n",
              "      <th>magType</th>\n",
              "    </tr>\n",
              "  </thead>\n",
              "  <tbody>\n",
              "    <tr>\n",
              "      <th>10</th>\n",
              "      <td>57.0</td>\n",
              "      <td>,ci37389162,</td>\n",
              "      <td>0.50</td>\n",
              "      <td>ml</td>\n",
              "    </tr>\n",
              "    <tr>\n",
              "      <th>11</th>\n",
              "      <td>186.0</td>\n",
              "      <td>,pr2018286010,</td>\n",
              "      <td>2.77</td>\n",
              "      <td>md</td>\n",
              "    </tr>\n",
              "    <tr>\n",
              "      <th>12</th>\n",
              "      <td>76.0</td>\n",
              "      <td>,ci37389146,</td>\n",
              "      <td>0.50</td>\n",
              "      <td>ml</td>\n",
              "    </tr>\n",
              "    <tr>\n",
              "      <th>13</th>\n",
              "      <td>157.0</td>\n",
              "      <td>,us1000hbti,</td>\n",
              "      <td>4.50</td>\n",
              "      <td>mb</td>\n",
              "    </tr>\n",
              "    <tr>\n",
              "      <th>14</th>\n",
              "      <td>71.0</td>\n",
              "      <td>,nc73096921,</td>\n",
              "      <td>2.13</td>\n",
              "      <td>md</td>\n",
              "    </tr>\n",
              "  </tbody>\n",
              "</table>\n",
              "</div>"
            ],
            "text/plain": [
              "      gap             ids   mag magType\n",
              "10   57.0    ,ci37389162,  0.50      ml\n",
              "11  186.0  ,pr2018286010,  2.77      md\n",
              "12   76.0    ,ci37389146,  0.50      ml\n",
              "13  157.0    ,us1000hbti,  4.50      mb\n",
              "14   71.0    ,nc73096921,  2.13      md"
            ]
          },
          "metadata": {},
          "execution_count": 24
        }
      ]
    },
    {
      "cell_type": "markdown",
      "metadata": {
        "id": "cwT-i9zY5TPv"
      },
      "source": [
        "When using `loc`, we can slice on column names. This will be inclusive of the endpoint because you can't be expected to know what the next column name will be. As such, we have multiple ways to achieve the same end goal:"
      ]
    },
    {
      "cell_type": "code",
      "metadata": {
        "id": "w4Qhx4Sc5TPv",
        "colab": {
          "base_uri": "https://localhost:8080/"
        },
        "outputId": "3cf92ed0-7348-4ffb-c563-bedaf6aa3904"
      },
      "source": [
        "df.iloc[10:15, 6:10].equals(\n",
        "    df.loc[10:14, 'gap':'magType']\n",
        ") "
      ],
      "execution_count": 26,
      "outputs": [
        {
          "output_type": "execute_result",
          "data": {
            "text/plain": [
              "True"
            ]
          },
          "metadata": {},
          "execution_count": 26
        }
      ]
    },
    {
      "cell_type": "markdown",
      "metadata": {
        "id": "4skmOYtS_sOZ"
      },
      "source": [
        "* iloc을 사용한거든 loc을 사용한거든 결과는 똑같다는 것을 equals가 True가 나왔기 때문에 알 수 있다.\n",
        "\n",
        "## 여기에서 중요한 점은 loc은 10:14까지 하고 iloc은 10:15까지 해줘야 결과가 똑같이 나오는 것을 알 수 있다."
      ]
    },
    {
      "cell_type": "markdown",
      "metadata": {
        "id": "LvSSV-rd5TPw"
      },
      "source": [
        "### Looking up scalar values\n",
        "We used `loc` and `iloc` to grab subsets of the dataframe. However, if we are just interested in the specific value at a given `[row, column]`, then we can use `iat` and `at`. We use `at` with labels:"
      ]
    },
    {
      "cell_type": "code",
      "metadata": {
        "id": "PYRFcJEO5TPw",
        "colab": {
          "base_uri": "https://localhost:8080/"
        },
        "outputId": "9c361150-a192-4de8-d1c4-062b57e44413"
      },
      "source": [
        "df.at[10, 'mag']"
      ],
      "execution_count": 27,
      "outputs": [
        {
          "output_type": "execute_result",
          "data": {
            "text/plain": [
              "0.5"
            ]
          },
          "metadata": {},
          "execution_count": 27
        }
      ]
    },
    {
      "cell_type": "markdown",
      "metadata": {
        "id": "VJWbm0V1AVh-"
      },
      "source": [
        "* 이렇게 해서 scalar values의 값을 얻어 낼 수 있다는 것이다."
      ]
    },
    {
      "cell_type": "markdown",
      "metadata": {
        "id": "0tTIYAyg5TPw"
      },
      "source": [
        "...and `iat` with integer indices:"
      ]
    },
    {
      "cell_type": "code",
      "metadata": {
        "id": "ZrgD9F835TPx",
        "colab": {
          "base_uri": "https://localhost:8080/"
        },
        "outputId": "e369c511-23d1-4fbb-e63e-6fb6b8484284"
      },
      "source": [
        "df.iat[10, 8]"
      ],
      "execution_count": 28,
      "outputs": [
        {
          "output_type": "execute_result",
          "data": {
            "text/plain": [
              "0.5"
            ]
          },
          "metadata": {},
          "execution_count": 28
        }
      ]
    },
    {
      "cell_type": "markdown",
      "metadata": {
        "id": "CPNldFTaAdl4"
      },
      "source": [
        "* 10번째 mag의 값을 출력해 준다."
      ]
    },
    {
      "cell_type": "markdown",
      "metadata": {
        "id": "DnUuM0D35TPx"
      },
      "source": [
        "## Filtering\n",
        "We can filter our dataframes using a **Boolean mask**, which can be made as follows:"
      ]
    },
    {
      "cell_type": "markdown",
      "metadata": {
        "id": "sjTufkkXAk3i"
      },
      "source": [
        "* 보통 slising보다는 Filtering을 많이 사용한다.\n",
        "* 그래서 Boolean한 mask를 사용해서 선택을 해준다."
      ]
    },
    {
      "cell_type": "code",
      "metadata": {
        "id": "yCar-u1X5TPx",
        "colab": {
          "base_uri": "https://localhost:8080/"
        },
        "outputId": "eeb9fa0d-e1bd-4164-9fa7-d340f483daf4"
      },
      "source": [
        "df.mag > 2"
      ],
      "execution_count": 29,
      "outputs": [
        {
          "output_type": "execute_result",
          "data": {
            "text/plain": [
              "0       False\n",
              "1       False\n",
              "2        True\n",
              "3       False\n",
              "4        True\n",
              "        ...  \n",
              "9327    False\n",
              "9328    False\n",
              "9329     True\n",
              "9330    False\n",
              "9331    False\n",
              "Name: mag, Length: 9332, dtype: bool"
            ]
          },
          "metadata": {},
          "execution_count": 29
        }
      ]
    },
    {
      "cell_type": "markdown",
      "metadata": {
        "id": "eoQTsN3V5TPx"
      },
      "source": [
        "To use a mask for selection, we simply place it inside the brackets:"
      ]
    },
    {
      "cell_type": "markdown",
      "metadata": {
        "id": "P1rc4UnfAxxS"
      },
      "source": [
        "* 간단하게는 DataFrame에서 Mask를 넣어서 선택해 줄 수 있다."
      ]
    },
    {
      "cell_type": "code",
      "metadata": {
        "id": "FCDKSBoG5TPx",
        "colab": {
          "base_uri": "https://localhost:8080/",
          "height": 263
        },
        "outputId": "40af638c-5a39-469d-a64b-55b3800d9ad3"
      },
      "source": [
        "df[df.mag >= 7.0]"
      ],
      "execution_count": 30,
      "outputs": [
        {
          "output_type": "execute_result",
          "data": {
            "text/html": [
              "<div>\n",
              "<style scoped>\n",
              "    .dataframe tbody tr th:only-of-type {\n",
              "        vertical-align: middle;\n",
              "    }\n",
              "\n",
              "    .dataframe tbody tr th {\n",
              "        vertical-align: top;\n",
              "    }\n",
              "\n",
              "    .dataframe thead th {\n",
              "        text-align: right;\n",
              "    }\n",
              "</style>\n",
              "<table border=\"1\" class=\"dataframe\">\n",
              "  <thead>\n",
              "    <tr style=\"text-align: right;\">\n",
              "      <th></th>\n",
              "      <th>alert</th>\n",
              "      <th>cdi</th>\n",
              "      <th>code</th>\n",
              "      <th>detail</th>\n",
              "      <th>dmin</th>\n",
              "      <th>felt</th>\n",
              "      <th>gap</th>\n",
              "      <th>ids</th>\n",
              "      <th>mag</th>\n",
              "      <th>magType</th>\n",
              "      <th>mmi</th>\n",
              "      <th>net</th>\n",
              "      <th>nst</th>\n",
              "      <th>place</th>\n",
              "      <th>rms</th>\n",
              "      <th>sig</th>\n",
              "      <th>sources</th>\n",
              "      <th>status</th>\n",
              "      <th>time</th>\n",
              "      <th>title</th>\n",
              "      <th>tsunami</th>\n",
              "      <th>type</th>\n",
              "      <th>types</th>\n",
              "      <th>tz</th>\n",
              "      <th>updated</th>\n",
              "      <th>url</th>\n",
              "    </tr>\n",
              "  </thead>\n",
              "  <tbody>\n",
              "    <tr>\n",
              "      <th>837</th>\n",
              "      <td>green</td>\n",
              "      <td>4.1</td>\n",
              "      <td>1000haa3</td>\n",
              "      <td>https://earthquake.usgs.gov/fdsnws/event/1/que...</td>\n",
              "      <td>1.763</td>\n",
              "      <td>3.0</td>\n",
              "      <td>14.0</td>\n",
              "      <td>,us1000haa3,pt18283003,at00pgehsk,</td>\n",
              "      <td>7.0</td>\n",
              "      <td>mww</td>\n",
              "      <td>7.46</td>\n",
              "      <td>us</td>\n",
              "      <td>NaN</td>\n",
              "      <td>117km E of Kimbe, Papua New Guinea</td>\n",
              "      <td>1.22</td>\n",
              "      <td>755</td>\n",
              "      <td>,us,pt,at,</td>\n",
              "      <td>reviewed</td>\n",
              "      <td>1539204500290</td>\n",
              "      <td>M 7.0 - 117km E of Kimbe, Papua New Guinea</td>\n",
              "      <td>1</td>\n",
              "      <td>earthquake</td>\n",
              "      <td>,dyfi,finite-fault,general-text,geoserve,groun...</td>\n",
              "      <td>600.0</td>\n",
              "      <td>1539378744253</td>\n",
              "      <td>https://earthquake.usgs.gov/earthquakes/eventp...</td>\n",
              "    </tr>\n",
              "    <tr>\n",
              "      <th>5263</th>\n",
              "      <td>red</td>\n",
              "      <td>8.4</td>\n",
              "      <td>1000h3p4</td>\n",
              "      <td>https://earthquake.usgs.gov/fdsnws/event/1/que...</td>\n",
              "      <td>1.589</td>\n",
              "      <td>18.0</td>\n",
              "      <td>27.0</td>\n",
              "      <td>,us1000h3p4,us1000h4p4,</td>\n",
              "      <td>7.5</td>\n",
              "      <td>mww</td>\n",
              "      <td>9.12</td>\n",
              "      <td>us</td>\n",
              "      <td>NaN</td>\n",
              "      <td>78km N of Palu, Indonesia</td>\n",
              "      <td>1.27</td>\n",
              "      <td>2015</td>\n",
              "      <td>,us,us,</td>\n",
              "      <td>reviewed</td>\n",
              "      <td>1538128963480</td>\n",
              "      <td>M 7.5 - 78km N of Palu, Indonesia</td>\n",
              "      <td>1</td>\n",
              "      <td>earthquake</td>\n",
              "      <td>,dyfi,finite-fault,general-text,geoserve,groun...</td>\n",
              "      <td>480.0</td>\n",
              "      <td>1539123134531</td>\n",
              "      <td>https://earthquake.usgs.gov/earthquakes/eventp...</td>\n",
              "    </tr>\n",
              "  </tbody>\n",
              "</table>\n",
              "</div>"
            ],
            "text/plain": [
              "      alert  ...                                                url\n",
              "837   green  ...  https://earthquake.usgs.gov/earthquakes/eventp...\n",
              "5263    red  ...  https://earthquake.usgs.gov/earthquakes/eventp...\n",
              "\n",
              "[2 rows x 26 columns]"
            ]
          },
          "metadata": {},
          "execution_count": 30
        }
      ]
    },
    {
      "cell_type": "markdown",
      "metadata": {
        "id": "XZJgf2dO5TPy"
      },
      "source": [
        "We can use masks with `loc`:"
      ]
    },
    {
      "cell_type": "markdown",
      "metadata": {
        "id": "r0VaMRxCA52U"
      },
      "source": [
        "* location함수를 써서 만들어 줄 수 있다."
      ]
    },
    {
      "cell_type": "code",
      "metadata": {
        "id": "Ue5oGYhL5TPy",
        "colab": {
          "base_uri": "https://localhost:8080/",
          "height": 110
        },
        "outputId": "f852c36a-b36d-4c1a-cc0e-d38fce0ad9f2"
      },
      "source": [
        "df.loc[\n",
        "    df.mag >= 7.0,\n",
        "    ['alert', 'mag', 'magType', 'title', 'tsunami', 'type'] #보여주고 싶은 column들을 써준다.\n",
        "]"
      ],
      "execution_count": 31,
      "outputs": [
        {
          "output_type": "execute_result",
          "data": {
            "text/html": [
              "<div>\n",
              "<style scoped>\n",
              "    .dataframe tbody tr th:only-of-type {\n",
              "        vertical-align: middle;\n",
              "    }\n",
              "\n",
              "    .dataframe tbody tr th {\n",
              "        vertical-align: top;\n",
              "    }\n",
              "\n",
              "    .dataframe thead th {\n",
              "        text-align: right;\n",
              "    }\n",
              "</style>\n",
              "<table border=\"1\" class=\"dataframe\">\n",
              "  <thead>\n",
              "    <tr style=\"text-align: right;\">\n",
              "      <th></th>\n",
              "      <th>alert</th>\n",
              "      <th>mag</th>\n",
              "      <th>magType</th>\n",
              "      <th>title</th>\n",
              "      <th>tsunami</th>\n",
              "      <th>type</th>\n",
              "    </tr>\n",
              "  </thead>\n",
              "  <tbody>\n",
              "    <tr>\n",
              "      <th>837</th>\n",
              "      <td>green</td>\n",
              "      <td>7.0</td>\n",
              "      <td>mww</td>\n",
              "      <td>M 7.0 - 117km E of Kimbe, Papua New Guinea</td>\n",
              "      <td>1</td>\n",
              "      <td>earthquake</td>\n",
              "    </tr>\n",
              "    <tr>\n",
              "      <th>5263</th>\n",
              "      <td>red</td>\n",
              "      <td>7.5</td>\n",
              "      <td>mww</td>\n",
              "      <td>M 7.5 - 78km N of Palu, Indonesia</td>\n",
              "      <td>1</td>\n",
              "      <td>earthquake</td>\n",
              "    </tr>\n",
              "  </tbody>\n",
              "</table>\n",
              "</div>"
            ],
            "text/plain": [
              "      alert  mag  ... tsunami        type\n",
              "837   green  7.0  ...       1  earthquake\n",
              "5263    red  7.5  ...       1  earthquake\n",
              "\n",
              "[2 rows x 6 columns]"
            ]
          },
          "metadata": {},
          "execution_count": 31
        }
      ]
    },
    {
      "cell_type": "markdown",
      "metadata": {
        "id": "_K2B1ZBQBEtg"
      },
      "source": [
        "* 그럼 mag가 7.0 이상인 얘들이 잘 선택되는 것을 볼 수 있다."
      ]
    },
    {
      "cell_type": "markdown",
      "metadata": {
        "id": "N1-Vq9c65TPy"
      },
      "source": [
        "Masks can be created using multiple criteria when combined with bitwise operators `&` for AND and `|` for OR. We must also surround each criterion with parentheses. We can't use `and`/`or` here because we need to evaluate row by row:"
      ]
    },
    {
      "cell_type": "code",
      "metadata": {
        "id": "QxOcSC865TPy",
        "colab": {
          "base_uri": "https://localhost:8080/",
          "height": 78
        },
        "outputId": "d533ff84-512e-4e24-baa1-50e20e18e74f"
      },
      "source": [
        "df.loc[\n",
        "    (df.tsunami == 1) & (df.alert == 'red'),  #여기에서는 Data Frame에서 tsunami가 1이고 alert가 red인 것을 가지고 온다.\n",
        "    ['alert', 'mag', 'magType', 'title', 'tsunami', 'type']\n",
        "]"
      ],
      "execution_count": 32,
      "outputs": [
        {
          "output_type": "execute_result",
          "data": {
            "text/html": [
              "<div>\n",
              "<style scoped>\n",
              "    .dataframe tbody tr th:only-of-type {\n",
              "        vertical-align: middle;\n",
              "    }\n",
              "\n",
              "    .dataframe tbody tr th {\n",
              "        vertical-align: top;\n",
              "    }\n",
              "\n",
              "    .dataframe thead th {\n",
              "        text-align: right;\n",
              "    }\n",
              "</style>\n",
              "<table border=\"1\" class=\"dataframe\">\n",
              "  <thead>\n",
              "    <tr style=\"text-align: right;\">\n",
              "      <th></th>\n",
              "      <th>alert</th>\n",
              "      <th>mag</th>\n",
              "      <th>magType</th>\n",
              "      <th>title</th>\n",
              "      <th>tsunami</th>\n",
              "      <th>type</th>\n",
              "    </tr>\n",
              "  </thead>\n",
              "  <tbody>\n",
              "    <tr>\n",
              "      <th>5263</th>\n",
              "      <td>red</td>\n",
              "      <td>7.5</td>\n",
              "      <td>mww</td>\n",
              "      <td>M 7.5 - 78km N of Palu, Indonesia</td>\n",
              "      <td>1</td>\n",
              "      <td>earthquake</td>\n",
              "    </tr>\n",
              "  </tbody>\n",
              "</table>\n",
              "</div>"
            ],
            "text/plain": [
              "     alert  mag magType                              title  tsunami        type\n",
              "5263   red  7.5     mww  M 7.5 - 78km N of Palu, Indonesia        1  earthquake"
            ]
          },
          "metadata": {},
          "execution_count": 32
        }
      ]
    },
    {
      "cell_type": "markdown",
      "metadata": {
        "id": "PiWrAK605TPy"
      },
      "source": [
        "An example with an OR condition, which is less restrictive:"
      ]
    },
    {
      "cell_type": "code",
      "metadata": {
        "id": "qd4iNm0t5TPz",
        "colab": {
          "base_uri": "https://localhost:8080/",
          "height": 414
        },
        "outputId": "253e31ba-36c1-449b-c74e-e01fac31f064"
      },
      "source": [
        "df.loc[\n",
        "    (df.tsunami == 1) | (df.alert == 'red'),  #여기에서는 or operation으로 해주어서 tsunami가 1인거 alert가 red인 것을 가지고 온다.\n",
        "    ['alert', 'mag', 'magType', 'title', 'tsunami', 'type']\n",
        "]"
      ],
      "execution_count": 33,
      "outputs": [
        {
          "output_type": "execute_result",
          "data": {
            "text/html": [
              "<div>\n",
              "<style scoped>\n",
              "    .dataframe tbody tr th:only-of-type {\n",
              "        vertical-align: middle;\n",
              "    }\n",
              "\n",
              "    .dataframe tbody tr th {\n",
              "        vertical-align: top;\n",
              "    }\n",
              "\n",
              "    .dataframe thead th {\n",
              "        text-align: right;\n",
              "    }\n",
              "</style>\n",
              "<table border=\"1\" class=\"dataframe\">\n",
              "  <thead>\n",
              "    <tr style=\"text-align: right;\">\n",
              "      <th></th>\n",
              "      <th>alert</th>\n",
              "      <th>mag</th>\n",
              "      <th>magType</th>\n",
              "      <th>title</th>\n",
              "      <th>tsunami</th>\n",
              "      <th>type</th>\n",
              "    </tr>\n",
              "  </thead>\n",
              "  <tbody>\n",
              "    <tr>\n",
              "      <th>36</th>\n",
              "      <td>NaN</td>\n",
              "      <td>5.0</td>\n",
              "      <td>mww</td>\n",
              "      <td>M 5.0 - 165km NNW of Flying Fish Cove, Christm...</td>\n",
              "      <td>1</td>\n",
              "      <td>earthquake</td>\n",
              "    </tr>\n",
              "    <tr>\n",
              "      <th>118</th>\n",
              "      <td>green</td>\n",
              "      <td>6.7</td>\n",
              "      <td>mww</td>\n",
              "      <td>M 6.7 - 262km NW of Ozernovskiy, Russia</td>\n",
              "      <td>1</td>\n",
              "      <td>earthquake</td>\n",
              "    </tr>\n",
              "    <tr>\n",
              "      <th>501</th>\n",
              "      <td>green</td>\n",
              "      <td>5.6</td>\n",
              "      <td>mww</td>\n",
              "      <td>M 5.6 - 128km SE of Kimbe, Papua New Guinea</td>\n",
              "      <td>1</td>\n",
              "      <td>earthquake</td>\n",
              "    </tr>\n",
              "    <tr>\n",
              "      <th>799</th>\n",
              "      <td>green</td>\n",
              "      <td>6.5</td>\n",
              "      <td>mww</td>\n",
              "      <td>M 6.5 - 148km S of Severo-Kuril'sk, Russia</td>\n",
              "      <td>1</td>\n",
              "      <td>earthquake</td>\n",
              "    </tr>\n",
              "    <tr>\n",
              "      <th>816</th>\n",
              "      <td>green</td>\n",
              "      <td>6.2</td>\n",
              "      <td>mww</td>\n",
              "      <td>M 6.2 - 94km SW of Kokopo, Papua New Guinea</td>\n",
              "      <td>1</td>\n",
              "      <td>earthquake</td>\n",
              "    </tr>\n",
              "    <tr>\n",
              "      <th>...</th>\n",
              "      <td>...</td>\n",
              "      <td>...</td>\n",
              "      <td>...</td>\n",
              "      <td>...</td>\n",
              "      <td>...</td>\n",
              "      <td>...</td>\n",
              "    </tr>\n",
              "    <tr>\n",
              "      <th>8561</th>\n",
              "      <td>NaN</td>\n",
              "      <td>5.4</td>\n",
              "      <td>mb</td>\n",
              "      <td>M 5.4 - 228km S of Taron, Papua New Guinea</td>\n",
              "      <td>1</td>\n",
              "      <td>earthquake</td>\n",
              "    </tr>\n",
              "    <tr>\n",
              "      <th>8624</th>\n",
              "      <td>NaN</td>\n",
              "      <td>5.1</td>\n",
              "      <td>mb</td>\n",
              "      <td>M 5.1 - 278km SE of Pondaguitan, Philippines</td>\n",
              "      <td>1</td>\n",
              "      <td>earthquake</td>\n",
              "    </tr>\n",
              "    <tr>\n",
              "      <th>9133</th>\n",
              "      <td>green</td>\n",
              "      <td>5.1</td>\n",
              "      <td>ml</td>\n",
              "      <td>M 5.1 - 64km SSW of Kaktovik, Alaska</td>\n",
              "      <td>1</td>\n",
              "      <td>earthquake</td>\n",
              "    </tr>\n",
              "    <tr>\n",
              "      <th>9175</th>\n",
              "      <td>NaN</td>\n",
              "      <td>5.2</td>\n",
              "      <td>mb</td>\n",
              "      <td>M 5.2 - 126km N of Dili, East Timor</td>\n",
              "      <td>1</td>\n",
              "      <td>earthquake</td>\n",
              "    </tr>\n",
              "    <tr>\n",
              "      <th>9304</th>\n",
              "      <td>NaN</td>\n",
              "      <td>5.1</td>\n",
              "      <td>mb</td>\n",
              "      <td>M 5.1 - 34km NW of Finschhafen, Papua New Guinea</td>\n",
              "      <td>1</td>\n",
              "      <td>earthquake</td>\n",
              "    </tr>\n",
              "  </tbody>\n",
              "</table>\n",
              "<p>61 rows × 6 columns</p>\n",
              "</div>"
            ],
            "text/plain": [
              "      alert  mag  ... tsunami        type\n",
              "36      NaN  5.0  ...       1  earthquake\n",
              "118   green  6.7  ...       1  earthquake\n",
              "501   green  5.6  ...       1  earthquake\n",
              "799   green  6.5  ...       1  earthquake\n",
              "816   green  6.2  ...       1  earthquake\n",
              "...     ...  ...  ...     ...         ...\n",
              "8561    NaN  5.4  ...       1  earthquake\n",
              "8624    NaN  5.1  ...       1  earthquake\n",
              "9133  green  5.1  ...       1  earthquake\n",
              "9175    NaN  5.2  ...       1  earthquake\n",
              "9304    NaN  5.1  ...       1  earthquake\n",
              "\n",
              "[61 rows x 6 columns]"
            ]
          },
          "metadata": {},
          "execution_count": 33
        }
      ]
    },
    {
      "cell_type": "markdown",
      "metadata": {
        "id": "tZscuWmK5TPz"
      },
      "source": [
        "Masks can be created from any criteria that results in a Boolean. For example, we can select all earthquakes with the string `Alaska` in the `place` column with a non-null value for the `alert` column. To get non-nulls, we can use the `isnull()` method with the bitwise negation operator (`~`) or the `notnull()` method:"
      ]
    },
    {
      "cell_type": "markdown",
      "metadata": {
        "id": "WYhF6Q0-B2E6"
      },
      "source": [
        "* 아래 보이는 코드가 location에서 helper function을 사용해서 선택해주는 방법이다."
      ]
    },
    {
      "cell_type": "code",
      "metadata": {
        "id": "Puc8eb3T5TPz",
        "colab": {
          "base_uri": "https://localhost:8080/",
          "height": 324
        },
        "outputId": "7da23dfa-9005-4c74-bfb7-ce58e8f67d8f"
      },
      "source": [
        "df.loc[\n",
        "    (df.place.str.contains('Alaska')) & (df.alert.notnull()),\n",
        "    ['alert', 'mag', 'magType', 'title', 'tsunami', 'type', 'place'] \n",
        "]"
      ],
      "execution_count": 35,
      "outputs": [
        {
          "output_type": "execute_result",
          "data": {
            "text/html": [
              "<div>\n",
              "<style scoped>\n",
              "    .dataframe tbody tr th:only-of-type {\n",
              "        vertical-align: middle;\n",
              "    }\n",
              "\n",
              "    .dataframe tbody tr th {\n",
              "        vertical-align: top;\n",
              "    }\n",
              "\n",
              "    .dataframe thead th {\n",
              "        text-align: right;\n",
              "    }\n",
              "</style>\n",
              "<table border=\"1\" class=\"dataframe\">\n",
              "  <thead>\n",
              "    <tr style=\"text-align: right;\">\n",
              "      <th></th>\n",
              "      <th>alert</th>\n",
              "      <th>mag</th>\n",
              "      <th>magType</th>\n",
              "      <th>title</th>\n",
              "      <th>tsunami</th>\n",
              "      <th>type</th>\n",
              "      <th>place</th>\n",
              "    </tr>\n",
              "  </thead>\n",
              "  <tbody>\n",
              "    <tr>\n",
              "      <th>1015</th>\n",
              "      <td>green</td>\n",
              "      <td>5.0</td>\n",
              "      <td>ml</td>\n",
              "      <td>M 5.0 - 61km SSW of Chignik Lake, Alaska</td>\n",
              "      <td>1</td>\n",
              "      <td>earthquake</td>\n",
              "      <td>61km SSW of Chignik Lake, Alaska</td>\n",
              "    </tr>\n",
              "    <tr>\n",
              "      <th>1273</th>\n",
              "      <td>green</td>\n",
              "      <td>4.0</td>\n",
              "      <td>ml</td>\n",
              "      <td>M 4.0 - 71km SW of Kaktovik, Alaska</td>\n",
              "      <td>1</td>\n",
              "      <td>earthquake</td>\n",
              "      <td>71km SW of Kaktovik, Alaska</td>\n",
              "    </tr>\n",
              "    <tr>\n",
              "      <th>1795</th>\n",
              "      <td>green</td>\n",
              "      <td>4.0</td>\n",
              "      <td>ml</td>\n",
              "      <td>M 4.0 - 60km WNW of Valdez, Alaska</td>\n",
              "      <td>1</td>\n",
              "      <td>earthquake</td>\n",
              "      <td>60km WNW of Valdez, Alaska</td>\n",
              "    </tr>\n",
              "    <tr>\n",
              "      <th>2752</th>\n",
              "      <td>green</td>\n",
              "      <td>4.0</td>\n",
              "      <td>ml</td>\n",
              "      <td>M 4.0 - 67km SSW of Kaktovik, Alaska</td>\n",
              "      <td>1</td>\n",
              "      <td>earthquake</td>\n",
              "      <td>67km SSW of Kaktovik, Alaska</td>\n",
              "    </tr>\n",
              "    <tr>\n",
              "      <th>3260</th>\n",
              "      <td>green</td>\n",
              "      <td>3.9</td>\n",
              "      <td>ml</td>\n",
              "      <td>M 3.9 - 44km N of North Nenana, Alaska</td>\n",
              "      <td>0</td>\n",
              "      <td>earthquake</td>\n",
              "      <td>44km N of North Nenana, Alaska</td>\n",
              "    </tr>\n",
              "    <tr>\n",
              "      <th>4101</th>\n",
              "      <td>green</td>\n",
              "      <td>4.2</td>\n",
              "      <td>ml</td>\n",
              "      <td>M 4.2 - 131km NNW of Arctic Village, Alaska</td>\n",
              "      <td>0</td>\n",
              "      <td>earthquake</td>\n",
              "      <td>131km NNW of Arctic Village, Alaska</td>\n",
              "    </tr>\n",
              "    <tr>\n",
              "      <th>6897</th>\n",
              "      <td>green</td>\n",
              "      <td>3.8</td>\n",
              "      <td>ml</td>\n",
              "      <td>M 3.8 - 80km SSW of Kaktovik, Alaska</td>\n",
              "      <td>0</td>\n",
              "      <td>earthquake</td>\n",
              "      <td>80km SSW of Kaktovik, Alaska</td>\n",
              "    </tr>\n",
              "    <tr>\n",
              "      <th>8524</th>\n",
              "      <td>green</td>\n",
              "      <td>3.8</td>\n",
              "      <td>ml</td>\n",
              "      <td>M 3.8 - 69km SSW of Kaktovik, Alaska</td>\n",
              "      <td>0</td>\n",
              "      <td>earthquake</td>\n",
              "      <td>69km SSW of Kaktovik, Alaska</td>\n",
              "    </tr>\n",
              "    <tr>\n",
              "      <th>9133</th>\n",
              "      <td>green</td>\n",
              "      <td>5.1</td>\n",
              "      <td>ml</td>\n",
              "      <td>M 5.1 - 64km SSW of Kaktovik, Alaska</td>\n",
              "      <td>1</td>\n",
              "      <td>earthquake</td>\n",
              "      <td>64km SSW of Kaktovik, Alaska</td>\n",
              "    </tr>\n",
              "  </tbody>\n",
              "</table>\n",
              "</div>"
            ],
            "text/plain": [
              "      alert  mag  ...        type                                place\n",
              "1015  green  5.0  ...  earthquake     61km SSW of Chignik Lake, Alaska\n",
              "1273  green  4.0  ...  earthquake          71km SW of Kaktovik, Alaska\n",
              "1795  green  4.0  ...  earthquake           60km WNW of Valdez, Alaska\n",
              "2752  green  4.0  ...  earthquake         67km SSW of Kaktovik, Alaska\n",
              "3260  green  3.9  ...  earthquake       44km N of North Nenana, Alaska\n",
              "4101  green  4.2  ...  earthquake  131km NNW of Arctic Village, Alaska\n",
              "6897  green  3.8  ...  earthquake         80km SSW of Kaktovik, Alaska\n",
              "8524  green  3.8  ...  earthquake         69km SSW of Kaktovik, Alaska\n",
              "9133  green  5.1  ...  earthquake         64km SSW of Kaktovik, Alaska\n",
              "\n",
              "[9 rows x 7 columns]"
            ]
          },
          "metadata": {},
          "execution_count": 35
        }
      ]
    },
    {
      "cell_type": "markdown",
      "metadata": {
        "id": "-l_v4oDzBoHi"
      },
      "source": [
        "* 여기에서는 df에서 place에서 str을 사용하고 conatins을 사용해서 Alaska인 것을 선택해준다.\n",
        "* 그리고 df에서 alert에서 notnull을 사용해서 값이 비어있지 않은 것들을 뽑아내준다."
      ]
    },
    {
      "cell_type": "markdown",
      "metadata": {
        "id": "Yr7qmjKz5TPz"
      },
      "source": [
        "We can even use regular expressions here:"
      ]
    },
    {
      "cell_type": "code",
      "metadata": {
        "id": "syJmlJRF5TP0",
        "colab": {
          "base_uri": "https://localhost:8080/",
          "height": 110
        },
        "outputId": "24f21a46-f068-4418-9e01-69af99702846"
      },
      "source": [
        "df.loc[\n",
        "    (df.place.str.contains(r'CA|California$')) & (df.mag > 3.8),\n",
        "    ['alert', 'mag', 'magType', 'title', 'tsunami', 'type','place']\n",
        "]"
      ],
      "execution_count": 36,
      "outputs": [
        {
          "output_type": "execute_result",
          "data": {
            "text/html": [
              "<div>\n",
              "<style scoped>\n",
              "    .dataframe tbody tr th:only-of-type {\n",
              "        vertical-align: middle;\n",
              "    }\n",
              "\n",
              "    .dataframe tbody tr th {\n",
              "        vertical-align: top;\n",
              "    }\n",
              "\n",
              "    .dataframe thead th {\n",
              "        text-align: right;\n",
              "    }\n",
              "</style>\n",
              "<table border=\"1\" class=\"dataframe\">\n",
              "  <thead>\n",
              "    <tr style=\"text-align: right;\">\n",
              "      <th></th>\n",
              "      <th>alert</th>\n",
              "      <th>mag</th>\n",
              "      <th>magType</th>\n",
              "      <th>title</th>\n",
              "      <th>tsunami</th>\n",
              "      <th>type</th>\n",
              "      <th>place</th>\n",
              "    </tr>\n",
              "  </thead>\n",
              "  <tbody>\n",
              "    <tr>\n",
              "      <th>1465</th>\n",
              "      <td>green</td>\n",
              "      <td>3.83</td>\n",
              "      <td>mw</td>\n",
              "      <td>M 3.8 - 109km WNW of Trinidad, CA</td>\n",
              "      <td>0</td>\n",
              "      <td>earthquake</td>\n",
              "      <td>109km WNW of Trinidad, CA</td>\n",
              "    </tr>\n",
              "    <tr>\n",
              "      <th>2414</th>\n",
              "      <td>green</td>\n",
              "      <td>3.83</td>\n",
              "      <td>mw</td>\n",
              "      <td>M 3.8 - 5km SW of Tres Pinos, CA</td>\n",
              "      <td>1</td>\n",
              "      <td>earthquake</td>\n",
              "      <td>5km SW of Tres Pinos, CA</td>\n",
              "    </tr>\n",
              "  </tbody>\n",
              "</table>\n",
              "</div>"
            ],
            "text/plain": [
              "      alert   mag magType  ... tsunami        type                      place\n",
              "1465  green  3.83      mw  ...       0  earthquake  109km WNW of Trinidad, CA\n",
              "2414  green  3.83      mw  ...       1  earthquake   5km SW of Tres Pinos, CA\n",
              "\n",
              "[2 rows x 7 columns]"
            ]
          },
          "metadata": {},
          "execution_count": 36
        }
      ]
    },
    {
      "cell_type": "markdown",
      "metadata": {
        "id": "1mjESrvgCXpW"
      },
      "source": [
        "* string patten을 사용해 줄 때는 regular expression을 사용해 주어야 한다.\n",
        "* r이 regular expression을 의미하고 $이게 마지막 인것을 나타 낸다. 그래서 마지막이 CA든지 California인것을 출력해준다."
      ]
    },
    {
      "cell_type": "markdown",
      "metadata": {
        "id": "vMbiMDhO5TP0"
      },
      "source": [
        "We can use the `between()` method to turn 2 individual checks (is less than or equal to some maximum value and is greater than or equal to some minimum value) into a single one. Note this is inclusive of the endpoint by default:"
      ]
    },
    {
      "cell_type": "code",
      "metadata": {
        "id": "nke20EFZ5TP0",
        "colab": {
          "base_uri": "https://localhost:8080/",
          "height": 202
        },
        "outputId": "a4431025-596d-43b1-a1bb-d6fb28149317"
      },
      "source": [
        "df.loc[\n",
        "    df.mag.between(6.5, 7.5),  #여기에서는 mag가 6.5에서 7.5사이 인것을 출력해준다.\n",
        "    ['alert', 'mag', 'magType', 'title', 'tsunami', 'type']\n",
        "]"
      ],
      "execution_count": 37,
      "outputs": [
        {
          "output_type": "execute_result",
          "data": {
            "text/html": [
              "<div>\n",
              "<style scoped>\n",
              "    .dataframe tbody tr th:only-of-type {\n",
              "        vertical-align: middle;\n",
              "    }\n",
              "\n",
              "    .dataframe tbody tr th {\n",
              "        vertical-align: top;\n",
              "    }\n",
              "\n",
              "    .dataframe thead th {\n",
              "        text-align: right;\n",
              "    }\n",
              "</style>\n",
              "<table border=\"1\" class=\"dataframe\">\n",
              "  <thead>\n",
              "    <tr style=\"text-align: right;\">\n",
              "      <th></th>\n",
              "      <th>alert</th>\n",
              "      <th>mag</th>\n",
              "      <th>magType</th>\n",
              "      <th>title</th>\n",
              "      <th>tsunami</th>\n",
              "      <th>type</th>\n",
              "    </tr>\n",
              "  </thead>\n",
              "  <tbody>\n",
              "    <tr>\n",
              "      <th>118</th>\n",
              "      <td>green</td>\n",
              "      <td>6.7</td>\n",
              "      <td>mww</td>\n",
              "      <td>M 6.7 - 262km NW of Ozernovskiy, Russia</td>\n",
              "      <td>1</td>\n",
              "      <td>earthquake</td>\n",
              "    </tr>\n",
              "    <tr>\n",
              "      <th>799</th>\n",
              "      <td>green</td>\n",
              "      <td>6.5</td>\n",
              "      <td>mww</td>\n",
              "      <td>M 6.5 - 148km S of Severo-Kuril'sk, Russia</td>\n",
              "      <td>1</td>\n",
              "      <td>earthquake</td>\n",
              "    </tr>\n",
              "    <tr>\n",
              "      <th>837</th>\n",
              "      <td>green</td>\n",
              "      <td>7.0</td>\n",
              "      <td>mww</td>\n",
              "      <td>M 7.0 - 117km E of Kimbe, Papua New Guinea</td>\n",
              "      <td>1</td>\n",
              "      <td>earthquake</td>\n",
              "    </tr>\n",
              "    <tr>\n",
              "      <th>4363</th>\n",
              "      <td>green</td>\n",
              "      <td>6.7</td>\n",
              "      <td>mww</td>\n",
              "      <td>M 6.7 - 263km NNE of Ndoi Island, Fiji</td>\n",
              "      <td>1</td>\n",
              "      <td>earthquake</td>\n",
              "    </tr>\n",
              "    <tr>\n",
              "      <th>5263</th>\n",
              "      <td>red</td>\n",
              "      <td>7.5</td>\n",
              "      <td>mww</td>\n",
              "      <td>M 7.5 - 78km N of Palu, Indonesia</td>\n",
              "      <td>1</td>\n",
              "      <td>earthquake</td>\n",
              "    </tr>\n",
              "  </tbody>\n",
              "</table>\n",
              "</div>"
            ],
            "text/plain": [
              "      alert  mag  ... tsunami        type\n",
              "118   green  6.7  ...       1  earthquake\n",
              "799   green  6.5  ...       1  earthquake\n",
              "837   green  7.0  ...       1  earthquake\n",
              "4363  green  6.7  ...       1  earthquake\n",
              "5263    red  7.5  ...       1  earthquake\n",
              "\n",
              "[5 rows x 6 columns]"
            ]
          },
          "metadata": {},
          "execution_count": 37
        }
      ]
    },
    {
      "cell_type": "markdown",
      "metadata": {
        "id": "F-IBRtOq5TP0"
      },
      "source": [
        "We can use the `isin()` method to check for membership in a list of values:"
      ]
    },
    {
      "cell_type": "code",
      "metadata": {
        "id": "01BTCoHd5TP1",
        "outputId": "35e5df76-6e18-49d5-fc2b-84f1440ffcbc",
        "colab": {
          "base_uri": "https://localhost:8080/",
          "height": 232
        }
      },
      "source": [
        "df.loc[\n",
        "    df.magType.isin(['mw', 'mwb']),  #isin은 여러가지 함수가 동시에 뽑히는 것을 보고 싶을 때 사용해준다.\n",
        "    ['alert', 'mag', 'magType', 'title', 'tsunami', 'type']\n",
        "]"
      ],
      "execution_count": 38,
      "outputs": [
        {
          "output_type": "execute_result",
          "data": {
            "text/html": [
              "<div>\n",
              "<style scoped>\n",
              "    .dataframe tbody tr th:only-of-type {\n",
              "        vertical-align: middle;\n",
              "    }\n",
              "\n",
              "    .dataframe tbody tr th {\n",
              "        vertical-align: top;\n",
              "    }\n",
              "\n",
              "    .dataframe thead th {\n",
              "        text-align: right;\n",
              "    }\n",
              "</style>\n",
              "<table border=\"1\" class=\"dataframe\">\n",
              "  <thead>\n",
              "    <tr style=\"text-align: right;\">\n",
              "      <th></th>\n",
              "      <th>alert</th>\n",
              "      <th>mag</th>\n",
              "      <th>magType</th>\n",
              "      <th>title</th>\n",
              "      <th>tsunami</th>\n",
              "      <th>type</th>\n",
              "    </tr>\n",
              "  </thead>\n",
              "  <tbody>\n",
              "    <tr>\n",
              "      <th>995</th>\n",
              "      <td>NaN</td>\n",
              "      <td>3.35</td>\n",
              "      <td>mw</td>\n",
              "      <td>M 3.4 - 9km WNW of Cobb, CA</td>\n",
              "      <td>0</td>\n",
              "      <td>earthquake</td>\n",
              "    </tr>\n",
              "    <tr>\n",
              "      <th>1465</th>\n",
              "      <td>green</td>\n",
              "      <td>3.83</td>\n",
              "      <td>mw</td>\n",
              "      <td>M 3.8 - 109km WNW of Trinidad, CA</td>\n",
              "      <td>0</td>\n",
              "      <td>earthquake</td>\n",
              "    </tr>\n",
              "    <tr>\n",
              "      <th>2414</th>\n",
              "      <td>green</td>\n",
              "      <td>3.83</td>\n",
              "      <td>mw</td>\n",
              "      <td>M 3.8 - 5km SW of Tres Pinos, CA</td>\n",
              "      <td>1</td>\n",
              "      <td>earthquake</td>\n",
              "    </tr>\n",
              "    <tr>\n",
              "      <th>4988</th>\n",
              "      <td>green</td>\n",
              "      <td>4.41</td>\n",
              "      <td>mw</td>\n",
              "      <td>M 4.4 - 1km SE of Delta, B.C., MX</td>\n",
              "      <td>1</td>\n",
              "      <td>earthquake</td>\n",
              "    </tr>\n",
              "    <tr>\n",
              "      <th>6307</th>\n",
              "      <td>green</td>\n",
              "      <td>5.80</td>\n",
              "      <td>mwb</td>\n",
              "      <td>M 5.8 - 297km NNE of Ndoi Island, Fiji</td>\n",
              "      <td>0</td>\n",
              "      <td>earthquake</td>\n",
              "    </tr>\n",
              "    <tr>\n",
              "      <th>8257</th>\n",
              "      <td>green</td>\n",
              "      <td>5.70</td>\n",
              "      <td>mwb</td>\n",
              "      <td>M 5.7 - 175km SSE of Lambasa, Fiji</td>\n",
              "      <td>0</td>\n",
              "      <td>earthquake</td>\n",
              "    </tr>\n",
              "  </tbody>\n",
              "</table>\n",
              "</div>"
            ],
            "text/plain": [
              "      alert   mag  ... tsunami        type\n",
              "995     NaN  3.35  ...       0  earthquake\n",
              "1465  green  3.83  ...       0  earthquake\n",
              "2414  green  3.83  ...       1  earthquake\n",
              "4988  green  4.41  ...       1  earthquake\n",
              "6307  green  5.80  ...       0  earthquake\n",
              "8257  green  5.70  ...       0  earthquake\n",
              "\n",
              "[6 rows x 6 columns]"
            ]
          },
          "metadata": {},
          "execution_count": 38
        }
      ]
    },
    {
      "cell_type": "markdown",
      "metadata": {
        "id": "2v3-vgAD5TP1"
      },
      "source": [
        "We can grab the index of the minimum and maximum values of a given column and use those to select the entire row where they occur:"
      ]
    },
    {
      "cell_type": "markdown",
      "metadata": {
        "id": "GdvPZlFrDXyj"
      },
      "source": [
        "* index object에서 idxmin이랑 idxmax를 이용하는 방법이다."
      ]
    },
    {
      "cell_type": "code",
      "metadata": {
        "id": "y79-iXJi5TP1",
        "outputId": "ffd168e0-4259-49cf-ebda-0c8b2c861f8f",
        "colab": {
          "base_uri": "https://localhost:8080/"
        }
      },
      "source": [
        "[df.mag.idxmin(), df.mag.idxmax()]"
      ],
      "execution_count": 39,
      "outputs": [
        {
          "output_type": "execute_result",
          "data": {
            "text/plain": [
              "[2409, 5263]"
            ]
          },
          "metadata": {},
          "execution_count": 39
        }
      ]
    },
    {
      "cell_type": "markdown",
      "metadata": {
        "id": "CD46VlC5DgNr"
      },
      "source": [
        "* mag의 minmum값을 return해주는 거랑 mag의 maximum값을 return해주는 것을 출력해준다."
      ]
    },
    {
      "cell_type": "code",
      "metadata": {
        "id": "VP95HhAj5TP1",
        "colab": {
          "base_uri": "https://localhost:8080/",
          "height": 110
        },
        "outputId": "a57a3ce3-6e2c-4594-8bf6-acb989074493"
      },
      "source": [
        "df.loc[\n",
        "    [df.mag.idxmin(), df.mag.idxmax()],\n",
        "    ['alert', 'mag', 'magType', 'title', 'tsunami', 'type']\n",
        "]"
      ],
      "execution_count": 40,
      "outputs": [
        {
          "output_type": "execute_result",
          "data": {
            "text/html": [
              "<div>\n",
              "<style scoped>\n",
              "    .dataframe tbody tr th:only-of-type {\n",
              "        vertical-align: middle;\n",
              "    }\n",
              "\n",
              "    .dataframe tbody tr th {\n",
              "        vertical-align: top;\n",
              "    }\n",
              "\n",
              "    .dataframe thead th {\n",
              "        text-align: right;\n",
              "    }\n",
              "</style>\n",
              "<table border=\"1\" class=\"dataframe\">\n",
              "  <thead>\n",
              "    <tr style=\"text-align: right;\">\n",
              "      <th></th>\n",
              "      <th>alert</th>\n",
              "      <th>mag</th>\n",
              "      <th>magType</th>\n",
              "      <th>title</th>\n",
              "      <th>tsunami</th>\n",
              "      <th>type</th>\n",
              "    </tr>\n",
              "  </thead>\n",
              "  <tbody>\n",
              "    <tr>\n",
              "      <th>2409</th>\n",
              "      <td>NaN</td>\n",
              "      <td>-1.26</td>\n",
              "      <td>ml</td>\n",
              "      <td>M -1.3 - 41km ENE of Adak, Alaska</td>\n",
              "      <td>0</td>\n",
              "      <td>earthquake</td>\n",
              "    </tr>\n",
              "    <tr>\n",
              "      <th>5263</th>\n",
              "      <td>red</td>\n",
              "      <td>7.50</td>\n",
              "      <td>mww</td>\n",
              "      <td>M 7.5 - 78km N of Palu, Indonesia</td>\n",
              "      <td>1</td>\n",
              "      <td>earthquake</td>\n",
              "    </tr>\n",
              "  </tbody>\n",
              "</table>\n",
              "</div>"
            ],
            "text/plain": [
              "     alert   mag  ... tsunami        type\n",
              "2409   NaN -1.26  ...       0  earthquake\n",
              "5263   red  7.50  ...       1  earthquake\n",
              "\n",
              "[2 rows x 6 columns]"
            ]
          },
          "metadata": {},
          "execution_count": 40
        }
      ]
    },
    {
      "cell_type": "markdown",
      "metadata": {
        "id": "u06tNO7f5TP1"
      },
      "source": [
        "Note that there is a `filter()` method, but it doesn't filter the data in the same sense as we discussed in this section. Here are a few things you can do with this method.\n",
        "\n",
        "- grab columns of a dataframe by passing a list to `items`:"
      ]
    },
    {
      "cell_type": "markdown",
      "metadata": {
        "id": "_l6nFn3mDxDa"
      },
      "source": [
        "### **이러한 filter를 사용하는 방법도 있는데 관심있는 학생들은 살펴봐 달라고 교수님이 말씀하심.**"
      ]
    },
    {
      "cell_type": "code",
      "metadata": {
        "id": "0Evmwplr5TP1",
        "outputId": "e9e1e0de-11fc-4bdb-ba77-625966beffd1",
        "colab": {
          "base_uri": "https://localhost:8080/",
          "height": 202
        }
      },
      "source": [
        "df.filter(items=['mag', 'magType']).head()"
      ],
      "execution_count": 41,
      "outputs": [
        {
          "output_type": "execute_result",
          "data": {
            "text/html": [
              "<div>\n",
              "<style scoped>\n",
              "    .dataframe tbody tr th:only-of-type {\n",
              "        vertical-align: middle;\n",
              "    }\n",
              "\n",
              "    .dataframe tbody tr th {\n",
              "        vertical-align: top;\n",
              "    }\n",
              "\n",
              "    .dataframe thead th {\n",
              "        text-align: right;\n",
              "    }\n",
              "</style>\n",
              "<table border=\"1\" class=\"dataframe\">\n",
              "  <thead>\n",
              "    <tr style=\"text-align: right;\">\n",
              "      <th></th>\n",
              "      <th>mag</th>\n",
              "      <th>magType</th>\n",
              "    </tr>\n",
              "  </thead>\n",
              "  <tbody>\n",
              "    <tr>\n",
              "      <th>0</th>\n",
              "      <td>1.35</td>\n",
              "      <td>ml</td>\n",
              "    </tr>\n",
              "    <tr>\n",
              "      <th>1</th>\n",
              "      <td>1.29</td>\n",
              "      <td>ml</td>\n",
              "    </tr>\n",
              "    <tr>\n",
              "      <th>2</th>\n",
              "      <td>3.42</td>\n",
              "      <td>ml</td>\n",
              "    </tr>\n",
              "    <tr>\n",
              "      <th>3</th>\n",
              "      <td>0.44</td>\n",
              "      <td>ml</td>\n",
              "    </tr>\n",
              "    <tr>\n",
              "      <th>4</th>\n",
              "      <td>2.16</td>\n",
              "      <td>md</td>\n",
              "    </tr>\n",
              "  </tbody>\n",
              "</table>\n",
              "</div>"
            ],
            "text/plain": [
              "    mag magType\n",
              "0  1.35      ml\n",
              "1  1.29      ml\n",
              "2  3.42      ml\n",
              "3  0.44      ml\n",
              "4  2.16      md"
            ]
          },
          "metadata": {},
          "execution_count": 41
        }
      ]
    },
    {
      "cell_type": "markdown",
      "metadata": {
        "id": "HCs2eFSN5TP5"
      },
      "source": [
        "- grab all the columns that contain a string with the `like` parameter:"
      ]
    },
    {
      "cell_type": "code",
      "metadata": {
        "id": "_3V9ltH05TP5",
        "outputId": "2e4567b4-73e5-4c7a-fc26-a4b34633ae17",
        "colab": {
          "base_uri": "https://localhost:8080/",
          "height": 202
        }
      },
      "source": [
        "df.filter(like='mag').head()"
      ],
      "execution_count": 42,
      "outputs": [
        {
          "output_type": "execute_result",
          "data": {
            "text/html": [
              "<div>\n",
              "<style scoped>\n",
              "    .dataframe tbody tr th:only-of-type {\n",
              "        vertical-align: middle;\n",
              "    }\n",
              "\n",
              "    .dataframe tbody tr th {\n",
              "        vertical-align: top;\n",
              "    }\n",
              "\n",
              "    .dataframe thead th {\n",
              "        text-align: right;\n",
              "    }\n",
              "</style>\n",
              "<table border=\"1\" class=\"dataframe\">\n",
              "  <thead>\n",
              "    <tr style=\"text-align: right;\">\n",
              "      <th></th>\n",
              "      <th>mag</th>\n",
              "      <th>magType</th>\n",
              "    </tr>\n",
              "  </thead>\n",
              "  <tbody>\n",
              "    <tr>\n",
              "      <th>0</th>\n",
              "      <td>1.35</td>\n",
              "      <td>ml</td>\n",
              "    </tr>\n",
              "    <tr>\n",
              "      <th>1</th>\n",
              "      <td>1.29</td>\n",
              "      <td>ml</td>\n",
              "    </tr>\n",
              "    <tr>\n",
              "      <th>2</th>\n",
              "      <td>3.42</td>\n",
              "      <td>ml</td>\n",
              "    </tr>\n",
              "    <tr>\n",
              "      <th>3</th>\n",
              "      <td>0.44</td>\n",
              "      <td>ml</td>\n",
              "    </tr>\n",
              "    <tr>\n",
              "      <th>4</th>\n",
              "      <td>2.16</td>\n",
              "      <td>md</td>\n",
              "    </tr>\n",
              "  </tbody>\n",
              "</table>\n",
              "</div>"
            ],
            "text/plain": [
              "    mag magType\n",
              "0  1.35      ml\n",
              "1  1.29      ml\n",
              "2  3.42      ml\n",
              "3  0.44      ml\n",
              "4  2.16      md"
            ]
          },
          "metadata": {},
          "execution_count": 42
        }
      ]
    },
    {
      "cell_type": "markdown",
      "metadata": {
        "id": "9nrjmHCd5TP5"
      },
      "source": [
        "- use regular expressions; here, we select any columns that start with `t`:"
      ]
    },
    {
      "cell_type": "code",
      "metadata": {
        "id": "EUYR0OX_5TP5",
        "outputId": "de62d59f-a94a-4ec1-e56d-780810bafa82",
        "colab": {
          "base_uri": "https://localhost:8080/",
          "height": 202
        }
      },
      "source": [
        "df.filter(regex=r'^t').head()"
      ],
      "execution_count": 43,
      "outputs": [
        {
          "output_type": "execute_result",
          "data": {
            "text/html": [
              "<div>\n",
              "<style scoped>\n",
              "    .dataframe tbody tr th:only-of-type {\n",
              "        vertical-align: middle;\n",
              "    }\n",
              "\n",
              "    .dataframe tbody tr th {\n",
              "        vertical-align: top;\n",
              "    }\n",
              "\n",
              "    .dataframe thead th {\n",
              "        text-align: right;\n",
              "    }\n",
              "</style>\n",
              "<table border=\"1\" class=\"dataframe\">\n",
              "  <thead>\n",
              "    <tr style=\"text-align: right;\">\n",
              "      <th></th>\n",
              "      <th>time</th>\n",
              "      <th>title</th>\n",
              "      <th>tsunami</th>\n",
              "      <th>type</th>\n",
              "      <th>types</th>\n",
              "      <th>tz</th>\n",
              "    </tr>\n",
              "  </thead>\n",
              "  <tbody>\n",
              "    <tr>\n",
              "      <th>0</th>\n",
              "      <td>1539475168010</td>\n",
              "      <td>M 1.4 - 9km NE of Aguanga, CA</td>\n",
              "      <td>0</td>\n",
              "      <td>earthquake</td>\n",
              "      <td>,geoserve,nearby-cities,origin,phase-data,</td>\n",
              "      <td>-480.0</td>\n",
              "    </tr>\n",
              "    <tr>\n",
              "      <th>1</th>\n",
              "      <td>1539475129610</td>\n",
              "      <td>M 1.3 - 9km NE of Aguanga, CA</td>\n",
              "      <td>0</td>\n",
              "      <td>earthquake</td>\n",
              "      <td>,geoserve,nearby-cities,origin,phase-data,</td>\n",
              "      <td>-480.0</td>\n",
              "    </tr>\n",
              "    <tr>\n",
              "      <th>2</th>\n",
              "      <td>1539475062610</td>\n",
              "      <td>M 3.4 - 8km NE of Aguanga, CA</td>\n",
              "      <td>0</td>\n",
              "      <td>earthquake</td>\n",
              "      <td>,dyfi,focal-mechanism,geoserve,nearby-cities,o...</td>\n",
              "      <td>-480.0</td>\n",
              "    </tr>\n",
              "    <tr>\n",
              "      <th>3</th>\n",
              "      <td>1539474978070</td>\n",
              "      <td>M 0.4 - 9km NE of Aguanga, CA</td>\n",
              "      <td>0</td>\n",
              "      <td>earthquake</td>\n",
              "      <td>,geoserve,nearby-cities,origin,phase-data,</td>\n",
              "      <td>-480.0</td>\n",
              "    </tr>\n",
              "    <tr>\n",
              "      <th>4</th>\n",
              "      <td>1539474716050</td>\n",
              "      <td>M 2.2 - 10km NW of Avenal, CA</td>\n",
              "      <td>0</td>\n",
              "      <td>earthquake</td>\n",
              "      <td>,geoserve,nearby-cities,origin,phase-data,scit...</td>\n",
              "      <td>-480.0</td>\n",
              "    </tr>\n",
              "  </tbody>\n",
              "</table>\n",
              "</div>"
            ],
            "text/plain": [
              "            time  ...     tz\n",
              "0  1539475168010  ... -480.0\n",
              "1  1539475129610  ... -480.0\n",
              "2  1539475062610  ... -480.0\n",
              "3  1539474978070  ... -480.0\n",
              "4  1539474716050  ... -480.0\n",
              "\n",
              "[5 rows x 6 columns]"
            ]
          },
          "metadata": {},
          "execution_count": 43
        }
      ]
    },
    {
      "cell_type": "markdown",
      "metadata": {
        "id": "cxHvu4s45TP5"
      },
      "source": [
        "- use `filter()` along the rows, by passing in `axis=0`. Here, we will use the `place` column as the index (we will cover `set_index()` in chapter 3):"
      ]
    },
    {
      "cell_type": "code",
      "metadata": {
        "id": "e7ozYkTz5TP5",
        "outputId": "3a46ec3d-35f2-4fa6-a38b-b9710575346e",
        "colab": {
          "base_uri": "https://localhost:8080/",
          "height": 232
        }
      },
      "source": [
        "df.set_index('place').filter(like='Japan', axis=0).filter(items=['mag', 'magType', 'title']).head()"
      ],
      "execution_count": 44,
      "outputs": [
        {
          "output_type": "execute_result",
          "data": {
            "text/html": [
              "<div>\n",
              "<style scoped>\n",
              "    .dataframe tbody tr th:only-of-type {\n",
              "        vertical-align: middle;\n",
              "    }\n",
              "\n",
              "    .dataframe tbody tr th {\n",
              "        vertical-align: top;\n",
              "    }\n",
              "\n",
              "    .dataframe thead th {\n",
              "        text-align: right;\n",
              "    }\n",
              "</style>\n",
              "<table border=\"1\" class=\"dataframe\">\n",
              "  <thead>\n",
              "    <tr style=\"text-align: right;\">\n",
              "      <th></th>\n",
              "      <th>mag</th>\n",
              "      <th>magType</th>\n",
              "      <th>title</th>\n",
              "    </tr>\n",
              "    <tr>\n",
              "      <th>place</th>\n",
              "      <th></th>\n",
              "      <th></th>\n",
              "      <th></th>\n",
              "    </tr>\n",
              "  </thead>\n",
              "  <tbody>\n",
              "    <tr>\n",
              "      <th>160km NNW of Nago, Japan</th>\n",
              "      <td>4.6</td>\n",
              "      <td>mb</td>\n",
              "      <td>M 4.6 - 160km NNW of Nago, Japan</td>\n",
              "    </tr>\n",
              "    <tr>\n",
              "      <th>7km ESE of Asahi, Japan</th>\n",
              "      <td>5.2</td>\n",
              "      <td>mww</td>\n",
              "      <td>M 5.2 - 7km ESE of Asahi, Japan</td>\n",
              "    </tr>\n",
              "    <tr>\n",
              "      <th>14km E of Tomakomai, Japan</th>\n",
              "      <td>4.5</td>\n",
              "      <td>mwr</td>\n",
              "      <td>M 4.5 - 14km E of Tomakomai, Japan</td>\n",
              "    </tr>\n",
              "    <tr>\n",
              "      <th>139km WSW of Naze, Japan</th>\n",
              "      <td>4.7</td>\n",
              "      <td>mb</td>\n",
              "      <td>M 4.7 - 139km WSW of Naze, Japan</td>\n",
              "    </tr>\n",
              "    <tr>\n",
              "      <th>53km ESE of Kamaishi, Japan</th>\n",
              "      <td>4.6</td>\n",
              "      <td>mb</td>\n",
              "      <td>M 4.6 - 53km ESE of Kamaishi, Japan</td>\n",
              "    </tr>\n",
              "  </tbody>\n",
              "</table>\n",
              "</div>"
            ],
            "text/plain": [
              "                             mag magType                                title\n",
              "place                                                                        \n",
              "160km NNW of Nago, Japan     4.6      mb     M 4.6 - 160km NNW of Nago, Japan\n",
              "7km ESE of Asahi, Japan      5.2     mww      M 5.2 - 7km ESE of Asahi, Japan\n",
              "14km E of Tomakomai, Japan   4.5     mwr   M 4.5 - 14km E of Tomakomai, Japan\n",
              "139km WSW of Naze, Japan     4.7      mb     M 4.7 - 139km WSW of Naze, Japan\n",
              "53km ESE of Kamaishi, Japan  4.6      mb  M 4.6 - 53km ESE of Kamaishi, Japan"
            ]
          },
          "metadata": {},
          "execution_count": 44
        }
      ]
    },
    {
      "cell_type": "markdown",
      "metadata": {
        "id": "Wm6uYTWQ5TP6"
      },
      "source": [
        "This also works on `Series` objects and will run on the index:"
      ]
    },
    {
      "cell_type": "code",
      "metadata": {
        "id": "n5vWCBLY5TP6",
        "outputId": "8e2a7f8e-9abf-4d87-f8a2-68027060517a",
        "colab": {
          "base_uri": "https://localhost:8080/"
        }
      },
      "source": [
        "df.set_index('place').title.filter(like='Japan').head()"
      ],
      "execution_count": 45,
      "outputs": [
        {
          "output_type": "execute_result",
          "data": {
            "text/plain": [
              "place\n",
              "160km NNW of Nago, Japan          M 4.6 - 160km NNW of Nago, Japan\n",
              "7km ESE of Asahi, Japan            M 5.2 - 7km ESE of Asahi, Japan\n",
              "14km E of Tomakomai, Japan      M 4.5 - 14km E of Tomakomai, Japan\n",
              "139km WSW of Naze, Japan          M 4.7 - 139km WSW of Naze, Japan\n",
              "53km ESE of Kamaishi, Japan    M 4.6 - 53km ESE of Kamaishi, Japan\n",
              "Name: title, dtype: object"
            ]
          },
          "metadata": {},
          "execution_count": 45
        }
      ]
    },
    {
      "cell_type": "markdown",
      "metadata": {
        "id": "6cC_dGMo5TP6"
      },
      "source": [
        "<hr>\n",
        "<div>\n",
        "    <a href=\"./4-inspecting_dataframes.ipynb\">\n",
        "        <button style=\"float: left;\">&#8592; Previous Notebook</button>\n",
        "    </a>\n",
        "    <a href=\"./6-adding_and_removing_data.ipynb\">\n",
        "        <button style=\"float: right;\">Next Notebook &#8594;</button>\n",
        "    </a>\n",
        "</div>\n",
        "<br>\n",
        "<hr>"
      ]
    }
  ]
}
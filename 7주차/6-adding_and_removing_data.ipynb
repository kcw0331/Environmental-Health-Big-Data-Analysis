{
  "nbformat": 4,
  "nbformat_minor": 0,
  "metadata": {
    "kernelspec": {
      "display_name": "Python 3",
      "language": "python",
      "name": "python3"
    },
    "language_info": {
      "codemirror_mode": {
        "name": "ipython",
        "version": 3
      },
      "file_extension": ".py",
      "mimetype": "text/x-python",
      "name": "python",
      "nbconvert_exporter": "python",
      "pygments_lexer": "ipython3",
      "version": "3.7.3"
    },
    "colab": {
      "name": "6-adding_and_removing_data.ipynb",
      "provenance": [],
      "include_colab_link": true
    }
  },
  "cells": [
    {
      "cell_type": "markdown",
      "metadata": {
        "id": "view-in-github",
        "colab_type": "text"
      },
      "source": [
        "<a href=\"https://colab.research.google.com/github/kcw0331/Environmental-Health-Big-Data-Analysis/blob/main/7%EC%A3%BC%EC%B0%A8/6-adding_and_removing_data.ipynb\" target=\"_parent\"><img src=\"https://colab.research.google.com/assets/colab-badge.svg\" alt=\"Open In Colab\"/></a>"
      ]
    },
    {
      "cell_type": "markdown",
      "metadata": {
        "id": "s5N9D92-Bmca"
      },
      "source": [
        "# Adding and Removing Data\n",
        "\n",
        "## About the Data\n",
        "In this notebook, we will be working with earthquake data from September 18, 2018 - October 13, 2018 (obtained from the US Geological Survey (USGS) using the [USGS API](https://earthquake.usgs.gov/fdsnws/event/1/))\n",
        "\n",
        "## Setup\n",
        "We will be working with the `data/earthquakes.csv` file again, so we need to handle our imports and read it in."
      ]
    },
    {
      "cell_type": "code",
      "metadata": {
        "id": "wkajjP7yBofx",
        "colab": {
          "base_uri": "https://localhost:8080/"
        },
        "outputId": "7b2ea8d2-b366-47fb-a460-34b1090cb608"
      },
      "source": [
        "from google.colab import drive\n",
        "drive.mount('/content/drive')"
      ],
      "execution_count": 1,
      "outputs": [
        {
          "output_type": "stream",
          "name": "stdout",
          "text": [
            "Mounted at /content/drive\n"
          ]
        }
      ]
    },
    {
      "cell_type": "code",
      "metadata": {
        "id": "6BcTbls3Bvyy",
        "colab": {
          "base_uri": "https://localhost:8080/"
        },
        "outputId": "e04f90ca-7cde-4438-e599-aa514a07da20"
      },
      "source": [
        "cd /content/drive/MyDrive/Hands-On-Data-Analysis-with-Pandas-2nd-edition/ch_02"
      ],
      "execution_count": 2,
      "outputs": [
        {
          "output_type": "stream",
          "name": "stdout",
          "text": [
            "/content/drive/MyDrive/Hands-On-Data-Analysis-with-Pandas-2nd-edition/ch_02\n"
          ]
        }
      ]
    },
    {
      "cell_type": "code",
      "metadata": {
        "id": "5jyMr3gABmcd"
      },
      "source": [
        "import pandas as pd\n",
        "\n",
        "df = pd.read_csv(\n",
        "    'data/earthquakes.csv', \n",
        "    usecols=['time', 'title', 'place', 'magType', 'mag', 'alert', 'tsunami']\n",
        ")"
      ],
      "execution_count": 3,
      "outputs": []
    },
    {
      "cell_type": "markdown",
      "metadata": {
        "id": "I5O1ss3BBmce"
      },
      "source": [
        "## Creating new data\n",
        "### Adding new columns\n",
        "New columns get added to the right of the original columns and can be a single value, which will be **broadcast** along the rows of the dataframe:"
      ]
    },
    {
      "cell_type": "code",
      "metadata": {
        "id": "7nV2_WL8Bmce",
        "colab": {
          "base_uri": "https://localhost:8080/",
          "height": 204
        },
        "outputId": "d3a57ee3-69c5-434e-d8dd-152a1810be5f"
      },
      "source": [
        "df['source'] = 'USGS API'\n",
        "df.head()"
      ],
      "execution_count": 4,
      "outputs": [
        {
          "output_type": "execute_result",
          "data": {
            "text/html": [
              "<div>\n",
              "<style scoped>\n",
              "    .dataframe tbody tr th:only-of-type {\n",
              "        vertical-align: middle;\n",
              "    }\n",
              "\n",
              "    .dataframe tbody tr th {\n",
              "        vertical-align: top;\n",
              "    }\n",
              "\n",
              "    .dataframe thead th {\n",
              "        text-align: right;\n",
              "    }\n",
              "</style>\n",
              "<table border=\"1\" class=\"dataframe\">\n",
              "  <thead>\n",
              "    <tr style=\"text-align: right;\">\n",
              "      <th></th>\n",
              "      <th>alert</th>\n",
              "      <th>mag</th>\n",
              "      <th>magType</th>\n",
              "      <th>place</th>\n",
              "      <th>time</th>\n",
              "      <th>title</th>\n",
              "      <th>tsunami</th>\n",
              "      <th>source</th>\n",
              "    </tr>\n",
              "  </thead>\n",
              "  <tbody>\n",
              "    <tr>\n",
              "      <th>0</th>\n",
              "      <td>NaN</td>\n",
              "      <td>1.35</td>\n",
              "      <td>ml</td>\n",
              "      <td>9km NE of Aguanga, CA</td>\n",
              "      <td>1539475168010</td>\n",
              "      <td>M 1.4 - 9km NE of Aguanga, CA</td>\n",
              "      <td>0</td>\n",
              "      <td>USGS API</td>\n",
              "    </tr>\n",
              "    <tr>\n",
              "      <th>1</th>\n",
              "      <td>NaN</td>\n",
              "      <td>1.29</td>\n",
              "      <td>ml</td>\n",
              "      <td>9km NE of Aguanga, CA</td>\n",
              "      <td>1539475129610</td>\n",
              "      <td>M 1.3 - 9km NE of Aguanga, CA</td>\n",
              "      <td>0</td>\n",
              "      <td>USGS API</td>\n",
              "    </tr>\n",
              "    <tr>\n",
              "      <th>2</th>\n",
              "      <td>NaN</td>\n",
              "      <td>3.42</td>\n",
              "      <td>ml</td>\n",
              "      <td>8km NE of Aguanga, CA</td>\n",
              "      <td>1539475062610</td>\n",
              "      <td>M 3.4 - 8km NE of Aguanga, CA</td>\n",
              "      <td>0</td>\n",
              "      <td>USGS API</td>\n",
              "    </tr>\n",
              "    <tr>\n",
              "      <th>3</th>\n",
              "      <td>NaN</td>\n",
              "      <td>0.44</td>\n",
              "      <td>ml</td>\n",
              "      <td>9km NE of Aguanga, CA</td>\n",
              "      <td>1539474978070</td>\n",
              "      <td>M 0.4 - 9km NE of Aguanga, CA</td>\n",
              "      <td>0</td>\n",
              "      <td>USGS API</td>\n",
              "    </tr>\n",
              "    <tr>\n",
              "      <th>4</th>\n",
              "      <td>NaN</td>\n",
              "      <td>2.16</td>\n",
              "      <td>md</td>\n",
              "      <td>10km NW of Avenal, CA</td>\n",
              "      <td>1539474716050</td>\n",
              "      <td>M 2.2 - 10km NW of Avenal, CA</td>\n",
              "      <td>0</td>\n",
              "      <td>USGS API</td>\n",
              "    </tr>\n",
              "  </tbody>\n",
              "</table>\n",
              "</div>"
            ],
            "text/plain": [
              "  alert   mag magType  ...                          title  tsunami    source\n",
              "0   NaN  1.35      ml  ...  M 1.4 - 9km NE of Aguanga, CA        0  USGS API\n",
              "1   NaN  1.29      ml  ...  M 1.3 - 9km NE of Aguanga, CA        0  USGS API\n",
              "2   NaN  3.42      ml  ...  M 3.4 - 8km NE of Aguanga, CA        0  USGS API\n",
              "3   NaN  0.44      ml  ...  M 0.4 - 9km NE of Aguanga, CA        0  USGS API\n",
              "4   NaN  2.16      md  ...  M 2.2 - 10km NW of Avenal, CA        0  USGS API\n",
              "\n",
              "[5 rows x 8 columns]"
            ]
          },
          "metadata": {},
          "execution_count": 4
        }
      ]
    },
    {
      "cell_type": "markdown",
      "metadata": {
        "id": "sWneU5Yk8fbz"
      },
      "source": [
        "* 여기에서는 source라는 변수를 만들어서 거기에 USGS API라는 것을 입력해준다."
      ]
    },
    {
      "cell_type": "markdown",
      "metadata": {
        "id": "snBUA2wWBmcf"
      },
      "source": [
        "...or a Boolean mask:"
      ]
    },
    {
      "cell_type": "code",
      "metadata": {
        "id": "JeoQMOFYBmcg",
        "colab": {
          "base_uri": "https://localhost:8080/",
          "height": 204
        },
        "outputId": "2ee8792a-c6ff-4c66-b31c-c964d267ec4b"
      },
      "source": [
        "df['mag_negative'] = df.mag < 0   #0보다 작은 거를 boolean으로 해서 Mask를 집어 넣어 준다.\n",
        "df.head()"
      ],
      "execution_count": 5,
      "outputs": [
        {
          "output_type": "execute_result",
          "data": {
            "text/html": [
              "<div>\n",
              "<style scoped>\n",
              "    .dataframe tbody tr th:only-of-type {\n",
              "        vertical-align: middle;\n",
              "    }\n",
              "\n",
              "    .dataframe tbody tr th {\n",
              "        vertical-align: top;\n",
              "    }\n",
              "\n",
              "    .dataframe thead th {\n",
              "        text-align: right;\n",
              "    }\n",
              "</style>\n",
              "<table border=\"1\" class=\"dataframe\">\n",
              "  <thead>\n",
              "    <tr style=\"text-align: right;\">\n",
              "      <th></th>\n",
              "      <th>alert</th>\n",
              "      <th>mag</th>\n",
              "      <th>magType</th>\n",
              "      <th>place</th>\n",
              "      <th>time</th>\n",
              "      <th>title</th>\n",
              "      <th>tsunami</th>\n",
              "      <th>source</th>\n",
              "      <th>mag_negative</th>\n",
              "    </tr>\n",
              "  </thead>\n",
              "  <tbody>\n",
              "    <tr>\n",
              "      <th>0</th>\n",
              "      <td>NaN</td>\n",
              "      <td>1.35</td>\n",
              "      <td>ml</td>\n",
              "      <td>9km NE of Aguanga, CA</td>\n",
              "      <td>1539475168010</td>\n",
              "      <td>M 1.4 - 9km NE of Aguanga, CA</td>\n",
              "      <td>0</td>\n",
              "      <td>USGS API</td>\n",
              "      <td>False</td>\n",
              "    </tr>\n",
              "    <tr>\n",
              "      <th>1</th>\n",
              "      <td>NaN</td>\n",
              "      <td>1.29</td>\n",
              "      <td>ml</td>\n",
              "      <td>9km NE of Aguanga, CA</td>\n",
              "      <td>1539475129610</td>\n",
              "      <td>M 1.3 - 9km NE of Aguanga, CA</td>\n",
              "      <td>0</td>\n",
              "      <td>USGS API</td>\n",
              "      <td>False</td>\n",
              "    </tr>\n",
              "    <tr>\n",
              "      <th>2</th>\n",
              "      <td>NaN</td>\n",
              "      <td>3.42</td>\n",
              "      <td>ml</td>\n",
              "      <td>8km NE of Aguanga, CA</td>\n",
              "      <td>1539475062610</td>\n",
              "      <td>M 3.4 - 8km NE of Aguanga, CA</td>\n",
              "      <td>0</td>\n",
              "      <td>USGS API</td>\n",
              "      <td>False</td>\n",
              "    </tr>\n",
              "    <tr>\n",
              "      <th>3</th>\n",
              "      <td>NaN</td>\n",
              "      <td>0.44</td>\n",
              "      <td>ml</td>\n",
              "      <td>9km NE of Aguanga, CA</td>\n",
              "      <td>1539474978070</td>\n",
              "      <td>M 0.4 - 9km NE of Aguanga, CA</td>\n",
              "      <td>0</td>\n",
              "      <td>USGS API</td>\n",
              "      <td>False</td>\n",
              "    </tr>\n",
              "    <tr>\n",
              "      <th>4</th>\n",
              "      <td>NaN</td>\n",
              "      <td>2.16</td>\n",
              "      <td>md</td>\n",
              "      <td>10km NW of Avenal, CA</td>\n",
              "      <td>1539474716050</td>\n",
              "      <td>M 2.2 - 10km NW of Avenal, CA</td>\n",
              "      <td>0</td>\n",
              "      <td>USGS API</td>\n",
              "      <td>False</td>\n",
              "    </tr>\n",
              "  </tbody>\n",
              "</table>\n",
              "</div>"
            ],
            "text/plain": [
              "  alert   mag magType  ... tsunami    source mag_negative\n",
              "0   NaN  1.35      ml  ...       0  USGS API        False\n",
              "1   NaN  1.29      ml  ...       0  USGS API        False\n",
              "2   NaN  3.42      ml  ...       0  USGS API        False\n",
              "3   NaN  0.44      ml  ...       0  USGS API        False\n",
              "4   NaN  2.16      md  ...       0  USGS API        False\n",
              "\n",
              "[5 rows x 9 columns]"
            ]
          },
          "metadata": {},
          "execution_count": 5
        }
      ]
    },
    {
      "cell_type": "markdown",
      "metadata": {
        "id": "tcK6T5oA8pJi"
      },
      "source": [
        "* Boolean한 Mask를 집어 넣고 싶을 때 위에와 같은 코드를 입력해준다."
      ]
    },
    {
      "cell_type": "markdown",
      "metadata": {
        "id": "OxgUDgonBmcg"
      },
      "source": [
        "#### Adding the `parsed_place` column\n",
        "We have an entity recognition problem on our hands with the `place` column. There are several entities that have multiple names in the data (e.g., CA and California, NV and Nevada)."
      ]
    },
    {
      "cell_type": "markdown",
      "metadata": {
        "id": "LmITPqTn86aF"
      },
      "source": [
        "* parsed_place라는 변수를 추가하는 것이다."
      ]
    },
    {
      "cell_type": "code",
      "metadata": {
        "id": "kThxKu7bCHvv",
        "colab": {
          "base_uri": "https://localhost:8080/"
        },
        "outputId": "cb5dcc48-9789-4f65-c946-bf9537b6df49"
      },
      "source": [
        "df.place"
      ],
      "execution_count": 6,
      "outputs": [
        {
          "output_type": "execute_result",
          "data": {
            "text/plain": [
              "0                  9km NE of Aguanga, CA\n",
              "1                  9km NE of Aguanga, CA\n",
              "2                  8km NE of Aguanga, CA\n",
              "3                  9km NE of Aguanga, CA\n",
              "4                  10km NW of Avenal, CA\n",
              "                      ...               \n",
              "9327        9km ENE of Mammoth Lakes, CA\n",
              "9328                 3km W of Julian, CA\n",
              "9329    35km NNE of Hatillo, Puerto Rico\n",
              "9330               9km NE of Aguanga, CA\n",
              "9331               9km NE of Aguanga, CA\n",
              "Name: place, Length: 9332, dtype: object"
            ]
          },
          "metadata": {},
          "execution_count": 6
        }
      ]
    },
    {
      "cell_type": "markdown",
      "metadata": {
        "id": "HLa1p0rS9Ep7"
      },
      "source": [
        "* 우선 DataFrame에서 place에 대한 정보를 확인해 주었다."
      ]
    },
    {
      "cell_type": "code",
      "metadata": {
        "id": "_R28sB-hCOGs",
        "colab": {
          "base_uri": "https://localhost:8080/"
        },
        "outputId": "2d1b9f4a-7762-4810-c3d4-30f16ed748f4"
      },
      "source": [
        "df.place.str.extract(r', (.*$)')[0]  #extract는 (.*$)이 괄호 안에 꺼를 출력해준다. 괄호안에 패턴의 첫번째 꺼를 출력해주는 거라서 [0]이라고 해준다."
      ],
      "execution_count": 8,
      "outputs": [
        {
          "output_type": "execute_result",
          "data": {
            "text/plain": [
              "0                CA\n",
              "1                CA\n",
              "2                CA\n",
              "3                CA\n",
              "4                CA\n",
              "           ...     \n",
              "9327             CA\n",
              "9328             CA\n",
              "9329    Puerto Rico\n",
              "9330             CA\n",
              "9331             CA\n",
              "Name: 0, Length: 9332, dtype: object"
            ]
          },
          "metadata": {},
          "execution_count": 8
        }
      ]
    },
    {
      "cell_type": "code",
      "metadata": {
        "id": "6DOpxIQBBmcg",
        "colab": {
          "base_uri": "https://localhost:8080/"
        },
        "outputId": "f67d91de-fde7-4752-e102-1189b5582434"
      },
      "source": [
        "df.place.str.extract(r', (.*$)')[0].sort_values().unique()  #sort를 해준다음에 unique한 애들만 출력해준 것이다."
      ],
      "execution_count": 9,
      "outputs": [
        {
          "output_type": "execute_result",
          "data": {
            "text/plain": [
              "array(['Afghanistan', 'Alaska', 'Argentina', 'Arizona', 'Arkansas',\n",
              "       'Australia', 'Azerbaijan', 'B.C., MX', 'Barbuda', 'Bolivia',\n",
              "       'Bonaire, Saint Eustatius and Saba ', 'British Virgin Islands',\n",
              "       'Burma', 'CA', 'California', 'Canada', 'Chile', 'China',\n",
              "       'Christmas Island', 'Colombia', 'Colorado', 'Costa Rica',\n",
              "       'Dominican Republic', 'East Timor', 'Ecuador', 'Ecuador region',\n",
              "       'El Salvador', 'Fiji', 'Greece', 'Greenland', 'Guam', 'Guatemala',\n",
              "       'Haiti', 'Hawaii', 'Honduras', 'Idaho', 'Illinois', 'India',\n",
              "       'Indonesia', 'Iran', 'Iraq', 'Italy', 'Jamaica', 'Japan', 'Kansas',\n",
              "       'Kentucky', 'Kyrgyzstan', 'Martinique', 'Mauritius', 'Mayotte',\n",
              "       'Mexico', 'Missouri', 'Montana', 'NV', 'Nevada', 'New Caledonia',\n",
              "       'New Hampshire', 'New Mexico', 'New Zealand', 'Nicaragua',\n",
              "       'North Carolina', 'Northern Mariana Islands', 'Oklahoma', 'Oregon',\n",
              "       'Pakistan', 'Papua New Guinea', 'Peru', 'Philippines',\n",
              "       'Puerto Rico', 'Romania', 'Russia', 'Saint Helena',\n",
              "       'Solomon Islands', 'Somalia', 'South Africa', 'South Carolina',\n",
              "       'South Georgia and the South Sandwich Islands',\n",
              "       'South Sandwich Islands', 'Taiwan', 'Tajikistan', 'Tennessee',\n",
              "       'Texas', 'Tonga', 'Turkey', 'U.S. Virgin Islands', 'Utah',\n",
              "       'Uzbekistan', 'Vanuatu', 'Vermont', 'Washington', 'Wyoming',\n",
              "       'Yemen', nan], dtype=object)"
            ]
          },
          "metadata": {},
          "execution_count": 9
        }
      ]
    },
    {
      "cell_type": "markdown",
      "metadata": {
        "id": "AbRgONzc9oRl"
      },
      "source": [
        "* 위에 보이는 문제는 CA나 California가 같은 말인데 겹치는 현상이 일어나고 있다 그래서 이 겹치는 현상을 해결하기 위해 아래 코드를 사용한다."
      ]
    },
    {
      "cell_type": "markdown",
      "metadata": {
        "id": "JE5atQ1hBmcg"
      },
      "source": [
        "Replace parts of the `place` names to fit our needs:"
      ]
    },
    {
      "cell_type": "code",
      "metadata": {
        "id": "tzziF2yvBmch"
      },
      "source": [
        "df['parsed_place'] = df.place.str.replace(\n",
        "    r'.* of ', '', regex=True # remove anything saying <something> of <something>\n",
        ").str.replace(\n",
        "    'the ', '' # remove \"the \"\n",
        ").str.replace(\n",
        "    r'CA$', 'California', regex=True # fix California\n",
        ").str.replace(\n",
        "    r'NV$', 'Nevada', regex=True # fix Nevada\n",
        ").str.replace(\n",
        "    r'MX$', 'Mexico', regex=True # fix Mexico\n",
        ").str.replace(\n",
        "    r' region$', '', regex=True # chop off endings with \" region\"\n",
        ").str.replace(\n",
        "    'northern ', '' # remove \"northern \"\n",
        ").str.replace(\n",
        "    'Fiji Islands', 'Fiji' # line up the Fiji places\n",
        ").str.replace(\n",
        "    r'^.*, ', '', regex=True # remove anything else extraneous from the beginning\n",
        ").str.strip() # remove any extra spaces"
      ],
      "execution_count": 10,
      "outputs": []
    },
    {
      "cell_type": "markdown",
      "metadata": {
        "id": "RNILzAlY93PO"
      },
      "source": [
        "* 여기 코드에서는 place에 다가 replace를 계속해줘서 변환작업을 계속해주는 것이다."
      ]
    },
    {
      "cell_type": "markdown",
      "metadata": {
        "id": "_yI4_iqTBmch"
      },
      "source": [
        "Now we can use a single name to get all earthquakes for that place (although this still isn't perfect):"
      ]
    },
    {
      "cell_type": "code",
      "metadata": {
        "id": "jg1h-gopBmch",
        "colab": {
          "base_uri": "https://localhost:8080/"
        },
        "outputId": "3214558d-3233-49b6-8d31-2faa1f9b91dd"
      },
      "source": [
        "df.parsed_place.sort_values().unique()"
      ],
      "execution_count": 11,
      "outputs": [
        {
          "output_type": "execute_result",
          "data": {
            "text/plain": [
              "array(['Afghanistan', 'Alaska', 'Argentina', 'Arizona', 'Arkansas',\n",
              "       'Ascension Island', 'Australia', 'Azerbaijan', 'Balleny Islands',\n",
              "       'Barbuda', 'Bolivia', 'British Virgin Islands', 'Burma',\n",
              "       'California', 'Canada', 'Carlsberg Ridge',\n",
              "       'Central East Pacific Rise', 'Central Mid-Atlantic Ridge', 'Chile',\n",
              "       'China', 'Christmas Island', 'Colombia', 'Colorado', 'Costa Rica',\n",
              "       'Dominican Republic', 'East Timor', 'Ecuador', 'El Salvador',\n",
              "       'Fiji', 'Greece', 'Greenland', 'Guam', 'Guatemala', 'Haiti',\n",
              "       'Hawaii', 'Honduras', 'Idaho', 'Illinois', 'India',\n",
              "       'Indian Ocean Triple Junction', 'Indonesia', 'Iran', 'Iraq',\n",
              "       'Italy', 'Jamaica', 'Japan', 'Kansas', 'Kentucky',\n",
              "       'Kermadec Islands', 'Kuril Islands', 'Kyrgyzstan', 'Martinique',\n",
              "       'Mauritius', 'Mayotte', 'Mexico', 'Mid-Indian Ridge', 'Missouri',\n",
              "       'Montana', 'Nevada', 'New Caledonia', 'New Hampshire',\n",
              "       'New Mexico', 'New Zealand', 'Nicaragua', 'North Carolina',\n",
              "       'Northern East Pacific Rise', 'Northern Mariana Islands',\n",
              "       'Northern Mid-Atlantic Ridge', 'Oklahoma', 'Oregon',\n",
              "       'Pacific-Antarctic Ridge', 'Pakistan', 'Papua New Guinea', 'Peru',\n",
              "       'Philippines', 'Prince Edward Islands', 'Puerto Rico',\n",
              "       'Queen Charlotte Islands', 'Romania', 'Russia',\n",
              "       'Saint Eustatius and Saba', 'Saint Helena', 'Socotra',\n",
              "       'Solomon Islands', 'Somalia', 'South Africa', 'South Carolina',\n",
              "       'South Georgia and South Sandwich Islands',\n",
              "       'South Sandwich Islands', 'Southeast Indian Ridge',\n",
              "       'Southern East Pacific Rise', 'Southern Mid-Atlantic Ridge',\n",
              "       'Southwest Indian Ridge', 'Sumatra', 'Taiwan', 'Tajikistan',\n",
              "       'Tennessee', 'Texas', 'Tonga', 'Turkey', 'U.S. Virgin Islands',\n",
              "       'Utah', 'Uzbekistan', 'Vanuatu', 'Vermont', 'Washington',\n",
              "       'Western Indian-Antarctic Ridge', 'Western Xizang', 'Wyoming',\n",
              "       'Yemen'], dtype=object)"
            ]
          },
          "metadata": {},
          "execution_count": 11
        }
      ]
    },
    {
      "cell_type": "markdown",
      "metadata": {
        "id": "cLg9HBVk-Iy7"
      },
      "source": [
        "* 그래서 parsed_place를 다시 출력을하게 되면 겹치는 현상이 없어지는 것을 볼 수 있다."
      ]
    },
    {
      "cell_type": "markdown",
      "metadata": {
        "id": "JE2kGXIOBmci"
      },
      "source": [
        "#### Using the `assign()` method to create columns\n",
        "To create many columns at once or update existing columns, we can use `assign()`:"
      ]
    },
    {
      "cell_type": "markdown",
      "metadata": {
        "id": "unqZlfyy-TO5"
      },
      "source": [
        "* assign함수를 사용해서 multiple columns를 만들때 사용을 해준다."
      ]
    },
    {
      "cell_type": "code",
      "metadata": {
        "id": "cMTG86tTBmci",
        "colab": {
          "base_uri": "https://localhost:8080/",
          "height": 204
        },
        "outputId": "fe691a79-f741-48f5-e9cb-543fb8b70fe6"
      },
      "source": [
        "df.assign(\n",
        "    in_ca=df.parsed_place.str.endswith('California'), #parsed_place가 California로 끝나면 in_ca\n",
        "    in_alaska=df.parsed_place.str.endswith('Alaska') # parsed_place가 Alaska로 끝나면 in_alaska로 해준다.\n",
        ").sample(5, random_state=0)"
      ],
      "execution_count": 13,
      "outputs": [
        {
          "output_type": "execute_result",
          "data": {
            "text/html": [
              "<div>\n",
              "<style scoped>\n",
              "    .dataframe tbody tr th:only-of-type {\n",
              "        vertical-align: middle;\n",
              "    }\n",
              "\n",
              "    .dataframe tbody tr th {\n",
              "        vertical-align: top;\n",
              "    }\n",
              "\n",
              "    .dataframe thead th {\n",
              "        text-align: right;\n",
              "    }\n",
              "</style>\n",
              "<table border=\"1\" class=\"dataframe\">\n",
              "  <thead>\n",
              "    <tr style=\"text-align: right;\">\n",
              "      <th></th>\n",
              "      <th>alert</th>\n",
              "      <th>mag</th>\n",
              "      <th>magType</th>\n",
              "      <th>place</th>\n",
              "      <th>time</th>\n",
              "      <th>title</th>\n",
              "      <th>tsunami</th>\n",
              "      <th>source</th>\n",
              "      <th>mag_negative</th>\n",
              "      <th>parsed_place</th>\n",
              "      <th>in_ca</th>\n",
              "      <th>in_alaska</th>\n",
              "    </tr>\n",
              "  </thead>\n",
              "  <tbody>\n",
              "    <tr>\n",
              "      <th>7207</th>\n",
              "      <td>NaN</td>\n",
              "      <td>4.80</td>\n",
              "      <td>mwr</td>\n",
              "      <td>73km SSW of Masachapa, Nicaragua</td>\n",
              "      <td>1537749595210</td>\n",
              "      <td>M 4.8 - 73km SSW of Masachapa, Nicaragua</td>\n",
              "      <td>0</td>\n",
              "      <td>USGS API</td>\n",
              "      <td>False</td>\n",
              "      <td>Nicaragua</td>\n",
              "      <td>False</td>\n",
              "      <td>False</td>\n",
              "    </tr>\n",
              "    <tr>\n",
              "      <th>4755</th>\n",
              "      <td>NaN</td>\n",
              "      <td>1.09</td>\n",
              "      <td>ml</td>\n",
              "      <td>28km NNW of Packwood, Washington</td>\n",
              "      <td>1538227540460</td>\n",
              "      <td>M 1.1 - 28km NNW of Packwood, Washington</td>\n",
              "      <td>0</td>\n",
              "      <td>USGS API</td>\n",
              "      <td>False</td>\n",
              "      <td>Washington</td>\n",
              "      <td>False</td>\n",
              "      <td>False</td>\n",
              "    </tr>\n",
              "    <tr>\n",
              "      <th>4595</th>\n",
              "      <td>NaN</td>\n",
              "      <td>1.80</td>\n",
              "      <td>ml</td>\n",
              "      <td>77km SSW of Kaktovik, Alaska</td>\n",
              "      <td>1538259609862</td>\n",
              "      <td>M 1.8 - 77km SSW of Kaktovik, Alaska</td>\n",
              "      <td>0</td>\n",
              "      <td>USGS API</td>\n",
              "      <td>False</td>\n",
              "      <td>Alaska</td>\n",
              "      <td>False</td>\n",
              "      <td>True</td>\n",
              "    </tr>\n",
              "    <tr>\n",
              "      <th>3566</th>\n",
              "      <td>NaN</td>\n",
              "      <td>1.50</td>\n",
              "      <td>ml</td>\n",
              "      <td>102km NW of Arctic Village, Alaska</td>\n",
              "      <td>1538464751822</td>\n",
              "      <td>M 1.5 - 102km NW of Arctic Village, Alaska</td>\n",
              "      <td>0</td>\n",
              "      <td>USGS API</td>\n",
              "      <td>False</td>\n",
              "      <td>Alaska</td>\n",
              "      <td>False</td>\n",
              "      <td>True</td>\n",
              "    </tr>\n",
              "    <tr>\n",
              "      <th>2182</th>\n",
              "      <td>NaN</td>\n",
              "      <td>0.90</td>\n",
              "      <td>ml</td>\n",
              "      <td>26km ENE of Pine Valley, CA</td>\n",
              "      <td>1538801713880</td>\n",
              "      <td>M 0.9 - 26km ENE of Pine Valley, CA</td>\n",
              "      <td>0</td>\n",
              "      <td>USGS API</td>\n",
              "      <td>False</td>\n",
              "      <td>California</td>\n",
              "      <td>True</td>\n",
              "      <td>False</td>\n",
              "    </tr>\n",
              "  </tbody>\n",
              "</table>\n",
              "</div>"
            ],
            "text/plain": [
              "     alert   mag magType  ... parsed_place  in_ca in_alaska\n",
              "7207   NaN  4.80     mwr  ...    Nicaragua  False     False\n",
              "4755   NaN  1.09      ml  ...   Washington  False     False\n",
              "4595   NaN  1.80      ml  ...       Alaska  False      True\n",
              "3566   NaN  1.50      ml  ...       Alaska  False      True\n",
              "2182   NaN  0.90      ml  ...   California   True     False\n",
              "\n",
              "[5 rows x 12 columns]"
            ]
          },
          "metadata": {},
          "execution_count": 13
        }
      ]
    },
    {
      "cell_type": "markdown",
      "metadata": {
        "id": "QnWCReNq-bSF"
      },
      "source": [
        "* in_ca랑 in_alaska를 만들고 싶을때, assign을 활용해서 만들어 준다."
      ]
    },
    {
      "cell_type": "markdown",
      "metadata": {
        "id": "L3O9FtjiBmci"
      },
      "source": [
        "With the use of `lambda` functions, the `assign()` method becomes even more powerful. **Lambda functions** are anonymous functions usually defined in one line and for single use. The `assign()` method passes the entire dataframe into the `lambda` function as `x`; from there, we can select the columns `in_ca` and `in_alaska`, which are being created in that same call to `assign()`. Here, we use a `lambda` function to create a new column, `neither`, which tells if the earthquake was neither in Alaska nor California:"
      ]
    },
    {
      "cell_type": "markdown",
      "metadata": {
        "id": "iWhXAJa7-3o1"
      },
      "source": [
        "* 한번 사용될 single use를 위한 하나의 라인으로 된 function이다."
      ]
    },
    {
      "cell_type": "code",
      "metadata": {
        "id": "aEzj8c_NBmcj",
        "outputId": "a13b9451-b005-4f0f-e829-a895b9d42627",
        "colab": {
          "base_uri": "https://localhost:8080/",
          "height": 204
        }
      },
      "source": [
        "df.assign(\n",
        "    in_ca=df.parsed_place == 'California',\n",
        "    in_alaska=df.parsed_place == 'Alaska',\n",
        "    neither=lambda x: ~x.in_ca & ~x.in_alaska  #여기에서 lambda X:가 함수 X라고 생각하면 된다.\n",
        ").sample(5, random_state=0)"
      ],
      "execution_count": 14,
      "outputs": [
        {
          "output_type": "execute_result",
          "data": {
            "text/html": [
              "<div>\n",
              "<style scoped>\n",
              "    .dataframe tbody tr th:only-of-type {\n",
              "        vertical-align: middle;\n",
              "    }\n",
              "\n",
              "    .dataframe tbody tr th {\n",
              "        vertical-align: top;\n",
              "    }\n",
              "\n",
              "    .dataframe thead th {\n",
              "        text-align: right;\n",
              "    }\n",
              "</style>\n",
              "<table border=\"1\" class=\"dataframe\">\n",
              "  <thead>\n",
              "    <tr style=\"text-align: right;\">\n",
              "      <th></th>\n",
              "      <th>alert</th>\n",
              "      <th>mag</th>\n",
              "      <th>magType</th>\n",
              "      <th>place</th>\n",
              "      <th>time</th>\n",
              "      <th>title</th>\n",
              "      <th>tsunami</th>\n",
              "      <th>source</th>\n",
              "      <th>mag_negative</th>\n",
              "      <th>parsed_place</th>\n",
              "      <th>in_ca</th>\n",
              "      <th>in_alaska</th>\n",
              "      <th>neither</th>\n",
              "    </tr>\n",
              "  </thead>\n",
              "  <tbody>\n",
              "    <tr>\n",
              "      <th>7207</th>\n",
              "      <td>NaN</td>\n",
              "      <td>4.80</td>\n",
              "      <td>mwr</td>\n",
              "      <td>73km SSW of Masachapa, Nicaragua</td>\n",
              "      <td>1537749595210</td>\n",
              "      <td>M 4.8 - 73km SSW of Masachapa, Nicaragua</td>\n",
              "      <td>0</td>\n",
              "      <td>USGS API</td>\n",
              "      <td>False</td>\n",
              "      <td>Nicaragua</td>\n",
              "      <td>False</td>\n",
              "      <td>False</td>\n",
              "      <td>True</td>\n",
              "    </tr>\n",
              "    <tr>\n",
              "      <th>4755</th>\n",
              "      <td>NaN</td>\n",
              "      <td>1.09</td>\n",
              "      <td>ml</td>\n",
              "      <td>28km NNW of Packwood, Washington</td>\n",
              "      <td>1538227540460</td>\n",
              "      <td>M 1.1 - 28km NNW of Packwood, Washington</td>\n",
              "      <td>0</td>\n",
              "      <td>USGS API</td>\n",
              "      <td>False</td>\n",
              "      <td>Washington</td>\n",
              "      <td>False</td>\n",
              "      <td>False</td>\n",
              "      <td>True</td>\n",
              "    </tr>\n",
              "    <tr>\n",
              "      <th>4595</th>\n",
              "      <td>NaN</td>\n",
              "      <td>1.80</td>\n",
              "      <td>ml</td>\n",
              "      <td>77km SSW of Kaktovik, Alaska</td>\n",
              "      <td>1538259609862</td>\n",
              "      <td>M 1.8 - 77km SSW of Kaktovik, Alaska</td>\n",
              "      <td>0</td>\n",
              "      <td>USGS API</td>\n",
              "      <td>False</td>\n",
              "      <td>Alaska</td>\n",
              "      <td>False</td>\n",
              "      <td>True</td>\n",
              "      <td>False</td>\n",
              "    </tr>\n",
              "    <tr>\n",
              "      <th>3566</th>\n",
              "      <td>NaN</td>\n",
              "      <td>1.50</td>\n",
              "      <td>ml</td>\n",
              "      <td>102km NW of Arctic Village, Alaska</td>\n",
              "      <td>1538464751822</td>\n",
              "      <td>M 1.5 - 102km NW of Arctic Village, Alaska</td>\n",
              "      <td>0</td>\n",
              "      <td>USGS API</td>\n",
              "      <td>False</td>\n",
              "      <td>Alaska</td>\n",
              "      <td>False</td>\n",
              "      <td>True</td>\n",
              "      <td>False</td>\n",
              "    </tr>\n",
              "    <tr>\n",
              "      <th>2182</th>\n",
              "      <td>NaN</td>\n",
              "      <td>0.90</td>\n",
              "      <td>ml</td>\n",
              "      <td>26km ENE of Pine Valley, CA</td>\n",
              "      <td>1538801713880</td>\n",
              "      <td>M 0.9 - 26km ENE of Pine Valley, CA</td>\n",
              "      <td>0</td>\n",
              "      <td>USGS API</td>\n",
              "      <td>False</td>\n",
              "      <td>California</td>\n",
              "      <td>True</td>\n",
              "      <td>False</td>\n",
              "      <td>False</td>\n",
              "    </tr>\n",
              "  </tbody>\n",
              "</table>\n",
              "</div>"
            ],
            "text/plain": [
              "     alert   mag magType  ...  in_ca  in_alaska neither\n",
              "7207   NaN  4.80     mwr  ...  False      False    True\n",
              "4755   NaN  1.09      ml  ...  False      False    True\n",
              "4595   NaN  1.80      ml  ...  False       True   False\n",
              "3566   NaN  1.50      ml  ...  False       True   False\n",
              "2182   NaN  0.90      ml  ...   True      False   False\n",
              "\n",
              "[5 rows x 13 columns]"
            ]
          },
          "metadata": {},
          "execution_count": 14
        }
      ]
    },
    {
      "cell_type": "markdown",
      "metadata": {
        "id": "ipczzEFwBmck"
      },
      "source": [
        "#### Concatenation\n",
        "Say we were working with two separate dataframes, one with earthquakes accompanied by tsunamis and the other with earthquakes without tsunamis. If we wanted to look at earthquakes as a whole, we would want to concatenate the dataframes into a single one:"
      ]
    },
    {
      "cell_type": "markdown",
      "metadata": {
        "id": "E80D8iPz_bDJ"
      },
      "source": [
        "* Concatenation은 데이터를 합쳐주는 것이다."
      ]
    },
    {
      "cell_type": "code",
      "metadata": {
        "id": "QKtHhW1ABmck",
        "colab": {
          "base_uri": "https://localhost:8080/"
        },
        "outputId": "749777a5-2adb-4113-d4d1-09a995afe048"
      },
      "source": [
        "tsunami = df[df.tsunami == 1]\n",
        "no_tsunami = df[df.tsunami == 0]\n",
        "\n",
        "tsunami.shape, no_tsunami.shape"
      ],
      "execution_count": 15,
      "outputs": [
        {
          "output_type": "execute_result",
          "data": {
            "text/plain": [
              "((61, 10), (9271, 10))"
            ]
          },
          "metadata": {},
          "execution_count": 15
        }
      ]
    },
    {
      "cell_type": "markdown",
      "metadata": {
        "id": "GZJLIcoa_g3X"
      },
      "source": [
        "* tsunami가 있는 데이터랑, 없는 데이터를 나누어 주었다."
      ]
    },
    {
      "cell_type": "markdown",
      "metadata": {
        "id": "UpqAfOnsBmcl"
      },
      "source": [
        "Concatenating along the row axis (`axis=0`) is equivalent to appending to the bottom. By concatenating our earthquakes with tsunamis and those without tsunamis, we get the full earthquake data set back:"
      ]
    },
    {
      "cell_type": "code",
      "metadata": {
        "id": "2ObR-0jbBmcl",
        "colab": {
          "base_uri": "https://localhost:8080/"
        },
        "outputId": "54263cac-67fc-4e63-f85c-4896c81ba664"
      },
      "source": [
        "pd.concat([tsunami, no_tsunami]).shape"
      ],
      "execution_count": 16,
      "outputs": [
        {
          "output_type": "execute_result",
          "data": {
            "text/plain": [
              "(9332, 10)"
            ]
          },
          "metadata": {},
          "execution_count": 16
        }
      ]
    },
    {
      "cell_type": "markdown",
      "metadata": {
        "id": "aBId6L4f_ov7"
      },
      "source": [
        "* row쪽으로 합쳐주는 것이다."
      ]
    },
    {
      "cell_type": "markdown",
      "metadata": {
        "id": "ByslVhXOBmcm"
      },
      "source": [
        "Note that the previous result is equivalent to running the `append()` method of the dataframe:"
      ]
    },
    {
      "cell_type": "code",
      "metadata": {
        "id": "kON0fPAGBmcm",
        "colab": {
          "base_uri": "https://localhost:8080/"
        },
        "outputId": "b7c1b990-14d1-4289-9cbd-b31495b5d99a"
      },
      "source": [
        "tsunami.append(no_tsunami).shape"
      ],
      "execution_count": 17,
      "outputs": [
        {
          "output_type": "execute_result",
          "data": {
            "text/plain": [
              "(9332, 10)"
            ]
          },
          "metadata": {},
          "execution_count": 17
        }
      ]
    },
    {
      "cell_type": "markdown",
      "metadata": {
        "id": "3J_lg_BY_t7p"
      },
      "source": [
        "* 여기에 보이듯이 .append를 해줘서 합쳐주는 방법도 있다."
      ]
    },
    {
      "cell_type": "markdown",
      "metadata": {
        "id": "Xlg52v0aBmcm"
      },
      "source": [
        "We have been working with a subset of the columns from the CSV file, but suppose that now we want to get some of the columns we ignored when we read in the data. Since we have added new columns in this notebook, we won't want to read in the file and perform those operations again. Instead, we will concatenate along the columns (`axis=1`) to add back what we are missing:"
      ]
    },
    {
      "cell_type": "code",
      "metadata": {
        "id": "4T0G1L-KBmcn",
        "colab": {
          "base_uri": "https://localhost:8080/",
          "height": 111
        },
        "outputId": "5b1b0900-ca42-45cb-afd8-b631102a6580"
      },
      "source": [
        "additional_columns = pd.read_csv(\n",
        "    'data/earthquakes.csv', usecols=['tz', 'felt', 'ids']\n",
        ")\n",
        "pd.concat([df.head(2), additional_columns.head(2)], axis=1)  "
      ],
      "execution_count": 19,
      "outputs": [
        {
          "output_type": "execute_result",
          "data": {
            "text/html": [
              "<div>\n",
              "<style scoped>\n",
              "    .dataframe tbody tr th:only-of-type {\n",
              "        vertical-align: middle;\n",
              "    }\n",
              "\n",
              "    .dataframe tbody tr th {\n",
              "        vertical-align: top;\n",
              "    }\n",
              "\n",
              "    .dataframe thead th {\n",
              "        text-align: right;\n",
              "    }\n",
              "</style>\n",
              "<table border=\"1\" class=\"dataframe\">\n",
              "  <thead>\n",
              "    <tr style=\"text-align: right;\">\n",
              "      <th></th>\n",
              "      <th>alert</th>\n",
              "      <th>mag</th>\n",
              "      <th>magType</th>\n",
              "      <th>place</th>\n",
              "      <th>time</th>\n",
              "      <th>title</th>\n",
              "      <th>tsunami</th>\n",
              "      <th>source</th>\n",
              "      <th>mag_negative</th>\n",
              "      <th>parsed_place</th>\n",
              "      <th>felt</th>\n",
              "      <th>ids</th>\n",
              "      <th>tz</th>\n",
              "    </tr>\n",
              "  </thead>\n",
              "  <tbody>\n",
              "    <tr>\n",
              "      <th>0</th>\n",
              "      <td>NaN</td>\n",
              "      <td>1.35</td>\n",
              "      <td>ml</td>\n",
              "      <td>9km NE of Aguanga, CA</td>\n",
              "      <td>1539475168010</td>\n",
              "      <td>M 1.4 - 9km NE of Aguanga, CA</td>\n",
              "      <td>0</td>\n",
              "      <td>USGS API</td>\n",
              "      <td>False</td>\n",
              "      <td>California</td>\n",
              "      <td>NaN</td>\n",
              "      <td>,ci37389218,</td>\n",
              "      <td>-480.0</td>\n",
              "    </tr>\n",
              "    <tr>\n",
              "      <th>1</th>\n",
              "      <td>NaN</td>\n",
              "      <td>1.29</td>\n",
              "      <td>ml</td>\n",
              "      <td>9km NE of Aguanga, CA</td>\n",
              "      <td>1539475129610</td>\n",
              "      <td>M 1.3 - 9km NE of Aguanga, CA</td>\n",
              "      <td>0</td>\n",
              "      <td>USGS API</td>\n",
              "      <td>False</td>\n",
              "      <td>California</td>\n",
              "      <td>NaN</td>\n",
              "      <td>,ci37389202,</td>\n",
              "      <td>-480.0</td>\n",
              "    </tr>\n",
              "  </tbody>\n",
              "</table>\n",
              "</div>"
            ],
            "text/plain": [
              "  alert   mag magType  ... felt           ids     tz\n",
              "0   NaN  1.35      ml  ...  NaN  ,ci37389218, -480.0\n",
              "1   NaN  1.29      ml  ...  NaN  ,ci37389202, -480.0\n",
              "\n",
              "[2 rows x 13 columns]"
            ]
          },
          "metadata": {},
          "execution_count": 19
        }
      ]
    },
    {
      "cell_type": "markdown",
      "metadata": {
        "id": "zm8HAHWi_6Tj"
      },
      "source": [
        "* ['tz', 'felt', 'ids'] 추가적으로 데이터를 불러온 다음에 현재 있는 데이터랑 additional_columns들을 합쳐줄 때 pd.concat를 사용해 준다.\n",
        "* axis가 0인게 row이고 axis가 1인게 column이다."
      ]
    },
    {
      "cell_type": "markdown",
      "metadata": {
        "id": "4tL9rSGXBmcn"
      },
      "source": [
        "Notice what happens if the index doesn't align though:"
      ]
    },
    {
      "cell_type": "code",
      "metadata": {
        "id": "kYe75djxBmco",
        "colab": {
          "base_uri": "https://localhost:8080/",
          "height": 173
        },
        "outputId": "d05a7c6d-07ec-443c-b7f7-457cd47025fa"
      },
      "source": [
        "additional_columns = pd.read_csv(\n",
        "    'data/earthquakes.csv', usecols=['tz', 'felt', 'ids', 'time'], index_col='time'\n",
        ")\n",
        "pd.concat([df.head(2), additional_columns.head(2)], axis=1)"
      ],
      "execution_count": 20,
      "outputs": [
        {
          "output_type": "execute_result",
          "data": {
            "text/html": [
              "<div>\n",
              "<style scoped>\n",
              "    .dataframe tbody tr th:only-of-type {\n",
              "        vertical-align: middle;\n",
              "    }\n",
              "\n",
              "    .dataframe tbody tr th {\n",
              "        vertical-align: top;\n",
              "    }\n",
              "\n",
              "    .dataframe thead th {\n",
              "        text-align: right;\n",
              "    }\n",
              "</style>\n",
              "<table border=\"1\" class=\"dataframe\">\n",
              "  <thead>\n",
              "    <tr style=\"text-align: right;\">\n",
              "      <th></th>\n",
              "      <th>alert</th>\n",
              "      <th>mag</th>\n",
              "      <th>magType</th>\n",
              "      <th>place</th>\n",
              "      <th>time</th>\n",
              "      <th>title</th>\n",
              "      <th>tsunami</th>\n",
              "      <th>source</th>\n",
              "      <th>mag_negative</th>\n",
              "      <th>parsed_place</th>\n",
              "      <th>felt</th>\n",
              "      <th>ids</th>\n",
              "      <th>tz</th>\n",
              "    </tr>\n",
              "  </thead>\n",
              "  <tbody>\n",
              "    <tr>\n",
              "      <th>0</th>\n",
              "      <td>NaN</td>\n",
              "      <td>1.35</td>\n",
              "      <td>ml</td>\n",
              "      <td>9km NE of Aguanga, CA</td>\n",
              "      <td>1.539475e+12</td>\n",
              "      <td>M 1.4 - 9km NE of Aguanga, CA</td>\n",
              "      <td>0.0</td>\n",
              "      <td>USGS API</td>\n",
              "      <td>False</td>\n",
              "      <td>California</td>\n",
              "      <td>NaN</td>\n",
              "      <td>NaN</td>\n",
              "      <td>NaN</td>\n",
              "    </tr>\n",
              "    <tr>\n",
              "      <th>1</th>\n",
              "      <td>NaN</td>\n",
              "      <td>1.29</td>\n",
              "      <td>ml</td>\n",
              "      <td>9km NE of Aguanga, CA</td>\n",
              "      <td>1.539475e+12</td>\n",
              "      <td>M 1.3 - 9km NE of Aguanga, CA</td>\n",
              "      <td>0.0</td>\n",
              "      <td>USGS API</td>\n",
              "      <td>False</td>\n",
              "      <td>California</td>\n",
              "      <td>NaN</td>\n",
              "      <td>NaN</td>\n",
              "      <td>NaN</td>\n",
              "    </tr>\n",
              "    <tr>\n",
              "      <th>1539475129610</th>\n",
              "      <td>NaN</td>\n",
              "      <td>NaN</td>\n",
              "      <td>NaN</td>\n",
              "      <td>NaN</td>\n",
              "      <td>NaN</td>\n",
              "      <td>NaN</td>\n",
              "      <td>NaN</td>\n",
              "      <td>NaN</td>\n",
              "      <td>NaN</td>\n",
              "      <td>NaN</td>\n",
              "      <td>NaN</td>\n",
              "      <td>,ci37389202,</td>\n",
              "      <td>-480.0</td>\n",
              "    </tr>\n",
              "    <tr>\n",
              "      <th>1539475168010</th>\n",
              "      <td>NaN</td>\n",
              "      <td>NaN</td>\n",
              "      <td>NaN</td>\n",
              "      <td>NaN</td>\n",
              "      <td>NaN</td>\n",
              "      <td>NaN</td>\n",
              "      <td>NaN</td>\n",
              "      <td>NaN</td>\n",
              "      <td>NaN</td>\n",
              "      <td>NaN</td>\n",
              "      <td>NaN</td>\n",
              "      <td>,ci37389218,</td>\n",
              "      <td>-480.0</td>\n",
              "    </tr>\n",
              "  </tbody>\n",
              "</table>\n",
              "</div>"
            ],
            "text/plain": [
              "              alert   mag magType  ... felt           ids     tz\n",
              "0               NaN  1.35      ml  ...  NaN           NaN    NaN\n",
              "1               NaN  1.29      ml  ...  NaN           NaN    NaN\n",
              "1539475129610   NaN   NaN     NaN  ...  NaN  ,ci37389202, -480.0\n",
              "1539475168010   NaN   NaN     NaN  ...  NaN  ,ci37389218, -480.0\n",
              "\n",
              "[4 rows x 13 columns]"
            ]
          },
          "metadata": {},
          "execution_count": 20
        }
      ]
    },
    {
      "cell_type": "markdown",
      "metadata": {
        "id": "qRKbYJJCAXTf"
      },
      "source": [
        "* 여기에서는 index_col을 가져올 때 time으로 해서 index가 달라지는 경우에는 이렇게 우리가 원하는 데로 합쳐지지 않는 것을 볼 수 있다."
      ]
    },
    {
      "cell_type": "markdown",
      "metadata": {
        "id": "BvLGifxcBmco"
      },
      "source": [
        "If the index doesn't align, we can align it before attempting the concatentation, which we will discuss in chapter 3.\n",
        "\n",
        "Say we want to join the `tsunami` and `no_tsunami` dataframes, but the `no_tsunami` dataframe has an additional column. The `join` parameter specifies how to handle any overlap in column names (when appending to the bottom) or in row names (when concatenating to the left/right). By default, this is `outer`, so we keep everything; however, if we use `inner`, we will only keep what is in common:"
      ]
    },
    {
      "cell_type": "markdown",
      "metadata": {
        "id": "iiGfnabfAn4m"
      },
      "source": [
        "* inner join은 둘다 가지고 있는 경우에만 갖고 있는다 이다."
      ]
    },
    {
      "cell_type": "code",
      "metadata": {
        "id": "9pHbzLuyBmco",
        "colab": {
          "base_uri": "https://localhost:8080/",
          "height": 173
        },
        "outputId": "c7a82a49-2c5b-4ceb-b096-a7e353846668"
      },
      "source": [
        "pd.concat(\n",
        "    [tsunami.head(2), no_tsunami.head(2).assign(type='earthquake')], join='inner'\n",
        ")"
      ],
      "execution_count": 21,
      "outputs": [
        {
          "output_type": "execute_result",
          "data": {
            "text/html": [
              "<div>\n",
              "<style scoped>\n",
              "    .dataframe tbody tr th:only-of-type {\n",
              "        vertical-align: middle;\n",
              "    }\n",
              "\n",
              "    .dataframe tbody tr th {\n",
              "        vertical-align: top;\n",
              "    }\n",
              "\n",
              "    .dataframe thead th {\n",
              "        text-align: right;\n",
              "    }\n",
              "</style>\n",
              "<table border=\"1\" class=\"dataframe\">\n",
              "  <thead>\n",
              "    <tr style=\"text-align: right;\">\n",
              "      <th></th>\n",
              "      <th>alert</th>\n",
              "      <th>mag</th>\n",
              "      <th>magType</th>\n",
              "      <th>place</th>\n",
              "      <th>time</th>\n",
              "      <th>title</th>\n",
              "      <th>tsunami</th>\n",
              "      <th>source</th>\n",
              "      <th>mag_negative</th>\n",
              "      <th>parsed_place</th>\n",
              "    </tr>\n",
              "  </thead>\n",
              "  <tbody>\n",
              "    <tr>\n",
              "      <th>36</th>\n",
              "      <td>NaN</td>\n",
              "      <td>5.00</td>\n",
              "      <td>mww</td>\n",
              "      <td>165km NNW of Flying Fish Cove, Christmas Island</td>\n",
              "      <td>1539459504090</td>\n",
              "      <td>M 5.0 - 165km NNW of Flying Fish Cove, Christm...</td>\n",
              "      <td>1</td>\n",
              "      <td>USGS API</td>\n",
              "      <td>False</td>\n",
              "      <td>Christmas Island</td>\n",
              "    </tr>\n",
              "    <tr>\n",
              "      <th>118</th>\n",
              "      <td>green</td>\n",
              "      <td>6.70</td>\n",
              "      <td>mww</td>\n",
              "      <td>262km NW of Ozernovskiy, Russia</td>\n",
              "      <td>1539429023560</td>\n",
              "      <td>M 6.7 - 262km NW of Ozernovskiy, Russia</td>\n",
              "      <td>1</td>\n",
              "      <td>USGS API</td>\n",
              "      <td>False</td>\n",
              "      <td>Russia</td>\n",
              "    </tr>\n",
              "    <tr>\n",
              "      <th>0</th>\n",
              "      <td>NaN</td>\n",
              "      <td>1.35</td>\n",
              "      <td>ml</td>\n",
              "      <td>9km NE of Aguanga, CA</td>\n",
              "      <td>1539475168010</td>\n",
              "      <td>M 1.4 - 9km NE of Aguanga, CA</td>\n",
              "      <td>0</td>\n",
              "      <td>USGS API</td>\n",
              "      <td>False</td>\n",
              "      <td>California</td>\n",
              "    </tr>\n",
              "    <tr>\n",
              "      <th>1</th>\n",
              "      <td>NaN</td>\n",
              "      <td>1.29</td>\n",
              "      <td>ml</td>\n",
              "      <td>9km NE of Aguanga, CA</td>\n",
              "      <td>1539475129610</td>\n",
              "      <td>M 1.3 - 9km NE of Aguanga, CA</td>\n",
              "      <td>0</td>\n",
              "      <td>USGS API</td>\n",
              "      <td>False</td>\n",
              "      <td>California</td>\n",
              "    </tr>\n",
              "  </tbody>\n",
              "</table>\n",
              "</div>"
            ],
            "text/plain": [
              "     alert   mag magType  ...    source  mag_negative      parsed_place\n",
              "36     NaN  5.00     mww  ...  USGS API         False  Christmas Island\n",
              "118  green  6.70     mww  ...  USGS API         False            Russia\n",
              "0      NaN  1.35      ml  ...  USGS API         False        California\n",
              "1      NaN  1.29      ml  ...  USGS API         False        California\n",
              "\n",
              "[4 rows x 10 columns]"
            ]
          },
          "metadata": {},
          "execution_count": 21
        }
      ]
    },
    {
      "cell_type": "markdown",
      "metadata": {
        "id": "4novMaCFA9wb"
      },
      "source": [
        "* 지금 위에서는 type = \"earthquake\"라는 것을 만들었는데 inner join이니까 겹치는 것만 출력해주는데 현재 새로 type이라는 것을 만들어서 새로 만든 type은 나오지 않는다 근데, outter를 사용해주면 새로 만든 type도 출력이 되는 것을 알 수 있다."
      ]
    },
    {
      "cell_type": "markdown",
      "metadata": {
        "id": "H5-bpJN4Bmcp"
      },
      "source": [
        "In addition, we use `ignore_index`, since the index doesn't mean anything for us here. This gives us sequential values instead of what we had in the previous result:"
      ]
    },
    {
      "cell_type": "code",
      "metadata": {
        "id": "uaZW7Mb8Bmcp",
        "colab": {
          "base_uri": "https://localhost:8080/",
          "height": 173
        },
        "outputId": "9b1a191d-102f-486e-f43b-7aa28e29d27d"
      },
      "source": [
        "pd.concat(\n",
        "    [tsunami.head(2), no_tsunami.head(2).assign(type='earthquake')], join='inner', ignore_index=True\n",
        ")"
      ],
      "execution_count": 22,
      "outputs": [
        {
          "output_type": "execute_result",
          "data": {
            "text/html": [
              "<div>\n",
              "<style scoped>\n",
              "    .dataframe tbody tr th:only-of-type {\n",
              "        vertical-align: middle;\n",
              "    }\n",
              "\n",
              "    .dataframe tbody tr th {\n",
              "        vertical-align: top;\n",
              "    }\n",
              "\n",
              "    .dataframe thead th {\n",
              "        text-align: right;\n",
              "    }\n",
              "</style>\n",
              "<table border=\"1\" class=\"dataframe\">\n",
              "  <thead>\n",
              "    <tr style=\"text-align: right;\">\n",
              "      <th></th>\n",
              "      <th>alert</th>\n",
              "      <th>mag</th>\n",
              "      <th>magType</th>\n",
              "      <th>place</th>\n",
              "      <th>time</th>\n",
              "      <th>title</th>\n",
              "      <th>tsunami</th>\n",
              "      <th>source</th>\n",
              "      <th>mag_negative</th>\n",
              "      <th>parsed_place</th>\n",
              "    </tr>\n",
              "  </thead>\n",
              "  <tbody>\n",
              "    <tr>\n",
              "      <th>0</th>\n",
              "      <td>NaN</td>\n",
              "      <td>5.00</td>\n",
              "      <td>mww</td>\n",
              "      <td>165km NNW of Flying Fish Cove, Christmas Island</td>\n",
              "      <td>1539459504090</td>\n",
              "      <td>M 5.0 - 165km NNW of Flying Fish Cove, Christm...</td>\n",
              "      <td>1</td>\n",
              "      <td>USGS API</td>\n",
              "      <td>False</td>\n",
              "      <td>Christmas Island</td>\n",
              "    </tr>\n",
              "    <tr>\n",
              "      <th>1</th>\n",
              "      <td>green</td>\n",
              "      <td>6.70</td>\n",
              "      <td>mww</td>\n",
              "      <td>262km NW of Ozernovskiy, Russia</td>\n",
              "      <td>1539429023560</td>\n",
              "      <td>M 6.7 - 262km NW of Ozernovskiy, Russia</td>\n",
              "      <td>1</td>\n",
              "      <td>USGS API</td>\n",
              "      <td>False</td>\n",
              "      <td>Russia</td>\n",
              "    </tr>\n",
              "    <tr>\n",
              "      <th>2</th>\n",
              "      <td>NaN</td>\n",
              "      <td>1.35</td>\n",
              "      <td>ml</td>\n",
              "      <td>9km NE of Aguanga, CA</td>\n",
              "      <td>1539475168010</td>\n",
              "      <td>M 1.4 - 9km NE of Aguanga, CA</td>\n",
              "      <td>0</td>\n",
              "      <td>USGS API</td>\n",
              "      <td>False</td>\n",
              "      <td>California</td>\n",
              "    </tr>\n",
              "    <tr>\n",
              "      <th>3</th>\n",
              "      <td>NaN</td>\n",
              "      <td>1.29</td>\n",
              "      <td>ml</td>\n",
              "      <td>9km NE of Aguanga, CA</td>\n",
              "      <td>1539475129610</td>\n",
              "      <td>M 1.3 - 9km NE of Aguanga, CA</td>\n",
              "      <td>0</td>\n",
              "      <td>USGS API</td>\n",
              "      <td>False</td>\n",
              "      <td>California</td>\n",
              "    </tr>\n",
              "  </tbody>\n",
              "</table>\n",
              "</div>"
            ],
            "text/plain": [
              "   alert   mag magType  ...    source  mag_negative      parsed_place\n",
              "0    NaN  5.00     mww  ...  USGS API         False  Christmas Island\n",
              "1  green  6.70     mww  ...  USGS API         False            Russia\n",
              "2    NaN  1.35      ml  ...  USGS API         False        California\n",
              "3    NaN  1.29      ml  ...  USGS API         False        California\n",
              "\n",
              "[4 rows x 10 columns]"
            ]
          },
          "metadata": {},
          "execution_count": 22
        }
      ]
    },
    {
      "cell_type": "markdown",
      "metadata": {
        "id": "SwaHMi6pBYA_"
      },
      "source": [
        "* 합치고 나서 index의 순서로 바로 다시 하고 싶을 때는 ignore_index = True를 해주게 되면 index의 순서가 바로 되는 것을 볼 수 있다."
      ]
    },
    {
      "cell_type": "markdown",
      "metadata": {
        "id": "J8rhfAPyBmcq"
      },
      "source": [
        "## Deleting Unwanted Data\n",
        "Columns can be deleted using dictionary syntax with `del`:"
      ]
    },
    {
      "cell_type": "code",
      "metadata": {
        "id": "lMOs2w-SEcdO",
        "colab": {
          "base_uri": "https://localhost:8080/"
        },
        "outputId": "b2e4ed45-b43e-471b-93ec-b92b36b9d0b6"
      },
      "source": [
        "df.columns"
      ],
      "execution_count": 23,
      "outputs": [
        {
          "output_type": "execute_result",
          "data": {
            "text/plain": [
              "Index(['alert', 'mag', 'magType', 'place', 'time', 'title', 'tsunami',\n",
              "       'source', 'mag_negative', 'parsed_place'],\n",
              "      dtype='object')"
            ]
          },
          "metadata": {},
          "execution_count": 23
        }
      ]
    },
    {
      "cell_type": "code",
      "metadata": {
        "id": "pyvE4upABmcq",
        "colab": {
          "base_uri": "https://localhost:8080/"
        },
        "outputId": "3f8a85ae-bb8b-47df-8bc9-430db60e9896"
      },
      "source": [
        "del df['source']\n",
        "df.columns"
      ],
      "execution_count": 24,
      "outputs": [
        {
          "output_type": "execute_result",
          "data": {
            "text/plain": [
              "Index(['alert', 'mag', 'magType', 'place', 'time', 'title', 'tsunami',\n",
              "       'mag_negative', 'parsed_place'],\n",
              "      dtype='object')"
            ]
          },
          "metadata": {},
          "execution_count": 24
        }
      ]
    },
    {
      "cell_type": "markdown",
      "metadata": {
        "id": "aAtJj52rBmuT"
      },
      "source": [
        "* source라는 변수가 del을 사용해서 지워진 것을 볼 수 있다."
      ]
    },
    {
      "cell_type": "markdown",
      "metadata": {
        "id": "Vp4Lrn-nBmcq"
      },
      "source": [
        "If we don't know whether the column exists, we should use a `try`/`except` block:"
      ]
    },
    {
      "cell_type": "code",
      "metadata": {
        "id": "bHBJNDjEBmcq",
        "colab": {
          "base_uri": "https://localhost:8080/"
        },
        "outputId": "42b70629-58e9-443d-d149-1f189181fdce"
      },
      "source": [
        "try:\n",
        "    del df['source']\n",
        "except KeyError:\n",
        "    # handle the error here\n",
        "    print('not there anymore')"
      ],
      "execution_count": 25,
      "outputs": [
        {
          "output_type": "stream",
          "name": "stdout",
          "text": [
            "not there anymore\n"
          ]
        }
      ]
    },
    {
      "cell_type": "markdown",
      "metadata": {
        "id": "qEtRYGypBx-0"
      },
      "source": [
        "* 에러가 안나게 하는 방법은 try와 except를 사용하면 된다."
      ]
    },
    {
      "cell_type": "markdown",
      "metadata": {
        "id": "nrr55qNyBmcr"
      },
      "source": [
        "We can also use `pop()`. This will allow us to use the series we remove later. Note there will be an error if the key doesn't exist, so we can also use a `try`/`except` here:"
      ]
    },
    {
      "cell_type": "code",
      "metadata": {
        "id": "WEXzjeSVBmcr",
        "colab": {
          "base_uri": "https://localhost:8080/"
        },
        "outputId": "75e2b23f-cbb7-4fb6-d894-343fb3d100b5"
      },
      "source": [
        "mag_negative = df.pop('mag_negative')\n",
        "df.columns"
      ],
      "execution_count": 26,
      "outputs": [
        {
          "output_type": "execute_result",
          "data": {
            "text/plain": [
              "Index(['alert', 'mag', 'magType', 'place', 'time', 'title', 'tsunami',\n",
              "       'parsed_place'],\n",
              "      dtype='object')"
            ]
          },
          "metadata": {},
          "execution_count": 26
        }
      ]
    },
    {
      "cell_type": "markdown",
      "metadata": {
        "id": "-1KDrUJPB570"
      },
      "source": [
        "* 여기에서는 pop이라는 것을 사용해서 mag_negative를 없애주는 것을 해준다."
      ]
    },
    {
      "cell_type": "markdown",
      "metadata": {
        "id": "8zXpqA4cBmcr"
      },
      "source": [
        "Notice we have a mask in `mag_negative` now:"
      ]
    },
    {
      "cell_type": "code",
      "metadata": {
        "id": "dUTnotwUBmcs",
        "colab": {
          "base_uri": "https://localhost:8080/"
        },
        "outputId": "bf49ac4c-a94d-4295-af1c-16d12af49e8c"
      },
      "source": [
        "mag_negative.value_counts()"
      ],
      "execution_count": 27,
      "outputs": [
        {
          "output_type": "execute_result",
          "data": {
            "text/plain": [
              "False    8841\n",
              "True      491\n",
              "Name: mag_negative, dtype: int64"
            ]
          },
          "metadata": {},
          "execution_count": 27
        }
      ]
    },
    {
      "cell_type": "markdown",
      "metadata": {
        "id": "HosKJZVIBmcs"
      },
      "source": [
        "Now, we can use `mag_negative` to filter our data:"
      ]
    },
    {
      "cell_type": "code",
      "metadata": {
        "id": "gDc19uKxBmcs",
        "colab": {
          "base_uri": "https://localhost:8080/",
          "height": 204
        },
        "outputId": "91d39d8b-b0db-40ea-cccd-f57e5693faa0"
      },
      "source": [
        "df[mag_negative].head()"
      ],
      "execution_count": 28,
      "outputs": [
        {
          "output_type": "execute_result",
          "data": {
            "text/html": [
              "<div>\n",
              "<style scoped>\n",
              "    .dataframe tbody tr th:only-of-type {\n",
              "        vertical-align: middle;\n",
              "    }\n",
              "\n",
              "    .dataframe tbody tr th {\n",
              "        vertical-align: top;\n",
              "    }\n",
              "\n",
              "    .dataframe thead th {\n",
              "        text-align: right;\n",
              "    }\n",
              "</style>\n",
              "<table border=\"1\" class=\"dataframe\">\n",
              "  <thead>\n",
              "    <tr style=\"text-align: right;\">\n",
              "      <th></th>\n",
              "      <th>alert</th>\n",
              "      <th>mag</th>\n",
              "      <th>magType</th>\n",
              "      <th>place</th>\n",
              "      <th>time</th>\n",
              "      <th>title</th>\n",
              "      <th>tsunami</th>\n",
              "      <th>parsed_place</th>\n",
              "    </tr>\n",
              "  </thead>\n",
              "  <tbody>\n",
              "    <tr>\n",
              "      <th>39</th>\n",
              "      <td>NaN</td>\n",
              "      <td>-0.10</td>\n",
              "      <td>ml</td>\n",
              "      <td>6km NW of Lemmon Valley, Nevada</td>\n",
              "      <td>1539458844506</td>\n",
              "      <td>M -0.1 - 6km NW of Lemmon Valley, Nevada</td>\n",
              "      <td>0</td>\n",
              "      <td>Nevada</td>\n",
              "    </tr>\n",
              "    <tr>\n",
              "      <th>49</th>\n",
              "      <td>NaN</td>\n",
              "      <td>-0.10</td>\n",
              "      <td>ml</td>\n",
              "      <td>6km NW of Lemmon Valley, Nevada</td>\n",
              "      <td>1539455017464</td>\n",
              "      <td>M -0.1 - 6km NW of Lemmon Valley, Nevada</td>\n",
              "      <td>0</td>\n",
              "      <td>Nevada</td>\n",
              "    </tr>\n",
              "    <tr>\n",
              "      <th>135</th>\n",
              "      <td>NaN</td>\n",
              "      <td>-0.40</td>\n",
              "      <td>ml</td>\n",
              "      <td>10km SSE of Beatty, Nevada</td>\n",
              "      <td>1539422175717</td>\n",
              "      <td>M -0.4 - 10km SSE of Beatty, Nevada</td>\n",
              "      <td>0</td>\n",
              "      <td>Nevada</td>\n",
              "    </tr>\n",
              "    <tr>\n",
              "      <th>161</th>\n",
              "      <td>NaN</td>\n",
              "      <td>-0.02</td>\n",
              "      <td>md</td>\n",
              "      <td>20km SSE of Ronan, Montana</td>\n",
              "      <td>1539412475360</td>\n",
              "      <td>M -0.0 - 20km SSE of Ronan, Montana</td>\n",
              "      <td>0</td>\n",
              "      <td>Montana</td>\n",
              "    </tr>\n",
              "    <tr>\n",
              "      <th>198</th>\n",
              "      <td>NaN</td>\n",
              "      <td>-0.20</td>\n",
              "      <td>ml</td>\n",
              "      <td>60km N of Pahrump, Nevada</td>\n",
              "      <td>1539398340822</td>\n",
              "      <td>M -0.2 - 60km N of Pahrump, Nevada</td>\n",
              "      <td>0</td>\n",
              "      <td>Nevada</td>\n",
              "    </tr>\n",
              "  </tbody>\n",
              "</table>\n",
              "</div>"
            ],
            "text/plain": [
              "    alert   mag  ... tsunami parsed_place\n",
              "39    NaN -0.10  ...       0       Nevada\n",
              "49    NaN -0.10  ...       0       Nevada\n",
              "135   NaN -0.40  ...       0       Nevada\n",
              "161   NaN -0.02  ...       0      Montana\n",
              "198   NaN -0.20  ...       0       Nevada\n",
              "\n",
              "[5 rows x 8 columns]"
            ]
          },
          "metadata": {},
          "execution_count": 28
        }
      ]
    },
    {
      "cell_type": "markdown",
      "metadata": {
        "id": "CLuzqhRACHR7"
      },
      "source": [
        "* mag_negative인것에 대한 정보를 뽑아 준 것이다."
      ]
    },
    {
      "cell_type": "markdown",
      "metadata": {
        "id": "dsRMQlpaBmcs"
      },
      "source": [
        "### Using the `drop()` method\n",
        "We can drop rows by passing a list of indices to the `drop()` method. Notice in the following example that when asking for the first 2 rows with `head()` we get the 3rd and 4th rows because we dropped the original first 2 with `drop([0, 1])`:"
      ]
    },
    {
      "cell_type": "markdown",
      "metadata": {
        "id": "bBNd2SUCCOTu"
      },
      "source": [
        "* drop이란 것을 사용해서 multiple column과 multiple rows들을 지워 줄 수 있다."
      ]
    },
    {
      "cell_type": "code",
      "metadata": {
        "id": "LVgBbAuGBmct",
        "colab": {
          "base_uri": "https://localhost:8080/",
          "height": 111
        },
        "outputId": "f8722a46-8b28-429c-9dc3-da99a5723a61"
      },
      "source": [
        "df.drop([0, 1]).head(2)"
      ],
      "execution_count": 29,
      "outputs": [
        {
          "output_type": "execute_result",
          "data": {
            "text/html": [
              "<div>\n",
              "<style scoped>\n",
              "    .dataframe tbody tr th:only-of-type {\n",
              "        vertical-align: middle;\n",
              "    }\n",
              "\n",
              "    .dataframe tbody tr th {\n",
              "        vertical-align: top;\n",
              "    }\n",
              "\n",
              "    .dataframe thead th {\n",
              "        text-align: right;\n",
              "    }\n",
              "</style>\n",
              "<table border=\"1\" class=\"dataframe\">\n",
              "  <thead>\n",
              "    <tr style=\"text-align: right;\">\n",
              "      <th></th>\n",
              "      <th>alert</th>\n",
              "      <th>mag</th>\n",
              "      <th>magType</th>\n",
              "      <th>place</th>\n",
              "      <th>time</th>\n",
              "      <th>title</th>\n",
              "      <th>tsunami</th>\n",
              "      <th>parsed_place</th>\n",
              "    </tr>\n",
              "  </thead>\n",
              "  <tbody>\n",
              "    <tr>\n",
              "      <th>2</th>\n",
              "      <td>NaN</td>\n",
              "      <td>3.42</td>\n",
              "      <td>ml</td>\n",
              "      <td>8km NE of Aguanga, CA</td>\n",
              "      <td>1539475062610</td>\n",
              "      <td>M 3.4 - 8km NE of Aguanga, CA</td>\n",
              "      <td>0</td>\n",
              "      <td>California</td>\n",
              "    </tr>\n",
              "    <tr>\n",
              "      <th>3</th>\n",
              "      <td>NaN</td>\n",
              "      <td>0.44</td>\n",
              "      <td>ml</td>\n",
              "      <td>9km NE of Aguanga, CA</td>\n",
              "      <td>1539474978070</td>\n",
              "      <td>M 0.4 - 9km NE of Aguanga, CA</td>\n",
              "      <td>0</td>\n",
              "      <td>California</td>\n",
              "    </tr>\n",
              "  </tbody>\n",
              "</table>\n",
              "</div>"
            ],
            "text/plain": [
              "  alert   mag magType  ...                          title  tsunami parsed_place\n",
              "2   NaN  3.42      ml  ...  M 3.4 - 8km NE of Aguanga, CA        0   California\n",
              "3   NaN  0.44      ml  ...  M 0.4 - 9km NE of Aguanga, CA        0   California\n",
              "\n",
              "[2 rows x 8 columns]"
            ]
          },
          "metadata": {},
          "execution_count": 29
        }
      ]
    },
    {
      "cell_type": "markdown",
      "metadata": {
        "id": "Wp2sgfV_CYji"
      },
      "source": [
        "* 0번째와 1번째를 지워준다."
      ]
    },
    {
      "cell_type": "markdown",
      "metadata": {
        "id": "CSvVIMTmBmct"
      },
      "source": [
        "The `drop()` method drops along the row axis by default. If we pass in a list of columns with the `columns` argument, we can delete columns:"
      ]
    },
    {
      "cell_type": "code",
      "metadata": {
        "id": "U2DbQghcE7Na",
        "colab": {
          "base_uri": "https://localhost:8080/"
        },
        "outputId": "dba44fc3-e353-4ad7-b25c-1d6bacbfaa03"
      },
      "source": [
        "cols_to_drop = [\n",
        "    col for col in df.columns  #df.columns들에 대해서 만약 columns이 아래와 같은 column이 아니면 cols_to_drop에 저장해줘라 하는 것이다.\n",
        "    if col not in ['alert', 'mag', 'title', 'time', 'tsunami']\n",
        "]\n",
        "cols_to_drop"
      ],
      "execution_count": 31,
      "outputs": [
        {
          "output_type": "execute_result",
          "data": {
            "text/plain": [
              "['magType', 'place', 'parsed_place']"
            ]
          },
          "metadata": {},
          "execution_count": 31
        }
      ]
    },
    {
      "cell_type": "code",
      "metadata": {
        "id": "ss4h3KQHBmct",
        "colab": {
          "base_uri": "https://localhost:8080/",
          "height": 204
        },
        "outputId": "1a0b7df7-692d-4373-d7f1-63ef4d03d2e2"
      },
      "source": [
        "cols_to_drop = [\n",
        "    col for col in df.columns\n",
        "    if col not in ['alert', 'mag', 'title', 'time', 'tsunami']\n",
        "]\n",
        "df.drop(columns=cols_to_drop).head()"
      ],
      "execution_count": 32,
      "outputs": [
        {
          "output_type": "execute_result",
          "data": {
            "text/html": [
              "<div>\n",
              "<style scoped>\n",
              "    .dataframe tbody tr th:only-of-type {\n",
              "        vertical-align: middle;\n",
              "    }\n",
              "\n",
              "    .dataframe tbody tr th {\n",
              "        vertical-align: top;\n",
              "    }\n",
              "\n",
              "    .dataframe thead th {\n",
              "        text-align: right;\n",
              "    }\n",
              "</style>\n",
              "<table border=\"1\" class=\"dataframe\">\n",
              "  <thead>\n",
              "    <tr style=\"text-align: right;\">\n",
              "      <th></th>\n",
              "      <th>alert</th>\n",
              "      <th>mag</th>\n",
              "      <th>time</th>\n",
              "      <th>title</th>\n",
              "      <th>tsunami</th>\n",
              "    </tr>\n",
              "  </thead>\n",
              "  <tbody>\n",
              "    <tr>\n",
              "      <th>0</th>\n",
              "      <td>NaN</td>\n",
              "      <td>1.35</td>\n",
              "      <td>1539475168010</td>\n",
              "      <td>M 1.4 - 9km NE of Aguanga, CA</td>\n",
              "      <td>0</td>\n",
              "    </tr>\n",
              "    <tr>\n",
              "      <th>1</th>\n",
              "      <td>NaN</td>\n",
              "      <td>1.29</td>\n",
              "      <td>1539475129610</td>\n",
              "      <td>M 1.3 - 9km NE of Aguanga, CA</td>\n",
              "      <td>0</td>\n",
              "    </tr>\n",
              "    <tr>\n",
              "      <th>2</th>\n",
              "      <td>NaN</td>\n",
              "      <td>3.42</td>\n",
              "      <td>1539475062610</td>\n",
              "      <td>M 3.4 - 8km NE of Aguanga, CA</td>\n",
              "      <td>0</td>\n",
              "    </tr>\n",
              "    <tr>\n",
              "      <th>3</th>\n",
              "      <td>NaN</td>\n",
              "      <td>0.44</td>\n",
              "      <td>1539474978070</td>\n",
              "      <td>M 0.4 - 9km NE of Aguanga, CA</td>\n",
              "      <td>0</td>\n",
              "    </tr>\n",
              "    <tr>\n",
              "      <th>4</th>\n",
              "      <td>NaN</td>\n",
              "      <td>2.16</td>\n",
              "      <td>1539474716050</td>\n",
              "      <td>M 2.2 - 10km NW of Avenal, CA</td>\n",
              "      <td>0</td>\n",
              "    </tr>\n",
              "  </tbody>\n",
              "</table>\n",
              "</div>"
            ],
            "text/plain": [
              "  alert   mag           time                          title  tsunami\n",
              "0   NaN  1.35  1539475168010  M 1.4 - 9km NE of Aguanga, CA        0\n",
              "1   NaN  1.29  1539475129610  M 1.3 - 9km NE of Aguanga, CA        0\n",
              "2   NaN  3.42  1539475062610  M 3.4 - 8km NE of Aguanga, CA        0\n",
              "3   NaN  0.44  1539474978070  M 0.4 - 9km NE of Aguanga, CA        0\n",
              "4   NaN  2.16  1539474716050  M 2.2 - 10km NW of Avenal, CA        0"
            ]
          },
          "metadata": {},
          "execution_count": 32
        }
      ]
    },
    {
      "cell_type": "markdown",
      "metadata": {
        "id": "YqJUyLflCz9I"
      },
      "source": [
        "* cols_to_drop안에 있는 변수들을 지워주는 것이다."
      ]
    },
    {
      "cell_type": "markdown",
      "metadata": {
        "id": "4E3BIb0jBmct"
      },
      "source": [
        "We also have the option of using `axis=1`:"
      ]
    },
    {
      "cell_type": "code",
      "metadata": {
        "id": "jjtPXyF4Bmct",
        "colab": {
          "base_uri": "https://localhost:8080/"
        },
        "outputId": "9e6e88f9-3b41-4e05-e4a1-7accd168b273"
      },
      "source": [
        "df.drop(columns=cols_to_drop).equals(\n",
        "    df.drop(cols_to_drop, axis=1)   #axis 1을 하게 되면, column방향인데 이렇게 해도 위의 코드와 같다는 것이다.\n",
        ")"
      ],
      "execution_count": 33,
      "outputs": [
        {
          "output_type": "execute_result",
          "data": {
            "text/plain": [
              "True"
            ]
          },
          "metadata": {},
          "execution_count": 33
        }
      ]
    },
    {
      "cell_type": "markdown",
      "metadata": {
        "id": "ozxkWJ3MBmcu"
      },
      "source": [
        "By default, `drop()`, along with the majority of `DataFrame` methods, will return a new `DataFrame` object. If we just want to change the one we are working with, we can pass `inplace=True`. This should be used with care:"
      ]
    },
    {
      "cell_type": "code",
      "metadata": {
        "id": "G67S71LSBmcu",
        "colab": {
          "base_uri": "https://localhost:8080/",
          "height": 204
        },
        "outputId": "984688fb-f757-4932-f5e4-8132f37d545b"
      },
      "source": [
        "df.drop(columns=cols_to_drop, inplace=True)\n",
        "df.head()"
      ],
      "execution_count": 34,
      "outputs": [
        {
          "output_type": "execute_result",
          "data": {
            "text/html": [
              "<div>\n",
              "<style scoped>\n",
              "    .dataframe tbody tr th:only-of-type {\n",
              "        vertical-align: middle;\n",
              "    }\n",
              "\n",
              "    .dataframe tbody tr th {\n",
              "        vertical-align: top;\n",
              "    }\n",
              "\n",
              "    .dataframe thead th {\n",
              "        text-align: right;\n",
              "    }\n",
              "</style>\n",
              "<table border=\"1\" class=\"dataframe\">\n",
              "  <thead>\n",
              "    <tr style=\"text-align: right;\">\n",
              "      <th></th>\n",
              "      <th>alert</th>\n",
              "      <th>mag</th>\n",
              "      <th>time</th>\n",
              "      <th>title</th>\n",
              "      <th>tsunami</th>\n",
              "    </tr>\n",
              "  </thead>\n",
              "  <tbody>\n",
              "    <tr>\n",
              "      <th>0</th>\n",
              "      <td>NaN</td>\n",
              "      <td>1.35</td>\n",
              "      <td>1539475168010</td>\n",
              "      <td>M 1.4 - 9km NE of Aguanga, CA</td>\n",
              "      <td>0</td>\n",
              "    </tr>\n",
              "    <tr>\n",
              "      <th>1</th>\n",
              "      <td>NaN</td>\n",
              "      <td>1.29</td>\n",
              "      <td>1539475129610</td>\n",
              "      <td>M 1.3 - 9km NE of Aguanga, CA</td>\n",
              "      <td>0</td>\n",
              "    </tr>\n",
              "    <tr>\n",
              "      <th>2</th>\n",
              "      <td>NaN</td>\n",
              "      <td>3.42</td>\n",
              "      <td>1539475062610</td>\n",
              "      <td>M 3.4 - 8km NE of Aguanga, CA</td>\n",
              "      <td>0</td>\n",
              "    </tr>\n",
              "    <tr>\n",
              "      <th>3</th>\n",
              "      <td>NaN</td>\n",
              "      <td>0.44</td>\n",
              "      <td>1539474978070</td>\n",
              "      <td>M 0.4 - 9km NE of Aguanga, CA</td>\n",
              "      <td>0</td>\n",
              "    </tr>\n",
              "    <tr>\n",
              "      <th>4</th>\n",
              "      <td>NaN</td>\n",
              "      <td>2.16</td>\n",
              "      <td>1539474716050</td>\n",
              "      <td>M 2.2 - 10km NW of Avenal, CA</td>\n",
              "      <td>0</td>\n",
              "    </tr>\n",
              "  </tbody>\n",
              "</table>\n",
              "</div>"
            ],
            "text/plain": [
              "  alert   mag           time                          title  tsunami\n",
              "0   NaN  1.35  1539475168010  M 1.4 - 9km NE of Aguanga, CA        0\n",
              "1   NaN  1.29  1539475129610  M 1.3 - 9km NE of Aguanga, CA        0\n",
              "2   NaN  3.42  1539475062610  M 3.4 - 8km NE of Aguanga, CA        0\n",
              "3   NaN  0.44  1539474978070  M 0.4 - 9km NE of Aguanga, CA        0\n",
              "4   NaN  2.16  1539474716050  M 2.2 - 10km NW of Avenal, CA        0"
            ]
          },
          "metadata": {},
          "execution_count": 34
        }
      ]
    },
    {
      "cell_type": "markdown",
      "metadata": {
        "id": "R0E2eU75DScW"
      },
      "source": [
        "* 데이터 프레임 자체를 수정하고 싶으면 inplace=True를 하게되면 dataframe자체가 바뀌게 된다.\n",
        "* 원본 데이터의 데이터프레임이 바뀌게 된다."
      ]
    },
    {
      "cell_type": "markdown",
      "metadata": {
        "id": "KgQEd_s3Bmcu"
      },
      "source": [
        "<hr>\n",
        "\n",
        "<div style=\"overflow: hidden; margin-bottom: 10px;\">\n",
        "    <div style=\"float: left;\">\n",
        "        <a href=\"./5-subsetting_data.ipynb\">\n",
        "            <button>&#8592; Previous Notebook</button>\n",
        "        </a>\n",
        "    </div>\n",
        "    <div style=\"float: right;\">\n",
        "        <a href=\"../../solutions/ch_02/solutions.ipynb\">\n",
        "            <button>Solutions</button>\n",
        "        </a>\n",
        "        <a href=\"../ch_03/1-wide_vs_long.ipynb\">\n",
        "            <button>Chapter 3 &#8594;</button>\n",
        "        </a>\n",
        "    </div>\n",
        "</div>\n",
        "<hr>"
      ]
    }
  ]
}
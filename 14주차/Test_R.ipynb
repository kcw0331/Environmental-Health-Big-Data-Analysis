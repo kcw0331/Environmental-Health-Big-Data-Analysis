{
  "nbformat": 4,
  "nbformat_minor": 0,
  "metadata": {
    "colab": {
      "name": "Test_R.ipynb",
      "provenance": [],
      "collapsed_sections": [],
      "include_colab_link": true
    },
    "kernelspec": {
      "name": "ir",
      "display_name": "R"
    },
    "language_info": {
      "name": "R"
    }
  },
  "cells": [
    {
      "cell_type": "markdown",
      "metadata": {
        "id": "view-in-github",
        "colab_type": "text"
      },
      "source": [
        "<a href=\"https://colab.research.google.com/github/kcw0331/Environmental-Health-Big-Data-Analysis/blob/main/14%EC%A3%BC%EC%B0%A8/Test_R.ipynb\" target=\"_parent\"><img src=\"https://colab.research.google.com/assets/colab-badge.svg\" alt=\"Open In Colab\"/></a>"
      ]
    },
    {
      "cell_type": "markdown",
      "metadata": {
        "id": "YHlHyTnCL5yn"
      },
      "source": [
        "먼저 본 문제지를 본인의 google drive 에 저장한 후 연습을 수행하세요.\n",
        "\n",
        "File -> Save a copy in drive"
      ]
    },
    {
      "cell_type": "markdown",
      "metadata": {
        "id": "66Q5TadhzbeX"
      },
      "source": [
        "## Test_R \n",
        "\n",
        "R의 tidyverse 패키지를 사용하여 아래의 문제들을 풀어보도록 합시다. \n"
      ]
    },
    {
      "cell_type": "code",
      "metadata": {
        "colab": {
          "base_uri": "https://localhost:8080/"
        },
        "id": "su55fMNCxWXz",
        "outputId": "765853d2-925c-48b1-8748-3d9a32252d3b"
      },
      "source": [
        "library(tidyverse)"
      ],
      "execution_count": null,
      "outputs": [
        {
          "output_type": "stream",
          "name": "stderr",
          "text": [
            "Warning message in system(\"timedatectl\", intern = TRUE):\n",
            "“running command 'timedatectl' had status 1”\n",
            "── \u001b[1mAttaching packages\u001b[22m ─────────────────────────────────────── tidyverse 1.3.1 ──\n",
            "\n",
            "\u001b[32m✔\u001b[39m \u001b[34mggplot2\u001b[39m 3.3.5     \u001b[32m✔\u001b[39m \u001b[34mpurrr  \u001b[39m 0.3.4\n",
            "\u001b[32m✔\u001b[39m \u001b[34mtibble \u001b[39m 3.1.6     \u001b[32m✔\u001b[39m \u001b[34mdplyr  \u001b[39m 1.0.7\n",
            "\u001b[32m✔\u001b[39m \u001b[34mtidyr  \u001b[39m 1.1.4     \u001b[32m✔\u001b[39m \u001b[34mstringr\u001b[39m 1.4.0\n",
            "\u001b[32m✔\u001b[39m \u001b[34mreadr  \u001b[39m 2.1.0     \u001b[32m✔\u001b[39m \u001b[34mforcats\u001b[39m 0.5.1\n",
            "\n",
            "── \u001b[1mConflicts\u001b[22m ────────────────────────────────────────── tidyverse_conflicts() ──\n",
            "\u001b[31m✖\u001b[39m \u001b[34mdplyr\u001b[39m::\u001b[32mfilter()\u001b[39m masks \u001b[34mstats\u001b[39m::filter()\n",
            "\u001b[31m✖\u001b[39m \u001b[34mdplyr\u001b[39m::\u001b[32mlag()\u001b[39m    masks \u001b[34mstats\u001b[39m::lag()\n",
            "\n"
          ]
        }
      ]
    },
    {
      "cell_type": "code",
      "metadata": {
        "id": "ej5CwdCOaIpW",
        "colab": {
          "base_uri": "https://localhost:8080/"
        },
        "outputId": "6792af35-f221-4bf7-ff5a-a6293b4bdc21"
      },
      "source": [
        "install.packages(\"babynames\")"
      ],
      "execution_count": null,
      "outputs": [
        {
          "output_type": "stream",
          "name": "stderr",
          "text": [
            "Installing package into ‘/usr/local/lib/R/site-library’\n",
            "(as ‘lib’ is unspecified)\n",
            "\n"
          ]
        }
      ]
    },
    {
      "cell_type": "code",
      "metadata": {
        "id": "JXlYT2KLxX5K"
      },
      "source": [
        "library(babynames)"
      ],
      "execution_count": null,
      "outputs": []
    },
    {
      "cell_type": "markdown",
      "metadata": {
        "id": "ixjm-w9VbGF_"
      },
      "source": [
        "미국에서 5번 이상 사용된 아기 이름 데이터: babynames"
      ]
    },
    {
      "cell_type": "code",
      "metadata": {
        "id": "h6Y15KU-aqnx",
        "colab": {
          "base_uri": "https://localhost:8080/",
          "height": 286
        },
        "outputId": "50636aa3-bedc-4297-c11f-7228ac0dfd4d"
      },
      "source": [
        "head(babynames)"
      ],
      "execution_count": null,
      "outputs": [
        {
          "output_type": "display_data",
          "data": {
            "text/plain": [
              "  year sex name      n    prop      \n",
              "1 1880 F   Mary      7065 0.07238359\n",
              "2 1880 F   Anna      2604 0.02667896\n",
              "3 1880 F   Emma      2003 0.02052149\n",
              "4 1880 F   Elizabeth 1939 0.01986579\n",
              "5 1880 F   Minnie    1746 0.01788843\n",
              "6 1880 F   Margaret  1578 0.01616720"
            ],
            "text/latex": "A tibble: 6 × 5\n\\begin{tabular}{lllll}\n year & sex & name & n & prop\\\\\n <dbl> & <chr> & <chr> & <int> & <dbl>\\\\\n\\hline\n\t 1880 & F & Mary      & 7065 & 0.07238359\\\\\n\t 1880 & F & Anna      & 2604 & 0.02667896\\\\\n\t 1880 & F & Emma      & 2003 & 0.02052149\\\\\n\t 1880 & F & Elizabeth & 1939 & 0.01986579\\\\\n\t 1880 & F & Minnie    & 1746 & 0.01788843\\\\\n\t 1880 & F & Margaret  & 1578 & 0.01616720\\\\\n\\end{tabular}\n",
            "text/markdown": "\nA tibble: 6 × 5\n\n| year &lt;dbl&gt; | sex &lt;chr&gt; | name &lt;chr&gt; | n &lt;int&gt; | prop &lt;dbl&gt; |\n|---|---|---|---|---|\n| 1880 | F | Mary      | 7065 | 0.07238359 |\n| 1880 | F | Anna      | 2604 | 0.02667896 |\n| 1880 | F | Emma      | 2003 | 0.02052149 |\n| 1880 | F | Elizabeth | 1939 | 0.01986579 |\n| 1880 | F | Minnie    | 1746 | 0.01788843 |\n| 1880 | F | Margaret  | 1578 | 0.01616720 |\n\n",
            "text/html": [
              "<table class=\"dataframe\">\n",
              "<caption>A tibble: 6 × 5</caption>\n",
              "<thead>\n",
              "\t<tr><th scope=col>year</th><th scope=col>sex</th><th scope=col>name</th><th scope=col>n</th><th scope=col>prop</th></tr>\n",
              "\t<tr><th scope=col>&lt;dbl&gt;</th><th scope=col>&lt;chr&gt;</th><th scope=col>&lt;chr&gt;</th><th scope=col>&lt;int&gt;</th><th scope=col>&lt;dbl&gt;</th></tr>\n",
              "</thead>\n",
              "<tbody>\n",
              "\t<tr><td>1880</td><td>F</td><td>Mary     </td><td>7065</td><td>0.07238359</td></tr>\n",
              "\t<tr><td>1880</td><td>F</td><td>Anna     </td><td>2604</td><td>0.02667896</td></tr>\n",
              "\t<tr><td>1880</td><td>F</td><td>Emma     </td><td>2003</td><td>0.02052149</td></tr>\n",
              "\t<tr><td>1880</td><td>F</td><td>Elizabeth</td><td>1939</td><td>0.01986579</td></tr>\n",
              "\t<tr><td>1880</td><td>F</td><td>Minnie   </td><td>1746</td><td>0.01788843</td></tr>\n",
              "\t<tr><td>1880</td><td>F</td><td>Margaret </td><td>1578</td><td>0.01616720</td></tr>\n",
              "</tbody>\n",
              "</table>\n"
            ]
          },
          "metadata": {}
        }
      ]
    },
    {
      "cell_type": "code",
      "metadata": {
        "id": "EWfiUSQ9dWYy",
        "colab": {
          "base_uri": "https://localhost:8080/",
          "height": 34
        },
        "outputId": "b4c50938-54f2-4548-eded-d1e8c5965613"
      },
      "source": [
        "dim(babynames)"
      ],
      "execution_count": null,
      "outputs": [
        {
          "output_type": "display_data",
          "data": {
            "text/plain": [
              "[1] 1924665       5"
            ],
            "text/latex": "\\begin{enumerate*}\n\\item 1924665\n\\item 5\n\\end{enumerate*}\n",
            "text/markdown": "1. 1924665\n2. 5\n\n\n",
            "text/html": [
              "<style>\n",
              ".list-inline {list-style: none; margin:0; padding: 0}\n",
              ".list-inline>li {display: inline-block}\n",
              ".list-inline>li:not(:last-child)::after {content: \"\\00b7\"; padding: 0 .5ex}\n",
              "</style>\n",
              "<ol class=list-inline><li>1924665</li><li>5</li></ol>\n"
            ]
          },
          "metadata": {}
        }
      ]
    },
    {
      "cell_type": "markdown",
      "metadata": {
        "id": "aeOTmvzTdNDO"
      },
      "source": [
        "### Q1. 1900 년도에 태어난 남자, 여자 이름 top 5개를 알려주세요.\n",
        "\n",
        "\n"
      ]
    },
    {
      "cell_type": "markdown",
      "metadata": {
        "id": "E66EN8rVeF1B"
      },
      "source": [
        "### Q2. 연도별 태어난 남여 인구수를 비교하는 그래프를 그려보세요.  \n",
        "데이터는 5개 이상 사용된 아기 이름 데이터지만, 데이터에 나온 아이들이 전체 데이터라고 가정하고 문제를 풀어보세요."
      ]
    },
    {
      "cell_type": "markdown",
      "metadata": {
        "id": "gU0JuDFXeOGt"
      },
      "source": [
        "### Q3. 주어진 성별의 이름에 대해서 연도별로 태어난 아동 수의 그래프를 그려주는 함수를 작성하세요. "
      ]
    },
    {
      "cell_type": "markdown",
      "metadata": {
        "id": "aRvQqJpbeXUZ"
      },
      "source": [
        "### Q4. 본인이 만든 함수를 이용하여 이름들을 시각화 해 보면서 재미있는 패턴을 가진 이름에 대해 시각화 하고, theme 옵션을 사용해서 시각화 결과가 깔끔하게 나오게 수정해보세요. "
      ]
    },
    {
      "cell_type": "markdown",
      "metadata": {
        "id": "wU8xk_NUejL1"
      },
      "source": [
        "### Q5. 남자 여자 이름 모두 쓰이는 이름들을 몇 개 찾아서 연도별 패턴을 시각화 해 보세요.\n",
        "\n",
        " - 1900 년도에 1000개이상 쓰인 이름들을 추려보세요.\n",
        " - 추려진 data의 이름들에 대해서 table 함수를 썼을 때 2 가 나오는 이름들은 남, 여 모두에서 1000회 이상 쓰인 이름입니다. \n",
        " - 앞에서 확인한 이름으로 남자 여자별로 연도별 이름사용횟수를 그려주는 시각화를 수행해보세요.\n",
        " - 해당 그래플를 해석해서 설명해보세요\n"
      ]
    }
  ]
}
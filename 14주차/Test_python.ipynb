{
  "nbformat": 4,
  "nbformat_minor": 0,
  "metadata": {
    "kernelspec": {
      "display_name": "Python 3",
      "language": "python",
      "name": "python3"
    },
    "language_info": {
      "codemirror_mode": {
        "name": "ipython",
        "version": 3
      },
      "file_extension": ".py",
      "mimetype": "text/x-python",
      "name": "python",
      "nbconvert_exporter": "python",
      "pygments_lexer": "ipython3",
      "version": "3.6.0"
    },
    "colab": {
      "name": "Test_python.ipynb",
      "provenance": [],
      "collapsed_sections": [],
      "include_colab_link": true
    }
  },
  "cells": [
    {
      "cell_type": "markdown",
      "metadata": {
        "id": "view-in-github",
        "colab_type": "text"
      },
      "source": [
        "<a href=\"https://colab.research.google.com/github/kcw0331/Environmental-Health-Big-Data-Analysis/blob/main/14%EC%A3%BC%EC%B0%A8/Test_python.ipynb\" target=\"_parent\"><img src=\"https://colab.research.google.com/assets/colab-badge.svg\" alt=\"Open In Colab\"/></a>"
      ]
    },
    {
      "cell_type": "markdown",
      "metadata": {
        "id": "SzxMysYrMQeu"
      },
      "source": [
        "먼저 본 문제지를 본인의 google drive 에 저장한 후 연습을 수행하세요.\n",
        "\n",
        "File -> Save a copy in drive\n"
      ]
    },
    {
      "cell_type": "code",
      "metadata": {
        "id": "APg741ITM1AK"
      },
      "source": [
        "import pandas as pd\n",
        "import numpy as np"
      ],
      "execution_count": 1,
      "outputs": []
    },
    {
      "cell_type": "markdown",
      "metadata": {
        "id": "BEVQhTuMGKCR"
      },
      "source": [
        "## Pre-test, Python\n",
        "\n",
        "구글드라이브 연동 후 아래의 repository 를 google drive 에서 clone 해두세요. "
      ]
    },
    {
      "cell_type": "code",
      "metadata": {
        "colab": {
          "base_uri": "https://localhost:8080/"
        },
        "id": "gSWBv3X8GYJh",
        "outputId": "1be58c16-f21d-4d6e-e5ed-92c8500dde8e"
      },
      "source": [
        "from google.colab import drive\n",
        "drive.mount('/content/drive')"
      ],
      "execution_count": 2,
      "outputs": [
        {
          "output_type": "stream",
          "name": "stdout",
          "text": [
            "Mounted at /content/drive\n"
          ]
        }
      ]
    },
    {
      "cell_type": "code",
      "metadata": {
        "colab": {
          "base_uri": "https://localhost:8080/"
        },
        "id": "JMGkb4ccGiBH",
        "outputId": "1210536e-fb79-4494-b501-8cf16f948904"
      },
      "source": [
        "cd /content/drive/MyDrive/"
      ],
      "execution_count": 3,
      "outputs": [
        {
          "output_type": "stream",
          "name": "stdout",
          "text": [
            "/content/drive/MyDrive\n"
          ]
        }
      ]
    },
    {
      "cell_type": "code",
      "metadata": {
        "id": "8b5EwZybF591",
        "outputId": "865e0661-400c-4fdc-861c-5273ea4ac899",
        "colab": {
          "base_uri": "https://localhost:8080/"
        }
      },
      "source": [
        "!git clone https://github.com/wesm/pydata-book.git"
      ],
      "execution_count": 6,
      "outputs": [
        {
          "output_type": "stream",
          "name": "stdout",
          "text": [
            "fatal: destination path 'pydata-book' already exists and is not an empty directory.\n"
          ]
        }
      ]
    },
    {
      "cell_type": "code",
      "metadata": {
        "colab": {
          "base_uri": "https://localhost:8080/"
        },
        "id": "ZLnyoWlmGS1Z",
        "outputId": "102f7f0f-767f-475a-8ffd-f3f1bf5e0371"
      },
      "source": [
        "cd pydata-book"
      ],
      "execution_count": 7,
      "outputs": [
        {
          "output_type": "stream",
          "name": "stdout",
          "text": [
            "/content/drive/MyDrive/pydata-book\n"
          ]
        }
      ]
    },
    {
      "cell_type": "markdown",
      "metadata": {
        "id": "3s2gxGES2D81"
      },
      "source": [
        "### 테스트 데이터는 미국 신생아 이름 데이터입니다. \n",
        "\n",
        "파일들을 확인해보면 아래와 같습니다."
      ]
    },
    {
      "cell_type": "code",
      "metadata": {
        "id": "6hi8kD8B1-QO",
        "colab": {
          "base_uri": "https://localhost:8080/"
        },
        "outputId": "8a93ee16-7eaf-4d67-80f5-2ad97f115b3b"
      },
      "source": [
        "ls datasets/babynames"
      ],
      "execution_count": 8,
      "outputs": [
        {
          "output_type": "stream",
          "name": "stdout",
          "text": [
            "NationalReadMe.pdf  yob1906.txt  yob1933.txt  yob1960.txt  yob1987.txt\n",
            "yob1880.txt         yob1907.txt  yob1934.txt  yob1961.txt  yob1988.txt\n",
            "yob1881.txt         yob1908.txt  yob1935.txt  yob1962.txt  yob1989.txt\n",
            "yob1882.txt         yob1909.txt  yob1936.txt  yob1963.txt  yob1990.txt\n",
            "yob1883.txt         yob1910.txt  yob1937.txt  yob1964.txt  yob1991.txt\n",
            "yob1884.txt         yob1911.txt  yob1938.txt  yob1965.txt  yob1992.txt\n",
            "yob1885.txt         yob1912.txt  yob1939.txt  yob1966.txt  yob1993.txt\n",
            "yob1886.txt         yob1913.txt  yob1940.txt  yob1967.txt  yob1994.txt\n",
            "yob1887.txt         yob1914.txt  yob1941.txt  yob1968.txt  yob1995.txt\n",
            "yob1888.txt         yob1915.txt  yob1942.txt  yob1969.txt  yob1996.txt\n",
            "yob1889.txt         yob1916.txt  yob1943.txt  yob1970.txt  yob1997.txt\n",
            "yob1890.txt         yob1917.txt  yob1944.txt  yob1971.txt  yob1998.txt\n",
            "yob1891.txt         yob1918.txt  yob1945.txt  yob1972.txt  yob1999.txt\n",
            "yob1892.txt         yob1919.txt  yob1946.txt  yob1973.txt  yob2000.txt\n",
            "yob1893.txt         yob1920.txt  yob1947.txt  yob1974.txt  yob2001.txt\n",
            "yob1894.txt         yob1921.txt  yob1948.txt  yob1975.txt  yob2002.txt\n",
            "yob1895.txt         yob1922.txt  yob1949.txt  yob1976.txt  yob2003.txt\n",
            "yob1896.txt         yob1923.txt  yob1950.txt  yob1977.txt  yob2004.txt\n",
            "yob1897.txt         yob1924.txt  yob1951.txt  yob1978.txt  yob2005.txt\n",
            "yob1898.txt         yob1925.txt  yob1952.txt  yob1979.txt  yob2006.txt\n",
            "yob1899.txt         yob1926.txt  yob1953.txt  yob1980.txt  yob2007.txt\n",
            "yob1900.txt         yob1927.txt  yob1954.txt  yob1981.txt  yob2008.txt\n",
            "yob1901.txt         yob1928.txt  yob1955.txt  yob1982.txt  yob2009.txt\n",
            "yob1902.txt         yob1929.txt  yob1956.txt  yob1983.txt  yob2010.txt\n",
            "yob1903.txt         yob1930.txt  yob1957.txt  yob1984.txt\n",
            "yob1904.txt         yob1931.txt  yob1958.txt  yob1985.txt\n",
            "yob1905.txt         yob1932.txt  yob1959.txt  yob1986.txt\n"
          ]
        }
      ]
    },
    {
      "cell_type": "markdown",
      "metadata": {
        "id": "1eSvD5rV11F4"
      },
      "source": [
        "### Q1. 폴더로부터 1880년도부터 2011년도 데이터를 읽어 하나의 통합데이터로 만들어보세요."
      ]
    },
    {
      "cell_type": "code",
      "metadata": {
        "id": "6c77zvCuiDD-",
        "outputId": "346efaf3-8837-425c-f78a-9c93c58d856e",
        "colab": {
          "base_uri": "https://localhost:8080/",
          "height": 424
        }
      },
      "source": [
        "years = range(1880, 2011)\n",
        "\n",
        "pieces = []\n",
        "columns = ['name', 'sex', 'births']\n",
        "\n",
        "for year in years:\n",
        "    path = 'datasets/babynames/yob%d.txt' % year\n",
        "    frame = pd.read_csv(path, names=columns)\n",
        "\n",
        "    frame['year'] = year\n",
        "    pieces.append(frame)\n",
        "\n",
        "# Concatenate everything into a single DataFrame\n",
        "names = pd.concat(pieces, ignore_index=True)\n",
        "names"
      ],
      "execution_count": 10,
      "outputs": [
        {
          "output_type": "execute_result",
          "data": {
            "text/html": [
              "<div>\n",
              "<style scoped>\n",
              "    .dataframe tbody tr th:only-of-type {\n",
              "        vertical-align: middle;\n",
              "    }\n",
              "\n",
              "    .dataframe tbody tr th {\n",
              "        vertical-align: top;\n",
              "    }\n",
              "\n",
              "    .dataframe thead th {\n",
              "        text-align: right;\n",
              "    }\n",
              "</style>\n",
              "<table border=\"1\" class=\"dataframe\">\n",
              "  <thead>\n",
              "    <tr style=\"text-align: right;\">\n",
              "      <th></th>\n",
              "      <th>name</th>\n",
              "      <th>sex</th>\n",
              "      <th>births</th>\n",
              "      <th>year</th>\n",
              "    </tr>\n",
              "  </thead>\n",
              "  <tbody>\n",
              "    <tr>\n",
              "      <th>0</th>\n",
              "      <td>Mary</td>\n",
              "      <td>F</td>\n",
              "      <td>7065</td>\n",
              "      <td>1880</td>\n",
              "    </tr>\n",
              "    <tr>\n",
              "      <th>1</th>\n",
              "      <td>Anna</td>\n",
              "      <td>F</td>\n",
              "      <td>2604</td>\n",
              "      <td>1880</td>\n",
              "    </tr>\n",
              "    <tr>\n",
              "      <th>2</th>\n",
              "      <td>Emma</td>\n",
              "      <td>F</td>\n",
              "      <td>2003</td>\n",
              "      <td>1880</td>\n",
              "    </tr>\n",
              "    <tr>\n",
              "      <th>3</th>\n",
              "      <td>Elizabeth</td>\n",
              "      <td>F</td>\n",
              "      <td>1939</td>\n",
              "      <td>1880</td>\n",
              "    </tr>\n",
              "    <tr>\n",
              "      <th>4</th>\n",
              "      <td>Minnie</td>\n",
              "      <td>F</td>\n",
              "      <td>1746</td>\n",
              "      <td>1880</td>\n",
              "    </tr>\n",
              "    <tr>\n",
              "      <th>...</th>\n",
              "      <td>...</td>\n",
              "      <td>...</td>\n",
              "      <td>...</td>\n",
              "      <td>...</td>\n",
              "    </tr>\n",
              "    <tr>\n",
              "      <th>1690779</th>\n",
              "      <td>Zymaire</td>\n",
              "      <td>M</td>\n",
              "      <td>5</td>\n",
              "      <td>2010</td>\n",
              "    </tr>\n",
              "    <tr>\n",
              "      <th>1690780</th>\n",
              "      <td>Zyonne</td>\n",
              "      <td>M</td>\n",
              "      <td>5</td>\n",
              "      <td>2010</td>\n",
              "    </tr>\n",
              "    <tr>\n",
              "      <th>1690781</th>\n",
              "      <td>Zyquarius</td>\n",
              "      <td>M</td>\n",
              "      <td>5</td>\n",
              "      <td>2010</td>\n",
              "    </tr>\n",
              "    <tr>\n",
              "      <th>1690782</th>\n",
              "      <td>Zyran</td>\n",
              "      <td>M</td>\n",
              "      <td>5</td>\n",
              "      <td>2010</td>\n",
              "    </tr>\n",
              "    <tr>\n",
              "      <th>1690783</th>\n",
              "      <td>Zzyzx</td>\n",
              "      <td>M</td>\n",
              "      <td>5</td>\n",
              "      <td>2010</td>\n",
              "    </tr>\n",
              "  </tbody>\n",
              "</table>\n",
              "<p>1690784 rows × 4 columns</p>\n",
              "</div>"
            ],
            "text/plain": [
              "              name sex  births  year\n",
              "0             Mary   F    7065  1880\n",
              "1             Anna   F    2604  1880\n",
              "2             Emma   F    2003  1880\n",
              "3        Elizabeth   F    1939  1880\n",
              "4           Minnie   F    1746  1880\n",
              "...            ...  ..     ...   ...\n",
              "1690779    Zymaire   M       5  2010\n",
              "1690780     Zyonne   M       5  2010\n",
              "1690781  Zyquarius   M       5  2010\n",
              "1690782      Zyran   M       5  2010\n",
              "1690783      Zzyzx   M       5  2010\n",
              "\n",
              "[1690784 rows x 4 columns]"
            ]
          },
          "metadata": {},
          "execution_count": 10
        }
      ]
    },
    {
      "cell_type": "markdown",
      "metadata": {
        "id": "10zvzzCS34X0"
      },
      "source": [
        "### Q2. 1900 년도에 태어난 남자, 여자 이름 top 5개를 알려주세요.\n"
      ]
    },
    {
      "cell_type": "code",
      "metadata": {
        "id": "G6P7oqrgiycY"
      },
      "source": [
        "def get_top5(group):\n",
        "    return group.sort_values(by='births', ascending=False)[:5]\n",
        "\n",
        "grouped = names.groupby(['year', 'sex'])\n",
        "top5 = grouped.apply(get_top5)\n",
        "top5.reset_index(inplace=True, drop=True)"
      ],
      "execution_count": 36,
      "outputs": []
    },
    {
      "cell_type": "code",
      "metadata": {
        "id": "ANiRW2OmkEsC"
      },
      "source": [
        "boys = top5[top5.sex == 'M']\n",
        "girls = top5[top5.sex == 'F']"
      ],
      "execution_count": 37,
      "outputs": []
    },
    {
      "cell_type": "code",
      "metadata": {
        "id": "m-FrmJwTkwJu",
        "outputId": "097d8042-736f-4a82-f0b9-05c7515287ae",
        "colab": {
          "base_uri": "https://localhost:8080/",
          "height": 206
        }
      },
      "source": [
        "boys[boys.year == 1990]"
      ],
      "execution_count": 38,
      "outputs": [
        {
          "output_type": "execute_result",
          "data": {
            "text/html": [
              "<div>\n",
              "<style scoped>\n",
              "    .dataframe tbody tr th:only-of-type {\n",
              "        vertical-align: middle;\n",
              "    }\n",
              "\n",
              "    .dataframe tbody tr th {\n",
              "        vertical-align: top;\n",
              "    }\n",
              "\n",
              "    .dataframe thead th {\n",
              "        text-align: right;\n",
              "    }\n",
              "</style>\n",
              "<table border=\"1\" class=\"dataframe\">\n",
              "  <thead>\n",
              "    <tr style=\"text-align: right;\">\n",
              "      <th></th>\n",
              "      <th>name</th>\n",
              "      <th>sex</th>\n",
              "      <th>births</th>\n",
              "      <th>year</th>\n",
              "    </tr>\n",
              "  </thead>\n",
              "  <tbody>\n",
              "    <tr>\n",
              "      <th>1105</th>\n",
              "      <td>Michael</td>\n",
              "      <td>M</td>\n",
              "      <td>65268</td>\n",
              "      <td>1990</td>\n",
              "    </tr>\n",
              "    <tr>\n",
              "      <th>1106</th>\n",
              "      <td>Christopher</td>\n",
              "      <td>M</td>\n",
              "      <td>52314</td>\n",
              "      <td>1990</td>\n",
              "    </tr>\n",
              "    <tr>\n",
              "      <th>1107</th>\n",
              "      <td>Matthew</td>\n",
              "      <td>M</td>\n",
              "      <td>44788</td>\n",
              "      <td>1990</td>\n",
              "    </tr>\n",
              "    <tr>\n",
              "      <th>1108</th>\n",
              "      <td>Joshua</td>\n",
              "      <td>M</td>\n",
              "      <td>43209</td>\n",
              "      <td>1990</td>\n",
              "    </tr>\n",
              "    <tr>\n",
              "      <th>1109</th>\n",
              "      <td>Daniel</td>\n",
              "      <td>M</td>\n",
              "      <td>33794</td>\n",
              "      <td>1990</td>\n",
              "    </tr>\n",
              "  </tbody>\n",
              "</table>\n",
              "</div>"
            ],
            "text/plain": [
              "             name sex  births  year\n",
              "1105      Michael   M   65268  1990\n",
              "1106  Christopher   M   52314  1990\n",
              "1107      Matthew   M   44788  1990\n",
              "1108       Joshua   M   43209  1990\n",
              "1109       Daniel   M   33794  1990"
            ]
          },
          "metadata": {},
          "execution_count": 38
        }
      ]
    },
    {
      "cell_type": "code",
      "metadata": {
        "id": "jfpabaHKk8td",
        "outputId": "b9ad24ef-14e2-4c5c-d25c-b6a0827a7553",
        "colab": {
          "base_uri": "https://localhost:8080/",
          "height": 206
        }
      },
      "source": [
        "girls[girls.year == 1990]"
      ],
      "execution_count": 39,
      "outputs": [
        {
          "output_type": "execute_result",
          "data": {
            "text/html": [
              "<div>\n",
              "<style scoped>\n",
              "    .dataframe tbody tr th:only-of-type {\n",
              "        vertical-align: middle;\n",
              "    }\n",
              "\n",
              "    .dataframe tbody tr th {\n",
              "        vertical-align: top;\n",
              "    }\n",
              "\n",
              "    .dataframe thead th {\n",
              "        text-align: right;\n",
              "    }\n",
              "</style>\n",
              "<table border=\"1\" class=\"dataframe\">\n",
              "  <thead>\n",
              "    <tr style=\"text-align: right;\">\n",
              "      <th></th>\n",
              "      <th>name</th>\n",
              "      <th>sex</th>\n",
              "      <th>births</th>\n",
              "      <th>year</th>\n",
              "    </tr>\n",
              "  </thead>\n",
              "  <tbody>\n",
              "    <tr>\n",
              "      <th>1100</th>\n",
              "      <td>Jessica</td>\n",
              "      <td>F</td>\n",
              "      <td>46459</td>\n",
              "      <td>1990</td>\n",
              "    </tr>\n",
              "    <tr>\n",
              "      <th>1101</th>\n",
              "      <td>Ashley</td>\n",
              "      <td>F</td>\n",
              "      <td>45544</td>\n",
              "      <td>1990</td>\n",
              "    </tr>\n",
              "    <tr>\n",
              "      <th>1102</th>\n",
              "      <td>Brittany</td>\n",
              "      <td>F</td>\n",
              "      <td>36532</td>\n",
              "      <td>1990</td>\n",
              "    </tr>\n",
              "    <tr>\n",
              "      <th>1103</th>\n",
              "      <td>Amanda</td>\n",
              "      <td>F</td>\n",
              "      <td>34391</td>\n",
              "      <td>1990</td>\n",
              "    </tr>\n",
              "    <tr>\n",
              "      <th>1104</th>\n",
              "      <td>Samantha</td>\n",
              "      <td>F</td>\n",
              "      <td>25864</td>\n",
              "      <td>1990</td>\n",
              "    </tr>\n",
              "  </tbody>\n",
              "</table>\n",
              "</div>"
            ],
            "text/plain": [
              "          name sex  births  year\n",
              "1100   Jessica   F   46459  1990\n",
              "1101    Ashley   F   45544  1990\n",
              "1102  Brittany   F   36532  1990\n",
              "1103    Amanda   F   34391  1990\n",
              "1104  Samantha   F   25864  1990"
            ]
          },
          "metadata": {},
          "execution_count": 39
        }
      ]
    },
    {
      "cell_type": "markdown",
      "metadata": {
        "id": "VFEfUL-o5v6J"
      },
      "source": [
        "### Q3. 연도별 태어난 남여 인구수를 비교하는 그래프를 그려보세요"
      ]
    },
    {
      "cell_type": "code",
      "metadata": {
        "id": "8AEdsgW2lMBZ",
        "outputId": "fe4fd68b-4d59-4f04-9e31-652ee24376de",
        "colab": {
          "base_uri": "https://localhost:8080/",
          "height": 313
        }
      },
      "source": [
        "total_births = names.pivot_table('births', index='year',\n",
        "                                 columns='sex', aggfunc=sum)\n",
        "total_births.tail()\n",
        "total_births.plot(title='Total births by sex and year')"
      ],
      "execution_count": 35,
      "outputs": [
        {
          "output_type": "execute_result",
          "data": {
            "text/plain": [
              "<matplotlib.axes._subplots.AxesSubplot at 0x7f2345459950>"
            ]
          },
          "metadata": {},
          "execution_count": 35
        },
        {
          "output_type": "display_data",
          "data": {
            "image/png": "[encoded data removed]",
            "text/plain": [
              "<Figure size 432x288 with 1 Axes>"
            ]
          },
          "metadata": {
            "needs_background": "light"
          }
        }
      ]
    },
    {
      "cell_type": "markdown",
      "metadata": {
        "id": "btjzQxXn6JOg"
      },
      "source": [
        "### Q4. 주어진 성별의 이름에 대해서 태어난 아동 수의 line 플롯을 그려주는 함수를 작성하세요. \n",
        "  - 하나의 이름만 받아서 line style 은 파란색의 실선으로 그려주는 함수를 작성하세요.  \n",
        "  - 여러 이름을 입력받아서 subplot으로 각 이름들 별로 그림을 그리는 함수를 만들어보세요. line style 은 각 subplot 별로 달라도 좋습니다."
      ]
    },
    {
      "cell_type": "code",
      "metadata": {
        "id": "SAtIzxqKpdQC",
        "outputId": "1703b18d-1edc-4e7a-a839-e9e84bf3def5",
        "colab": {
          "base_uri": "https://localhost:8080/",
          "height": 296
        }
      },
      "source": [
        "names.loc[names.name==\"John\"].loc[names.sex == \"M\"].plot(kind = \"line\", y = \"births\", style = \"-b\")"
      ],
      "execution_count": 40,
      "outputs": [
        {
          "output_type": "execute_result",
          "data": {
            "text/plain": [
              "<matplotlib.axes._subplots.AxesSubplot at 0x7f2345bb2610>"
            ]
          },
          "metadata": {},
          "execution_count": 40
        },
        {
          "output_type": "display_data",
          "data": {
            "image/png": "[encoded data removed]",
            "text/plain": [
              "<Figure size 432x288 with 1 Axes>"
            ]
          },
          "metadata": {
            "needs_background": "light"
          }
        }
      ]
    },
    {
      "cell_type": "code",
      "metadata": {
        "id": "P1k1XQuQpwmS"
      },
      "source": [
        "def plotnm(nm, sx):\n",
        "  names.loc("
      ],
      "execution_count": null,
      "outputs": []
    },
    {
      "cell_type": "markdown",
      "metadata": {
        "id": "-iKtnGcYAIoe"
      },
      "source": [
        "### Q5. 남자 여자 이름 모두 쓰이는 이름을 찾아서 연도별 패턴을 시각화 해 보고자 합니다. 아래의 절차를 수행하세요.\n",
        "\n",
        " - 1900 년도에 1000개이상 쓰인 이름들을 추려보세요.\n",
        " - 추려진 data의 이름들에 대해서 value_conts 함수를 썼을 때 2 가 나오는 이름들은 남, 여 모두에서 1000회 이상 쓰인 이름입니다. \n",
        " - 앞에서 확인한 이름으로 남자 여자별로 연도별 이름사용횟수를 그려주는 시각화를 수행해보세요.\n",
        " - 해당 그래플를 해석해서 story를 설명해보세요"
      ]
    }
  ]
}
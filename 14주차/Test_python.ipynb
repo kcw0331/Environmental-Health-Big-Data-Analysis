{
  "nbformat": 4,
  "nbformat_minor": 0,
  "metadata": {
    "kernelspec": {
      "display_name": "Python 3",
      "language": "python",
      "name": "python3"
    },
    "language_info": {
      "codemirror_mode": {
        "name": "ipython",
        "version": 3
      },
      "file_extension": ".py",
      "mimetype": "text/x-python",
      "name": "python",
      "nbconvert_exporter": "python",
      "pygments_lexer": "ipython3",
      "version": "3.6.0"
    },
    "colab": {
      "name": "Test_python.ipynb",
      "provenance": [],
      "collapsed_sections": [],
      "include_colab_link": true
    }
  },
  "cells": [
    {
      "cell_type": "markdown",
      "metadata": {
        "id": "view-in-github",
        "colab_type": "text"
      },
      "source": [
        "<a href=\"https://colab.research.google.com/github/kcw0331/Environmental-Health-Big-Data-Analysis/blob/main/14%EC%A3%BC%EC%B0%A8/Test_python.ipynb\" target=\"_parent\"><img src=\"https://colab.research.google.com/assets/colab-badge.svg\" alt=\"Open In Colab\"/></a>"
      ]
    },
    {
      "cell_type": "markdown",
      "metadata": {
        "id": "SzxMysYrMQeu"
      },
      "source": [
        "먼저 본 문제지를 본인의 google drive 에 저장한 후 연습을 수행하세요.\n",
        "\n",
        "File -> Save a copy in drive\n"
      ]
    },
    {
      "cell_type": "code",
      "metadata": {
        "id": "APg741ITM1AK"
      },
      "source": [
        "import pandas as pd\n",
        "import numpy as np"
      ],
      "execution_count": 1,
      "outputs": []
    },
    {
      "cell_type": "markdown",
      "metadata": {
        "id": "BEVQhTuMGKCR"
      },
      "source": [
        "## Pre-test, Python\n",
        "\n",
        "구글드라이브 연동 후 아래의 repository 를 google drive 에서 clone 해두세요. "
      ]
    },
    {
      "cell_type": "code",
      "metadata": {
        "colab": {
          "base_uri": "https://localhost:8080/"
        },
        "id": "gSWBv3X8GYJh",
        "outputId": "b34d1bac-2a82-4e4f-f97b-c53159da211a"
      },
      "source": [
        "from google.colab import drive\n",
        "drive.mount('/content/drive')"
      ],
      "execution_count": 2,
      "outputs": [
        {
          "output_type": "stream",
          "name": "stdout",
          "text": [
            "Mounted at /content/drive\n"
          ]
        }
      ]
    },
    {
      "cell_type": "code",
      "metadata": {
        "colab": {
          "base_uri": "https://localhost:8080/"
        },
        "id": "JMGkb4ccGiBH",
        "outputId": "0b7b8ae3-cbf2-4cbf-d5fb-4599cc2ce903"
      },
      "source": [
        "cd /content/drive/MyDrive/"
      ],
      "execution_count": 3,
      "outputs": [
        {
          "output_type": "stream",
          "name": "stdout",
          "text": [
            "/content/drive/MyDrive\n"
          ]
        }
      ]
    },
    {
      "cell_type": "code",
      "metadata": {
        "id": "8b5EwZybF591",
        "outputId": "bc2a035a-dc34-458c-e1de-63e3dfbcfaa2",
        "colab": {
          "base_uri": "https://localhost:8080/"
        }
      },
      "source": [
        "!git clone https://github.com/wesm/pydata-book.git"
      ],
      "execution_count": 4,
      "outputs": [
        {
          "output_type": "stream",
          "name": "stdout",
          "text": [
            "fatal: destination path 'pydata-book' already exists and is not an empty directory.\n"
          ]
        }
      ]
    },
    {
      "cell_type": "code",
      "metadata": {
        "colab": {
          "base_uri": "https://localhost:8080/"
        },
        "id": "ZLnyoWlmGS1Z",
        "outputId": "4c5c5746-da74-480f-8200-bac9befb5108"
      },
      "source": [
        "cd pydata-book"
      ],
      "execution_count": 5,
      "outputs": [
        {
          "output_type": "stream",
          "name": "stdout",
          "text": [
            "/content/drive/MyDrive/pydata-book\n"
          ]
        }
      ]
    },
    {
      "cell_type": "markdown",
      "metadata": {
        "id": "3s2gxGES2D81"
      },
      "source": [
        "### 테스트 데이터는 미국 신생아 이름 데이터입니다. \n",
        "\n",
        "파일들을 확인해보면 아래와 같습니다."
      ]
    },
    {
      "cell_type": "code",
      "metadata": {
        "id": "6hi8kD8B1-QO",
        "colab": {
          "base_uri": "https://localhost:8080/"
        },
        "outputId": "17d6a72b-7ea3-4d73-c463-6899d7e89c13"
      },
      "source": [
        "ls datasets/babynames"
      ],
      "execution_count": 6,
      "outputs": [
        {
          "output_type": "stream",
          "name": "stdout",
          "text": [
            "NationalReadMe.pdf  yob1906.txt  yob1933.txt  yob1960.txt  yob1987.txt\n",
            "yob1880.txt         yob1907.txt  yob1934.txt  yob1961.txt  yob1988.txt\n",
            "yob1881.txt         yob1908.txt  yob1935.txt  yob1962.txt  yob1989.txt\n",
            "yob1882.txt         yob1909.txt  yob1936.txt  yob1963.txt  yob1990.txt\n",
            "yob1883.txt         yob1910.txt  yob1937.txt  yob1964.txt  yob1991.txt\n",
            "yob1884.txt         yob1911.txt  yob1938.txt  yob1965.txt  yob1992.txt\n",
            "yob1885.txt         yob1912.txt  yob1939.txt  yob1966.txt  yob1993.txt\n",
            "yob1886.txt         yob1913.txt  yob1940.txt  yob1967.txt  yob1994.txt\n",
            "yob1887.txt         yob1914.txt  yob1941.txt  yob1968.txt  yob1995.txt\n",
            "yob1888.txt         yob1915.txt  yob1942.txt  yob1969.txt  yob1996.txt\n",
            "yob1889.txt         yob1916.txt  yob1943.txt  yob1970.txt  yob1997.txt\n",
            "yob1890.txt         yob1917.txt  yob1944.txt  yob1971.txt  yob1998.txt\n",
            "yob1891.txt         yob1918.txt  yob1945.txt  yob1972.txt  yob1999.txt\n",
            "yob1892.txt         yob1919.txt  yob1946.txt  yob1973.txt  yob2000.txt\n",
            "yob1893.txt         yob1920.txt  yob1947.txt  yob1974.txt  yob2001.txt\n",
            "yob1894.txt         yob1921.txt  yob1948.txt  yob1975.txt  yob2002.txt\n",
            "yob1895.txt         yob1922.txt  yob1949.txt  yob1976.txt  yob2003.txt\n",
            "yob1896.txt         yob1923.txt  yob1950.txt  yob1977.txt  yob2004.txt\n",
            "yob1897.txt         yob1924.txt  yob1951.txt  yob1978.txt  yob2005.txt\n",
            "yob1898.txt         yob1925.txt  yob1952.txt  yob1979.txt  yob2006.txt\n",
            "yob1899.txt         yob1926.txt  yob1953.txt  yob1980.txt  yob2007.txt\n",
            "yob1900.txt         yob1927.txt  yob1954.txt  yob1981.txt  yob2008.txt\n",
            "yob1901.txt         yob1928.txt  yob1955.txt  yob1982.txt  yob2009.txt\n",
            "yob1902.txt         yob1929.txt  yob1956.txt  yob1983.txt  yob2010.txt\n",
            "yob1903.txt         yob1930.txt  yob1957.txt  yob1984.txt\n",
            "yob1904.txt         yob1931.txt  yob1958.txt  yob1985.txt\n",
            "yob1905.txt         yob1932.txt  yob1959.txt  yob1986.txt\n"
          ]
        }
      ]
    },
    {
      "cell_type": "markdown",
      "metadata": {
        "id": "1eSvD5rV11F4"
      },
      "source": [
        "### Q1. 폴더로부터 1880년도부터 2011년도 데이터를 읽어 하나의 통합데이터로 만들어보세요."
      ]
    },
    {
      "cell_type": "code",
      "metadata": {
        "id": "6c77zvCuiDD-",
        "outputId": "92ce6553-1c43-4d2b-bb6d-327f71b82298",
        "colab": {
          "base_uri": "https://localhost:8080/",
          "height": 424
        }
      },
      "source": [
        "years = range(1880, 2011)\n",
        "\n",
        "pieces = []\n",
        "columns = ['name', 'sex', 'births']\n",
        "\n",
        "for year in years:\n",
        "    path = 'datasets/babynames/yob%d.txt' % year\n",
        "    frame = pd.read_csv(path, names=columns)\n",
        "\n",
        "    frame['year'] = year\n",
        "    pieces.append(frame)\n",
        "\n",
        "# Concatenate everything into a single DataFrame\n",
        "names = pd.concat(pieces, ignore_index=True)\n",
        "names"
      ],
      "execution_count": 7,
      "outputs": [
        {
          "output_type": "execute_result",
          "data": {
            "text/html": [
              "<div>\n",
              "<style scoped>\n",
              "    .dataframe tbody tr th:only-of-type {\n",
              "        vertical-align: middle;\n",
              "    }\n",
              "\n",
              "    .dataframe tbody tr th {\n",
              "        vertical-align: top;\n",
              "    }\n",
              "\n",
              "    .dataframe thead th {\n",
              "        text-align: right;\n",
              "    }\n",
              "</style>\n",
              "<table border=\"1\" class=\"dataframe\">\n",
              "  <thead>\n",
              "    <tr style=\"text-align: right;\">\n",
              "      <th></th>\n",
              "      <th>name</th>\n",
              "      <th>sex</th>\n",
              "      <th>births</th>\n",
              "      <th>year</th>\n",
              "    </tr>\n",
              "  </thead>\n",
              "  <tbody>\n",
              "    <tr>\n",
              "      <th>0</th>\n",
              "      <td>Mary</td>\n",
              "      <td>F</td>\n",
              "      <td>7065</td>\n",
              "      <td>1880</td>\n",
              "    </tr>\n",
              "    <tr>\n",
              "      <th>1</th>\n",
              "      <td>Anna</td>\n",
              "      <td>F</td>\n",
              "      <td>2604</td>\n",
              "      <td>1880</td>\n",
              "    </tr>\n",
              "    <tr>\n",
              "      <th>2</th>\n",
              "      <td>Emma</td>\n",
              "      <td>F</td>\n",
              "      <td>2003</td>\n",
              "      <td>1880</td>\n",
              "    </tr>\n",
              "    <tr>\n",
              "      <th>3</th>\n",
              "      <td>Elizabeth</td>\n",
              "      <td>F</td>\n",
              "      <td>1939</td>\n",
              "      <td>1880</td>\n",
              "    </tr>\n",
              "    <tr>\n",
              "      <th>4</th>\n",
              "      <td>Minnie</td>\n",
              "      <td>F</td>\n",
              "      <td>1746</td>\n",
              "      <td>1880</td>\n",
              "    </tr>\n",
              "    <tr>\n",
              "      <th>...</th>\n",
              "      <td>...</td>\n",
              "      <td>...</td>\n",
              "      <td>...</td>\n",
              "      <td>...</td>\n",
              "    </tr>\n",
              "    <tr>\n",
              "      <th>1690779</th>\n",
              "      <td>Zymaire</td>\n",
              "      <td>M</td>\n",
              "      <td>5</td>\n",
              "      <td>2010</td>\n",
              "    </tr>\n",
              "    <tr>\n",
              "      <th>1690780</th>\n",
              "      <td>Zyonne</td>\n",
              "      <td>M</td>\n",
              "      <td>5</td>\n",
              "      <td>2010</td>\n",
              "    </tr>\n",
              "    <tr>\n",
              "      <th>1690781</th>\n",
              "      <td>Zyquarius</td>\n",
              "      <td>M</td>\n",
              "      <td>5</td>\n",
              "      <td>2010</td>\n",
              "    </tr>\n",
              "    <tr>\n",
              "      <th>1690782</th>\n",
              "      <td>Zyran</td>\n",
              "      <td>M</td>\n",
              "      <td>5</td>\n",
              "      <td>2010</td>\n",
              "    </tr>\n",
              "    <tr>\n",
              "      <th>1690783</th>\n",
              "      <td>Zzyzx</td>\n",
              "      <td>M</td>\n",
              "      <td>5</td>\n",
              "      <td>2010</td>\n",
              "    </tr>\n",
              "  </tbody>\n",
              "</table>\n",
              "<p>1690784 rows × 4 columns</p>\n",
              "</div>"
            ],
            "text/plain": [
              "              name sex  births  year\n",
              "0             Mary   F    7065  1880\n",
              "1             Anna   F    2604  1880\n",
              "2             Emma   F    2003  1880\n",
              "3        Elizabeth   F    1939  1880\n",
              "4           Minnie   F    1746  1880\n",
              "...            ...  ..     ...   ...\n",
              "1690779    Zymaire   M       5  2010\n",
              "1690780     Zyonne   M       5  2010\n",
              "1690781  Zyquarius   M       5  2010\n",
              "1690782      Zyran   M       5  2010\n",
              "1690783      Zzyzx   M       5  2010\n",
              "\n",
              "[1690784 rows x 4 columns]"
            ]
          },
          "metadata": {},
          "execution_count": 7
        }
      ]
    },
    {
      "cell_type": "markdown",
      "metadata": {
        "id": "10zvzzCS34X0"
      },
      "source": [
        "### Q2. 1900 년도에 태어난 남자, 여자 이름 top 5개를 알려주세요.\n"
      ]
    },
    {
      "cell_type": "code",
      "metadata": {
        "id": "G6P7oqrgiycY"
      },
      "source": [
        "def get_top5(group):\n",
        "    return group.sort_values(by='births', ascending=False)[:5]\n",
        "\n",
        "grouped = names.groupby(['year', 'sex'])\n",
        "top5 = grouped.apply(get_top5)\n",
        "top5.reset_index(inplace=True, drop=True)"
      ],
      "execution_count": 8,
      "outputs": []
    },
    {
      "cell_type": "code",
      "metadata": {
        "id": "ANiRW2OmkEsC"
      },
      "source": [
        "boys = top5[top5.sex == 'M']\n",
        "girls = top5[top5.sex == 'F']"
      ],
      "execution_count": 9,
      "outputs": []
    },
    {
      "cell_type": "code",
      "metadata": {
        "id": "m-FrmJwTkwJu",
        "outputId": "d53d0ab9-3e8a-4dd9-cf30-aea954ab95fc",
        "colab": {
          "base_uri": "https://localhost:8080/",
          "height": 206
        }
      },
      "source": [
        "boys[boys.year == 1900]"
      ],
      "execution_count": 10,
      "outputs": [
        {
          "output_type": "execute_result",
          "data": {
            "text/html": [
              "<div>\n",
              "<style scoped>\n",
              "    .dataframe tbody tr th:only-of-type {\n",
              "        vertical-align: middle;\n",
              "    }\n",
              "\n",
              "    .dataframe tbody tr th {\n",
              "        vertical-align: top;\n",
              "    }\n",
              "\n",
              "    .dataframe thead th {\n",
              "        text-align: right;\n",
              "    }\n",
              "</style>\n",
              "<table border=\"1\" class=\"dataframe\">\n",
              "  <thead>\n",
              "    <tr style=\"text-align: right;\">\n",
              "      <th></th>\n",
              "      <th>name</th>\n",
              "      <th>sex</th>\n",
              "      <th>births</th>\n",
              "      <th>year</th>\n",
              "    </tr>\n",
              "  </thead>\n",
              "  <tbody>\n",
              "    <tr>\n",
              "      <th>205</th>\n",
              "      <td>John</td>\n",
              "      <td>M</td>\n",
              "      <td>9834</td>\n",
              "      <td>1900</td>\n",
              "    </tr>\n",
              "    <tr>\n",
              "      <th>206</th>\n",
              "      <td>William</td>\n",
              "      <td>M</td>\n",
              "      <td>8580</td>\n",
              "      <td>1900</td>\n",
              "    </tr>\n",
              "    <tr>\n",
              "      <th>207</th>\n",
              "      <td>James</td>\n",
              "      <td>M</td>\n",
              "      <td>7246</td>\n",
              "      <td>1900</td>\n",
              "    </tr>\n",
              "    <tr>\n",
              "      <th>208</th>\n",
              "      <td>George</td>\n",
              "      <td>M</td>\n",
              "      <td>5405</td>\n",
              "      <td>1900</td>\n",
              "    </tr>\n",
              "    <tr>\n",
              "      <th>209</th>\n",
              "      <td>Charles</td>\n",
              "      <td>M</td>\n",
              "      <td>4102</td>\n",
              "      <td>1900</td>\n",
              "    </tr>\n",
              "  </tbody>\n",
              "</table>\n",
              "</div>"
            ],
            "text/plain": [
              "        name sex  births  year\n",
              "205     John   M    9834  1900\n",
              "206  William   M    8580  1900\n",
              "207    James   M    7246  1900\n",
              "208   George   M    5405  1900\n",
              "209  Charles   M    4102  1900"
            ]
          },
          "metadata": {},
          "execution_count": 10
        }
      ]
    },
    {
      "cell_type": "code",
      "metadata": {
        "id": "jfpabaHKk8td",
        "outputId": "6a52d5e8-71ad-4f84-84ab-2881a1884cfc",
        "colab": {
          "base_uri": "https://localhost:8080/",
          "height": 206
        }
      },
      "source": [
        "girls[girls.year == 1900]"
      ],
      "execution_count": 11,
      "outputs": [
        {
          "output_type": "execute_result",
          "data": {
            "text/html": [
              "<div>\n",
              "<style scoped>\n",
              "    .dataframe tbody tr th:only-of-type {\n",
              "        vertical-align: middle;\n",
              "    }\n",
              "\n",
              "    .dataframe tbody tr th {\n",
              "        vertical-align: top;\n",
              "    }\n",
              "\n",
              "    .dataframe thead th {\n",
              "        text-align: right;\n",
              "    }\n",
              "</style>\n",
              "<table border=\"1\" class=\"dataframe\">\n",
              "  <thead>\n",
              "    <tr style=\"text-align: right;\">\n",
              "      <th></th>\n",
              "      <th>name</th>\n",
              "      <th>sex</th>\n",
              "      <th>births</th>\n",
              "      <th>year</th>\n",
              "    </tr>\n",
              "  </thead>\n",
              "  <tbody>\n",
              "    <tr>\n",
              "      <th>200</th>\n",
              "      <td>Mary</td>\n",
              "      <td>F</td>\n",
              "      <td>16710</td>\n",
              "      <td>1900</td>\n",
              "    </tr>\n",
              "    <tr>\n",
              "      <th>201</th>\n",
              "      <td>Helen</td>\n",
              "      <td>F</td>\n",
              "      <td>6343</td>\n",
              "      <td>1900</td>\n",
              "    </tr>\n",
              "    <tr>\n",
              "      <th>202</th>\n",
              "      <td>Anna</td>\n",
              "      <td>F</td>\n",
              "      <td>6115</td>\n",
              "      <td>1900</td>\n",
              "    </tr>\n",
              "    <tr>\n",
              "      <th>203</th>\n",
              "      <td>Margaret</td>\n",
              "      <td>F</td>\n",
              "      <td>5305</td>\n",
              "      <td>1900</td>\n",
              "    </tr>\n",
              "    <tr>\n",
              "      <th>204</th>\n",
              "      <td>Ruth</td>\n",
              "      <td>F</td>\n",
              "      <td>4765</td>\n",
              "      <td>1900</td>\n",
              "    </tr>\n",
              "  </tbody>\n",
              "</table>\n",
              "</div>"
            ],
            "text/plain": [
              "         name sex  births  year\n",
              "200      Mary   F   16710  1900\n",
              "201     Helen   F    6343  1900\n",
              "202      Anna   F    6115  1900\n",
              "203  Margaret   F    5305  1900\n",
              "204      Ruth   F    4765  1900"
            ]
          },
          "metadata": {},
          "execution_count": 11
        }
      ]
    },
    {
      "cell_type": "markdown",
      "metadata": {
        "id": "VFEfUL-o5v6J"
      },
      "source": [
        "### Q3. 연도별 태어난 남여 인구수를 비교하는 그래프를 그려보세요"
      ]
    },
    {
      "cell_type": "code",
      "metadata": {
        "id": "8AEdsgW2lMBZ",
        "outputId": "dcbfa29a-6713-4c99-9df7-e5c7838e2892",
        "colab": {
          "base_uri": "https://localhost:8080/",
          "height": 313
        }
      },
      "source": [
        "total_births = names.pivot_table('births', index='year',\n",
        "                                 columns='sex', aggfunc=sum)\n",
        "total_births.tail()\n",
        "total_births.plot(title='Total births by sex and year')"
      ],
      "execution_count": null,
      "outputs": [
        {
          "output_type": "execute_result",
          "data": {
            "text/plain": [
              "<matplotlib.axes._subplots.AxesSubplot at 0x7fbe64059bd0>"
            ]
          },
          "metadata": {},
          "execution_count": 12
        },
        {
          "output_type": "display_data",
          "data": {
            "image/png": "[encoded data removed]",
            "text/plain": [
              "<Figure size 432x288 with 1 Axes>"
            ]
          },
          "metadata": {
            "needs_background": "light"
          }
        }
      ]
    },
    {
      "cell_type": "markdown",
      "metadata": {
        "id": "btjzQxXn6JOg"
      },
      "source": [
        "### Q4. 주어진 성별의 이름에 대해서 태어난 아동 수의 line 플롯을 그려주는 함수를 작성하세요. \n",
        "  - 하나의 이름만 받아서 line style 은 파란색의 실선으로 그려주는 함수를 작성하세요.  \n",
        "  - 여러 이름을 입력받아서 subplot으로 각 이름들 별로 그림을 그리는 함수를 만들어보세요. line style 은 각 subplot 별로 달라도 좋습니다."
      ]
    },
    {
      "cell_type": "code",
      "metadata": {
        "id": "SAtIzxqKpdQC",
        "outputId": "89a8118d-a2f1-4d53-a39a-8acef50f4412",
        "colab": {
          "base_uri": "https://localhost:8080/",
          "height": 297
        }
      },
      "source": [
        "names.loc[names.name==\"John\"].loc[names.sex == \"M\"].plot(kind = \"line\", x = \"year\", y = \"births\", style = \"-b\")"
      ],
      "execution_count": null,
      "outputs": [
        {
          "output_type": "execute_result",
          "data": {
            "text/plain": [
              "<matplotlib.axes._subplots.AxesSubplot at 0x7fbe6349fe50>"
            ]
          },
          "metadata": {},
          "execution_count": 64
        },
        {
          "output_type": "display_data",
          "data": {
            "image/png": "[encoded data removed]",
            "text/plain": [
              "<Figure size 432x288 with 1 Axes>"
            ]
          },
          "metadata": {
            "needs_background": "light"
          }
        }
      ]
    },
    {
      "cell_type": "code",
      "metadata": {
        "id": "P1k1XQuQpwmS",
        "outputId": "3fde956c-79e0-47f7-c6a7-974177415123",
        "colab": {
          "base_uri": "https://localhost:8080/",
          "height": 575
        }
      },
      "source": [
        "def plotnm(nm, sx, sy):\n",
        "  names.loc[names.name == nm].loc[names.sex == sx].plot(subplots = True, layout = (2,1),figsize = (15,10),x=\"year\", y = \"births\", style = sy)\n",
        "\n",
        "plotnm(\"John\",\"M\", '.-g')\n",
        "plotnm(\"Jessica\", \"F\", '--r')\n",
        "#plotnm(\"Christopher\", \"M\")\n",
        "#plotnm(\"Ashley\", \"F\")"
      ],
      "execution_count": null,
      "outputs": [
        {
          "output_type": "display_data",
          "data": {
            "image/png": "[encoded data removed]",
            "text/plain": [
              "<Figure size 1080x720 with 2 Axes>"
            ]
          },
          "metadata": {
            "needs_background": "light"
          }
        },
        {
          "output_type": "display_data",
          "data": {
            "image/png": "[encoded data removed]",
            "text/plain": [
              "<Figure size 1080x720 with 2 Axes>"
            ]
          },
          "metadata": {
            "needs_background": "light"
          }
        }
      ]
    },
    {
      "cell_type": "code",
      "source": [
        "def plotnms(nms, sx):\n",
        "  names.loc[names.name.isin(nms)].loc[names.sex==sx].pivot(index = 'year', columns = 'name', values = 'births').plot(kind = \"line\", subplots = True)"
      ],
      "metadata": {
        "id": "8vyqBqx4ILdv"
      },
      "execution_count": 14,
      "outputs": []
    },
    {
      "cell_type": "code",
      "source": [
        "nms = [\"Karl\", \"John\", \"James\"]\n",
        "plotnms(nms, sx = \"M\")"
      ],
      "metadata": {
        "id": "4h9LChfwIiHt",
        "outputId": "ba0bcda4-e344-415b-d9b9-7679892756c5",
        "colab": {
          "base_uri": "https://localhost:8080/",
          "height": 269
        }
      },
      "execution_count": 15,
      "outputs": [
        {
          "output_type": "display_data",
          "data": {
            "image/png": "[encoded data removed]",
            "text/plain": [
              "<Figure size 432x288 with 3 Axes>"
            ]
          },
          "metadata": {
            "needs_background": "light"
          }
        }
      ]
    },
    {
      "cell_type": "markdown",
      "metadata": {
        "id": "-iKtnGcYAIoe"
      },
      "source": [
        "### Q5. 남자 여자 이름 모두 쓰이는 이름을 찾아서 연도별 패턴을 시각화 해 보고자 합니다. 아래의 절차를 수행하세요.\n",
        "\n",
        " - 1900 년도에 1000개이상 쓰인 이름들을 추려보세요.\n",
        " - 추려진 data의 이름들에 대해서 value_conts 함수를 썼을 때 2 가 나오는 이름들은 남, 여 모두에서 1000회 이상 쓰인 이름입니다. \n",
        " - 앞에서 확인한 이름으로 남자 여자별로 연도별 이름사용횟수를 그려주는 시각화를 수행해보세요.\n",
        " - 해당 그래플를 해석해서 story를 설명해보세요"
      ]
    },
    {
      "cell_type": "code",
      "source": [
        "newd = names.loc[names.year == 1900].loc[names.births >= 1000]\n",
        "newd"
      ],
      "metadata": {
        "id": "u1hJ00kdv3CG",
        "outputId": "2cd8d1e5-4b42-4442-cf48-a8fdf0743c40",
        "colab": {
          "base_uri": "https://localhost:8080/",
          "height": 424
        }
      },
      "execution_count": null,
      "outputs": [
        {
          "output_type": "execute_result",
          "data": {
            "text/html": [
              "<div>\n",
              "<style scoped>\n",
              "    .dataframe tbody tr th:only-of-type {\n",
              "        vertical-align: middle;\n",
              "    }\n",
              "\n",
              "    .dataframe tbody tr th {\n",
              "        vertical-align: top;\n",
              "    }\n",
              "\n",
              "    .dataframe thead th {\n",
              "        text-align: right;\n",
              "    }\n",
              "</style>\n",
              "<table border=\"1\" class=\"dataframe\">\n",
              "  <thead>\n",
              "    <tr style=\"text-align: right;\">\n",
              "      <th></th>\n",
              "      <th>name</th>\n",
              "      <th>sex</th>\n",
              "      <th>births</th>\n",
              "      <th>year</th>\n",
              "    </tr>\n",
              "  </thead>\n",
              "  <tbody>\n",
              "    <tr>\n",
              "      <th>52266</th>\n",
              "      <td>Mary</td>\n",
              "      <td>F</td>\n",
              "      <td>16710</td>\n",
              "      <td>1900</td>\n",
              "    </tr>\n",
              "    <tr>\n",
              "      <th>52267</th>\n",
              "      <td>Helen</td>\n",
              "      <td>F</td>\n",
              "      <td>6343</td>\n",
              "      <td>1900</td>\n",
              "    </tr>\n",
              "    <tr>\n",
              "      <th>52268</th>\n",
              "      <td>Anna</td>\n",
              "      <td>F</td>\n",
              "      <td>6115</td>\n",
              "      <td>1900</td>\n",
              "    </tr>\n",
              "    <tr>\n",
              "      <th>52269</th>\n",
              "      <td>Margaret</td>\n",
              "      <td>F</td>\n",
              "      <td>5305</td>\n",
              "      <td>1900</td>\n",
              "    </tr>\n",
              "    <tr>\n",
              "      <th>52270</th>\n",
              "      <td>Ruth</td>\n",
              "      <td>F</td>\n",
              "      <td>4765</td>\n",
              "      <td>1900</td>\n",
              "    </tr>\n",
              "    <tr>\n",
              "      <th>...</th>\n",
              "      <td>...</td>\n",
              "      <td>...</td>\n",
              "      <td>...</td>\n",
              "      <td>...</td>\n",
              "    </tr>\n",
              "    <tr>\n",
              "      <th>54517</th>\n",
              "      <td>Louis</td>\n",
              "      <td>M</td>\n",
              "      <td>1099</td>\n",
              "      <td>1900</td>\n",
              "    </tr>\n",
              "    <tr>\n",
              "      <th>54518</th>\n",
              "      <td>Jack</td>\n",
              "      <td>M</td>\n",
              "      <td>1053</td>\n",
              "      <td>1900</td>\n",
              "    </tr>\n",
              "    <tr>\n",
              "      <th>54519</th>\n",
              "      <td>Earl</td>\n",
              "      <td>M</td>\n",
              "      <td>1037</td>\n",
              "      <td>1900</td>\n",
              "    </tr>\n",
              "    <tr>\n",
              "      <th>54520</th>\n",
              "      <td>Carl</td>\n",
              "      <td>M</td>\n",
              "      <td>1016</td>\n",
              "      <td>1900</td>\n",
              "    </tr>\n",
              "    <tr>\n",
              "      <th>54521</th>\n",
              "      <td>Ernest</td>\n",
              "      <td>M</td>\n",
              "      <td>1012</td>\n",
              "      <td>1900</td>\n",
              "    </tr>\n",
              "  </tbody>\n",
              "</table>\n",
              "<p>107 rows × 4 columns</p>\n",
              "</div>"
            ],
            "text/plain": [
              "           name sex  births  year\n",
              "52266      Mary   F   16710  1900\n",
              "52267     Helen   F    6343  1900\n",
              "52268      Anna   F    6115  1900\n",
              "52269  Margaret   F    5305  1900\n",
              "52270      Ruth   F    4765  1900\n",
              "...         ...  ..     ...   ...\n",
              "54517     Louis   M    1099  1900\n",
              "54518      Jack   M    1053  1900\n",
              "54519      Earl   M    1037  1900\n",
              "54520      Carl   M    1016  1900\n",
              "54521    Ernest   M    1012  1900\n",
              "\n",
              "[107 rows x 4 columns]"
            ]
          },
          "metadata": {},
          "execution_count": 39
        }
      ]
    },
    {
      "cell_type": "code",
      "source": [
        "newd.name.value_counts()"
      ],
      "metadata": {
        "id": "7vRr9Q_BwrCP",
        "outputId": "171cf272-3d2b-4f23-f262-0b8dad5bcefe",
        "colab": {
          "base_uri": "https://localhost:8080/"
        }
      },
      "execution_count": null,
      "outputs": [
        {
          "output_type": "execute_result",
          "data": {
            "text/plain": [
              "Willie      2\n",
              "Beatrice    1\n",
              "Richard     1\n",
              "Fred        1\n",
              "Louis       1\n",
              "           ..\n",
              "Lucille     1\n",
              "Ernest      1\n",
              "George      1\n",
              "Louise      1\n",
              "Thomas      1\n",
              "Name: name, Length: 106, dtype: int64"
            ]
          },
          "metadata": {},
          "execution_count": 47
        }
      ]
    },
    {
      "cell_type": "code",
      "source": [
        "names.loc[names.name==\"Willie\"].pivot(index = \"year\", columns = \"sex\", values = \"births\").fillna(0).plot(kind = \"line\")"
      ],
      "metadata": {
        "id": "cHRq1CVnJO3U",
        "outputId": "96765b50-c0b5-4f8b-d576-c9e16eb61848",
        "colab": {
          "base_uri": "https://localhost:8080/",
          "height": 297
        }
      },
      "execution_count": 17,
      "outputs": [
        {
          "output_type": "execute_result",
          "data": {
            "text/plain": [
              "<matplotlib.axes._subplots.AxesSubplot at 0x7ff9f7f27610>"
            ]
          },
          "metadata": {},
          "execution_count": 17
        },
        {
          "output_type": "display_data",
          "data": {
            "image/png": "[encoded data removed]",
            "text/plain": [
              "<Figure size 432x288 with 1 Axes>"
            ]
          },
          "metadata": {
            "needs_background": "light"
          }
        }
      ]
    },
    {
      "cell_type": "code",
      "source": [
        "names.loc[names.name == \"Willie\"].loc[names.sex == \"M\"].plot(kind = \"line\", x = \"year\", y = \"births\", style = \"-b\",title= \"Willie man plot\")"
      ],
      "metadata": {
        "id": "BELuR0YAztqB",
        "outputId": "05b10585-a513-4990-9f72-59f7a664ede3",
        "colab": {
          "base_uri": "https://localhost:8080/",
          "height": 313
        }
      },
      "execution_count": null,
      "outputs": [
        {
          "output_type": "execute_result",
          "data": {
            "text/plain": [
              "<matplotlib.axes._subplots.AxesSubplot at 0x7fbe63142d50>"
            ]
          },
          "metadata": {},
          "execution_count": 66
        },
        {
          "output_type": "display_data",
          "data": {
            "image/png": "[encoded data removed]",
            "text/plain": [
              "<Figure size 432x288 with 1 Axes>"
            ]
          },
          "metadata": {
            "needs_background": "light"
          }
        }
      ]
    },
    {
      "cell_type": "code",
      "source": [
        "names.loc[names.name == \"Willie\"].loc[names.sex == \"F\"].plot(kind = \"line\", x = \"year\",y = \"births\", style = \"-b\",title= \"Willie Woman plot\")"
      ],
      "metadata": {
        "id": "jOL1dnPW0gId",
        "outputId": "494b40a3-49a0-463c-b026-5496f05ad99e",
        "colab": {
          "base_uri": "https://localhost:8080/",
          "height": 313
        }
      },
      "execution_count": null,
      "outputs": [
        {
          "output_type": "execute_result",
          "data": {
            "text/plain": [
              "<matplotlib.axes._subplots.AxesSubplot at 0x7fbe62df1310>"
            ]
          },
          "metadata": {},
          "execution_count": 67
        },
        {
          "output_type": "display_data",
          "data": {
            "image/png": "[encoded data removed]",
            "text/plain": [
              "<Figure size 432x288 with 1 Axes>"
            ]
          },
          "metadata": {
            "needs_background": "light"
          }
        }
      ]
    },
    {
      "cell_type": "markdown",
      "source": [
        "* Willie라는 이름은 남자의 경우 1920년부터 1960년까지 많이 사용하였다가 1980년대 이후로는 급속하게 많이 사용하지 않는 것을 볼 수 있습니다.\n",
        "* Willie라는 이름을 가진 여자의 경우 1900년 부터 1940년까지 많이 사용하다가 1960년대 이후로 급속하게 만힝 사용하지 않는 것을 볼 수 있습니다.\n",
        "* Willie라는 이름은 남자 여자 둘다 1920년 부터 1940년까지 많이 사용한 것을 볼 수 있었으며 1960년대 이후로는 Willie라는 이름을 여자와 남자 둘다 많이 사용하지 않는 것을 볼 수 있습니다."
      ],
      "metadata": {
        "id": "8TnG2KwP1L0n"
      }
    }
  ]
}
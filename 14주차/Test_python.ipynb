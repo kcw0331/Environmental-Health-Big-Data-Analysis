{
  "nbformat": 4,
  "nbformat_minor": 0,
  "metadata": {
    "kernelspec": {
      "display_name": "Python 3",
      "language": "python",
      "name": "python3"
    },
    "language_info": {
      "codemirror_mode": {
        "name": "ipython",
        "version": 3
      },
      "file_extension": ".py",
      "mimetype": "text/x-python",
      "name": "python",
      "nbconvert_exporter": "python",
      "pygments_lexer": "ipython3",
      "version": "3.6.0"
    },
    "colab": {
      "name": "Test_python.ipynb",
      "provenance": [],
      "collapsed_sections": [],
      "include_colab_link": true
    }
  },
  "cells": [
    {
      "cell_type": "markdown",
      "metadata": {
        "id": "view-in-github",
        "colab_type": "text"
      },
      "source": [
        "<a href=\"https://colab.research.google.com/github/kcw0331/Environmental-Health-Big-Data-Analysis/blob/main/14%EC%A3%BC%EC%B0%A8/Test_python.ipynb\" target=\"_parent\"><img src=\"https://colab.research.google.com/assets/colab-badge.svg\" alt=\"Open In Colab\"/></a>"
      ]
    },
    {
      "cell_type": "markdown",
      "metadata": {
        "id": "SzxMysYrMQeu"
      },
      "source": [
        "먼저 본 문제지를 본인의 google drive 에 저장한 후 연습을 수행하세요.\n",
        "\n",
        "File -> Save a copy in drive\n"
      ]
    },
    {
      "cell_type": "code",
      "metadata": {
        "id": "APg741ITM1AK"
      },
      "source": [
        "import pandas as pd\n",
        "import numpy as np"
      ],
      "execution_count": null,
      "outputs": []
    },
    {
      "cell_type": "markdown",
      "metadata": {
        "id": "BEVQhTuMGKCR"
      },
      "source": [
        "## Pre-test, Python\n",
        "\n",
        "구글드라이브 연동 후 아래의 repository 를 google drive 에서 clone 해두세요. "
      ]
    },
    {
      "cell_type": "code",
      "metadata": {
        "colab": {
          "base_uri": "https://localhost:8080/"
        },
        "id": "gSWBv3X8GYJh",
        "outputId": "5e6e7f8e-435b-487e-869c-5aa1264ac268"
      },
      "source": [
        "from google.colab import drive\n",
        "drive.mount('/content/drive')"
      ],
      "execution_count": null,
      "outputs": [
        {
          "output_type": "stream",
          "name": "stdout",
          "text": [
            "Mounted at /content/drive\n"
          ]
        }
      ]
    },
    {
      "cell_type": "code",
      "metadata": {
        "colab": {
          "base_uri": "https://localhost:8080/"
        },
        "id": "JMGkb4ccGiBH",
        "outputId": "421dc989-e1a4-4864-fee0-479f1dff6cf0"
      },
      "source": [
        "cd /content/drive/MyDrive/"
      ],
      "execution_count": null,
      "outputs": [
        {
          "output_type": "stream",
          "name": "stdout",
          "text": [
            "/content/drive/MyDrive\n"
          ]
        }
      ]
    },
    {
      "cell_type": "code",
      "metadata": {
        "id": "8b5EwZybF591"
      },
      "source": [
        "git clone https://github.com/wesm/pydata-book.git"
      ],
      "execution_count": null,
      "outputs": []
    },
    {
      "cell_type": "code",
      "metadata": {
        "colab": {
          "base_uri": "https://localhost:8080/"
        },
        "id": "ZLnyoWlmGS1Z",
        "outputId": "1b6b7acb-974c-4cb0-dfe9-0a7a178dc9e7"
      },
      "source": [
        "cd pydata-book"
      ],
      "execution_count": null,
      "outputs": [
        {
          "output_type": "stream",
          "name": "stdout",
          "text": [
            "/content/drive/MyDrive/pydata-book\n"
          ]
        }
      ]
    },
    {
      "cell_type": "markdown",
      "metadata": {
        "id": "3s2gxGES2D81"
      },
      "source": [
        "### 테스트 데이터는 미국 신생아 이름 데이터입니다. \n",
        "\n",
        "파일들을 확인해보면 아래와 같습니다."
      ]
    },
    {
      "cell_type": "code",
      "metadata": {
        "id": "6hi8kD8B1-QO",
        "colab": {
          "base_uri": "https://localhost:8080/"
        },
        "outputId": "135d2a22-e26b-45c7-8892-61dcd9d5f38e"
      },
      "source": [
        "ls datasets/babynames"
      ],
      "execution_count": null,
      "outputs": [
        {
          "output_type": "stream",
          "name": "stdout",
          "text": [
            "NationalReadMe.pdf  yob1906.txt  yob1933.txt  yob1960.txt  yob1987.txt\n",
            "yob1880.txt         yob1907.txt  yob1934.txt  yob1961.txt  yob1988.txt\n",
            "yob1881.txt         yob1908.txt  yob1935.txt  yob1962.txt  yob1989.txt\n",
            "yob1882.txt         yob1909.txt  yob1936.txt  yob1963.txt  yob1990.txt\n",
            "yob1883.txt         yob1910.txt  yob1937.txt  yob1964.txt  yob1991.txt\n",
            "yob1884.txt         yob1911.txt  yob1938.txt  yob1965.txt  yob1992.txt\n",
            "yob1885.txt         yob1912.txt  yob1939.txt  yob1966.txt  yob1993.txt\n",
            "yob1886.txt         yob1913.txt  yob1940.txt  yob1967.txt  yob1994.txt\n",
            "yob1887.txt         yob1914.txt  yob1941.txt  yob1968.txt  yob1995.txt\n",
            "yob1888.txt         yob1915.txt  yob1942.txt  yob1969.txt  yob1996.txt\n",
            "yob1889.txt         yob1916.txt  yob1943.txt  yob1970.txt  yob1997.txt\n",
            "yob1890.txt         yob1917.txt  yob1944.txt  yob1971.txt  yob1998.txt\n",
            "yob1891.txt         yob1918.txt  yob1945.txt  yob1972.txt  yob1999.txt\n",
            "yob1892.txt         yob1919.txt  yob1946.txt  yob1973.txt  yob2000.txt\n",
            "yob1893.txt         yob1920.txt  yob1947.txt  yob1974.txt  yob2001.txt\n",
            "yob1894.txt         yob1921.txt  yob1948.txt  yob1975.txt  yob2002.txt\n",
            "yob1895.txt         yob1922.txt  yob1949.txt  yob1976.txt  yob2003.txt\n",
            "yob1896.txt         yob1923.txt  yob1950.txt  yob1977.txt  yob2004.txt\n",
            "yob1897.txt         yob1924.txt  yob1951.txt  yob1978.txt  yob2005.txt\n",
            "yob1898.txt         yob1925.txt  yob1952.txt  yob1979.txt  yob2006.txt\n",
            "yob1899.txt         yob1926.txt  yob1953.txt  yob1980.txt  yob2007.txt\n",
            "yob1900.txt         yob1927.txt  yob1954.txt  yob1981.txt  yob2008.txt\n",
            "yob1901.txt         yob1928.txt  yob1955.txt  yob1982.txt  yob2009.txt\n",
            "yob1902.txt         yob1929.txt  yob1956.txt  yob1983.txt  yob2010.txt\n",
            "yob1903.txt         yob1930.txt  yob1957.txt  yob1984.txt\n",
            "yob1904.txt         yob1931.txt  yob1958.txt  yob1985.txt\n",
            "yob1905.txt         yob1932.txt  yob1959.txt  yob1986.txt\n"
          ]
        }
      ]
    },
    {
      "cell_type": "markdown",
      "metadata": {
        "id": "1eSvD5rV11F4"
      },
      "source": [
        "### Q1. 폴더로부터 1880년도부터 2011년도 데이터를 읽어 하나의 통합데이터로 만들어보세요."
      ]
    },
    {
      "cell_type": "markdown",
      "metadata": {
        "id": "10zvzzCS34X0"
      },
      "source": [
        "### Q2. 1900 년도에 태어난 남자, 여자 이름 top 5개를 알려주세요.\n"
      ]
    },
    {
      "cell_type": "markdown",
      "metadata": {
        "id": "VFEfUL-o5v6J"
      },
      "source": [
        "### Q3. 연도별 태어난 남여 인구수를 비교하는 그래프를 그려보세요"
      ]
    },
    {
      "cell_type": "markdown",
      "metadata": {
        "id": "btjzQxXn6JOg"
      },
      "source": [
        "### Q4. 주어진 성별의 이름에 대해서 태어난 아동 수의 line 플롯을 그려주는 함수를 작성하세요. \n",
        "  - 하나의 이름만 받아서 line style 은 파란색의 실선으로 그려주는 함수를 작성하세요.  \n",
        "  - 여러 이름을 입력받아서 subplot으로 각 이름들 별로 그림을 그리는 함수를 만들어보세요. line style 은 각 subplot 별로 달라도 좋습니다."
      ]
    },
    {
      "cell_type": "markdown",
      "metadata": {
        "id": "-iKtnGcYAIoe"
      },
      "source": [
        "### Q5. 남자 여자 이름 모두 쓰이는 이름을 찾아서 연도별 패턴을 시각화 해 보고자 합니다. 아래의 절차를 수행하세요.\n",
        "\n",
        " - 1900 년도에 1000개이상 쓰인 이름들을 추려보세요.\n",
        " - 추려진 data의 이름들에 대해서 value_conts 함수를 썼을 때 2 가 나오는 이름들은 남, 여 모두에서 1000회 이상 쓰인 이름입니다. \n",
        " - 앞에서 확인한 이름으로 남자 여자별로 연도별 이름사용횟수를 그려주는 시각화를 수행해보세요.\n",
        " - 해당 그래플를 해석해서 story를 설명해보세요"
      ]
    }
  ]
}
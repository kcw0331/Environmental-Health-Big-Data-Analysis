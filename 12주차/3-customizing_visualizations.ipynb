{
  "nbformat": 4,
  "nbformat_minor": 0,
  "metadata": {
    "kernelspec": {
      "display_name": "Python 3",
      "language": "python",
      "name": "python3"
    },
    "language_info": {
      "codemirror_mode": {
        "name": "ipython",
        "version": 3
      },
      "file_extension": ".py",
      "mimetype": "text/x-python",
      "name": "python",
      "nbconvert_exporter": "python",
      "pygments_lexer": "ipython3",
      "version": "3.7.3"
    },
    "colab": {
      "name": "3-customizing_visualizations.ipynb",
      "provenance": [],
      "include_colab_link": true
    },
    "widgets": {
      "application/vnd.jupyter.widget-state+json": {
        "7f7ac58bfacb4901887b11088da458af": {
          "model_module": "@jupyter-widgets/controls",
          "model_name": "VBoxModel",
          "model_module_version": "1.5.0",
          "state": {
            "_view_name": "VBoxView",
            "_dom_classes": [
              "widget-interact"
            ],
            "_model_name": "VBoxModel",
            "_view_module": "@jupyter-widgets/controls",
            "_model_module_version": "1.5.0",
            "_view_count": null,
            "_view_module_version": "1.5.0",
            "box_style": "",
            "layout": "IPY_MODEL_a6a4634178834ce5a1b0f9fb52b9903e",
            "_model_module": "@jupyter-widgets/controls",
            "children": [
              "IPY_MODEL_f24475156455429f82978eb812e65684",
              "IPY_MODEL_0d4396e2c67741728080029bfb55883a",
              "IPY_MODEL_f1c8a667f5554646a712d8c5842f5262",
              "IPY_MODEL_a52e185ac0e34d35ac808bf0809103f4",
              "IPY_MODEL_b0cb9940c010428d8b4f6b64804c7441",
              "IPY_MODEL_9d246cc80a244f2fa180cbe1f2866480",
              "IPY_MODEL_8468aed694be4635a34fb770afe20721",
              "IPY_MODEL_0c0769e8f26e4ac6a045088b78619acb"
            ]
          }
        },
        "a6a4634178834ce5a1b0f9fb52b9903e": {
          "model_module": "@jupyter-widgets/base",
          "model_name": "LayoutModel",
          "model_module_version": "1.2.0",
          "state": {
            "_view_name": "LayoutView",
            "grid_template_rows": null,
            "right": null,
            "justify_content": null,
            "_view_module": "@jupyter-widgets/base",
            "overflow": null,
            "_model_module_version": "1.2.0",
            "_view_count": null,
            "flex_flow": null,
            "width": null,
            "min_width": null,
            "border": null,
            "align_items": null,
            "bottom": null,
            "_model_module": "@jupyter-widgets/base",
            "top": null,
            "grid_column": null,
            "overflow_y": null,
            "overflow_x": null,
            "grid_auto_flow": null,
            "grid_area": null,
            "grid_template_columns": null,
            "flex": null,
            "_model_name": "LayoutModel",
            "justify_items": null,
            "grid_row": null,
            "max_height": null,
            "align_content": null,
            "visibility": null,
            "align_self": null,
            "height": null,
            "min_height": null,
            "padding": null,
            "grid_auto_rows": null,
            "grid_gap": null,
            "max_width": null,
            "order": null,
            "_view_module_version": "1.2.0",
            "grid_template_areas": null,
            "object_position": null,
            "object_fit": null,
            "grid_auto_columns": null,
            "margin": null,
            "display": null,
            "left": null
          }
        },
        "f24475156455429f82978eb812e65684": {
          "model_module": "@jupyter-widgets/controls",
          "model_name": "IntSliderModel",
          "model_module_version": "1.5.0",
          "state": {
            "_view_name": "IntSliderView",
            "style": "IPY_MODEL_275a357258e54686951b2f0b6839c1f5",
            "_dom_classes": [],
            "description": "h_neg",
            "step": 1,
            "_model_name": "IntSliderModel",
            "orientation": "horizontal",
            "max": 359,
            "_view_module": "@jupyter-widgets/controls",
            "_model_module_version": "1.5.0",
            "value": 220,
            "_view_count": null,
            "disabled": false,
            "_view_module_version": "1.5.0",
            "min": 0,
            "continuous_update": true,
            "readout_format": "d",
            "description_tooltip": null,
            "readout": true,
            "_model_module": "@jupyter-widgets/controls",
            "layout": "IPY_MODEL_997eb29eb86546498e30838322d96027"
          }
        },
        "0d4396e2c67741728080029bfb55883a": {
          "model_module": "@jupyter-widgets/controls",
          "model_name": "IntSliderModel",
          "model_module_version": "1.5.0",
          "state": {
            "_view_name": "IntSliderView",
            "style": "IPY_MODEL_a99003ca5e9a49cfa39f305a65481f00",
            "_dom_classes": [],
            "description": "h_pos",
            "step": 1,
            "_model_name": "IntSliderModel",
            "orientation": "horizontal",
            "max": 359,
            "_view_module": "@jupyter-widgets/controls",
            "_model_module_version": "1.5.0",
            "value": 10,
            "_view_count": null,
            "disabled": false,
            "_view_module_version": "1.5.0",
            "min": 0,
            "continuous_update": true,
            "readout_format": "d",
            "description_tooltip": null,
            "readout": true,
            "_model_module": "@jupyter-widgets/controls",
            "layout": "IPY_MODEL_c2e14ed670c3403ebc8b04acc17d1fe7"
          }
        },
        "f1c8a667f5554646a712d8c5842f5262": {
          "model_module": "@jupyter-widgets/controls",
          "model_name": "IntSliderModel",
          "model_module_version": "1.5.0",
          "state": {
            "_view_name": "IntSliderView",
            "style": "IPY_MODEL_1ad1a5aefdce48518224ecd0d577153c",
            "_dom_classes": [],
            "description": "s",
            "step": 1,
            "_model_name": "IntSliderModel",
            "orientation": "horizontal",
            "max": 99,
            "_view_module": "@jupyter-widgets/controls",
            "_model_module_version": "1.5.0",
            "value": 74,
            "_view_count": null,
            "disabled": false,
            "_view_module_version": "1.5.0",
            "min": 0,
            "continuous_update": true,
            "readout_format": "d",
            "description_tooltip": null,
            "readout": true,
            "_model_module": "@jupyter-widgets/controls",
            "layout": "IPY_MODEL_11915cda87fd402d946670311d005353"
          }
        },
        "a52e185ac0e34d35ac808bf0809103f4": {
          "model_module": "@jupyter-widgets/controls",
          "model_name": "IntSliderModel",
          "model_module_version": "1.5.0",
          "state": {
            "_view_name": "IntSliderView",
            "style": "IPY_MODEL_d3476ee4e38249a29a5ff12261468c8c",
            "_dom_classes": [],
            "description": "l",
            "step": 1,
            "_model_name": "IntSliderModel",
            "orientation": "horizontal",
            "max": 99,
            "_view_module": "@jupyter-widgets/controls",
            "_model_module_version": "1.5.0",
            "value": 50,
            "_view_count": null,
            "disabled": false,
            "_view_module_version": "1.5.0",
            "min": 0,
            "continuous_update": true,
            "readout_format": "d",
            "description_tooltip": null,
            "readout": true,
            "_model_module": "@jupyter-widgets/controls",
            "layout": "IPY_MODEL_ecfd355f77074da5b014f5afffeed2c3"
          }
        },
        "b0cb9940c010428d8b4f6b64804c7441": {
          "model_module": "@jupyter-widgets/controls",
          "model_name": "IntSliderModel",
          "model_module_version": "1.5.0",
          "state": {
            "_view_name": "IntSliderView",
            "style": "IPY_MODEL_9eb00e19661a4298941a2d448309ecbc",
            "_dom_classes": [],
            "description": "sep",
            "step": 1,
            "_model_name": "IntSliderModel",
            "orientation": "horizontal",
            "max": 50,
            "_view_module": "@jupyter-widgets/controls",
            "_model_module_version": "1.5.0",
            "value": 10,
            "_view_count": null,
            "disabled": false,
            "_view_module_version": "1.5.0",
            "min": 1,
            "continuous_update": true,
            "readout_format": "d",
            "description_tooltip": null,
            "readout": true,
            "_model_module": "@jupyter-widgets/controls",
            "layout": "IPY_MODEL_2a33850fd0404a89ab68182b0e54e729"
          }
        },
        "9d246cc80a244f2fa180cbe1f2866480": {
          "model_module": "@jupyter-widgets/controls",
          "model_name": "IntSliderModel",
          "model_module_version": "1.5.0",
          "state": {
            "_view_name": "IntSliderView",
            "style": "IPY_MODEL_3e84a8584e3d48a2b8455833047d6cf8",
            "_dom_classes": [],
            "description": "n",
            "step": 1,
            "_model_name": "IntSliderModel",
            "orientation": "horizontal",
            "max": 16,
            "_view_module": "@jupyter-widgets/controls",
            "_model_module_version": "1.5.0",
            "value": 9,
            "_view_count": null,
            "disabled": false,
            "_view_module_version": "1.5.0",
            "min": 2,
            "continuous_update": true,
            "readout_format": "d",
            "description_tooltip": null,
            "readout": true,
            "_model_module": "@jupyter-widgets/controls",
            "layout": "IPY_MODEL_19fe429a3bf146a2bcf93bd57e9d0097"
          }
        },
        "8468aed694be4635a34fb770afe20721": {
          "model_module": "@jupyter-widgets/controls",
          "model_name": "DropdownModel",
          "model_module_version": "1.5.0",
          "state": {
            "_options_labels": [
              "light",
              "dark"
            ],
            "_view_name": "DropdownView",
            "style": "IPY_MODEL_c4049c0cabbe4df092fa6015c046733a",
            "_dom_classes": [],
            "description": "center",
            "_model_name": "DropdownModel",
            "index": 0,
            "_view_module": "@jupyter-widgets/controls",
            "_model_module_version": "1.5.0",
            "_view_count": null,
            "disabled": false,
            "_view_module_version": "1.5.0",
            "description_tooltip": null,
            "_model_module": "@jupyter-widgets/controls",
            "layout": "IPY_MODEL_1b767ac01ce24f7bbc984c06e4f2406e"
          }
        },
        "0c0769e8f26e4ac6a045088b78619acb": {
          "model_module": "@jupyter-widgets/output",
          "model_name": "OutputModel",
          "model_module_version": "1.0.0",
          "state": {
            "_view_name": "OutputView",
            "msg_id": "",
            "_dom_classes": [],
            "_model_name": "OutputModel",
            "outputs": [
              {
                "output_type": "display_data",
                "data": {
                  "image/png": "iVBORw0KGgoAAAANSUhEUgAAAggAAABICAYAAACTOw0mAAAABHNCSVQICAgIfAhkiAAAAAlwSFlzAAALEgAACxIB0t1+/AAAADh0RVh0U29mdHdhcmUAbWF0cGxvdGxpYiB2ZXJzaW9uMy4yLjIsIGh0dHA6Ly9tYXRwbG90bGliLm9yZy+WH4yJAAACRklEQVR4nO3aP2pUURjG4e9KIjFYhGAKBbW2MFVW4iLcgZtxQzYWMf6BLMBOsBASM0KOrfAm4kAOZ+b4PO0dhu9lmh/cWVprBQDwp3ujDwAANo9AAACCQAAAgkAAAIJAAACCQAAAws46H97df9j2Dg573TLc/v3d0Sd09cC+rTXztqqq68ufo0/oql1cjD6hqzb573d9cTn6hG6+Xl3W91+r5aZnawXC3sFhnbx+czdXbaDjZ49Hn9DVy8n3HT+dd9+LJ0ejT+hq9eV89AldrT58HH1CV1enn0af0NXq7PPoE7p5dfru1mdeMQAAQSAAAEEgAABBIAAAQSAAAEEgAABBIAAAQSAAAEEgAABBIAAAQSAAAEEgAABBIAAAQSAAAEEgAABBIAAAQSAAAEEgAABBIAAAQSAAAEEgAABBIAAAQSAAAEEgAABBIAAAQSAAAEEgAABBIAAAQSAAAEEgAABBIAAAQSAAAEEgAABBIAAAQSAAAEEgAABBIAAAQSAAAEEgAABBIAAAQSAAAEEgAABBIAAAQSAAAEEgAABBIAAAQSAAAEEgAABBIAAAQSAAAEEgAABBIAAAYWmt/fuHl+VHVZ33O2e4R1X1bfQRncy8rcq+bWff9pp5W9X8+5631o5uerCz5hedt9ZO7uCgjbQsy/tZ9828rcq+bWff9pp5W9X8+/7GKwYAIAgEACCsGwhvu1yxOWbeN/O2Kvu2nX3ba+ZtVfPvu9Vaf1IEAP4PXjEAAEEgAABBIAAAQSAAAEEgAADhN8nhYisz5qb4AAAAAElFTkSuQmCC\n",
                  "text/plain": "<Figure size 648x72 with 1 Axes>"
                },
                "metadata": {
                  "needs_background": "light"
                }
              }
            ],
            "_view_module": "@jupyter-widgets/output",
            "_model_module_version": "1.0.0",
            "_view_count": null,
            "_view_module_version": "1.0.0",
            "layout": "IPY_MODEL_dce569334b5043d8a853eb1f8fa8bf8e",
            "_model_module": "@jupyter-widgets/output"
          }
        },
        "275a357258e54686951b2f0b6839c1f5": {
          "model_module": "@jupyter-widgets/controls",
          "model_name": "SliderStyleModel",
          "model_module_version": "1.5.0",
          "state": {
            "_view_name": "StyleView",
            "handle_color": null,
            "_model_name": "SliderStyleModel",
            "description_width": "",
            "_view_module": "@jupyter-widgets/base",
            "_model_module_version": "1.5.0",
            "_view_count": null,
            "_view_module_version": "1.2.0",
            "_model_module": "@jupyter-widgets/controls"
          }
        },
        "997eb29eb86546498e30838322d96027": {
          "model_module": "@jupyter-widgets/base",
          "model_name": "LayoutModel",
          "model_module_version": "1.2.0",
          "state": {
            "_view_name": "LayoutView",
            "grid_template_rows": null,
            "right": null,
            "justify_content": null,
            "_view_module": "@jupyter-widgets/base",
            "overflow": null,
            "_model_module_version": "1.2.0",
            "_view_count": null,
            "flex_flow": null,
            "width": null,
            "min_width": null,
            "border": null,
            "align_items": null,
            "bottom": null,
            "_model_module": "@jupyter-widgets/base",
            "top": null,
            "grid_column": null,
            "overflow_y": null,
            "overflow_x": null,
            "grid_auto_flow": null,
            "grid_area": null,
            "grid_template_columns": null,
            "flex": null,
            "_model_name": "LayoutModel",
            "justify_items": null,
            "grid_row": null,
            "max_height": null,
            "align_content": null,
            "visibility": null,
            "align_self": null,
            "height": null,
            "min_height": null,
            "padding": null,
            "grid_auto_rows": null,
            "grid_gap": null,
            "max_width": null,
            "order": null,
            "_view_module_version": "1.2.0",
            "grid_template_areas": null,
            "object_position": null,
            "object_fit": null,
            "grid_auto_columns": null,
            "margin": null,
            "display": null,
            "left": null
          }
        },
        "a99003ca5e9a49cfa39f305a65481f00": {
          "model_module": "@jupyter-widgets/controls",
          "model_name": "SliderStyleModel",
          "model_module_version": "1.5.0",
          "state": {
            "_view_name": "StyleView",
            "handle_color": null,
            "_model_name": "SliderStyleModel",
            "description_width": "",
            "_view_module": "@jupyter-widgets/base",
            "_model_module_version": "1.5.0",
            "_view_count": null,
            "_view_module_version": "1.2.0",
            "_model_module": "@jupyter-widgets/controls"
          }
        },
        "c2e14ed670c3403ebc8b04acc17d1fe7": {
          "model_module": "@jupyter-widgets/base",
          "model_name": "LayoutModel",
          "model_module_version": "1.2.0",
          "state": {
            "_view_name": "LayoutView",
            "grid_template_rows": null,
            "right": null,
            "justify_content": null,
            "_view_module": "@jupyter-widgets/base",
            "overflow": null,
            "_model_module_version": "1.2.0",
            "_view_count": null,
            "flex_flow": null,
            "width": null,
            "min_width": null,
            "border": null,
            "align_items": null,
            "bottom": null,
            "_model_module": "@jupyter-widgets/base",
            "top": null,
            "grid_column": null,
            "overflow_y": null,
            "overflow_x": null,
            "grid_auto_flow": null,
            "grid_area": null,
            "grid_template_columns": null,
            "flex": null,
            "_model_name": "LayoutModel",
            "justify_items": null,
            "grid_row": null,
            "max_height": null,
            "align_content": null,
            "visibility": null,
            "align_self": null,
            "height": null,
            "min_height": null,
            "padding": null,
            "grid_auto_rows": null,
            "grid_gap": null,
            "max_width": null,
            "order": null,
            "_view_module_version": "1.2.0",
            "grid_template_areas": null,
            "object_position": null,
            "object_fit": null,
            "grid_auto_columns": null,
            "margin": null,
            "display": null,
            "left": null
          }
        },
        "1ad1a5aefdce48518224ecd0d577153c": {
          "model_module": "@jupyter-widgets/controls",
          "model_name": "SliderStyleModel",
          "model_module_version": "1.5.0",
          "state": {
            "_view_name": "StyleView",
            "handle_color": null,
            "_model_name": "SliderStyleModel",
            "description_width": "",
            "_view_module": "@jupyter-widgets/base",
            "_model_module_version": "1.5.0",
            "_view_count": null,
            "_view_module_version": "1.2.0",
            "_model_module": "@jupyter-widgets/controls"
          }
        },
        "11915cda87fd402d946670311d005353": {
          "model_module": "@jupyter-widgets/base",
          "model_name": "LayoutModel",
          "model_module_version": "1.2.0",
          "state": {
            "_view_name": "LayoutView",
            "grid_template_rows": null,
            "right": null,
            "justify_content": null,
            "_view_module": "@jupyter-widgets/base",
            "overflow": null,
            "_model_module_version": "1.2.0",
            "_view_count": null,
            "flex_flow": null,
            "width": null,
            "min_width": null,
            "border": null,
            "align_items": null,
            "bottom": null,
            "_model_module": "@jupyter-widgets/base",
            "top": null,
            "grid_column": null,
            "overflow_y": null,
            "overflow_x": null,
            "grid_auto_flow": null,
            "grid_area": null,
            "grid_template_columns": null,
            "flex": null,
            "_model_name": "LayoutModel",
            "justify_items": null,
            "grid_row": null,
            "max_height": null,
            "align_content": null,
            "visibility": null,
            "align_self": null,
            "height": null,
            "min_height": null,
            "padding": null,
            "grid_auto_rows": null,
            "grid_gap": null,
            "max_width": null,
            "order": null,
            "_view_module_version": "1.2.0",
            "grid_template_areas": null,
            "object_position": null,
            "object_fit": null,
            "grid_auto_columns": null,
            "margin": null,
            "display": null,
            "left": null
          }
        },
        "d3476ee4e38249a29a5ff12261468c8c": {
          "model_module": "@jupyter-widgets/controls",
          "model_name": "SliderStyleModel",
          "model_module_version": "1.5.0",
          "state": {
            "_view_name": "StyleView",
            "handle_color": null,
            "_model_name": "SliderStyleModel",
            "description_width": "",
            "_view_module": "@jupyter-widgets/base",
            "_model_module_version": "1.5.0",
            "_view_count": null,
            "_view_module_version": "1.2.0",
            "_model_module": "@jupyter-widgets/controls"
          }
        },
        "ecfd355f77074da5b014f5afffeed2c3": {
          "model_module": "@jupyter-widgets/base",
          "model_name": "LayoutModel",
          "model_module_version": "1.2.0",
          "state": {
            "_view_name": "LayoutView",
            "grid_template_rows": null,
            "right": null,
            "justify_content": null,
            "_view_module": "@jupyter-widgets/base",
            "overflow": null,
            "_model_module_version": "1.2.0",
            "_view_count": null,
            "flex_flow": null,
            "width": null,
            "min_width": null,
            "border": null,
            "align_items": null,
            "bottom": null,
            "_model_module": "@jupyter-widgets/base",
            "top": null,
            "grid_column": null,
            "overflow_y": null,
            "overflow_x": null,
            "grid_auto_flow": null,
            "grid_area": null,
            "grid_template_columns": null,
            "flex": null,
            "_model_name": "LayoutModel",
            "justify_items": null,
            "grid_row": null,
            "max_height": null,
            "align_content": null,
            "visibility": null,
            "align_self": null,
            "height": null,
            "min_height": null,
            "padding": null,
            "grid_auto_rows": null,
            "grid_gap": null,
            "max_width": null,
            "order": null,
            "_view_module_version": "1.2.0",
            "grid_template_areas": null,
            "object_position": null,
            "object_fit": null,
            "grid_auto_columns": null,
            "margin": null,
            "display": null,
            "left": null
          }
        },
        "9eb00e19661a4298941a2d448309ecbc": {
          "model_module": "@jupyter-widgets/controls",
          "model_name": "SliderStyleModel",
          "model_module_version": "1.5.0",
          "state": {
            "_view_name": "StyleView",
            "handle_color": null,
            "_model_name": "SliderStyleModel",
            "description_width": "",
            "_view_module": "@jupyter-widgets/base",
            "_model_module_version": "1.5.0",
            "_view_count": null,
            "_view_module_version": "1.2.0",
            "_model_module": "@jupyter-widgets/controls"
          }
        },
        "2a33850fd0404a89ab68182b0e54e729": {
          "model_module": "@jupyter-widgets/base",
          "model_name": "LayoutModel",
          "model_module_version": "1.2.0",
          "state": {
            "_view_name": "LayoutView",
            "grid_template_rows": null,
            "right": null,
            "justify_content": null,
            "_view_module": "@jupyter-widgets/base",
            "overflow": null,
            "_model_module_version": "1.2.0",
            "_view_count": null,
            "flex_flow": null,
            "width": null,
            "min_width": null,
            "border": null,
            "align_items": null,
            "bottom": null,
            "_model_module": "@jupyter-widgets/base",
            "top": null,
            "grid_column": null,
            "overflow_y": null,
            "overflow_x": null,
            "grid_auto_flow": null,
            "grid_area": null,
            "grid_template_columns": null,
            "flex": null,
            "_model_name": "LayoutModel",
            "justify_items": null,
            "grid_row": null,
            "max_height": null,
            "align_content": null,
            "visibility": null,
            "align_self": null,
            "height": null,
            "min_height": null,
            "padding": null,
            "grid_auto_rows": null,
            "grid_gap": null,
            "max_width": null,
            "order": null,
            "_view_module_version": "1.2.0",
            "grid_template_areas": null,
            "object_position": null,
            "object_fit": null,
            "grid_auto_columns": null,
            "margin": null,
            "display": null,
            "left": null
          }
        },
        "3e84a8584e3d48a2b8455833047d6cf8": {
          "model_module": "@jupyter-widgets/controls",
          "model_name": "SliderStyleModel",
          "model_module_version": "1.5.0",
          "state": {
            "_view_name": "StyleView",
            "handle_color": null,
            "_model_name": "SliderStyleModel",
            "description_width": "",
            "_view_module": "@jupyter-widgets/base",
            "_model_module_version": "1.5.0",
            "_view_count": null,
            "_view_module_version": "1.2.0",
            "_model_module": "@jupyter-widgets/controls"
          }
        },
        "19fe429a3bf146a2bcf93bd57e9d0097": {
          "model_module": "@jupyter-widgets/base",
          "model_name": "LayoutModel",
          "model_module_version": "1.2.0",
          "state": {
            "_view_name": "LayoutView",
            "grid_template_rows": null,
            "right": null,
            "justify_content": null,
            "_view_module": "@jupyter-widgets/base",
            "overflow": null,
            "_model_module_version": "1.2.0",
            "_view_count": null,
            "flex_flow": null,
            "width": null,
            "min_width": null,
            "border": null,
            "align_items": null,
            "bottom": null,
            "_model_module": "@jupyter-widgets/base",
            "top": null,
            "grid_column": null,
            "overflow_y": null,
            "overflow_x": null,
            "grid_auto_flow": null,
            "grid_area": null,
            "grid_template_columns": null,
            "flex": null,
            "_model_name": "LayoutModel",
            "justify_items": null,
            "grid_row": null,
            "max_height": null,
            "align_content": null,
            "visibility": null,
            "align_self": null,
            "height": null,
            "min_height": null,
            "padding": null,
            "grid_auto_rows": null,
            "grid_gap": null,
            "max_width": null,
            "order": null,
            "_view_module_version": "1.2.0",
            "grid_template_areas": null,
            "object_position": null,
            "object_fit": null,
            "grid_auto_columns": null,
            "margin": null,
            "display": null,
            "left": null
          }
        },
        "c4049c0cabbe4df092fa6015c046733a": {
          "model_module": "@jupyter-widgets/controls",
          "model_name": "DescriptionStyleModel",
          "model_module_version": "1.5.0",
          "state": {
            "_view_name": "StyleView",
            "_model_name": "DescriptionStyleModel",
            "description_width": "",
            "_view_module": "@jupyter-widgets/base",
            "_model_module_version": "1.5.0",
            "_view_count": null,
            "_view_module_version": "1.2.0",
            "_model_module": "@jupyter-widgets/controls"
          }
        },
        "1b767ac01ce24f7bbc984c06e4f2406e": {
          "model_module": "@jupyter-widgets/base",
          "model_name": "LayoutModel",
          "model_module_version": "1.2.0",
          "state": {
            "_view_name": "LayoutView",
            "grid_template_rows": null,
            "right": null,
            "justify_content": null,
            "_view_module": "@jupyter-widgets/base",
            "overflow": null,
            "_model_module_version": "1.2.0",
            "_view_count": null,
            "flex_flow": null,
            "width": null,
            "min_width": null,
            "border": null,
            "align_items": null,
            "bottom": null,
            "_model_module": "@jupyter-widgets/base",
            "top": null,
            "grid_column": null,
            "overflow_y": null,
            "overflow_x": null,
            "grid_auto_flow": null,
            "grid_area": null,
            "grid_template_columns": null,
            "flex": null,
            "_model_name": "LayoutModel",
            "justify_items": null,
            "grid_row": null,
            "max_height": null,
            "align_content": null,
            "visibility": null,
            "align_self": null,
            "height": null,
            "min_height": null,
            "padding": null,
            "grid_auto_rows": null,
            "grid_gap": null,
            "max_width": null,
            "order": null,
            "_view_module_version": "1.2.0",
            "grid_template_areas": null,
            "object_position": null,
            "object_fit": null,
            "grid_auto_columns": null,
            "margin": null,
            "display": null,
            "left": null
          }
        },
        "dce569334b5043d8a853eb1f8fa8bf8e": {
          "model_module": "@jupyter-widgets/base",
          "model_name": "LayoutModel",
          "model_module_version": "1.2.0",
          "state": {
            "_view_name": "LayoutView",
            "grid_template_rows": null,
            "right": null,
            "justify_content": null,
            "_view_module": "@jupyter-widgets/base",
            "overflow": null,
            "_model_module_version": "1.2.0",
            "_view_count": null,
            "flex_flow": null,
            "width": null,
            "min_width": null,
            "border": null,
            "align_items": null,
            "bottom": null,
            "_model_module": "@jupyter-widgets/base",
            "top": null,
            "grid_column": null,
            "overflow_y": null,
            "overflow_x": null,
            "grid_auto_flow": null,
            "grid_area": null,
            "grid_template_columns": null,
            "flex": null,
            "_model_name": "LayoutModel",
            "justify_items": null,
            "grid_row": null,
            "max_height": null,
            "align_content": null,
            "visibility": null,
            "align_self": null,
            "height": null,
            "min_height": null,
            "padding": null,
            "grid_auto_rows": null,
            "grid_gap": null,
            "max_width": null,
            "order": null,
            "_view_module_version": "1.2.0",
            "grid_template_areas": null,
            "object_position": null,
            "object_fit": null,
            "grid_auto_columns": null,
            "margin": null,
            "display": null,
            "left": null
          }
        }
      }
    }
  },
  "cells": [
    {
      "cell_type": "markdown",
      "metadata": {
        "id": "view-in-github",
        "colab_type": "text"
      },
      "source": [
        "<a href=\"https://colab.research.google.com/github/kcw0331/Environmental-Health-Big-Data-Analysis/blob/main/12%EC%A3%BC%EC%B0%A8/3-customizing_visualizations.ipynb\" target=\"_parent\"><img src=\"https://colab.research.google.com/assets/colab-badge.svg\" alt=\"Open In Colab\"/></a>"
      ]
    },
    {
      "cell_type": "markdown",
      "metadata": {
        "id": "tf_khAX_C9CN"
      },
      "source": [
        "# Customizing visualizations\n",
        "\n",
        "## About the Data\n",
        "In this notebook, we will be working with 2 datasets:\n",
        "- Facebook's stock price throughout 2018 (obtained using the [`stock_analysis` package](https://github.com/stefmolin/stock-analysis))\n",
        "- Earthquake data from September 18, 2018 - October 13, 2018 (obtained from the US Geological Survey (USGS) using the [USGS API](https://earthquake.usgs.gov/fdsnws/event/1/))\n",
        "\n",
        "## Setup"
      ]
    },
    {
      "cell_type": "code",
      "metadata": {
        "id": "_lqjPAIVDT7y",
        "outputId": "3f6796de-9473-4077-f707-fb4ac7252473",
        "colab": {
          "base_uri": "https://localhost:8080/"
        }
      },
      "source": [
        "from google.colab import drive\n",
        "drive.mount('/content/drive')"
      ],
      "execution_count": 1,
      "outputs": [
        {
          "output_type": "stream",
          "name": "stdout",
          "text": [
            "Mounted at /content/drive\n"
          ]
        }
      ]
    },
    {
      "cell_type": "code",
      "metadata": {
        "id": "LNbGNB3qDYJZ",
        "outputId": "3116fe03-36f0-4933-a39e-30d5c313909c",
        "colab": {
          "base_uri": "https://localhost:8080/"
        }
      },
      "source": [
        "cd /content/drive/MyDrive/Hands-On-Data-Analysis-with-Pandas-2nd-edition/ch_06"
      ],
      "execution_count": 2,
      "outputs": [
        {
          "output_type": "stream",
          "name": "stdout",
          "text": [
            "/content/drive/MyDrive/Hands-On-Data-Analysis-with-Pandas-2nd-edition/ch_06\n"
          ]
        }
      ]
    },
    {
      "cell_type": "code",
      "metadata": {
        "id": "digWtj6TC9CQ"
      },
      "source": [
        "%matplotlib inline\n",
        "import matplotlib.pyplot as plt\n",
        "import pandas as pd\n",
        "\n",
        "fb = pd.read_csv(\n",
        "    'data/fb_stock_prices_2018.csv', index_col='date', parse_dates=True\n",
        ")\n",
        "\n",
        "quakes = pd.read_csv('data/earthquakes.csv')"
      ],
      "execution_count": 3,
      "outputs": []
    },
    {
      "cell_type": "markdown",
      "metadata": {
        "id": "XxCJgoZyDlIl"
      },
      "source": [
        "* facebook과 earthwuakes에 대한 데이터를 읽어온다."
      ]
    },
    {
      "cell_type": "markdown",
      "metadata": {
        "id": "bKgFwzOtC9CR"
      },
      "source": [
        "## Adding reference lines\n",
        "### Horizontal reference lines\n",
        "`axhline()` adds horizontal lines. We simply specify the y value to draw the horizontal line at with the `y` parameter. Optionally, we can provide:\n",
        "- `label` for a string that will show up in the legend\n",
        "- `color` for the color of the reference line\n",
        "- `linestyle` for the type of line to draw\n",
        "\n",
        "We will draw reference lines for support and resistance using the [`stock_analysis` package](https://github.com/stefmolin/stock-analysis) that we will build in chapter 7. To get these metrics, we need to create a `StockAnalyzer` object:"
      ]
    },
    {
      "cell_type": "code",
      "metadata": {
        "id": "DbaBfIz8EJT3"
      },
      "source": [
        "import sys\n",
        "sys.path.append('')"
      ],
      "execution_count": null,
      "outputs": []
    },
    {
      "cell_type": "code",
      "metadata": {
        "id": "Pmrn4VOYC9CS"
      },
      "source": [
        "from stock_analysis import StockAnalyzer\n",
        "\n",
        "fb_analyzer = StockAnalyzer(fb)"
      ],
      "execution_count": null,
      "outputs": []
    },
    {
      "cell_type": "markdown",
      "metadata": {
        "id": "5rRhy-lCENcA"
      },
      "source": [
        "* StockAnalyzer를 사용하기 위해 sys.path.append를 사용해서 불러와주면 된다. 그러면 support와 resistance를 불러올 수 있다고 하심.\n"
      ]
    },
    {
      "cell_type": "markdown",
      "metadata": {
        "id": "TkDoGariC9CS"
      },
      "source": [
        "With the `fb_analyzer` we can use the `support()` and `resistance()` methods to get the values we seek:"
      ]
    },
    {
      "cell_type": "code",
      "metadata": {
        "id": "Iq4avLfzC9CS",
        "outputId": "b91eca4c-bb03-400e-e998-5836e61e76be",
        "colab": {
          "base_uri": "https://localhost:8080/",
          "height": 339
        }
      },
      "source": [
        "support, resistance = (\n",
        "    getattr(fb_analyzer, stat)(level=3) for stat in ['support', 'resistance']\n",
        ")\n",
        "support, resistance"
      ],
      "execution_count": 4,
      "outputs": [
        {
          "output_type": "error",
          "ename": "NameError",
          "evalue": "ignored",
          "traceback": [
            "\u001b[0;31m---------------------------------------------------------------------------\u001b[0m",
            "\u001b[0;31mNameError\u001b[0m                                 Traceback (most recent call last)",
            "\u001b[0;32m<ipython-input-4-d130006cc9cf>\u001b[0m in \u001b[0;36m<module>\u001b[0;34m()\u001b[0m\n\u001b[1;32m      1\u001b[0m support, resistance = (\n\u001b[0;32m----> 2\u001b[0;31m     \u001b[0mgetattr\u001b[0m\u001b[0;34m(\u001b[0m\u001b[0mfb_analyzer\u001b[0m\u001b[0;34m,\u001b[0m \u001b[0mstat\u001b[0m\u001b[0;34m)\u001b[0m\u001b[0;34m(\u001b[0m\u001b[0mlevel\u001b[0m\u001b[0;34m=\u001b[0m\u001b[0;36m3\u001b[0m\u001b[0;34m)\u001b[0m \u001b[0;32mfor\u001b[0m \u001b[0mstat\u001b[0m \u001b[0;32min\u001b[0m \u001b[0;34m[\u001b[0m\u001b[0;34m'support'\u001b[0m\u001b[0;34m,\u001b[0m \u001b[0;34m'resistance'\u001b[0m\u001b[0;34m]\u001b[0m\u001b[0;34m\u001b[0m\u001b[0;34m\u001b[0m\u001b[0m\n\u001b[0m\u001b[1;32m      3\u001b[0m )\n\u001b[1;32m      4\u001b[0m \u001b[0msupport\u001b[0m\u001b[0;34m,\u001b[0m \u001b[0mresistance\u001b[0m\u001b[0;34m\u001b[0m\u001b[0;34m\u001b[0m\u001b[0m\n",
            "\u001b[0;32m<ipython-input-4-d130006cc9cf>\u001b[0m in \u001b[0;36m<genexpr>\u001b[0;34m(.0)\u001b[0m\n\u001b[1;32m      1\u001b[0m support, resistance = (\n\u001b[0;32m----> 2\u001b[0;31m     \u001b[0mgetattr\u001b[0m\u001b[0;34m(\u001b[0m\u001b[0mfb_analyzer\u001b[0m\u001b[0;34m,\u001b[0m \u001b[0mstat\u001b[0m\u001b[0;34m)\u001b[0m\u001b[0;34m(\u001b[0m\u001b[0mlevel\u001b[0m\u001b[0;34m=\u001b[0m\u001b[0;36m3\u001b[0m\u001b[0;34m)\u001b[0m \u001b[0;32mfor\u001b[0m \u001b[0mstat\u001b[0m \u001b[0;32min\u001b[0m \u001b[0;34m[\u001b[0m\u001b[0;34m'support'\u001b[0m\u001b[0;34m,\u001b[0m \u001b[0;34m'resistance'\u001b[0m\u001b[0;34m]\u001b[0m\u001b[0;34m\u001b[0m\u001b[0;34m\u001b[0m\u001b[0m\n\u001b[0m\u001b[1;32m      3\u001b[0m )\n\u001b[1;32m      4\u001b[0m \u001b[0msupport\u001b[0m\u001b[0;34m,\u001b[0m \u001b[0mresistance\u001b[0m\u001b[0;34m\u001b[0m\u001b[0;34m\u001b[0m\u001b[0m\n",
            "\u001b[0;31mNameError\u001b[0m: name 'fb_analyzer' is not defined"
          ]
        }
      ]
    },
    {
      "cell_type": "markdown",
      "metadata": {
        "id": "JFicCKZXEhaV"
      },
      "source": [
        "* 일단 StockAnalyzer를 사용해서 support와 resistance를 구하는 거를 하지 않고 \n",
        "* support와 resistance를 아래와 같이 숫자를 지정해서 사용함."
      ]
    },
    {
      "cell_type": "code",
      "metadata": {
        "id": "yiq_EqHwEeso"
      },
      "source": [
        "support = 124.4566666666\n",
        "resistance = 138.5266666666"
      ],
      "execution_count": 5,
      "outputs": []
    },
    {
      "cell_type": "markdown",
      "metadata": {
        "id": "YIvU71OAC9CT"
      },
      "source": [
        "Now that we have the values, we can add our reference lines with `plt.axhline()`:"
      ]
    },
    {
      "cell_type": "code",
      "metadata": {
        "id": "2h0DpGzXC9CU",
        "outputId": "e1d0cddc-e2e7-495e-cf09-87af7de2cb74",
        "colab": {
          "base_uri": "https://localhost:8080/",
          "height": 319
        }
      },
      "source": [
        "fb.close['2018-12'].plot(title='FB Closing Price December 2018')\n",
        "plt.axhline(\n",
        "    y=resistance, color='r', linestyle='--',\n",
        "    label=f'resistance (${resistance:,.2f})'\n",
        ")\n",
        "plt.axhline(\n",
        "    y=support, color='g', linestyle='--',\n",
        "    label=f'support (${support:,.2f})'\n",
        ")\n",
        "plt.ylabel('price ($)')\n",
        "plt.legend()"
      ],
      "execution_count": 6,
      "outputs": [
        {
          "output_type": "execute_result",
          "data": {
            "text/plain": [
              "<matplotlib.legend.Legend at 0x7f932acf5410>"
            ]
          },
          "metadata": {},
          "execution_count": 6
        },
        {
          "output_type": "display_data",
          "data": {
            "image/png": "[encoded data removed]",
            "text/plain": [
              "<Figure size 432x288 with 1 Axes>"
            ]
          },
          "metadata": {
            "needs_background": "light"
          }
        }
      ]
    },
    {
      "cell_type": "markdown",
      "metadata": {
        "id": "kf8tDvDKFBN9"
      },
      "source": [
        "* resistance와 support를 값을 사용해서 axhline을 그려줌."
      ]
    },
    {
      "cell_type": "markdown",
      "metadata": {
        "id": "m3cSF0TaC9CU"
      },
      "source": [
        "### Vertical reference lines\n",
        "For vertical lines, we use `axvline()` and provide the `x` parameter for where to draw it. The `std_from_mean_kde()` function draws vertical reference lines using `axvline()` at each standard deviation from the mean (1-3) and the mean."
      ]
    },
    {
      "cell_type": "code",
      "metadata": {
        "id": "0Z34WsMvFf8-"
      },
      "source": [
        "import sys\n",
        "sys.path.append('/content/drive/MyDrive/Hands-On-Data-Analysis-with-Pandas-2nd-edition/visual-aids')"
      ],
      "execution_count": 7,
      "outputs": []
    },
    {
      "cell_type": "code",
      "metadata": {
        "id": "TfmL4-8QC9CV",
        "outputId": "d1cf69e4-69d8-4ec5-b8fa-b9a37d9aacc0"
      },
      "source": [
        "from viz import std_from_mean_kde\n",
        "std_from_mean_kde??"
      ],
      "execution_count": null,
      "outputs": [
        {
          "data": {
            "text/plain": [
              "\u001b[0;31mSignature:\u001b[0m \u001b[0mstd_from_mean_kde\u001b[0m\u001b[0;34m(\u001b[0m\u001b[0mdata\u001b[0m\u001b[0;34m)\u001b[0m\u001b[0;34m\u001b[0m\u001b[0;34m\u001b[0m\u001b[0m\n",
              "\u001b[0;31mSource:\u001b[0m   \n",
              "\u001b[0;32mdef\u001b[0m \u001b[0mstd_from_mean_kde\u001b[0m\u001b[0;34m(\u001b[0m\u001b[0mdata\u001b[0m\u001b[0;34m)\u001b[0m\u001b[0;34m:\u001b[0m\u001b[0;34m\u001b[0m\n",
              "\u001b[0;34m\u001b[0m    \u001b[0;34m\"\"\"\u001b[0m\n",
              "\u001b[0;34m    Plot the KDE along with vertical reference lines\u001b[0m\n",
              "\u001b[0;34m    for each standard deviation from the mean.\u001b[0m\n",
              "\u001b[0;34m    \u001b[0m\n",
              "\u001b[0;34m    Parameters:\u001b[0m\n",
              "\u001b[0;34m        - data: `pandas.Series` with numeric data\u001b[0m\n",
              "\u001b[0;34m    \u001b[0m\n",
              "\u001b[0;34m    Returns:\u001b[0m\n",
              "\u001b[0;34m        Matplotlib `Axes` object.\u001b[0m\n",
              "\u001b[0;34m    \"\"\"\u001b[0m\u001b[0;34m\u001b[0m\n",
              "\u001b[0;34m\u001b[0m    \u001b[0mmean_mag\u001b[0m\u001b[0;34m,\u001b[0m \u001b[0mstd_mean\u001b[0m \u001b[0;34m=\u001b[0m \u001b[0mdata\u001b[0m\u001b[0;34m.\u001b[0m\u001b[0mmean\u001b[0m\u001b[0;34m(\u001b[0m\u001b[0;34m)\u001b[0m\u001b[0;34m,\u001b[0m \u001b[0mdata\u001b[0m\u001b[0;34m.\u001b[0m\u001b[0mstd\u001b[0m\u001b[0;34m(\u001b[0m\u001b[0;34m)\u001b[0m\u001b[0;34m\u001b[0m\n",
              "\u001b[0;34m\u001b[0m    \u001b[0;34m\u001b[0m\n",
              "\u001b[0;34m\u001b[0m    \u001b[0max\u001b[0m \u001b[0;34m=\u001b[0m \u001b[0mdata\u001b[0m\u001b[0;34m.\u001b[0m\u001b[0mplot\u001b[0m\u001b[0;34m(\u001b[0m\u001b[0mkind\u001b[0m\u001b[0;34m=\u001b[0m\u001b[0;34m'kde'\u001b[0m\u001b[0;34m)\u001b[0m\u001b[0;34m\u001b[0m\n",
              "\u001b[0;34m\u001b[0m    \u001b[0max\u001b[0m\u001b[0;34m.\u001b[0m\u001b[0maxvline\u001b[0m\u001b[0;34m(\u001b[0m\u001b[0mmean_mag\u001b[0m\u001b[0;34m,\u001b[0m \u001b[0mcolor\u001b[0m\u001b[0;34m=\u001b[0m\u001b[0;34m'b'\u001b[0m\u001b[0;34m,\u001b[0m \u001b[0malpha\u001b[0m\u001b[0;34m=\u001b[0m\u001b[0;36m0.2\u001b[0m\u001b[0;34m,\u001b[0m \u001b[0mlabel\u001b[0m\u001b[0;34m=\u001b[0m\u001b[0;34m'mean'\u001b[0m\u001b[0;34m)\u001b[0m\u001b[0;34m\u001b[0m\n",
              "\u001b[0;34m\u001b[0m    \u001b[0;34m\u001b[0m\n",
              "\u001b[0;34m\u001b[0m    \u001b[0mcolors\u001b[0m \u001b[0;34m=\u001b[0m \u001b[0;34m[\u001b[0m\u001b[0;34m'green'\u001b[0m\u001b[0;34m,\u001b[0m \u001b[0;34m'orange'\u001b[0m\u001b[0;34m,\u001b[0m \u001b[0;34m'red'\u001b[0m\u001b[0;34m]\u001b[0m\u001b[0;34m\u001b[0m\n",
              "\u001b[0;34m\u001b[0m    \u001b[0mmultipliers\u001b[0m \u001b[0;34m=\u001b[0m \u001b[0;34m[\u001b[0m\u001b[0;36m1\u001b[0m\u001b[0;34m,\u001b[0m \u001b[0;36m2\u001b[0m\u001b[0;34m,\u001b[0m \u001b[0;36m3\u001b[0m\u001b[0;34m]\u001b[0m\u001b[0;34m\u001b[0m\n",
              "\u001b[0;34m\u001b[0m    \u001b[0msigns\u001b[0m \u001b[0;34m=\u001b[0m \u001b[0;34m[\u001b[0m\u001b[0;34m'-'\u001b[0m\u001b[0;34m,\u001b[0m \u001b[0;34m'+'\u001b[0m\u001b[0;34m]\u001b[0m\u001b[0;34m\u001b[0m\n",
              "\u001b[0;34m\u001b[0m    \u001b[0mlinestyles\u001b[0m \u001b[0;34m=\u001b[0m \u001b[0;34m[\u001b[0m\u001b[0;34m':'\u001b[0m\u001b[0;34m,\u001b[0m \u001b[0;34m'-.'\u001b[0m\u001b[0;34m,\u001b[0m \u001b[0;34m'--'\u001b[0m\u001b[0;34m]\u001b[0m\u001b[0;34m\u001b[0m\n",
              "\u001b[0;34m\u001b[0m    \u001b[0;34m\u001b[0m\n",
              "\u001b[0;34m\u001b[0m    \u001b[0;32mfor\u001b[0m \u001b[0msign\u001b[0m\u001b[0;34m,\u001b[0m \u001b[0;34m(\u001b[0m\u001b[0mcolor\u001b[0m\u001b[0;34m,\u001b[0m \u001b[0mmultiplier\u001b[0m\u001b[0;34m,\u001b[0m \u001b[0mstyle\u001b[0m\u001b[0;34m)\u001b[0m \u001b[0;32min\u001b[0m \u001b[0mitertools\u001b[0m\u001b[0;34m.\u001b[0m\u001b[0mproduct\u001b[0m\u001b[0;34m(\u001b[0m\u001b[0;34m\u001b[0m\n",
              "\u001b[0;34m\u001b[0m        \u001b[0msigns\u001b[0m\u001b[0;34m,\u001b[0m \u001b[0mzip\u001b[0m\u001b[0;34m(\u001b[0m\u001b[0mcolors\u001b[0m\u001b[0;34m,\u001b[0m \u001b[0mmultipliers\u001b[0m\u001b[0;34m,\u001b[0m \u001b[0mlinestyles\u001b[0m\u001b[0;34m)\u001b[0m\u001b[0;34m\u001b[0m\n",
              "\u001b[0;34m\u001b[0m    \u001b[0;34m)\u001b[0m\u001b[0;34m:\u001b[0m\u001b[0;34m\u001b[0m\n",
              "\u001b[0;34m\u001b[0m        \u001b[0madjustment\u001b[0m \u001b[0;34m=\u001b[0m \u001b[0mmultiplier\u001b[0m \u001b[0;34m*\u001b[0m \u001b[0mstd_mean\u001b[0m\u001b[0;34m\u001b[0m\n",
              "\u001b[0;34m\u001b[0m        \u001b[0;32mif\u001b[0m \u001b[0msign\u001b[0m \u001b[0;34m==\u001b[0m \u001b[0;34m'-'\u001b[0m\u001b[0;34m:\u001b[0m\u001b[0;34m\u001b[0m\n",
              "\u001b[0;34m\u001b[0m            \u001b[0mvalue\u001b[0m \u001b[0;34m=\u001b[0m \u001b[0mmean_mag\u001b[0m \u001b[0;34m-\u001b[0m \u001b[0madjustment\u001b[0m\u001b[0;34m\u001b[0m\n",
              "\u001b[0;34m\u001b[0m            \u001b[0mlabel\u001b[0m \u001b[0;34m=\u001b[0m \u001b[0;34m'{} {}{}{}'\u001b[0m\u001b[0;34m.\u001b[0m\u001b[0mformat\u001b[0m\u001b[0;34m(\u001b[0m\u001b[0;34m\u001b[0m\n",
              "\u001b[0;34m\u001b[0m                \u001b[0;34mr'$\\mu$'\u001b[0m\u001b[0;34m,\u001b[0m\u001b[0;34m\u001b[0m\n",
              "\u001b[0;34m\u001b[0m                \u001b[0;34mr'$\\pm$'\u001b[0m\u001b[0;34m,\u001b[0m\u001b[0;34m\u001b[0m\n",
              "\u001b[0;34m\u001b[0m                \u001b[0mmultiplier\u001b[0m\u001b[0;34m,\u001b[0m\u001b[0;34m\u001b[0m\n",
              "\u001b[0;34m\u001b[0m                \u001b[0;34mr'$\\sigma$'\u001b[0m\u001b[0;34m\u001b[0m\n",
              "\u001b[0;34m\u001b[0m            \u001b[0;34m)\u001b[0m\u001b[0;34m\u001b[0m\n",
              "\u001b[0;34m\u001b[0m        \u001b[0;32melse\u001b[0m\u001b[0;34m:\u001b[0m\u001b[0;34m\u001b[0m\n",
              "\u001b[0;34m\u001b[0m            \u001b[0mvalue\u001b[0m \u001b[0;34m=\u001b[0m \u001b[0mmean_mag\u001b[0m \u001b[0;34m+\u001b[0m \u001b[0madjustment\u001b[0m\u001b[0;34m\u001b[0m\n",
              "\u001b[0;34m\u001b[0m            \u001b[0mlabel\u001b[0m \u001b[0;34m=\u001b[0m \u001b[0;32mNone\u001b[0m\u001b[0;34m\u001b[0m\n",
              "\u001b[0;34m\u001b[0m        \u001b[0max\u001b[0m\u001b[0;34m.\u001b[0m\u001b[0maxvline\u001b[0m\u001b[0;34m(\u001b[0m\u001b[0mvalue\u001b[0m\u001b[0;34m,\u001b[0m \u001b[0mcolor\u001b[0m\u001b[0;34m=\u001b[0m\u001b[0mcolor\u001b[0m\u001b[0;34m,\u001b[0m \u001b[0mlinestyle\u001b[0m\u001b[0;34m=\u001b[0m\u001b[0mstyle\u001b[0m\u001b[0;34m,\u001b[0m \u001b[0mlabel\u001b[0m\u001b[0;34m=\u001b[0m\u001b[0mlabel\u001b[0m\u001b[0;34m,\u001b[0m \u001b[0malpha\u001b[0m\u001b[0;34m=\u001b[0m\u001b[0;36m0.5\u001b[0m\u001b[0;34m)\u001b[0m\u001b[0;34m\u001b[0m\n",
              "\u001b[0;34m\u001b[0m    \u001b[0;34m\u001b[0m\n",
              "\u001b[0;34m\u001b[0m    \u001b[0max\u001b[0m\u001b[0;34m.\u001b[0m\u001b[0mlegend\u001b[0m\u001b[0;34m(\u001b[0m\u001b[0;34m)\u001b[0m\u001b[0;34m\u001b[0m\n",
              "\u001b[0;34m\u001b[0m    \u001b[0;32mreturn\u001b[0m \u001b[0max\u001b[0m\u001b[0;34m\u001b[0m\u001b[0;34m\u001b[0m\u001b[0m\n",
              "\u001b[0;31mFile:\u001b[0m      ~/Hands-On-Data-Analysis-with-Pandas-2nd-edition/ch_06/viz.py\n",
              "\u001b[0;31mType:\u001b[0m      function\n"
            ]
          },
          "metadata": {},
          "output_type": "display_data"
        }
      ]
    },
    {
      "cell_type": "markdown",
      "metadata": {
        "id": "1M7JlBJYC9CV"
      },
      "source": [
        "Note, we need to import it from the `viz.py` module, before we can use it."
      ]
    },
    {
      "cell_type": "code",
      "metadata": {
        "id": "Y9iPEEN5C9CW",
        "outputId": "fbd4bd33-ef1d-4f79-b235-4d0cf7a2f999",
        "colab": {
          "base_uri": "https://localhost:8080/",
          "height": 313
        }
      },
      "source": [
        "from viz import std_from_mean_kde\n",
        "\n",
        "ax = std_from_mean_kde(\n",
        "    quakes.query(\n",
        "        'magType == \"mb\" and parsed_place == \"Indonesia\"'\n",
        "    ).mag\n",
        ")\n",
        "ax.set_title('mb magnitude distribution in Indonesia')\n",
        "ax.set_xlabel('mb earthquake magnitude')"
      ],
      "execution_count": 8,
      "outputs": [
        {
          "output_type": "execute_result",
          "data": {
            "text/plain": [
              "Text(0.5, 0, 'mb earthquake magnitude')"
            ]
          },
          "metadata": {},
          "execution_count": 8
        },
        {
          "output_type": "display_data",
          "data": {
            "image/png": "[encoded data removed]",
            "text/plain": [
              "<Figure size 432x288 with 1 Axes>"
            ]
          },
          "metadata": {
            "needs_background": "light"
          }
        }
      ]
    },
    {
      "cell_type": "markdown",
      "metadata": {
        "id": "tZEho4YBFxBH"
      },
      "source": [
        "* std_from_mean_kde이 함수안에 axvline을 사용해서 수직 annotation을 달아준 것이다."
      ]
    },
    {
      "cell_type": "markdown",
      "metadata": {
        "id": "2_qQbtpqC9CW"
      },
      "source": [
        "## Shading regions\n",
        "We can use `axhspan()` and `axvspan()` to shade horizontal and vertical regions, respectively."
      ]
    },
    {
      "cell_type": "code",
      "metadata": {
        "id": "P5riM8b0C9CW",
        "outputId": "86d24e4a-c58c-417d-b92e-0ee2b8d27d18",
        "colab": {
          "base_uri": "https://localhost:8080/",
          "height": 311
        }
      },
      "source": [
        "ax = fb.close.plot(title='FB Closing Price')\n",
        "ax.axhspan(support, resistance, alpha=0.2)\n",
        "plt.ylabel('Price ($)')"
      ],
      "execution_count": 9,
      "outputs": [
        {
          "output_type": "execute_result",
          "data": {
            "text/plain": [
              "Text(0, 0.5, 'Price ($)')"
            ]
          },
          "metadata": {},
          "execution_count": 9
        },
        {
          "output_type": "display_data",
          "data": {
            "image/png": "[encoded data removed]",
            "text/plain": [
              "<Figure size 432x288 with 1 Axes>"
            ]
          },
          "metadata": {
            "needs_background": "light"
          }
        }
      ]
    },
    {
      "cell_type": "markdown",
      "metadata": {
        "id": "cLKKoHkbGSWx"
      },
      "source": [
        "* 수평방향의 region을 만들어 줄 수 있다."
      ]
    },
    {
      "cell_type": "markdown",
      "metadata": {
        "id": "qqm9LHtDC9CX"
      },
      "source": [
        "Rather than filling in a rectangular region, we can fill between two curves using `plt.fill_between()`:"
      ]
    },
    {
      "cell_type": "code",
      "metadata": {
        "id": "0GfvH8HNC9CX",
        "outputId": "d195bc4d-5db3-464a-8516-2ce48d0489f9",
        "colab": {
          "base_uri": "https://localhost:8080/",
          "height": 313
        }
      },
      "source": [
        "fb_q4 = fb.loc['2018-Q4']\n",
        "plt.fill_between(fb_q4.index, fb_q4.high, fb_q4.low)\n",
        "#plt.xticks(['2018-10-01', '2018-11-01', '2018-12-01', '2019-01-01'])\n",
        "plt.xlabel('date')\n",
        "plt.ylabel('price ($)')\n",
        "plt.title('FB differential between high and low price Q4 2018')"
      ],
      "execution_count": 13,
      "outputs": [
        {
          "output_type": "execute_result",
          "data": {
            "text/plain": [
              "Text(0.5, 1.0, 'FB differential between high and low price Q4 2018')"
            ]
          },
          "metadata": {},
          "execution_count": 13
        },
        {
          "output_type": "display_data",
          "data": {
            "image/png": "[encoded data removed]",
            "text/plain": [
              "<Figure size 432x288 with 1 Axes>"
            ]
          },
          "metadata": {
            "needs_background": "light"
          }
        }
      ]
    },
    {
      "cell_type": "markdown",
      "metadata": {
        "id": "8lG9U7qAGezg"
      },
      "source": [
        "* 날짜들을 다 담지 못했다는 에러같다."
      ]
    },
    {
      "cell_type": "markdown",
      "metadata": {
        "id": "Uf0pQnBlC9CX"
      },
      "source": [
        "We can specify a specific range to fill with the `where` argument:"
      ]
    },
    {
      "cell_type": "code",
      "metadata": {
        "id": "RBTGE9u5C9CX",
        "outputId": "041a1d98-c41e-4065-ed14-7bf2db9f8f11",
        "colab": {
          "base_uri": "https://localhost:8080/",
          "height": 313
        }
      },
      "source": [
        "fb_q4 = fb.loc['2018-Q4']\n",
        "plt.fill_between(\n",
        "    fb_q4.index, fb_q4.high, fb_q4.low, \n",
        "    where=fb_q4.index.month == 12, \n",
        "    color='khaki', label='December differential'\n",
        ")\n",
        "plt.plot(fb_q4.index, fb_q4.high, '--', label='daily high')\n",
        "plt.plot(fb_q4.index, fb_q4.low, '--', label='daily low')\n",
        "#plt.xticks(['2018-10-01', '2018-11-01', '2018-12-01', '2019-01-01'])\n",
        "plt.xlabel('date')\n",
        "plt.ylabel('price ($)')\n",
        "plt.legend()\n",
        "plt.title('FB differential between high and low price Q4 2018')"
      ],
      "execution_count": 12,
      "outputs": [
        {
          "output_type": "execute_result",
          "data": {
            "text/plain": [
              "Text(0.5, 1.0, 'FB differential between high and low price Q4 2018')"
            ]
          },
          "metadata": {},
          "execution_count": 12
        },
        {
          "output_type": "display_data",
          "data": {
            "image/png": "[encoded data removed]",
            "text/plain": [
              "<Figure size 432x288 with 1 Axes>"
            ]
          },
          "metadata": {
            "needs_background": "light"
          }
        }
      ]
    },
    {
      "cell_type": "markdown",
      "metadata": {
        "id": "sxh2XDNSGyYc"
      },
      "source": [
        "* where 부분에서 12월 부분만해서 region을 만들어 준것을 볼 수 있다."
      ]
    },
    {
      "cell_type": "markdown",
      "metadata": {
        "id": "sTJVn9xIC9CY"
      },
      "source": [
        "## Annotations\n",
        "The `plt.annotate()` function can be used to add annotation to plots. Some important arguments:\n",
        "- `xy`: a tuple of the coordinates to annotate\n",
        "- `xytext`: a tuple of coordinates of where to place the annotation text\n",
        "- `arrowprops`: a dictionary of how to draw the arrow from the text of the annotation to the point being annotated\n",
        "- `ha`/`va`: specify the horizontal/vertical alignment"
      ]
    },
    {
      "cell_type": "code",
      "metadata": {
        "id": "rSUkxOpYC9CY",
        "outputId": "eb749907-58bc-4712-e587-e07bb6b378e6",
        "colab": {
          "base_uri": "https://localhost:8080/",
          "height": 244
        }
      },
      "source": [
        "ax = fb.close.plot(title='FB Closing Price 2018', figsize=(15, 3))\n",
        "ax.set_ylabel('price ($)')\n",
        "\n",
        "ax.axhspan(support, resistance, alpha=0.2)\n",
        "\n",
        "plt.annotate(\n",
        "    f'support\\n(${support:,.2f})',\n",
        "    xy=('2018-12-31', support),\n",
        "    xytext=('2019-01-21', support),\n",
        "    arrowprops={'arrowstyle': '->'}\n",
        ")\n",
        "plt.annotate(\n",
        "    f'resistance\\n(${resistance:,.2f})',\n",
        "    xy=('2018-12-23', resistance)\n",
        ")\n",
        "\n",
        "for spine in ['top', 'right']:\n",
        "    ax.spines[spine].set_visible(False)"
      ],
      "execution_count": 14,
      "outputs": [
        {
          "output_type": "display_data",
          "data": {
            "image/png": "[encoded data removed]",
            "text/plain": [
              "<Figure size 1080x216 with 1 Axes>"
            ]
          },
          "metadata": {
            "needs_background": "light"
          }
        }
      ]
    },
    {
      "cell_type": "markdown",
      "metadata": {
        "id": "slEwcVYKG_qc"
      },
      "source": [
        "* annotation은 annotation함수를 사용해서 달아 줄 수 있다."
      ]
    },
    {
      "cell_type": "markdown",
      "metadata": {
        "id": "z10y6QVKC9CY"
      },
      "source": [
        "We have many options for the arrow:"
      ]
    },
    {
      "cell_type": "code",
      "metadata": {
        "id": "GFc9wVC5C9CY",
        "outputId": "8019d40b-dea9-44a1-e0ac-e8358d0ae84f",
        "colab": {
          "base_uri": "https://localhost:8080/",
          "height": 311
        }
      },
      "source": [
        "close_price = fb.loc['2018-07-25', 'close']\n",
        "open_price = fb.loc['2018-07-26', 'open']\n",
        "pct_drop = (open_price - close_price) / close_price\n",
        "fb.close.plot(title='FB Closing Price 2018', alpha=0.5)\n",
        "plt.annotate(\n",
        "    f'{pct_drop:.2%}', va='center',\n",
        "    xy=('2018-07-27', (open_price + close_price) / 2),\n",
        "    xytext=('2018-08-20', (open_price + close_price) / 2),\n",
        "    arrowprops=dict(arrowstyle='-[,widthB=4.0,lengthB=0.2')\n",
        ")\n",
        "plt.ylabel('price ($)')"
      ],
      "execution_count": 15,
      "outputs": [
        {
          "output_type": "execute_result",
          "data": {
            "text/plain": [
              "Text(0, 0.5, 'price ($)')"
            ]
          },
          "metadata": {},
          "execution_count": 15
        },
        {
          "output_type": "display_data",
          "data": {
            "image/png": "[encoded data removed]",
            "text/plain": [
              "<Figure size 432x288 with 1 Axes>"
            ]
          },
          "metadata": {
            "needs_background": "light"
          }
        }
      ]
    },
    {
      "cell_type": "markdown",
      "metadata": {
        "id": "1v60_ZDuHWZV"
      },
      "source": [
        "* allows를 사용해서 차이가 나는 부분을 만들어 줄 수 있다."
      ]
    },
    {
      "cell_type": "markdown",
      "metadata": {
        "id": "RVWkjRuqC9CZ"
      },
      "source": [
        "We can also pass additional parameters down to the [`matplotlib.text.Text` class](https://matplotlib.org/api/text_api.html#matplotlib.text.Text), such as `color`, `fontfamily`, `fontsize`, and `fontweight`:"
      ]
    },
    {
      "cell_type": "code",
      "metadata": {
        "id": "lvxYxQepC9CZ",
        "outputId": "afbc4334-29b0-43f2-fbbd-88ae018d3f64",
        "colab": {
          "base_uri": "https://localhost:8080/",
          "height": 311
        }
      },
      "source": [
        "close_price = fb.loc['2018-07-25', 'close']\n",
        "open_price = fb.loc['2018-07-26', 'open']\n",
        "pct_drop = (open_price - close_price) / close_price\n",
        "\n",
        "fb.close.plot(title='FB Closing Price 2018', alpha=0.5)\n",
        "\n",
        "plt.annotate(\n",
        "    f'{pct_drop:.2%}', va='center',\n",
        "    xy=('2018-07-27', (open_price + close_price) / 2),\n",
        "    xytext=('2018-08-20', (open_price + close_price) / 2),\n",
        "    arrowprops=dict(arrowstyle='-[,widthB=3.0,lengthB=0.2'),\n",
        "    color='red',\n",
        "    fontsize=14,\n",
        "    fontweight='medium'\n",
        ")\n",
        "plt.ylabel('price ($)')"
      ],
      "execution_count": 16,
      "outputs": [
        {
          "output_type": "execute_result",
          "data": {
            "text/plain": [
              "Text(0, 0.5, 'price ($)')"
            ]
          },
          "metadata": {},
          "execution_count": 16
        },
        {
          "output_type": "display_data",
          "data": {
            "image/png": "[encoded data removed]",
            "text/plain": [
              "<Figure size 432x288 with 1 Axes>"
            ]
          },
          "metadata": {
            "needs_background": "light"
          }
        }
      ]
    },
    {
      "cell_type": "markdown",
      "metadata": {
        "id": "a4AIAiOpC9CZ"
      },
      "source": [
        "## Colors\n",
        "We can pass colors to the `color` argument of the `plot()` method. This can be a color name, a hex code, or RGB values."
      ]
    },
    {
      "cell_type": "code",
      "metadata": {
        "id": "6QRDcZBxC9CZ",
        "outputId": "c088cb10-81b2-4943-d232-e880f21334e2",
        "colab": {
          "base_uri": "https://localhost:8080/",
          "height": 262
        }
      },
      "source": [
        "fb.plot(\n",
        "    y='open',\n",
        "    figsize=(5, 3),\n",
        "    color='#8000FF',\n",
        "    legend=False,\n",
        "    title='Evolution of FB Opening Price in 2018'\n",
        ")\n",
        "plt.ylabel('price ($)')"
      ],
      "execution_count": 17,
      "outputs": [
        {
          "output_type": "execute_result",
          "data": {
            "text/plain": [
              "Text(0, 0.5, 'price ($)')"
            ]
          },
          "metadata": {},
          "execution_count": 17
        },
        {
          "output_type": "display_data",
          "data": {
            "image/png": "[encoded data removed]",
            "text/plain": [
              "<Figure size 360x216 with 1 Axes>"
            ]
          },
          "metadata": {
            "needs_background": "light"
          }
        }
      ]
    },
    {
      "cell_type": "markdown",
      "metadata": {
        "id": "-5MTWITlHt7w"
      },
      "source": [
        "* 선의 색상을 나타내는 부분이다."
      ]
    },
    {
      "cell_type": "markdown",
      "metadata": {
        "id": "NT7Ud7HpC9CZ"
      },
      "source": [
        "RGB values must be given as decimals:"
      ]
    },
    {
      "cell_type": "code",
      "metadata": {
        "id": "RK-wPlp0C9CZ",
        "outputId": "e0b0ee39-3805-4893-b834-46f7b0514268",
        "colab": {
          "base_uri": "https://localhost:8080/",
          "height": 262
        }
      },
      "source": [
        "fb.plot(\n",
        "    y='open',\n",
        "    figsize=(5, 3),\n",
        "    color=(128 / 255, 0, 1),\n",
        "    legend=False,\n",
        "    title='Evolution of FB Opening Price in 2018'\n",
        ")\n",
        "plt.ylabel('price ($)')"
      ],
      "execution_count": 18,
      "outputs": [
        {
          "output_type": "execute_result",
          "data": {
            "text/plain": [
              "Text(0, 0.5, 'price ($)')"
            ]
          },
          "metadata": {},
          "execution_count": 18
        },
        {
          "output_type": "display_data",
          "data": {
            "image/png": "[encoded data removed]",
            "text/plain": [
              "<Figure size 360x216 with 1 Axes>"
            ]
          },
          "metadata": {
            "needs_background": "light"
          }
        }
      ]
    },
    {
      "cell_type": "markdown",
      "metadata": {
        "id": "N_6JvgtYHyKh"
      },
      "source": [
        "* color를 (128 / 255, 0, 1)이렇게 표현해도 같은게 나오는 것을 볼 수 있다."
      ]
    },
    {
      "cell_type": "markdown",
      "metadata": {
        "id": "MhsFgnjZC9Ca"
      },
      "source": [
        "### Colormaps\n",
        "| Class | Purpose |\n",
        "| --- | --- |\n",
        "| Qualitative | No ordering or relationship between colors; just used to distinguish between groups |\n",
        "| Sequential | For information with ordering, such as temperature |\n",
        "| Diverging | There is a middle value between two extremes that has meaning; for example, correlation coefficients are bounded in the range `[-1, 1]`, and `0` has meaning (no correlation) |\n",
        "\n",
        "#### Finding available colormaps"
      ]
    },
    {
      "cell_type": "code",
      "metadata": {
        "id": "qNGy630cC9Ca",
        "outputId": "ffb47546-cca7-4c94-de98-db7fe373ce6b",
        "colab": {
          "base_uri": "https://localhost:8080/"
        }
      },
      "source": [
        "from matplotlib import cm\n",
        "cm.datad.keys()"
      ],
      "execution_count": 19,
      "outputs": [
        {
          "output_type": "execute_result",
          "data": {
            "text/plain": [
              "dict_keys(['Blues', 'BrBG', 'BuGn', 'BuPu', 'CMRmap', 'GnBu', 'Greens', 'Greys', 'OrRd', 'Oranges', 'PRGn', 'PiYG', 'PuBu', 'PuBuGn', 'PuOr', 'PuRd', 'Purples', 'RdBu', 'RdGy', 'RdPu', 'RdYlBu', 'RdYlGn', 'Reds', 'Spectral', 'Wistia', 'YlGn', 'YlGnBu', 'YlOrBr', 'YlOrRd', 'afmhot', 'autumn', 'binary', 'bone', 'brg', 'bwr', 'cool', 'coolwarm', 'copper', 'cubehelix', 'flag', 'gist_earth', 'gist_gray', 'gist_heat', 'gist_ncar', 'gist_rainbow', 'gist_stern', 'gist_yarg', 'gnuplot', 'gnuplot2', 'gray', 'hot', 'hsv', 'jet', 'nipy_spectral', 'ocean', 'pink', 'prism', 'rainbow', 'seismic', 'spring', 'summer', 'terrain', 'winter', 'Accent', 'Dark2', 'Paired', 'Pastel1', 'Pastel2', 'Set1', 'Set2', 'Set3', 'tab10', 'tab20', 'tab20b', 'tab20c'])"
            ]
          },
          "metadata": {},
          "execution_count": 19
        }
      ]
    },
    {
      "cell_type": "markdown",
      "metadata": {
        "id": "2akkdL7TH6BE"
      },
      "source": [
        "* 이러한 종류의 colormap이 있는 것을 알 수 있다."
      ]
    },
    {
      "cell_type": "markdown",
      "metadata": {
        "id": "FbvL8JNRC9Ca"
      },
      "source": [
        "We can pass a colormap to the `colormap` argument:"
      ]
    },
    {
      "cell_type": "code",
      "metadata": {
        "id": "JTImYKGMC9Ca",
        "outputId": "9ccc06cb-13ce-4cd4-8151-c873abf69294",
        "colab": {
          "base_uri": "https://localhost:8080/",
          "height": 262
        }
      },
      "source": [
        "ax = fb.assign(\n",
        "    rolling_min=lambda x: x.low.rolling(20).min(),\n",
        "    rolling_max=lambda x: x.high.rolling(20).max()\n",
        ").plot(\n",
        "    y=['rolling_max', 'rolling_min'], \n",
        "    colormap='coolwarm_r', \n",
        "    label=['20D rolling max', '20D rolling min'],\n",
        "    style=[':', '--'],\n",
        "    figsize=(12, 3),\n",
        "    title='FB closing price in 2018 oscillating between '\n",
        "          '20-day rolling minimum and maximum price'\n",
        ")\n",
        "ax.plot(fb.close, 'purple', alpha=0.25, label='closing price')\n",
        "plt.legend()\n",
        "plt.ylabel('price ($)')"
      ],
      "execution_count": 20,
      "outputs": [
        {
          "output_type": "execute_result",
          "data": {
            "text/plain": [
              "Text(0, 0.5, 'price ($)')"
            ]
          },
          "metadata": {},
          "execution_count": 20
        },
        {
          "output_type": "display_data",
          "data": {
            "image/png": "[encoded data removed]",
            "text/plain": [
              "<Figure size 864x216 with 1 Axes>"
            ]
          },
          "metadata": {
            "needs_background": "light"
          }
        }
      ]
    },
    {
      "cell_type": "markdown",
      "metadata": {
        "id": "63roalPrC9Ca"
      },
      "source": [
        "We can also grab colors out of a colormap, which is a callable. This gives us an RGBA color, which we already know can be used as the `color` for the plot:"
      ]
    },
    {
      "cell_type": "code",
      "metadata": {
        "id": "y_9v92xYC9Ca",
        "outputId": "a17d9259-6f85-4847-f158-1826b6ac91fb",
        "colab": {
          "base_uri": "https://localhost:8080/"
        }
      },
      "source": [
        "cm.get_cmap('ocean')(.5)"
      ],
      "execution_count": 21,
      "outputs": [
        {
          "output_type": "execute_result",
          "data": {
            "text/plain": [
              "(0.0, 0.2529411764705882, 0.5019607843137255, 1.0)"
            ]
          },
          "metadata": {},
          "execution_count": 21
        }
      ]
    },
    {
      "cell_type": "markdown",
      "metadata": {
        "id": "irOAK5R6IVb_"
      },
      "source": [
        "* colormap은 0에서 1사이를 사용한다."
      ]
    },
    {
      "cell_type": "markdown",
      "metadata": {
        "id": "piOUzSbjC9Ca"
      },
      "source": [
        "#### Making colormaps\n",
        "In order to make colormaps, we need some utility functions which can be found in the `color_utils.py` module. We will need to be able to convert hex colors to RGBA decimals, blend colors to build a colormap, and draw the colormap."
      ]
    },
    {
      "cell_type": "code",
      "metadata": {
        "id": "YdqXZBthC9Cb"
      },
      "source": [
        "import color_utils"
      ],
      "execution_count": 22,
      "outputs": []
    },
    {
      "cell_type": "markdown",
      "metadata": {
        "id": "fu1G8-ToIY7Y"
      },
      "source": [
        "* 여기부분은 colormap을 만드는 부분이다."
      ]
    },
    {
      "cell_type": "markdown",
      "metadata": {
        "id": "pWOYAXfQC9Cb"
      },
      "source": [
        "##### Blended colormaps\n",
        "Use `blended_cmap()` to blend any number of colors:"
      ]
    },
    {
      "cell_type": "code",
      "metadata": {
        "id": "8ILTeL59C9Cb",
        "outputId": "9650cae3-8b3b-4ec2-a9b4-3be7521dfb91",
        "colab": {
          "base_uri": "https://localhost:8080/",
          "height": 83
        }
      },
      "source": [
        "my_colors = ['#800080', '#FFA500', '#FFFF00']\n",
        "rgbs = color_utils.hex_to_rgb_color_list(my_colors)\n",
        "my_cmap = color_utils.blended_cmap(rgbs)\n",
        "color_utils.draw_cmap(my_cmap, orientation='horizontal')"
      ],
      "execution_count": 23,
      "outputs": [
        {
          "output_type": "execute_result",
          "data": {
            "text/plain": [
              "<matplotlib.colorbar.Colorbar at 0x7f930fbcd390>"
            ]
          },
          "metadata": {},
          "execution_count": 23
        },
        {
          "output_type": "display_data",
          "data": {
            "image/png": "[encoded data removed]",
            "text/plain": [
              "<Figure size 432x288 with 1 Axes>"
            ]
          },
          "metadata": {
            "needs_background": "light"
          }
        }
      ]
    },
    {
      "cell_type": "markdown",
      "metadata": {
        "id": "6O1xm2rSC9Cb"
      },
      "source": [
        "*Note: The `draw_cmap()` function also makes it easy to add a colorbar with our own colormap to the plot of our choice. Check out the [`covid19_cases_map.ipynb`](./covid19_cases_map.ipynb) notebook to see this in action.*\n",
        "\n",
        "#### Seaborn Color Palettes\n",
        "Seaborn also provides additional color palettes, along with utility functions for picking colormaps and making custom ones interactively in Jupyter. See [this tutorial](https://seaborn.pydata.org/tutorial/color_palettes.html) for more information.\n",
        "\n",
        "##### Showing a color palette"
      ]
    },
    {
      "cell_type": "markdown",
      "metadata": {
        "id": "M91N14TIIhCC"
      },
      "source": [
        "* tutorial에 들어가서 colormap을 만드는 방법이 있다."
      ]
    },
    {
      "cell_type": "code",
      "metadata": {
        "id": "lNZc2e4OC9Cb",
        "outputId": "dd3e5940-92d1-4ea1-8731-543593814ef9",
        "colab": {
          "base_uri": "https://localhost:8080/",
          "height": 89
        }
      },
      "source": [
        "import seaborn as sns\n",
        "\n",
        "sns.palplot(sns.color_palette(\"BuGn_r\"))"
      ],
      "execution_count": 24,
      "outputs": [
        {
          "output_type": "display_data",
          "data": {
            "image/png": "[encoded data removed]",
            "text/plain": [
              "<Figure size 432x72 with 1 Axes>"
            ]
          },
          "metadata": {
            "needs_background": "light"
          }
        }
      ]
    },
    {
      "cell_type": "markdown",
      "metadata": {
        "id": "NtHosjFuC9Cb"
      },
      "source": [
        "##### Building a color palette interactively for use with matplotlib"
      ]
    },
    {
      "cell_type": "code",
      "metadata": {
        "id": "PVE6tQBVC9Cb",
        "outputId": "d1e8f404-7777-4bfe-d8b7-220691f57467",
        "colab": {
          "base_uri": "https://localhost:8080/",
          "height": 313,
          "referenced_widgets": [
            "7f7ac58bfacb4901887b11088da458af",
            "a6a4634178834ce5a1b0f9fb52b9903e",
            "f24475156455429f82978eb812e65684",
            "0d4396e2c67741728080029bfb55883a",
            "f1c8a667f5554646a712d8c5842f5262",
            "a52e185ac0e34d35ac808bf0809103f4",
            "b0cb9940c010428d8b4f6b64804c7441",
            "9d246cc80a244f2fa180cbe1f2866480",
            "8468aed694be4635a34fb770afe20721",
            "0c0769e8f26e4ac6a045088b78619acb",
            "275a357258e54686951b2f0b6839c1f5",
            "997eb29eb86546498e30838322d96027",
            "a99003ca5e9a49cfa39f305a65481f00",
            "c2e14ed670c3403ebc8b04acc17d1fe7",
            "1ad1a5aefdce48518224ecd0d577153c",
            "11915cda87fd402d946670311d005353",
            "d3476ee4e38249a29a5ff12261468c8c",
            "ecfd355f77074da5b014f5afffeed2c3",
            "9eb00e19661a4298941a2d448309ecbc",
            "2a33850fd0404a89ab68182b0e54e729",
            "3e84a8584e3d48a2b8455833047d6cf8",
            "19fe429a3bf146a2bcf93bd57e9d0097",
            "c4049c0cabbe4df092fa6015c046733a",
            "1b767ac01ce24f7bbc984c06e4f2406e",
            "dce569334b5043d8a853eb1f8fa8bf8e"
          ]
        }
      },
      "source": [
        "diverging_cmap = sns.choose_diverging_palette()"
      ],
      "execution_count": 25,
      "outputs": [
        {
          "output_type": "display_data",
          "data": {
            "application/vnd.jupyter.widget-view+json": {
              "model_id": "7f7ac58bfacb4901887b11088da458af",
              "version_minor": 0,
              "version_major": 2
            },
            "text/plain": [
              "interactive(children=(IntSlider(value=220, description='h_neg', max=359), IntSlider(value=10, description='h_p…"
            ]
          },
          "metadata": {}
        }
      ]
    },
    {
      "cell_type": "code",
      "metadata": {
        "id": "wHD1lUBYC9Cb",
        "outputId": "87654135-605d-4755-f1a5-657023b84b29",
        "colab": {
          "base_uri": "https://localhost:8080/",
          "height": 83
        }
      },
      "source": [
        "from matplotlib.colors import ListedColormap\n",
        "color_utils.draw_cmap(ListedColormap(diverging_cmap), orientation='horizontal')"
      ],
      "execution_count": 26,
      "outputs": [
        {
          "output_type": "execute_result",
          "data": {
            "text/plain": [
              "<matplotlib.colorbar.Colorbar at 0x7f930f9f2890>"
            ]
          },
          "metadata": {},
          "execution_count": 26
        },
        {
          "output_type": "display_data",
          "data": {
            "image/png": "[encoded data removed]",
            "text/plain": [
              "<Figure size 432x288 with 1 Axes>"
            ]
          },
          "metadata": {
            "needs_background": "light"
          }
        }
      ]
    },
    {
      "cell_type": "markdown",
      "metadata": {
        "id": "IjYCClPvC9Cc"
      },
      "source": [
        "#### Cycling through colors\n",
        "We can use itertools to cycle through colors:"
      ]
    },
    {
      "cell_type": "code",
      "metadata": {
        "id": "_FxDHbJQC9Cc",
        "outputId": "092768e2-d13f-40ea-8729-06a7304e0424",
        "colab": {
          "base_uri": "https://localhost:8080/"
        }
      },
      "source": [
        "import itertools\n",
        "\n",
        "colors = itertools.cycle(['#ffffff', '#f0f0f0', '#000000'])\n",
        "colors"
      ],
      "execution_count": 27,
      "outputs": [
        {
          "output_type": "execute_result",
          "data": {
            "text/plain": [
              "<itertools.cycle at 0x7f930fa05960>"
            ]
          },
          "metadata": {},
          "execution_count": 27
        }
      ]
    },
    {
      "cell_type": "code",
      "metadata": {
        "id": "EdU2d0eLC9Cc",
        "outputId": "ac66e7ab-583b-4cd2-9df5-3140c3211aee",
        "colab": {
          "base_uri": "https://localhost:8080/",
          "height": 35
        }
      },
      "source": [
        "next(colors)"
      ],
      "execution_count": 28,
      "outputs": [
        {
          "output_type": "execute_result",
          "data": {
            "application/vnd.google.colaboratory.intrinsic+json": {
              "type": "string"
            },
            "text/plain": [
              "'#ffffff'"
            ]
          },
          "metadata": {},
          "execution_count": 28
        }
      ]
    },
    {
      "cell_type": "markdown",
      "metadata": {
        "id": "F4JYK8N8C9Cc"
      },
      "source": [
        "Or we can work with a `ListedColormap` object:"
      ]
    },
    {
      "cell_type": "code",
      "metadata": {
        "id": "ni0iI6jKC9Cc",
        "outputId": "7b61714f-4499-4c9e-b9e2-8b0c6d4eae4d",
        "colab": {
          "base_uri": "https://localhost:8080/"
        }
      },
      "source": [
        "from matplotlib.colors import ListedColormap\n",
        "red_black = ListedColormap(['red', 'black'], N=2000)\n",
        "[red_black(i) for i in range(3)]"
      ],
      "execution_count": 29,
      "outputs": [
        {
          "output_type": "execute_result",
          "data": {
            "text/plain": [
              "[(1.0, 0.0, 0.0, 1.0), (0.0, 0.0, 0.0, 1.0), (1.0, 0.0, 0.0, 1.0)]"
            ]
          },
          "metadata": {},
          "execution_count": 29
        }
      ]
    },
    {
      "cell_type": "markdown",
      "metadata": {
        "id": "54jKfN5wC9Cc"
      },
      "source": [
        "We may also consider using a generator:"
      ]
    },
    {
      "cell_type": "code",
      "metadata": {
        "id": "MMcbumXaC9Cc",
        "outputId": "ce67e40b-d89a-4a73-aea1-03313edfdf8b",
        "colab": {
          "base_uri": "https://localhost:8080/"
        }
      },
      "source": [
        "def color_generator():\n",
        "    for year in range(1992, 200019): # integers in [1992, 200019)\n",
        "        if year % 100 == 0 and year % 400 != 0:\n",
        "            # special case (divisible by 100 but not 400)\n",
        "            color = '#f0f0f0'\n",
        "        elif year % 4 == 0:\n",
        "            # leap year (divisible by 4)\n",
        "            color = '#000000'\n",
        "        else:\n",
        "            color = '#ffffff'\n",
        "        yield color\n",
        "    \n",
        "year_colors = color_generator()\n",
        "year_colors"
      ],
      "execution_count": 30,
      "outputs": [
        {
          "output_type": "execute_result",
          "data": {
            "text/plain": [
              "<generator object color_generator at 0x7f930fd491d0>"
            ]
          },
          "metadata": {},
          "execution_count": 30
        }
      ]
    },
    {
      "cell_type": "code",
      "metadata": {
        "id": "ijEr8LpvC9Cc",
        "outputId": "6d656543-4cc2-4f82-f37c-e1bb6b4d4680",
        "colab": {
          "base_uri": "https://localhost:8080/",
          "height": 35
        }
      },
      "source": [
        "next(year_colors)"
      ],
      "execution_count": 31,
      "outputs": [
        {
          "output_type": "execute_result",
          "data": {
            "application/vnd.google.colaboratory.intrinsic+json": {
              "type": "string"
            },
            "text/plain": [
              "'#000000'"
            ]
          },
          "metadata": {},
          "execution_count": 31
        }
      ]
    },
    {
      "cell_type": "markdown",
      "metadata": {
        "id": "LTrd4iLiC9Cd"
      },
      "source": [
        "We can also make a generator with a generator expression:"
      ]
    },
    {
      "cell_type": "code",
      "metadata": {
        "id": "d0dH-Rj9C9Cd",
        "outputId": "bbc4daa4-9bb2-460b-fff4-e8ca79bc5c3f",
        "colab": {
          "base_uri": "https://localhost:8080/"
        }
      },
      "source": [
        "year_colors = (\n",
        "    '#ffffff'\n",
        "    if (not year % 100 and year % 400) or year % 4\n",
        "    else '#000000' for year in range(1992, 200019)\n",
        ")\n",
        "year_colors"
      ],
      "execution_count": 32,
      "outputs": [
        {
          "output_type": "execute_result",
          "data": {
            "text/plain": [
              "<generator object <genexpr> at 0x7f930fab53d0>"
            ]
          },
          "metadata": {},
          "execution_count": 32
        }
      ]
    },
    {
      "cell_type": "code",
      "metadata": {
        "id": "pV4MSgUnC9Cd",
        "outputId": "808ea05f-feb6-4634-9e83-7d603bca0a8b",
        "colab": {
          "base_uri": "https://localhost:8080/",
          "height": 35
        }
      },
      "source": [
        "next(year_colors)"
      ],
      "execution_count": 33,
      "outputs": [
        {
          "output_type": "execute_result",
          "data": {
            "application/vnd.google.colaboratory.intrinsic+json": {
              "type": "string"
            },
            "text/plain": [
              "'#000000'"
            ]
          },
          "metadata": {},
          "execution_count": 33
        }
      ]
    },
    {
      "cell_type": "markdown",
      "metadata": {
        "id": "hB8Voud9C9Cd"
      },
      "source": [
        "## Textures\n",
        "We can add textures to our plots via the `hatch` parameter in `matplotlib`. Current options are: {'/', '\\', '|', '-', '+', 'x', 'o', 'O', '.', '*'}"
      ]
    },
    {
      "cell_type": "code",
      "metadata": {
        "id": "X-jQ6wH6C9Cd",
        "outputId": "51e6de63-a8c9-4c37-b580-734e1538212a",
        "colab": {
          "base_uri": "https://localhost:8080/",
          "height": 329
        }
      },
      "source": [
        "weekly_volume_traded = fb.loc['2018-Q4'].groupby(pd.Grouper(freq='W')).volume.sum()\n",
        "weekly_volume_traded.index = weekly_volume_traded.index.strftime('W %W')\n",
        "ax = weekly_volume_traded.plot(\n",
        "    kind='bar', hatch='*', color='lightgray',\n",
        "    title='Volume traded per week in Q4 2018'\n",
        ")\n",
        "ax.set(xlabel='week number', ylabel='volume traded')"
      ],
      "execution_count": 34,
      "outputs": [
        {
          "output_type": "execute_result",
          "data": {
            "text/plain": [
              "[Text(0, 0.5, 'volume traded'), Text(0.5, 0, 'week number')]"
            ]
          },
          "metadata": {},
          "execution_count": 34
        },
        {
          "output_type": "display_data",
          "data": {
            "image/png": "[encoded data removed]",
            "text/plain": [
              "<Figure size 432x288 with 1 Axes>"
            ]
          },
          "metadata": {
            "needs_background": "light"
          }
        }
      ]
    },
    {
      "cell_type": "markdown",
      "metadata": {
        "id": "Gufz975TIl6-"
      },
      "source": [
        "* 별모양의 텍스쳐를 만들어 줄 수 있다."
      ]
    },
    {
      "cell_type": "markdown",
      "metadata": {
        "id": "Q9XS5knRC9Cd"
      },
      "source": [
        "We can combine textures to create new ones and repeat them to intensify the effect:"
      ]
    },
    {
      "cell_type": "code",
      "metadata": {
        "id": "NzgpmsojC9Cd",
        "outputId": "68876419-edee-4778-f446-391da2009d0b",
        "colab": {
          "base_uri": "https://localhost:8080/",
          "height": 313
        }
      },
      "source": [
        "import calendar\n",
        "\n",
        "fb_q4 = fb.loc['2018-Q4']\n",
        "\n",
        "for texture, month in zip(['oo', '/\\\\/\\\\', '...'], [10, 11, 12]):\n",
        "    plt.fill_between(\n",
        "        fb_q4.index, fb_q4.high, fb_q4.low, hatch=texture, \n",
        "        where=fb_q4.index.month == month, facecolor='white',\n",
        "        label=f'{calendar.month_name[month]} differential'\n",
        "    )\n",
        "\n",
        "plt.plot(fb_q4.index, fb_q4.high, '--', label='daily high')\n",
        "plt.plot(fb_q4.index, fb_q4.low, '--', label='daily low')\n",
        "#plt.xticks(['2018-10-01', '2018-11-01', '2018-12-01', '2019-01-01'])\n",
        "plt.xlabel('date')\n",
        "plt.ylabel('price ($)')\n",
        "plt.title('FB differential between high and low price Q4 2018')\n",
        "plt.legend()"
      ],
      "execution_count": 35,
      "outputs": [
        {
          "output_type": "execute_result",
          "data": {
            "text/plain": [
              "<matplotlib.legend.Legend at 0x7f930f9082d0>"
            ]
          },
          "metadata": {},
          "execution_count": 35
        },
        {
          "output_type": "display_data",
          "data": {
            "image/png": "[encoded data removed]",
            "text/plain": [
              "<Figure size 432x288 with 1 Axes>"
            ]
          },
          "metadata": {
            "needs_background": "light"
          }
        }
      ]
    },
    {
      "cell_type": "markdown",
      "metadata": {
        "id": "1fotdtVlC9Ce"
      },
      "source": [
        "<hr>\n",
        "<div style=\"overflow: hidden; margin-bottom: 10px;\">\n",
        "    <div style=\"float: left;\">\n",
        "         <a href=\"./2-formatting_plots.ipynb\">\n",
        "        <button>&#8592; Previous Notebook</button>\n",
        "    </a>\n",
        "    </div>\n",
        "    <div style=\"float: right;\">\n",
        "        <a href=\"../../solutions/ch_06/solutions.ipynb\">\n",
        "            <button>Solutions</button>\n",
        "        </a>\n",
        "        <a href=\"../ch_07/financial_analysis.ipynb\">\n",
        "            <button>Chapter 7 &#8594;</button>\n",
        "        </a>\n",
        "    </div>\n",
        "</div>\n",
        "<hr>"
      ]
    }
  ]
}
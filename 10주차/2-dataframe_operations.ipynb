{
  "nbformat": 4,
  "nbformat_minor": 0,
  "metadata": {
    "kernelspec": {
      "display_name": "Python 3",
      "language": "python",
      "name": "python3"
    },
    "language_info": {
      "codemirror_mode": {
        "name": "ipython",
        "version": 3
      },
      "file_extension": ".py",
      "mimetype": "text/x-python",
      "name": "python",
      "nbconvert_exporter": "python",
      "pygments_lexer": "ipython3",
      "version": "3.7.3"
    },
    "colab": {
      "name": "2-dataframe_operations.ipynb",
      "provenance": [],
      "include_colab_link": true
    }
  },
  "cells": [
    {
      "cell_type": "markdown",
      "metadata": {
        "id": "view-in-github",
        "colab_type": "text"
      },
      "source": [
        "<a href=\"https://colab.research.google.com/github/kcw0331/Environmental-Health-Big-Data-Analysis/blob/main/10%EC%A3%BC%EC%B0%A8/2-dataframe_operations.ipynb\" target=\"_parent\"><img src=\"https://colab.research.google.com/assets/colab-badge.svg\" alt=\"Open In Colab\"/></a>"
      ]
    },
    {
      "cell_type": "markdown",
      "metadata": {
        "id": "Vb01XKeTSj1M"
      },
      "source": [
        "# DataFrame Operations\n",
        "\n",
        "## About the Data\n",
        "In this notebook, we will be working with 2 datasets:\n",
        "- Facebook's stock price throughout 2018 (obtained using the [`stock_analysis` package](https://github.com/stefmolin/stock-analysis)).\n",
        "- Daily weather data for NYC from the [National Centers for Environmental Information (NCEI) API](https://www.ncdc.noaa.gov/cdo-web/webservices/v2).\n",
        "\n",
        "*Note: The NCEI is part of the National Oceanic and Atmospheric Administration (NOAA) and, as you can see from the URL for the API, this resource was created when the NCEI was called the NCDC. Should the URL for this resource change in the future, you can search for \"NCEI weather API\" to find the updated one.*\n",
        "\n",
        "## Background on the weather data\n",
        "\n",
        "Data meanings:\n",
        "- `AWND`: average wind speed\n",
        "- `PRCP`: precipitation in millimeters\n",
        "- `SNOW`: snowfall in millimeters\n",
        "- `SNWD`: snow depth in millimeters\n",
        "- `TMAX`: maximum daily temperature in Celsius\n",
        "- `TMIN`: minimum daily temperature in Celsius\n",
        "\n",
        "## Setup"
      ]
    },
    {
      "cell_type": "code",
      "metadata": {
        "id": "O90XHHqOS3iL",
        "outputId": "3e00ffd0-9a74-4e3c-ed84-c0e9c3084387",
        "colab": {
          "base_uri": "https://localhost:8080/"
        }
      },
      "source": [
        "from google.colab import drive\n",
        "drive.mount('/content/drive')"
      ],
      "execution_count": 1,
      "outputs": [
        {
          "output_type": "stream",
          "name": "stdout",
          "text": [
            "Mounted at /content/drive\n"
          ]
        }
      ]
    },
    {
      "cell_type": "code",
      "metadata": {
        "id": "R3Z2dh4_TGuB",
        "outputId": "070cb4f4-ae32-4f68-c6fc-c9ab832579e6",
        "colab": {
          "base_uri": "https://localhost:8080/"
        }
      },
      "source": [
        "cd /content/drive/MyDrive/Hands-On-Data-Analysis-with-Pandas-2nd-edition/ch_04"
      ],
      "execution_count": 2,
      "outputs": [
        {
          "output_type": "stream",
          "name": "stdout",
          "text": [
            "/content/drive/MyDrive/Hands-On-Data-Analysis-with-Pandas-2nd-edition/ch_04\n"
          ]
        }
      ]
    },
    {
      "cell_type": "code",
      "metadata": {
        "id": "3JufCt0SSj1P",
        "outputId": "b5e48f07-98a8-46ab-e948-6f3d39eb704e",
        "colab": {
          "base_uri": "https://localhost:8080/",
          "height": 204
        }
      },
      "source": [
        "import numpy as np\n",
        "import pandas as pd\n",
        "\n",
        "weather = pd.read_csv('data/nyc_weather_2018.csv', parse_dates=['date'])\n",
        "weather.head()"
      ],
      "execution_count": 3,
      "outputs": [
        {
          "output_type": "execute_result",
          "data": {
            "text/html": [
              "<div>\n",
              "<style scoped>\n",
              "    .dataframe tbody tr th:only-of-type {\n",
              "        vertical-align: middle;\n",
              "    }\n",
              "\n",
              "    .dataframe tbody tr th {\n",
              "        vertical-align: top;\n",
              "    }\n",
              "\n",
              "    .dataframe thead th {\n",
              "        text-align: right;\n",
              "    }\n",
              "</style>\n",
              "<table border=\"1\" class=\"dataframe\">\n",
              "  <thead>\n",
              "    <tr style=\"text-align: right;\">\n",
              "      <th></th>\n",
              "      <th>date</th>\n",
              "      <th>datatype</th>\n",
              "      <th>station</th>\n",
              "      <th>attributes</th>\n",
              "      <th>value</th>\n",
              "    </tr>\n",
              "  </thead>\n",
              "  <tbody>\n",
              "    <tr>\n",
              "      <th>0</th>\n",
              "      <td>2018-01-01</td>\n",
              "      <td>PRCP</td>\n",
              "      <td>GHCND:US1CTFR0039</td>\n",
              "      <td>,,N,</td>\n",
              "      <td>0.0</td>\n",
              "    </tr>\n",
              "    <tr>\n",
              "      <th>1</th>\n",
              "      <td>2018-01-01</td>\n",
              "      <td>PRCP</td>\n",
              "      <td>GHCND:US1NJBG0015</td>\n",
              "      <td>,,N,</td>\n",
              "      <td>0.0</td>\n",
              "    </tr>\n",
              "    <tr>\n",
              "      <th>2</th>\n",
              "      <td>2018-01-01</td>\n",
              "      <td>SNOW</td>\n",
              "      <td>GHCND:US1NJBG0015</td>\n",
              "      <td>,,N,</td>\n",
              "      <td>0.0</td>\n",
              "    </tr>\n",
              "    <tr>\n",
              "      <th>3</th>\n",
              "      <td>2018-01-01</td>\n",
              "      <td>PRCP</td>\n",
              "      <td>GHCND:US1NJBG0017</td>\n",
              "      <td>,,N,</td>\n",
              "      <td>0.0</td>\n",
              "    </tr>\n",
              "    <tr>\n",
              "      <th>4</th>\n",
              "      <td>2018-01-01</td>\n",
              "      <td>SNOW</td>\n",
              "      <td>GHCND:US1NJBG0017</td>\n",
              "      <td>,,N,</td>\n",
              "      <td>0.0</td>\n",
              "    </tr>\n",
              "  </tbody>\n",
              "</table>\n",
              "</div>"
            ],
            "text/plain": [
              "        date datatype            station attributes  value\n",
              "0 2018-01-01     PRCP  GHCND:US1CTFR0039       ,,N,    0.0\n",
              "1 2018-01-01     PRCP  GHCND:US1NJBG0015       ,,N,    0.0\n",
              "2 2018-01-01     SNOW  GHCND:US1NJBG0015       ,,N,    0.0\n",
              "3 2018-01-01     PRCP  GHCND:US1NJBG0017       ,,N,    0.0\n",
              "4 2018-01-01     SNOW  GHCND:US1NJBG0017       ,,N,    0.0"
            ]
          },
          "metadata": {},
          "execution_count": 3
        }
      ]
    },
    {
      "cell_type": "code",
      "metadata": {
        "id": "GlB0RLdASj1R",
        "outputId": "c18ba896-b02d-4d0d-b81e-ec6f4149ee51",
        "colab": {
          "base_uri": "https://localhost:8080/",
          "height": 235
        }
      },
      "source": [
        "fb = pd.read_csv('data/fb_2018.csv', index_col='date', parse_dates=True)\n",
        "fb.head()"
      ],
      "execution_count": 4,
      "outputs": [
        {
          "output_type": "execute_result",
          "data": {
            "text/html": [
              "<div>\n",
              "<style scoped>\n",
              "    .dataframe tbody tr th:only-of-type {\n",
              "        vertical-align: middle;\n",
              "    }\n",
              "\n",
              "    .dataframe tbody tr th {\n",
              "        vertical-align: top;\n",
              "    }\n",
              "\n",
              "    .dataframe thead th {\n",
              "        text-align: right;\n",
              "    }\n",
              "</style>\n",
              "<table border=\"1\" class=\"dataframe\">\n",
              "  <thead>\n",
              "    <tr style=\"text-align: right;\">\n",
              "      <th></th>\n",
              "      <th>open</th>\n",
              "      <th>high</th>\n",
              "      <th>low</th>\n",
              "      <th>close</th>\n",
              "      <th>volume</th>\n",
              "    </tr>\n",
              "    <tr>\n",
              "      <th>date</th>\n",
              "      <th></th>\n",
              "      <th></th>\n",
              "      <th></th>\n",
              "      <th></th>\n",
              "      <th></th>\n",
              "    </tr>\n",
              "  </thead>\n",
              "  <tbody>\n",
              "    <tr>\n",
              "      <th>2018-01-02</th>\n",
              "      <td>177.68</td>\n",
              "      <td>181.58</td>\n",
              "      <td>177.5500</td>\n",
              "      <td>181.42</td>\n",
              "      <td>18151903</td>\n",
              "    </tr>\n",
              "    <tr>\n",
              "      <th>2018-01-03</th>\n",
              "      <td>181.88</td>\n",
              "      <td>184.78</td>\n",
              "      <td>181.3300</td>\n",
              "      <td>184.67</td>\n",
              "      <td>16886563</td>\n",
              "    </tr>\n",
              "    <tr>\n",
              "      <th>2018-01-04</th>\n",
              "      <td>184.90</td>\n",
              "      <td>186.21</td>\n",
              "      <td>184.0996</td>\n",
              "      <td>184.33</td>\n",
              "      <td>13880896</td>\n",
              "    </tr>\n",
              "    <tr>\n",
              "      <th>2018-01-05</th>\n",
              "      <td>185.59</td>\n",
              "      <td>186.90</td>\n",
              "      <td>184.9300</td>\n",
              "      <td>186.85</td>\n",
              "      <td>13574535</td>\n",
              "    </tr>\n",
              "    <tr>\n",
              "      <th>2018-01-08</th>\n",
              "      <td>187.20</td>\n",
              "      <td>188.90</td>\n",
              "      <td>186.3300</td>\n",
              "      <td>188.28</td>\n",
              "      <td>17994726</td>\n",
              "    </tr>\n",
              "  </tbody>\n",
              "</table>\n",
              "</div>"
            ],
            "text/plain": [
              "              open    high       low   close    volume\n",
              "date                                                  \n",
              "2018-01-02  177.68  181.58  177.5500  181.42  18151903\n",
              "2018-01-03  181.88  184.78  181.3300  184.67  16886563\n",
              "2018-01-04  184.90  186.21  184.0996  184.33  13880896\n",
              "2018-01-05  185.59  186.90  184.9300  186.85  13574535\n",
              "2018-01-08  187.20  188.90  186.3300  188.28  17994726"
            ]
          },
          "metadata": {},
          "execution_count": 4
        }
      ]
    },
    {
      "cell_type": "markdown",
      "metadata": {
        "id": "zjXpnnyoTU7I"
      },
      "source": [
        "* 뉴욕 시티 데이터와 페이스북에 대한 데이터를 읽어와 주었다."
      ]
    },
    {
      "cell_type": "markdown",
      "metadata": {
        "id": "1OFaljfWSj1R"
      },
      "source": [
        "## Arithmetic and statistics\n",
        "We already saw that we can use mathematical operators like `+` and `/` with dataframes directly. However, we can also use methods, which allow us to specify the axis to perform the calculation over. By default, this is per column. Let's find the Z-scores for the volume traded and look at the days where this was more than 3 standard deviations from the mean:"
      ]
    },
    {
      "cell_type": "code",
      "metadata": {
        "id": "Fy1n5UjpSj1S",
        "outputId": "6059525f-c85d-4efe-ab6f-6c7baf8bcae0",
        "colab": {
          "base_uri": "https://localhost:8080/",
          "height": 235
        }
      },
      "source": [
        "fb.assign(\n",
        "    abs_z_score_volume=lambda x: \\\n",
        "        x.volume.sub(x.volume.mean()).div(x.volume.std()).abs()\n",
        ").query('abs_z_score_volume > 3')"
      ],
      "execution_count": 5,
      "outputs": [
        {
          "output_type": "execute_result",
          "data": {
            "text/html": [
              "<div>\n",
              "<style scoped>\n",
              "    .dataframe tbody tr th:only-of-type {\n",
              "        vertical-align: middle;\n",
              "    }\n",
              "\n",
              "    .dataframe tbody tr th {\n",
              "        vertical-align: top;\n",
              "    }\n",
              "\n",
              "    .dataframe thead th {\n",
              "        text-align: right;\n",
              "    }\n",
              "</style>\n",
              "<table border=\"1\" class=\"dataframe\">\n",
              "  <thead>\n",
              "    <tr style=\"text-align: right;\">\n",
              "      <th></th>\n",
              "      <th>open</th>\n",
              "      <th>high</th>\n",
              "      <th>low</th>\n",
              "      <th>close</th>\n",
              "      <th>volume</th>\n",
              "      <th>abs_z_score_volume</th>\n",
              "    </tr>\n",
              "    <tr>\n",
              "      <th>date</th>\n",
              "      <th></th>\n",
              "      <th></th>\n",
              "      <th></th>\n",
              "      <th></th>\n",
              "      <th></th>\n",
              "      <th></th>\n",
              "    </tr>\n",
              "  </thead>\n",
              "  <tbody>\n",
              "    <tr>\n",
              "      <th>2018-03-19</th>\n",
              "      <td>177.01</td>\n",
              "      <td>177.17</td>\n",
              "      <td>170.06</td>\n",
              "      <td>172.56</td>\n",
              "      <td>88140060</td>\n",
              "      <td>3.145078</td>\n",
              "    </tr>\n",
              "    <tr>\n",
              "      <th>2018-03-20</th>\n",
              "      <td>167.47</td>\n",
              "      <td>170.20</td>\n",
              "      <td>161.95</td>\n",
              "      <td>168.15</td>\n",
              "      <td>129851768</td>\n",
              "      <td>5.315169</td>\n",
              "    </tr>\n",
              "    <tr>\n",
              "      <th>2018-03-21</th>\n",
              "      <td>164.80</td>\n",
              "      <td>173.40</td>\n",
              "      <td>163.30</td>\n",
              "      <td>169.39</td>\n",
              "      <td>106598834</td>\n",
              "      <td>4.105413</td>\n",
              "    </tr>\n",
              "    <tr>\n",
              "      <th>2018-03-26</th>\n",
              "      <td>160.82</td>\n",
              "      <td>161.10</td>\n",
              "      <td>149.02</td>\n",
              "      <td>160.06</td>\n",
              "      <td>126116634</td>\n",
              "      <td>5.120845</td>\n",
              "    </tr>\n",
              "    <tr>\n",
              "      <th>2018-07-26</th>\n",
              "      <td>174.89</td>\n",
              "      <td>180.13</td>\n",
              "      <td>173.75</td>\n",
              "      <td>176.26</td>\n",
              "      <td>169803668</td>\n",
              "      <td>7.393705</td>\n",
              "    </tr>\n",
              "  </tbody>\n",
              "</table>\n",
              "</div>"
            ],
            "text/plain": [
              "              open    high     low   close     volume  abs_z_score_volume\n",
              "date                                                                     \n",
              "2018-03-19  177.01  177.17  170.06  172.56   88140060            3.145078\n",
              "2018-03-20  167.47  170.20  161.95  168.15  129851768            5.315169\n",
              "2018-03-21  164.80  173.40  163.30  169.39  106598834            4.105413\n",
              "2018-03-26  160.82  161.10  149.02  160.06  126116634            5.120845\n",
              "2018-07-26  174.89  180.13  173.75  176.26  169803668            7.393705"
            ]
          },
          "metadata": {},
          "execution_count": 5
        }
      ]
    },
    {
      "cell_type": "markdown",
      "metadata": {
        "id": "s-nuYgbSTf8v"
      },
      "source": [
        "* 페이스북에서 volume을 표준화 시키는 작업을 해주었다. "
      ]
    },
    {
      "cell_type": "markdown",
      "metadata": {
        "id": "6SJis8cBSj1S"
      },
      "source": [
        "We can use `rank()` and `pct_change()` to see which days had the largest change in volume traded from the day before:"
      ]
    },
    {
      "cell_type": "code",
      "metadata": {
        "id": "kHowdte2Sj1T",
        "outputId": "b6f4ebc7-d081-4e67-b82e-ab35a04ea5df",
        "colab": {
          "base_uri": "https://localhost:8080/",
          "height": 235
        }
      },
      "source": [
        "fb.assign(\n",
        "    volume_pct_change=fb.volume.pct_change(),\n",
        "    pct_change_rank=lambda x: \\\n",
        "        x.volume_pct_change.abs().rank(ascending=False)\n",
        ").nsmallest(5, 'pct_change_rank')"
      ],
      "execution_count": 6,
      "outputs": [
        {
          "output_type": "execute_result",
          "data": {
            "text/html": [
              "<div>\n",
              "<style scoped>\n",
              "    .dataframe tbody tr th:only-of-type {\n",
              "        vertical-align: middle;\n",
              "    }\n",
              "\n",
              "    .dataframe tbody tr th {\n",
              "        vertical-align: top;\n",
              "    }\n",
              "\n",
              "    .dataframe thead th {\n",
              "        text-align: right;\n",
              "    }\n",
              "</style>\n",
              "<table border=\"1\" class=\"dataframe\">\n",
              "  <thead>\n",
              "    <tr style=\"text-align: right;\">\n",
              "      <th></th>\n",
              "      <th>open</th>\n",
              "      <th>high</th>\n",
              "      <th>low</th>\n",
              "      <th>close</th>\n",
              "      <th>volume</th>\n",
              "      <th>volume_pct_change</th>\n",
              "      <th>pct_change_rank</th>\n",
              "    </tr>\n",
              "    <tr>\n",
              "      <th>date</th>\n",
              "      <th></th>\n",
              "      <th></th>\n",
              "      <th></th>\n",
              "      <th></th>\n",
              "      <th></th>\n",
              "      <th></th>\n",
              "      <th></th>\n",
              "    </tr>\n",
              "  </thead>\n",
              "  <tbody>\n",
              "    <tr>\n",
              "      <th>2018-01-12</th>\n",
              "      <td>178.06</td>\n",
              "      <td>181.48</td>\n",
              "      <td>177.40</td>\n",
              "      <td>179.37</td>\n",
              "      <td>77551299</td>\n",
              "      <td>7.087876</td>\n",
              "      <td>1.0</td>\n",
              "    </tr>\n",
              "    <tr>\n",
              "      <th>2018-03-19</th>\n",
              "      <td>177.01</td>\n",
              "      <td>177.17</td>\n",
              "      <td>170.06</td>\n",
              "      <td>172.56</td>\n",
              "      <td>88140060</td>\n",
              "      <td>2.611789</td>\n",
              "      <td>2.0</td>\n",
              "    </tr>\n",
              "    <tr>\n",
              "      <th>2018-07-26</th>\n",
              "      <td>174.89</td>\n",
              "      <td>180.13</td>\n",
              "      <td>173.75</td>\n",
              "      <td>176.26</td>\n",
              "      <td>169803668</td>\n",
              "      <td>1.628841</td>\n",
              "      <td>3.0</td>\n",
              "    </tr>\n",
              "    <tr>\n",
              "      <th>2018-09-21</th>\n",
              "      <td>166.64</td>\n",
              "      <td>167.25</td>\n",
              "      <td>162.81</td>\n",
              "      <td>162.93</td>\n",
              "      <td>45994800</td>\n",
              "      <td>1.428956</td>\n",
              "      <td>4.0</td>\n",
              "    </tr>\n",
              "    <tr>\n",
              "      <th>2018-03-26</th>\n",
              "      <td>160.82</td>\n",
              "      <td>161.10</td>\n",
              "      <td>149.02</td>\n",
              "      <td>160.06</td>\n",
              "      <td>126116634</td>\n",
              "      <td>1.352496</td>\n",
              "      <td>5.0</td>\n",
              "    </tr>\n",
              "  </tbody>\n",
              "</table>\n",
              "</div>"
            ],
            "text/plain": [
              "              open    high  ...  volume_pct_change  pct_change_rank\n",
              "date                        ...                                    \n",
              "2018-01-12  178.06  181.48  ...           7.087876              1.0\n",
              "2018-03-19  177.01  177.17  ...           2.611789              2.0\n",
              "2018-07-26  174.89  180.13  ...           1.628841              3.0\n",
              "2018-09-21  166.64  167.25  ...           1.428956              4.0\n",
              "2018-03-26  160.82  161.10  ...           1.352496              5.0\n",
              "\n",
              "[5 rows x 7 columns]"
            ]
          },
          "metadata": {},
          "execution_count": 6
        }
      ]
    },
    {
      "cell_type": "markdown",
      "metadata": {
        "id": "vuUBAFl5T6fb"
      },
      "source": [
        "* 위의 테이블을 보았을 때, 2018-01-12에서 volume change크게 있었다는 것을 알 수 있다. "
      ]
    },
    {
      "cell_type": "markdown",
      "metadata": {
        "id": "KJX_tjrYSj1T"
      },
      "source": [
        "January 12th was when the news that Facebook changed its news feed product to focus more on content from a users' friends over the brands they follow. Given that Facebook's advertising is a key component of its business ([nearly 89% in 2017](https://www.investopedia.com/ask/answers/120114/how-does-facebook-fb-make-money.asp)), many shares were sold and the price dropped in panic:"
      ]
    },
    {
      "cell_type": "code",
      "metadata": {
        "id": "7DHu2i6aSj1U",
        "outputId": "8b1db567-6fb7-4e9b-ad07-279bac4b70f6",
        "colab": {
          "base_uri": "https://localhost:8080/",
          "height": 142
        }
      },
      "source": [
        "fb['2018-01-11':'2018-01-12']"
      ],
      "execution_count": 7,
      "outputs": [
        {
          "output_type": "execute_result",
          "data": {
            "text/html": [
              "<div>\n",
              "<style scoped>\n",
              "    .dataframe tbody tr th:only-of-type {\n",
              "        vertical-align: middle;\n",
              "    }\n",
              "\n",
              "    .dataframe tbody tr th {\n",
              "        vertical-align: top;\n",
              "    }\n",
              "\n",
              "    .dataframe thead th {\n",
              "        text-align: right;\n",
              "    }\n",
              "</style>\n",
              "<table border=\"1\" class=\"dataframe\">\n",
              "  <thead>\n",
              "    <tr style=\"text-align: right;\">\n",
              "      <th></th>\n",
              "      <th>open</th>\n",
              "      <th>high</th>\n",
              "      <th>low</th>\n",
              "      <th>close</th>\n",
              "      <th>volume</th>\n",
              "    </tr>\n",
              "    <tr>\n",
              "      <th>date</th>\n",
              "      <th></th>\n",
              "      <th></th>\n",
              "      <th></th>\n",
              "      <th></th>\n",
              "      <th></th>\n",
              "    </tr>\n",
              "  </thead>\n",
              "  <tbody>\n",
              "    <tr>\n",
              "      <th>2018-01-11</th>\n",
              "      <td>188.40</td>\n",
              "      <td>188.40</td>\n",
              "      <td>187.38</td>\n",
              "      <td>187.77</td>\n",
              "      <td>9588587</td>\n",
              "    </tr>\n",
              "    <tr>\n",
              "      <th>2018-01-12</th>\n",
              "      <td>178.06</td>\n",
              "      <td>181.48</td>\n",
              "      <td>177.40</td>\n",
              "      <td>179.37</td>\n",
              "      <td>77551299</td>\n",
              "    </tr>\n",
              "  </tbody>\n",
              "</table>\n",
              "</div>"
            ],
            "text/plain": [
              "              open    high     low   close    volume\n",
              "date                                                \n",
              "2018-01-11  188.40  188.40  187.38  187.77   9588587\n",
              "2018-01-12  178.06  181.48  177.40  179.37  77551299"
            ]
          },
          "metadata": {},
          "execution_count": 7
        }
      ]
    },
    {
      "cell_type": "markdown",
      "metadata": {
        "id": "FRnmhQk8UMka"
      },
      "source": [
        "* volume_pct_change에서 가장큰 날짜인 2018년01월12일 이전인 2018년01월11일 데이터와 2018년01월12일 데이터를 비교해보았을 때, 변화가 가장 크다는 것을 알 수 있다. "
      ]
    },
    {
      "cell_type": "markdown",
      "metadata": {
        "id": "uTfi75zUSj1U"
      },
      "source": [
        "Throughout 2018, Facebook's stock price never had a low above $215:"
      ]
    },
    {
      "cell_type": "code",
      "metadata": {
        "id": "uIJVvxRbSj1V",
        "outputId": "769751b4-276a-4102-90e7-80bdfa9daaab",
        "colab": {
          "base_uri": "https://localhost:8080/"
        }
      },
      "source": [
        "(fb > 215).any()"
      ],
      "execution_count": 8,
      "outputs": [
        {
          "output_type": "execute_result",
          "data": {
            "text/plain": [
              "open       True\n",
              "high       True\n",
              "low       False\n",
              "close      True\n",
              "volume     True\n",
              "dtype: bool"
            ]
          },
          "metadata": {},
          "execution_count": 8
        }
      ]
    },
    {
      "cell_type": "markdown",
      "metadata": {
        "id": "vwxtt9QSSj1V"
      },
      "source": [
        "Facebook's OHLC (open, high, low, and close) prices all had at least one day they were at $215 or less:"
      ]
    },
    {
      "cell_type": "code",
      "metadata": {
        "id": "yA_bwV6CSj1V",
        "outputId": "c5c0b00a-5ca7-482e-c71a-9d0ae015b07d",
        "colab": {
          "base_uri": "https://localhost:8080/"
        }
      },
      "source": [
        "(fb > 215).all()"
      ],
      "execution_count": 9,
      "outputs": [
        {
          "output_type": "execute_result",
          "data": {
            "text/plain": [
              "open      False\n",
              "high      False\n",
              "low       False\n",
              "close     False\n",
              "volume     True\n",
              "dtype: bool"
            ]
          },
          "metadata": {},
          "execution_count": 9
        }
      ]
    },
    {
      "cell_type": "markdown",
      "metadata": {
        "id": "7ynw2ahiUf0U"
      },
      "source": [
        "* 이거는 Boolean한 operation에 대한 것을 나타낸다."
      ]
    },
    {
      "cell_type": "markdown",
      "metadata": {
        "id": "A_WIy5lvSj1W"
      },
      "source": [
        "## Binning\n",
        "When working with volume traded, we may be interested in ranges of volume rather than the exact values. No two days have the same volume traded:"
      ]
    },
    {
      "cell_type": "code",
      "metadata": {
        "id": "C5SiSiW5Sj1W",
        "outputId": "03d3e5ae-2aa4-4ca2-ebb9-dd60ad3ef211",
        "colab": {
          "base_uri": "https://localhost:8080/"
        }
      },
      "source": [
        "(fb.volume.value_counts() > 1).sum()"
      ],
      "execution_count": 10,
      "outputs": [
        {
          "output_type": "execute_result",
          "data": {
            "text/plain": [
              "0"
            ]
          },
          "metadata": {},
          "execution_count": 10
        }
      ]
    },
    {
      "cell_type": "markdown",
      "metadata": {
        "id": "rRQwQa3iSj1W"
      },
      "source": [
        "We can use `pd.cut()` to create 3 bins of even range in volume traded and name them. Then we can work with low, medium, and high volume traded categories:"
      ]
    },
    {
      "cell_type": "code",
      "metadata": {
        "id": "HyCZgguBSj1W",
        "outputId": "374858d3-af9f-4b76-ecf6-895c8b0fab02",
        "colab": {
          "base_uri": "https://localhost:8080/"
        }
      },
      "source": [
        "volume_binned = pd.cut(fb.volume, bins=3, labels=['low', 'med', 'high'])\n",
        "volume_binned.value_counts()"
      ],
      "execution_count": 11,
      "outputs": [
        {
          "output_type": "execute_result",
          "data": {
            "text/plain": [
              "low     240\n",
              "med       8\n",
              "high      3\n",
              "Name: volume, dtype: int64"
            ]
          },
          "metadata": {},
          "execution_count": 11
        }
      ]
    },
    {
      "cell_type": "markdown",
      "metadata": {
        "id": "89lwsiNWU2dF"
      },
      "source": [
        "* equally-sized bins으로 나눈다는 것을 알 수 있다. "
      ]
    },
    {
      "cell_type": "markdown",
      "metadata": {
        "id": "n4xXP4tISj1X"
      },
      "source": [
        "Let's look at the days with high trading volume:"
      ]
    },
    {
      "cell_type": "markdown",
      "metadata": {
        "id": "SwLd8g8nVH38"
      },
      "source": [
        "* qcut까지는 돌려보면서 실습해보라고 하심."
      ]
    },
    {
      "cell_type": "code",
      "metadata": {
        "id": "HTVr_ISbSj1X",
        "outputId": "f8de3a78-2fbc-4975-b23e-2e01df387200",
        "colab": {
          "base_uri": "https://localhost:8080/",
          "height": 173
        }
      },
      "source": [
        "fb[volume_binned == 'high'].sort_values('volume', ascending=False)"
      ],
      "execution_count": 12,
      "outputs": [
        {
          "output_type": "execute_result",
          "data": {
            "text/html": [
              "<div>\n",
              "<style scoped>\n",
              "    .dataframe tbody tr th:only-of-type {\n",
              "        vertical-align: middle;\n",
              "    }\n",
              "\n",
              "    .dataframe tbody tr th {\n",
              "        vertical-align: top;\n",
              "    }\n",
              "\n",
              "    .dataframe thead th {\n",
              "        text-align: right;\n",
              "    }\n",
              "</style>\n",
              "<table border=\"1\" class=\"dataframe\">\n",
              "  <thead>\n",
              "    <tr style=\"text-align: right;\">\n",
              "      <th></th>\n",
              "      <th>open</th>\n",
              "      <th>high</th>\n",
              "      <th>low</th>\n",
              "      <th>close</th>\n",
              "      <th>volume</th>\n",
              "    </tr>\n",
              "    <tr>\n",
              "      <th>date</th>\n",
              "      <th></th>\n",
              "      <th></th>\n",
              "      <th></th>\n",
              "      <th></th>\n",
              "      <th></th>\n",
              "    </tr>\n",
              "  </thead>\n",
              "  <tbody>\n",
              "    <tr>\n",
              "      <th>2018-07-26</th>\n",
              "      <td>174.89</td>\n",
              "      <td>180.13</td>\n",
              "      <td>173.75</td>\n",
              "      <td>176.26</td>\n",
              "      <td>169803668</td>\n",
              "    </tr>\n",
              "    <tr>\n",
              "      <th>2018-03-20</th>\n",
              "      <td>167.47</td>\n",
              "      <td>170.20</td>\n",
              "      <td>161.95</td>\n",
              "      <td>168.15</td>\n",
              "      <td>129851768</td>\n",
              "    </tr>\n",
              "    <tr>\n",
              "      <th>2018-03-26</th>\n",
              "      <td>160.82</td>\n",
              "      <td>161.10</td>\n",
              "      <td>149.02</td>\n",
              "      <td>160.06</td>\n",
              "      <td>126116634</td>\n",
              "    </tr>\n",
              "  </tbody>\n",
              "</table>\n",
              "</div>"
            ],
            "text/plain": [
              "              open    high     low   close     volume\n",
              "date                                                 \n",
              "2018-07-26  174.89  180.13  173.75  176.26  169803668\n",
              "2018-03-20  167.47  170.20  161.95  168.15  129851768\n",
              "2018-03-26  160.82  161.10  149.02  160.06  126116634"
            ]
          },
          "metadata": {},
          "execution_count": 12
        }
      ]
    },
    {
      "cell_type": "markdown",
      "metadata": {
        "id": "PSHW_yjcSj1X"
      },
      "source": [
        "July 25th Facebook announced disappointing user growth and the stock tanked in the after hours:"
      ]
    },
    {
      "cell_type": "code",
      "metadata": {
        "id": "5thqvjQjSj1X",
        "outputId": "29024e91-a184-40e3-dd25-e493d57490dd",
        "colab": {
          "base_uri": "https://localhost:8080/",
          "height": 142
        }
      },
      "source": [
        "fb['2018-07-25':'2018-07-26']"
      ],
      "execution_count": 13,
      "outputs": [
        {
          "output_type": "execute_result",
          "data": {
            "text/html": [
              "<div>\n",
              "<style scoped>\n",
              "    .dataframe tbody tr th:only-of-type {\n",
              "        vertical-align: middle;\n",
              "    }\n",
              "\n",
              "    .dataframe tbody tr th {\n",
              "        vertical-align: top;\n",
              "    }\n",
              "\n",
              "    .dataframe thead th {\n",
              "        text-align: right;\n",
              "    }\n",
              "</style>\n",
              "<table border=\"1\" class=\"dataframe\">\n",
              "  <thead>\n",
              "    <tr style=\"text-align: right;\">\n",
              "      <th></th>\n",
              "      <th>open</th>\n",
              "      <th>high</th>\n",
              "      <th>low</th>\n",
              "      <th>close</th>\n",
              "      <th>volume</th>\n",
              "    </tr>\n",
              "    <tr>\n",
              "      <th>date</th>\n",
              "      <th></th>\n",
              "      <th></th>\n",
              "      <th></th>\n",
              "      <th></th>\n",
              "      <th></th>\n",
              "    </tr>\n",
              "  </thead>\n",
              "  <tbody>\n",
              "    <tr>\n",
              "      <th>2018-07-25</th>\n",
              "      <td>215.715</td>\n",
              "      <td>218.62</td>\n",
              "      <td>214.27</td>\n",
              "      <td>217.50</td>\n",
              "      <td>64592585</td>\n",
              "    </tr>\n",
              "    <tr>\n",
              "      <th>2018-07-26</th>\n",
              "      <td>174.890</td>\n",
              "      <td>180.13</td>\n",
              "      <td>173.75</td>\n",
              "      <td>176.26</td>\n",
              "      <td>169803668</td>\n",
              "    </tr>\n",
              "  </tbody>\n",
              "</table>\n",
              "</div>"
            ],
            "text/plain": [
              "               open    high     low   close     volume\n",
              "date                                                  \n",
              "2018-07-25  215.715  218.62  214.27  217.50   64592585\n",
              "2018-07-26  174.890  180.13  173.75  176.26  169803668"
            ]
          },
          "metadata": {},
          "execution_count": 13
        }
      ]
    },
    {
      "cell_type": "markdown",
      "metadata": {
        "id": "r0R64vfeSj1Y"
      },
      "source": [
        "Cambridge Analytica scandal broke on Saturday, March 17th, so we look at the Monday after for the numbers:"
      ]
    },
    {
      "cell_type": "code",
      "metadata": {
        "id": "TYAhtsINSj1Y",
        "outputId": "4eb0102d-ad0d-4af3-e798-101b92204508",
        "colab": {
          "base_uri": "https://localhost:8080/",
          "height": 173
        }
      },
      "source": [
        "fb['2018-03-16':'2018-03-20']"
      ],
      "execution_count": 14,
      "outputs": [
        {
          "output_type": "execute_result",
          "data": {
            "text/html": [
              "<div>\n",
              "<style scoped>\n",
              "    .dataframe tbody tr th:only-of-type {\n",
              "        vertical-align: middle;\n",
              "    }\n",
              "\n",
              "    .dataframe tbody tr th {\n",
              "        vertical-align: top;\n",
              "    }\n",
              "\n",
              "    .dataframe thead th {\n",
              "        text-align: right;\n",
              "    }\n",
              "</style>\n",
              "<table border=\"1\" class=\"dataframe\">\n",
              "  <thead>\n",
              "    <tr style=\"text-align: right;\">\n",
              "      <th></th>\n",
              "      <th>open</th>\n",
              "      <th>high</th>\n",
              "      <th>low</th>\n",
              "      <th>close</th>\n",
              "      <th>volume</th>\n",
              "    </tr>\n",
              "    <tr>\n",
              "      <th>date</th>\n",
              "      <th></th>\n",
              "      <th></th>\n",
              "      <th></th>\n",
              "      <th></th>\n",
              "      <th></th>\n",
              "    </tr>\n",
              "  </thead>\n",
              "  <tbody>\n",
              "    <tr>\n",
              "      <th>2018-03-16</th>\n",
              "      <td>184.49</td>\n",
              "      <td>185.33</td>\n",
              "      <td>183.41</td>\n",
              "      <td>185.09</td>\n",
              "      <td>24403438</td>\n",
              "    </tr>\n",
              "    <tr>\n",
              "      <th>2018-03-19</th>\n",
              "      <td>177.01</td>\n",
              "      <td>177.17</td>\n",
              "      <td>170.06</td>\n",
              "      <td>172.56</td>\n",
              "      <td>88140060</td>\n",
              "    </tr>\n",
              "    <tr>\n",
              "      <th>2018-03-20</th>\n",
              "      <td>167.47</td>\n",
              "      <td>170.20</td>\n",
              "      <td>161.95</td>\n",
              "      <td>168.15</td>\n",
              "      <td>129851768</td>\n",
              "    </tr>\n",
              "  </tbody>\n",
              "</table>\n",
              "</div>"
            ],
            "text/plain": [
              "              open    high     low   close     volume\n",
              "date                                                 \n",
              "2018-03-16  184.49  185.33  183.41  185.09   24403438\n",
              "2018-03-19  177.01  177.17  170.06  172.56   88140060\n",
              "2018-03-20  167.47  170.20  161.95  168.15  129851768"
            ]
          },
          "metadata": {},
          "execution_count": 14
        }
      ]
    },
    {
      "cell_type": "markdown",
      "metadata": {
        "id": "Sw4io7xoSj1Y"
      },
      "source": [
        "Since most days have similar volume, but a few are very large, we have very wide bins. Most of the data is in the low bin. \n",
        "\n",
        "*Note: visualizations will be covered in chapters 5 and 6.*"
      ]
    },
    {
      "cell_type": "code",
      "metadata": {
        "id": "-zFltBevVhJo"
      },
      "source": [
        "import sys\n",
        "sys.path.append(\"/content/drive/MyDrive/Hands-On-Data-Analysis-with-Pandas-2nd-edition/visual-aids\")"
      ],
      "execution_count": 16,
      "outputs": []
    },
    {
      "cell_type": "markdown",
      "metadata": {
        "id": "nzWY_Z4XVxwE"
      },
      "source": [
        "* 이렇게 path를 잡아주면 visual_aids.misc_viz의 plot을 그릴수 있다는 것을 알 수 있다. "
      ]
    },
    {
      "cell_type": "code",
      "metadata": {
        "id": "JiNB_oJASj1Y",
        "outputId": "aca375a4-9e94-4c67-efcf-8253a20617ce",
        "colab": {
          "base_uri": "https://localhost:8080/",
          "height": 248
        }
      },
      "source": [
        "from visual_aids.misc_viz import low_med_high_bins_viz\n",
        "\n",
        "low_med_high_bins_viz(\n",
        "    fb, 'volume', ylabel='volume traded',\n",
        "    title='Daily Volume Traded of Facebook Stock in 2018 (with bins)'\n",
        ")"
      ],
      "execution_count": 17,
      "outputs": [
        {
          "output_type": "execute_result",
          "data": {
            "text/plain": [
              "<matplotlib.axes._subplots.AxesSubplot at 0x7f0b10c5bad0>"
            ]
          },
          "metadata": {},
          "execution_count": 17
        },
        {
          "output_type": "display_data",
          "data": {
            "image/png": "[encoded data removed]",
            "text/plain": [
              "<Figure size 1080x216 with 1 Axes>"
            ]
          },
          "metadata": {
            "needs_background": "light"
          }
        }
      ]
    },
    {
      "cell_type": "markdown",
      "metadata": {
        "id": "5N80aDV6Sj1Z"
      },
      "source": [
        "If we split using quantiles, the bins will have roughly the same number of observations. For this, we use `qcut()`. We will make 4 quartiles:"
      ]
    },
    {
      "cell_type": "code",
      "metadata": {
        "id": "fT-rVUGYSj1Z",
        "outputId": "0667fe2a-4417-4a2f-9f26-feea5243bb94",
        "colab": {
          "base_uri": "https://localhost:8080/"
        }
      },
      "source": [
        "volume_qbinned = pd.qcut(fb.volume, q=4, labels=['q1', 'q2', 'q3', 'q4'])\n",
        "volume_qbinned.value_counts()"
      ],
      "execution_count": 18,
      "outputs": [
        {
          "output_type": "execute_result",
          "data": {
            "text/plain": [
              "q4    63\n",
              "q2    63\n",
              "q1    63\n",
              "q3    62\n",
              "Name: volume, dtype: int64"
            ]
          },
          "metadata": {},
          "execution_count": 18
        }
      ]
    },
    {
      "cell_type": "markdown",
      "metadata": {
        "id": "lVrOpuOKWSzs"
      },
      "source": [
        "* qcut을 하게 되면 각 수치가 똑같이 된다는 것을 알 수 있다. "
      ]
    },
    {
      "cell_type": "markdown",
      "metadata": {
        "id": "Yo4fb9OlSj1Z"
      },
      "source": [
        "Notice the bins don't cover ranges of the same size anymore:"
      ]
    },
    {
      "cell_type": "code",
      "metadata": {
        "id": "SrSBqn40Sj1Z",
        "outputId": "541b7e09-d3a1-4c47-abf7-6a9c7804f8c3",
        "colab": {
          "base_uri": "https://localhost:8080/",
          "height": 493
        }
      },
      "source": [
        "from visual_aids.misc_viz import quartile_bins_viz\n",
        "\n",
        "quartile_bins_viz(\n",
        "    fb, 'volume', ylabel='volume traded', \n",
        "    title='Daily Volume Traded of Facebook Stock in 2018 (with quartile bins)'\n",
        ")"
      ],
      "execution_count": 19,
      "outputs": [
        {
          "output_type": "execute_result",
          "data": {
            "text/plain": [
              "<matplotlib.axes._subplots.AxesSubplot at 0x7f0b07ede3d0>"
            ]
          },
          "metadata": {},
          "execution_count": 19
        },
        {
          "output_type": "display_data",
          "data": {
            "image/png": "[encoded data removed]",
            "text/plain": [
              "<Figure size 1080x576 with 1 Axes>"
            ]
          },
          "metadata": {
            "needs_background": "light"
          }
        }
      ]
    },
    {
      "cell_type": "markdown",
      "metadata": {
        "id": "DArajv9ZWcPE"
      },
      "source": [
        "* 개수가 같은 것이기 때문에 bin의 크기는 다를 수 있다. "
      ]
    },
    {
      "cell_type": "markdown",
      "metadata": {
        "id": "GFiC6P0ZSj1Z"
      },
      "source": [
        "## Applying Functions\n",
        "We can use the `apply()` method to run the same operation on all columns (or rows) of the dataframe. First, let's isolate the weather observations from the Central Park station and pivot the data:"
      ]
    },
    {
      "cell_type": "code",
      "metadata": {
        "id": "G38ybX0vSj1a"
      },
      "source": [
        "central_park_weather = weather\\\n",
        "    .query('station == \"GHCND:USW00094728\"')\\\n",
        "    .pivot(index='date', columns='datatype', values='value')"
      ],
      "execution_count": 20,
      "outputs": []
    },
    {
      "cell_type": "markdown",
      "metadata": {
        "id": "z82FYyUAW0fS"
      },
      "source": [
        "* 일단 central_park_weather 데이터를 가지고 온다. "
      ]
    },
    {
      "cell_type": "markdown",
      "metadata": {
        "id": "MK7z1vJwSj1a"
      },
      "source": [
        "Let's calculate the Z-scores of the TMIN, TMAX, and PRCP observations in Central Park in October 2018:"
      ]
    },
    {
      "cell_type": "code",
      "metadata": {
        "id": "hq3PVUzhSj1a",
        "outputId": "80d0542d-439f-4967-dd06-2bf34bca5d42",
        "colab": {
          "base_uri": "https://localhost:8080/",
          "height": 173
        }
      },
      "source": [
        "oct_weather_z_scores = central_park_weather\\\n",
        "    .loc['2018-10', ['TMIN', 'TMAX', 'PRCP']]\\\n",
        "    .apply(lambda x: x.sub(x.mean()).div(x.std()))\n",
        "oct_weather_z_scores.describe().T"
      ],
      "execution_count": 21,
      "outputs": [
        {
          "output_type": "execute_result",
          "data": {
            "text/html": [
              "<div>\n",
              "<style scoped>\n",
              "    .dataframe tbody tr th:only-of-type {\n",
              "        vertical-align: middle;\n",
              "    }\n",
              "\n",
              "    .dataframe tbody tr th {\n",
              "        vertical-align: top;\n",
              "    }\n",
              "\n",
              "    .dataframe thead th {\n",
              "        text-align: right;\n",
              "    }\n",
              "</style>\n",
              "<table border=\"1\" class=\"dataframe\">\n",
              "  <thead>\n",
              "    <tr style=\"text-align: right;\">\n",
              "      <th></th>\n",
              "      <th>count</th>\n",
              "      <th>mean</th>\n",
              "      <th>std</th>\n",
              "      <th>min</th>\n",
              "      <th>25%</th>\n",
              "      <th>50%</th>\n",
              "      <th>75%</th>\n",
              "      <th>max</th>\n",
              "    </tr>\n",
              "    <tr>\n",
              "      <th>datatype</th>\n",
              "      <th></th>\n",
              "      <th></th>\n",
              "      <th></th>\n",
              "      <th></th>\n",
              "      <th></th>\n",
              "      <th></th>\n",
              "      <th></th>\n",
              "      <th></th>\n",
              "    </tr>\n",
              "  </thead>\n",
              "  <tbody>\n",
              "    <tr>\n",
              "      <th>TMIN</th>\n",
              "      <td>31.0</td>\n",
              "      <td>-1.790682e-16</td>\n",
              "      <td>1.0</td>\n",
              "      <td>-1.339112</td>\n",
              "      <td>-0.751019</td>\n",
              "      <td>-0.474269</td>\n",
              "      <td>1.065152</td>\n",
              "      <td>1.843511</td>\n",
              "    </tr>\n",
              "    <tr>\n",
              "      <th>TMAX</th>\n",
              "      <td>31.0</td>\n",
              "      <td>-3.010585e-16</td>\n",
              "      <td>1.0</td>\n",
              "      <td>-1.305582</td>\n",
              "      <td>-0.870013</td>\n",
              "      <td>-0.138258</td>\n",
              "      <td>1.011643</td>\n",
              "      <td>1.604016</td>\n",
              "    </tr>\n",
              "    <tr>\n",
              "      <th>PRCP</th>\n",
              "      <td>31.0</td>\n",
              "      <td>6.088320e-17</td>\n",
              "      <td>1.0</td>\n",
              "      <td>-0.394438</td>\n",
              "      <td>-0.394438</td>\n",
              "      <td>-0.394438</td>\n",
              "      <td>-0.240253</td>\n",
              "      <td>3.936167</td>\n",
              "    </tr>\n",
              "  </tbody>\n",
              "</table>\n",
              "</div>"
            ],
            "text/plain": [
              "          count          mean  std  ...       50%       75%       max\n",
              "datatype                            ...                              \n",
              "TMIN       31.0 -1.790682e-16  1.0  ... -0.474269  1.065152  1.843511\n",
              "TMAX       31.0 -3.010585e-16  1.0  ... -0.138258  1.011643  1.604016\n",
              "PRCP       31.0  6.088320e-17  1.0  ... -0.394438 -0.240253  3.936167\n",
              "\n",
              "[3 rows x 8 columns]"
            ]
          },
          "metadata": {},
          "execution_count": 21
        }
      ]
    },
    {
      "cell_type": "markdown",
      "metadata": {
        "id": "qCO8qBaqWqEa"
      },
      "source": [
        "* 모든 곳에 함수를 적용시키고 싶으면 .apply하게 되면 된다. \n",
        "* 그래서 처음에는 표준화되지 않았던 것이 이제는 표준화되어 있다는 것을 알 수 있다. \n",
        "* PRCP는 강수량이기 때문에 max일 때 강수량이 많았다는 것을 의미한다. "
      ]
    },
    {
      "cell_type": "markdown",
      "metadata": {
        "id": "zBJLdp_-Sj1a"
      },
      "source": [
        "October 27th rained much more than the rest of the days:"
      ]
    },
    {
      "cell_type": "code",
      "metadata": {
        "id": "kbiSxt63Sj1a",
        "outputId": "78cbc142-a580-46c4-ccbc-12f759063321",
        "colab": {
          "base_uri": "https://localhost:8080/"
        }
      },
      "source": [
        "oct_weather_z_scores.query('PRCP > 3').PRCP"
      ],
      "execution_count": 22,
      "outputs": [
        {
          "output_type": "execute_result",
          "data": {
            "text/plain": [
              "date\n",
              "2018-10-27    3.936167\n",
              "Name: PRCP, dtype: float64"
            ]
          },
          "metadata": {},
          "execution_count": 22
        }
      ]
    },
    {
      "cell_type": "markdown",
      "metadata": {
        "id": "I_qbXd0-Sj1b"
      },
      "source": [
        "Indeed, this day was much higher than the rest:"
      ]
    },
    {
      "cell_type": "code",
      "metadata": {
        "id": "ktY4WNQCSj1b",
        "outputId": "07670e4b-38cc-4d92-f980-732650eb1c5f",
        "colab": {
          "base_uri": "https://localhost:8080/"
        }
      },
      "source": [
        "central_park_weather.loc['2018-10', 'PRCP'].describe()"
      ],
      "execution_count": 23,
      "outputs": [
        {
          "output_type": "execute_result",
          "data": {
            "text/plain": [
              "count    31.000000\n",
              "mean      2.941935\n",
              "std       7.458542\n",
              "min       0.000000\n",
              "25%       0.000000\n",
              "50%       0.000000\n",
              "75%       1.150000\n",
              "max      32.300000\n",
              "Name: PRCP, dtype: float64"
            ]
          },
          "metadata": {},
          "execution_count": 23
        }
      ]
    },
    {
      "cell_type": "markdown",
      "metadata": {
        "id": "OyDwxmyNSj1b"
      },
      "source": [
        "When the function we want to apply isn't vectorized, we can:\n",
        "- use `np.vectorize()` to vectorize it (similar to how `map()` works) and then use it with `apply()`\n",
        "- use `applymap()` and pass it the non-vectorized function directly\n",
        "\n",
        "Say we wanted to count the digits of the whole numbers for the Facebook data; `len()` is not vectorized, so we can use `np.vectorize()` or `applymap()`:"
      ]
    },
    {
      "cell_type": "code",
      "metadata": {
        "id": "rVF78UolSj1b",
        "outputId": "14cef605-c011-4e66-9701-e45e1b22e98a",
        "colab": {
          "base_uri": "https://localhost:8080/"
        }
      },
      "source": [
        "fb.apply(\n",
        "    lambda x: np.vectorize(lambda y: len(str(np.ceil(y))))(x)\n",
        ").astype('int64').equals(\n",
        "    fb.applymap(lambda x: len(str(np.ceil(x))))\n",
        ")"
      ],
      "execution_count": 24,
      "outputs": [
        {
          "output_type": "execute_result",
          "data": {
            "text/plain": [
              "True"
            ]
          },
          "metadata": {},
          "execution_count": 24
        }
      ]
    },
    {
      "cell_type": "markdown",
      "metadata": {
        "id": "ocWip_zVXjh9"
      },
      "source": [
        "* 여기에서는 apply쓴 것과 applymap을 쓴게 동일하다는 것을 보여준다. "
      ]
    },
    {
      "cell_type": "markdown",
      "metadata": {
        "id": "J8aQc2_hSj1b"
      },
      "source": [
        "A simple operation of addition to each element in a series grows linearly in time complexity when using `iteritems()`, but stays near 0 when using vectorized operations. `iteritems()` and related methods should only be used if there is no vectorized solution:"
      ]
    },
    {
      "cell_type": "code",
      "metadata": {
        "id": "iyPeXkE6Sj1b",
        "outputId": "fd7e66a8-951b-4fd1-827e-4677d9f26930",
        "colab": {
          "base_uri": "https://localhost:8080/",
          "height": 295
        }
      },
      "source": [
        "import time\n",
        "\n",
        "import numpy as np\n",
        "import pandas as pd\n",
        "\n",
        "np.random.seed(0)\n",
        "\n",
        "vectorized_results = {}\n",
        "iteritems_results = {}\n",
        "\n",
        "for size in [10, 100, 1000, 10000, 100000, 500000, 1000000, 5000000, 10000000]:\n",
        "    # set of numbers to use\n",
        "    test = pd.Series(np.random.uniform(size=size))\n",
        "    \n",
        "    # time the vectorized operation\n",
        "    start = time.time()\n",
        "    x = test + 10\n",
        "    end = time.time()\n",
        "    vectorized_results[size] = end - start\n",
        "    \n",
        "    # time the operation with `iteritems()`\n",
        "    start = time.time()\n",
        "    x = []\n",
        "    for i, v in test.iteritems():\n",
        "        x.append(v + 10)\n",
        "    x = pd.Series(x)\n",
        "    end = time.time()\n",
        "    iteritems_results[size] = end - start\n",
        "\n",
        "results = pd.DataFrame(\n",
        "    [pd.Series(vectorized_results, name='vectorized'), pd.Series(iteritems_results, name='iteritems')]\n",
        ").T    \n",
        "\n",
        "# plotting\n",
        "ax = results.plot(title='Time Complexity', color=['blue', 'red'], legend=False)\n",
        "\n",
        "# formatting\n",
        "ax.set(xlabel='item size (rows)', ylabel='time (s)')\n",
        "ax.text(0.5e7, iteritems_results[0.5e7] * .9, 'iteritems()', rotation=34, color='red', fontsize=12, ha='center', va='bottom')\n",
        "ax.text(0.5e7, vectorized_results[0.5e7], 'vectorized', color='blue', fontsize=12, ha='center', va='bottom')\n",
        "for spine in ['top', 'right']:\n",
        "    ax.spines[spine].set_visible(False)"
      ],
      "execution_count": 25,
      "outputs": [
        {
          "output_type": "display_data",
          "data": {
            "image/png": "[encoded data removed]",
            "text/plain": [
              "<Figure size 432x288 with 1 Axes>"
            ]
          },
          "metadata": {
            "needs_background": "light"
          }
        }
      ]
    },
    {
      "cell_type": "markdown",
      "metadata": {
        "id": "rEXD-J8mSj1b"
      },
      "source": [
        "## Window Calculations\n",
        "*Consult the [`understanding_window_calculations.ipynb`](./understanding_window_calculations.ipynb) notebook for interactive visualizations using widgets to help understand window calculations.*\n",
        "\n",
        "The `rolling()` method allows us to perform rolling window calculations. We simply specify the window size (3 days here) and follow it with a call to an aggregation function (sum here):"
      ]
    },
    {
      "cell_type": "code",
      "metadata": {
        "id": "VZ0SZEJOSj1c",
        "outputId": "d0f70448-f060-4d83-9fdd-8bb17a795baa",
        "colab": {
          "base_uri": "https://localhost:8080/",
          "height": 142
        }
      },
      "source": [
        "central_park_weather.loc['2018-10'].assign(\n",
        "    rolling_PRCP=lambda x: x.PRCP.rolling('3D').sum()\n",
        ")[['PRCP', 'rolling_PRCP']].head(7).T"
      ],
      "execution_count": 26,
      "outputs": [
        {
          "output_type": "execute_result",
          "data": {
            "text/html": [
              "<div>\n",
              "<style scoped>\n",
              "    .dataframe tbody tr th:only-of-type {\n",
              "        vertical-align: middle;\n",
              "    }\n",
              "\n",
              "    .dataframe tbody tr th {\n",
              "        vertical-align: top;\n",
              "    }\n",
              "\n",
              "    .dataframe thead th {\n",
              "        text-align: right;\n",
              "    }\n",
              "</style>\n",
              "<table border=\"1\" class=\"dataframe\">\n",
              "  <thead>\n",
              "    <tr style=\"text-align: right;\">\n",
              "      <th>date</th>\n",
              "      <th>2018-10-01</th>\n",
              "      <th>2018-10-02</th>\n",
              "      <th>2018-10-03</th>\n",
              "      <th>2018-10-04</th>\n",
              "      <th>2018-10-05</th>\n",
              "      <th>2018-10-06</th>\n",
              "      <th>2018-10-07</th>\n",
              "    </tr>\n",
              "    <tr>\n",
              "      <th>datatype</th>\n",
              "      <th></th>\n",
              "      <th></th>\n",
              "      <th></th>\n",
              "      <th></th>\n",
              "      <th></th>\n",
              "      <th></th>\n",
              "      <th></th>\n",
              "    </tr>\n",
              "  </thead>\n",
              "  <tbody>\n",
              "    <tr>\n",
              "      <th>PRCP</th>\n",
              "      <td>0.0</td>\n",
              "      <td>17.5</td>\n",
              "      <td>0.0</td>\n",
              "      <td>1.0</td>\n",
              "      <td>0.0</td>\n",
              "      <td>0.0</td>\n",
              "      <td>0.0</td>\n",
              "    </tr>\n",
              "    <tr>\n",
              "      <th>rolling_PRCP</th>\n",
              "      <td>0.0</td>\n",
              "      <td>17.5</td>\n",
              "      <td>17.5</td>\n",
              "      <td>18.5</td>\n",
              "      <td>1.0</td>\n",
              "      <td>1.0</td>\n",
              "      <td>0.0</td>\n",
              "    </tr>\n",
              "  </tbody>\n",
              "</table>\n",
              "</div>"
            ],
            "text/plain": [
              "date          2018-10-01  2018-10-02  ...  2018-10-06  2018-10-07\n",
              "datatype                              ...                        \n",
              "PRCP                 0.0        17.5  ...         0.0         0.0\n",
              "rolling_PRCP         0.0        17.5  ...         1.0         0.0\n",
              "\n",
              "[2 rows x 7 columns]"
            ]
          },
          "metadata": {},
          "execution_count": 26
        }
      ]
    },
    {
      "cell_type": "markdown",
      "metadata": {
        "id": "gotJNooJYS-c"
      },
      "source": [
        "* rolling을 이용해서 강수량의 합계를 나타내었다. "
      ]
    },
    {
      "cell_type": "markdown",
      "metadata": {
        "id": "bMKk7zcmSj1c"
      },
      "source": [
        "We can also perform the rolling calculations on the entire dataframe at once. This will apply the same aggregation function to each column:"
      ]
    },
    {
      "cell_type": "code",
      "metadata": {
        "id": "H74i46LtSj1c",
        "outputId": "c07ed64e-35b1-4cc1-fdb6-cabef4d49205",
        "colab": {
          "base_uri": "https://localhost:8080/",
          "height": 297
        }
      },
      "source": [
        "central_park_weather.loc['2018-10'].rolling('3D').mean().head(7).iloc[:,:6]"
      ],
      "execution_count": 27,
      "outputs": [
        {
          "output_type": "execute_result",
          "data": {
            "text/html": [
              "<div>\n",
              "<style scoped>\n",
              "    .dataframe tbody tr th:only-of-type {\n",
              "        vertical-align: middle;\n",
              "    }\n",
              "\n",
              "    .dataframe tbody tr th {\n",
              "        vertical-align: top;\n",
              "    }\n",
              "\n",
              "    .dataframe thead th {\n",
              "        text-align: right;\n",
              "    }\n",
              "</style>\n",
              "<table border=\"1\" class=\"dataframe\">\n",
              "  <thead>\n",
              "    <tr style=\"text-align: right;\">\n",
              "      <th>datatype</th>\n",
              "      <th>AWND</th>\n",
              "      <th>PRCP</th>\n",
              "      <th>SNOW</th>\n",
              "      <th>SNWD</th>\n",
              "      <th>TMAX</th>\n",
              "      <th>TMIN</th>\n",
              "    </tr>\n",
              "    <tr>\n",
              "      <th>date</th>\n",
              "      <th></th>\n",
              "      <th></th>\n",
              "      <th></th>\n",
              "      <th></th>\n",
              "      <th></th>\n",
              "      <th></th>\n",
              "    </tr>\n",
              "  </thead>\n",
              "  <tbody>\n",
              "    <tr>\n",
              "      <th>2018-10-01</th>\n",
              "      <td>0.900000</td>\n",
              "      <td>0.000000</td>\n",
              "      <td>0.0</td>\n",
              "      <td>0.0</td>\n",
              "      <td>24.400000</td>\n",
              "      <td>17.200000</td>\n",
              "    </tr>\n",
              "    <tr>\n",
              "      <th>2018-10-02</th>\n",
              "      <td>0.900000</td>\n",
              "      <td>8.750000</td>\n",
              "      <td>0.0</td>\n",
              "      <td>0.0</td>\n",
              "      <td>24.700000</td>\n",
              "      <td>17.750000</td>\n",
              "    </tr>\n",
              "    <tr>\n",
              "      <th>2018-10-03</th>\n",
              "      <td>0.966667</td>\n",
              "      <td>5.833333</td>\n",
              "      <td>0.0</td>\n",
              "      <td>0.0</td>\n",
              "      <td>24.233333</td>\n",
              "      <td>17.566667</td>\n",
              "    </tr>\n",
              "    <tr>\n",
              "      <th>2018-10-04</th>\n",
              "      <td>0.800000</td>\n",
              "      <td>6.166667</td>\n",
              "      <td>0.0</td>\n",
              "      <td>0.0</td>\n",
              "      <td>24.233333</td>\n",
              "      <td>17.200000</td>\n",
              "    </tr>\n",
              "    <tr>\n",
              "      <th>2018-10-05</th>\n",
              "      <td>1.033333</td>\n",
              "      <td>0.333333</td>\n",
              "      <td>0.0</td>\n",
              "      <td>0.0</td>\n",
              "      <td>23.133333</td>\n",
              "      <td>16.300000</td>\n",
              "    </tr>\n",
              "    <tr>\n",
              "      <th>2018-10-06</th>\n",
              "      <td>0.833333</td>\n",
              "      <td>0.333333</td>\n",
              "      <td>0.0</td>\n",
              "      <td>0.0</td>\n",
              "      <td>22.033333</td>\n",
              "      <td>16.300000</td>\n",
              "    </tr>\n",
              "    <tr>\n",
              "      <th>2018-10-07</th>\n",
              "      <td>1.066667</td>\n",
              "      <td>0.000000</td>\n",
              "      <td>0.0</td>\n",
              "      <td>0.0</td>\n",
              "      <td>22.600000</td>\n",
              "      <td>17.400000</td>\n",
              "    </tr>\n",
              "  </tbody>\n",
              "</table>\n",
              "</div>"
            ],
            "text/plain": [
              "datatype        AWND      PRCP  SNOW  SNWD       TMAX       TMIN\n",
              "date                                                            \n",
              "2018-10-01  0.900000  0.000000   0.0   0.0  24.400000  17.200000\n",
              "2018-10-02  0.900000  8.750000   0.0   0.0  24.700000  17.750000\n",
              "2018-10-03  0.966667  5.833333   0.0   0.0  24.233333  17.566667\n",
              "2018-10-04  0.800000  6.166667   0.0   0.0  24.233333  17.200000\n",
              "2018-10-05  1.033333  0.333333   0.0   0.0  23.133333  16.300000\n",
              "2018-10-06  0.833333  0.333333   0.0   0.0  22.033333  16.300000\n",
              "2018-10-07  1.066667  0.000000   0.0   0.0  22.600000  17.400000"
            ]
          },
          "metadata": {},
          "execution_count": 27
        }
      ]
    },
    {
      "cell_type": "markdown",
      "metadata": {
        "id": "hFYmgoMeYbkX"
      },
      "source": [
        "* .sum()부분을 mean()으로 해서 바꾸어 줄 수 있다는 것이다. \n",
        "* head(7)을 사용해서 7번째까지만 보고 그리고 열을 iloc[:,:6]을 사용해서 6번째 열까지만 본다는 것을 알 수 있다. "
      ]
    },
    {
      "cell_type": "markdown",
      "metadata": {
        "id": "C6WKmmS2Sj1c"
      },
      "source": [
        "We can use different aggregation functions per column if we use `agg()` instead. We pass in a dictionary mapping the column to the aggregation to perform on it. Here, we join the result to the original data to see what is happening:"
      ]
    },
    {
      "cell_type": "code",
      "metadata": {
        "id": "OJGvdDeKSj1c",
        "outputId": "f0951b1d-b72a-4976-8cf2-dd3778de8a7a",
        "colab": {
          "base_uri": "https://localhost:8080/",
          "height": 297
        }
      },
      "source": [
        "central_park_weather['2018-10-01':'2018-10-07'].rolling('3D').agg(\n",
        "    {'TMAX': 'max', 'TMIN': 'min', 'AWND': 'mean', 'PRCP': 'sum'}\n",
        ").join( # join with original data for comparison\n",
        "    central_park_weather[['TMAX', 'TMIN', 'AWND', 'PRCP']], \n",
        "    lsuffix='_rolling'\n",
        ").sort_index(axis=1) # sort columns so rolling calcs are next to originals"
      ],
      "execution_count": 28,
      "outputs": [
        {
          "output_type": "execute_result",
          "data": {
            "text/html": [
              "<div>\n",
              "<style scoped>\n",
              "    .dataframe tbody tr th:only-of-type {\n",
              "        vertical-align: middle;\n",
              "    }\n",
              "\n",
              "    .dataframe tbody tr th {\n",
              "        vertical-align: top;\n",
              "    }\n",
              "\n",
              "    .dataframe thead th {\n",
              "        text-align: right;\n",
              "    }\n",
              "</style>\n",
              "<table border=\"1\" class=\"dataframe\">\n",
              "  <thead>\n",
              "    <tr style=\"text-align: right;\">\n",
              "      <th></th>\n",
              "      <th>AWND</th>\n",
              "      <th>AWND_rolling</th>\n",
              "      <th>PRCP</th>\n",
              "      <th>PRCP_rolling</th>\n",
              "      <th>TMAX</th>\n",
              "      <th>TMAX_rolling</th>\n",
              "      <th>TMIN</th>\n",
              "      <th>TMIN_rolling</th>\n",
              "    </tr>\n",
              "    <tr>\n",
              "      <th>date</th>\n",
              "      <th></th>\n",
              "      <th></th>\n",
              "      <th></th>\n",
              "      <th></th>\n",
              "      <th></th>\n",
              "      <th></th>\n",
              "      <th></th>\n",
              "      <th></th>\n",
              "    </tr>\n",
              "  </thead>\n",
              "  <tbody>\n",
              "    <tr>\n",
              "      <th>2018-10-01</th>\n",
              "      <td>0.9</td>\n",
              "      <td>0.900000</td>\n",
              "      <td>0.0</td>\n",
              "      <td>0.0</td>\n",
              "      <td>24.4</td>\n",
              "      <td>24.4</td>\n",
              "      <td>17.2</td>\n",
              "      <td>17.2</td>\n",
              "    </tr>\n",
              "    <tr>\n",
              "      <th>2018-10-02</th>\n",
              "      <td>0.9</td>\n",
              "      <td>0.900000</td>\n",
              "      <td>17.5</td>\n",
              "      <td>17.5</td>\n",
              "      <td>25.0</td>\n",
              "      <td>25.0</td>\n",
              "      <td>18.3</td>\n",
              "      <td>17.2</td>\n",
              "    </tr>\n",
              "    <tr>\n",
              "      <th>2018-10-03</th>\n",
              "      <td>1.1</td>\n",
              "      <td>0.966667</td>\n",
              "      <td>0.0</td>\n",
              "      <td>17.5</td>\n",
              "      <td>23.3</td>\n",
              "      <td>25.0</td>\n",
              "      <td>17.2</td>\n",
              "      <td>17.2</td>\n",
              "    </tr>\n",
              "    <tr>\n",
              "      <th>2018-10-04</th>\n",
              "      <td>0.4</td>\n",
              "      <td>0.800000</td>\n",
              "      <td>1.0</td>\n",
              "      <td>18.5</td>\n",
              "      <td>24.4</td>\n",
              "      <td>25.0</td>\n",
              "      <td>16.1</td>\n",
              "      <td>16.1</td>\n",
              "    </tr>\n",
              "    <tr>\n",
              "      <th>2018-10-05</th>\n",
              "      <td>1.6</td>\n",
              "      <td>1.033333</td>\n",
              "      <td>0.0</td>\n",
              "      <td>1.0</td>\n",
              "      <td>21.7</td>\n",
              "      <td>24.4</td>\n",
              "      <td>15.6</td>\n",
              "      <td>15.6</td>\n",
              "    </tr>\n",
              "    <tr>\n",
              "      <th>2018-10-06</th>\n",
              "      <td>0.5</td>\n",
              "      <td>0.833333</td>\n",
              "      <td>0.0</td>\n",
              "      <td>1.0</td>\n",
              "      <td>20.0</td>\n",
              "      <td>24.4</td>\n",
              "      <td>17.2</td>\n",
              "      <td>15.6</td>\n",
              "    </tr>\n",
              "    <tr>\n",
              "      <th>2018-10-07</th>\n",
              "      <td>1.1</td>\n",
              "      <td>1.066667</td>\n",
              "      <td>0.0</td>\n",
              "      <td>0.0</td>\n",
              "      <td>26.1</td>\n",
              "      <td>26.1</td>\n",
              "      <td>19.4</td>\n",
              "      <td>15.6</td>\n",
              "    </tr>\n",
              "  </tbody>\n",
              "</table>\n",
              "</div>"
            ],
            "text/plain": [
              "            AWND  AWND_rolling  PRCP  ...  TMAX_rolling  TMIN  TMIN_rolling\n",
              "date                                  ...                                  \n",
              "2018-10-01   0.9      0.900000   0.0  ...          24.4  17.2          17.2\n",
              "2018-10-02   0.9      0.900000  17.5  ...          25.0  18.3          17.2\n",
              "2018-10-03   1.1      0.966667   0.0  ...          25.0  17.2          17.2\n",
              "2018-10-04   0.4      0.800000   1.0  ...          25.0  16.1          16.1\n",
              "2018-10-05   1.6      1.033333   0.0  ...          24.4  15.6          15.6\n",
              "2018-10-06   0.5      0.833333   0.0  ...          24.4  17.2          15.6\n",
              "2018-10-07   1.1      1.066667   0.0  ...          26.1  19.4          15.6\n",
              "\n",
              "[7 rows x 8 columns]"
            ]
          },
          "metadata": {},
          "execution_count": 28
        }
      ]
    },
    {
      "cell_type": "markdown",
      "metadata": {
        "id": "v3op39DTY5CK"
      },
      "source": [
        "* rolling을 따로 쓰고 싶을 때, agg를 이용해서 각 각을 따로 지정해서 사용해 줄 수 있다는 것을 알 수 있다. "
      ]
    },
    {
      "cell_type": "markdown",
      "metadata": {
        "id": "H5PXjsHxSj1c"
      },
      "source": [
        "Suppose we reindexed the Facebook stock data as we did with the S&P 500 data in chapter 3. If we were to use rolling calculations on this data, we would be including the values when the market was closed:"
      ]
    },
    {
      "cell_type": "markdown",
      "metadata": {
        "id": "-HTsOKoYaQzl"
      },
      "source": [
        "* reindexed는 실습하면서 돌려보라고 하심."
      ]
    },
    {
      "cell_type": "code",
      "metadata": {
        "id": "5aqzJD21Sj1c",
        "outputId": "56372fc8-a9d3-4f0f-eb7f-1cb862ac2e60",
        "colab": {
          "base_uri": "https://localhost:8080/",
          "height": 359
        }
      },
      "source": [
        "fb_reindexed = fb\\\n",
        "    .reindex(pd.date_range('2018-01-01', '2018-12-31', freq='D'))\\\n",
        "    .assign(\n",
        "        volume=lambda x: x.volume.fillna(0),\n",
        "        close=lambda x: x.close.fillna(method='ffill'),\n",
        "        open=lambda x: x.open.combine_first(x.close),\n",
        "        high=lambda x: x.high.combine_first(x.close),\n",
        "        low=lambda x: x.low.combine_first(x.close)\n",
        "    )\n",
        "fb_reindexed.assign(day=lambda x: x.index.day_name()).head(10)"
      ],
      "execution_count": 29,
      "outputs": [
        {
          "output_type": "execute_result",
          "data": {
            "text/html": [
              "<div>\n",
              "<style scoped>\n",
              "    .dataframe tbody tr th:only-of-type {\n",
              "        vertical-align: middle;\n",
              "    }\n",
              "\n",
              "    .dataframe tbody tr th {\n",
              "        vertical-align: top;\n",
              "    }\n",
              "\n",
              "    .dataframe thead th {\n",
              "        text-align: right;\n",
              "    }\n",
              "</style>\n",
              "<table border=\"1\" class=\"dataframe\">\n",
              "  <thead>\n",
              "    <tr style=\"text-align: right;\">\n",
              "      <th></th>\n",
              "      <th>open</th>\n",
              "      <th>high</th>\n",
              "      <th>low</th>\n",
              "      <th>close</th>\n",
              "      <th>volume</th>\n",
              "      <th>day</th>\n",
              "    </tr>\n",
              "  </thead>\n",
              "  <tbody>\n",
              "    <tr>\n",
              "      <th>2018-01-01</th>\n",
              "      <td>NaN</td>\n",
              "      <td>NaN</td>\n",
              "      <td>NaN</td>\n",
              "      <td>NaN</td>\n",
              "      <td>0.0</td>\n",
              "      <td>Monday</td>\n",
              "    </tr>\n",
              "    <tr>\n",
              "      <th>2018-01-02</th>\n",
              "      <td>177.68</td>\n",
              "      <td>181.58</td>\n",
              "      <td>177.5500</td>\n",
              "      <td>181.42</td>\n",
              "      <td>18151903.0</td>\n",
              "      <td>Tuesday</td>\n",
              "    </tr>\n",
              "    <tr>\n",
              "      <th>2018-01-03</th>\n",
              "      <td>181.88</td>\n",
              "      <td>184.78</td>\n",
              "      <td>181.3300</td>\n",
              "      <td>184.67</td>\n",
              "      <td>16886563.0</td>\n",
              "      <td>Wednesday</td>\n",
              "    </tr>\n",
              "    <tr>\n",
              "      <th>2018-01-04</th>\n",
              "      <td>184.90</td>\n",
              "      <td>186.21</td>\n",
              "      <td>184.0996</td>\n",
              "      <td>184.33</td>\n",
              "      <td>13880896.0</td>\n",
              "      <td>Thursday</td>\n",
              "    </tr>\n",
              "    <tr>\n",
              "      <th>2018-01-05</th>\n",
              "      <td>185.59</td>\n",
              "      <td>186.90</td>\n",
              "      <td>184.9300</td>\n",
              "      <td>186.85</td>\n",
              "      <td>13574535.0</td>\n",
              "      <td>Friday</td>\n",
              "    </tr>\n",
              "    <tr>\n",
              "      <th>2018-01-06</th>\n",
              "      <td>186.85</td>\n",
              "      <td>186.85</td>\n",
              "      <td>186.8500</td>\n",
              "      <td>186.85</td>\n",
              "      <td>0.0</td>\n",
              "      <td>Saturday</td>\n",
              "    </tr>\n",
              "    <tr>\n",
              "      <th>2018-01-07</th>\n",
              "      <td>186.85</td>\n",
              "      <td>186.85</td>\n",
              "      <td>186.8500</td>\n",
              "      <td>186.85</td>\n",
              "      <td>0.0</td>\n",
              "      <td>Sunday</td>\n",
              "    </tr>\n",
              "    <tr>\n",
              "      <th>2018-01-08</th>\n",
              "      <td>187.20</td>\n",
              "      <td>188.90</td>\n",
              "      <td>186.3300</td>\n",
              "      <td>188.28</td>\n",
              "      <td>17994726.0</td>\n",
              "      <td>Monday</td>\n",
              "    </tr>\n",
              "    <tr>\n",
              "      <th>2018-01-09</th>\n",
              "      <td>188.70</td>\n",
              "      <td>188.80</td>\n",
              "      <td>187.1000</td>\n",
              "      <td>187.87</td>\n",
              "      <td>12393057.0</td>\n",
              "      <td>Tuesday</td>\n",
              "    </tr>\n",
              "    <tr>\n",
              "      <th>2018-01-10</th>\n",
              "      <td>186.94</td>\n",
              "      <td>187.89</td>\n",
              "      <td>185.6300</td>\n",
              "      <td>187.84</td>\n",
              "      <td>10529894.0</td>\n",
              "      <td>Wednesday</td>\n",
              "    </tr>\n",
              "  </tbody>\n",
              "</table>\n",
              "</div>"
            ],
            "text/plain": [
              "              open    high       low   close      volume        day\n",
              "2018-01-01     NaN     NaN       NaN     NaN         0.0     Monday\n",
              "2018-01-02  177.68  181.58  177.5500  181.42  18151903.0    Tuesday\n",
              "2018-01-03  181.88  184.78  181.3300  184.67  16886563.0  Wednesday\n",
              "2018-01-04  184.90  186.21  184.0996  184.33  13880896.0   Thursday\n",
              "2018-01-05  185.59  186.90  184.9300  186.85  13574535.0     Friday\n",
              "2018-01-06  186.85  186.85  186.8500  186.85         0.0   Saturday\n",
              "2018-01-07  186.85  186.85  186.8500  186.85         0.0     Sunday\n",
              "2018-01-08  187.20  188.90  186.3300  188.28  17994726.0     Monday\n",
              "2018-01-09  188.70  188.80  187.1000  187.87  12393057.0    Tuesday\n",
              "2018-01-10  186.94  187.89  185.6300  187.84  10529894.0  Wednesday"
            ]
          },
          "metadata": {},
          "execution_count": 29
        }
      ]
    },
    {
      "cell_type": "markdown",
      "metadata": {
        "id": "VPB1jM9BSj1d"
      },
      "source": [
        "As of version 1.0, `pandas` supports defining custom windows for rolling calculations, which makes it possible for us to perform rolling calculations on the days the market was open. One way is to make a new class that inherits from `BaseIndexer` and provide the logic for determining the window bounds in the `get_window_bounds()` method (more info [here](https://pandas.pydata.org/pandas-docs/stable/user_guide/computation.html#custom-window-rolling)). For our use case, we can use the `VariableOffsetWindowIndexer` class, which was introduced in version 1.1, to perform rolling calculations over non-fixed time offsets (like business days). Let's perform a three business day rolling calculation on the reindexed Facebook stock data and join it with the reindexed data for comparison:"
      ]
    },
    {
      "cell_type": "code",
      "metadata": {
        "id": "jc9RQqXCSj1d",
        "outputId": "a126a0f0-2145-41c9-ea89-ca59fb7b3aec",
        "colab": {
          "base_uri": "https://localhost:8080/",
          "height": 549
        }
      },
      "source": [
        "from pandas.api.indexers import VariableOffsetWindowIndexer\n",
        "\n",
        "indexer = VariableOffsetWindowIndexer(\n",
        "    index=fb_reindexed.index, offset=pd.offsets.BDay(3)\n",
        ")\n",
        "fb_reindexed.assign(window_start_day=0).rolling(indexer).agg({\n",
        "    'window_start_day': lambda x: x.index.min().timestamp(),\n",
        "    'open': 'mean', 'high': 'max', 'low': 'min',\n",
        "    'close': 'mean', 'volume': 'sum'\n",
        "}).join(\n",
        "    fb_reindexed, lsuffix='_rolling'\n",
        ").sort_index(axis=1).assign(\n",
        "    day=lambda x: x.index.day_name(),\n",
        "    window_start_day=lambda x: pd.to_datetime(x.window_start_day, unit='s')\n",
        ").head(10)"
      ],
      "execution_count": 30,
      "outputs": [
        {
          "output_type": "execute_result",
          "data": {
            "text/html": [
              "<div>\n",
              "<style scoped>\n",
              "    .dataframe tbody tr th:only-of-type {\n",
              "        vertical-align: middle;\n",
              "    }\n",
              "\n",
              "    .dataframe tbody tr th {\n",
              "        vertical-align: top;\n",
              "    }\n",
              "\n",
              "    .dataframe thead th {\n",
              "        text-align: right;\n",
              "    }\n",
              "</style>\n",
              "<table border=\"1\" class=\"dataframe\">\n",
              "  <thead>\n",
              "    <tr style=\"text-align: right;\">\n",
              "      <th></th>\n",
              "      <th>close</th>\n",
              "      <th>close_rolling</th>\n",
              "      <th>high</th>\n",
              "      <th>high_rolling</th>\n",
              "      <th>low</th>\n",
              "      <th>low_rolling</th>\n",
              "      <th>open</th>\n",
              "      <th>open_rolling</th>\n",
              "      <th>volume</th>\n",
              "      <th>volume_rolling</th>\n",
              "      <th>window_start_day</th>\n",
              "      <th>day</th>\n",
              "    </tr>\n",
              "  </thead>\n",
              "  <tbody>\n",
              "    <tr>\n",
              "      <th>2018-01-01</th>\n",
              "      <td>NaN</td>\n",
              "      <td>NaN</td>\n",
              "      <td>NaN</td>\n",
              "      <td>NaN</td>\n",
              "      <td>NaN</td>\n",
              "      <td>NaN</td>\n",
              "      <td>NaN</td>\n",
              "      <td>NaN</td>\n",
              "      <td>0.0</td>\n",
              "      <td>0.0</td>\n",
              "      <td>2018-01-01</td>\n",
              "      <td>Monday</td>\n",
              "    </tr>\n",
              "    <tr>\n",
              "      <th>2018-01-02</th>\n",
              "      <td>181.42</td>\n",
              "      <td>181.420000</td>\n",
              "      <td>181.58</td>\n",
              "      <td>181.58</td>\n",
              "      <td>177.5500</td>\n",
              "      <td>177.5500</td>\n",
              "      <td>177.68</td>\n",
              "      <td>177.680000</td>\n",
              "      <td>18151903.0</td>\n",
              "      <td>18151903.0</td>\n",
              "      <td>2018-01-01</td>\n",
              "      <td>Tuesday</td>\n",
              "    </tr>\n",
              "    <tr>\n",
              "      <th>2018-01-03</th>\n",
              "      <td>184.67</td>\n",
              "      <td>183.045000</td>\n",
              "      <td>184.78</td>\n",
              "      <td>184.78</td>\n",
              "      <td>181.3300</td>\n",
              "      <td>177.5500</td>\n",
              "      <td>181.88</td>\n",
              "      <td>179.780000</td>\n",
              "      <td>16886563.0</td>\n",
              "      <td>35038466.0</td>\n",
              "      <td>2018-01-01</td>\n",
              "      <td>Wednesday</td>\n",
              "    </tr>\n",
              "    <tr>\n",
              "      <th>2018-01-04</th>\n",
              "      <td>184.33</td>\n",
              "      <td>183.473333</td>\n",
              "      <td>186.21</td>\n",
              "      <td>186.21</td>\n",
              "      <td>184.0996</td>\n",
              "      <td>177.5500</td>\n",
              "      <td>184.90</td>\n",
              "      <td>181.486667</td>\n",
              "      <td>13880896.0</td>\n",
              "      <td>48919362.0</td>\n",
              "      <td>2018-01-02</td>\n",
              "      <td>Thursday</td>\n",
              "    </tr>\n",
              "    <tr>\n",
              "      <th>2018-01-05</th>\n",
              "      <td>186.85</td>\n",
              "      <td>185.283333</td>\n",
              "      <td>186.90</td>\n",
              "      <td>186.90</td>\n",
              "      <td>184.9300</td>\n",
              "      <td>181.3300</td>\n",
              "      <td>185.59</td>\n",
              "      <td>184.123333</td>\n",
              "      <td>13574535.0</td>\n",
              "      <td>44341994.0</td>\n",
              "      <td>2018-01-03</td>\n",
              "      <td>Friday</td>\n",
              "    </tr>\n",
              "    <tr>\n",
              "      <th>2018-01-06</th>\n",
              "      <td>186.85</td>\n",
              "      <td>186.010000</td>\n",
              "      <td>186.85</td>\n",
              "      <td>186.90</td>\n",
              "      <td>186.8500</td>\n",
              "      <td>184.0996</td>\n",
              "      <td>186.85</td>\n",
              "      <td>185.780000</td>\n",
              "      <td>0.0</td>\n",
              "      <td>27455431.0</td>\n",
              "      <td>2018-01-04</td>\n",
              "      <td>Saturday</td>\n",
              "    </tr>\n",
              "    <tr>\n",
              "      <th>2018-01-07</th>\n",
              "      <td>186.85</td>\n",
              "      <td>186.220000</td>\n",
              "      <td>186.85</td>\n",
              "      <td>186.90</td>\n",
              "      <td>186.8500</td>\n",
              "      <td>184.0996</td>\n",
              "      <td>186.85</td>\n",
              "      <td>186.047500</td>\n",
              "      <td>0.0</td>\n",
              "      <td>27455431.0</td>\n",
              "      <td>2018-01-04</td>\n",
              "      <td>Sunday</td>\n",
              "    </tr>\n",
              "    <tr>\n",
              "      <th>2018-01-08</th>\n",
              "      <td>188.28</td>\n",
              "      <td>186.632000</td>\n",
              "      <td>188.90</td>\n",
              "      <td>188.90</td>\n",
              "      <td>186.3300</td>\n",
              "      <td>184.0996</td>\n",
              "      <td>187.20</td>\n",
              "      <td>186.278000</td>\n",
              "      <td>17994726.0</td>\n",
              "      <td>45450157.0</td>\n",
              "      <td>2018-01-04</td>\n",
              "      <td>Monday</td>\n",
              "    </tr>\n",
              "    <tr>\n",
              "      <th>2018-01-09</th>\n",
              "      <td>187.87</td>\n",
              "      <td>187.340000</td>\n",
              "      <td>188.80</td>\n",
              "      <td>188.90</td>\n",
              "      <td>187.1000</td>\n",
              "      <td>184.9300</td>\n",
              "      <td>188.70</td>\n",
              "      <td>187.038000</td>\n",
              "      <td>12393057.0</td>\n",
              "      <td>43962318.0</td>\n",
              "      <td>2018-01-05</td>\n",
              "      <td>Tuesday</td>\n",
              "    </tr>\n",
              "    <tr>\n",
              "      <th>2018-01-10</th>\n",
              "      <td>187.84</td>\n",
              "      <td>187.538000</td>\n",
              "      <td>187.89</td>\n",
              "      <td>188.90</td>\n",
              "      <td>185.6300</td>\n",
              "      <td>185.6300</td>\n",
              "      <td>186.94</td>\n",
              "      <td>187.308000</td>\n",
              "      <td>10529894.0</td>\n",
              "      <td>40917677.0</td>\n",
              "      <td>2018-01-06</td>\n",
              "      <td>Wednesday</td>\n",
              "    </tr>\n",
              "  </tbody>\n",
              "</table>\n",
              "</div>"
            ],
            "text/plain": [
              "             close  close_rolling  ...  window_start_day        day\n",
              "2018-01-01     NaN            NaN  ...        2018-01-01     Monday\n",
              "2018-01-02  181.42     181.420000  ...        2018-01-01    Tuesday\n",
              "2018-01-03  184.67     183.045000  ...        2018-01-01  Wednesday\n",
              "2018-01-04  184.33     183.473333  ...        2018-01-02   Thursday\n",
              "2018-01-05  186.85     185.283333  ...        2018-01-03     Friday\n",
              "2018-01-06  186.85     186.010000  ...        2018-01-04   Saturday\n",
              "2018-01-07  186.85     186.220000  ...        2018-01-04     Sunday\n",
              "2018-01-08  188.28     186.632000  ...        2018-01-04     Monday\n",
              "2018-01-09  187.87     187.340000  ...        2018-01-05    Tuesday\n",
              "2018-01-10  187.84     187.538000  ...        2018-01-06  Wednesday\n",
              "\n",
              "[10 rows x 12 columns]"
            ]
          },
          "metadata": {},
          "execution_count": 30
        }
      ]
    },
    {
      "cell_type": "markdown",
      "metadata": {
        "id": "gGDkKDEmSj1d"
      },
      "source": [
        "Rolling calculations (`rolling()`) use a sliding window. Expanding calculations (`expanding()`), however, grow in size. These are equivalent to cumulative aggregations like `cumsum()`; however, we can specify the minimum number of periods required to start calculating (default is 1), and we aren't limited to predefined aggregations. Therefore, while there is no method for the cumulative mean, we can calculate it using `expanding()`. Let's calculate the month-to-date average precipiation:"
      ]
    },
    {
      "cell_type": "markdown",
      "metadata": {
        "id": "N7w7echiadEU"
      },
      "source": [
        "### expanding 함수"
      ]
    },
    {
      "cell_type": "code",
      "metadata": {
        "id": "C6POguS9Sj1d",
        "outputId": "13355aeb-9621-4c85-e84f-0517bef9f771",
        "colab": {
          "base_uri": "https://localhost:8080/",
          "height": 173
        }
      },
      "source": [
        "central_park_weather.loc['2018-06'].assign(\n",
        "    TOTAL_PRCP=lambda x: x.PRCP.cumsum(),   #expanding().sum()을 해도 된다는 것을 알 수 있다. \n",
        "    AVG_PRCP=lambda x: x.PRCP.expanding().mean()\n",
        ").head(10)[['PRCP', 'TOTAL_PRCP', 'AVG_PRCP']].T"
      ],
      "execution_count": 31,
      "outputs": [
        {
          "output_type": "execute_result",
          "data": {
            "text/html": [
              "<div>\n",
              "<style scoped>\n",
              "    .dataframe tbody tr th:only-of-type {\n",
              "        vertical-align: middle;\n",
              "    }\n",
              "\n",
              "    .dataframe tbody tr th {\n",
              "        vertical-align: top;\n",
              "    }\n",
              "\n",
              "    .dataframe thead th {\n",
              "        text-align: right;\n",
              "    }\n",
              "</style>\n",
              "<table border=\"1\" class=\"dataframe\">\n",
              "  <thead>\n",
              "    <tr style=\"text-align: right;\">\n",
              "      <th>date</th>\n",
              "      <th>2018-06-01</th>\n",
              "      <th>2018-06-02</th>\n",
              "      <th>2018-06-03</th>\n",
              "      <th>2018-06-04</th>\n",
              "      <th>2018-06-05</th>\n",
              "      <th>2018-06-06</th>\n",
              "      <th>2018-06-07</th>\n",
              "      <th>2018-06-08</th>\n",
              "      <th>2018-06-09</th>\n",
              "      <th>2018-06-10</th>\n",
              "    </tr>\n",
              "    <tr>\n",
              "      <th>datatype</th>\n",
              "      <th></th>\n",
              "      <th></th>\n",
              "      <th></th>\n",
              "      <th></th>\n",
              "      <th></th>\n",
              "      <th></th>\n",
              "      <th></th>\n",
              "      <th></th>\n",
              "      <th></th>\n",
              "      <th></th>\n",
              "    </tr>\n",
              "  </thead>\n",
              "  <tbody>\n",
              "    <tr>\n",
              "      <th>PRCP</th>\n",
              "      <td>6.9</td>\n",
              "      <td>2.00</td>\n",
              "      <td>6.4</td>\n",
              "      <td>4.10</td>\n",
              "      <td>0.00</td>\n",
              "      <td>0.000000</td>\n",
              "      <td>0.000000</td>\n",
              "      <td>0.000</td>\n",
              "      <td>0.000000</td>\n",
              "      <td>0.30</td>\n",
              "    </tr>\n",
              "    <tr>\n",
              "      <th>TOTAL_PRCP</th>\n",
              "      <td>6.9</td>\n",
              "      <td>8.90</td>\n",
              "      <td>15.3</td>\n",
              "      <td>19.40</td>\n",
              "      <td>19.40</td>\n",
              "      <td>19.400000</td>\n",
              "      <td>19.400000</td>\n",
              "      <td>19.400</td>\n",
              "      <td>19.400000</td>\n",
              "      <td>19.70</td>\n",
              "    </tr>\n",
              "    <tr>\n",
              "      <th>AVG_PRCP</th>\n",
              "      <td>6.9</td>\n",
              "      <td>4.45</td>\n",
              "      <td>5.1</td>\n",
              "      <td>4.85</td>\n",
              "      <td>3.88</td>\n",
              "      <td>3.233333</td>\n",
              "      <td>2.771429</td>\n",
              "      <td>2.425</td>\n",
              "      <td>2.155556</td>\n",
              "      <td>1.97</td>\n",
              "    </tr>\n",
              "  </tbody>\n",
              "</table>\n",
              "</div>"
            ],
            "text/plain": [
              "date        2018-06-01  2018-06-02  ...  2018-06-09  2018-06-10\n",
              "datatype                            ...                        \n",
              "PRCP               6.9        2.00  ...    0.000000        0.30\n",
              "TOTAL_PRCP         6.9        8.90  ...   19.400000       19.70\n",
              "AVG_PRCP           6.9        4.45  ...    2.155556        1.97\n",
              "\n",
              "[3 rows x 10 columns]"
            ]
          },
          "metadata": {},
          "execution_count": 31
        }
      ]
    },
    {
      "cell_type": "markdown",
      "metadata": {
        "id": "VHKNKASxSj1d"
      },
      "source": [
        "We can also use `agg()` to specify aggregations per column. Note that this works with NumPy functions as well. Here, we join the expanding calculations with the original results for comparison:"
      ]
    },
    {
      "cell_type": "code",
      "metadata": {
        "id": "ja9fhFZQSj1d",
        "outputId": "4a065d99-2076-48bc-8fc4-e0ea8f3e8f07",
        "colab": {
          "base_uri": "https://localhost:8080/",
          "height": 297
        }
      },
      "source": [
        "central_park_weather['2018-10-01':'2018-10-07'].expanding().agg(\n",
        "    {'TMAX': np.max, 'TMIN': np.min, 'AWND': np.mean, 'PRCP': np.sum}\n",
        ").join(\n",
        "    central_park_weather[['TMAX', 'TMIN', 'AWND', 'PRCP']], \n",
        "    lsuffix='_expanding'\n",
        ").sort_index(axis=1)"
      ],
      "execution_count": 32,
      "outputs": [
        {
          "output_type": "execute_result",
          "data": {
            "text/html": [
              "<div>\n",
              "<style scoped>\n",
              "    .dataframe tbody tr th:only-of-type {\n",
              "        vertical-align: middle;\n",
              "    }\n",
              "\n",
              "    .dataframe tbody tr th {\n",
              "        vertical-align: top;\n",
              "    }\n",
              "\n",
              "    .dataframe thead th {\n",
              "        text-align: right;\n",
              "    }\n",
              "</style>\n",
              "<table border=\"1\" class=\"dataframe\">\n",
              "  <thead>\n",
              "    <tr style=\"text-align: right;\">\n",
              "      <th></th>\n",
              "      <th>AWND</th>\n",
              "      <th>AWND_expanding</th>\n",
              "      <th>PRCP</th>\n",
              "      <th>PRCP_expanding</th>\n",
              "      <th>TMAX</th>\n",
              "      <th>TMAX_expanding</th>\n",
              "      <th>TMIN</th>\n",
              "      <th>TMIN_expanding</th>\n",
              "    </tr>\n",
              "    <tr>\n",
              "      <th>date</th>\n",
              "      <th></th>\n",
              "      <th></th>\n",
              "      <th></th>\n",
              "      <th></th>\n",
              "      <th></th>\n",
              "      <th></th>\n",
              "      <th></th>\n",
              "      <th></th>\n",
              "    </tr>\n",
              "  </thead>\n",
              "  <tbody>\n",
              "    <tr>\n",
              "      <th>2018-10-01</th>\n",
              "      <td>0.9</td>\n",
              "      <td>0.900000</td>\n",
              "      <td>0.0</td>\n",
              "      <td>0.0</td>\n",
              "      <td>24.4</td>\n",
              "      <td>24.4</td>\n",
              "      <td>17.2</td>\n",
              "      <td>17.2</td>\n",
              "    </tr>\n",
              "    <tr>\n",
              "      <th>2018-10-02</th>\n",
              "      <td>0.9</td>\n",
              "      <td>0.900000</td>\n",
              "      <td>17.5</td>\n",
              "      <td>17.5</td>\n",
              "      <td>25.0</td>\n",
              "      <td>25.0</td>\n",
              "      <td>18.3</td>\n",
              "      <td>17.2</td>\n",
              "    </tr>\n",
              "    <tr>\n",
              "      <th>2018-10-03</th>\n",
              "      <td>1.1</td>\n",
              "      <td>0.966667</td>\n",
              "      <td>0.0</td>\n",
              "      <td>17.5</td>\n",
              "      <td>23.3</td>\n",
              "      <td>25.0</td>\n",
              "      <td>17.2</td>\n",
              "      <td>17.2</td>\n",
              "    </tr>\n",
              "    <tr>\n",
              "      <th>2018-10-04</th>\n",
              "      <td>0.4</td>\n",
              "      <td>0.825000</td>\n",
              "      <td>1.0</td>\n",
              "      <td>18.5</td>\n",
              "      <td>24.4</td>\n",
              "      <td>25.0</td>\n",
              "      <td>16.1</td>\n",
              "      <td>16.1</td>\n",
              "    </tr>\n",
              "    <tr>\n",
              "      <th>2018-10-05</th>\n",
              "      <td>1.6</td>\n",
              "      <td>0.980000</td>\n",
              "      <td>0.0</td>\n",
              "      <td>18.5</td>\n",
              "      <td>21.7</td>\n",
              "      <td>25.0</td>\n",
              "      <td>15.6</td>\n",
              "      <td>15.6</td>\n",
              "    </tr>\n",
              "    <tr>\n",
              "      <th>2018-10-06</th>\n",
              "      <td>0.5</td>\n",
              "      <td>0.900000</td>\n",
              "      <td>0.0</td>\n",
              "      <td>18.5</td>\n",
              "      <td>20.0</td>\n",
              "      <td>25.0</td>\n",
              "      <td>17.2</td>\n",
              "      <td>15.6</td>\n",
              "    </tr>\n",
              "    <tr>\n",
              "      <th>2018-10-07</th>\n",
              "      <td>1.1</td>\n",
              "      <td>0.928571</td>\n",
              "      <td>0.0</td>\n",
              "      <td>18.5</td>\n",
              "      <td>26.1</td>\n",
              "      <td>26.1</td>\n",
              "      <td>19.4</td>\n",
              "      <td>15.6</td>\n",
              "    </tr>\n",
              "  </tbody>\n",
              "</table>\n",
              "</div>"
            ],
            "text/plain": [
              "            AWND  AWND_expanding  PRCP  ...  TMAX_expanding  TMIN  TMIN_expanding\n",
              "date                                    ...                                      \n",
              "2018-10-01   0.9        0.900000   0.0  ...            24.4  17.2            17.2\n",
              "2018-10-02   0.9        0.900000  17.5  ...            25.0  18.3            17.2\n",
              "2018-10-03   1.1        0.966667   0.0  ...            25.0  17.2            17.2\n",
              "2018-10-04   0.4        0.825000   1.0  ...            25.0  16.1            16.1\n",
              "2018-10-05   1.6        0.980000   0.0  ...            25.0  15.6            15.6\n",
              "2018-10-06   0.5        0.900000   0.0  ...            25.0  17.2            15.6\n",
              "2018-10-07   1.1        0.928571   0.0  ...            26.1  19.4            15.6\n",
              "\n",
              "[7 rows x 8 columns]"
            ]
          },
          "metadata": {},
          "execution_count": 32
        }
      ]
    },
    {
      "cell_type": "markdown",
      "metadata": {
        "id": "9BnTFiAwbb_J"
      },
      "source": [
        "* expanding도 컬럼별로 다를게 해 줄 수 있다는 것이다.  "
      ]
    },
    {
      "cell_type": "markdown",
      "metadata": {
        "id": "JHfMGb65Sj1e"
      },
      "source": [
        "Pandas provides the `ewm()` method for exponentially weighted moving calculations. As we saw in chapter 1, we can use the exponentially weighted moving average to smooth the data. Let's compare the rolling mean to the exponentially weighted moving average with the maximum daily temperature. Note that `span` here is the periods to use:"
      ]
    },
    {
      "cell_type": "code",
      "metadata": {
        "id": "pjlF3zIgSj1e",
        "outputId": "a1d2ab50-15bb-4471-e056-90383ef6820d",
        "colab": {
          "base_uri": "https://localhost:8080/",
          "height": 173
        }
      },
      "source": [
        "central_park_weather.assign(\n",
        "    AVG=lambda x: x.TMAX.rolling('30D').mean(),\n",
        "    EWMA=lambda x: x.TMAX.ewm(span=30).mean()\n",
        ").loc['2018-09-29':'2018-10-08', ['TMAX', 'EWMA', 'AVG']].T"
      ],
      "execution_count": 33,
      "outputs": [
        {
          "output_type": "execute_result",
          "data": {
            "text/html": [
              "<div>\n",
              "<style scoped>\n",
              "    .dataframe tbody tr th:only-of-type {\n",
              "        vertical-align: middle;\n",
              "    }\n",
              "\n",
              "    .dataframe tbody tr th {\n",
              "        vertical-align: top;\n",
              "    }\n",
              "\n",
              "    .dataframe thead th {\n",
              "        text-align: right;\n",
              "    }\n",
              "</style>\n",
              "<table border=\"1\" class=\"dataframe\">\n",
              "  <thead>\n",
              "    <tr style=\"text-align: right;\">\n",
              "      <th>date</th>\n",
              "      <th>2018-09-29</th>\n",
              "      <th>2018-09-30</th>\n",
              "      <th>2018-10-01</th>\n",
              "      <th>2018-10-02</th>\n",
              "      <th>2018-10-03</th>\n",
              "      <th>2018-10-04</th>\n",
              "      <th>2018-10-05</th>\n",
              "      <th>2018-10-06</th>\n",
              "      <th>2018-10-07</th>\n",
              "      <th>2018-10-08</th>\n",
              "    </tr>\n",
              "    <tr>\n",
              "      <th>datatype</th>\n",
              "      <th></th>\n",
              "      <th></th>\n",
              "      <th></th>\n",
              "      <th></th>\n",
              "      <th></th>\n",
              "      <th></th>\n",
              "      <th></th>\n",
              "      <th></th>\n",
              "      <th></th>\n",
              "      <th></th>\n",
              "    </tr>\n",
              "  </thead>\n",
              "  <tbody>\n",
              "    <tr>\n",
              "      <th>TMAX</th>\n",
              "      <td>22.200000</td>\n",
              "      <td>21.100000</td>\n",
              "      <td>24.400000</td>\n",
              "      <td>25.000000</td>\n",
              "      <td>23.300000</td>\n",
              "      <td>24.400000</td>\n",
              "      <td>21.700000</td>\n",
              "      <td>20.000000</td>\n",
              "      <td>26.100000</td>\n",
              "      <td>23.300000</td>\n",
              "    </tr>\n",
              "    <tr>\n",
              "      <th>EWMA</th>\n",
              "      <td>24.410887</td>\n",
              "      <td>24.197281</td>\n",
              "      <td>24.210360</td>\n",
              "      <td>24.261304</td>\n",
              "      <td>24.199285</td>\n",
              "      <td>24.212234</td>\n",
              "      <td>24.050154</td>\n",
              "      <td>23.788854</td>\n",
              "      <td>23.937960</td>\n",
              "      <td>23.896802</td>\n",
              "    </tr>\n",
              "    <tr>\n",
              "      <th>AVG</th>\n",
              "      <td>24.723333</td>\n",
              "      <td>24.573333</td>\n",
              "      <td>24.533333</td>\n",
              "      <td>24.460000</td>\n",
              "      <td>24.163333</td>\n",
              "      <td>23.866667</td>\n",
              "      <td>23.533333</td>\n",
              "      <td>23.070000</td>\n",
              "      <td>23.143333</td>\n",
              "      <td>23.196667</td>\n",
              "    </tr>\n",
              "  </tbody>\n",
              "</table>\n",
              "</div>"
            ],
            "text/plain": [
              "date      2018-09-29  2018-09-30  ...  2018-10-07  2018-10-08\n",
              "datatype                          ...                        \n",
              "TMAX       22.200000   21.100000  ...   26.100000   23.300000\n",
              "EWMA       24.410887   24.197281  ...   23.937960   23.896802\n",
              "AVG        24.723333   24.573333  ...   23.143333   23.196667\n",
              "\n",
              "[3 rows x 10 columns]"
            ]
          },
          "metadata": {},
          "execution_count": 33
        }
      ]
    },
    {
      "cell_type": "markdown",
      "metadata": {
        "id": "fPi-65l9Sj1e"
      },
      "source": [
        "*Consult the [`understanding_window_calculations.ipynb`](./understanding_window_calculations.ipynb) notebook for interactive visualizations to help understand window calculations.*\n",
        "\n",
        "## Pipes\n",
        "Pipes are a way to streamline our `pandas` code and make it more readable and flexible. Using pipes, we can take a nested call like \n",
        "\n",
        "```python\n",
        "f(g(h(data), 20), x=True)\n",
        "```\n",
        "\n",
        "and turn it into something more readable:\n",
        "\n",
        "```python\n",
        "data.pipe(h)\\\n",
        "    .pipe(g, 20)\\\n",
        "    .pipe(f, x=True)\\\n",
        "```\n",
        "\n",
        "We can use pipes to apply any function that accepts our data as the first argument and pass in any additional arguments. This makes it easy to chain steps together regardless of whether they are methods or functions:\n",
        "\n",
        "We can pass any function that will accept the caller of `pipe()` as the first argument:"
      ]
    },
    {
      "cell_type": "markdown",
      "metadata": {
        "id": "o7mDw_M6b-He"
      },
      "source": [
        "### pipes operation도 쭉해보면서 실습해보라고 하심."
      ]
    },
    {
      "cell_type": "code",
      "metadata": {
        "id": "rFDlseTeSj1e",
        "outputId": "5480a713-c648-4cc6-e2b4-f6db63706da4",
        "colab": {
          "base_uri": "https://localhost:8080/"
        }
      },
      "source": [
        "def get_info(df):\n",
        "    return '%d rows, %d columns and max closing Z-score was %d' % (*df.shape, df.close.max())\n",
        "\n",
        "get_info(fb.loc['2018-Q1'].apply(lambda x: (x - x.mean())/x.std()))\\\n",
        "    == fb.loc['2018-Q1'].apply(lambda x: (x - x.mean())/x.std()).pipe(get_info)"
      ],
      "execution_count": 34,
      "outputs": [
        {
          "output_type": "execute_result",
          "data": {
            "text/plain": [
              "True"
            ]
          },
          "metadata": {},
          "execution_count": 34
        }
      ]
    },
    {
      "cell_type": "markdown",
      "metadata": {
        "id": "iT54eVj_Sj1g"
      },
      "source": [
        "For example, passing `pd.DataFrame.rolling` to `pipe()` is equivalent to calling `rolling()` directly on the dataframe, except we have more flexiblity to change this:"
      ]
    },
    {
      "cell_type": "code",
      "metadata": {
        "id": "oOftBDgbSj1h",
        "outputId": "fff94a5c-9f51-47ec-8b6b-e9a039169363",
        "colab": {
          "base_uri": "https://localhost:8080/"
        }
      },
      "source": [
        "fb.pipe(pd.DataFrame.rolling, '20D').mean().equals(fb.rolling('20D').mean())"
      ],
      "execution_count": 35,
      "outputs": [
        {
          "output_type": "execute_result",
          "data": {
            "text/plain": [
              "True"
            ]
          },
          "metadata": {},
          "execution_count": 35
        }
      ]
    },
    {
      "cell_type": "markdown",
      "metadata": {
        "id": "1bipJ2b3Sj1h"
      },
      "source": [
        "The pipe takes the function passed in and calls it with the object that called `pipe()` as the first argument. Positional and keyword arguments are passed down:"
      ]
    },
    {
      "cell_type": "code",
      "metadata": {
        "id": "r-6qukvsSj1h",
        "outputId": "8b79869b-c778-44ab-cdcf-b886f2a86b46",
        "colab": {
          "base_uri": "https://localhost:8080/"
        }
      },
      "source": [
        "pd.DataFrame.rolling(fb, '20D').mean().equals(fb.rolling('20D').mean())"
      ],
      "execution_count": 36,
      "outputs": [
        {
          "output_type": "execute_result",
          "data": {
            "text/plain": [
              "True"
            ]
          },
          "metadata": {},
          "execution_count": 36
        }
      ]
    },
    {
      "cell_type": "markdown",
      "metadata": {
        "id": "l0Boez-PSj1h"
      },
      "source": [
        "We can use a pipe to make a function that we can use for all of our window calculation needs:"
      ]
    },
    {
      "cell_type": "code",
      "metadata": {
        "id": "3Xze3QU0Sj1h"
      },
      "source": [
        "from window_calc import window_calc\n",
        "window_calc??"
      ],
      "execution_count": 37,
      "outputs": []
    },
    {
      "cell_type": "markdown",
      "metadata": {
        "id": "UrzJ0opASj1h"
      },
      "source": [
        "We can use the same interface to calculate various window calculations now. Let's find the expanding median for the Facebook data:"
      ]
    },
    {
      "cell_type": "code",
      "metadata": {
        "id": "vtQTjO7ESj1h",
        "outputId": "b0f56333-4be2-4e9a-b307-4c94e6675919",
        "colab": {
          "base_uri": "https://localhost:8080/",
          "height": 235
        }
      },
      "source": [
        "window_calc(fb, pd.DataFrame.expanding, np.median).head()"
      ],
      "execution_count": 38,
      "outputs": [
        {
          "output_type": "execute_result",
          "data": {
            "text/html": [
              "<div>\n",
              "<style scoped>\n",
              "    .dataframe tbody tr th:only-of-type {\n",
              "        vertical-align: middle;\n",
              "    }\n",
              "\n",
              "    .dataframe tbody tr th {\n",
              "        vertical-align: top;\n",
              "    }\n",
              "\n",
              "    .dataframe thead th {\n",
              "        text-align: right;\n",
              "    }\n",
              "</style>\n",
              "<table border=\"1\" class=\"dataframe\">\n",
              "  <thead>\n",
              "    <tr style=\"text-align: right;\">\n",
              "      <th></th>\n",
              "      <th>open</th>\n",
              "      <th>high</th>\n",
              "      <th>low</th>\n",
              "      <th>close</th>\n",
              "      <th>volume</th>\n",
              "    </tr>\n",
              "    <tr>\n",
              "      <th>date</th>\n",
              "      <th></th>\n",
              "      <th></th>\n",
              "      <th></th>\n",
              "      <th></th>\n",
              "      <th></th>\n",
              "    </tr>\n",
              "  </thead>\n",
              "  <tbody>\n",
              "    <tr>\n",
              "      <th>2018-01-02</th>\n",
              "      <td>177.68</td>\n",
              "      <td>181.580</td>\n",
              "      <td>177.5500</td>\n",
              "      <td>181.420</td>\n",
              "      <td>18151903.0</td>\n",
              "    </tr>\n",
              "    <tr>\n",
              "      <th>2018-01-03</th>\n",
              "      <td>179.78</td>\n",
              "      <td>183.180</td>\n",
              "      <td>179.4400</td>\n",
              "      <td>183.045</td>\n",
              "      <td>17519233.0</td>\n",
              "    </tr>\n",
              "    <tr>\n",
              "      <th>2018-01-04</th>\n",
              "      <td>181.88</td>\n",
              "      <td>184.780</td>\n",
              "      <td>181.3300</td>\n",
              "      <td>184.330</td>\n",
              "      <td>16886563.0</td>\n",
              "    </tr>\n",
              "    <tr>\n",
              "      <th>2018-01-05</th>\n",
              "      <td>183.39</td>\n",
              "      <td>185.495</td>\n",
              "      <td>182.7148</td>\n",
              "      <td>184.500</td>\n",
              "      <td>15383729.5</td>\n",
              "    </tr>\n",
              "    <tr>\n",
              "      <th>2018-01-08</th>\n",
              "      <td>184.90</td>\n",
              "      <td>186.210</td>\n",
              "      <td>184.0996</td>\n",
              "      <td>184.670</td>\n",
              "      <td>16886563.0</td>\n",
              "    </tr>\n",
              "  </tbody>\n",
              "</table>\n",
              "</div>"
            ],
            "text/plain": [
              "              open     high       low    close      volume\n",
              "date                                                      \n",
              "2018-01-02  177.68  181.580  177.5500  181.420  18151903.0\n",
              "2018-01-03  179.78  183.180  179.4400  183.045  17519233.0\n",
              "2018-01-04  181.88  184.780  181.3300  184.330  16886563.0\n",
              "2018-01-05  183.39  185.495  182.7148  184.500  15383729.5\n",
              "2018-01-08  184.90  186.210  184.0996  184.670  16886563.0"
            ]
          },
          "metadata": {},
          "execution_count": 38
        }
      ]
    },
    {
      "cell_type": "markdown",
      "metadata": {
        "id": "uAWSLz7WSj1h"
      },
      "source": [
        "Using the exponentially weighted moving average requires we pass in a keyword argument:"
      ]
    },
    {
      "cell_type": "code",
      "metadata": {
        "id": "oB9bMEGLSj1h",
        "outputId": "e151594d-0a11-4a40-e35a-b7c418089a4b",
        "colab": {
          "base_uri": "https://localhost:8080/",
          "height": 235
        }
      },
      "source": [
        "window_calc(fb, pd.DataFrame.ewm, 'mean', span=3).head()"
      ],
      "execution_count": 39,
      "outputs": [
        {
          "output_type": "execute_result",
          "data": {
            "text/html": [
              "<div>\n",
              "<style scoped>\n",
              "    .dataframe tbody tr th:only-of-type {\n",
              "        vertical-align: middle;\n",
              "    }\n",
              "\n",
              "    .dataframe tbody tr th {\n",
              "        vertical-align: top;\n",
              "    }\n",
              "\n",
              "    .dataframe thead th {\n",
              "        text-align: right;\n",
              "    }\n",
              "</style>\n",
              "<table border=\"1\" class=\"dataframe\">\n",
              "  <thead>\n",
              "    <tr style=\"text-align: right;\">\n",
              "      <th></th>\n",
              "      <th>open</th>\n",
              "      <th>high</th>\n",
              "      <th>low</th>\n",
              "      <th>close</th>\n",
              "      <th>volume</th>\n",
              "    </tr>\n",
              "    <tr>\n",
              "      <th>date</th>\n",
              "      <th></th>\n",
              "      <th></th>\n",
              "      <th></th>\n",
              "      <th></th>\n",
              "      <th></th>\n",
              "    </tr>\n",
              "  </thead>\n",
              "  <tbody>\n",
              "    <tr>\n",
              "      <th>2018-01-02</th>\n",
              "      <td>177.680000</td>\n",
              "      <td>181.580000</td>\n",
              "      <td>177.550000</td>\n",
              "      <td>181.420000</td>\n",
              "      <td>1.815190e+07</td>\n",
              "    </tr>\n",
              "    <tr>\n",
              "      <th>2018-01-03</th>\n",
              "      <td>180.480000</td>\n",
              "      <td>183.713333</td>\n",
              "      <td>180.070000</td>\n",
              "      <td>183.586667</td>\n",
              "      <td>1.730834e+07</td>\n",
              "    </tr>\n",
              "    <tr>\n",
              "      <th>2018-01-04</th>\n",
              "      <td>183.005714</td>\n",
              "      <td>185.140000</td>\n",
              "      <td>182.372629</td>\n",
              "      <td>184.011429</td>\n",
              "      <td>1.534980e+07</td>\n",
              "    </tr>\n",
              "    <tr>\n",
              "      <th>2018-01-05</th>\n",
              "      <td>184.384000</td>\n",
              "      <td>186.078667</td>\n",
              "      <td>183.736560</td>\n",
              "      <td>185.525333</td>\n",
              "      <td>1.440299e+07</td>\n",
              "    </tr>\n",
              "    <tr>\n",
              "      <th>2018-01-08</th>\n",
              "      <td>185.837419</td>\n",
              "      <td>187.534839</td>\n",
              "      <td>185.075110</td>\n",
              "      <td>186.947097</td>\n",
              "      <td>1.625679e+07</td>\n",
              "    </tr>\n",
              "  </tbody>\n",
              "</table>\n",
              "</div>"
            ],
            "text/plain": [
              "                  open        high         low       close        volume\n",
              "date                                                                    \n",
              "2018-01-02  177.680000  181.580000  177.550000  181.420000  1.815190e+07\n",
              "2018-01-03  180.480000  183.713333  180.070000  183.586667  1.730834e+07\n",
              "2018-01-04  183.005714  185.140000  182.372629  184.011429  1.534980e+07\n",
              "2018-01-05  184.384000  186.078667  183.736560  185.525333  1.440299e+07\n",
              "2018-01-08  185.837419  187.534839  185.075110  186.947097  1.625679e+07"
            ]
          },
          "metadata": {},
          "execution_count": 39
        }
      ]
    },
    {
      "cell_type": "markdown",
      "metadata": {
        "id": "qEEmEKyQSj1i"
      },
      "source": [
        "With rolling calculations, we can pass in a positional argument for the window size:"
      ]
    },
    {
      "cell_type": "code",
      "metadata": {
        "id": "7VnnkM_tSj1i",
        "outputId": "0b03df22-285d-4454-f250-4cdb8cee8eb5",
        "colab": {
          "base_uri": "https://localhost:8080/",
          "height": 235
        }
      },
      "source": [
        "window_calc(\n",
        "    central_park_weather.loc['2018-10'], \n",
        "    pd.DataFrame.rolling, \n",
        "    {'TMAX': 'max', 'TMIN': 'min', 'AWND': 'mean', 'PRCP': 'sum'},\n",
        "    '3D'\n",
        ").head()"
      ],
      "execution_count": 40,
      "outputs": [
        {
          "output_type": "execute_result",
          "data": {
            "text/html": [
              "<div>\n",
              "<style scoped>\n",
              "    .dataframe tbody tr th:only-of-type {\n",
              "        vertical-align: middle;\n",
              "    }\n",
              "\n",
              "    .dataframe tbody tr th {\n",
              "        vertical-align: top;\n",
              "    }\n",
              "\n",
              "    .dataframe thead th {\n",
              "        text-align: right;\n",
              "    }\n",
              "</style>\n",
              "<table border=\"1\" class=\"dataframe\">\n",
              "  <thead>\n",
              "    <tr style=\"text-align: right;\">\n",
              "      <th></th>\n",
              "      <th>TMAX</th>\n",
              "      <th>TMIN</th>\n",
              "      <th>AWND</th>\n",
              "      <th>PRCP</th>\n",
              "    </tr>\n",
              "    <tr>\n",
              "      <th>date</th>\n",
              "      <th></th>\n",
              "      <th></th>\n",
              "      <th></th>\n",
              "      <th></th>\n",
              "    </tr>\n",
              "  </thead>\n",
              "  <tbody>\n",
              "    <tr>\n",
              "      <th>2018-10-01</th>\n",
              "      <td>24.4</td>\n",
              "      <td>17.2</td>\n",
              "      <td>0.900000</td>\n",
              "      <td>0.0</td>\n",
              "    </tr>\n",
              "    <tr>\n",
              "      <th>2018-10-02</th>\n",
              "      <td>25.0</td>\n",
              "      <td>17.2</td>\n",
              "      <td>0.900000</td>\n",
              "      <td>17.5</td>\n",
              "    </tr>\n",
              "    <tr>\n",
              "      <th>2018-10-03</th>\n",
              "      <td>25.0</td>\n",
              "      <td>17.2</td>\n",
              "      <td>0.966667</td>\n",
              "      <td>17.5</td>\n",
              "    </tr>\n",
              "    <tr>\n",
              "      <th>2018-10-04</th>\n",
              "      <td>25.0</td>\n",
              "      <td>16.1</td>\n",
              "      <td>0.800000</td>\n",
              "      <td>18.5</td>\n",
              "    </tr>\n",
              "    <tr>\n",
              "      <th>2018-10-05</th>\n",
              "      <td>24.4</td>\n",
              "      <td>15.6</td>\n",
              "      <td>1.033333</td>\n",
              "      <td>1.0</td>\n",
              "    </tr>\n",
              "  </tbody>\n",
              "</table>\n",
              "</div>"
            ],
            "text/plain": [
              "            TMAX  TMIN      AWND  PRCP\n",
              "date                                  \n",
              "2018-10-01  24.4  17.2  0.900000   0.0\n",
              "2018-10-02  25.0  17.2  0.900000  17.5\n",
              "2018-10-03  25.0  17.2  0.966667  17.5\n",
              "2018-10-04  25.0  16.1  0.800000  18.5\n",
              "2018-10-05  24.4  15.6  1.033333   1.0"
            ]
          },
          "metadata": {},
          "execution_count": 40
        }
      ]
    },
    {
      "cell_type": "markdown",
      "metadata": {
        "id": "Ek4Ky_lkSj1i"
      },
      "source": [
        "<hr>\n",
        "<div style=\"overflow: hidden; margin-bottom: 10px;\">\n",
        "    <div style=\"float: left;\">\n",
        "         <a href=\"./1-querying_and_merging.ipynb\">\n",
        "            <button>&#8592; Previous Notebook</button>\n",
        "        </a>\n",
        "        <a href=\"./understanding_window_calculations.ipynb\">\n",
        "            <button>Understanding Window Calculations</button>\n",
        "        </a>\n",
        "    </div>\n",
        "    <div style=\"float: right;\">\n",
        "        <a href=\"./3-aggregations.ipynb\">\n",
        "            <button>Next Notebook &#8594;</button>\n",
        "        </a>\n",
        "    </div>\n",
        "</div>\n",
        "<hr>"
      ]
    }
  ]
}